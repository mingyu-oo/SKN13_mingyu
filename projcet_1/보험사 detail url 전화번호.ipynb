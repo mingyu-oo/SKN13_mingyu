{
 "cells": [
  {
   "cell_type": "code",
   "execution_count": 4,
   "id": "a5dd1f59-8e07-4783-bddd-dbd519316f51",
   "metadata": {},
   "outputs": [
    {
     "name": "stdout",
     "output_type": "stream",
     "text": [
      "✅ '보험사_URL_전화번호.csv' 저장 완료!\n"
     ]
    }
   ],
   "source": [
    "from selenium import webdriver\n",
    "from selenium.webdriver.chrome.options import Options\n",
    "from bs4 import BeautifulSoup\n",
    "import pandas as pd\n",
    "import time\n",
    "\n",
    "# 크롬 옵션 설정\n",
    "options = Options()\n",
    "options.add_argument('--headless')\n",
    "options.add_argument('--no-sandbox')\n",
    "options.add_argument('--disable-dev-shm-usage')\n",
    "\n",
    "# 드라이버 실행\n",
    "driver = webdriver.Chrome(options=options)\n",
    "\n",
    "# 웹페이지 열기\n",
    "url = 'https://carinfo.knia.or.kr/lmxsrv/cnswc/icnyCnswcList.do'\n",
    "driver.get(url)\n",
    "time.sleep(3)\n",
    "\n",
    "# HTML 파싱\n",
    "html = driver.page_source\n",
    "soup = BeautifulSoup(html, 'html.parser')\n",
    "\n",
    "results = []\n",
    "\n",
    "companies = soup.select('div.con-box')\n",
    "for company in companies:\n",
    "    company_name = company.select_one('h4').text.strip()\n",
    "\n",
    "    # 전화번호: \"전화 :\"가 포함된 li에서 텍스트 추출\n",
    "    phone = ''\n",
    "    for li in company.select('ul li'):\n",
    "        if '전화' in li.text:\n",
    "            phone = li.get_text(strip=True).replace('전화 :', '').strip()\n",
    "            break\n",
    "\n",
    "    # 버튼 URL 추출\n",
    "    buttons = company.select('div.btn-box button')\n",
    "    urls = []\n",
    "    for btn in buttons:\n",
    "        onclick = btn.get('onclick')\n",
    "        if onclick:\n",
    "            start = onclick.find(\"'\") + 1\n",
    "            end = onclick.rfind(\"'\")\n",
    "            extracted_url = onclick[start:end]\n",
    "            urls.append(extracted_url)\n",
    "\n",
    "    results.append({\n",
    "        '회사명': company_name,\n",
    "        '대표번호': phone,\n",
    "        '상담센터': urls[0] if len(urls) > 0 else '',\n",
    "        '민원창구': urls[1] if len(urls) > 1 else ''\n",
    "    })\n",
    "\n",
    "driver.quit()\n",
    "\n",
    "# CSV 저장\n",
    "df = pd.DataFrame(results)\n",
    "df.to_csv('보험사_URL_전화번호.csv', index=False, encoding='utf-8-sig')\n",
    "print(\"✅ '보험사_URL_전화번호.csv' 저장 완료!\")\n"
   ]
  },
  {
   "cell_type": "code",
   "execution_count": 2,
   "id": "34dec851-78a9-479d-96cb-583d3b3198cf",
   "metadata": {},
   "outputs": [
    {
     "ename": "SyntaxError",
     "evalue": "incomplete input (688089226.py, line 2)",
     "output_type": "error",
     "traceback": [
      "  \u001b[36mCell\u001b[39m\u001b[36m \u001b[39m\u001b[32mIn[2]\u001b[39m\u001b[32m, line 2\u001b[39m\n\u001b[31m    \u001b[39m\u001b[31mwith conn.cursor() as cursor:\u001b[39m\n                                 ^\n\u001b[31mSyntaxError\u001b[39m\u001b[31m:\u001b[39m incomplete input\n"
     ]
    }
   ],
   "source": [
    "import pymysql\n",
    "\n",
    "with pymysql.connect(host=\"127.0.0.1\", port=3306, user='playdata', password='1111', db='mydb') as conn:\n",
    "    with conn.cursor() as cursor:"
   ]
  },
  {
   "cell_type": "code",
   "execution_count": null,
   "id": "5a61b766-253d-48c2-8777-04aa60bb9f0a",
   "metadata": {},
   "outputs": [],
   "source": []
  }
 ],
 "metadata": {
  "kernelspec": {
   "display_name": "Python 3 (ipykernel)",
   "language": "python",
   "name": "python3"
  },
  "language_info": {
   "codemirror_mode": {
    "name": "ipython",
    "version": 3
   },
   "file_extension": ".py",
   "mimetype": "text/x-python",
   "name": "python",
   "nbconvert_exporter": "python",
   "pygments_lexer": "ipython3",
   "version": "3.12.9"
  }
 },
 "nbformat": 4,
 "nbformat_minor": 5
}
