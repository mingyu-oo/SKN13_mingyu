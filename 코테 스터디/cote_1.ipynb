{
 "cells": [
  {
   "cell_type": "code",
   "execution_count": null,
   "id": "48180877",
   "metadata": {},
   "outputs": [
    {
     "data": {
      "text/plain": [
       "[2, 4, 5, 1, 3]"
      ]
     },
     "execution_count": 27,
     "metadata": {},
     "output_type": "execute_result"
    }
   ],
   "source": [
    "def solution (cpr):\n",
    "    di = {'check' : 1, 'call' : 2, 'pressure' : 3, 'respiration' : 4, 'repeat' : 5}\n",
    "    answer = []\n",
    "    for v in range(5):\n",
    "        a = di.get(cpr[v])\n",
    "        answer.append(a)\n",
    "\n",
    "    \n",
    "    # a = list(map(int ,[di.get(cpr[0]), di.get(cpr[1]), di.get(cpr[2]), di.get(cpr[3]), di.get(cpr[4])]))\n",
    "    \n",
    "    return answer\n",
    "\n",
    "cpr=[\"call\", \"respiration\", \"repeat\", \"check\", \"pressure\"]\n",
    "\n",
    "solution(cpr)\n",
    "\n",
    "#a = dict(a = 'asdf') #이건 key값이 str형태로 저장됨.\n",
    "\n",
    "#b = {'check' : 'asdf'} \n"
   ]
  },
  {
   "cell_type": "code",
   "execution_count": 29,
   "id": "1ce3b757",
   "metadata": {},
   "outputs": [
    {
     "data": {
      "text/plain": [
       "231"
      ]
     },
     "execution_count": 29,
     "metadata": {},
     "output_type": "execute_result"
    }
   ],
   "source": [
    "num = \"9515155155\"\n",
    "a = 0\n",
    "b = 2\n",
    "li = []\n",
    "for v in range(len(num)//2):\n",
    "    li.append(num[a:b])\n",
    "    a += 2\n",
    "    b += 2\n",
    "\n",
    "sum(list(map(int, li)))\n",
    "\n",
    "# for a in range(20):\n",
    "#     while a % 3 != 0:\n",
    "#         result = num[0:a]\n",
    "\n",
    "\n",
    "        \n",
    "\n",
    "#num 변수를 2자리씩 자르고 자른수를 모두 더함.\n",
    "#스트링으로 바꾸고 슬라이싱해서 "
   ]
  },
  {
   "cell_type": "code",
   "execution_count": 5,
   "id": "40eb1f0e",
   "metadata": {},
   "outputs": [
    {
     "name": "stdout",
     "output_type": "stream",
     "text": [
      "6330\n",
      "5970\n",
      "5610\n",
      "5250\n",
      "4890\n",
      "4530\n",
      "4170\n",
      "3810\n",
      "3450\n",
      "3090\n",
      "2730\n",
      "2370\n",
      "2010\n",
      "1650\n",
      "1290\n",
      "930\n",
      "570\n",
      "210\n"
     ]
    }
   ],
   "source": [
    "def solution(angle1, angle2):\n",
    "    answer = 0\n",
    "    answer = angle1 + angle2\n",
    "    while answer > 360:\n",
    "        answer -= 360\n",
    "        print(answer)\n",
    "\n",
    "solution(2456,4234)\n",
    "    "
   ]
  },
  {
   "cell_type": "code",
   "execution_count": null,
   "id": "1424481b",
   "metadata": {},
   "outputs": [],
   "source": [
    "연산자\n",
    "map 함수\n",
    "dict 함수\n",
    "조건문 문장으로 해석석\n",
    "횟수가 눈에보이면 for문\n",
    "for 변수 in iterable:\n",
    "            횟수(range()), 요소(list)\n",
    "            둘다 같이 쓸 때 enumerate << 꽤 많이씀\n",
    "            \n",
    "횟수가 가변이면 while문. 조건을 안정적으로 주기."
   ]
  },
  {
   "cell_type": "code",
   "execution_count": null,
   "id": "f5418f7b",
   "metadata": {},
   "outputs": [
    {
     "name": "stdout",
     "output_type": "stream",
     "text": [
      "Help on built-in function len in module builtins:\n",
      "\n",
      "len(obj, /)\n",
      "    Return the number of items in a container.\n",
      "\n"
     ]
    }
   ],
   "source": [
    "help(len)"
   ]
  },
  {
   "cell_type": "code",
   "execution_count": null,
   "id": "82a2766e",
   "metadata": {},
   "outputs": [],
   "source": []
  }
 ],
 "metadata": {
  "kernelspec": {
   "display_name": "base",
   "language": "python",
   "name": "python3"
  },
  "language_info": {
   "codemirror_mode": {
    "name": "ipython",
    "version": 3
   },
   "file_extension": ".py",
   "mimetype": "text/x-python",
   "name": "python",
   "nbconvert_exporter": "python",
   "pygments_lexer": "ipython3",
   "version": "3.12.9"
  }
 },
 "nbformat": 4,
 "nbformat_minor": 5
}
