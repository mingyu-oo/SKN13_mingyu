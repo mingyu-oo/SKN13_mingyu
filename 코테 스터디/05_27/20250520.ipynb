{
 "cells": [
  {
   "cell_type": "markdown",
   "id": "38911676",
   "metadata": {},
   "source": [
    "# Kotepreps_Reboot_1\n",
    "\n",
    "* 총 5문\n",
    "\n",
    "* 출처: 프로그래머스\n",
    "\n",
    "* 난이도: 프로그래머스 분류 기준 lv. 1 ~ lv. 3"
   ]
  },
  {
   "cell_type": "markdown",
   "id": "14a33962",
   "metadata": {},
   "source": [
    "## Q1\n",
    "\n",
    "**[체육복](https://school.programmers.co.kr/learn/challenges?order=recent&languages=python3&page=1&search=%EC%B2%B4%EC%9C%A1%EB%B3%B5)**\n",
    "\n",
    "* Lv. 1(58%)\n",
    "\n",
    "* Greedy Algorithm"
   ]
  },
  {
   "cell_type": "markdown",
   "id": "0408df5f",
   "metadata": {},
   "source": [
    "### Greedy Algorithm\n",
    "\n",
    "> \"지금 당장 눈 앞에서 가장 좋아 보이는 선택\"을 반복해서 global optimal에 도달하기.\n",
    "\n",
    "1. 특징\n",
    "\n",
    "* 매 순간의 local optimal이 전체에서도 최선(global optimal)이 되리라는 믿음\n",
    "\n",
    "* DP는 모든 경우를 기억하며 최적해 탐색하는 반면 Greedy는 현재 상황만 보고 결정함\n",
    "\n",
    "* 항상 맞지는 않지만, 조건이 성립하는 문제에서는 정답을 도출함\n",
    "\n",
    "> e.g. 거스름돈 문제: 가장 큰 단위의 동전부터 채워나가면 optimal\n",
    "\n",
    "2. 체육복\n",
    "\n",
    "* 잃어버린 학생(idx)은 왼쪽(idx-1)부터 오른쪽(idx+1) 순으로 빌릴 수 있는지 확인.\n",
    "\n",
    "* 일관된 순서로 탐색해야 함. \n",
    "\n",
    "> 지금같이 맨 앞에서부터 쭉 훑어보는 케이스일 때, **도둑맞은 idx번 학생**이 **여벌 옷이 있는 idx-1번 학생**의 체육복을 요청하지 않으면 idx-1번 학생은 **더 이상 누구한테도 체육복을 빌려줄 수 없음**. 하지만 다음 차례인 idx+1번 학생은 이후 자기 차례가 오면 여전히 다른 누군가에게 빌려줄 기회가 있음."
   ]
  },
  {
   "attachments": {
    "image.png": {
     "image/png": "[encoded data removed]"
    }
   },
   "cell_type": "markdown",
   "id": "019809eb",
   "metadata": {},
   "source": [
    "![image.png](attachment:image.png)"
   ]
  },
  {
   "cell_type": "markdown",
   "id": "0b13a7db",
   "metadata": {},
   "source": [
    "### ✅ Greedy Algorithm이 정답을 보장하는 2가지 조건\n",
    "\n",
    "\n",
    "1. **Greedy Choice Property**: 매 순간의 지역 최적 선택이 전체 최적해의 일부임, 지금 선택해도 나중에 다시 바꾸지 않아도 됨. 현재의 선택은, 미래에 더 나은 선택을 하는 데 절대 방해하지 않음.\n",
    "\n",
    "2. **Optimal Substructure**: 문제의 전체 최적해가 부분 최적해로 구성됨, 앞에서 구한 해를 버릴 필요가 없음\n",
    "\n",
    "\n",
    "### 📌 예시 1: 거스름돈 문제 (표준 동전: 1, 5, 10, 50, 100, 500)\n",
    "\n",
    "- **Greedy**: 가장 큰 단위부터 동전을 채워나감\n",
    "- **결과**: Always Global Optimal\n",
    "\n",
    "**Why Global Optimal??**\n",
    "- 각 단위는 작은 단위의 배수 → **부분 최적이 전체 최적과 일치**\n",
    "- Optimal Substructure 만족 → 이전 계산을 다시 고려할 필요 없음\n",
    "\n",
    "### 📌 예시 2: 체육복 문제\n",
    "\n",
    "- 각 학생은 인접한 앞/뒤 번호 학생에게만 체육복을 빌릴 수 있음\n",
    "- 체육복은 1벌만 빌려줄 수 있음\n",
    "- 탐색을 앞에서부터 진행하며 먼저 빌려주는 전략은  \n",
    "  뒤에 오는 학생의 기회를 침해하지 않음\n",
    "\n",
    "**→ 두 조건 모두 충족. Always Global Optimal**"
   ]
  },
  {
   "cell_type": "markdown",
   "id": "bd06ccfb",
   "metadata": {},
   "source": [
    "### 지피티 풀이"
   ]
  },
  {
   "cell_type": "code",
   "execution_count": null,
   "id": "8807544c",
   "metadata": {},
   "outputs": [],
   "source": [
    "def solution(n, lost, reserve):\n",
    "    # 1. 겹치는 사람 제거\n",
    "    lost_set = set(lost) - set(reserve)\n",
    "    reserve_set = set(reserve) - set(lost)\n",
    "\n",
    "    # 2. Greedy하게 빌려주기\n",
    "    for r in sorted(reserve_set):\n",
    "        if r - 1 in lost_set:\n",
    "            lost_set.remove(r - 1)\n",
    "        elif r + 1 in lost_set:\n",
    "            lost_set.remove(r + 1)\n",
    "\n",
    "    # 3. 전체 학생 수에서 못 빌린 사람만 제외\n",
    "    return n - len(lost_set)"
   ]
  },
  {
   "cell_type": "markdown",
   "id": "6ecf7eb9",
   "metadata": {},
   "source": [
    "## Q2\n",
    "\n",
    "**[모의고사](https://school.programmers.co.kr/learn/challenges?order=recent&languages=python3&page=1&search=%EB%AA%A8%EC%9D%98)**\n",
    "\n",
    "* Lv. 1(66%)\n",
    "\n",
    "* Brute Force"
   ]
  },
  {
   "cell_type": "code",
   "execution_count": 3,
   "id": "52b0eaf8",
   "metadata": {},
   "outputs": [],
   "source": [
    "i1 = [1, 2, 3, 4, 5]\n",
    "i2 = [1, 3, 2, 4, 2]\n",
    "o1 = [1]\n",
    "o2 = [1, 2, 3]"
   ]
  },
  {
   "cell_type": "markdown",
   "id": "67fb4f00",
   "metadata": {},
   "source": [
    "### 내 풀이"
   ]
  },
  {
   "cell_type": "code",
   "execution_count": null,
   "id": "26866a2c",
   "metadata": {},
   "outputs": [],
   "source": [
    "def solution(answers):\n",
    "\n",
    "    user_1, user_2, user_3 = [], [], []\n",
    "    list_for_user_2 = [1, 3, 4, 5]\n",
    "    dict_for_user_3 = {0:3,1:1,2:2,3:4,4:5}\n",
    "\n",
    "    # Brute Force\n",
    "    cnt = 0\n",
    "    while cnt < len(answers):\n",
    "        # user_1\n",
    "        user_1.append(cnt%5+1)\n",
    "        \n",
    "        # user_2\n",
    "        if not cnt % 2:\n",
    "            user_2.append(2)\n",
    "        else:\n",
    "            user_2.append(list_for_user_2.pop(0))\n",
    "            list_for_user_2.append(user_2[-1])\n",
    "\n",
    "        # user_3: \n",
    "        user_3.append(dict_for_user_3[(cnt//2)%5])\n",
    "        for i in (user_1, user_2, user_3):\n",
    "            if i[-1] != answers[cnt]:\n",
    "                i.pop()\n",
    "        cnt += 1  \n",
    "        \n",
    "        \n",
    "    user_dict = {1:len(user_1), 2:len(user_2), 3:len(user_3)}\n",
    "    answer = []\n",
    "    for i in user_dict.keys():\n",
    "        if user_dict[i] == max(user_dict.values()): \n",
    "            answer.append(i) \n",
    "    return answer"
   ]
  },
  {
   "cell_type": "code",
   "execution_count": 6,
   "id": "dc42080b",
   "metadata": {},
   "outputs": [
    {
     "data": {
      "text/plain": [
       "[1, 2, 3]"
      ]
     },
     "execution_count": 6,
     "metadata": {},
     "output_type": "execute_result"
    }
   ],
   "source": [
    "solution(i1)\n",
    "solution(i2)"
   ]
  },
  {
   "attachments": {
    "image.png": {
     "image/png": "[encoded data removed]"
    }
   },
   "cell_type": "markdown",
   "id": "234e229b",
   "metadata": {},
   "source": [
    "![image.png](attachment:image.png)"
   ]
  },
  {
   "cell_type": "markdown",
   "id": "e9dca88b",
   "metadata": {},
   "source": [
    "### 다른 사람 풀이"
   ]
  },
  {
   "cell_type": "code",
   "execution_count": null,
   "id": "24a771e1",
   "metadata": {},
   "outputs": [],
   "source": [
    "def solution(answers):\n",
    "    pattern1 = [1,2,3,4,5]\n",
    "    pattern2 = [2,1,2,3,2,4,2,5]\n",
    "    pattern3 = [3,3,1,1,2,2,4,4,5,5]\n",
    "    score = [0, 0, 0]\n",
    "    result = []\n",
    "\n",
    "    for idx, answer in enumerate(answers):\n",
    "        if answer == pattern1[idx%len(pattern1)]:\n",
    "            score[0] += 1\n",
    "        if answer == pattern2[idx%len(pattern2)]:\n",
    "            score[1] += 1\n",
    "        if answer == pattern3[idx%len(pattern3)]:\n",
    "            score[2] += 1\n",
    "\n",
    "    for idx, s in enumerate(score):\n",
    "        if s == max(score):\n",
    "            result.append(idx+1)\n",
    "\n",
    "    return result"
   ]
  },
  {
   "cell_type": "code",
   "execution_count": 8,
   "id": "8158a495",
   "metadata": {},
   "outputs": [
    {
     "data": {
      "text/plain": [
       "[1, 2, 3]"
      ]
     },
     "execution_count": 8,
     "metadata": {},
     "output_type": "execute_result"
    }
   ],
   "source": [
    "solution(i1)\n",
    "solution(i2)"
   ]
  },
  {
   "attachments": {
    "image.png": {
     "image/png": "[encoded data removed]"
    }
   },
   "cell_type": "markdown",
   "id": "bc4c1108",
   "metadata": {},
   "source": [
    "![image.png](attachment:image.png)"
   ]
  },
  {
   "cell_type": "markdown",
   "id": "d200c8fa",
   "metadata": {},
   "source": [
    "## Q3\n",
    "\n",
    "**[타겟넘버](https://school.programmers.co.kr/learn/challenges?order=recent&languages=python3&page=1&search=%ED%83%80%EA%B2%9F%20%EB%84%98%EB%B2%84)**\n",
    "\n",
    "* Lv. 2(63%)\n",
    "\n",
    "* DFS/BFS"
   ]
  },
  {
   "cell_type": "code",
   "execution_count": 2,
   "id": "44ec8503",
   "metadata": {},
   "outputs": [],
   "source": [
    "i1 =[1, 1, 1, 1, 1], 3\n",
    "i2 = [4, 1, 2, 1], 4\n",
    "o1 = 5\n",
    "o2 = 2"
   ]
  },
  {
   "cell_type": "markdown",
   "id": "32ad15dc",
   "metadata": {},
   "source": [
    "### 내 풀이"
   ]
  },
  {
   "cell_type": "code",
   "execution_count": 16,
   "id": "55b5796e",
   "metadata": {},
   "outputs": [],
   "source": [
    "def solution(numbers, target):\n",
    "    array = [[None]*2**i for i in range(len(numbers)+1)]\n",
    "    array[0][0] = 0 \n",
    "    for i in range(0,len(array)-1):\n",
    "        for n in range(len(array[i])):\n",
    "            array[i+1][2*n] = array[i][n] + numbers[i]\n",
    "            array[i+1][2*n+1] = array[i][n] - numbers[i]\n",
    "    return array[-1].count(target)"
   ]
  },
  {
   "cell_type": "markdown",
   "id": "c417a0be",
   "metadata": {},
   "source": [
    "이 방법은 출제자의 의도에서 아득히 벗어남.\n",
    "\n",
    "Binary Tree"
   ]
  },
  {
   "cell_type": "code",
   "execution_count": 3,
   "id": "537f599a",
   "metadata": {},
   "outputs": [
    {
     "data": {
      "text/plain": [
       "2"
      ]
     },
     "execution_count": 3,
     "metadata": {},
     "output_type": "execute_result"
    }
   ],
   "source": [
    "solution(i1[0], i1[1])\n",
    "solution(i2[0], i2[1])"
   ]
  },
  {
   "attachments": {
    "image.png": {
     "image/png": "[encoded data removed]"
    }
   },
   "cell_type": "markdown",
   "id": "543ec352",
   "metadata": {},
   "source": [
    "![image.png](attachment:image.png)"
   ]
  },
  {
   "attachments": {
    "image.png": {
     "image/png": "[encoded data removed]"
    }
   },
   "cell_type": "markdown",
   "id": "061b5f8e",
   "metadata": {},
   "source": [
    "![image.png](attachment:image.png)"
   ]
  },
  {
   "cell_type": "markdown",
   "id": "80bbc1fd",
   "metadata": {},
   "source": [
    "**그렇다면 출제 의도에 맞는 풀이는?** w/ gpt 4o"
   ]
  },
  {
   "cell_type": "code",
   "execution_count": 4,
   "id": "3a14ef84",
   "metadata": {},
   "outputs": [],
   "source": [
    "# DFS이자 Brute Force\n",
    "\n",
    "def solution(numbers, target):\n",
    "    result = 0\n",
    "\n",
    "    def dfs(index, total):\n",
    "        nonlocal result\n",
    "        if index == len(numbers):\n",
    "            if total == target:\n",
    "                result += 1\n",
    "            return\n",
    "        dfs(index + 1, total + numbers[index]) # Recursive\n",
    "        dfs(index + 1, total - numbers[index]) # Recursive\n",
    "\n",
    "    dfs(0, 0)\n",
    "    return result"
   ]
  },
  {
   "cell_type": "code",
   "execution_count": 6,
   "id": "60391ccb",
   "metadata": {},
   "outputs": [
    {
     "data": {
      "text/plain": [
       "2"
      ]
     },
     "execution_count": 6,
     "metadata": {},
     "output_type": "execute_result"
    }
   ],
   "source": [
    "solution(i1[0], i1[1])\n",
    "solution(i2[0], i2[1])"
   ]
  },
  {
   "cell_type": "markdown",
   "id": "998369f9",
   "metadata": {},
   "source": [
    "## Q4\n",
    "\n",
    "**[기능개발](https://school.programmers.co.kr/learn/challenges?order=recent&languages=python3&page=1&search=%EA%B8%B0%EB%8A%A5%EA%B0%9C%EB%B0%9C)**\n",
    "\n",
    "* Lv. 2(66%)\n",
    "\n",
    "* Stack/Queue"
   ]
  },
  {
   "cell_type": "code",
   "execution_count": 19,
   "id": "65fccfda",
   "metadata": {},
   "outputs": [],
   "source": [
    "i1 = [93, 30, 55], [1, 30, 5]\n",
    "i2 = [95, 90, 99, 99, 80, 99], [1, 1, 1, 1, 1, 1]\n",
    "o1 = [2, 1]\n",
    "o2 = [1, 3, 2]"
   ]
  },
  {
   "cell_type": "markdown",
   "id": "05558cc8",
   "metadata": {},
   "source": [
    "### 내 풀이"
   ]
  },
  {
   "cell_type": "code",
   "execution_count": null,
   "id": "0e6c5b8c",
   "metadata": {},
   "outputs": [],
   "source": [
    "def solution(progresses, speeds):\n",
    "    time_study = []\n",
    "    for idx, val in enumerate(progresses):\n",
    "        count = 0\n",
    "        while val < 100:\n",
    "            val += speeds[idx]\n",
    "            count += 1\n",
    "        time_study.append(count)\n",
    "\n",
    "    # time_study에는 태스크별로 남은 일수만 계산\n",
    "\n",
    "    queue = []   # 완성된 일들\n",
    "    answer = []  # 출력값 저장장\n",
    "    while sum(answer) < len(progresses):  \n",
    "\n",
    "        for i in range(len(time_study)):\n",
    "            if time_study[i]:       # 0이면 작업 안 하고 대기함\n",
    "                time_study[i] -= 1  # 0 아니면 하루 분량 작업\n",
    "\n",
    "        for i in range(-len(time_study), 0):   # pop 기능 쓸거라서 인덱스 마이너스로 셀 거임\n",
    "            if time_study[i]:     # 0이 아니라면,\n",
    "                if queue:         # queue에 뭐라도 들어 있으면,\n",
    "                    answer.append(len(queue))\n",
    "                    queue = []   # 배포하고 초기화\n",
    "                break   # 배포는 하루에 한번밖에 못함. 다음 날이 되었습니다.\n",
    "            queue.append(time_study.pop(i)) \n",
    "        if not time_study: # 더 이상 남은 작업이 없어요.\n",
    "            answer.append(len(queue))\n",
    "    return answer"
   ]
  },
  {
   "cell_type": "code",
   "execution_count": 23,
   "id": "acd53cb5",
   "metadata": {},
   "outputs": [
    {
     "data": {
      "text/plain": [
       "[1, 3, 2]"
      ]
     },
     "execution_count": 23,
     "metadata": {},
     "output_type": "execute_result"
    }
   ],
   "source": [
    "solution(i1[0], i1[1])\n",
    "solution(i2[0], i2[1])"
   ]
  },
  {
   "attachments": {
    "image.png": {
     "image/png": "[encoded data removed]"
    }
   },
   "cell_type": "markdown",
   "id": "e202a80f",
   "metadata": {},
   "source": [
    "![image.png](attachment:image.png)"
   ]
  },
  {
   "cell_type": "markdown",
   "id": "710397b5",
   "metadata": {},
   "source": [
    "### 다른 사람 풀이"
   ]
  },
  {
   "cell_type": "code",
   "execution_count": null,
   "id": "b2c64115",
   "metadata": {},
   "outputs": [],
   "source": [
    "def solution(progresses, speeds):\n",
    "    Q=[]\n",
    "    for p, s in zip(progresses, speeds):\n",
    "        if len(Q)==0 or Q[-1][0]<-((p-100)//s):\n",
    "            Q.append([-((p-100)//s),1])\n",
    "        else:\n",
    "            Q[-1][1]+=1\n",
    "    return [q[1] for q in Q]"
   ]
  },
  {
   "cell_type": "code",
   "execution_count": 25,
   "id": "d387cf70",
   "metadata": {},
   "outputs": [
    {
     "data": {
      "text/plain": [
       "[1, 3, 2]"
      ]
     },
     "execution_count": 25,
     "metadata": {},
     "output_type": "execute_result"
    }
   ],
   "source": [
    "solution(i1[0], i1[1])\n",
    "solution(i2[0], i2[1])"
   ]
  },
  {
   "attachments": {
    "image.png": {
     "image/png": "[encoded data removed]"
    }
   },
   "cell_type": "markdown",
   "id": "95661e58",
   "metadata": {},
   "source": [
    "![image.png](attachment:image.png)"
   ]
  },
  {
   "cell_type": "code",
   "execution_count": 26,
   "id": "a6064271",
   "metadata": {},
   "outputs": [],
   "source": [
    "def solution(progresses, speeds):\n",
    "    from math import ceil\n",
    "    days = [ceil((100 - p) / s) for p, s in zip(progresses, speeds)]\n",
    "\n",
    "    result = []\n",
    "    current_max = days[0]\n",
    "    count = 1\n",
    "\n",
    "    for day in days[1:]:\n",
    "        if day <= current_max:\n",
    "            count += 1\n",
    "        else:\n",
    "            result.append(count)\n",
    "            current_max = day\n",
    "            count = 1\n",
    "\n",
    "    result.append(count)\n",
    "    return result"
   ]
  },
  {
   "cell_type": "code",
   "execution_count": 27,
   "id": "cf2c1982",
   "metadata": {},
   "outputs": [
    {
     "data": {
      "text/plain": [
       "[1, 3, 2]"
      ]
     },
     "execution_count": 27,
     "metadata": {},
     "output_type": "execute_result"
    }
   ],
   "source": [
    "solution(i1[0], i1[1])\n",
    "solution(i2[0], i2[1])"
   ]
  },
  {
   "attachments": {
    "image.png": {
     "image/png": "[encoded data removed]"
    }
   },
   "cell_type": "markdown",
   "id": "18a64a11",
   "metadata": {},
   "source": [
    "![image.png](attachment:image.png)"
   ]
  },
  {
   "cell_type": "code",
   "execution_count": null,
   "id": "d3979914",
   "metadata": {},
   "outputs": [],
   "source": [
    "# utilizing QUEUE\n",
    "\n",
    "from collections import deque\n",
    "\n",
    "def solution(progresses, speeds):\n",
    "    days = deque()\n",
    "    for p, s in zip(progresses, speeds):\n",
    "        remain = (100 - p) // s + ((100 - p) % s > 0) # True = 1   # 기본은 잔량 // 업무속도인데. Remainder(나머지지) 있으면 1을 더하고, 나누어떨어졌다면 냅두기(Boolean Operation).\n",
    "        days.append(remain)\n",
    "\n",
    "    result = []\n",
    "    while days:  # 모든 작업들을 days에서 다 빼낼 때까지 반복 수행\n",
    "        current = days.popleft()   # 맨 첫번째 작업 빼내기\n",
    "        count = 1\n",
    "        while days and days[0] <= current:  # 그 다음 작업이 current보다 커지기 전까지 반복 수행\n",
    "            days.popleft()\n",
    "            count += 1\n",
    "        result.append(count)\n",
    "    return result"
   ]
  },
  {
   "cell_type": "markdown",
   "id": "6223455f",
   "metadata": {},
   "source": [
    "```python\n",
    "# Queueing 시각화해보자\n",
    "days = [1, 1, 20, 1] \n",
    "current = 10\n",
    "count = 1\n",
    "\n",
    "result = [1]\n",
    "```"
   ]
  },
  {
   "cell_type": "markdown",
   "id": "93ad6a99",
   "metadata": {},
   "source": [
    "사실 deque() 안 쓰고, 왼쪽 꺼 빼내는 걸 `days.pop(0)`으로 수행해도 되는데, \n",
    "\n",
    "`list_data.pop(idx)`는 꺼낼 때마다 index 조회해야 되서, 데이터 사이즈 커지면 비효율적.\n",
    "\n",
    "`list_data.pop(0)`: O(n)\n",
    "\n",
    "`deque_data.popleft()`: O(1)"
   ]
  },
  {
   "cell_type": "code",
   "execution_count": 29,
   "id": "ad943315",
   "metadata": {},
   "outputs": [
    {
     "data": {
      "text/plain": [
       "[1, 3, 2]"
      ]
     },
     "execution_count": 29,
     "metadata": {},
     "output_type": "execute_result"
    }
   ],
   "source": [
    "solution(i1[0], i1[1])\n",
    "solution(i2[0], i2[1])"
   ]
  },
  {
   "cell_type": "markdown",
   "id": "140bde1f",
   "metadata": {},
   "source": [
    "**핵심**\n",
    "\n",
    "| 코드 부분            | 역할                                  |\n",
    "|---------------------|---------------------------------------|\n",
    "| `deque`             | 작업 순서 유지                        |\n",
    "| `popleft()`         | Queue처럼 앞에서 하나씩 꺼냄         |\n",
    "| `while days[0] <= current` | 한 번에 배포 가능한 항목 그룹핑     |\n",
    "\n",
    "---\n",
    "\n",
    "**정리**\n",
    "\n",
    "| 요소                                         | 의미                                                   |\n",
    "|--------------------------------------------|--------------------------------------------------------|\n",
    "| “작업이 앞에서부터 차례로 배포되어야 한다” | Queue 특성                                             |\n",
    "| 직접 Queue를 안 쓰고도 풀 수 있음         | 그래서 사람들이 혼란                                   |\n",
    "| 하지만 문제 출제의도는 Queue 개념 익히기 | “왜 앞이 완료되어야 다음이 나가는가?”를 고민하게 만듦 |\n"
   ]
  },
  {
   "cell_type": "markdown",
   "id": "36f4f5a4",
   "metadata": {},
   "source": [
    "### BFS: 학교 탈출하기\n",
    "\n",
    "학생 A는 방과 후에 학교 건물 안에서 길을 잃었습니다.  \n",
    "학교는 직사각형 형태의 미로처럼 구성되어 있고,  \n",
    "학생은 **빈 통로(1)** 로만 이동할 수 있으며, **벽(0)** 은 지나갈 수 없습니다.\n",
    "\n",
    "학생은 현재 건물 어딘가에 있으며(`'S'`), 출구(`'E'`)가 하나 이상 존재합니다.  \n",
    "학생은 **출구 중 가장 가까운 곳까지 도달하는 데 필요한 최소 이동 칸 수**를 구하고자 합니다.\n",
    "\n",
    "이동은 **상, 하, 좌, 우** 네 방향으로만 가능합니다.\n",
    "\n",
    "\n",
    "**Input**\n",
    "\n",
    "- 2차원 리스트 `maps`가 주어집니다. (크기: `n(height) x m(width)`)\n",
    "- 각 원소는 다음 중 하나입니다:\n",
    "  - `1`: 이동 가능한 통로\n",
    "  - `0`: 이동 불가능한 벽\n",
    "  - `'S'`: 학생 A의 시작 위치 (1개)\n",
    "  - `'E'`: 출구 (1개 이상)\n",
    "\n",
    "\n",
    "**Output**\n",
    "\n",
    "- 가장 가까운 출구까지 도달하는 **최소 칸 수**를 정수로 출력합니다.\n",
    "\n",
    "\n",
    "**Subject to:**\n",
    "\n",
    "- `2 ≤ n, m ≤ 100`\n",
    "- `'S'`는 반드시 1개 존재합니다.\n",
    "- `'E'`는 1개 이상 존재하며, 항상 도달할 수 있습니다.\n",
    "- 입력은 항상 유효합니다 (따로 예외 처리를 하지 않아도 됩니다).\n",
    "\n",
    "\n",
    "**e.g.**\n",
    "\n",
    "```python\n",
    "# I\n",
    "maps = [\n",
    "    [1, 1, 0, 'E'],\n",
    "    [1, 0, 1, 1],\n",
    "    [1, 1, 1, 0],\n",
    "    ['S', 0, 1, 1]\n",
    "]\n",
    "\n",
    "# O\n",
    "6"
   ]
  },
  {
   "cell_type": "code",
   "execution_count": null,
   "id": "72637df4",
   "metadata": {},
   "outputs": [],
   "source": [
    "from collections import deque\n",
    "\n",
    "def solution(maps):\n",
    "    n, m = len(maps), len(maps[0])\n",
    "    visited = [[False]*m for _ in range(n)]\n",
    "    queue = deque()\n",
    "\n",
    "    # 시작 위치 S 찾기\n",
    "    for i in range(n):\n",
    "        for j in range(m):\n",
    "            if maps[i][j] == 'S':\n",
    "                queue.append((i, j, 0))  # (x, y, distance)\n",
    "                visited[i][j] = True\n",
    "                break\n",
    "\n",
    "    # 상하좌우\n",
    "    dx = [-1, 1, 0, 0]  \n",
    "    dy = [0, 0, -1, 1]\n",
    "\n",
    "    while queue:\n",
    "        x, y, dist = queue.popleft()\n",
    "        if maps[x][y] == 'E':\n",
    "            return dist\n",
    "\n",
    "        for d in range(4):  # 상하좌우 전부 확인\n",
    "            nx, ny = x + dx[d], y + dy[d] # nx, ny는 한칸 움직일 때 새로운 좌표\n",
    "            if 0 <= nx < n and 0 <= ny < m:   # 지도 바깥은 아닌지 확인\n",
    "                \n",
    "                # 만약 아직 안 가봤고, 길(1)이거나 출구(E)라면,\n",
    "                if not visited[nx][ny] and (maps[nx][ny] == 1 or maps[nx][ny] == 'E'):\n",
    "                    visited[nx][ny] = True # 이제 여기 방문한거임.\n",
    "                    queue.append((nx, ny, dist + 1)) # 큐 맨 뒤에 저장"
   ]
  },
  {
   "cell_type": "markdown",
   "id": "904c248c",
   "metadata": {},
   "source": [
    "**Queue**\n",
    "\n",
    "```python\n",
    "maps = [\n",
    "    [1, 1, 0, 'E'],\n",
    "    [1, 0, 1, 1],\n",
    "    [1, 1, 1, 0],\n",
    "    ['S', 0, 1, 1]\n",
    "]\n",
    "\n",
    "queue = [(3, 0, 0)]\n",
    "\n",
    "on process =\n",
    "```"
   ]
  },
  {
   "cell_type": "markdown",
   "id": "b86034e7",
   "metadata": {},
   "source": [
    "## Q5\n",
    "\n",
    "**[등굣길](https://school.programmers.co.kr/learn/challenges?order=recent&languages=python3&page=1&search=%EB%93%B1%EA%B5%A3%EA%B8%B8)**\n",
    "\n",
    "* Lv. 3(60%)\n",
    "\n",
    "* Dynamic Programming"
   ]
  },
  {
   "cell_type": "markdown",
   "id": "6dd04298",
   "metadata": {},
   "source": [
    "### 내 풀이"
   ]
  },
  {
   "cell_type": "code",
   "execution_count": null,
   "id": "5b9bed3f",
   "metadata": {},
   "outputs": [],
   "source": [
    "def solution(m, n, puddles):\n",
    "    # local optimal 담을 새로운 2 Dimensional Array\n",
    "    route = [[None for _ in range(m)] for _ in range(n)]\n",
    "    \n",
    "    # puddles 규격 다시 맞춰주기\n",
    "    for k in puddles:\n",
    "        k[0], k[1] = k[1]-1, k[0]-1 \n",
    "    \n",
    "    # 인덱싱 아웃 오브 레인지 방지 사전 작업\n",
    "    route[0][0] = 1    \n",
    "    for i in range(1, m):\n",
    "        if [0,i] in puddles: break\n",
    "        route[0][i] = 1\n",
    "    for i in range(1, n):\n",
    "        if [i, 0] in puddles: break\n",
    "        route[i][0] = 1\n",
    "        \n",
    "    # local optimal update\n",
    "    for i in range(1, n):\n",
    "        for j in range(1, m):\n",
    "            # 1. puddles이면 None으로 남김\n",
    "            if [i, j] in puddles: continue\n",
    "            # 2. 왼쪽이랑 위쪽 둘 다 None이어도 None으로 남김\n",
    "            elif not route[i-1][j] and not route[i][j-1]: continue\n",
    "            # 3. 위쪽만 None이면 왼쪽 기준 Update\n",
    "            elif not route[i-1][j]:\n",
    "                route[i][j] = route[i][j-1]\n",
    "            # 4. 왼쪽만 None이면 위쪽 기준 Update\n",
    "            elif not route[i][j-1]:\n",
    "                route[i][j] = route[i-1][j]\n",
    "            # 5. 둘 다 값이 있다면, 양쪽 기준 Update\n",
    "            else: \n",
    "                route[i][j] = route[i][j-1] + route[i-1][j]\n",
    "    # 그냥 학교까지 가는 길이 다 막혀있는 경우도 당연히 있음.                        \n",
    "    if not route[n-1][m-1]: route[n-1][m-1] = 0\n",
    "    \n",
    "    return route[n-1][m-1] % 1_000_000_007 "
   ]
  },
  {
   "cell_type": "code",
   "execution_count": 10,
   "id": "b4925c44",
   "metadata": {},
   "outputs": [],
   "source": [
    "i1 = 4, 3, [[2, 2]]\n",
    "o1 = 4"
   ]
  },
  {
   "cell_type": "code",
   "execution_count": 11,
   "id": "b31b2226",
   "metadata": {},
   "outputs": [
    {
     "data": {
      "text/plain": [
       "4"
      ]
     },
     "execution_count": 11,
     "metadata": {},
     "output_type": "execute_result"
    }
   ],
   "source": [
    "solution(i1[0], i1[1], i1[2])"
   ]
  },
  {
   "cell_type": "markdown",
   "id": "4b31fad7",
   "metadata": {},
   "source": [
    "### 다른 사람 풀이"
   ]
  },
  {
   "cell_type": "code",
   "execution_count": 12,
   "id": "4146f12d",
   "metadata": {},
   "outputs": [],
   "source": [
    "def solution(m,n,puddles):\n",
    "    grid = [[0]*(m+1) for i in range(n+1)] #왼쪽, 위로 한줄씩 만들어서 IndexError 방지\n",
    "    if puddles != [[]]:                    #물이 잠긴 지역이 0일 수 있음\n",
    "        for a, b in puddles:\n",
    "            grid[b][a] = -1                #미리 -1로 체크\n",
    "    grid[1][1] = 1\n",
    "    for j in range(1,n+1):\n",
    "        for k in range(1,m+1):\n",
    "            if j == k == 1:                #(1,1)은 1로 만들어두고, 0이 되지 않도록\n",
    "                continue\n",
    "            if grid[j][k] == -1:           #웅덩이는 0으로 만들어 다음 덧셈 때 영향끼치지 않게\n",
    "                grid[j][k] = 0\n",
    "                continue\n",
    "            grid[j][k] = (grid[j][k-1] + grid[j-1][k])%1000000007   #[a,b] = [a-1,b] + [a,b-1] 공식\n",
    "\n",
    "    return grid[n][m]\n"
   ]
  },
  {
   "cell_type": "code",
   "execution_count": 13,
   "id": "ea0a2e90",
   "metadata": {},
   "outputs": [
    {
     "data": {
      "text/plain": [
       "10"
      ]
     },
     "execution_count": 13,
     "metadata": {},
     "output_type": "execute_result"
    }
   ],
   "source": [
    "solution(i1[0], i1[1], i1[2])"
   ]
  }
 ],
 "metadata": {
  "kernelspec": {
   "display_name": "base",
   "language": "python",
   "name": "python3"
  },
  "language_info": {
   "codemirror_mode": {
    "name": "ipython",
    "version": 3
   },
   "file_extension": ".py",
   "mimetype": "text/x-python",
   "name": "python",
   "nbconvert_exporter": "python",
   "pygments_lexer": "ipython3",
   "version": "3.12.7"
  }
 },
 "nbformat": 4,
 "nbformat_minor": 5
}
