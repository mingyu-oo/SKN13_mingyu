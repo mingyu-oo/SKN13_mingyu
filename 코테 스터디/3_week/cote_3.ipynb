{
 "cells": [
  {
   "cell_type": "code",
   "execution_count": null,
   "id": "a53d4a0e",
   "metadata": {},
   "outputs": [
    {
     "name": "stdout",
     "output_type": "stream",
     "text": [
      "60\n"
     ]
    }
   ],
   "source": [
    "#지폐 접기\n",
    "\n",
    "def solution(wallet, bill):\n",
    "    answer = 0\n",
    "    \n",
    "    # bill[0]와 bill[1] 중 큰 수가 wallet[0]와 wallet[1]중 작은 수 보다 클 때:\n",
    "    while min(bill) > min(wallet) or max(bill) > max(wallet):\n",
    "        if bill[0] > bill[1]:\n",
    "            bill[0] //= 2\n",
    "        else:\n",
    "            bill[1] //= 2\n",
    "        answer += 1\n",
    "    return answer"
   ]
  },
  {
   "cell_type": "code",
   "execution_count": 15,
   "id": "273d9dbe",
   "metadata": {},
   "outputs": [
    {
     "data": {
      "text/plain": [
       "4"
      ]
     },
     "execution_count": 15,
     "metadata": {},
     "output_type": "execute_result"
    }
   ],
   "source": [
    "solution([50, 50],[100, 241])\n"
   ]
  },
  {
   "cell_type": "code",
   "execution_count": null,
   "id": "21aba272",
   "metadata": {},
   "outputs": [],
   "source": [
    "# 이웃한 칸\n",
    "\n",
    "def solution(board, h, w):\n",
    "    answer = 0\n",
    "    n = len(board)\n",
    "    cnt = 0\n",
    "    dh = [0,1,-1,0]\n",
    "    dw = [1,0,0,-1]\n",
    "    for i in range(4):\n",
    "        h_ck = h + dh[i]\n",
    "        w_ck = w + dw[i]\n",
    "        if 0 <= h_ck < n and 0 <= w_ck < n:\n",
    "            if board[h][w] == board[h_ck][w_ck]:    # if if니까 한 줄로 가능\n",
    "                cnt += 1\n",
    "    return cnt"
   ]
  },
  {
   "cell_type": "code",
   "execution_count": 10,
   "id": "f7537449",
   "metadata": {},
   "outputs": [
    {
     "data": {
      "text/plain": [
       "2"
      ]
     },
     "execution_count": 10,
     "metadata": {},
     "output_type": "execute_result"
    }
   ],
   "source": [
    "solution([[\"blue\", \"red\", \"orange\", \"red\"],\\\n",
    "        [\"red\", \"red\", \"blue\", \"orange\"],\\\n",
    "        [\"blue\", \"orange\", \"red\", \"red\"],\\\n",
    "        [\"orange\", \"orange\", \"red\", \"blue\"]],\\\n",
    "        1,1)"
   ]
  },
  {
   "cell_type": "code",
   "execution_count": null,
   "id": "f923905f",
   "metadata": {},
   "outputs": [
    {
     "name": "stdout",
     "output_type": "stream",
     "text": [
      "5\n",
      "3\n",
      "2\n"
     ]
    }
   ],
   "source": [
    "mats = [3,5,2]\n",
    "park = \t[[\"A\", \"A\", \"-1\", \"B\", \"B\", \"B\", \"B\", \"-1\"],\\\n",
    "        [\"A\", \"A\", \"-1\", \"B\", \"B\", \"B\", \"B\", \"-1\"],\\\n",
    "        [\"-1\", \"-1\", \"-1\", \"-1\", \"-1\", \"-1\", \"-1\", \"-1\"],\\\n",
    "        [\"D\", \"D\", \"-1\", \"-1\", \"-1\", \"-1\", \"E\", \"-1\"],\\\n",
    "        [\"D\", \"D\", \"-1\", \"-1\", \"-1\", \"-1\", \"-1\", \"F\"],\\\n",
    "        [\"D\", \"D\", \"-1\", \"-1\", \"-1\", \"-1\", \"E\", \"-1\"]]\n",
    "\n",
    "mats.sort(reverse=True)\n",
    "for mat in mats:\n",
    "    print(mat)"
   ]
  },
  {
   "cell_type": "code",
   "execution_count": null,
   "id": "868f2992",
   "metadata": {},
   "outputs": [],
   "source": [
    "for i in range(len(park)):\n",
    "    if park[i]"
   ]
  },
  {
   "cell_type": "code",
   "execution_count": null,
   "id": "f1c79950",
   "metadata": {},
   "outputs": [],
   "source": [
    "# lambda"
   ]
  },
  {
   "cell_type": "code",
   "execution_count": null,
   "id": "883b6a3a",
   "metadata": {},
   "outputs": [],
   "source": [
    "def jari(mats, park):\n",
    "    mats.sort(reverse=True)\n",
    "\n",
    "    for mat in mats: # 큰 mats부터 가지고와서\n",
    "        for r in range(len(park)):\n",
    "            for c in range(len(park[0])):\n",
    "                while r + mat < len(park) and c + mat < len(park[0]):\n",
    "\n",
    "                    for r2 in range(r + mat):\n",
    "                        for c2 in range(c + mat):\n",
    "\n",
    "                            if park[r2][c2] != \"-1\":\n",
    "                                break\n",
    "                            else :\n",
    "                                return mat"
   ]
  },
  {
   "cell_type": "code",
   "execution_count": null,
   "id": "4457a875",
   "metadata": {},
   "outputs": [
    {
     "data": {
      "text/plain": [
       "['-1', '-1', '-1', '-1', '-1']"
      ]
     },
     "execution_count": 24,
     "metadata": {},
     "output_type": "execute_result"
    }
   ],
   "source": [
    "mat = 5\n",
    "\n",
    "list([\"-1\"]*mat)"
   ]
  },
  {
   "cell_type": "code",
   "execution_count": 92,
   "id": "1f82c5b1",
   "metadata": {},
   "outputs": [
    {
     "data": {
      "text/plain": [
       "5"
      ]
     },
     "execution_count": 92,
     "metadata": {},
     "output_type": "execute_result"
    }
   ],
   "source": [
    "mats = [3,5,2]\n",
    "park = \t[[\"A\", \"A\", \"-1\", \"B\", \"B\", \"B\", \"B\", \"-1\"],\\\n",
    "        [\"A\", \"A\", \"-1\", \"B\", \"B\", \"B\", \"B\", \"-1\"],\\\n",
    "        [\"-1\", \"-1\", \"-1\", \"-1\", \"-1\", \"-1\", \"-1\", \"-1\"],\\\n",
    "        [\"D\", \"D\", \"-1\", \"-1\", \"-1\", \"-1\", \"E\", \"-1\"],\\\n",
    "        [\"D\", \"D\", \"-1\", \"-1\", \"-1\", \"-1\", \"-1\", \"F\"],\\\n",
    "        [\"D\", \"D\", \"-1\", \"-1\", \"-1\", \"-1\", \"E\", \"-1\"]]\n",
    "jari(mats,park)\n"
   ]
  },
  {
   "cell_type": "code",
   "execution_count": 85,
   "id": "b64a1c25",
   "metadata": {},
   "outputs": [
    {
     "name": "stdout",
     "output_type": "stream",
     "text": [
      "0\n",
      "1\n",
      "2\n",
      "3\n",
      "4\n",
      "5\n"
     ]
    }
   ],
   "source": [
    "len(park),len(park[0])\n",
    "\n",
    "for i in range(len(park)):\n",
    "    print(i)"
   ]
  },
  {
   "cell_type": "code",
   "execution_count": 65,
   "id": "adfaa9a8",
   "metadata": {},
   "outputs": [
    {
     "name": "stdout",
     "output_type": "stream",
     "text": [
      "False\n"
     ]
    }
   ],
   "source": [
    "my_list = [\n",
    "    [1, 2, 5, 4, 5, 6],\n",
    "    [7, 9, 9, 18, 11, 12],\n",
    "    [13, 14, 13, 16, 17, 16],\n",
    "    [19, 28, 21, 22, 25, 24],\n",
    "    [25, 28, 27, 23, 23, 99],\n",
    "    [31, 32, 33, 54, 35, 90]\n",
    "]\n",
    "\n",
    "# 찾고 싶은 리스트\n",
    "target_list = [28, 21, 22, 25]\n",
    "\n",
    "# 리스트 안에 target_list가 포함되어 있는지 확인\n",
    "contains_target = any(target_list == item for item in my_list)\n",
    "\n",
    "print(contains_target)  # True\n"
   ]
  },
  {
   "cell_type": "code",
   "execution_count": null,
   "id": "4005db52",
   "metadata": {},
   "outputs": [],
   "source": [
    "def time_to_int(pos):\n",
    "    time = int(pos.split(\":\")[0]) * 60 + int(pos.split(\":\")[1])\n",
    "    return time\n",
    "\n",
    "def int_to_time(pos):\n",
    "    change_time = str(pos // 60).zfill(2) + \":\" + str(pos % 60).zfill(2)\n",
    "    return change_time\n",
    "\n",
    "\n",
    "def solution(video_len, pos, op_start, op_end, commands):\n",
    "    time = time_to_int(pos)\n",
    "\n",
    "    op_start_time = time_to_int(op_start)\n",
    "    op_end_time = time_to_int(op_end)\n",
    "    video_time = time_to_int(video_len)\n",
    "\n",
    "\n",
    "    if max(op_start_time, min(op_end_time, time)) == time:\n",
    "        time = op_end_time\n",
    "\n",
    "    for cmd in commands:\n",
    "        if cmd == \"prev\":\n",
    "            time -= 10\n",
    "            time = max(time, 0)\n",
    "\n",
    "        elif cmd == \"next\":\n",
    "            time += 10\n",
    "            time = min(time, video_time)\n",
    "\n",
    "\n",
    "        if max(op_start_time, min(op_end_time, time)) == time:\n",
    "            time = op_end_time\n",
    "\n",
    "\n",
    "    change_time = int_to_time(time)\n",
    "\n",
    "\n",
    "    return change_time"
   ]
  }
 ],
 "metadata": {
  "kernelspec": {
   "display_name": "ml",
   "language": "python",
   "name": "python3"
  },
  "language_info": {
   "codemirror_mode": {
    "name": "ipython",
    "version": 3
   },
   "file_extension": ".py",
   "mimetype": "text/x-python",
   "name": "python",
   "nbconvert_exporter": "python",
   "pygments_lexer": "ipython3",
   "version": "3.12.10"
  }
 },
 "nbformat": 4,
 "nbformat_minor": 5
}
