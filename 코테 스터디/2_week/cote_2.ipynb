{
 "cells": [
  {
   "cell_type": "code",
   "execution_count": null,
   "id": "af476c61",
   "metadata": {},
   "outputs": [],
   "source": [
    "# 산책\n",
    "\n",
    "# input, output type 먼저 파악.\n",
    "\n",
    "# count NSEW해서 두 변수 출력되게\n",
    "# for i in range(10): -> 인덱스가 필요할 때 or 개수가 정해진 반복이 필요할 때\n",
    "# for route in routes: -> 안에 잇는 원소들이 필요할 때\n",
    "# for i, route in enumerate(route): -> 둘 다 써버려\n",
    "\n",
    "# def dog(route:str)->list: 가 더 좋음.\n",
    "def dog(route):\n",
    "    a = 0\n",
    "    b = 0\n",
    "    # for i in route:\n",
    "    for i in range(len(route)):\n",
    "        if route[i] == \"E\":\n",
    "            a += 1\n",
    "        elif route[i] == \"W\":\n",
    "            a -= 1\n",
    "        elif route[i] == \"N\":\n",
    "            b += 1\n",
    "        # else가 비교안하고 위 조건아니면 바로 else실행되니까 \n",
    "        elif route[i] == \"S\":\n",
    "            b -= 1\n",
    "    result = [a, b]\n",
    "    print(result)"
   ]
  },
  {
   "cell_type": "code",
   "execution_count": 25,
   "id": "b8b4be8e",
   "metadata": {},
   "outputs": [
    {
     "name": "stdout",
     "output_type": "stream",
     "text": [
      "[-1, 1]\n",
      "[0, 0]\n"
     ]
    },
    {
     "data": {
      "text/plain": [
       "(None, None)"
      ]
     },
     "execution_count": 25,
     "metadata": {},
     "output_type": "execute_result"
    }
   ],
   "source": [
    "dog(\"NSSNEWWN\"), dog(\"EESEEWNWSNWWNS\")"
   ]
  },
  {
   "cell_type": "code",
   "execution_count": null,
   "id": "49b5a5f9",
   "metadata": {},
   "outputs": [],
   "source": [
    "# 병과분류\n",
    "\n",
    "# 인라인 구문 = \"포현식\", 그래서 함주같은걸 실행 못하고 값에 대해서만 \n",
    "# 한줄 정도로 많이씀 !! 알아두기\n",
    "# print(\"Op--\" if code[-4:] == '_eye' else 'dirct recommendation')\n",
    "\n",
    "def hospital(code):\n",
    "    di = {\"_eye\" : \"Ophthamologyc\", +\n",
    "          \"head\" : \"Neurosurgery\", \n",
    "          \"infl\" : \"Orthopedics\", \n",
    "          \"skin\" : \"Dermatology\"}\n",
    "    # l = len(code)\n",
    "    c = code[-4:]\n",
    "    result = di.get(c)\n",
    "    if result != None:\n",
    "        print(result)\n",
    "    else:\n",
    "        print(\"direct recommendation\")\n"
   ]
  },
  {
   "cell_type": "code",
   "execution_count": 27,
   "id": "53387aaf",
   "metadata": {},
   "outputs": [
    {
     "name": "stdout",
     "output_type": "stream",
     "text": [
      "Ophthalmologyc\n"
     ]
    }
   ],
   "source": [
    "code = \"dry_eye\"\n",
    "# code = \"pat23_08_20_head\"\n",
    "hospital(code)"
   ]
  },
  {
   "cell_type": "code",
   "execution_count": 32,
   "id": "d1a308a4",
   "metadata": {},
   "outputs": [],
   "source": [
    "# 닉네임 규칙\n",
    "\n",
    "# for letter in nickname: <<\n",
    "\n",
    "def nick(nickname):\n",
    "    nickname = nickname.replace(\"l\", \"I\") # 뒤에 .replace 붙여서 써도 됨. 계속 str type이라.\n",
    "    nickname = nickname.replace(\"w\", \"vv\")\n",
    "    nickname = nickname.replace(\"W\", \"VV\")\n",
    "    nickname = nickname.replace(\"O\", \"0\")\n",
    "    if len(nickname) > 8:\n",
    "        nickname = nickname[:8]\n",
    "    elif len(nickname) < 4:\n",
    "        nickname += (\"o\"*(4-len(nickname)))\n",
    "\n",
    "    # while < 4:\n",
    "    #    nickname += \"o\"\n",
    "\n",
    "    print(nickname)"
   ]
  },
  {
   "cell_type": "code",
   "execution_count": 33,
   "id": "3b4402b2",
   "metadata": {},
   "outputs": [
    {
     "name": "stdout",
     "output_type": "stream",
     "text": [
      "VV0RLDvv\n"
     ]
    }
   ],
   "source": [
    "nick(\"WORLDworld\")"
   ]
  },
  {
   "cell_type": "code",
   "execution_count": 34,
   "id": "12908f10",
   "metadata": {},
   "outputs": [
    {
     "name": "stdout",
     "output_type": "stream",
     "text": [
      "G0oo\n"
     ]
    }
   ],
   "source": [
    "nick(\"GO\")"
   ]
  },
  {
   "cell_type": "code",
   "execution_count": 5,
   "id": "20fb5f1f",
   "metadata": {},
   "outputs": [],
   "source": [
    "# 저축\n",
    "\n",
    "def save(start, before, after):\n",
    "    # 목표 100, 첫달은 일정 금액, 70만원부터 저축량 증가.\n",
    "    # 첫달 저축 금액 start\n",
    "    # 두번째달부터 70만원까지 저축 금액before\n",
    "    # 70만원 부터 100까지 저축 금액after\n",
    "    \n",
    "    money = 0\n",
    "    month = 1\n",
    "    money += start\n",
    "    while money < 70 :\n",
    "        money += before\n",
    "        month += 1\n",
    "    while money < 100 :\n",
    "        money += after\n",
    "        month += 1\n",
    "    print(month, money)\n"
   ]
  },
  {
   "cell_type": "code",
   "execution_count": 6,
   "id": "97dba97f",
   "metadata": {},
   "outputs": [
    {
     "name": "stdout",
     "output_type": "stream",
     "text": [
      "12 102\n"
     ]
    }
   ],
   "source": [
    "save(28, 6, 8)"
   ]
  },
  {
   "cell_type": "code",
   "execution_count": 7,
   "id": "80b5f0b7",
   "metadata": {},
   "outputs": [
    {
     "name": "stdout",
     "output_type": "stream",
     "text": [
      "2 100\n"
     ]
    }
   ],
   "source": [
    "save(75, 8, 25)"
   ]
  },
  {
   "cell_type": "code",
   "execution_count": 37,
   "id": "a4b3186f",
   "metadata": {},
   "outputs": [
    {
     "name": "stdout",
     "output_type": "stream",
     "text": [
      "['Same']\n",
      "['Different', 'Same']\n"
     ]
    }
   ],
   "source": [
    "#가채점\n",
    "\n",
    "def score(numbers, our_score, score_list):\n",
    "    result=[]\n",
    "    # b = []\n",
    "    for v, number in enumerate(numbers):\n",
    "        idx = number - 1 \n",
    "        if score_list[idx] == our_score[v]:\n",
    "            result.append(\"Same\")\n",
    "        else:\n",
    "            result.append(\"Different\")\n",
    "\n",
    "    print(result)\n",
    "\n",
    "\n",
    "score([1],[100],[100,80,90,84,20])\n",
    "score([3,4],[85, 93],[85, 92, 38, 93, 48, 85, 92, 56])\n",
    "\n",
    "        \n"
   ]
  },
  {
   "cell_type": "code",
   "execution_count": null,
   "id": "8991eff6",
   "metadata": {},
   "outputs": [],
   "source": [
    "\n",
    "    for v in range(len(numbers)):\n",
    "        a = numbers[v] - 1\n",
    "        # b = score_list[a]\n",
    "        if our_score[v] == score_list[a]:\n",
    "            result += [\"Same\"]\n",
    "            print(result)\n",
    "        else:\n",
    "            result += [\"Different\"]\n",
    "            print(result)\n",
    "    \n",
    "# score([1],[100],[100,80,90,84,20])\n",
    "score([3,4],[85, 93],[85, 92, 38, 93, 48, 85, 92, 56])"
   ]
  },
  {
   "cell_type": "code",
   "execution_count": null,
   "id": "f72a1a2e",
   "metadata": {},
   "outputs": [],
   "source": [
    "# 버스\n",
    "\n",
    "def bus(seat, passengers):\n",
    "    passengers\n",
    "    \n",
    "    \n"
   ]
  },
  {
   "cell_type": "code",
   "execution_count": null,
   "id": "1e05a522",
   "metadata": {},
   "outputs": [],
   "source": [
    "seat = 5\n",
    "passengers = [[\"On\", \"On\", \"On\"], [\"Off\", \"On\", \"-\"], [\"Off\", \"-\", \"-\"]]"
   ]
  }
 ],
 "metadata": {
  "kernelspec": {
   "display_name": "base",
   "language": "python",
   "name": "python3"
  },
  "language_info": {
   "codemirror_mode": {
    "name": "ipython",
    "version": 3
   },
   "file_extension": ".py",
   "mimetype": "text/x-python",
   "name": "python",
   "nbconvert_exporter": "python",
   "pygments_lexer": "ipython3",
   "version": "3.12.3"
  }
 },
 "nbformat": 4,
 "nbformat_minor": 5
}
