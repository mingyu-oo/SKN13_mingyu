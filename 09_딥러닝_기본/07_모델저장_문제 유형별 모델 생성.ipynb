{
 "cells": [
  {
   "cell_type": "markdown",
   "metadata": {},
   "source": [
    "# 학습된 모델 저장\n",
    "\n",
    "- 학습이 완료된 모델을 파일로 저장하여, 이후 추가 학습이나 예측 서비스에 사용할 수 있도록 한다.\n",
    "- 파이토치(PyTorch)는 **모델의 파라미터만 저장**하는 방법과 **모델의 구조와 파라미터를 모두 저장**하는 두 가지 방식을 제공한다.\n",
    "- 저장 함수\n",
    "  - `torch.save(저장할 객체, 저장 경로)`\n",
    "- 보통 저장 파일의 확장자는 `.pt`나 `.pth`를 사용한다.\n",
    "\n",
    "## 모델 전체 저장 및 불러오기\n",
    "\n",
    "- 저장하기\n",
    "  - `torch.save(model, 저장 경로)`\n",
    "- 불러오기\n",
    "  - `load_model = torch.load(저장 경로)`\n",
    "- 모델 저장 시 **피클(pickle)**을 사용해 직렬화되므로, 모델을 불러오는 실행 환경에도 저장할 때 사용한 클래스 정의가 필요하다.\n"
   ]
  },
  {
   "cell_type": "markdown",
   "metadata": {},
   "source": [
    "## 모델의 파라미터만 저장\n",
    "\n",
    "-   모델을 구성하는 파라미터만 저장한다.\n",
    "-   모델의 구조는 저장하지 않기 때문에 불러올 때 **모델을 먼저 생성하고 생성한 모델에 불러온 파라미터를 덮어씌운다.**\n",
    "-   모델의 파라미터는 **state_dict** 형식으로 저장한다.\n",
    "\n",
    "### state_dict\n",
    "\n",
    "-   모델의 파라미터 Tensor들을 레이어 단위별로 나누어 저장한 Ordered Dictionary (OrderedDict)\n",
    "-   `모델객체.state_dict()` 메소드를 이용해 조회한다.\n",
    "-   모델의 state_dict을 조회 후 저장한다.\n",
    "    -   `torch.save(model.state_dict(), \"저장경로\")`\n",
    "-   생성된 모델에 읽어온 state_dict를 덮어씌운다.\n",
    "    -   `new_model.load_state_dict(torch.load(\"state_dict저장경로\"))`\n"
   ]
  },
  {
   "cell_type": "markdown",
   "metadata": {},
   "source": [
    "## Checkpoint 저장 및 불러오기\n",
    "\n",
    "- 학습이 끝나지 않은 모델을 저장하고, 나중에 이어서 학습시키려면 모델의 구조와 파라미터뿐만 아니라 optimizer, loss 함수 등 학습에 필요한 객체들도 함께 저장해야 한다.\n",
    "- 딕셔너리(Dictionary)에 저장하려는 값들을 key-value 쌍으로 구성하여 `torch.save()`를 이용해 저장한다.\n",
    "\n",
    "```python\n",
    "# 저장\n",
    "torch.save({\n",
    "    'epoch': epoch,\n",
    "    'model_state_dict': model.state_dict(),\n",
    "    'optimizer_state_dict': optimizer.state_dict(),\n",
    "    'loss': train_loss\n",
    "}, \"저장경로\")\n",
    "\n",
    "# 불러오기\n",
    "model = MyModel()\n",
    "optimizer = optim.Adam(model.parameters())\n",
    "\n",
    "# 불러온 checkpoint를 이용해 이전 학습 상태 복원\n",
    "checkpoint = torch.load(\"저장경로\")\n",
    "model.load_state_dict(checkpoint['model_state_dict'])\n",
    "optimizer.load_state_dict(checkpoint['optimizer_state_dict'])\n",
    "epoch = checkpoint['epoch']\n",
    "loss = checkpoint['loss']\n",
    "```"
   ]
  },
  {
   "cell_type": "code",
   "execution_count": 1,
   "metadata": {},
   "outputs": [],
   "source": [
    "# 간단한 모델 정의\n",
    "import torch\n",
    "import torch.nn as nn\n",
    "\n",
    "class MyModel(nn.Module):\n",
    "\n",
    "    def __init__(self):\n",
    "        super().__init__()\n",
    "        self.lr1 = nn.Linear(3, 4)\t# 3 X 4 + 4 (weight : input 개수 * output 개수, bias : output개수)\n",
    "        self.lr2 = nn.Linear(4, 2)\t# 4 X 2 + 2\n",
    "        self.relu = nn.ReLU() \t\t# activation함수->파라미터가 없는 단순 계산함수. relu(X) = max(X, 0)\n",
    "    def forward(self, X):\n",
    "        X = self.lr1(X)\n",
    "        X = self.relu(X)\n",
    "        X = self.lr2(X)\n",
    "        return X"
   ]
  },
  {
   "cell_type": "code",
   "execution_count": 3,
   "metadata": {},
   "outputs": [
    {
     "data": {
      "text/plain": [
       "MyModel(\n",
       "  (lr1): Linear(in_features=3, out_features=4, bias=True)\n",
       "  (lr2): Linear(in_features=4, out_features=2, bias=True)\n",
       "  (relu): ReLU()\n",
       ")"
      ]
     },
     "execution_count": 3,
     "metadata": {},
     "output_type": "execute_result"
    }
   ],
   "source": [
    "# 모델 생성\n",
    "model = MyModel()\n",
    "model"
   ]
  },
  {
   "cell_type": "code",
   "execution_count": 20,
   "metadata": {},
   "outputs": [
    {
     "data": {
      "text/plain": [
       "Linear(in_features=3, out_features=4, bias=True)"
      ]
     },
     "execution_count": 20,
     "metadata": {},
     "output_type": "execute_result"
    }
   ],
   "source": [
    "lr1 = model.lr1\n",
    "lr1"
   ]
  },
  {
   "cell_type": "code",
   "execution_count": 4,
   "metadata": {},
   "outputs": [],
   "source": [
    "import os\n",
    "os.makedirs(\"saved_models\", exist_ok=True)"
   ]
  },
  {
   "cell_type": "code",
   "execution_count": 5,
   "metadata": {},
   "outputs": [],
   "source": [
    "################################################\n",
    "#  모델을 저장\n",
    "################################################\n",
    "torch.save(model, \"saved_models/my_model.pt\")"
   ]
  },
  {
   "cell_type": "code",
   "execution_count": 12,
   "metadata": {
    "collapsed": true,
    "jupyter": {
     "outputs_hidden": true
    }
   },
   "outputs": [],
   "source": [
    "################################################\n",
    "#  저장된 모델 Load\n",
    "################################################\n",
    "load_model = torch.load(\"saved_models/my_model.pt\", weights_only=False)"
   ]
  },
  {
   "cell_type": "code",
   "execution_count": 13,
   "metadata": {},
   "outputs": [
    {
     "data": {
      "text/plain": [
       "MyModel(\n",
       "  (lr1): Linear(in_features=3, out_features=4, bias=True)\n",
       "  (lr2): Linear(in_features=4, out_features=2, bias=True)\n",
       "  (relu): ReLU()\n",
       ")"
      ]
     },
     "execution_count": 13,
     "metadata": {},
     "output_type": "execute_result"
    }
   ],
   "source": [
    "load_model"
   ]
  },
  {
   "cell_type": "code",
   "execution_count": 21,
   "metadata": {},
   "outputs": [
    {
     "data": {
      "text/plain": [
       "Parameter containing:\n",
       "tensor([[-0.3651,  0.1232,  0.3460],\n",
       "        [-0.4825,  0.2392, -0.3930],\n",
       "        [-0.3216,  0.4554,  0.1087],\n",
       "        [ 0.3803,  0.1561, -0.1509]], requires_grad=True)"
      ]
     },
     "execution_count": 21,
     "metadata": {},
     "output_type": "execute_result"
    }
   ],
   "source": [
    "load_lr1 = load_model.lr1\n",
    "lr1.weight"
   ]
  },
  {
   "cell_type": "code",
   "execution_count": 8,
   "metadata": {},
   "outputs": [
    {
     "data": {
      "text/plain": [
       "Linear(in_features=3, out_features=4, bias=True)"
      ]
     },
     "execution_count": 8,
     "metadata": {},
     "output_type": "execute_result"
    }
   ],
   "source": [
    "################################################\n",
    "#  모델에 Layer들을 조회. 모델.instance변수명\n",
    "################################################\n",
    "lr_layer = model.lr1\n",
    "lr_layer"
   ]
  },
  {
   "cell_type": "code",
   "execution_count": 9,
   "metadata": {},
   "outputs": [],
   "source": [
    "################################################\n",
    "#  Layer의 파라미터(weight/bias) 조회\n",
    "################################################\n",
    "lr1_weight = lr_layer.weight\n",
    "lr1_bias = lr_layer.bias"
   ]
  },
  {
   "cell_type": "code",
   "execution_count": 10,
   "metadata": {},
   "outputs": [
    {
     "data": {
      "text/plain": [
       "Parameter containing:\n",
       "tensor([[-0.3651,  0.1232,  0.3460],\n",
       "        [-0.4825,  0.2392, -0.3930],\n",
       "        [-0.3216,  0.4554,  0.1087],\n",
       "        [ 0.3803,  0.1561, -0.1509]], requires_grad=True)"
      ]
     },
     "execution_count": 10,
     "metadata": {},
     "output_type": "execute_result"
    }
   ],
   "source": [
    "lr1_weight"
   ]
  },
  {
   "cell_type": "code",
   "execution_count": 11,
   "metadata": {},
   "outputs": [
    {
     "data": {
      "text/plain": [
       "Parameter containing:\n",
       "tensor([-0.3064,  0.1497, -0.5563,  0.4310], requires_grad=True)"
      ]
     },
     "execution_count": 11,
     "metadata": {},
     "output_type": "execute_result"
    }
   ],
   "source": [
    "lr1_bias"
   ]
  },
  {
   "cell_type": "code",
   "execution_count": null,
   "metadata": {},
   "outputs": [
    {
     "data": {
      "text/plain": [
       "OrderedDict([('lr1.weight',\n",
       "              tensor([[-0.3651,  0.1232,  0.3460],\n",
       "                      [-0.4825,  0.2392, -0.3930],\n",
       "                      [-0.3216,  0.4554,  0.1087],\n",
       "                      [ 0.3803,  0.1561, -0.1509]])),\n",
       "             ('lr1.bias', tensor([-0.3064,  0.1497, -0.5563,  0.4310])),\n",
       "             ('lr2.weight',\n",
       "              tensor([[ 0.2344, -0.0167, -0.2647, -0.0400],\n",
       "                      [ 0.4010, -0.0739, -0.2463,  0.2996]])),\n",
       "             ('lr2.bias', tensor([ 0.0992, -0.4817]))])"
      ]
     },
     "execution_count": 22,
     "metadata": {},
     "output_type": "execute_result"
    }
   ],
   "source": [
    "######################################################\n",
    "# 모델의 파라미터들(weight들, bias들)만 저장/불러오기\n",
    "# 파라미터들만 가져온거라 뭐 못함 해줄려면 모델에 덮어야함.\n",
    "######################################################\n",
    "state_dict = model.state_dict()\n",
    "state_dict"
   ]
  },
  {
   "cell_type": "code",
   "execution_count": 23,
   "metadata": {},
   "outputs": [
    {
     "data": {
      "text/plain": [
       "odict_keys(['lr1.weight', 'lr1.bias', 'lr2.weight', 'lr2.bias'])"
      ]
     },
     "execution_count": 23,
     "metadata": {},
     "output_type": "execute_result"
    }
   ],
   "source": [
    "state_dict.keys()"
   ]
  },
  {
   "cell_type": "code",
   "execution_count": 25,
   "metadata": {},
   "outputs": [
    {
     "data": {
      "text/plain": [
       "tensor([-0.3064,  0.1497, -0.5563,  0.4310])"
      ]
     },
     "execution_count": 25,
     "metadata": {},
     "output_type": "execute_result"
    }
   ],
   "source": [
    "# dictionary라서 이런식으로 사용 가능\n",
    "state_dict[\"lr1.bias\"]"
   ]
  },
  {
   "cell_type": "code",
   "execution_count": 26,
   "metadata": {},
   "outputs": [],
   "source": [
    "###################\n",
    "# state_dict 저장\n",
    "################### \n",
    "\n",
    "torch.save(state_dict, \"saved_models/my_model_parameter.pt\")"
   ]
  },
  {
   "cell_type": "code",
   "execution_count": 27,
   "metadata": {},
   "outputs": [],
   "source": [
    "#####################\n",
    "# state_dict load\n",
    "#####################\n",
    "sd = torch.load(\"saved_models/my_model_parameter.pt\")"
   ]
  },
  {
   "cell_type": "code",
   "execution_count": 28,
   "metadata": {},
   "outputs": [
    {
     "data": {
      "text/plain": [
       "OrderedDict([('lr1.weight',\n",
       "              tensor([[-0.1443, -0.2442,  0.4039],\n",
       "                      [ 0.1862, -0.2759,  0.3868],\n",
       "                      [-0.5097, -0.2812,  0.1197],\n",
       "                      [-0.4282, -0.1300,  0.4983]])),\n",
       "             ('lr1.bias', tensor([ 0.3782, -0.3963, -0.1122, -0.5649])),\n",
       "             ('lr2.weight',\n",
       "              tensor([[-0.2668, -0.2249, -0.4688,  0.4183],\n",
       "                      [-0.0299, -0.1588, -0.3859, -0.4993]])),\n",
       "             ('lr2.bias', tensor([0.3497, 0.1160]))])"
      ]
     },
     "execution_count": 28,
     "metadata": {},
     "output_type": "execute_result"
    }
   ],
   "source": [
    "# load한 state_dict를 모델 파라미터에 적용(덮어 씌운다.)\n",
    "new_model = MyModel()\n",
    "new_model.state_dict()"
   ]
  },
  {
   "cell_type": "code",
   "execution_count": 29,
   "metadata": {},
   "outputs": [
    {
     "data": {
      "text/plain": [
       "<All keys matched successfully>"
      ]
     },
     "execution_count": 29,
     "metadata": {},
     "output_type": "execute_result"
    }
   ],
   "source": [
    "new_model.load_state_dict(sd)"
   ]
  },
  {
   "cell_type": "code",
   "execution_count": 30,
   "metadata": {},
   "outputs": [
    {
     "data": {
      "text/plain": [
       "OrderedDict([('lr1.weight',\n",
       "              tensor([[-0.3651,  0.1232,  0.3460],\n",
       "                      [-0.4825,  0.2392, -0.3930],\n",
       "                      [-0.3216,  0.4554,  0.1087],\n",
       "                      [ 0.3803,  0.1561, -0.1509]])),\n",
       "             ('lr1.bias', tensor([-0.3064,  0.1497, -0.5563,  0.4310])),\n",
       "             ('lr2.weight',\n",
       "              tensor([[ 0.2344, -0.0167, -0.2647, -0.0400],\n",
       "                      [ 0.4010, -0.0739, -0.2463,  0.2996]])),\n",
       "             ('lr2.bias', tensor([ 0.0992, -0.4817]))])"
      ]
     },
     "execution_count": 30,
     "metadata": {},
     "output_type": "execute_result"
    }
   ],
   "source": [
    "new_model.state_dict()"
   ]
  },
  {
   "cell_type": "code",
   "execution_count": 31,
   "metadata": {},
   "outputs": [
    {
     "name": "stdout",
     "output_type": "stream",
     "text": [
      "Collecting torchinfo\n",
      "  Downloading torchinfo-1.8.0-py3-none-any.whl.metadata (21 kB)\n",
      "Downloading torchinfo-1.8.0-py3-none-any.whl (23 kB)\n",
      "Installing collected packages: torchinfo\n",
      "Successfully installed torchinfo-1.8.0\n"
     ]
    }
   ],
   "source": [
    "# torchinof 패키지 설치: 파이토치 모델 구조를 조사해주는 패키지.\n",
    "!pip install torchinfo"
   ]
  },
  {
   "cell_type": "code",
   "execution_count": 32,
   "metadata": {},
   "outputs": [
    {
     "data": {
      "text/plain": [
       "MyModel(\n",
       "  (lr1): Linear(in_features=3, out_features=4, bias=True)\n",
       "  (lr2): Linear(in_features=4, out_features=2, bias=True)\n",
       "  (relu): ReLU()\n",
       ")"
      ]
     },
     "execution_count": 32,
     "metadata": {},
     "output_type": "execute_result"
    }
   ],
   "source": [
    "model"
   ]
  },
  {
   "cell_type": "code",
   "execution_count": null,
   "metadata": {},
   "outputs": [
    {
     "data": {
      "text/plain": [
       "=================================================================\n",
       "Layer (type:depth-idx)                   Param #\n",
       "=================================================================\n",
       "MyModel                                  --\n",
       "├─Linear: 1-1                            16\n",
       "├─Linear: 1-2                            10\n",
       "├─ReLU: 1-3                              --\n",
       "=================================================================\n",
       "Total params: 26\n",
       "Trainable params: 26\n",
       "Non-trainable params: 0\n",
       "================================================================="
      ]
     },
     "execution_count": 33,
     "metadata": {},
     "output_type": "execute_result"
    }
   ],
   "source": [
    "from torchinfo import summary\n",
    "# model의 내용을 더 상세히 알려주는 모듈.\n",
    "summary(model)"
   ]
  },
  {
   "cell_type": "code",
   "execution_count": 34,
   "metadata": {},
   "outputs": [
    {
     "data": {
      "text/plain": [
       "==========================================================================================\n",
       "Layer (type:depth-idx)                   Output Shape              Param #\n",
       "==========================================================================================\n",
       "MyModel                                  [100, 2]                  --\n",
       "├─Linear: 1-1                            [100, 4]                  16\n",
       "├─ReLU: 1-2                              [100, 4]                  --\n",
       "├─Linear: 1-3                            [100, 2]                  10\n",
       "==========================================================================================\n",
       "Total params: 26\n",
       "Trainable params: 26\n",
       "Non-trainable params: 0\n",
       "Total mult-adds (Units.MEGABYTES): 0.00\n",
       "==========================================================================================\n",
       "Input size (MB): 0.00\n",
       "Forward/backward pass size (MB): 0.00\n",
       "Params size (MB): 0.00\n",
       "Estimated Total Size (MB): 0.01\n",
       "=========================================================================================="
      ]
     },
     "execution_count": 34,
     "metadata": {},
     "output_type": "execute_result"
    }
   ],
   "source": [
    "# input data 의 shape을 지정하면 각 Layer의 output shape을 출력한다.\n",
    "summary(model, (100, 3))"
   ]
  },
  {
   "cell_type": "markdown",
   "metadata": {
    "slideshow": {
     "slide_type": "slide"
    }
   },
   "source": [
    "# 문제 유형별 MLP 네트워크\n",
    "- 해결하려는 문제 유형에 따라 출력 Layer의 구조가 바뀐다.\n",
    "- 딥러닝 구조에서 **Feature를 추출하는 Layer 들을 Backbone** 이라고 하고 **추론하는 Layer들을 Head** 라고 한다. \n",
    "\n",
    "\n",
    "> - MLP(Multi Layer Perceptron), DNN(Deep Neural Network), ANN(Artificial Neural Network)\n",
    ">     -   Fully Connected Layer(nn.Linear)로 구성된 딥러닝 모델\n",
    ">     -   input feature들 모두에 대응하는 weight들(가중치)을 사용한다.\n",
    "> "
   ]
  },
  {
   "cell_type": "markdown",
   "metadata": {
    "slideshow": {
     "slide_type": "fragment"
    }
   },
   "source": [
    "## Boston Housing Dataset - **Regression(회귀) 문제**\n",
    "\n",
    "보스턴 주택가격 dataset은 다음과 같은 속성을 바탕으로 해당 타운 주택 가격의 중앙값을 예측하는 문제.\n",
    "\n",
    "-   CRIM: 범죄율\n",
    "-   ZN: 25,000 평방피트당 주거지역 비율\n",
    "-   INDUS: 비소매 상업지구 비율\n",
    "-   CHAS: 찰스강에 인접해 있는지 여부(인접:1, 아니면:0)\n",
    "-   NOX: 일산화질소 농도(단위: 0.1ppm)\n",
    "-   RM: 주택당 방의 수\n",
    "-   AGE: 1940년 이전에 건설된 주택의 비율\n",
    "-   DIS: 5개의 보스턴 직업고용센터와의 거리(가중 평균)\n",
    "-   RAD: 고속도로 접근성\n",
    "-   TAX: 재산세율\n",
    "-   PTRATIO: 학생/교사 비율\n",
    "-   B: 흑인 비율\n",
    "-   LSTAT: 하위 계층 비율\n",
    "    <br><br>\n",
    "-   **Target**\n",
    "    -   MEDV: 타운의 주택가격 중앙값(단위: 1,000달러)\n"
   ]
  },
  {
   "cell_type": "code",
   "execution_count": 126,
   "metadata": {},
   "outputs": [],
   "source": [
    "from sklearn.preprocessing import StandardScaler\n",
    "from sklearn.model_selection import train_test_split\n",
    "\n",
    "import pandas as pd\n",
    "import numpy as np\n",
    "import matplotlib.pyplot as plt\n",
    "\n",
    "import torch\n",
    "import torch.nn as nn # layer들을 정의한 module\n",
    "from torch.utils.data import TensorDataset, DataLoader\n",
    "import torchinfo"
   ]
  },
  {
   "cell_type": "code",
   "execution_count": 37,
   "metadata": {},
   "outputs": [],
   "source": [
    "device = \"cuda\" if torch.cuda.is_available() else \"cpu\""
   ]
  },
  {
   "cell_type": "code",
   "execution_count": 38,
   "metadata": {},
   "outputs": [],
   "source": [
    "data_path = \"data/boston_hosing.csv\""
   ]
  },
  {
   "cell_type": "code",
   "execution_count": 108,
   "metadata": {},
   "outputs": [],
   "source": [
    "data = pd.read_csv(data_path)"
   ]
  },
  {
   "cell_type": "code",
   "execution_count": 109,
   "metadata": {},
   "outputs": [
    {
     "data": {
      "text/html": [
       "<div>\n",
       "<style scoped>\n",
       "    .dataframe tbody tr th:only-of-type {\n",
       "        vertical-align: middle;\n",
       "    }\n",
       "\n",
       "    .dataframe tbody tr th {\n",
       "        vertical-align: top;\n",
       "    }\n",
       "\n",
       "    .dataframe thead th {\n",
       "        text-align: right;\n",
       "    }\n",
       "</style>\n",
       "<table border=\"1\" class=\"dataframe\">\n",
       "  <thead>\n",
       "    <tr style=\"text-align: right;\">\n",
       "      <th></th>\n",
       "      <th>CRIM</th>\n",
       "      <th>ZN</th>\n",
       "      <th>INDUS</th>\n",
       "      <th>CHAS</th>\n",
       "      <th>NOX</th>\n",
       "      <th>RM</th>\n",
       "      <th>AGE</th>\n",
       "      <th>DIS</th>\n",
       "      <th>RAD</th>\n",
       "      <th>TAX</th>\n",
       "      <th>PTRATIO</th>\n",
       "      <th>B</th>\n",
       "      <th>LSTAT</th>\n",
       "      <th>MEDV</th>\n",
       "    </tr>\n",
       "  </thead>\n",
       "  <tbody>\n",
       "    <tr>\n",
       "      <th>0</th>\n",
       "      <td>0.00632</td>\n",
       "      <td>18.0</td>\n",
       "      <td>2.31</td>\n",
       "      <td>0.0</td>\n",
       "      <td>0.538</td>\n",
       "      <td>6.575</td>\n",
       "      <td>65.2</td>\n",
       "      <td>4.0900</td>\n",
       "      <td>1.0</td>\n",
       "      <td>296.0</td>\n",
       "      <td>15.3</td>\n",
       "      <td>396.90</td>\n",
       "      <td>4.98</td>\n",
       "      <td>24.0</td>\n",
       "    </tr>\n",
       "    <tr>\n",
       "      <th>1</th>\n",
       "      <td>0.02731</td>\n",
       "      <td>0.0</td>\n",
       "      <td>7.07</td>\n",
       "      <td>0.0</td>\n",
       "      <td>0.469</td>\n",
       "      <td>6.421</td>\n",
       "      <td>78.9</td>\n",
       "      <td>4.9671</td>\n",
       "      <td>2.0</td>\n",
       "      <td>242.0</td>\n",
       "      <td>17.8</td>\n",
       "      <td>396.90</td>\n",
       "      <td>9.14</td>\n",
       "      <td>21.6</td>\n",
       "    </tr>\n",
       "    <tr>\n",
       "      <th>2</th>\n",
       "      <td>0.02729</td>\n",
       "      <td>0.0</td>\n",
       "      <td>7.07</td>\n",
       "      <td>0.0</td>\n",
       "      <td>0.469</td>\n",
       "      <td>7.185</td>\n",
       "      <td>61.1</td>\n",
       "      <td>4.9671</td>\n",
       "      <td>2.0</td>\n",
       "      <td>242.0</td>\n",
       "      <td>17.8</td>\n",
       "      <td>392.83</td>\n",
       "      <td>4.03</td>\n",
       "      <td>34.7</td>\n",
       "    </tr>\n",
       "    <tr>\n",
       "      <th>3</th>\n",
       "      <td>0.03237</td>\n",
       "      <td>0.0</td>\n",
       "      <td>2.18</td>\n",
       "      <td>0.0</td>\n",
       "      <td>0.458</td>\n",
       "      <td>6.998</td>\n",
       "      <td>45.8</td>\n",
       "      <td>6.0622</td>\n",
       "      <td>3.0</td>\n",
       "      <td>222.0</td>\n",
       "      <td>18.7</td>\n",
       "      <td>394.63</td>\n",
       "      <td>2.94</td>\n",
       "      <td>33.4</td>\n",
       "    </tr>\n",
       "    <tr>\n",
       "      <th>4</th>\n",
       "      <td>0.06905</td>\n",
       "      <td>0.0</td>\n",
       "      <td>2.18</td>\n",
       "      <td>0.0</td>\n",
       "      <td>0.458</td>\n",
       "      <td>7.147</td>\n",
       "      <td>54.2</td>\n",
       "      <td>6.0622</td>\n",
       "      <td>3.0</td>\n",
       "      <td>222.0</td>\n",
       "      <td>18.7</td>\n",
       "      <td>396.90</td>\n",
       "      <td>5.33</td>\n",
       "      <td>36.2</td>\n",
       "    </tr>\n",
       "  </tbody>\n",
       "</table>\n",
       "</div>"
      ],
      "text/plain": [
       "      CRIM    ZN  INDUS  CHAS    NOX  ...    TAX  PTRATIO       B  LSTAT  MEDV\n",
       "0  0.00632  18.0   2.31   0.0  0.538  ...  296.0     15.3  396.90   4.98  24.0\n",
       "1  0.02731   0.0   7.07   0.0  0.469  ...  242.0     17.8  396.90   9.14  21.6\n",
       "2  0.02729   0.0   7.07   0.0  0.469  ...  242.0     17.8  392.83   4.03  34.7\n",
       "3  0.03237   0.0   2.18   0.0  0.458  ...  222.0     18.7  394.63   2.94  33.4\n",
       "4  0.06905   0.0   2.18   0.0  0.458  ...  222.0     18.7  396.90   5.33  36.2\n",
       "\n",
       "[5 rows x 14 columns]"
      ]
     },
     "execution_count": 109,
     "metadata": {},
     "output_type": "execute_result"
    }
   ],
   "source": [
    "data.head()"
   ]
  },
  {
   "cell_type": "code",
   "execution_count": 135,
   "metadata": {},
   "outputs": [],
   "source": [
    "X = data.drop(columns='MEDV').values\n",
    "y = data[\"MEDV\"].values.reshape(-1,1)"
   ]
  },
  {
   "cell_type": "code",
   "execution_count": null,
   "metadata": {},
   "outputs": [
    {
     "data": {
      "text/plain": [
       "((404, 13), (102, 13), (404, 1), (102, 1))"
      ]
     },
     "execution_count": 136,
     "metadata": {},
     "output_type": "execute_result"
    }
   ],
   "source": [
    "# train / test set 분리\n",
    "\n",
    "X_train, X_test, y_train, y_test = train_test_split(\n",
    "\tX, y, test_size=0.2, random_state=42\n",
    ")\n",
    "X_train.shape, X_test.shape, y_train.shape, y_test.shape"
   ]
  },
  {
   "cell_type": "code",
   "execution_count": null,
   "metadata": {},
   "outputs": [],
   "source": [
    "# Feature Scaling - Standard Scaler\n",
    "\n",
    "scaler = StandardScaler()\n",
    "X_train_scaled = scaler.fit_transform(X_train)\n",
    "X_test_scaled = scaler.fit_transform(X_test)"
   ]
  },
  {
   "cell_type": "code",
   "execution_count": null,
   "metadata": {},
   "outputs": [],
   "source": [
    "###################################\n",
    "# Dataset 생성\n",
    "# X, y가 ndarray type으로 memory에 있는 경우 -> TensorDataset\n",
    "###################################\n",
    "\n",
    "trainset = TensorDataset(\n",
    "\ttorch.tensor(X_train_scaled, dtype=torch.float32), #model parametor와 type 통일\n",
    "\ttorch.tensor(y_train, dtype=torch.float32)\n",
    ")\n",
    "\n",
    "testset = TensorDataset(\n",
    "\ttorch.tensor(X_test_scaled, dtype=torch.float32),\n",
    "\ttorch.tensor(y_test, dtype=torch.float32)\n",
    ")"
   ]
  },
  {
   "cell_type": "code",
   "execution_count": null,
   "metadata": {},
   "outputs": [],
   "source": [
    "###################################\n",
    "# DataLoader 생성\n",
    "###################################\n",
    "\n",
    "train_loader = DataLoader(\n",
    "\ttrainset,\n",
    "\tbatch_size= 100,\n",
    "\tshuffle=True,\n",
    "\tdrop_last=True\n",
    ")\n",
    "test_loader = DataLoader(\n",
    "\ttestset,\n",
    "\tbatch_size=102\n",
    ")"
   ]
  },
  {
   "cell_type": "code",
   "execution_count": 140,
   "metadata": {},
   "outputs": [
    {
     "data": {
      "text/plain": [
       "(4, 1)"
      ]
     },
     "execution_count": 140,
     "metadata": {},
     "output_type": "execute_result"
    }
   ],
   "source": [
    "# epoch당 step 수\n",
    "len(train_loader), len(test_loader)"
   ]
  },
  {
   "cell_type": "code",
   "execution_count": 141,
   "metadata": {},
   "outputs": [
    {
     "data": {
      "text/plain": [
       "((404, 13), (404, 1))"
      ]
     },
     "execution_count": 141,
     "metadata": {},
     "output_type": "execute_result"
    }
   ],
   "source": [
    "# input 개수 13, outpu 개수 1\n",
    "X_train_scaled.shape, y_train.shape"
   ]
  },
  {
   "cell_type": "code",
   "execution_count": 142,
   "metadata": {},
   "outputs": [],
   "source": [
    "###################################\n",
    "# model 정의\n",
    "###################################\n",
    "\n",
    "class BostonModel(nn.Module):\n",
    "\n",
    "\tdef __init__(self):\n",
    "\t\tsuper().__init__()\n",
    "\t\tself.lr1 = nn.Linear(13, 32)\t# 13 : X의 feature 개수\n",
    "\t\tself.lr2 = nn.Linear(32, 16)\n",
    "\t\tself.lr3 = nn.Linear(16, 1)\t\t# 1 : 예측할 y의 개수(집값)\n",
    "\n",
    "\tdef forward(self, X):\n",
    "\t\t# lr1 -> ReLU -> lr2 -> ReLU -> lr3\n",
    "\t\tX = self.lr1(X)\n",
    "\t\tX = nn.ReLU()(X)\t#생성된 객체에다가 콜함수에 X를 넣어주는것\n",
    "\t\tX = self.lr2(X)\n",
    "\t\tX = nn.ReLU()(X)\n",
    "\t\tX = self.lr3(X)\n",
    "\t\treturn X"
   ]
  },
  {
   "cell_type": "code",
   "execution_count": 143,
   "metadata": {},
   "outputs": [
    {
     "data": {
      "text/plain": [
       "((404, 13), (404, 13))"
      ]
     },
     "execution_count": 143,
     "metadata": {},
     "output_type": "execute_result"
    }
   ],
   "source": [
    "X_train_scaled.shape, X_train.shape"
   ]
  },
  {
   "cell_type": "code",
   "execution_count": 220,
   "metadata": {},
   "outputs": [
    {
     "data": {
      "text/plain": [
       "==========================================================================================\n",
       "Layer (type:depth-idx)                   Output Shape              Param #\n",
       "==========================================================================================\n",
       "BostonModel                              [100, 1]                  --\n",
       "├─Linear: 1-1                            [100, 32]                 448\n",
       "├─Linear: 1-2                            [100, 16]                 528\n",
       "├─Linear: 1-3                            [100, 1]                  17\n",
       "==========================================================================================\n",
       "Total params: 993\n",
       "Trainable params: 993\n",
       "Non-trainable params: 0\n",
       "Total mult-adds (Units.MEGABYTES): 0.10\n",
       "==========================================================================================\n",
       "Input size (MB): 0.01\n",
       "Forward/backward pass size (MB): 0.04\n",
       "Params size (MB): 0.00\n",
       "Estimated Total Size (MB): 0.05\n",
       "=========================================================================================="
      ]
     },
     "execution_count": 220,
     "metadata": {},
     "output_type": "execute_result"
    }
   ],
   "source": [
    "boston_model = BostonModel()\n",
    "torchinfo.summary(boston_model, (100,13))\t# (100 : batch size, 13 : feature size)"
   ]
  },
  {
   "cell_type": "code",
   "execution_count": 145,
   "metadata": {},
   "outputs": [],
   "source": [
    "###################################\n",
    "# model 정의\n",
    "###################################\n",
    "# device로 위치 이동 : model, X, y\n",
    "# 필요한 객체 생성 : model, loss func, optimizer\n",
    "\n",
    "boston_model = boston_model.to(device)\n",
    "loss_fn = nn.MSELoss()\n",
    "optimizer = torch.optim.RMSprop(boston_model.parameters(), lr = 0.001)\n",
    "# optimizer parametor(model의 parametor, neta)"
   ]
  },
  {
   "cell_type": "code",
   "execution_count": 146,
   "metadata": {},
   "outputs": [
    {
     "name": "stdout",
     "output_type": "stream",
     "text": [
      "[1/1000] train loss :  597.44391, valid loss : 513.96698\n",
      "[2/1000] train loss :  579.84825, valid loss : 493.54251\n",
      "[3/1000] train loss :  551.33540, valid loss : 467.91110\n",
      "[4/1000] train loss :  527.97112, valid loss : 437.49142\n",
      "[5/1000] train loss :  496.14563, valid loss : 404.08612\n",
      "[6/1000] train loss :  463.01180, valid loss : 368.96558\n",
      "[7/1000] train loss :  426.57051, valid loss : 333.37262\n",
      "[8/1000] train loss :  387.37791, valid loss : 298.48331\n",
      "[9/1000] train loss :  353.24887, valid loss : 264.41464\n",
      "[10/1000] train loss :  318.36325, valid loss : 232.16243\n",
      "[11/1000] train loss :  285.64289, valid loss : 202.34109\n",
      "[12/1000] train loss :  254.33080, valid loss : 175.29047\n",
      "[13/1000] train loss :  225.94267, valid loss : 151.42963\n",
      "[14/1000] train loss :  197.96416, valid loss : 130.62224\n",
      "[15/1000] train loss :  178.11059, valid loss : 112.87632\n",
      "[16/1000] train loss :  157.21720, valid loss : 98.01281\n",
      "[17/1000] train loss :  137.93144, valid loss : 85.88217\n",
      "[18/1000] train loss :  126.52444, valid loss : 75.77321\n",
      "[19/1000] train loss :  111.56180, valid loss : 67.82039\n",
      "[20/1000] train loss :  103.02049, valid loss : 61.35333\n",
      "[21/1000] train loss :  90.74400, valid loss : 56.39660\n",
      "[22/1000] train loss :  85.20621, valid loss : 52.35594\n",
      "[23/1000] train loss :  78.75049, valid loss : 49.12742\n",
      "[24/1000] train loss :  71.86400, valid loss : 46.58604\n",
      "[25/1000] train loss :  67.46378, valid loss : 44.56794\n",
      "[26/1000] train loss :  62.30195, valid loss : 42.95407\n",
      "[27/1000] train loss :  57.32893, valid loss : 41.61026\n",
      "[28/1000] train loss :  55.11611, valid loss : 40.49689\n",
      "[29/1000] train loss :  51.97710, valid loss : 39.58289\n",
      "[30/1000] train loss :  49.43547, valid loss : 38.84129\n",
      "[31/1000] train loss :  47.22766, valid loss : 38.12584\n",
      "[32/1000] train loss :  45.05580, valid loss : 37.49876\n",
      "[33/1000] train loss :  43.07003, valid loss : 36.94218\n",
      "[34/1000] train loss :  40.45091, valid loss : 36.49907\n",
      "[35/1000] train loss :  39.17013, valid loss : 36.06662\n",
      "[36/1000] train loss :  37.54038, valid loss : 35.64069\n",
      "[37/1000] train loss :  34.98394, valid loss : 35.34127\n",
      "[38/1000] train loss :  35.75320, valid loss : 34.91240\n",
      "[39/1000] train loss :  33.86701, valid loss : 34.61999\n",
      "[40/1000] train loss :  33.37737, valid loss : 34.37895\n",
      "[41/1000] train loss :  32.73789, valid loss : 34.19189\n",
      "[42/1000] train loss :  32.01212, valid loss : 33.87836\n",
      "[43/1000] train loss :  31.04432, valid loss : 33.61849\n",
      "[44/1000] train loss :  29.95510, valid loss : 33.42339\n",
      "[45/1000] train loss :  29.80419, valid loss : 33.13986\n",
      "[46/1000] train loss :  29.24142, valid loss : 32.99671\n",
      "[47/1000] train loss :  28.73608, valid loss : 32.80072\n",
      "[48/1000] train loss :  28.28636, valid loss : 32.59325\n",
      "[49/1000] train loss :  27.74123, valid loss : 32.41462\n",
      "[50/1000] train loss :  27.40505, valid loss : 32.31435\n",
      "[51/1000] train loss :  27.07398, valid loss : 32.12742\n",
      "[52/1000] train loss :  26.60095, valid loss : 31.91006\n",
      "[53/1000] train loss :  26.38310, valid loss : 31.73754\n",
      "[54/1000] train loss :  25.71466, valid loss : 31.54819\n",
      "[55/1000] train loss :  25.70997, valid loss : 31.33892\n",
      "[56/1000] train loss :  25.22985, valid loss : 31.28938\n",
      "[57/1000] train loss :  23.22662, valid loss : 31.09197\n",
      "[58/1000] train loss :  24.78848, valid loss : 30.94053\n",
      "[59/1000] train loss :  24.27587, valid loss : 30.80718\n",
      "[60/1000] train loss :  24.14310, valid loss : 30.58523\n",
      "[61/1000] train loss :  24.14488, valid loss : 30.47174\n",
      "[62/1000] train loss :  23.95800, valid loss : 30.33761\n",
      "[63/1000] train loss :  23.45410, valid loss : 30.07173\n",
      "[64/1000] train loss :  23.31912, valid loss : 29.94828\n",
      "[65/1000] train loss :  22.90253, valid loss : 29.77087\n",
      "[66/1000] train loss :  23.08245, valid loss : 29.65461\n",
      "[67/1000] train loss :  23.01326, valid loss : 29.59577\n",
      "[68/1000] train loss :  22.86113, valid loss : 29.43165\n",
      "[69/1000] train loss :  22.53656, valid loss : 29.25559\n",
      "[70/1000] train loss :  22.33294, valid loss : 29.17189\n",
      "[71/1000] train loss :  22.28616, valid loss : 29.10649\n",
      "[72/1000] train loss :  22.16450, valid loss : 29.00599\n",
      "[73/1000] train loss :  21.80053, valid loss : 28.85776\n",
      "[74/1000] train loss :  21.55797, valid loss : 28.62971\n",
      "[75/1000] train loss :  21.64070, valid loss : 28.49470\n",
      "[76/1000] train loss :  21.52379, valid loss : 28.31447\n",
      "[77/1000] train loss :  21.23099, valid loss : 28.17294\n",
      "[78/1000] train loss :  21.13847, valid loss : 28.00356\n",
      "[79/1000] train loss :  20.94684, valid loss : 27.69411\n",
      "[80/1000] train loss :  20.79649, valid loss : 27.71227\n",
      "[81/1000] train loss :  20.61498, valid loss : 27.45198\n",
      "[82/1000] train loss :  20.55875, valid loss : 27.30013\n",
      "[83/1000] train loss :  20.32568, valid loss : 27.31661\n",
      "[84/1000] train loss :  20.00978, valid loss : 27.16460\n",
      "[85/1000] train loss :  19.96982, valid loss : 27.07627\n",
      "[86/1000] train loss :  19.66497, valid loss : 26.70448\n",
      "[87/1000] train loss :  19.77233, valid loss : 26.59714\n",
      "[88/1000] train loss :  19.23316, valid loss : 26.57484\n",
      "[89/1000] train loss :  18.85984, valid loss : 26.59743\n",
      "[90/1000] train loss :  19.18415, valid loss : 26.32134\n",
      "[91/1000] train loss :  19.18194, valid loss : 26.25570\n",
      "[92/1000] train loss :  19.10286, valid loss : 25.97901\n",
      "[93/1000] train loss :  19.03838, valid loss : 25.90536\n",
      "[94/1000] train loss :  18.88128, valid loss : 25.68922\n",
      "[95/1000] train loss :  18.69685, valid loss : 25.78816\n",
      "[96/1000] train loss :  18.63869, valid loss : 25.61712\n",
      "[97/1000] train loss :  17.53584, valid loss : 25.40069\n",
      "[98/1000] train loss :  18.29750, valid loss : 25.18558\n",
      "[99/1000] train loss :  18.08268, valid loss : 25.07574\n",
      "[100/1000] train loss :  17.91847, valid loss : 24.88769\n",
      "[101/1000] train loss :  17.96909, valid loss : 24.85639\n",
      "[102/1000] train loss :  17.65164, valid loss : 24.76566\n",
      "[103/1000] train loss :  17.76010, valid loss : 24.38962\n",
      "[104/1000] train loss :  17.33433, valid loss : 24.38040\n",
      "[105/1000] train loss :  17.30171, valid loss : 24.38357\n",
      "[106/1000] train loss :  17.39591, valid loss : 24.33978\n",
      "[107/1000] train loss :  17.21683, valid loss : 24.18280\n",
      "[108/1000] train loss :  17.10124, valid loss : 23.99055\n",
      "[109/1000] train loss :  17.00538, valid loss : 23.90733\n",
      "[110/1000] train loss :  16.81356, valid loss : 23.62847\n",
      "[111/1000] train loss :  16.70329, valid loss : 23.64936\n",
      "[112/1000] train loss :  16.60124, valid loss : 23.81313\n",
      "[113/1000] train loss :  16.36838, valid loss : 23.64030\n",
      "[114/1000] train loss :  16.39650, valid loss : 23.50297\n",
      "[115/1000] train loss :  16.08840, valid loss : 23.06344\n",
      "[116/1000] train loss :  16.18517, valid loss : 23.22106\n",
      "[117/1000] train loss :  16.06447, valid loss : 22.98549\n",
      "[118/1000] train loss :  15.82315, valid loss : 22.89784\n",
      "[119/1000] train loss :  15.60226, valid loss : 22.77273\n",
      "[120/1000] train loss :  15.62374, valid loss : 22.95240\n",
      "[121/1000] train loss :  15.63622, valid loss : 22.86547\n",
      "[122/1000] train loss :  15.48648, valid loss : 22.74712\n",
      "[123/1000] train loss :  15.38408, valid loss : 22.58475\n",
      "[124/1000] train loss :  14.25183, valid loss : 22.00521\n",
      "[125/1000] train loss :  14.98332, valid loss : 22.06252\n",
      "[126/1000] train loss :  15.11308, valid loss : 21.81730\n",
      "[127/1000] train loss :  15.03833, valid loss : 22.14904\n",
      "[128/1000] train loss :  14.73721, valid loss : 22.19108\n",
      "[129/1000] train loss :  14.64692, valid loss : 22.35307\n",
      "[130/1000] train loss :  14.42712, valid loss : 21.62121\n",
      "[131/1000] train loss :  14.58268, valid loss : 21.29209\n",
      "[132/1000] train loss :  14.38898, valid loss : 21.81154\n",
      "[133/1000] train loss :  14.50413, valid loss : 21.55321\n",
      "[134/1000] train loss :  14.36078, valid loss : 21.81357\n",
      "[135/1000] train loss :  14.10813, valid loss : 21.62174\n",
      "[136/1000] train loss :  13.28854, valid loss : 21.69510\n",
      "[137/1000] train loss :  14.12047, valid loss : 21.23987\n",
      "[138/1000] train loss :  14.08691, valid loss : 20.84794\n",
      "[139/1000] train loss :  13.90889, valid loss : 20.32061\n",
      "[140/1000] train loss :  13.82113, valid loss : 20.62831\n",
      "[141/1000] train loss :  13.85101, valid loss : 21.02449\n",
      "[142/1000] train loss :  13.79481, valid loss : 20.41366\n",
      "[143/1000] train loss :  13.65648, valid loss : 21.16454\n",
      "[144/1000] train loss :  13.59219, valid loss : 20.68746\n",
      "[145/1000] train loss :  13.53747, valid loss : 20.47091\n",
      "[146/1000] train loss :  13.47336, valid loss : 21.02834\n",
      "[147/1000] train loss :  13.41574, valid loss : 21.12075\n",
      "[148/1000] train loss :  13.29327, valid loss : 19.92363\n",
      "[149/1000] train loss :  13.26046, valid loss : 19.89203\n",
      "[150/1000] train loss :  13.15601, valid loss : 20.52594\n",
      "[151/1000] train loss :  13.08633, valid loss : 19.91265\n",
      "[152/1000] train loss :  13.01413, valid loss : 20.15803\n",
      "[153/1000] train loss :  12.81671, valid loss : 19.68891\n",
      "[154/1000] train loss :  12.90847, valid loss : 20.19934\n",
      "[155/1000] train loss :  12.76765, valid loss : 20.66087\n",
      "[156/1000] train loss :  12.68848, valid loss : 19.97270\n",
      "[157/1000] train loss :  12.72050, valid loss : 19.87473\n",
      "[158/1000] train loss :  12.61019, valid loss : 19.78582\n",
      "[159/1000] train loss :  12.61665, valid loss : 19.10578\n",
      "[160/1000] train loss :  12.39932, valid loss : 19.25036\n",
      "[161/1000] train loss :  12.41129, valid loss : 19.84862\n",
      "[162/1000] train loss :  12.37728, valid loss : 20.06006\n",
      "[163/1000] train loss :  12.31161, valid loss : 19.22387\n",
      "[164/1000] train loss :  12.06199, valid loss : 20.00184\n",
      "[165/1000] train loss :  12.21676, valid loss : 18.81927\n",
      "[166/1000] train loss :  12.15113, valid loss : 19.55687\n",
      "[167/1000] train loss :  12.14825, valid loss : 19.09218\n",
      "[168/1000] train loss :  12.29506, valid loss : 18.75363\n",
      "[169/1000] train loss :  12.06169, valid loss : 18.76350\n",
      "[170/1000] train loss :  11.86123, valid loss : 19.06704\n",
      "[171/1000] train loss :  11.86419, valid loss : 19.20716\n",
      "[172/1000] train loss :  11.97614, valid loss : 19.62713\n",
      "[173/1000] train loss :  11.77318, valid loss : 18.83994\n",
      "[174/1000] train loss :  11.75305, valid loss : 19.30009\n",
      "[175/1000] train loss :  11.70734, valid loss : 19.31386\n",
      "[176/1000] train loss :  11.68114, valid loss : 18.81325\n",
      "[177/1000] train loss :  11.59544, valid loss : 18.83263\n",
      "[178/1000] train loss :  11.56758, valid loss : 18.88601\n",
      "[179/1000] train loss :  11.52432, valid loss : 19.28772\n",
      "[180/1000] train loss :  11.39061, valid loss : 17.86560\n",
      "[181/1000] train loss :  11.44498, valid loss : 19.05536\n",
      "[182/1000] train loss :  11.38029, valid loss : 18.84426\n",
      "[183/1000] train loss :  11.38852, valid loss : 18.72942\n",
      "[184/1000] train loss :  11.36757, valid loss : 19.16278\n",
      "[185/1000] train loss :  11.28191, valid loss : 18.28868\n",
      "[186/1000] train loss :  11.26618, valid loss : 18.16749\n",
      "[187/1000] train loss :  11.24546, valid loss : 18.78692\n",
      "[188/1000] train loss :  11.09038, valid loss : 18.04685\n",
      "[189/1000] train loss :  11.09100, valid loss : 17.96018\n",
      "[190/1000] train loss :  11.23485, valid loss : 18.91551\n",
      "[191/1000] train loss :  10.94847, valid loss : 18.27749\n",
      "[192/1000] train loss :  10.89791, valid loss : 18.14904\n",
      "[193/1000] train loss :  11.13725, valid loss : 17.39983\n",
      "[194/1000] train loss :  10.98148, valid loss : 18.40098\n",
      "[195/1000] train loss :  10.84054, valid loss : 18.26527\n",
      "[196/1000] train loss :  10.89298, valid loss : 17.51190\n",
      "[197/1000] train loss :  10.73638, valid loss : 18.38017\n",
      "[198/1000] train loss :  10.88530, valid loss : 18.76611\n",
      "[199/1000] train loss :  10.79429, valid loss : 18.33986\n",
      "[200/1000] train loss :  10.74041, valid loss : 19.19624\n",
      "[201/1000] train loss :  10.80504, valid loss : 17.86230\n",
      "[202/1000] train loss :  10.61757, valid loss : 17.92382\n",
      "[203/1000] train loss :  10.72116, valid loss : 18.71478\n",
      "[204/1000] train loss :  10.61359, valid loss : 18.82701\n",
      "[205/1000] train loss :  10.42380, valid loss : 17.84081\n",
      "[206/1000] train loss :  10.64156, valid loss : 17.81621\n",
      "[207/1000] train loss :  10.52078, valid loss : 18.55482\n",
      "[208/1000] train loss :  10.46167, valid loss : 17.69243\n",
      "[209/1000] train loss :  10.49997, valid loss : 17.97659\n",
      "[210/1000] train loss :  10.45642, valid loss : 18.73531\n",
      "[211/1000] train loss :  10.41284, valid loss : 17.59451\n",
      "[212/1000] train loss :  10.27759, valid loss : 17.42724\n",
      "[213/1000] train loss :  10.34862, valid loss : 17.89465\n",
      "[214/1000] train loss :  10.31348, valid loss : 17.03681\n",
      "[215/1000] train loss :  10.38947, valid loss : 16.91821\n",
      "[216/1000] train loss :  10.15235, valid loss : 17.41866\n",
      "[217/1000] train loss :  10.05791, valid loss : 18.32287\n",
      "[218/1000] train loss :  10.05279, valid loss : 17.62291\n",
      "[219/1000] train loss :  10.15696, valid loss : 17.24650\n",
      "[220/1000] train loss :  10.18003, valid loss : 17.82136\n",
      "[221/1000] train loss :  10.03074, valid loss : 17.56617\n",
      "[222/1000] train loss :  10.08068, valid loss : 17.55553\n",
      "[223/1000] train loss :  10.04673, valid loss : 17.73072\n",
      "[224/1000] train loss :  9.91393, valid loss : 17.84043\n",
      "[225/1000] train loss :  10.04083, valid loss : 16.62346\n",
      "[226/1000] train loss :  9.82038, valid loss : 17.26608\n",
      "[227/1000] train loss :  9.92794, valid loss : 16.76247\n",
      "[228/1000] train loss :  9.88328, valid loss : 16.53801\n",
      "[229/1000] train loss :  9.93772, valid loss : 16.64390\n",
      "[230/1000] train loss :  9.84301, valid loss : 17.08190\n",
      "[231/1000] train loss :  9.89425, valid loss : 17.71993\n",
      "[232/1000] train loss :  9.77880, valid loss : 18.12014\n",
      "[233/1000] train loss :  9.71405, valid loss : 17.04156\n",
      "[234/1000] train loss :  9.73022, valid loss : 18.75699\n",
      "[235/1000] train loss :  9.46335, valid loss : 17.50674\n",
      "[236/1000] train loss :  9.77795, valid loss : 17.14503\n",
      "[237/1000] train loss :  9.46108, valid loss : 18.56365\n",
      "[238/1000] train loss :  9.47139, valid loss : 17.28864\n",
      "[239/1000] train loss :  9.60062, valid loss : 18.04984\n",
      "[240/1000] train loss :  9.65081, valid loss : 18.35961\n",
      "[241/1000] train loss :  9.66195, valid loss : 16.95951\n",
      "[242/1000] train loss :  9.51830, valid loss : 17.13190\n",
      "[243/1000] train loss :  9.42554, valid loss : 16.59523\n",
      "[244/1000] train loss :  9.35410, valid loss : 16.97220\n",
      "[245/1000] train loss :  9.46453, valid loss : 17.18961\n",
      "[246/1000] train loss :  9.49726, valid loss : 16.99326\n",
      "[247/1000] train loss :  9.41555, valid loss : 16.74803\n",
      "[248/1000] train loss :  9.41328, valid loss : 17.18241\n",
      "[249/1000] train loss :  9.39892, valid loss : 17.54065\n",
      "[250/1000] train loss :  9.36407, valid loss : 17.00140\n",
      "[251/1000] train loss :  9.40832, valid loss : 17.85961\n",
      "[252/1000] train loss :  9.27563, valid loss : 17.42382\n",
      "[253/1000] train loss :  9.28354, valid loss : 18.66743\n",
      "[254/1000] train loss :  9.23634, valid loss : 16.14138\n",
      "[255/1000] train loss :  9.29938, valid loss : 16.37283\n",
      "[256/1000] train loss :  9.24193, valid loss : 16.94803\n",
      "[257/1000] train loss :  9.34826, valid loss : 17.38391\n",
      "[258/1000] train loss :  9.14567, valid loss : 17.14142\n",
      "[259/1000] train loss :  9.20616, valid loss : 17.24941\n",
      "[260/1000] train loss :  9.13179, valid loss : 17.19072\n",
      "[261/1000] train loss :  9.04092, valid loss : 17.82370\n",
      "[262/1000] train loss :  8.89942, valid loss : 17.28686\n",
      "[263/1000] train loss :  9.14691, valid loss : 17.96616\n",
      "[264/1000] train loss :  9.21758, valid loss : 18.12815\n",
      "[265/1000] train loss :  8.97856, valid loss : 16.76628\n",
      "[266/1000] train loss :  9.02711, valid loss : 17.35094\n",
      "[267/1000] train loss :  8.90584, valid loss : 17.11066\n",
      "[268/1000] train loss :  8.76659, valid loss : 16.74701\n",
      "[269/1000] train loss :  9.02644, valid loss : 17.74726\n",
      "[270/1000] train loss :  8.84586, valid loss : 16.38028\n",
      "[271/1000] train loss :  8.91806, valid loss : 16.55627\n",
      "[272/1000] train loss :  8.86860, valid loss : 16.97110\n",
      "[273/1000] train loss :  8.87726, valid loss : 17.08729\n",
      "[274/1000] train loss :  8.58419, valid loss : 17.56246\n",
      "[275/1000] train loss :  8.82580, valid loss : 17.26599\n",
      "[276/1000] train loss :  8.73422, valid loss : 17.15950\n",
      "[277/1000] train loss :  8.82587, valid loss : 17.62411\n",
      "[278/1000] train loss :  8.72750, valid loss : 17.11702\n",
      "[279/1000] train loss :  8.77893, valid loss : 16.35422\n",
      "[280/1000] train loss :  8.66236, valid loss : 16.97398\n",
      "[281/1000] train loss :  8.73214, valid loss : 17.37771\n",
      "[282/1000] train loss :  8.52318, valid loss : 17.23054\n",
      "[283/1000] train loss :  8.76883, valid loss : 16.76315\n",
      "[284/1000] train loss :  8.06694, valid loss : 18.08158\n",
      "[285/1000] train loss :  8.69634, valid loss : 17.29589\n",
      "[286/1000] train loss :  8.59840, valid loss : 17.76717\n",
      "[287/1000] train loss :  8.67691, valid loss : 17.58228\n",
      "[288/1000] train loss :  8.57866, valid loss : 16.54886\n",
      "[289/1000] train loss :  8.59876, valid loss : 15.81066\n",
      "[290/1000] train loss :  8.03592, valid loss : 16.89898\n",
      "[291/1000] train loss :  8.46984, valid loss : 17.02035\n",
      "[292/1000] train loss :  8.53410, valid loss : 16.35805\n",
      "[293/1000] train loss :  8.46419, valid loss : 17.08582\n",
      "[294/1000] train loss :  8.51769, valid loss : 16.81370\n",
      "[295/1000] train loss :  8.49196, valid loss : 16.97202\n",
      "[296/1000] train loss :  8.43410, valid loss : 16.46460\n",
      "[297/1000] train loss :  8.44693, valid loss : 17.42610\n",
      "[298/1000] train loss :  8.40053, valid loss : 17.15024\n",
      "[299/1000] train loss :  8.48449, valid loss : 16.65751\n",
      "[300/1000] train loss :  8.37148, valid loss : 17.24125\n",
      "[301/1000] train loss :  8.24632, valid loss : 17.04308\n",
      "[302/1000] train loss :  8.37836, valid loss : 16.80120\n",
      "[303/1000] train loss :  8.30578, valid loss : 17.21833\n",
      "[304/1000] train loss :  8.30061, valid loss : 15.90456\n",
      "[305/1000] train loss :  8.37839, valid loss : 17.03343\n",
      "[306/1000] train loss :  8.37546, valid loss : 17.73713\n",
      "[307/1000] train loss :  8.33719, valid loss : 17.35223\n",
      "[308/1000] train loss :  8.11316, valid loss : 17.32497\n",
      "[309/1000] train loss :  8.17016, valid loss : 16.33139\n",
      "[310/1000] train loss :  8.24651, valid loss : 15.22816\n",
      "[311/1000] train loss :  8.32257, valid loss : 15.56042\n",
      "[312/1000] train loss :  8.16394, valid loss : 16.73423\n",
      "[313/1000] train loss :  8.23811, valid loss : 16.22180\n",
      "[314/1000] train loss :  8.18877, valid loss : 15.48311\n",
      "[315/1000] train loss :  8.21093, valid loss : 16.50219\n",
      "[316/1000] train loss :  8.28080, valid loss : 16.48334\n",
      "[317/1000] train loss :  8.06426, valid loss : 16.76465\n",
      "[318/1000] train loss :  8.16764, valid loss : 16.72556\n",
      "[319/1000] train loss :  8.07751, valid loss : 16.40313\n",
      "[320/1000] train loss :  8.03779, valid loss : 16.76096\n",
      "[321/1000] train loss :  7.99407, valid loss : 16.49619\n",
      "[322/1000] train loss :  8.11343, valid loss : 16.63704\n",
      "[323/1000] train loss :  7.97610, valid loss : 16.85960\n",
      "[324/1000] train loss :  8.10308, valid loss : 16.96530\n",
      "[325/1000] train loss :  8.11239, valid loss : 17.40612\n",
      "[326/1000] train loss :  7.90973, valid loss : 17.18497\n",
      "[327/1000] train loss :  7.94384, valid loss : 16.78389\n",
      "[328/1000] train loss :  7.92317, valid loss : 16.27110\n",
      "[329/1000] train loss :  7.80373, valid loss : 17.46405\n",
      "[330/1000] train loss :  7.95566, valid loss : 16.29756\n",
      "[331/1000] train loss :  7.84948, valid loss : 15.70469\n",
      "[332/1000] train loss :  8.03914, valid loss : 17.47337\n",
      "[333/1000] train loss :  7.97657, valid loss : 16.05069\n",
      "[334/1000] train loss :  7.96047, valid loss : 16.03831\n",
      "[335/1000] train loss :  7.85192, valid loss : 15.64884\n",
      "[336/1000] train loss :  7.80211, valid loss : 16.47895\n",
      "[337/1000] train loss :  7.85016, valid loss : 16.13274\n",
      "[338/1000] train loss :  7.86229, valid loss : 15.97748\n",
      "[339/1000] train loss :  7.90762, valid loss : 16.68422\n",
      "[340/1000] train loss :  7.74900, valid loss : 16.71125\n",
      "[341/1000] train loss :  7.80047, valid loss : 16.26687\n",
      "[342/1000] train loss :  7.74036, valid loss : 16.66318\n",
      "[343/1000] train loss :  7.76489, valid loss : 16.55885\n",
      "[344/1000] train loss :  7.81472, valid loss : 15.23839\n",
      "[345/1000] train loss :  7.92533, valid loss : 16.32213\n",
      "[346/1000] train loss :  7.68650, valid loss : 15.73632\n",
      "[347/1000] train loss :  7.53945, valid loss : 16.94630\n",
      "[348/1000] train loss :  7.78652, valid loss : 15.55747\n",
      "[349/1000] train loss :  7.69870, valid loss : 15.96680\n",
      "[350/1000] train loss :  7.59396, valid loss : 15.81960\n",
      "[351/1000] train loss :  7.69245, valid loss : 15.46409\n",
      "[352/1000] train loss :  7.82831, valid loss : 15.39581\n",
      "[353/1000] train loss :  7.67257, valid loss : 16.87057\n",
      "[354/1000] train loss :  7.64110, valid loss : 16.18534\n",
      "[355/1000] train loss :  7.67285, valid loss : 16.32186\n",
      "[356/1000] train loss :  7.48178, valid loss : 15.49142\n",
      "[357/1000] train loss :  7.62473, valid loss : 17.50666\n",
      "[358/1000] train loss :  7.55113, valid loss : 15.88484\n",
      "[359/1000] train loss :  7.59405, valid loss : 16.68106\n",
      "[360/1000] train loss :  7.54458, valid loss : 16.55242\n",
      "[361/1000] train loss :  7.47429, valid loss : 16.74451\n",
      "[362/1000] train loss :  7.47121, valid loss : 15.53190\n",
      "[363/1000] train loss :  7.50079, valid loss : 15.47404\n",
      "[364/1000] train loss :  7.61281, valid loss : 16.00569\n",
      "[365/1000] train loss :  7.44746, valid loss : 16.84309\n",
      "[366/1000] train loss :  7.34738, valid loss : 16.42651\n",
      "[367/1000] train loss :  7.22369, valid loss : 15.60707\n",
      "[368/1000] train loss :  7.40454, valid loss : 17.14466\n",
      "[369/1000] train loss :  7.24993, valid loss : 15.99482\n",
      "[370/1000] train loss :  7.28034, valid loss : 15.20450\n",
      "[371/1000] train loss :  7.31567, valid loss : 16.03779\n",
      "[372/1000] train loss :  7.37489, valid loss : 16.48631\n",
      "[373/1000] train loss :  7.34871, valid loss : 16.02810\n",
      "[374/1000] train loss :  7.29583, valid loss : 15.61196\n",
      "[375/1000] train loss :  7.29038, valid loss : 16.06931\n",
      "[376/1000] train loss :  7.37904, valid loss : 16.57654\n",
      "[377/1000] train loss :  7.36500, valid loss : 16.80921\n",
      "[378/1000] train loss :  7.31330, valid loss : 16.46667\n",
      "[379/1000] train loss :  7.40562, valid loss : 15.58325\n",
      "[380/1000] train loss :  7.32283, valid loss : 15.64630\n",
      "[381/1000] train loss :  7.08222, valid loss : 15.51371\n",
      "[382/1000] train loss :  7.29548, valid loss : 15.54559\n",
      "[383/1000] train loss :  7.22275, valid loss : 15.58459\n",
      "[384/1000] train loss :  7.23681, valid loss : 16.39767\n",
      "[385/1000] train loss :  7.14600, valid loss : 17.24885\n",
      "[386/1000] train loss :  7.22044, valid loss : 17.16530\n",
      "[387/1000] train loss :  7.15815, valid loss : 16.04978\n",
      "[388/1000] train loss :  7.20974, valid loss : 16.10684\n",
      "[389/1000] train loss :  7.11463, valid loss : 16.23672\n",
      "[390/1000] train loss :  7.14432, valid loss : 14.67354\n",
      "[391/1000] train loss :  7.19299, valid loss : 16.63720\n",
      "[392/1000] train loss :  7.18579, valid loss : 16.37503\n",
      "[393/1000] train loss :  6.77021, valid loss : 16.86333\n",
      "[394/1000] train loss :  7.13657, valid loss : 16.51230\n",
      "[395/1000] train loss :  7.08324, valid loss : 16.88203\n",
      "[396/1000] train loss :  7.05408, valid loss : 15.80959\n",
      "[397/1000] train loss :  7.06536, valid loss : 15.80698\n",
      "[398/1000] train loss :  7.14589, valid loss : 16.06592\n",
      "[399/1000] train loss :  7.04941, valid loss : 16.11377\n",
      "[400/1000] train loss :  7.15133, valid loss : 16.14032\n",
      "[401/1000] train loss :  6.91906, valid loss : 16.34986\n",
      "[402/1000] train loss :  7.00398, valid loss : 16.29751\n",
      "[403/1000] train loss :  7.06653, valid loss : 15.81890\n",
      "[404/1000] train loss :  6.98948, valid loss : 15.67728\n",
      "[405/1000] train loss :  6.97554, valid loss : 15.96703\n",
      "[406/1000] train loss :  6.90083, valid loss : 16.44041\n",
      "[407/1000] train loss :  6.86367, valid loss : 14.96627\n",
      "[408/1000] train loss :  6.97123, valid loss : 16.12307\n",
      "[409/1000] train loss :  6.79642, valid loss : 16.12522\n",
      "[410/1000] train loss :  6.83739, valid loss : 15.55707\n",
      "[411/1000] train loss :  6.87690, valid loss : 16.81786\n",
      "[412/1000] train loss :  6.94817, valid loss : 15.25998\n",
      "[413/1000] train loss :  6.94663, valid loss : 15.53154\n",
      "[414/1000] train loss :  6.90086, valid loss : 16.26262\n",
      "[415/1000] train loss :  6.85693, valid loss : 16.49043\n",
      "[416/1000] train loss :  6.83190, valid loss : 16.53698\n",
      "[417/1000] train loss :  6.73014, valid loss : 16.66517\n",
      "[418/1000] train loss :  6.87866, valid loss : 15.81505\n",
      "[419/1000] train loss :  6.81925, valid loss : 15.88470\n",
      "[420/1000] train loss :  6.89133, valid loss : 15.76958\n",
      "[421/1000] train loss :  6.78011, valid loss : 17.18011\n",
      "[422/1000] train loss :  6.86182, valid loss : 16.62184\n",
      "[423/1000] train loss :  6.81543, valid loss : 15.82866\n",
      "[424/1000] train loss :  6.81051, valid loss : 15.46714\n",
      "[425/1000] train loss :  6.81330, valid loss : 15.99754\n",
      "[426/1000] train loss :  6.83649, valid loss : 16.72776\n",
      "[427/1000] train loss :  6.77777, valid loss : 16.76976\n",
      "[428/1000] train loss :  6.75915, valid loss : 15.09342\n",
      "[429/1000] train loss :  6.75620, valid loss : 16.10963\n",
      "[430/1000] train loss :  6.76389, valid loss : 15.78888\n",
      "[431/1000] train loss :  6.75602, valid loss : 16.05730\n",
      "[432/1000] train loss :  6.68612, valid loss : 15.89992\n",
      "[433/1000] train loss :  6.67248, valid loss : 16.67847\n",
      "[434/1000] train loss :  6.71067, valid loss : 15.85070\n",
      "[435/1000] train loss :  6.70880, valid loss : 16.83613\n",
      "[436/1000] train loss :  6.74726, valid loss : 16.44011\n",
      "[437/1000] train loss :  6.65259, valid loss : 16.26964\n",
      "[438/1000] train loss :  6.58671, valid loss : 16.75447\n",
      "[439/1000] train loss :  6.61874, valid loss : 16.03153\n",
      "[440/1000] train loss :  6.64866, valid loss : 16.05408\n",
      "[441/1000] train loss :  6.64925, valid loss : 17.49760\n",
      "[442/1000] train loss :  6.70575, valid loss : 15.78606\n",
      "[443/1000] train loss :  6.70949, valid loss : 16.78627\n",
      "[444/1000] train loss :  6.63834, valid loss : 17.03059\n",
      "[445/1000] train loss :  6.61616, valid loss : 16.90422\n",
      "[446/1000] train loss :  6.53726, valid loss : 15.04090\n",
      "[447/1000] train loss :  6.58303, valid loss : 16.38449\n",
      "[448/1000] train loss :  6.58715, valid loss : 16.10617\n",
      "[449/1000] train loss :  6.65025, valid loss : 16.30648\n",
      "[450/1000] train loss :  6.50550, valid loss : 16.52031\n",
      "[451/1000] train loss :  6.54899, valid loss : 15.84067\n",
      "[452/1000] train loss :  6.57001, valid loss : 17.62157\n",
      "[453/1000] train loss :  6.53855, valid loss : 15.75082\n",
      "[454/1000] train loss :  6.46903, valid loss : 15.99178\n",
      "[455/1000] train loss :  6.53303, valid loss : 16.10409\n",
      "[456/1000] train loss :  6.40499, valid loss : 15.90883\n",
      "[457/1000] train loss :  6.35569, valid loss : 16.24603\n",
      "[458/1000] train loss :  6.48843, valid loss : 16.67334\n",
      "[459/1000] train loss :  6.46124, valid loss : 14.98879\n",
      "[460/1000] train loss :  6.46144, valid loss : 15.73818\n",
      "[461/1000] train loss :  6.40338, valid loss : 15.30624\n",
      "[462/1000] train loss :  6.54412, valid loss : 15.48340\n",
      "[463/1000] train loss :  6.42234, valid loss : 16.60889\n",
      "[464/1000] train loss :  6.39596, valid loss : 16.25805\n",
      "[465/1000] train loss :  6.40143, valid loss : 14.29395\n",
      "[466/1000] train loss :  6.40701, valid loss : 16.57244\n",
      "[467/1000] train loss :  6.38503, valid loss : 16.40633\n",
      "[468/1000] train loss :  6.37455, valid loss : 16.12290\n",
      "[469/1000] train loss :  6.40453, valid loss : 14.97513\n",
      "[470/1000] train loss :  6.55488, valid loss : 16.05447\n",
      "[471/1000] train loss :  6.35873, valid loss : 16.09706\n",
      "[472/1000] train loss :  6.40790, valid loss : 15.66204\n",
      "[473/1000] train loss :  6.33838, valid loss : 16.86533\n",
      "[474/1000] train loss :  6.18111, valid loss : 15.92646\n",
      "[475/1000] train loss :  6.36141, valid loss : 16.32974\n",
      "[476/1000] train loss :  6.26371, valid loss : 16.20595\n",
      "[477/1000] train loss :  6.30011, valid loss : 17.09050\n",
      "[478/1000] train loss :  6.44238, valid loss : 15.81627\n",
      "[479/1000] train loss :  6.27337, valid loss : 15.97889\n",
      "[480/1000] train loss :  6.39375, valid loss : 15.23430\n",
      "[481/1000] train loss :  6.28080, valid loss : 16.00842\n",
      "[482/1000] train loss :  6.29785, valid loss : 15.83495\n",
      "[483/1000] train loss :  6.20868, valid loss : 16.82768\n",
      "[484/1000] train loss :  6.25987, valid loss : 16.04305\n",
      "[485/1000] train loss :  6.22485, valid loss : 16.03490\n",
      "[486/1000] train loss :  6.26732, valid loss : 15.74774\n",
      "[487/1000] train loss :  6.17568, valid loss : 15.20966\n",
      "[488/1000] train loss :  6.20871, valid loss : 16.32082\n",
      "[489/1000] train loss :  6.28228, valid loss : 15.74349\n",
      "[490/1000] train loss :  6.26760, valid loss : 15.05843\n",
      "[491/1000] train loss :  6.14641, valid loss : 16.48140\n",
      "[492/1000] train loss :  6.24617, valid loss : 15.56855\n",
      "[493/1000] train loss :  6.14993, valid loss : 15.83379\n",
      "[494/1000] train loss :  6.16854, valid loss : 15.40454\n",
      "[495/1000] train loss :  6.26449, valid loss : 15.46162\n",
      "[496/1000] train loss :  6.13972, valid loss : 16.32252\n",
      "[497/1000] train loss :  6.13660, valid loss : 15.77482\n",
      "[498/1000] train loss :  6.20769, valid loss : 15.63910\n",
      "[499/1000] train loss :  6.15770, valid loss : 16.01141\n",
      "[500/1000] train loss :  6.10782, valid loss : 15.20639\n",
      "[501/1000] train loss :  5.99774, valid loss : 16.27358\n",
      "[502/1000] train loss :  6.21424, valid loss : 15.43017\n",
      "[503/1000] train loss :  6.06624, valid loss : 15.47233\n",
      "[504/1000] train loss :  6.02704, valid loss : 15.82135\n",
      "[505/1000] train loss :  6.04388, valid loss : 15.55350\n",
      "[506/1000] train loss :  6.07867, valid loss : 15.40171\n",
      "[507/1000] train loss :  6.05079, valid loss : 16.05144\n",
      "[508/1000] train loss :  6.01575, valid loss : 17.00461\n",
      "[509/1000] train loss :  6.01803, valid loss : 14.96451\n",
      "[510/1000] train loss :  6.06447, valid loss : 15.62529\n",
      "[511/1000] train loss :  6.04945, valid loss : 15.69953\n",
      "[512/1000] train loss :  6.02618, valid loss : 15.00062\n",
      "[513/1000] train loss :  6.14543, valid loss : 15.55058\n",
      "[514/1000] train loss :  6.04905, valid loss : 15.16178\n",
      "[515/1000] train loss :  6.03690, valid loss : 16.94885\n",
      "[516/1000] train loss :  6.05848, valid loss : 15.64232\n",
      "[517/1000] train loss :  5.93081, valid loss : 16.25949\n",
      "[518/1000] train loss :  5.94412, valid loss : 17.74436\n",
      "[519/1000] train loss :  5.93202, valid loss : 15.79273\n",
      "[520/1000] train loss :  5.99228, valid loss : 15.51901\n",
      "[521/1000] train loss :  5.83711, valid loss : 15.87676\n",
      "[522/1000] train loss :  6.02055, valid loss : 15.81277\n",
      "[523/1000] train loss :  6.00700, valid loss : 16.49820\n",
      "[524/1000] train loss :  5.99552, valid loss : 15.93093\n",
      "[525/1000] train loss :  5.91398, valid loss : 14.96959\n",
      "[526/1000] train loss :  5.92275, valid loss : 16.21090\n",
      "[527/1000] train loss :  5.63018, valid loss : 15.33932\n",
      "[528/1000] train loss :  5.94851, valid loss : 16.59101\n",
      "[529/1000] train loss :  5.89383, valid loss : 15.17743\n",
      "[530/1000] train loss :  5.80772, valid loss : 15.81193\n",
      "[531/1000] train loss :  5.85959, valid loss : 16.31526\n",
      "[532/1000] train loss :  5.82657, valid loss : 14.81387\n",
      "[533/1000] train loss :  5.83017, valid loss : 16.09835\n",
      "[534/1000] train loss :  5.87676, valid loss : 16.32391\n",
      "[535/1000] train loss :  5.75527, valid loss : 15.87180\n",
      "[536/1000] train loss :  5.88236, valid loss : 15.91400\n",
      "[537/1000] train loss :  5.92807, valid loss : 16.54604\n",
      "[538/1000] train loss :  5.75030, valid loss : 16.43891\n",
      "[539/1000] train loss :  5.78294, valid loss : 15.99582\n",
      "[540/1000] train loss :  5.61459, valid loss : 16.18913\n",
      "[541/1000] train loss :  5.74011, valid loss : 16.11826\n",
      "[542/1000] train loss :  5.80039, valid loss : 16.45223\n",
      "[543/1000] train loss :  5.67613, valid loss : 16.03034\n",
      "[544/1000] train loss :  5.78514, valid loss : 15.48048\n",
      "[545/1000] train loss :  5.82765, valid loss : 15.72215\n",
      "[546/1000] train loss :  5.67721, valid loss : 16.03959\n",
      "[547/1000] train loss :  5.73332, valid loss : 15.38907\n",
      "[548/1000] train loss :  5.64712, valid loss : 16.41373\n",
      "[549/1000] train loss :  5.69634, valid loss : 15.63159\n",
      "[550/1000] train loss :  5.66699, valid loss : 15.25836\n",
      "[551/1000] train loss :  5.69415, valid loss : 16.79816\n",
      "[552/1000] train loss :  5.67757, valid loss : 16.82163\n",
      "[553/1000] train loss :  5.62394, valid loss : 15.12528\n",
      "[554/1000] train loss :  5.66248, valid loss : 16.10028\n",
      "[555/1000] train loss :  5.75976, valid loss : 14.96675\n",
      "[556/1000] train loss :  5.63423, valid loss : 16.94483\n",
      "[557/1000] train loss :  5.65050, valid loss : 15.86522\n",
      "[558/1000] train loss :  5.67367, valid loss : 15.85674\n",
      "[559/1000] train loss :  5.60995, valid loss : 15.69811\n",
      "[560/1000] train loss :  5.62856, valid loss : 16.57987\n",
      "[561/1000] train loss :  5.49040, valid loss : 15.31782\n",
      "[562/1000] train loss :  5.71901, valid loss : 16.25437\n",
      "[563/1000] train loss :  5.61468, valid loss : 17.00577\n",
      "[564/1000] train loss :  5.61959, valid loss : 15.37935\n",
      "[565/1000] train loss :  5.66311, valid loss : 15.47060\n",
      "[566/1000] train loss :  5.56275, valid loss : 15.94445\n",
      "[567/1000] train loss :  5.61858, valid loss : 16.26688\n",
      "[568/1000] train loss :  5.49900, valid loss : 16.18868\n",
      "[569/1000] train loss :  5.59942, valid loss : 16.48731\n",
      "[570/1000] train loss :  5.35214, valid loss : 15.72621\n",
      "[571/1000] train loss :  5.72468, valid loss : 14.39337\n",
      "[572/1000] train loss :  5.53814, valid loss : 17.13171\n",
      "[573/1000] train loss :  5.58174, valid loss : 16.02267\n",
      "[574/1000] train loss :  5.51544, valid loss : 16.70751\n",
      "[575/1000] train loss :  5.55655, valid loss : 16.78823\n",
      "[576/1000] train loss :  5.51128, valid loss : 15.50529\n",
      "[577/1000] train loss :  5.48770, valid loss : 15.82177\n",
      "[578/1000] train loss :  5.49583, valid loss : 15.78212\n",
      "[579/1000] train loss :  5.48906, valid loss : 14.80719\n",
      "[580/1000] train loss :  5.50482, valid loss : 15.56341\n",
      "[581/1000] train loss :  5.45342, valid loss : 16.87117\n",
      "[582/1000] train loss :  5.52782, valid loss : 16.85924\n",
      "[583/1000] train loss :  5.45272, valid loss : 15.50463\n",
      "[584/1000] train loss :  5.51623, valid loss : 15.63568\n",
      "[585/1000] train loss :  5.42512, valid loss : 16.61601\n",
      "[586/1000] train loss :  5.43659, valid loss : 16.12864\n",
      "[587/1000] train loss :  5.49100, valid loss : 16.03678\n",
      "[588/1000] train loss :  5.41899, valid loss : 16.59014\n",
      "[589/1000] train loss :  5.45405, valid loss : 15.48506\n",
      "[590/1000] train loss :  5.46329, valid loss : 15.09585\n",
      "[591/1000] train loss :  5.47757, valid loss : 16.47585\n",
      "[592/1000] train loss :  5.45587, valid loss : 16.34983\n",
      "[593/1000] train loss :  5.41620, valid loss : 15.41841\n",
      "[594/1000] train loss :  5.33514, valid loss : 15.80637\n",
      "[595/1000] train loss :  5.35875, valid loss : 14.75537\n",
      "[596/1000] train loss :  5.32557, valid loss : 15.93556\n",
      "[597/1000] train loss :  5.37322, valid loss : 16.95990\n",
      "[598/1000] train loss :  5.35101, valid loss : 15.70231\n",
      "[599/1000] train loss :  5.36910, valid loss : 16.64624\n",
      "[600/1000] train loss :  5.31292, valid loss : 15.80035\n",
      "[601/1000] train loss :  5.39770, valid loss : 15.35477\n",
      "[602/1000] train loss :  5.11330, valid loss : 15.83682\n",
      "[603/1000] train loss :  5.38141, valid loss : 17.20595\n",
      "[604/1000] train loss :  5.34947, valid loss : 15.43328\n",
      "[605/1000] train loss :  5.34607, valid loss : 15.12210\n",
      "[606/1000] train loss :  5.33592, valid loss : 15.20762\n",
      "[607/1000] train loss :  5.32868, valid loss : 15.91402\n",
      "[608/1000] train loss :  5.33152, valid loss : 16.24811\n",
      "[609/1000] train loss :  5.30198, valid loss : 16.60686\n",
      "[610/1000] train loss :  5.28921, valid loss : 16.36380\n",
      "[611/1000] train loss :  5.39232, valid loss : 16.16265\n",
      "[612/1000] train loss :  5.26777, valid loss : 15.27368\n",
      "[613/1000] train loss :  5.18214, valid loss : 15.86782\n",
      "[614/1000] train loss :  5.29054, valid loss : 17.09990\n",
      "[615/1000] train loss :  5.30582, valid loss : 16.40671\n",
      "[616/1000] train loss :  5.26401, valid loss : 15.18459\n",
      "[617/1000] train loss :  5.29282, valid loss : 17.01516\n",
      "[618/1000] train loss :  5.23475, valid loss : 15.88847\n",
      "[619/1000] train loss :  5.35010, valid loss : 17.26841\n",
      "[620/1000] train loss :  5.26856, valid loss : 16.05962\n",
      "[621/1000] train loss :  5.20914, valid loss : 16.27840\n",
      "[622/1000] train loss :  5.01355, valid loss : 15.02022\n",
      "[623/1000] train loss :  5.25810, valid loss : 16.55482\n",
      "[624/1000] train loss :  5.20182, valid loss : 16.94649\n",
      "[625/1000] train loss :  5.27696, valid loss : 17.35869\n",
      "[626/1000] train loss :  5.28912, valid loss : 15.89295\n",
      "[627/1000] train loss :  5.08408, valid loss : 15.49131\n",
      "[628/1000] train loss :  5.26191, valid loss : 15.37141\n",
      "[629/1000] train loss :  5.21113, valid loss : 14.96579\n",
      "[630/1000] train loss :  5.24728, valid loss : 16.29073\n",
      "[631/1000] train loss :  5.20373, valid loss : 14.80089\n",
      "[632/1000] train loss :  5.20037, valid loss : 16.45976\n",
      "[633/1000] train loss :  5.21912, valid loss : 14.44824\n",
      "[634/1000] train loss :  5.16694, valid loss : 15.45617\n",
      "[635/1000] train loss :  5.22000, valid loss : 14.96796\n",
      "[636/1000] train loss :  5.19587, valid loss : 15.45982\n",
      "[637/1000] train loss :  5.10850, valid loss : 15.59545\n",
      "[638/1000] train loss :  5.12235, valid loss : 15.27839\n",
      "[639/1000] train loss :  5.02705, valid loss : 16.24976\n",
      "[640/1000] train loss :  5.11168, valid loss : 16.24480\n",
      "[641/1000] train loss :  5.18245, valid loss : 15.47497\n",
      "[642/1000] train loss :  5.11690, valid loss : 16.17917\n",
      "[643/1000] train loss :  5.15386, valid loss : 17.03043\n",
      "[644/1000] train loss :  5.09598, valid loss : 16.61903\n",
      "[645/1000] train loss :  5.03801, valid loss : 16.40380\n",
      "[646/1000] train loss :  5.17915, valid loss : 15.37600\n",
      "[647/1000] train loss :  5.08537, valid loss : 15.64089\n",
      "[648/1000] train loss :  5.09768, valid loss : 16.86717\n",
      "[649/1000] train loss :  5.04029, valid loss : 15.63711\n",
      "[650/1000] train loss :  5.07166, valid loss : 14.63673\n",
      "[651/1000] train loss :  5.17519, valid loss : 16.35716\n",
      "[652/1000] train loss :  5.05014, valid loss : 15.55324\n",
      "[653/1000] train loss :  5.06317, valid loss : 15.75280\n",
      "[654/1000] train loss :  4.91643, valid loss : 15.90705\n",
      "[655/1000] train loss :  5.03147, valid loss : 16.23897\n",
      "[656/1000] train loss :  4.99716, valid loss : 14.59602\n",
      "[657/1000] train loss :  5.07568, valid loss : 15.61055\n",
      "[658/1000] train loss :  4.99617, valid loss : 15.06334\n",
      "[659/1000] train loss :  5.01449, valid loss : 16.53370\n",
      "[660/1000] train loss :  5.03667, valid loss : 16.20223\n",
      "[661/1000] train loss :  5.04731, valid loss : 15.72779\n",
      "[662/1000] train loss :  5.01475, valid loss : 16.01772\n",
      "[663/1000] train loss :  4.84537, valid loss : 16.71069\n",
      "[664/1000] train loss :  5.07814, valid loss : 17.75262\n",
      "[665/1000] train loss :  5.02093, valid loss : 16.36593\n",
      "[666/1000] train loss :  5.02119, valid loss : 16.10912\n",
      "[667/1000] train loss :  5.00075, valid loss : 15.60346\n",
      "[668/1000] train loss :  5.00326, valid loss : 15.39106\n",
      "[669/1000] train loss :  5.09629, valid loss : 15.03136\n",
      "[670/1000] train loss :  4.99524, valid loss : 15.85820\n",
      "[671/1000] train loss :  4.92263, valid loss : 16.82417\n",
      "[672/1000] train loss :  4.94652, valid loss : 16.13372\n",
      "[673/1000] train loss :  4.92303, valid loss : 15.62049\n",
      "[674/1000] train loss :  4.92027, valid loss : 16.11283\n",
      "[675/1000] train loss :  4.94378, valid loss : 15.92225\n",
      "[676/1000] train loss :  4.95984, valid loss : 15.79107\n",
      "[677/1000] train loss :  4.94706, valid loss : 16.21448\n",
      "[678/1000] train loss :  4.87165, valid loss : 16.45033\n",
      "[679/1000] train loss :  4.86669, valid loss : 15.48936\n",
      "[680/1000] train loss :  4.93813, valid loss : 16.33547\n",
      "[681/1000] train loss :  4.96056, valid loss : 14.99181\n",
      "[682/1000] train loss :  4.88104, valid loss : 15.75388\n",
      "[683/1000] train loss :  4.88103, valid loss : 16.61473\n",
      "[684/1000] train loss :  4.93333, valid loss : 16.80464\n",
      "[685/1000] train loss :  4.83479, valid loss : 15.58403\n",
      "[686/1000] train loss :  4.83602, valid loss : 16.18569\n",
      "[687/1000] train loss :  4.93458, valid loss : 15.90272\n",
      "[688/1000] train loss :  4.90807, valid loss : 16.20907\n",
      "[689/1000] train loss :  4.89395, valid loss : 15.02464\n",
      "[690/1000] train loss :  4.86593, valid loss : 15.58215\n",
      "[691/1000] train loss :  4.84055, valid loss : 16.11382\n",
      "[692/1000] train loss :  4.78518, valid loss : 16.49151\n",
      "[693/1000] train loss :  4.90402, valid loss : 16.63363\n",
      "[694/1000] train loss :  4.98803, valid loss : 16.66166\n",
      "[695/1000] train loss :  4.84370, valid loss : 16.82977\n",
      "[696/1000] train loss :  4.82848, valid loss : 16.90410\n",
      "[697/1000] train loss :  4.83048, valid loss : 17.16524\n",
      "[698/1000] train loss :  4.78066, valid loss : 14.44212\n",
      "[699/1000] train loss :  4.89619, valid loss : 16.84251\n",
      "[700/1000] train loss :  4.77958, valid loss : 16.11778\n",
      "[701/1000] train loss :  4.80941, valid loss : 17.05931\n",
      "[702/1000] train loss :  4.81430, valid loss : 15.62496\n",
      "[703/1000] train loss :  4.88887, valid loss : 16.57265\n",
      "[704/1000] train loss :  4.80612, valid loss : 16.86776\n",
      "[705/1000] train loss :  4.78064, valid loss : 16.59782\n",
      "[706/1000] train loss :  4.80194, valid loss : 16.75088\n",
      "[707/1000] train loss :  4.84871, valid loss : 16.68115\n",
      "[708/1000] train loss :  4.74710, valid loss : 17.87468\n",
      "[709/1000] train loss :  4.73050, valid loss : 16.12301\n",
      "[710/1000] train loss :  4.80641, valid loss : 15.79817\n",
      "[711/1000] train loss :  4.67498, valid loss : 15.17294\n",
      "[712/1000] train loss :  4.72324, valid loss : 15.00677\n",
      "[713/1000] train loss :  4.81275, valid loss : 16.69179\n",
      "[714/1000] train loss :  4.79319, valid loss : 16.11381\n",
      "[715/1000] train loss :  4.76128, valid loss : 15.69149\n",
      "[716/1000] train loss :  4.73325, valid loss : 15.71009\n",
      "[717/1000] train loss :  4.65941, valid loss : 16.91438\n",
      "[718/1000] train loss :  4.73882, valid loss : 16.19551\n",
      "[719/1000] train loss :  4.70966, valid loss : 16.27195\n",
      "[720/1000] train loss :  4.78215, valid loss : 15.47536\n",
      "[721/1000] train loss :  4.67198, valid loss : 15.83082\n",
      "[722/1000] train loss :  4.74124, valid loss : 16.31957\n",
      "[723/1000] train loss :  4.68665, valid loss : 15.94835\n",
      "[724/1000] train loss :  4.69374, valid loss : 16.28984\n",
      "[725/1000] train loss :  4.71692, valid loss : 16.04896\n",
      "[726/1000] train loss :  4.77210, valid loss : 18.40556\n",
      "[727/1000] train loss :  4.77417, valid loss : 17.04777\n",
      "[728/1000] train loss :  4.69039, valid loss : 15.45915\n",
      "[729/1000] train loss :  4.71767, valid loss : 14.23610\n",
      "[730/1000] train loss :  4.72808, valid loss : 14.81343\n",
      "[731/1000] train loss :  4.74756, valid loss : 15.71120\n",
      "[732/1000] train loss :  4.65419, valid loss : 15.95543\n",
      "[733/1000] train loss :  4.60977, valid loss : 15.58669\n",
      "[734/1000] train loss :  4.70651, valid loss : 15.97448\n",
      "[735/1000] train loss :  4.46921, valid loss : 16.58519\n",
      "[736/1000] train loss :  4.70125, valid loss : 17.83544\n",
      "[737/1000] train loss :  4.71318, valid loss : 16.79674\n",
      "[738/1000] train loss :  4.65024, valid loss : 15.62404\n",
      "[739/1000] train loss :  4.63559, valid loss : 16.31789\n",
      "[740/1000] train loss :  4.70832, valid loss : 14.85684\n",
      "[741/1000] train loss :  4.67686, valid loss : 16.65074\n",
      "[742/1000] train loss :  4.62650, valid loss : 16.80952\n",
      "[743/1000] train loss :  4.61378, valid loss : 16.06416\n",
      "[744/1000] train loss :  4.57746, valid loss : 17.19408\n",
      "[745/1000] train loss :  4.63282, valid loss : 15.05527\n",
      "[746/1000] train loss :  4.61427, valid loss : 15.81871\n",
      "[747/1000] train loss :  4.59123, valid loss : 15.37006\n",
      "[748/1000] train loss :  4.59163, valid loss : 15.03701\n",
      "[749/1000] train loss :  4.75271, valid loss : 17.22503\n",
      "[750/1000] train loss :  4.72167, valid loss : 16.42766\n",
      "[751/1000] train loss :  4.59959, valid loss : 17.20346\n",
      "[752/1000] train loss :  4.70306, valid loss : 15.20977\n",
      "[753/1000] train loss :  4.42317, valid loss : 16.34316\n",
      "[754/1000] train loss :  4.58868, valid loss : 16.13064\n",
      "[755/1000] train loss :  4.65634, valid loss : 16.93295\n",
      "[756/1000] train loss :  4.56134, valid loss : 16.45784\n",
      "[757/1000] train loss :  4.57142, valid loss : 16.09130\n",
      "[758/1000] train loss :  4.57236, valid loss : 18.10527\n",
      "[759/1000] train loss :  4.54931, valid loss : 16.02256\n",
      "[760/1000] train loss :  4.57800, valid loss : 15.18350\n",
      "[761/1000] train loss :  4.60316, valid loss : 15.94625\n",
      "[762/1000] train loss :  4.51200, valid loss : 15.91626\n",
      "[763/1000] train loss :  4.55447, valid loss : 15.44235\n",
      "[764/1000] train loss :  4.45193, valid loss : 16.96390\n",
      "[765/1000] train loss :  4.47670, valid loss : 17.29452\n",
      "[766/1000] train loss :  4.51831, valid loss : 16.46642\n",
      "[767/1000] train loss :  4.51153, valid loss : 16.59936\n",
      "[768/1000] train loss :  4.37819, valid loss : 16.55371\n",
      "[769/1000] train loss :  4.66517, valid loss : 15.24660\n",
      "[770/1000] train loss :  4.52016, valid loss : 16.09006\n",
      "[771/1000] train loss :  4.44251, valid loss : 17.10378\n",
      "[772/1000] train loss :  4.48213, valid loss : 16.87579\n",
      "[773/1000] train loss :  4.56214, valid loss : 14.58696\n",
      "[774/1000] train loss :  4.52817, valid loss : 16.38354\n",
      "[775/1000] train loss :  4.56869, valid loss : 16.77305\n",
      "[776/1000] train loss :  4.50225, valid loss : 15.92982\n",
      "[777/1000] train loss :  4.49174, valid loss : 16.47649\n",
      "[778/1000] train loss :  4.51261, valid loss : 17.50641\n",
      "[779/1000] train loss :  4.46633, valid loss : 15.72650\n",
      "[780/1000] train loss :  4.41655, valid loss : 16.73942\n",
      "[781/1000] train loss :  4.42835, valid loss : 16.83014\n",
      "[782/1000] train loss :  4.41285, valid loss : 15.31341\n",
      "[783/1000] train loss :  4.25660, valid loss : 16.62918\n",
      "[784/1000] train loss :  4.48633, valid loss : 15.19967\n",
      "[785/1000] train loss :  4.42612, valid loss : 15.27534\n",
      "[786/1000] train loss :  4.46115, valid loss : 16.77759\n",
      "[787/1000] train loss :  4.44150, valid loss : 15.03989\n",
      "[788/1000] train loss :  4.55888, valid loss : 16.28929\n",
      "[789/1000] train loss :  4.43031, valid loss : 16.47162\n",
      "[790/1000] train loss :  4.38361, valid loss : 16.98751\n",
      "[791/1000] train loss :  4.53748, valid loss : 15.14456\n",
      "[792/1000] train loss :  4.44604, valid loss : 16.18492\n",
      "[793/1000] train loss :  4.33482, valid loss : 16.03476\n",
      "[794/1000] train loss :  4.46698, valid loss : 15.93763\n",
      "[795/1000] train loss :  4.45861, valid loss : 15.22418\n",
      "[796/1000] train loss :  4.40323, valid loss : 16.43764\n",
      "[797/1000] train loss :  4.40867, valid loss : 15.87837\n",
      "[798/1000] train loss :  4.46124, valid loss : 15.31379\n",
      "[799/1000] train loss :  4.39833, valid loss : 16.18097\n",
      "[800/1000] train loss :  4.40338, valid loss : 15.92397\n",
      "[801/1000] train loss :  4.41218, valid loss : 15.88666\n",
      "[802/1000] train loss :  4.35762, valid loss : 14.83550\n",
      "[803/1000] train loss :  4.38338, valid loss : 16.49171\n",
      "[804/1000] train loss :  4.35729, valid loss : 15.65791\n",
      "[805/1000] train loss :  4.36838, valid loss : 16.85822\n",
      "[806/1000] train loss :  4.25353, valid loss : 17.24104\n",
      "[807/1000] train loss :  4.36133, valid loss : 16.66658\n",
      "[808/1000] train loss :  4.31753, valid loss : 16.73011\n",
      "[809/1000] train loss :  4.27683, valid loss : 16.75384\n",
      "[810/1000] train loss :  4.19598, valid loss : 15.92142\n",
      "[811/1000] train loss :  4.10004, valid loss : 17.22070\n",
      "[812/1000] train loss :  4.34166, valid loss : 15.90551\n",
      "[813/1000] train loss :  4.33347, valid loss : 15.75491\n",
      "[814/1000] train loss :  4.26138, valid loss : 15.55907\n",
      "[815/1000] train loss :  4.35425, valid loss : 18.49217\n",
      "[816/1000] train loss :  4.29446, valid loss : 17.06398\n",
      "[817/1000] train loss :  4.34520, valid loss : 16.77289\n",
      "[818/1000] train loss :  4.30480, valid loss : 15.80075\n",
      "[819/1000] train loss :  4.26417, valid loss : 15.85880\n",
      "[820/1000] train loss :  4.29739, valid loss : 15.62481\n",
      "[821/1000] train loss :  4.26759, valid loss : 17.36451\n",
      "[822/1000] train loss :  4.18387, valid loss : 17.04898\n",
      "[823/1000] train loss :  4.28817, valid loss : 17.13466\n",
      "[824/1000] train loss :  4.26799, valid loss : 16.10664\n",
      "[825/1000] train loss :  4.27927, valid loss : 16.35520\n",
      "[826/1000] train loss :  4.28718, valid loss : 16.51613\n",
      "[827/1000] train loss :  4.04744, valid loss : 16.85217\n",
      "[828/1000] train loss :  4.27011, valid loss : 17.30333\n",
      "[829/1000] train loss :  4.29814, valid loss : 16.57046\n",
      "[830/1000] train loss :  4.17348, valid loss : 15.87444\n",
      "[831/1000] train loss :  4.34206, valid loss : 15.94661\n",
      "[832/1000] train loss :  4.23972, valid loss : 16.84855\n",
      "[833/1000] train loss :  4.25473, valid loss : 15.10804\n",
      "[834/1000] train loss :  4.23191, valid loss : 16.67723\n",
      "[835/1000] train loss :  4.25974, valid loss : 15.81893\n",
      "[836/1000] train loss :  4.25062, valid loss : 16.36612\n",
      "[837/1000] train loss :  4.18300, valid loss : 16.56667\n",
      "[838/1000] train loss :  4.20958, valid loss : 17.00235\n",
      "[839/1000] train loss :  4.20357, valid loss : 17.15593\n",
      "[840/1000] train loss :  4.17719, valid loss : 14.82082\n",
      "[841/1000] train loss :  4.27915, valid loss : 16.69984\n",
      "[842/1000] train loss :  4.21661, valid loss : 16.49530\n",
      "[843/1000] train loss :  4.19167, valid loss : 15.89314\n",
      "[844/1000] train loss :  4.18689, valid loss : 16.85874\n",
      "[845/1000] train loss :  4.29695, valid loss : 15.84527\n",
      "[846/1000] train loss :  4.22161, valid loss : 15.97563\n",
      "[847/1000] train loss :  4.22210, valid loss : 16.26650\n",
      "[848/1000] train loss :  4.24291, valid loss : 16.19979\n",
      "[849/1000] train loss :  4.14946, valid loss : 16.89517\n",
      "[850/1000] train loss :  4.12761, valid loss : 15.52891\n",
      "[851/1000] train loss :  4.17244, valid loss : 15.17012\n",
      "[852/1000] train loss :  4.16622, valid loss : 16.84850\n",
      "[853/1000] train loss :  4.12666, valid loss : 16.18149\n",
      "[854/1000] train loss :  4.18590, valid loss : 14.77438\n",
      "[855/1000] train loss :  4.18992, valid loss : 16.69087\n",
      "[856/1000] train loss :  4.15877, valid loss : 15.46452\n",
      "[857/1000] train loss :  4.13821, valid loss : 16.70249\n",
      "[858/1000] train loss :  4.13197, valid loss : 15.61287\n",
      "[859/1000] train loss :  4.11559, valid loss : 15.27109\n",
      "[860/1000] train loss :  4.24498, valid loss : 14.70681\n",
      "[861/1000] train loss :  4.16154, valid loss : 17.49563\n",
      "[862/1000] train loss :  4.13370, valid loss : 15.75221\n",
      "[863/1000] train loss :  4.08626, valid loss : 16.37536\n",
      "[864/1000] train loss :  4.10232, valid loss : 15.81004\n",
      "[865/1000] train loss :  4.12857, valid loss : 17.83331\n",
      "[866/1000] train loss :  4.11780, valid loss : 15.90326\n",
      "[867/1000] train loss :  4.09442, valid loss : 16.95415\n",
      "[868/1000] train loss :  4.11794, valid loss : 15.40368\n",
      "[869/1000] train loss :  4.16143, valid loss : 16.63962\n",
      "[870/1000] train loss :  4.15849, valid loss : 15.91404\n",
      "[871/1000] train loss :  4.05823, valid loss : 15.84304\n",
      "[872/1000] train loss :  4.11498, valid loss : 15.63722\n",
      "[873/1000] train loss :  4.05100, valid loss : 16.24189\n",
      "[874/1000] train loss :  4.06144, valid loss : 16.29249\n",
      "[875/1000] train loss :  3.96176, valid loss : 16.61254\n",
      "[876/1000] train loss :  4.06255, valid loss : 16.02107\n",
      "[877/1000] train loss :  4.08854, valid loss : 15.15438\n",
      "[878/1000] train loss :  4.10252, valid loss : 16.41734\n",
      "[879/1000] train loss :  4.01654, valid loss : 15.33810\n",
      "[880/1000] train loss :  4.04353, valid loss : 15.39290\n",
      "[881/1000] train loss :  4.06002, valid loss : 16.65076\n",
      "[882/1000] train loss :  4.07694, valid loss : 16.29973\n",
      "[883/1000] train loss :  3.95451, valid loss : 15.41353\n",
      "[884/1000] train loss :  4.12795, valid loss : 16.34738\n",
      "[885/1000] train loss :  4.05590, valid loss : 15.57725\n",
      "[886/1000] train loss :  3.94130, valid loss : 14.67429\n",
      "[887/1000] train loss :  3.92004, valid loss : 16.78383\n",
      "[888/1000] train loss :  4.04577, valid loss : 16.76543\n",
      "[889/1000] train loss :  4.01897, valid loss : 15.16093\n",
      "[890/1000] train loss :  3.99087, valid loss : 15.71730\n",
      "[891/1000] train loss :  3.94892, valid loss : 15.26788\n",
      "[892/1000] train loss :  4.17275, valid loss : 15.84447\n",
      "[893/1000] train loss :  3.98633, valid loss : 16.79708\n",
      "[894/1000] train loss :  3.97134, valid loss : 16.77833\n",
      "[895/1000] train loss :  4.13135, valid loss : 15.55022\n",
      "[896/1000] train loss :  4.06620, valid loss : 16.10641\n",
      "[897/1000] train loss :  4.07057, valid loss : 15.98421\n",
      "[898/1000] train loss :  4.00178, valid loss : 14.43752\n",
      "[899/1000] train loss :  4.03222, valid loss : 16.02675\n",
      "[900/1000] train loss :  4.01085, valid loss : 17.37737\n",
      "[901/1000] train loss :  3.94699, valid loss : 16.61343\n",
      "[902/1000] train loss :  3.95097, valid loss : 16.54563\n",
      "[903/1000] train loss :  3.92765, valid loss : 16.96734\n",
      "[904/1000] train loss :  3.96783, valid loss : 17.25855\n",
      "[905/1000] train loss :  3.93547, valid loss : 16.71346\n",
      "[906/1000] train loss :  3.91966, valid loss : 15.95241\n",
      "[907/1000] train loss :  3.97655, valid loss : 16.83638\n",
      "[908/1000] train loss :  3.90719, valid loss : 17.66609\n",
      "[909/1000] train loss :  3.94518, valid loss : 15.36876\n",
      "[910/1000] train loss :  3.83999, valid loss : 16.62015\n",
      "[911/1000] train loss :  3.89567, valid loss : 16.30228\n",
      "[912/1000] train loss :  3.85270, valid loss : 17.76265\n",
      "[913/1000] train loss :  3.77823, valid loss : 16.69172\n",
      "[914/1000] train loss :  3.86039, valid loss : 16.80290\n",
      "[915/1000] train loss :  3.89691, valid loss : 15.39467\n",
      "[916/1000] train loss :  3.94220, valid loss : 16.16282\n",
      "[917/1000] train loss :  3.86850, valid loss : 15.67371\n",
      "[918/1000] train loss :  3.90385, valid loss : 15.94985\n",
      "[919/1000] train loss :  3.90330, valid loss : 17.82114\n",
      "[920/1000] train loss :  3.87459, valid loss : 17.33977\n",
      "[921/1000] train loss :  3.84821, valid loss : 16.68662\n",
      "[922/1000] train loss :  3.86662, valid loss : 16.19627\n",
      "[923/1000] train loss :  3.91347, valid loss : 16.98791\n",
      "[924/1000] train loss :  3.91287, valid loss : 15.77259\n",
      "[925/1000] train loss :  3.84677, valid loss : 16.38432\n",
      "[926/1000] train loss :  3.89409, valid loss : 15.85314\n",
      "[927/1000] train loss :  3.85856, valid loss : 14.77826\n",
      "[928/1000] train loss :  3.90615, valid loss : 15.80652\n",
      "[929/1000] train loss :  3.80083, valid loss : 15.78041\n",
      "[930/1000] train loss :  3.67385, valid loss : 16.07673\n",
      "[931/1000] train loss :  3.77911, valid loss : 16.21717\n",
      "[932/1000] train loss :  3.81721, valid loss : 16.76939\n",
      "[933/1000] train loss :  3.78478, valid loss : 16.32159\n",
      "[934/1000] train loss :  3.80253, valid loss : 16.67834\n",
      "[935/1000] train loss :  3.78356, valid loss : 16.21408\n",
      "[936/1000] train loss :  3.77820, valid loss : 16.07075\n",
      "[937/1000] train loss :  3.78257, valid loss : 16.55179\n",
      "[938/1000] train loss :  3.84978, valid loss : 15.75781\n",
      "[939/1000] train loss :  3.81294, valid loss : 15.60456\n",
      "[940/1000] train loss :  3.75776, valid loss : 15.79397\n",
      "[941/1000] train loss :  3.77233, valid loss : 16.79732\n",
      "[942/1000] train loss :  3.76107, valid loss : 16.05211\n",
      "[943/1000] train loss :  3.80071, valid loss : 18.09011\n",
      "[944/1000] train loss :  3.72293, valid loss : 16.29298\n",
      "[945/1000] train loss :  3.73312, valid loss : 14.60569\n",
      "[946/1000] train loss :  3.77857, valid loss : 16.66764\n",
      "[947/1000] train loss :  3.71865, valid loss : 18.22572\n",
      "[948/1000] train loss :  3.80935, valid loss : 15.51451\n",
      "[949/1000] train loss :  3.81903, valid loss : 18.12276\n",
      "[950/1000] train loss :  3.81167, valid loss : 16.99861\n",
      "[951/1000] train loss :  3.71035, valid loss : 16.82297\n",
      "[952/1000] train loss :  3.66594, valid loss : 16.08015\n",
      "[953/1000] train loss :  3.73359, valid loss : 15.07968\n",
      "[954/1000] train loss :  3.73035, valid loss : 16.89523\n",
      "[955/1000] train loss :  3.67191, valid loss : 15.66586\n",
      "[956/1000] train loss :  3.73115, valid loss : 16.01834\n",
      "[957/1000] train loss :  3.69591, valid loss : 17.50371\n",
      "[958/1000] train loss :  3.80339, valid loss : 15.83727\n",
      "[959/1000] train loss :  3.67916, valid loss : 16.64385\n",
      "[960/1000] train loss :  3.76287, valid loss : 17.69937\n",
      "[961/1000] train loss :  3.76635, valid loss : 17.71261\n",
      "[962/1000] train loss :  3.69252, valid loss : 17.73617\n",
      "[963/1000] train loss :  3.72513, valid loss : 16.40137\n",
      "[964/1000] train loss :  3.79252, valid loss : 15.76238\n",
      "[965/1000] train loss :  3.72396, valid loss : 16.08254\n",
      "[966/1000] train loss :  3.82437, valid loss : 15.32670\n",
      "[967/1000] train loss :  3.59340, valid loss : 14.94742\n",
      "[968/1000] train loss :  3.69010, valid loss : 16.22425\n",
      "[969/1000] train loss :  3.69008, valid loss : 16.65500\n",
      "[970/1000] train loss :  3.56934, valid loss : 16.31632\n",
      "[971/1000] train loss :  3.68206, valid loss : 16.45016\n",
      "[972/1000] train loss :  3.67586, valid loss : 17.94942\n",
      "[973/1000] train loss :  3.63584, valid loss : 15.62395\n",
      "[974/1000] train loss :  3.74651, valid loss : 17.04375\n",
      "[975/1000] train loss :  3.60440, valid loss : 15.34153\n",
      "[976/1000] train loss :  3.71563, valid loss : 15.56649\n",
      "[977/1000] train loss :  3.59558, valid loss : 16.28561\n",
      "[978/1000] train loss :  3.59938, valid loss : 16.13880\n",
      "[979/1000] train loss :  3.58187, valid loss : 15.90562\n",
      "[980/1000] train loss :  3.64976, valid loss : 17.89419\n",
      "[981/1000] train loss :  3.64130, valid loss : 18.23976\n",
      "[982/1000] train loss :  3.59250, valid loss : 16.82846\n",
      "[983/1000] train loss :  3.49401, valid loss : 15.51988\n",
      "[984/1000] train loss :  3.59424, valid loss : 17.51620\n",
      "[985/1000] train loss :  3.58418, valid loss : 17.03254\n",
      "[986/1000] train loss :  3.65250, valid loss : 15.98052\n",
      "[987/1000] train loss :  3.58440, valid loss : 16.45407\n",
      "[988/1000] train loss :  3.59784, valid loss : 16.99604\n",
      "[989/1000] train loss :  3.60699, valid loss : 17.14758\n",
      "[990/1000] train loss :  3.58462, valid loss : 16.57843\n",
      "[991/1000] train loss :  3.60160, valid loss : 16.66362\n",
      "[992/1000] train loss :  3.56100, valid loss : 17.38652\n",
      "[993/1000] train loss :  3.58502, valid loss : 16.98023\n",
      "[994/1000] train loss :  3.55830, valid loss : 15.99352\n",
      "[995/1000] train loss :  3.55024, valid loss : 16.67022\n",
      "[996/1000] train loss :  3.61125, valid loss : 17.44698\n",
      "[997/1000] train loss :  3.62630, valid loss : 18.24091\n",
      "[998/1000] train loss :  3.54870, valid loss : 16.82664\n",
      "[999/1000] train loss :  3.60261, valid loss : 15.15618\n",
      "[1000/1000] train loss :  3.59426, valid loss : 17.18367\n"
     ]
    }
   ],
   "source": [
    "# 학습 : train + validation\n",
    "\n",
    "train_loss_list = []\n",
    "valid_loss_list = []\n",
    "\n",
    "for epoch in range(1000):\n",
    "\t#####################\n",
    "\t# train\n",
    "\t#####################\n",
    "\tboston_model.train()\n",
    "\ttrain_loss = 0.0\t# 현재 epoch loss를 저장할 func\n",
    "\t# step 단위로 학습\n",
    "\tfor X_train, y_train in train_loader:\n",
    "\t\t# 1 batch 학습 == 1 step\n",
    "\t\t# 1. X, y를 device로 옮기기\n",
    "\t\tX_train, y_train = X_train.to(device), y_train.to(device)\n",
    "\t\t\n",
    "\t\t# 2. model 이용해서 추정\n",
    "\t\tpred = boston_model(X_train)\n",
    "\n",
    "\t\t# 3. 검증 : loss cal\n",
    "\t\tloss = loss_fn(pred, y_train) # (모델 추정값, 정답)\n",
    "\n",
    "\t\t# 4. gradient cal\n",
    "\t\tloss.backward()\n",
    "\n",
    "\t\t# 5. weight/bias update\n",
    "\t\toptimizer.step()\n",
    "\n",
    "\t\t# 6. gradient 초기화\n",
    "\t\toptimizer.zero_grad()\n",
    "\n",
    "\t\ttrain_loss += loss.item()\n",
    "\ttrain_loss /= len(train_loader)\t# 1 epoch당 loss 결과 저장.\n",
    "\n",
    "\t#####################\n",
    "\t# test\n",
    "\t#####################\n",
    "\tboston_model.eval()\n",
    "\tvalid_loss = 0.0\n",
    "\twith torch.no_grad():\n",
    "\t\tfor X_test, y_test in test_loader:\n",
    "\t\t\t# 1. X, y를 device로 옮기기\n",
    "\t\t\tX_test, y_test = X_test.to(device), y_test.to(device)\n",
    "\n",
    "\t\t\t# 2. 추정\n",
    "\t\t\tpred_test = boston_model(X_test)\n",
    "\n",
    "\t\t\t# 3. 검증 : loss cal\n",
    "\t\t\tvalid_loss += loss_fn(pred_test, y_test)\n",
    "\t\tvalid_loss /= len(test_loader)\n",
    "\t\n",
    "\t# 현재 epoch 학습 결과 출력\n",
    "\t\tprint(f\"[{epoch+1}/1000] train loss : {train_loss : .5f}, valid loss : {valid_loss :.5f}\")\n",
    "\t\ttrain_loss_list.append(train_loss)\n",
    "\t\tvalid_loss_list.append(valid_loss)\n",
    "# 연결해서 학습됨 그래서 다시 돌리면 loss 값 이어짐"
   ]
  },
  {
   "cell_type": "code",
   "execution_count": 148,
   "metadata": {},
   "outputs": [
    {
     "data": {
      "image/png": "[encoded data removed]",
      "text/plain": [
       "<Figure size 640x480 with 1 Axes>"
      ]
     },
     "metadata": {},
     "output_type": "display_data"
    }
   ],
   "source": [
    "# epoch 별 loss 변화를 시각화\n",
    "plt.plot(range(1000), train_loss_list, label = \"train_loss\")\n",
    "plt.plot(range(1000), valid_loss_list, label = \"valid_loss\")\n",
    "plt.ylim(0, 25)\n",
    "plt.legend()\n",
    "plt.show()"
   ]
  },
  {
   "cell_type": "code",
   "execution_count": null,
   "metadata": {},
   "outputs": [],
   "source": [
    "#####################\n",
    "# model save\n",
    "#####################\n",
    "\n",
    "torch.save(boston_model, \"saved_models/boston_model.pt\")"
   ]
  },
  {
   "cell_type": "code",
   "execution_count": 152,
   "metadata": {},
   "outputs": [],
   "source": [
    "load_boston_model = torch.load(\"saved_models/boston_model.pt\", weights_only=False)"
   ]
  },
  {
   "cell_type": "code",
   "execution_count": null,
   "metadata": {},
   "outputs": [],
   "source": [
    "#####################\n",
    "# parametor만 save\n",
    "#####################\n",
    "\n",
    "torch.save(boston_model.state_dict(), \"saved_models/boston_model_state_dict.pt\")"
   ]
  },
  {
   "cell_type": "code",
   "execution_count": null,
   "metadata": {},
   "outputs": [],
   "source": [
    "load_sd = torch.load(\"saved_models/boston_model_state_dict.pt\")\n",
    "load_boston_model2 = BostonModel()\n",
    "load_boston_model2.load_state_dict(load_sd)"
   ]
  },
  {
   "cell_type": "code",
   "execution_count": 157,
   "metadata": {},
   "outputs": [
    {
     "name": "stdout",
     "output_type": "stream",
     "text": [
      "17.183670043945312\n"
     ]
    }
   ],
   "source": [
    "#####################\n",
    "# 최종 평가\n",
    "#####################\n",
    "\n",
    "test_loss = 0.0\n",
    "with torch.no_grad():\n",
    "\tfor X_test, y_test in test_loader:\n",
    "\n",
    "\t\t# device로 이동\n",
    "\t\tX_test, y_test = X_test.to(device), y_test.to(device)\n",
    "\n",
    "\t\t# 추론\n",
    "\t\tpred_test = load_boston_model(X_test)\n",
    "\t\t# pred_test = boston_model(X_test)\n",
    "\n",
    "\t\t# loss cal\n",
    "\t\tloss_test = loss_fn(pred_test, y_test)\n",
    "\t\ttest_loss += loss_test.item()\n",
    "\n",
    "\ttest_loss /= len(test_loader)\n",
    "\n",
    "print(test_loss)\n"
   ]
  },
  {
   "cell_type": "code",
   "execution_count": 158,
   "metadata": {},
   "outputs": [],
   "source": [
    "# cnfhs\n",
    "new_X, _ = trainset[:5]\n",
    "load_boston_model.eval()\n",
    "with torch.no_grad():\n",
    "\tnew_y = load_boston_model(new_X)\n"
   ]
  },
  {
   "cell_type": "code",
   "execution_count": 159,
   "metadata": {},
   "outputs": [
    {
     "data": {
      "text/plain": [
       "tensor([[10.5124],\n",
       "        [19.1049],\n",
       "        [18.2910],\n",
       "        [11.3973],\n",
       "        [18.3974]])"
      ]
     },
     "execution_count": 159,
     "metadata": {},
     "output_type": "execute_result"
    }
   ],
   "source": [
    "new_y"
   ]
  },
  {
   "cell_type": "markdown",
   "metadata": {
    "slideshow": {
     "slide_type": "slide"
    }
   },
   "source": [
    "## 분류 (Classification)\n",
    "\n",
    "### Fashion MNIST Dataset - **다중분류(Multi-Class Classification) 문제**\n",
    "\n",
    "10개의 범주(category)와 70,000개의 흑백 이미지로 구성된 [패션 MNIST](https://github.com/zalandoresearch/fashion-mnist) 데이터셋.\n",
    "이미지는 해상도(28x28 픽셀)가 낮고 다음처럼 개별 의류 품목을 나타낸다:\n",
    "\n",
    "<table>\n",
    "  <tr><td>\n",
    "    <img src=\"https://tensorflow.org/images/fashion-mnist-sprite.png\"\n",
    "         alt=\"Fashion MNIST sprite\"  width=\"600\">\n",
    "  </td></tr>\n",
    "  <tr><td align=\"center\">\n",
    "    <b>그림</b> <a href=\"https://github.com/zalandoresearch/fashion-mnist\">패션-MNIST 샘플</a> (Zalando, MIT License).<br/>&nbsp;\n",
    "  </td></tr>\n",
    "</table>"
   ]
  },
  {
   "cell_type": "markdown",
   "metadata": {
    "slideshow": {
     "slide_type": "slide"
    }
   },
   "source": [
    "- **Feature**이미지는 28x28 크기이며 Gray scale이다.\n",
    "- **Target**은 총 10개의 class로 구성되어 있으며 각 class의 class 이름은 다음과 같다.\n",
    "\n",
    "| 레이블 | 클래스       |\n",
    "|--------|--------------|\n",
    "| 0      | T-shirt/top |\n",
    "| 1      | Trousers    |\n",
    "| 2      | Pullover    |\n",
    "| 3      | Dress       |\n",
    "| 4      | Coat        |\n",
    "| 5      | Sandal      |\n",
    "| 6      | Shirt       |\n",
    "| 7      | Sneaker     |\n",
    "| 8      | Bag         |\n",
    "| 9      | Ankle boot  |"
   ]
  },
  {
   "cell_type": "markdown",
   "metadata": {},
   "source": [
    "> #### 학습 도중 모델 저장\n",
    ">\n",
    "> - 학습 도중 가장 좋은 성능을 보이는 모델이 나올 수 있다.\n",
    "> - 학습 도중 모델을 저장하는 방법\n",
    ">   1. 각 에폭이 끝날 때 마다 모델을 저장한다.\n",
    ">   2. 한 에폭 학습 후 성능 개선이 있으면 모델을 저장하여 가장 성능 좋은 모델만 저장되도록 한다.\n",
    ">      - 최고 성능 점수(best score)와 현재 에폭의 성능을 비교하여, 성능이 개선되었을 경우 모델을 저장(덮어쓰기)한다.\n",
    ">\n",
    "> #### 조기 종료(Early Stopping)\n",
    ">\n",
    "> - 학습 도중 성능 개선이 나타나지 않으면, 중간에 학습을 종료하도록 구현한다.\n",
    "> - 에폭 수를 충분히 길게 설정한 뒤, 특정 횟수 동안 성능 개선이 없으면 학습을 조기 종료하도록 구현한다.\n"
   ]
  },
  {
   "cell_type": "code",
   "execution_count": 221,
   "metadata": {},
   "outputs": [
    {
     "name": "stdout",
     "output_type": "stream",
     "text": [
      "cpu\n"
     ]
    }
   ],
   "source": [
    "import torch\n",
    "import torch.nn as nn\n",
    "from torchvision import datasets, transforms\n",
    "\n",
    "device = \"cuda\" if torch.cuda.is_available() else \"cpu\"\n",
    "print(device)"
   ]
  },
  {
   "cell_type": "code",
   "execution_count": 222,
   "metadata": {},
   "outputs": [],
   "source": [
    "####################\n",
    "# Dataset loading\n",
    "#####################\n",
    "\n",
    "fmnist_trainset = datasets.FashionMNIST(\n",
    "\troot= \"data\",\n",
    "\ttrain = True,\n",
    "\tdownload=True,\n",
    "\ttransform=transforms.ToTensor()\n",
    ")\n",
    "\n",
    "fmnist_testset = datasets.FashionMNIST(\n",
    "\troot= \"data\",\n",
    "\ttrain = False,\n",
    "\tdownload = True,\n",
    "\ttransform=transforms.ToTensor()\n",
    ")"
   ]
  },
  {
   "cell_type": "code",
   "execution_count": 185,
   "metadata": {},
   "outputs": [
    {
     "data": {
      "text/plain": [
       "(Dataset FashionMNIST\n",
       "     Number of datapoints: 60000\n",
       "     Root location: data\n",
       "     Split: Train\n",
       "     StandardTransform\n",
       " Transform: ToTensor(),\n",
       " Dataset FashionMNIST\n",
       "     Number of datapoints: 10000\n",
       "     Root location: data\n",
       "     Split: Test\n",
       "     StandardTransform\n",
       " Transform: ToTensor())"
      ]
     },
     "execution_count": 185,
     "metadata": {},
     "output_type": "execute_result"
    }
   ],
   "source": [
    "fmnist_trainset, fmnist_testset"
   ]
  },
  {
   "cell_type": "code",
   "execution_count": 186,
   "metadata": {},
   "outputs": [
    {
     "data": {
      "text/plain": [
       "tensor([[[0.0000, 0.0000, 0.0000, 0.0000, 0.0000, 0.0000, 0.0000, 0.0431,\n",
       "          0.5569, 0.7843, 0.4157, 0.0000, 0.0000, 0.0000, 0.0000, 0.0000,\n",
       "          0.0000, 0.0000, 0.3333, 0.7255, 0.4392, 0.0000, 0.0000, 0.0000,\n",
       "          0.0000, 0.0000, 0.0000, 0.0000],\n",
       "         [0.0000, 0.0000, 0.0000, 0.0000, 0.0000, 0.0000, 0.5961, 0.8392,\n",
       "          0.8510, 0.7608, 0.9255, 0.8471, 0.7333, 0.5843, 0.5294, 0.6000,\n",
       "          0.8275, 0.8510, 0.9059, 0.8039, 0.8510, 0.7373, 0.1333, 0.0000,\n",
       "          0.0000, 0.0000, 0.0000, 0.0000],\n",
       "         [0.0000, 0.0000, 0.0000, 0.0000, 0.0000, 0.2588, 0.7255, 0.6510,\n",
       "          0.7059, 0.7098, 0.7451, 0.8275, 0.8667, 0.7725, 0.5725, 0.7765,\n",
       "          0.8078, 0.7490, 0.6588, 0.7451, 0.6745, 0.7373, 0.6863, 0.0000,\n",
       "          0.0000, 0.0000, 0.0000, 0.0000],\n",
       "         [0.0000, 0.0000, 0.0000, 0.0000, 0.0000, 0.5294, 0.6000, 0.6275,\n",
       "          0.6863, 0.7059, 0.6667, 0.7294, 0.7333, 0.7451, 0.7373, 0.7451,\n",
       "          0.7333, 0.6824, 0.7647, 0.7255, 0.6824, 0.6314, 0.6863, 0.2314,\n",
       "          0.0000, 0.0000, 0.0000, 0.0000],\n",
       "         [0.0000, 0.0000, 0.0000, 0.0000, 0.0000, 0.6314, 0.5765, 0.6275,\n",
       "          0.6667, 0.6980, 0.6941, 0.7059, 0.6588, 0.6784, 0.6824, 0.6706,\n",
       "          0.7255, 0.7216, 0.7255, 0.6745, 0.6706, 0.6431, 0.6824, 0.4706,\n",
       "          0.0000, 0.0000, 0.0000, 0.0000],\n",
       "         [0.0000, 0.0000, 0.0000, 0.0000, 0.0078, 0.6863, 0.5725, 0.5686,\n",
       "          0.6588, 0.6980, 0.7098, 0.7255, 0.7059, 0.7216, 0.6980, 0.7020,\n",
       "          0.7333, 0.7490, 0.7569, 0.7451, 0.7098, 0.6706, 0.6745, 0.6196,\n",
       "          0.0000, 0.0000, 0.0000, 0.0000],\n",
       "         [0.0000, 0.0000, 0.0000, 0.0000, 0.1373, 0.6941, 0.6078, 0.5490,\n",
       "          0.5922, 0.6745, 0.7490, 0.7333, 0.7294, 0.7333, 0.7294, 0.7333,\n",
       "          0.7137, 0.7490, 0.7608, 0.7373, 0.7059, 0.6314, 0.6314, 0.7255,\n",
       "          0.0000, 0.0000, 0.0000, 0.0000],\n",
       "         [0.0000, 0.0000, 0.0000, 0.0000, 0.2314, 0.6667, 0.6000, 0.5529,\n",
       "          0.4706, 0.6039, 0.6275, 0.6314, 0.6745, 0.6588, 0.6510, 0.6314,\n",
       "          0.6471, 0.6745, 0.6667, 0.6431, 0.5451, 0.5843, 0.6353, 0.6510,\n",
       "          0.0824, 0.0000, 0.0000, 0.0000],\n",
       "         [0.0000, 0.0000, 0.0000, 0.0000, 0.3098, 0.5686, 0.6275, 0.8392,\n",
       "          0.4824, 0.5020, 0.6000, 0.6275, 0.6431, 0.6196, 0.6157, 0.6039,\n",
       "          0.6078, 0.6667, 0.6471, 0.5529, 0.7647, 0.7569, 0.5961, 0.6510,\n",
       "          0.2392, 0.0000, 0.0000, 0.0000],\n",
       "         [0.0000, 0.0000, 0.0000, 0.0000, 0.3922, 0.6157, 0.8824, 0.9608,\n",
       "          0.6863, 0.4431, 0.6824, 0.6196, 0.6196, 0.6275, 0.6078, 0.6275,\n",
       "          0.6431, 0.6980, 0.7373, 0.5294, 0.7255, 0.9412, 0.7882, 0.6745,\n",
       "          0.4235, 0.0000, 0.0000, 0.0000],\n",
       "         [0.0000, 0.0000, 0.0000, 0.0000, 0.0000, 0.1216, 0.6824, 0.1098,\n",
       "          0.4941, 0.6000, 0.6510, 0.5961, 0.6196, 0.6196, 0.6275, 0.6314,\n",
       "          0.6157, 0.6588, 0.7490, 0.7373, 0.0706, 0.5176, 0.6235, 0.0275,\n",
       "          0.0000, 0.0000, 0.0000, 0.0000],\n",
       "         [0.0000, 0.0000, 0.0000, 0.0000, 0.0000, 0.0000, 0.0000, 0.0000,\n",
       "          0.3216, 0.7333, 0.6235, 0.6000, 0.6157, 0.6196, 0.6353, 0.6431,\n",
       "          0.6431, 0.6039, 0.7333, 0.7451, 0.0000, 0.0000, 0.0000, 0.0000,\n",
       "          0.0000, 0.0000, 0.0000, 0.0000],\n",
       "         [0.0000, 0.0000, 0.0000, 0.0000, 0.0039, 0.0118, 0.0196, 0.0000,\n",
       "          0.1451, 0.6863, 0.6196, 0.6078, 0.6353, 0.6196, 0.6275, 0.6353,\n",
       "          0.6471, 0.6000, 0.6941, 0.8039, 0.0000, 0.0000, 0.0118, 0.0118,\n",
       "          0.0000, 0.0000, 0.0000, 0.0000],\n",
       "         [0.0000, 0.0000, 0.0000, 0.0000, 0.0000, 0.0000, 0.0039, 0.0000,\n",
       "          0.0980, 0.6863, 0.5961, 0.6275, 0.6196, 0.6314, 0.6275, 0.6431,\n",
       "          0.6431, 0.6314, 0.6510, 0.7843, 0.0000, 0.0000, 0.0039, 0.0000,\n",
       "          0.0000, 0.0000, 0.0000, 0.0000],\n",
       "         [0.0000, 0.0000, 0.0000, 0.0000, 0.0000, 0.0000, 0.0157, 0.0000,\n",
       "          0.1176, 0.6706, 0.5765, 0.6431, 0.6078, 0.6471, 0.6314, 0.6471,\n",
       "          0.6353, 0.6667, 0.6431, 0.6353, 0.0000, 0.0000, 0.0078, 0.0000,\n",
       "          0.0000, 0.0000, 0.0000, 0.0000],\n",
       "         [0.0000, 0.0000, 0.0000, 0.0000, 0.0000, 0.0000, 0.0157, 0.0000,\n",
       "          0.2235, 0.6510, 0.6078, 0.6431, 0.6510, 0.6314, 0.6314, 0.6431,\n",
       "          0.6549, 0.6471, 0.6471, 0.6353, 0.1098, 0.0000, 0.0118, 0.0000,\n",
       "          0.0000, 0.0000, 0.0000, 0.0000],\n",
       "         [0.0000, 0.0000, 0.0000, 0.0000, 0.0000, 0.0000, 0.0118, 0.0000,\n",
       "          0.4471, 0.6314, 0.6314, 0.6510, 0.6235, 0.6588, 0.6314, 0.6314,\n",
       "          0.6745, 0.6353, 0.6471, 0.6706, 0.1961, 0.0000, 0.0196, 0.0000,\n",
       "          0.0000, 0.0000, 0.0000, 0.0000],\n",
       "         [0.0000, 0.0000, 0.0000, 0.0000, 0.0000, 0.0000, 0.0039, 0.0000,\n",
       "          0.5843, 0.6157, 0.6549, 0.6745, 0.6235, 0.6745, 0.6431, 0.6314,\n",
       "          0.6745, 0.6667, 0.6275, 0.6706, 0.3490, 0.0000, 0.0157, 0.0000,\n",
       "          0.0000, 0.0000, 0.0000, 0.0000],\n",
       "         [0.0000, 0.0000, 0.0000, 0.0000, 0.0000, 0.0078, 0.0000, 0.0157,\n",
       "          0.6706, 0.6431, 0.6510, 0.6784, 0.6235, 0.7020, 0.6510, 0.6275,\n",
       "          0.6824, 0.6549, 0.6353, 0.6510, 0.5020, 0.0000, 0.0078, 0.0000,\n",
       "          0.0000, 0.0000, 0.0000, 0.0000],\n",
       "         [0.0000, 0.0000, 0.0000, 0.0000, 0.0000, 0.0118, 0.0000, 0.0706,\n",
       "          0.5961, 0.6784, 0.6275, 0.7020, 0.6039, 0.7098, 0.6510, 0.6431,\n",
       "          0.6863, 0.6667, 0.6510, 0.6667, 0.6431, 0.0000, 0.0000, 0.0039,\n",
       "          0.0000, 0.0000, 0.0000, 0.0000],\n",
       "         [0.0000, 0.0000, 0.0000, 0.0000, 0.0000, 0.0157, 0.0000, 0.1843,\n",
       "          0.6471, 0.6745, 0.6549, 0.7255, 0.6000, 0.7333, 0.6784, 0.6471,\n",
       "          0.6824, 0.7020, 0.6510, 0.6510, 0.6196, 0.0196, 0.0000, 0.0118,\n",
       "          0.0000, 0.0000, 0.0000, 0.0000],\n",
       "         [0.0000, 0.0000, 0.0000, 0.0000, 0.0000, 0.0157, 0.0000, 0.3412,\n",
       "          0.7059, 0.6353, 0.7020, 0.7020, 0.6157, 0.7490, 0.7137, 0.6471,\n",
       "          0.6588, 0.7451, 0.6784, 0.6471, 0.6510, 0.0784, 0.0000, 0.0157,\n",
       "          0.0000, 0.0000, 0.0000, 0.0000],\n",
       "         [0.0000, 0.0000, 0.0000, 0.0000, 0.0000, 0.0157, 0.0000, 0.4118,\n",
       "          0.7333, 0.6157, 0.7608, 0.6863, 0.6314, 0.7451, 0.7216, 0.6667,\n",
       "          0.6196, 0.8039, 0.6941, 0.6588, 0.6706, 0.1725, 0.0000, 0.0157,\n",
       "          0.0000, 0.0000, 0.0000, 0.0000],\n",
       "         [0.0000, 0.0000, 0.0000, 0.0000, 0.0000, 0.0196, 0.0000, 0.5412,\n",
       "          0.7098, 0.6196, 0.8039, 0.6275, 0.6549, 0.7451, 0.7765, 0.6549,\n",
       "          0.5961, 0.8549, 0.7294, 0.6667, 0.6745, 0.2235, 0.0000, 0.0196,\n",
       "          0.0000, 0.0000, 0.0000, 0.0000],\n",
       "         [0.0000, 0.0000, 0.0000, 0.0000, 0.0000, 0.0196, 0.0000, 0.5294,\n",
       "          0.6824, 0.6549, 0.7804, 0.6078, 0.6510, 0.7882, 0.8588, 0.6471,\n",
       "          0.6196, 0.8549, 0.7373, 0.6549, 0.6863, 0.2196, 0.0000, 0.0275,\n",
       "          0.0000, 0.0000, 0.0000, 0.0000],\n",
       "         [0.0000, 0.0000, 0.0000, 0.0000, 0.0000, 0.0196, 0.0000, 0.5059,\n",
       "          0.6706, 0.6745, 0.6941, 0.6000, 0.6235, 0.8078, 0.8471, 0.5804,\n",
       "          0.6157, 0.8078, 0.7451, 0.6471, 0.6863, 0.1882, 0.0000, 0.0196,\n",
       "          0.0000, 0.0000, 0.0000, 0.0000],\n",
       "         [0.0000, 0.0000, 0.0000, 0.0000, 0.0000, 0.0196, 0.0000, 0.6549,\n",
       "          0.7333, 0.7137, 0.7765, 0.7608, 0.7843, 0.8863, 0.9412, 0.7216,\n",
       "          0.8078, 1.0000, 0.7725, 0.6980, 0.7020, 0.1647, 0.0000, 0.0196,\n",
       "          0.0000, 0.0000, 0.0000, 0.0000],\n",
       "         [0.0000, 0.0000, 0.0000, 0.0000, 0.0000, 0.0118, 0.0000, 0.4510,\n",
       "          0.5294, 0.4431, 0.4157, 0.3333, 0.3216, 0.4235, 0.5216, 0.3255,\n",
       "          0.3529, 0.4745, 0.4706, 0.4314, 0.6196, 0.0706, 0.0000, 0.0118,\n",
       "          0.0000, 0.0000, 0.0000, 0.0000]]])"
      ]
     },
     "execution_count": 186,
     "metadata": {},
     "output_type": "execute_result"
    }
   ],
   "source": [
    "idx = 10\n",
    "fmnist_trainset[idx][0]"
   ]
  },
  {
   "cell_type": "code",
   "execution_count": 187,
   "metadata": {},
   "outputs": [
    {
     "data": {
      "text/plain": [
       "60000"
      ]
     },
     "execution_count": 187,
     "metadata": {},
     "output_type": "execute_result"
    }
   ],
   "source": [
    "len(fmnist_trainset)"
   ]
  },
  {
   "cell_type": "code",
   "execution_count": 188,
   "metadata": {},
   "outputs": [],
   "source": [
    "# trainset -> trainset/validationset으로 분리\n",
    "# fmnist_trainset, fmnist_validset = torch.utils. data.random_split(\n",
    "# \tfmnist_trainset, [50000,10000]\n",
    "# )\n",
    "\n",
    "fmnist_trainset, fmnist_validset = torch.utils.data.random_split(\n",
    "    fmnist_trainset, [50000, 10000]\n",
    ")"
   ]
  },
  {
   "cell_type": "code",
   "execution_count": 189,
   "metadata": {},
   "outputs": [
    {
     "data": {
      "text/plain": [
       "(50000, 10000, 10000)"
      ]
     },
     "execution_count": 189,
     "metadata": {},
     "output_type": "execute_result"
    }
   ],
   "source": [
    "len(fmnist_trainset), len(fmnist_testset), len(fmnist_validset)"
   ]
  },
  {
   "cell_type": "code",
   "execution_count": 190,
   "metadata": {},
   "outputs": [
    {
     "data": {
      "text/plain": [
       "{'T-shirt/top': 0,\n",
       " 'Trouser': 1,\n",
       " 'Pullover': 2,\n",
       " 'Dress': 3,\n",
       " 'Coat': 4,\n",
       " 'Sandal': 5,\n",
       " 'Shirt': 6,\n",
       " 'Sneaker': 7,\n",
       " 'Bag': 8,\n",
       " 'Ankle boot': 9}"
      ]
     },
     "execution_count": 190,
     "metadata": {},
     "output_type": "execute_result"
    }
   ],
   "source": [
    "fmnist_testset.class_to_idx"
   ]
  },
  {
   "cell_type": "code",
   "execution_count": 191,
   "metadata": {},
   "outputs": [
    {
     "data": {
      "text/plain": [
       "['T-shirt/top',\n",
       " 'Trouser',\n",
       " 'Pullover',\n",
       " 'Dress',\n",
       " 'Coat',\n",
       " 'Sandal',\n",
       " 'Shirt',\n",
       " 'Sneaker',\n",
       " 'Bag',\n",
       " 'Ankle boot']"
      ]
     },
     "execution_count": 191,
     "metadata": {},
     "output_type": "execute_result"
    }
   ],
   "source": [
    "fmnist_testset.classes"
   ]
  },
  {
   "cell_type": "code",
   "execution_count": null,
   "metadata": {},
   "outputs": [],
   "source": [
    "#########################\n",
    "# DataLoader\n",
    "#########################\n",
    "\n",
    "\n",
    "train_loader = torch.utils.data.DataLoader(\n",
    "\tfmnist_trainset,\n",
    "\tbatch_size = 200,\n",
    "\tshuffle = True,\n",
    "\tdrop_last = True\n",
    ")\n",
    "valid_loader = torch.utils.data.DataLoader(\n",
    "\tfmnist_validset,\n",
    "\tbatch_size = 200,\n",
    ")\n",
    "test_loader = torch.utils.data.DataLoader(\n",
    "\tfmnist_testset,\n",
    "\tbatch_size = 200,\n",
    ")"
   ]
  },
  {
   "cell_type": "code",
   "execution_count": 223,
   "metadata": {},
   "outputs": [],
   "source": [
    "###########################\n",
    "# model 정의\n",
    "###########################\n",
    "\n",
    "class FMNISTModel(nn.Module):\n",
    "\n",
    "\tdef __init__(self):\n",
    "\t\tsuper().__init__()\n",
    "\t\tself.lr1 = nn.Linear(784, 512)\n",
    "\t\tself.lr2 = nn.Linear(512, 256)\n",
    "\t\tself.lr3 = nn.Linear(256, 128)\n",
    "\t\tself.lr4 = nn.Linear(128, 64)\n",
    "\t\tself.lr5 = nn.Linear(64, 10)\n",
    "\t\tself.relu = nn.ReLU()\n",
    "\n",
    "\tdef forward(self, X):\n",
    "\t\t\"\"\"\n",
    "\t\tX : 입력 tensor - shape : [batch_size, 1, ,28, 28]\n",
    "\t\t\"\"\"\n",
    "\t\t# 1. flatten -> 3차원 입력을 1차원으로 변환.\n",
    "\t\t# torch.flatten(X, start_dim=1) #==> ()(X)\n",
    "\t\tX = nn.Flatten()(X)\t# 1축 이후를 flatten\n",
    "\n",
    "\t\tX = self.lr1(X)\n",
    "\t\tX = self.relu(X)\n",
    "\n",
    "\t\tX = self.lr2(X)\n",
    "\t\tX = self.relu(X)\n",
    "\n",
    "\t\tX = self.lr3(X)\n",
    "\t\tX = self.relu(X)\n",
    "\n",
    "\t\tX = self.lr4(X)\n",
    "\t\tX = self.relu(X)\n",
    "\n",
    "\t\tout = self.lr5(X)\n",
    "\t\treturn out\n"
   ]
  },
  {
   "cell_type": "code",
   "execution_count": 215,
   "metadata": {},
   "outputs": [
    {
     "data": {
      "text/plain": [
       "FMNISTModel(\n",
       "  (lr1): Linear(in_features=784, out_features=512, bias=True)\n",
       "  (lr2): Linear(in_features=512, out_features=256, bias=True)\n",
       "  (lr3): Linear(in_features=256, out_features=128, bias=True)\n",
       "  (lr4): Linear(in_features=128, out_features=64, bias=True)\n",
       "  (lr5): Linear(in_features=64, out_features=10, bias=True)\n",
       "  (relu): ReLU()\n",
       ")"
      ]
     },
     "execution_count": 215,
     "metadata": {},
     "output_type": "execute_result"
    }
   ],
   "source": [
    "# 모델 구조 확인\n",
    "m = FMNISTModel()\n",
    "m.to(device)"
   ]
  },
  {
   "cell_type": "code",
   "execution_count": 216,
   "metadata": {},
   "outputs": [
    {
     "data": {
      "text/plain": [
       "==========================================================================================\n",
       "Layer (type:depth-idx)                   Output Shape              Param #\n",
       "==========================================================================================\n",
       "FMNISTModel                              [200, 10]                 --\n",
       "├─Linear: 1-1                            [200, 512]                401,920\n",
       "├─ReLU: 1-2                              [200, 512]                --\n",
       "├─Linear: 1-3                            [200, 256]                131,328\n",
       "├─ReLU: 1-4                              [200, 256]                --\n",
       "├─Linear: 1-5                            [200, 128]                32,896\n",
       "├─ReLU: 1-6                              [200, 128]                --\n",
       "├─Linear: 1-7                            [200, 64]                 8,256\n",
       "├─ReLU: 1-8                              [200, 64]                 --\n",
       "├─Linear: 1-9                            [200, 10]                 650\n",
       "==========================================================================================\n",
       "Total params: 575,050\n",
       "Trainable params: 575,050\n",
       "Non-trainable params: 0\n",
       "Total mult-adds (Units.MEGABYTES): 115.01\n",
       "==========================================================================================\n",
       "Input size (MB): 0.63\n",
       "Forward/backward pass size (MB): 1.55\n",
       "Params size (MB): 2.30\n",
       "Estimated Total Size (MB): 4.48\n",
       "=========================================================================================="
      ]
     },
     "execution_count": 216,
     "metadata": {},
     "output_type": "execute_result"
    }
   ],
   "source": [
    "from torchinfo import summary\n",
    "summary(m,(200,1,28,28), device=device)"
   ]
  },
  {
   "cell_type": "code",
   "execution_count": 217,
   "metadata": {},
   "outputs": [],
   "source": [
    "#####################\n",
    "# 학습\n",
    "#####################\n",
    "LR = 0.0001\n",
    "EPOCHS = 20\n",
    "\n",
    "fmist_model = FMNISTModel().to(device)\n",
    "optimizer = torch.optim.Adam(fmist_model.parameters(), lr = LR)\n",
    "loss_fn = nn.CrossEntropyLoss()\n",
    "# 다중 분류 loss : categorical crossentropy\n",
    "## CrossEntropyLoss:\n",
    "### 1. y 정답을 one hot encoding\n",
    "### 2. pred 예측값에 softmax를 적용\n",
    "### 3. categorical crossentropy 계산"
   ]
  },
  {
   "cell_type": "code",
   "execution_count": null,
   "metadata": {},
   "outputs": [],
   "source": [
    "#####################\n",
    "# 학습\n",
    "#####################\n",
    "\n",
    "import time\n",
    "\n",
    "train_loss_list = []\n",
    "valid_loss_list = []\n",
    "valid_acc_list = []\n",
    "\n",
    "s = time.time()\n",
    "\n",
    "########## train code 작성\n",
    "for epoch in range(EPOCHS):\n",
    "\n",
    "\n",
    "\n",
    "\n",
    "e = time.time()\n",
    "print(f\"학습에 걸린 총 시간 : {e-s}초\")\n",
    "\n",
    "# 성능 확인 후 조기 종료 알고리즘도 추가."
   ]
  },
  {
   "cell_type": "code",
   "execution_count": 228,
   "metadata": {},
   "outputs": [
    {
     "data": {
      "text/plain": [
       "FMNISTModel(\n",
       "  (lr1): Linear(in_features=784, out_features=512, bias=True)\n",
       "  (lr2): Linear(in_features=512, out_features=256, bias=True)\n",
       "  (lr3): Linear(in_features=256, out_features=128, bias=True)\n",
       "  (lr4): Linear(in_features=128, out_features=64, bias=True)\n",
       "  (lr5): Linear(in_features=64, out_features=10, bias=True)\n",
       "  (relu): ReLU()\n",
       ")"
      ]
     },
     "execution_count": 228,
     "metadata": {},
     "output_type": "execute_result"
    }
   ],
   "source": [
    "load_fmodel = torch.load(\"fashion_mnist_model.pt\", weights_only=False)\n",
    "load_fmodel"
   ]
  },
  {
   "cell_type": "code",
   "execution_count": 227,
   "metadata": {},
   "outputs": [
    {
     "data": {
      "text/plain": [
       "(torch.Size([50, 1, 28, 28]), torch.Size([50]))"
      ]
     },
     "execution_count": 227,
     "metadata": {},
     "output_type": "execute_result"
    }
   ],
   "source": [
    "dataloader = torch.utils.data.DataLoader(fmnist_testset, batch_size=50)\n",
    "x, y = next(iter(dataloader))\n",
    "x.shape, y.shape"
   ]
  },
  {
   "cell_type": "code",
   "execution_count": null,
   "metadata": {},
   "outputs": [
    {
     "data": {
      "text/plain": [
       "Dataset FashionMNIST\n",
       "    Number of datapoints: 10000\n",
       "    Root location: data\n",
       "    Split: Test\n",
       "    StandardTransform\n",
       "Transform: ToTensor()"
      ]
     },
     "metadata": {},
     "output_type": "display_data"
    }
   ],
   "source": [
    "fmnist_testset"
   ]
  },
  {
   "cell_type": "code",
   "execution_count": null,
   "metadata": {},
   "outputs": [
    {
     "data": {
      "text/plain": [
       "torch.return_types.max(\n",
       "values=tensor([ 6.6165, 10.2547, 17.5566, 15.8298,  5.5867, 12.9642, 12.3320, 12.8852,\n",
       "        12.3735,  7.2927,  5.8394,  8.4934,  5.0595,  6.3468,  5.9614,  9.6942,\n",
       "         8.1569,  6.4463, 11.1379,  5.2048,  3.2624,  4.3939,  7.9788,  5.0826,\n",
       "        16.5399,  5.5271,  7.8283,  4.4728,  5.8460,  2.2570, 18.4551, 14.1004,\n",
       "         4.2600,  3.6490, 22.8172,  8.0234,  6.0692,  9.5096,  7.7339, 10.2880,\n",
       "         6.9833, 14.9835,  5.2897,  5.6794,  8.4235,  5.0249,  3.5945,  8.6214,\n",
       "         5.4602,  4.6217]),\n",
       "indices=tensor([9, 2, 1, 1, 6, 1, 4, 6, 5, 7, 4, 5, 7, 3, 4, 1, 2, 2, 8, 0, 2, 5, 7, 5,\n",
       "        1, 2, 6, 0, 9, 3, 8, 8, 3, 3, 8, 0, 7, 5, 7, 9, 0, 1, 6, 7, 6, 7, 2, 1,\n",
       "        2, 6]))"
      ]
     },
     "execution_count": 230,
     "metadata": {},
     "output_type": "execute_result"
    }
   ],
   "source": [
    "with torch.no_grad():\n",
    "\tpred_logit = load_fmodel(x)\n",
    "\tresult = torch.max(pred_logit, dim = -1)"
   ]
  },
  {
   "cell_type": "code",
   "execution_count": 233,
   "metadata": {},
   "outputs": [
    {
     "data": {
      "text/plain": [
       "(torch.return_types.max(\n",
       " values=tensor([ 6.6165, 10.2547, 17.5566, 15.8298,  5.5867, 12.9642, 12.3320, 12.8852,\n",
       "         12.3735,  7.2927,  5.8394,  8.4934,  5.0595,  6.3468,  5.9614,  9.6942,\n",
       "          8.1569,  6.4463, 11.1379,  5.2048,  3.2624,  4.3939,  7.9788,  5.0826,\n",
       "         16.5399,  5.5271,  7.8283,  4.4728,  5.8460,  2.2570, 18.4551, 14.1004,\n",
       "          4.2600,  3.6490, 22.8172,  8.0234,  6.0692,  9.5096,  7.7339, 10.2880,\n",
       "          6.9833, 14.9835,  5.2897,  5.6794,  8.4235,  5.0249,  3.5945,  8.6214,\n",
       "          5.4602,  4.6217]),\n",
       " indices=tensor([9, 2, 1, 1, 6, 1, 4, 6, 5, 7, 4, 5, 7, 3, 4, 1, 2, 2, 8, 0, 2, 5, 7, 5,\n",
       "         1, 2, 6, 0, 9, 3, 8, 8, 3, 3, 8, 0, 7, 5, 7, 9, 0, 1, 6, 7, 6, 7, 2, 1,\n",
       "         2, 6])),\n",
       " tensor([ 6.6165, 10.2547, 17.5566, 15.8298,  5.5867, 12.9642, 12.3320, 12.8852,\n",
       "         12.3735,  7.2927,  5.8394,  8.4934,  5.0595,  6.3468,  5.9614,  9.6942,\n",
       "          8.1569,  6.4463, 11.1379,  5.2048,  3.2624,  4.3939,  7.9788,  5.0826,\n",
       "         16.5399,  5.5271,  7.8283,  4.4728,  5.8460,  2.2570, 18.4551, 14.1004,\n",
       "          4.2600,  3.6490, 22.8172,  8.0234,  6.0692,  9.5096,  7.7339, 10.2880,\n",
       "          6.9833, 14.9835,  5.2897,  5.6794,  8.4235,  5.0249,  3.5945,  8.6214,\n",
       "          5.4602,  4.6217]))"
      ]
     },
     "execution_count": 233,
     "metadata": {},
     "output_type": "execute_result"
    }
   ],
   "source": [
    "result,\\\n",
    "\tresult.values"
   ]
  },
  {
   "cell_type": "code",
   "execution_count": 236,
   "metadata": {},
   "outputs": [
    {
     "data": {
      "text/plain": [
       "tensor([[2.1240e-05, 1.3741e-07, 2.1774e-08, 1.3933e-07, 5.7134e-07, 5.3490e-03,\n",
       "         9.4112e-07, 4.0693e-03, 3.0450e-06, 9.9056e-01],\n",
       "        [7.7839e-05, 8.9436e-09, 9.9583e-01, 1.6291e-06, 2.2422e-03, 1.9047e-13,\n",
       "         1.8472e-03, 4.1912e-14, 1.4444e-07, 3.2516e-14],\n",
       "        [7.1783e-11, 1.0000e+00, 1.9656e-13, 1.3607e-10, 1.3024e-14, 5.8065e-18,\n",
       "         3.2179e-10, 1.4075e-21, 2.1389e-13, 8.0509e-16],\n",
       "        [4.9369e-10, 1.0000e+00, 3.1878e-12, 3.9710e-09, 2.1329e-13, 8.4467e-17,\n",
       "         1.1058e-09, 2.0288e-20, 1.5356e-12, 5.8884e-15],\n",
       "        [2.2420e-01, 8.2326e-06, 1.1056e-03, 6.8042e-04, 3.6434e-04, 4.2179e-05,\n",
       "         7.7358e-01, 1.4358e-08, 1.3949e-05, 5.8992e-08],\n",
       "        [7.3029e-08, 1.0000e+00, 8.7635e-10, 2.0184e-08, 6.9003e-11, 3.8155e-13,\n",
       "         2.0961e-07, 4.9910e-16, 3.4739e-10, 7.3725e-12],\n",
       "        [1.7963e-08, 1.9673e-09, 8.7838e-05, 8.1959e-07, 9.9958e-01, 4.0402e-13,\n",
       "         3.2866e-04, 9.6261e-13, 2.6871e-10, 3.9642e-13],\n",
       "        [1.9375e-06, 1.6715e-11, 4.8659e-07, 4.1520e-07, 5.5161e-04, 4.8450e-08,\n",
       "         9.9945e-01, 1.1513e-13, 3.9517e-10, 2.5628e-14],\n",
       "        [6.9036e-09, 5.9141e-13, 1.8590e-13, 6.4431e-11, 1.1008e-12, 1.0000e+00,\n",
       "         4.1233e-08, 2.9959e-07, 2.6415e-09, 8.2559e-09],\n",
       "        [1.4432e-07, 8.1982e-08, 4.0231e-09, 2.2400e-07, 3.5354e-08, 1.0462e-04,\n",
       "         4.1962e-09, 9.9841e-01, 1.6920e-05, 1.4676e-03],\n",
       "        [1.5653e-04, 4.0892e-05, 3.7660e-02, 1.3993e-04, 9.1648e-01, 5.8436e-06,\n",
       "         4.5450e-02, 6.8648e-06, 5.2893e-05, 2.6680e-06],\n",
       "        [5.2814e-06, 2.5347e-09, 1.0455e-08, 6.9562e-08, 3.6676e-08, 9.9991e-01,\n",
       "         7.7659e-05, 6.2636e-06, 1.8099e-06, 1.6225e-06],\n",
       "        [6.5210e-07, 1.3787e-08, 2.7019e-10, 4.0604e-07, 1.1647e-09, 4.3667e-01,\n",
       "         4.5403e-08, 5.5187e-01, 1.1416e-02, 4.7447e-05],\n",
       "        [6.6132e-04, 7.8482e-04, 7.1012e-05, 9.9793e-01, 2.8724e-04, 4.3745e-08,\n",
       "         2.4706e-04, 4.8163e-10, 2.0656e-05, 1.0565e-08],\n",
       "        [3.7084e-04, 7.7673e-06, 1.3451e-01, 1.2815e-04, 8.4238e-01, 9.2336e-08,\n",
       "         2.2499e-02, 4.8420e-07, 1.0849e-04, 2.6032e-07],\n",
       "        [2.9659e-07, 9.9998e-01, 4.5460e-08, 1.4748e-05, 2.2718e-08, 6.3435e-11,\n",
       "         7.9339e-07, 9.3840e-13, 3.0633e-08, 1.9599e-09],\n",
       "        [1.7073e-03, 5.6315e-07, 9.9479e-01, 3.3224e-05, 9.1322e-04, 5.6828e-11,\n",
       "         2.5554e-03, 2.2726e-12, 2.8646e-06, 4.6834e-12],\n",
       "        [1.1989e-03, 4.9193e-06, 8.7457e-01, 2.0080e-05, 1.1488e-01, 5.0987e-09,\n",
       "         9.3092e-03, 5.5002e-09, 2.0280e-05, 7.1656e-09],\n",
       "        [1.5538e-05, 4.2720e-09, 8.8967e-08, 9.0118e-08, 8.2812e-08, 3.6628e-08,\n",
       "         2.5282e-06, 1.5691e-07, 9.9998e-01, 2.0856e-08],\n",
       "        [9.4708e-01, 1.3649e-04, 3.8657e-03, 4.6147e-03, 5.9512e-05, 1.0366e-06,\n",
       "         4.4206e-02, 1.9832e-09, 3.8399e-05, 2.5830e-08],\n",
       "        [2.1851e-01, 2.7920e-03, 7.3991e-01, 1.2694e-02, 5.6523e-03, 6.9251e-07,\n",
       "         1.9019e-02, 6.0101e-08, 1.4195e-03, 3.7415e-07],\n",
       "        [2.0966e-05, 4.2315e-06, 8.9607e-07, 1.6732e-05, 2.1746e-06, 6.7612e-01,\n",
       "         9.2393e-06, 3.1996e-01, 4.3620e-04, 3.4286e-03],\n",
       "        [2.7950e-08, 1.5399e-08, 5.9913e-10, 7.7373e-08, 8.1517e-09, 5.2188e-05,\n",
       "         9.6033e-10, 9.9971e-01, 1.3444e-05, 2.2745e-04],\n",
       "        [4.9487e-04, 4.6358e-06, 5.2338e-06, 1.1785e-05, 1.7084e-05, 9.8546e-01,\n",
       "         4.9704e-04, 2.4224e-03, 2.7596e-04, 1.0806e-02],\n",
       "        [3.6324e-10, 1.0000e+00, 1.6638e-12, 6.4876e-10, 4.0837e-14, 5.0260e-18,\n",
       "         5.4571e-10, 6.7879e-22, 6.8635e-13, 3.9760e-16],\n",
       "        [1.6860e-03, 9.5312e-06, 7.1867e-01, 1.2392e-03, 1.8441e-01, 2.3507e-08,\n",
       "         9.3963e-02, 8.8200e-09, 2.2876e-05, 4.8521e-09],\n",
       "        [1.0703e-04, 1.4976e-07, 1.3861e-03, 4.3869e-05, 7.2061e-02, 5.1791e-06,\n",
       "         9.2639e-01, 2.6471e-08, 6.7082e-06, 3.0544e-09],\n",
       "        [8.1971e-01, 1.0287e-03, 9.6008e-04, 4.6676e-02, 2.3137e-04, 1.7214e-06,\n",
       "         1.3136e-01, 2.2483e-09, 2.8988e-05, 3.9352e-08],\n",
       "        [2.2820e-05, 6.5440e-07, 2.1976e-07, 6.4225e-07, 3.4981e-06, 4.7281e-04,\n",
       "         1.4829e-06, 2.1526e-02, 1.1337e-05, 9.7796e-01],\n",
       "        [2.2027e-02, 3.3232e-03, 2.2391e-02, 4.0395e-01, 3.4918e-01, 1.0441e-04,\n",
       "         1.9401e-01, 9.0193e-05, 4.8845e-03, 4.5311e-05],\n",
       "        [3.0340e-09, 5.3492e-14, 1.0885e-11, 1.0593e-11, 8.8733e-11, 1.4948e-14,\n",
       "         1.8650e-10, 7.7033e-12, 1.0000e+00, 6.4047e-14],\n",
       "        [4.6165e-07, 8.1769e-12, 2.1189e-09, 2.9633e-09, 1.9006e-08, 9.4766e-11,\n",
       "         1.8523e-07, 3.8034e-10, 1.0000e+00, 5.4991e-12],\n",
       "        [4.6075e-03, 1.5234e-02, 8.4045e-04, 9.7438e-01, 2.2312e-03, 2.4418e-05,\n",
       "         2.1943e-03, 6.8204e-07, 4.8152e-04, 7.9905e-06],\n",
       "        [1.9937e-02, 1.8139e-03, 3.1547e-02, 8.7896e-01, 3.9208e-02, 1.3669e-06,\n",
       "         2.6624e-02, 3.4762e-07, 1.9108e-03, 7.2787e-07],\n",
       "        [7.8073e-12, 6.5543e-18, 1.5022e-14, 6.0852e-14, 9.1430e-14, 9.3881e-18,\n",
       "         8.7896e-13, 3.4265e-15, 1.0000e+00, 2.6413e-19],\n",
       "        [9.9430e-01, 2.9128e-07, 7.8166e-05, 2.3831e-05, 2.1888e-07, 1.2765e-08,\n",
       "         5.5964e-03, 3.9498e-13, 1.5093e-07, 3.3085e-11],\n",
       "        [1.2739e-06, 9.0755e-07, 1.0724e-07, 2.7167e-06, 1.0689e-06, 1.1674e-04,\n",
       "         9.6896e-08, 9.9819e-01, 1.1637e-04, 1.5707e-03],\n",
       "        [2.2607e-07, 5.8327e-10, 1.2351e-10, 1.0837e-08, 3.8437e-10, 9.9993e-01,\n",
       "         3.1892e-07, 6.5637e-05, 2.7902e-07, 3.5584e-06],\n",
       "        [3.1130e-08, 4.0795e-08, 1.9574e-09, 1.1385e-07, 2.3763e-08, 6.7951e-05,\n",
       "         1.5596e-09, 9.9947e-01, 2.4963e-06, 4.6141e-04],\n",
       "        [5.7631e-08, 7.9286e-11, 5.1889e-12, 3.2064e-11, 1.0014e-09, 6.7158e-06,\n",
       "         7.6341e-10, 1.1672e-04, 6.4057e-09, 9.9988e-01],\n",
       "        [9.3499e-01, 1.6137e-06, 1.1395e-04, 2.3849e-05, 5.4689e-06, 9.1605e-07,\n",
       "         6.4861e-02, 6.1576e-11, 4.2281e-07, 2.4916e-09],\n",
       "        [6.1772e-10, 1.0000e+00, 1.7401e-11, 4.0444e-09, 3.0630e-12, 2.4536e-15,\n",
       "         5.5185e-09, 5.1676e-18, 1.4437e-11, 3.3770e-13],\n",
       "        [8.5249e-02, 9.5305e-05, 5.8525e-04, 1.4626e-02, 3.1506e-03, 4.0855e-06,\n",
       "         8.9628e-01, 1.1372e-08, 7.7183e-06, 4.2688e-08],\n",
       "        [2.4017e-06, 9.0810e-07, 2.3873e-07, 2.6587e-06, 1.0011e-06, 4.6179e-04,\n",
       "         9.1797e-08, 9.5470e-01, 1.4990e-05, 4.4812e-02],\n",
       "        [6.6407e-05, 5.3601e-08, 7.3405e-04, 6.2860e-05, 8.2013e-02, 5.5943e-07,\n",
       "         9.1712e-01, 2.2168e-09, 8.1229e-07, 2.6208e-10],\n",
       "        [1.1702e-05, 4.9232e-06, 8.0092e-07, 7.6231e-06, 2.7015e-06, 1.0407e-02,\n",
       "         9.7525e-07, 9.5101e-01, 1.8712e-04, 3.8366e-02],\n",
       "        [3.3584e-02, 6.9408e-04, 7.9344e-01, 6.0374e-02, 4.1582e-02, 2.0755e-06,\n",
       "         6.7457e-02, 3.8633e-07, 2.8661e-03, 5.4528e-07],\n",
       "        [3.5360e-06, 9.9994e-01, 2.4835e-07, 5.2898e-05, 7.6376e-08, 6.6097e-10,\n",
       "         4.7654e-06, 9.6328e-12, 2.3931e-07, 1.1534e-08],\n",
       "        [8.7916e-04, 2.3115e-06, 4.4173e-01, 5.3288e-04, 2.8701e-01, 5.0021e-08,\n",
       "         2.6982e-01, 3.2748e-08, 2.8058e-05, 5.6201e-09],\n",
       "        [1.1282e-02, 6.4487e-05, 8.4631e-02, 4.8295e-03, 6.0088e-02, 8.8198e-05,\n",
       "         8.3841e-01, 2.7847e-06, 6.0336e-04, 1.4931e-06]])"
      ]
     },
     "execution_count": 236,
     "metadata": {},
     "output_type": "execute_result"
    }
   ],
   "source": [
    "pred_proba = nn.Softmax(dim=-1)(pred_logit)\n",
    "pred_proba"
   ]
  },
  {
   "cell_type": "code",
   "execution_count": 238,
   "metadata": {},
   "outputs": [
    {
     "data": {
      "text/plain": [
       "torch.return_types.max(\n",
       "values=tensor([0.9906, 0.9958, 1.0000, 1.0000, 0.7736, 1.0000, 0.9996, 0.9994, 1.0000,\n",
       "        0.9984, 0.9165, 0.9999, 0.5519, 0.9979, 0.8424, 1.0000, 0.9948, 0.8746,\n",
       "        1.0000, 0.9471, 0.7399, 0.6761, 0.9997, 0.9855, 1.0000, 0.7187, 0.9264,\n",
       "        0.8197, 0.9780, 0.4040, 1.0000, 1.0000, 0.9744, 0.8790, 1.0000, 0.9943,\n",
       "        0.9982, 0.9999, 0.9995, 0.9999, 0.9350, 1.0000, 0.8963, 0.9547, 0.9171,\n",
       "        0.9510, 0.7934, 0.9999, 0.4417, 0.8384]),\n",
       "indices=tensor([9, 2, 1, 1, 6, 1, 4, 6, 5, 7, 4, 5, 7, 3, 4, 1, 2, 2, 8, 0, 2, 5, 7, 5,\n",
       "        1, 2, 6, 0, 9, 3, 8, 8, 3, 3, 8, 0, 7, 5, 7, 9, 0, 1, 6, 7, 6, 7, 2, 1,\n",
       "        2, 6]))"
      ]
     },
     "execution_count": 238,
     "metadata": {},
     "output_type": "execute_result"
    }
   ],
   "source": [
    "result = torch.max(pred_proba, dim=-1)\n",
    "result"
   ]
  },
  {
   "cell_type": "code",
   "execution_count": 242,
   "metadata": {},
   "outputs": [],
   "source": [
    "def predict(model, x):\n",
    "\twith torch.no_grad():\n",
    "\t\tpred = model(x)\n",
    "\t\tpred_proba = nn.Softmax(dim=-1)(pred)\n",
    "\t\tresult = torch.max(pred_proba, dim=-1)\n",
    "\t\treturn [(idx.item(),proba.item()) for idx, proba in zip(result.indices, result.values)]"
   ]
  },
  {
   "cell_type": "code",
   "execution_count": 244,
   "metadata": {},
   "outputs": [
    {
     "data": {
      "text/plain": [
       "[(9, 0.9905555844306946),\n",
       " (2, 0.9958310723304749),\n",
       " (1, 1.0),\n",
       " (1, 1.0),\n",
       " (6, 0.7735845446586609),\n",
       " (1, 0.9999996423721313),\n",
       " (4, 0.9995827078819275),\n",
       " (6, 0.9994454979896545),\n",
       " (5, 0.9999996423721313),\n",
       " (7, 0.9984103441238403),\n",
       " (4, 0.9164848923683167),\n",
       " (5, 0.9999071359634399),\n",
       " (7, 0.5518661737442017),\n",
       " (3, 0.9979277849197388),\n",
       " (4, 0.8423774838447571),\n",
       " (1, 0.9999840259552002),\n",
       " (2, 0.994787335395813),\n",
       " (2, 0.8745715022087097),\n",
       " (8, 0.9999815225601196),\n",
       " (0, 0.9470783472061157),\n",
       " (2, 0.7399144768714905),\n",
       " (5, 0.6761211156845093),\n",
       " (7, 0.9997068047523499),\n",
       " (5, 0.9854647517204285),\n",
       " (1, 1.0),\n",
       " (2, 0.7186679840087891),\n",
       " (6, 0.9263898134231567),\n",
       " (0, 0.819709300994873),\n",
       " (9, 0.9779600501060486),\n",
       " (3, 0.4039537310600281),\n",
       " (8, 1.0),\n",
       " (8, 0.9999992847442627),\n",
       " (3, 0.9743779897689819),\n",
       " (3, 0.8789570927619934),\n",
       " (8, 1.0),\n",
       " (0, 0.9943010807037354),\n",
       " (7, 0.9981901049613953),\n",
       " (5, 0.9999299049377441),\n",
       " (7, 0.9994679093360901),\n",
       " (9, 0.9998764991760254),\n",
       " (0, 0.9349932670593262),\n",
       " (1, 1.0),\n",
       " (6, 0.8962815403938293),\n",
       " (7, 0.954703688621521),\n",
       " (6, 0.9171225428581238),\n",
       " (7, 0.9510108232498169),\n",
       " (2, 0.793440580368042),\n",
       " (1, 0.9999381303787231),\n",
       " (2, 0.44173288345336914),\n",
       " (6, 0.8384090662002563)]"
      ]
     },
     "execution_count": 244,
     "metadata": {},
     "output_type": "execute_result"
    }
   ],
   "source": [
    "result = predict(load_fmodel, x)\n",
    "result"
   ]
  },
  {
   "cell_type": "markdown",
   "metadata": {
    "slideshow": {
     "slide_type": "slide"
    }
   },
   "source": [
    "### 위스콘신 유방암 데이터셋 - **이진분류(Binary Classification) 문제**\n",
    "\n",
    "-   **이진 분류 문제 처리 모델의 두가지 방법**\n",
    "    1. positive(1)일 확률을 출력하도록 구현\n",
    "        - output layer: units=1, \n",
    "\t\t- activation=**sigmoid**\n",
    "        - loss: **binary_crossentropy**\n",
    "    2. negative(0)일 확률과 positive(1)일 확률을 출력하도록 구현 => 다중분류 처리 방식으로 해결\n",
    "        - output layer: units=2, activation='softmax', y(정답)은 one hot encoding 처리\n",
    "        - loss: categorical_crossentropy\n",
    "-   위스콘신 대학교에서 제공한 종양의 악성/양성여부 분류를 위한 데이터셋\n",
    "-   Feature\n",
    "    -   종양에 대한 다양한 측정값들\n",
    "-   Target의 class\n",
    "    -   0 - malignant(악성종양)\n",
    "    -   1 - benign(양성종양)\n"
   ]
  },
  {
   "cell_type": "code",
   "execution_count": 272,
   "metadata": {},
   "outputs": [
    {
     "name": "stdout",
     "output_type": "stream",
     "text": [
      "cpu\n"
     ]
    }
   ],
   "source": [
    "from sklearn.datasets import load_breast_cancer\n",
    "from sklearn.preprocessing import StandardScaler\n",
    "from sklearn.model_selection import train_test_split\n",
    "\n",
    "import torch\n",
    "import torch.nn as nn\n",
    "import torch.optim as optim\n",
    "from torch.utils.data import DataLoader, TensorDataset\n",
    "\n",
    "import numpy as np\n",
    "import matplotlib.pyplot as plt\n",
    "\n",
    "device = \"cuda\" if torch.cuda.is_available() else \"cpu\"\n",
    "print(device)"
   ]
  },
  {
   "cell_type": "code",
   "execution_count": 273,
   "metadata": {},
   "outputs": [
    {
     "name": "stdout",
     "output_type": "stream",
     "text": [
      "(569,)\n",
      "(569, 1)\n"
     ]
    }
   ],
   "source": [
    "# Dataset\n",
    "X, y = load_breast_cancer(return_X_y=True)\n",
    "print(y.shape)\n",
    "y = y.reshape(-1, 1)\t# shpae 맞게\n",
    "print(y.shape)\n",
    "# X.shape, y.shape, X.dtype\n",
    "X_train, X_test, y_train, y_test = train_test_split(X, y, stratify=y, test_size=0.25, random_state=0)"
   ]
  },
  {
   "cell_type": "code",
   "execution_count": 274,
   "metadata": {},
   "outputs": [],
   "source": [
    "# 전처리\n",
    "scaler = StandardScaler()\n",
    "X_train_scaled = scaler.fit_transform(X_train)\n",
    "X_test_scaled = scaler.transform(X_test)"
   ]
  },
  {
   "cell_type": "code",
   "execution_count": 275,
   "metadata": {},
   "outputs": [],
   "source": [
    "# class name <-> class index\n",
    "classes = np.array([\"악성종양\", \"양성종양\"])\n",
    "class_to_idx = {\"악성종양\":0, \"양성종양\":1}"
   ]
  },
  {
   "cell_type": "code",
   "execution_count": 276,
   "metadata": {},
   "outputs": [],
   "source": [
    "# Dataset\n",
    "## 모델의 weight, bias -> float32. X, y는 weight, bias와 계산을 하게 되기 때문에 타입을 맞춰준다.\n",
    "trainset = TensorDataset(\n",
    "    torch.tensor(X_train_scaled, dtype=torch.float32),  \n",
    "    torch.tensor(y_train, dtype=torch.float32)\n",
    ")\n",
    "testset = TensorDataset(\n",
    "    torch.tensor(X_test_scaled, dtype=torch.float32), \n",
    "    torch.tensor(y_test, dtype=torch.float32)\n",
    ")"
   ]
  },
  {
   "cell_type": "code",
   "execution_count": 277,
   "metadata": {},
   "outputs": [],
   "source": [
    "trainset.classes = classes\n",
    "trainset.class_to_idx = class_to_idx"
   ]
  },
  {
   "cell_type": "code",
   "execution_count": 278,
   "metadata": {},
   "outputs": [],
   "source": [
    "# DataLoader\n",
    "train_loader = DataLoader(trainset, batch_size=200, shuffle=True, drop_last=True)\n",
    "test_loader = DataLoader(testset, batch_size=100)"
   ]
  },
  {
   "cell_type": "code",
   "execution_count": 279,
   "metadata": {},
   "outputs": [
    {
     "data": {
      "text/plain": [
       "(426, 30)"
      ]
     },
     "execution_count": 279,
     "metadata": {},
     "output_type": "execute_result"
    }
   ],
   "source": [
    "X_train_scaled.shape"
   ]
  },
  {
   "cell_type": "code",
   "execution_count": 280,
   "metadata": {},
   "outputs": [],
   "source": [
    "######### 모델 정의\n",
    "class BreastCancerModel(nn.Module):\n",
    "\n",
    "    def __init__(self):\n",
    "        super().__init__()\n",
    "        self.lr1 = nn.Linear(30, 32)\n",
    "        self.lr2 = nn.Linear(32, 8)\n",
    "        self.lr3 = nn.Linear(8, 1) # 출력 Layer 처리하는 함수. out_features=1 : positive일 확률.\n",
    "        self.relu = nn.ReLU()\n",
    "        self.logistic = nn.Sigmoid() # 입력값을 0 ~ 1 사이 실수로 반환. \n",
    "\n",
    "    def forward(self, X):\n",
    "        X = self.lr1(X)\n",
    "        X = self.relu(X)\n",
    "        X = self.lr2(X)\n",
    "        X = self.relu(X)\n",
    "        # 출력 Layer\n",
    "        output = self.lr3(X)\n",
    "        output = self.logistic(output)\n",
    "        return output"
   ]
  },
  {
   "cell_type": "code",
   "execution_count": 281,
   "metadata": {},
   "outputs": [
    {
     "data": {
      "text/plain": [
       "BreastCancerModel(\n",
       "  (lr1): Linear(in_features=30, out_features=32, bias=True)\n",
       "  (lr2): Linear(in_features=32, out_features=8, bias=True)\n",
       "  (lr3): Linear(in_features=8, out_features=1, bias=True)\n",
       "  (relu): ReLU()\n",
       "  (logistic): Sigmoid()\n",
       ")"
      ]
     },
     "execution_count": 281,
     "metadata": {},
     "output_type": "execute_result"
    }
   ],
   "source": [
    "b_model = BreastCancerModel()\n",
    "b_model"
   ]
  },
  {
   "cell_type": "code",
   "execution_count": 282,
   "metadata": {
    "scrolled": true
   },
   "outputs": [
    {
     "data": {
      "text/plain": [
       "==========================================================================================\n",
       "Layer (type:depth-idx)                   Output Shape              Param #\n",
       "==========================================================================================\n",
       "BreastCancerModel                        [10, 1]                   --\n",
       "├─Linear: 1-1                            [10, 32]                  992\n",
       "├─ReLU: 1-2                              [10, 32]                  --\n",
       "├─Linear: 1-3                            [10, 8]                   264\n",
       "├─ReLU: 1-4                              [10, 8]                   --\n",
       "├─Linear: 1-5                            [10, 1]                   9\n",
       "├─Sigmoid: 1-6                           [10, 1]                   --\n",
       "==========================================================================================\n",
       "Total params: 1,265\n",
       "Trainable params: 1,265\n",
       "Non-trainable params: 0\n",
       "Total mult-adds (Units.MEGABYTES): 0.01\n",
       "==========================================================================================\n",
       "Input size (MB): 0.00\n",
       "Forward/backward pass size (MB): 0.00\n",
       "Params size (MB): 0.01\n",
       "Estimated Total Size (MB): 0.01\n",
       "=========================================================================================="
      ]
     },
     "execution_count": 282,
     "metadata": {},
     "output_type": "execute_result"
    }
   ],
   "source": [
    "from torchinfo import summary\n",
    "summary(b_model, (10, 30), device=device)"
   ]
  },
  {
   "cell_type": "code",
   "execution_count": 283,
   "metadata": {},
   "outputs": [
    {
     "name": "stdout",
     "output_type": "stream",
     "text": [
      "torch.Size([10, 1])\n"
     ]
    },
    {
     "data": {
      "text/plain": [
       "tensor([[0.4717],\n",
       "        [0.4711],\n",
       "        [0.4917],\n",
       "        [0.4779],\n",
       "        [0.4807],\n",
       "        [0.4786],\n",
       "        [0.4804],\n",
       "        [0.4732],\n",
       "        [0.5187],\n",
       "        [0.4715]], grad_fn=<SigmoidBackward0>)"
      ]
     },
     "execution_count": 283,
     "metadata": {},
     "output_type": "execute_result"
    }
   ],
   "source": [
    "# dummy data로 출력\n",
    "dummy_x = torch.randn(10, 30)\n",
    "# dummy_x.shape\n",
    "result = b_model(dummy_x)\n",
    "print(result.shape)\n",
    "result"
   ]
  },
  {
   "cell_type": "code",
   "execution_count": 284,
   "metadata": {},
   "outputs": [
    {
     "data": {
      "text/plain": [
       "tensor([[0],\n",
       "        [0],\n",
       "        [0],\n",
       "        [0],\n",
       "        [0],\n",
       "        [0],\n",
       "        [0],\n",
       "        [0],\n",
       "        [1],\n",
       "        [0]], dtype=torch.int32)"
      ]
     },
     "execution_count": 284,
     "metadata": {},
     "output_type": "execute_result"
    }
   ],
   "source": [
    "(result > 0.5).type(torch.int32)  # bool -> int (True: 1, False: 0)"
   ]
  },
  {
   "cell_type": "code",
   "execution_count": 285,
   "metadata": {},
   "outputs": [],
   "source": [
    "lr = 0.001\n",
    "epochs = 1000\n",
    "######## 학습(train)\n",
    "b_model = b_model.to(device)\n",
    "optimizer = optim.Adam(b_model.parameters(), lr=lr)\n",
    "loss_fn = nn.BCELoss()   # 함수이름: binary crossentropy"
   ]
  },
  {
   "cell_type": "code",
   "execution_count": 286,
   "metadata": {
    "collapsed": true,
    "jupyter": {
     "outputs_hidden": true
    },
    "scrolled": true
   },
   "outputs": [
    {
     "name": "stdout",
     "output_type": "stream",
     "text": [
      "[0001/1000] train loss: 0.7247967720031738, valid loss: 0.7179374694824219, valid accuracy: 0.34265734265734266\n",
      ">>>>>> 1에서 성능이 개선되어 저장합니다. 0.7179374694824219\n",
      "[0002/1000] train loss: 0.7158568501472473, valid loss: 0.7096849679946899, valid accuracy: 0.3776223776223776\n",
      ">>>>>> 2에서 성능이 개선되어 저장합니다. 0.7096849679946899\n",
      "[0003/1000] train loss: 0.7067461609840393, valid loss: 0.701328694820404, valid accuracy: 0.3916083916083916\n",
      ">>>>>> 3에서 성능이 개선되어 저장합니다. 0.701328694820404\n",
      "[0004/1000] train loss: 0.6979152262210846, valid loss: 0.6929545104503632, valid accuracy: 0.46853146853146854\n",
      ">>>>>> 4에서 성능이 개선되어 저장합니다. 0.6929545104503632\n",
      "[0005/1000] train loss: 0.6881288588047028, valid loss: 0.6845139265060425, valid accuracy: 0.5384615384615384\n",
      ">>>>>> 5에서 성능이 개선되어 저장합니다. 0.6845139265060425\n",
      "[0006/1000] train loss: 0.6804743409156799, valid loss: 0.6758750975131989, valid accuracy: 0.5944055944055944\n",
      ">>>>>> 6에서 성능이 개선되어 저장합니다. 0.6758750975131989\n",
      "[0007/1000] train loss: 0.6698730289936066, valid loss: 0.666426956653595, valid accuracy: 0.6643356643356644\n",
      ">>>>>> 7에서 성능이 개선되어 저장합니다. 0.666426956653595\n",
      "[0008/1000] train loss: 0.6603386998176575, valid loss: 0.6564055383205414, valid accuracy: 0.7412587412587412\n",
      ">>>>>> 8에서 성능이 개선되어 저장합니다. 0.6564055383205414\n",
      "[0009/1000] train loss: 0.6500828564167023, valid loss: 0.645738959312439, valid accuracy: 0.7832167832167832\n",
      ">>>>>> 9에서 성능이 개선되어 저장합니다. 0.645738959312439\n",
      "[0010/1000] train loss: 0.639550507068634, valid loss: 0.634552538394928, valid accuracy: 0.8181818181818182\n",
      ">>>>>> 10에서 성능이 개선되어 저장합니다. 0.634552538394928\n",
      "[0011/1000] train loss: 0.6275756657123566, valid loss: 0.6227914988994598, valid accuracy: 0.8741258741258742\n",
      ">>>>>> 11에서 성능이 개선되어 저장합니다. 0.6227914988994598\n",
      "[0012/1000] train loss: 0.6158116161823273, valid loss: 0.6105003356933594, valid accuracy: 0.8881118881118881\n",
      ">>>>>> 12에서 성능이 개선되어 저장합니다. 0.6105003356933594\n",
      "[0013/1000] train loss: 0.6038157045841217, valid loss: 0.5978329181671143, valid accuracy: 0.9020979020979021\n",
      ">>>>>> 13에서 성능이 개선되어 저장합니다. 0.5978329181671143\n",
      "[0014/1000] train loss: 0.5908820331096649, valid loss: 0.5846334993839264, valid accuracy: 0.9090909090909091\n",
      ">>>>>> 14에서 성능이 개선되어 저장합니다. 0.5846334993839264\n",
      "[0015/1000] train loss: 0.5761516690254211, valid loss: 0.5711255967617035, valid accuracy: 0.916083916083916\n",
      ">>>>>> 15에서 성능이 개선되어 저장합니다. 0.5711255967617035\n",
      "[0016/1000] train loss: 0.5605417490005493, valid loss: 0.5569502115249634, valid accuracy: 0.9230769230769231\n",
      ">>>>>> 16에서 성능이 개선되어 저장합니다. 0.5569502115249634\n",
      "[0017/1000] train loss: 0.546269416809082, valid loss: 0.5422428250312805, valid accuracy: 0.9230769230769231\n",
      ">>>>>> 17에서 성능이 개선되어 저장합니다. 0.5422428250312805\n",
      "[0018/1000] train loss: 0.5317629277706146, valid loss: 0.527113288640976, valid accuracy: 0.9230769230769231\n",
      ">>>>>> 18에서 성능이 개선되어 저장합니다. 0.527113288640976\n",
      "[0019/1000] train loss: 0.5154773890972137, valid loss: 0.5116980820894241, valid accuracy: 0.9230769230769231\n",
      ">>>>>> 19에서 성능이 개선되어 저장합니다. 0.5116980820894241\n",
      "[0020/1000] train loss: 0.4971231371164322, valid loss: 0.49609725177288055, valid accuracy: 0.9230769230769231\n",
      ">>>>>> 20에서 성능이 개선되어 저장합니다. 0.49609725177288055\n",
      "[0021/1000] train loss: 0.4829345792531967, valid loss: 0.48064664006233215, valid accuracy: 0.9230769230769231\n",
      ">>>>>> 21에서 성능이 개선되어 저장합니다. 0.48064664006233215\n",
      "[0022/1000] train loss: 0.46398021280765533, valid loss: 0.46534040570259094, valid accuracy: 0.9230769230769231\n",
      ">>>>>> 22에서 성능이 개선되어 저장합니다. 0.46534040570259094\n",
      "[0023/1000] train loss: 0.4493800848722458, valid loss: 0.4503122568130493, valid accuracy: 0.9230769230769231\n",
      ">>>>>> 23에서 성능이 개선되어 저장합니다. 0.4503122568130493\n",
      "[0024/1000] train loss: 0.4347293823957443, valid loss: 0.43569040298461914, valid accuracy: 0.9230769230769231\n",
      ">>>>>> 24에서 성능이 개선되어 저장합니다. 0.43569040298461914\n",
      "[0025/1000] train loss: 0.4172859191894531, valid loss: 0.4214728772640228, valid accuracy: 0.9300699300699301\n",
      ">>>>>> 25에서 성능이 개선되어 저장합니다. 0.4214728772640228\n",
      "[0026/1000] train loss: 0.4009856730699539, valid loss: 0.4077199101448059, valid accuracy: 0.9300699300699301\n",
      ">>>>>> 26에서 성능이 개선되어 저장합니다. 0.4077199101448059\n",
      "[0027/1000] train loss: 0.3880438506603241, valid loss: 0.39442338049411774, valid accuracy: 0.9300699300699301\n",
      ">>>>>> 27에서 성능이 개선되어 저장합니다. 0.39442338049411774\n",
      "[0028/1000] train loss: 0.37422211468219757, valid loss: 0.3816615790128708, valid accuracy: 0.9300699300699301\n",
      ">>>>>> 28에서 성능이 개선되어 저장합니다. 0.3816615790128708\n",
      "[0029/1000] train loss: 0.3623157888650894, valid loss: 0.3694595992565155, valid accuracy: 0.9300699300699301\n",
      ">>>>>> 29에서 성능이 개선되어 저장합니다. 0.3694595992565155\n",
      "[0030/1000] train loss: 0.3537772595882416, valid loss: 0.3577861934900284, valid accuracy: 0.9300699300699301\n",
      ">>>>>> 30에서 성능이 개선되어 저장합니다. 0.3577861934900284\n",
      "[0031/1000] train loss: 0.34000369906425476, valid loss: 0.3466746509075165, valid accuracy: 0.9300699300699301\n",
      ">>>>>> 31에서 성능이 개선되어 저장합니다. 0.3466746509075165\n",
      "[0032/1000] train loss: 0.3196340352296829, valid loss: 0.33598269522190094, valid accuracy: 0.9370629370629371\n",
      ">>>>>> 32에서 성능이 개선되어 저장합니다. 0.33598269522190094\n",
      "[0033/1000] train loss: 0.3087628334760666, valid loss: 0.3257700651884079, valid accuracy: 0.9370629370629371\n",
      ">>>>>> 33에서 성능이 개선되어 저장합니다. 0.3257700651884079\n",
      "[0034/1000] train loss: 0.29898327589035034, valid loss: 0.3159787505865097, valid accuracy: 0.9370629370629371\n",
      ">>>>>> 34에서 성능이 개선되어 저장합니다. 0.3159787505865097\n",
      "[0035/1000] train loss: 0.29590317606925964, valid loss: 0.3065917044878006, valid accuracy: 0.9370629370629371\n",
      ">>>>>> 35에서 성능이 개선되어 저장합니다. 0.3065917044878006\n",
      "[0036/1000] train loss: 0.2832774519920349, valid loss: 0.29755398631095886, valid accuracy: 0.9370629370629371\n",
      ">>>>>> 36에서 성능이 개선되어 저장합니다. 0.29755398631095886\n",
      "[0037/1000] train loss: 0.27406759560108185, valid loss: 0.28889399766921997, valid accuracy: 0.9440559440559441\n",
      ">>>>>> 37에서 성능이 개선되어 저장합니다. 0.28889399766921997\n",
      "[0038/1000] train loss: 0.2671720087528229, valid loss: 0.28050597012043, valid accuracy: 0.9440559440559441\n",
      ">>>>>> 38에서 성능이 개선되어 저장합니다. 0.28050597012043\n",
      "[0039/1000] train loss: 0.25989343225955963, valid loss: 0.2724263370037079, valid accuracy: 0.9440559440559441\n",
      ">>>>>> 39에서 성능이 개선되어 저장합니다. 0.2724263370037079\n",
      "[0040/1000] train loss: 0.24594508856534958, valid loss: 0.26455800235271454, valid accuracy: 0.9440559440559441\n",
      ">>>>>> 40에서 성능이 개선되어 저장합니다. 0.26455800235271454\n",
      "[0041/1000] train loss: 0.2420075535774231, valid loss: 0.2569383680820465, valid accuracy: 0.9440559440559441\n",
      ">>>>>> 41에서 성능이 개선되어 저장합니다. 0.2569383680820465\n",
      "[0042/1000] train loss: 0.23281754553318024, valid loss: 0.2495870664715767, valid accuracy: 0.9440559440559441\n",
      ">>>>>> 42에서 성능이 개선되어 저장합니다. 0.2495870664715767\n",
      "[0043/1000] train loss: 0.2241966798901558, valid loss: 0.24246443808078766, valid accuracy: 0.9440559440559441\n",
      ">>>>>> 43에서 성능이 개선되어 저장합니다. 0.24246443808078766\n",
      "[0044/1000] train loss: 0.21679086983203888, valid loss: 0.23563968390226364, valid accuracy: 0.9440559440559441\n",
      ">>>>>> 44에서 성능이 개선되어 저장합니다. 0.23563968390226364\n",
      "[0045/1000] train loss: 0.20421287417411804, valid loss: 0.22911470383405685, valid accuracy: 0.9440559440559441\n",
      ">>>>>> 45에서 성능이 개선되어 저장합니다. 0.22911470383405685\n",
      "[0046/1000] train loss: 0.19453386217355728, valid loss: 0.22281934320926666, valid accuracy: 0.9440559440559441\n",
      ">>>>>> 46에서 성능이 개선되어 저장합니다. 0.22281934320926666\n",
      "[0047/1000] train loss: 0.1977531686425209, valid loss: 0.2167844995856285, valid accuracy: 0.9440559440559441\n",
      ">>>>>> 47에서 성능이 개선되어 저장합니다. 0.2167844995856285\n",
      "[0048/1000] train loss: 0.19109847396612167, valid loss: 0.2109845131635666, valid accuracy: 0.9440559440559441\n",
      ">>>>>> 48에서 성능이 개선되어 저장합니다. 0.2109845131635666\n",
      "[0049/1000] train loss: 0.18242032825946808, valid loss: 0.2054351046681404, valid accuracy: 0.9440559440559441\n",
      ">>>>>> 49에서 성능이 개선되어 저장합니다. 0.2054351046681404\n",
      "[0050/1000] train loss: 0.17498240619897842, valid loss: 0.20017573982477188, valid accuracy: 0.9440559440559441\n",
      ">>>>>> 50에서 성능이 개선되어 저장합니다. 0.20017573982477188\n",
      "[0051/1000] train loss: 0.1704874038696289, valid loss: 0.19515132904052734, valid accuracy: 0.9440559440559441\n",
      ">>>>>> 51에서 성능이 개선되어 저장합니다. 0.19515132904052734\n",
      "[0052/1000] train loss: 0.16676850616931915, valid loss: 0.1903550699353218, valid accuracy: 0.9440559440559441\n",
      ">>>>>> 52에서 성능이 개선되어 저장합니다. 0.1903550699353218\n",
      "[0053/1000] train loss: 0.15675050020217896, valid loss: 0.18577571958303452, valid accuracy: 0.9440559440559441\n",
      ">>>>>> 53에서 성능이 개선되어 저장합니다. 0.18577571958303452\n",
      "[0054/1000] train loss: 0.15521199256181717, valid loss: 0.1814027801156044, valid accuracy: 0.9440559440559441\n",
      ">>>>>> 54에서 성능이 개선되어 저장합니다. 0.1814027801156044\n",
      "[0055/1000] train loss: 0.15014223009347916, valid loss: 0.17727886140346527, valid accuracy: 0.9440559440559441\n",
      ">>>>>> 55에서 성능이 개선되어 저장합니다. 0.17727886140346527\n",
      "[0056/1000] train loss: 0.14525285363197327, valid loss: 0.1733565479516983, valid accuracy: 0.9440559440559441\n",
      ">>>>>> 56에서 성능이 개선되어 저장합니다. 0.1733565479516983\n",
      "[0057/1000] train loss: 0.13952556997537613, valid loss: 0.16969001293182373, valid accuracy: 0.9440559440559441\n",
      ">>>>>> 57에서 성능이 개선되어 저장합니다. 0.16969001293182373\n",
      "[0058/1000] train loss: 0.13918723911046982, valid loss: 0.1662048101425171, valid accuracy: 0.9440559440559441\n",
      ">>>>>> 58에서 성능이 개선되어 저장합니다. 0.1662048101425171\n",
      "[0059/1000] train loss: 0.13253498822450638, valid loss: 0.16295414417982101, valid accuracy: 0.9440559440559441\n",
      ">>>>>> 59에서 성능이 개선되어 저장합니다. 0.16295414417982101\n",
      "[0060/1000] train loss: 0.12978263944387436, valid loss: 0.15988828986883163, valid accuracy: 0.9440559440559441\n",
      ">>>>>> 60에서 성능이 개선되어 저장합니다. 0.15988828986883163\n",
      "[0061/1000] train loss: 0.12620661407709122, valid loss: 0.1569976583123207, valid accuracy: 0.9440559440559441\n",
      ">>>>>> 61에서 성능이 개선되어 저장합니다. 0.1569976583123207\n",
      "[0062/1000] train loss: 0.12276613712310791, valid loss: 0.15424378961324692, valid accuracy: 0.9370629370629371\n",
      ">>>>>> 62에서 성능이 개선되어 저장합니다. 0.15424378961324692\n",
      "[0063/1000] train loss: 0.11500253528356552, valid loss: 0.15159159153699875, valid accuracy: 0.9370629370629371\n",
      ">>>>>> 63에서 성능이 개선되어 저장합니다. 0.15159159153699875\n",
      "[0064/1000] train loss: 0.11133452877402306, valid loss: 0.1490882709622383, valid accuracy: 0.9440559440559441\n",
      ">>>>>> 64에서 성능이 개선되어 저장합니다. 0.1490882709622383\n",
      "[0065/1000] train loss: 0.11462055519223213, valid loss: 0.14675840735435486, valid accuracy: 0.9440559440559441\n",
      ">>>>>> 65에서 성능이 개선되어 저장합니다. 0.14675840735435486\n",
      "[0066/1000] train loss: 0.11053870245814323, valid loss: 0.14452505484223366, valid accuracy: 0.9440559440559441\n",
      ">>>>>> 66에서 성능이 개선되어 저장합니다. 0.14452505484223366\n",
      "[0067/1000] train loss: 0.10624100267887115, valid loss: 0.1424548588693142, valid accuracy: 0.9440559440559441\n",
      ">>>>>> 67에서 성능이 개선되어 저장합니다. 0.1424548588693142\n",
      "[0068/1000] train loss: 0.10340617969632149, valid loss: 0.14052293077111244, valid accuracy: 0.9440559440559441\n",
      ">>>>>> 68에서 성능이 개선되어 저장합니다. 0.14052293077111244\n",
      "[0069/1000] train loss: 0.10298214480280876, valid loss: 0.13872471824288368, valid accuracy: 0.9440559440559441\n",
      ">>>>>> 69에서 성능이 개선되어 저장합니다. 0.13872471824288368\n",
      "[0070/1000] train loss: 0.09771639481186867, valid loss: 0.1370379664003849, valid accuracy: 0.9440559440559441\n",
      ">>>>>> 70에서 성능이 개선되어 저장합니다. 0.1370379664003849\n",
      "[0071/1000] train loss: 0.09621329978108406, valid loss: 0.13548248261213303, valid accuracy: 0.9440559440559441\n",
      ">>>>>> 71에서 성능이 개선되어 저장합니다. 0.13548248261213303\n",
      "[0072/1000] train loss: 0.09693734720349312, valid loss: 0.13405972346663475, valid accuracy: 0.9440559440559441\n",
      ">>>>>> 72에서 성능이 개선되어 저장합니다. 0.13405972346663475\n",
      "[0073/1000] train loss: 0.0906105786561966, valid loss: 0.13262765109539032, valid accuracy: 0.9440559440559441\n",
      ">>>>>> 73에서 성능이 개선되어 저장합니다. 0.13262765109539032\n",
      "[0074/1000] train loss: 0.0892198197543621, valid loss: 0.13129786029458046, valid accuracy: 0.9440559440559441\n",
      ">>>>>> 74에서 성능이 개선되어 저장합니다. 0.13129786029458046\n",
      "[0075/1000] train loss: 0.09086074307560921, valid loss: 0.13002612069249153, valid accuracy: 0.9440559440559441\n",
      ">>>>>> 75에서 성능이 개선되어 저장합니다. 0.13002612069249153\n",
      "[0076/1000] train loss: 0.08958952501416206, valid loss: 0.1288166530430317, valid accuracy: 0.9440559440559441\n",
      ">>>>>> 76에서 성능이 개선되어 저장합니다. 0.1288166530430317\n",
      "[0077/1000] train loss: 0.08870731666684151, valid loss: 0.12769552692770958, valid accuracy: 0.9370629370629371\n",
      ">>>>>> 77에서 성능이 개선되어 저장합니다. 0.12769552692770958\n",
      "[0078/1000] train loss: 0.08717235177755356, valid loss: 0.12659649923443794, valid accuracy: 0.9370629370629371\n",
      ">>>>>> 78에서 성능이 개선되어 저장합니다. 0.12659649923443794\n",
      "[0079/1000] train loss: 0.08371870219707489, valid loss: 0.12553971633315086, valid accuracy: 0.9370629370629371\n",
      ">>>>>> 79에서 성능이 개선되어 저장합니다. 0.12553971633315086\n",
      "[0080/1000] train loss: 0.08325919136404991, valid loss: 0.12453865259885788, valid accuracy: 0.9300699300699301\n",
      ">>>>>> 80에서 성능이 개선되어 저장합니다. 0.12453865259885788\n",
      "[0081/1000] train loss: 0.08354772254824638, valid loss: 0.12358007207512856, valid accuracy: 0.9300699300699301\n",
      ">>>>>> 81에서 성능이 개선되어 저장합니다. 0.12358007207512856\n",
      "[0082/1000] train loss: 0.07937607914209366, valid loss: 0.12266796082258224, valid accuracy: 0.9300699300699301\n",
      ">>>>>> 82에서 성능이 개선되어 저장합니다. 0.12266796082258224\n",
      "[0083/1000] train loss: 0.06880558654665947, valid loss: 0.12180399149656296, valid accuracy: 0.9300699300699301\n",
      ">>>>>> 83에서 성능이 개선되어 저장합니다. 0.12180399149656296\n",
      "[0084/1000] train loss: 0.07954481057822704, valid loss: 0.12096035853028297, valid accuracy: 0.9300699300699301\n",
      ">>>>>> 84에서 성능이 개선되어 저장합니다. 0.12096035853028297\n",
      "[0085/1000] train loss: 0.07413817569613457, valid loss: 0.12016065418720245, valid accuracy: 0.9300699300699301\n",
      ">>>>>> 85에서 성능이 개선되어 저장합니다. 0.12016065418720245\n",
      "[0086/1000] train loss: 0.07565758936107159, valid loss: 0.11943018808960915, valid accuracy: 0.9300699300699301\n",
      ">>>>>> 86에서 성능이 개선되어 저장합니다. 0.11943018808960915\n",
      "[0087/1000] train loss: 0.07214462757110596, valid loss: 0.11875122785568237, valid accuracy: 0.9300699300699301\n",
      ">>>>>> 87에서 성능이 개선되어 저장합니다. 0.11875122785568237\n",
      "[0088/1000] train loss: 0.07308902963995934, valid loss: 0.11808327212929726, valid accuracy: 0.9300699300699301\n",
      ">>>>>> 88에서 성능이 개선되어 저장합니다. 0.11808327212929726\n",
      "[0089/1000] train loss: 0.07308057695627213, valid loss: 0.11744683980941772, valid accuracy: 0.9370629370629371\n",
      ">>>>>> 89에서 성능이 개선되어 저장합니다. 0.11744683980941772\n",
      "[0090/1000] train loss: 0.07064559869468212, valid loss: 0.11683198437094688, valid accuracy: 0.9370629370629371\n",
      ">>>>>> 90에서 성능이 개선되어 저장합니다. 0.11683198437094688\n",
      "[0091/1000] train loss: 0.06974197179079056, valid loss: 0.11625299975275993, valid accuracy: 0.9370629370629371\n",
      ">>>>>> 91에서 성능이 개선되어 저장합니다. 0.11625299975275993\n",
      "[0092/1000] train loss: 0.06532720290124416, valid loss: 0.11569281294941902, valid accuracy: 0.9370629370629371\n",
      ">>>>>> 92에서 성능이 개선되어 저장합니다. 0.11569281294941902\n",
      "[0093/1000] train loss: 0.06493395566940308, valid loss: 0.1151709333062172, valid accuracy: 0.9370629370629371\n",
      ">>>>>> 93에서 성능이 개선되어 저장합니다. 0.1151709333062172\n",
      "[0094/1000] train loss: 0.06902598589658737, valid loss: 0.11467839777469635, valid accuracy: 0.9370629370629371\n",
      ">>>>>> 94에서 성능이 개선되어 저장합니다. 0.11467839777469635\n",
      "[0095/1000] train loss: 0.0675524715334177, valid loss: 0.11419447511434555, valid accuracy: 0.9370629370629371\n",
      ">>>>>> 95에서 성능이 개선되어 저장합니다. 0.11419447511434555\n",
      "[0096/1000] train loss: 0.06421308778226376, valid loss: 0.11370910704135895, valid accuracy: 0.9370629370629371\n",
      ">>>>>> 96에서 성능이 개선되어 저장합니다. 0.11370910704135895\n",
      "[0097/1000] train loss: 0.06566665135324001, valid loss: 0.11321413516998291, valid accuracy: 0.9370629370629371\n",
      ">>>>>> 97에서 성능이 개선되어 저장합니다. 0.11321413516998291\n",
      "[0098/1000] train loss: 0.06570517271757126, valid loss: 0.11271997913718224, valid accuracy: 0.9370629370629371\n",
      ">>>>>> 98에서 성능이 개선되어 저장합니다. 0.11271997913718224\n",
      "[0099/1000] train loss: 0.06308323703706264, valid loss: 0.11224180459976196, valid accuracy: 0.9370629370629371\n",
      ">>>>>> 99에서 성능이 개선되어 저장합니다. 0.11224180459976196\n",
      "[0100/1000] train loss: 0.06380122527480125, valid loss: 0.11175643652677536, valid accuracy: 0.9370629370629371\n",
      ">>>>>> 100에서 성능이 개선되어 저장합니다. 0.11175643652677536\n",
      "[0101/1000] train loss: 0.051269736140966415, valid loss: 0.11130309477448463, valid accuracy: 0.9370629370629371\n",
      ">>>>>> 101에서 성능이 개선되어 저장합니다. 0.11130309477448463\n",
      "[0102/1000] train loss: 0.060363808646798134, valid loss: 0.11088940873742104, valid accuracy: 0.9440559440559441\n",
      ">>>>>> 102에서 성능이 개선되어 저장합니다. 0.11088940873742104\n",
      "[0103/1000] train loss: 0.06204074248671532, valid loss: 0.11050386726856232, valid accuracy: 0.951048951048951\n",
      ">>>>>> 103에서 성능이 개선되어 저장합니다. 0.11050386726856232\n",
      "[0104/1000] train loss: 0.048946563154459, valid loss: 0.11010931432247162, valid accuracy: 0.958041958041958\n",
      ">>>>>> 104에서 성능이 개선되어 저장합니다. 0.11010931432247162\n",
      "[0105/1000] train loss: 0.059208378195762634, valid loss: 0.10977038368582726, valid accuracy: 0.958041958041958\n",
      ">>>>>> 105에서 성능이 개선되어 저장합니다. 0.10977038368582726\n",
      "[0106/1000] train loss: 0.060063429176807404, valid loss: 0.1094699315726757, valid accuracy: 0.958041958041958\n",
      ">>>>>> 106에서 성능이 개선되어 저장합니다. 0.1094699315726757\n",
      "[0107/1000] train loss: 0.05796574056148529, valid loss: 0.10915347561240196, valid accuracy: 0.958041958041958\n",
      ">>>>>> 107에서 성능이 개선되어 저장합니다. 0.10915347561240196\n",
      "[0108/1000] train loss: 0.05697093717753887, valid loss: 0.10883906483650208, valid accuracy: 0.958041958041958\n",
      ">>>>>> 108에서 성능이 개선되어 저장합니다. 0.10883906483650208\n",
      "[0109/1000] train loss: 0.057671986520290375, valid loss: 0.10852018743753433, valid accuracy: 0.958041958041958\n",
      ">>>>>> 109에서 성능이 개선되어 저장합니다. 0.10852018743753433\n",
      "[0110/1000] train loss: 0.05295499227941036, valid loss: 0.10822539404034615, valid accuracy: 0.958041958041958\n",
      ">>>>>> 110에서 성능이 개선되어 저장합니다. 0.10822539404034615\n",
      "[0111/1000] train loss: 0.05670968443155289, valid loss: 0.10797024145722389, valid accuracy: 0.958041958041958\n",
      ">>>>>> 111에서 성능이 개선되어 저장합니다. 0.10797024145722389\n",
      "[0112/1000] train loss: 0.054677098989486694, valid loss: 0.1077071838080883, valid accuracy: 0.958041958041958\n",
      ">>>>>> 112에서 성능이 개선되어 저장합니다. 0.1077071838080883\n",
      "[0113/1000] train loss: 0.05635254643857479, valid loss: 0.10744927078485489, valid accuracy: 0.958041958041958\n",
      ">>>>>> 113에서 성능이 개선되어 저장합니다. 0.10744927078485489\n",
      "[0114/1000] train loss: 0.05567537993192673, valid loss: 0.10720737650990486, valid accuracy: 0.958041958041958\n",
      ">>>>>> 114에서 성능이 개선되어 저장합니다. 0.10720737650990486\n",
      "[0115/1000] train loss: 0.05459935963153839, valid loss: 0.10703758522868156, valid accuracy: 0.958041958041958\n",
      ">>>>>> 115에서 성능이 개선되어 저장합니다. 0.10703758522868156\n",
      "[0116/1000] train loss: 0.05314429849386215, valid loss: 0.10689128190279007, valid accuracy: 0.958041958041958\n",
      ">>>>>> 116에서 성능이 개선되어 저장합니다. 0.10689128190279007\n",
      "[0117/1000] train loss: 0.0529603511095047, valid loss: 0.10670148953795433, valid accuracy: 0.958041958041958\n",
      ">>>>>> 117에서 성능이 개선되어 저장합니다. 0.10670148953795433\n",
      "[0118/1000] train loss: 0.04126513749361038, valid loss: 0.10655918344855309, valid accuracy: 0.958041958041958\n",
      ">>>>>> 118에서 성능이 개선되어 저장합니다. 0.10655918344855309\n",
      "[0119/1000] train loss: 0.05048250965774059, valid loss: 0.10644033178687096, valid accuracy: 0.958041958041958\n",
      ">>>>>> 119에서 성능이 개선되어 저장합니다. 0.10644033178687096\n",
      "[0120/1000] train loss: 0.04977085441350937, valid loss: 0.10631455853581429, valid accuracy: 0.958041958041958\n",
      ">>>>>> 120에서 성능이 개선되어 저장합니다. 0.10631455853581429\n",
      "[0121/1000] train loss: 0.05173898674547672, valid loss: 0.10627198219299316, valid accuracy: 0.958041958041958\n",
      ">>>>>> 121에서 성능이 개선되어 저장합니다. 0.10627198219299316\n",
      "[0122/1000] train loss: 0.05105419643223286, valid loss: 0.10616408661007881, valid accuracy: 0.958041958041958\n",
      ">>>>>> 122에서 성능이 개선되어 저장합니다. 0.10616408661007881\n",
      "[0123/1000] train loss: 0.044530484825372696, valid loss: 0.10603800788521767, valid accuracy: 0.958041958041958\n",
      ">>>>>> 123에서 성능이 개선되어 저장합니다. 0.10603800788521767\n",
      "[0124/1000] train loss: 0.048793673515319824, valid loss: 0.10588093101978302, valid accuracy: 0.958041958041958\n",
      ">>>>>> 124에서 성능이 개선되어 저장합니다. 0.10588093101978302\n",
      "[0125/1000] train loss: 0.05043724738061428, valid loss: 0.10577435418963432, valid accuracy: 0.958041958041958\n",
      ">>>>>> 125에서 성능이 개선되어 저장합니다. 0.10577435418963432\n",
      "[0126/1000] train loss: 0.046654850244522095, valid loss: 0.10560956597328186, valid accuracy: 0.958041958041958\n",
      ">>>>>> 126에서 성능이 개선되어 저장합니다. 0.10560956597328186\n",
      "[0127/1000] train loss: 0.04640035331249237, valid loss: 0.10542308539152145, valid accuracy: 0.958041958041958\n",
      ">>>>>> 127에서 성능이 개선되어 저장합니다. 0.10542308539152145\n",
      "[0128/1000] train loss: 0.047908829525113106, valid loss: 0.10526038333773613, valid accuracy: 0.958041958041958\n",
      ">>>>>> 128에서 성능이 개선되어 저장합니다. 0.10526038333773613\n",
      "[0129/1000] train loss: 0.04788973368704319, valid loss: 0.10512695461511612, valid accuracy: 0.958041958041958\n",
      ">>>>>> 129에서 성능이 개선되어 저장합니다. 0.10512695461511612\n",
      "[0130/1000] train loss: 0.04567253030836582, valid loss: 0.10500780120491982, valid accuracy: 0.958041958041958\n",
      ">>>>>> 130에서 성능이 개선되어 저장합니다. 0.10500780120491982\n",
      "[0131/1000] train loss: 0.04284252971410751, valid loss: 0.10486216098070145, valid accuracy: 0.958041958041958\n",
      ">>>>>> 131에서 성능이 개선되어 저장합니다. 0.10486216098070145\n",
      "[0132/1000] train loss: 0.046473657712340355, valid loss: 0.10470676049590111, valid accuracy: 0.958041958041958\n",
      ">>>>>> 132에서 성능이 개선되어 저장합니다. 0.10470676049590111\n",
      "[0133/1000] train loss: 0.04399888031184673, valid loss: 0.10452530160546303, valid accuracy: 0.958041958041958\n",
      ">>>>>> 133에서 성능이 개선되어 저장합니다. 0.10452530160546303\n",
      "[0134/1000] train loss: 0.045802462846040726, valid loss: 0.1043543666601181, valid accuracy: 0.958041958041958\n",
      ">>>>>> 134에서 성능이 개선되어 저장합니다. 0.1043543666601181\n",
      "[0135/1000] train loss: 0.04088831506669521, valid loss: 0.10417866706848145, valid accuracy: 0.958041958041958\n",
      ">>>>>> 135에서 성능이 개선되어 저장합니다. 0.10417866706848145\n",
      "[0136/1000] train loss: 0.04326745495200157, valid loss: 0.10403264686465263, valid accuracy: 0.958041958041958\n",
      ">>>>>> 136에서 성능이 개선되어 저장합니다. 0.10403264686465263\n",
      "[0137/1000] train loss: 0.04394534230232239, valid loss: 0.10384641587734222, valid accuracy: 0.958041958041958\n",
      ">>>>>> 137에서 성능이 개선되어 저장합니다. 0.10384641587734222\n",
      "[0138/1000] train loss: 0.04232985619455576, valid loss: 0.10367953404784203, valid accuracy: 0.958041958041958\n",
      ">>>>>> 138에서 성능이 개선되어 저장합니다. 0.10367953404784203\n",
      "[0139/1000] train loss: 0.04380336403846741, valid loss: 0.10354319959878922, valid accuracy: 0.958041958041958\n",
      ">>>>>> 139에서 성능이 개선되어 저장합니다. 0.10354319959878922\n",
      "[0140/1000] train loss: 0.042062846943736076, valid loss: 0.10343025997281075, valid accuracy: 0.958041958041958\n",
      ">>>>>> 140에서 성능이 개선되어 저장합니다. 0.10343025997281075\n",
      "[0141/1000] train loss: 0.04377291817218065, valid loss: 0.10329246893525124, valid accuracy: 0.958041958041958\n",
      ">>>>>> 141에서 성능이 개선되어 저장합니다. 0.10329246893525124\n",
      "[0142/1000] train loss: 0.043288626708090305, valid loss: 0.10320017114281654, valid accuracy: 0.958041958041958\n",
      ">>>>>> 142에서 성능이 개선되어 저장합니다. 0.10320017114281654\n",
      "[0143/1000] train loss: 0.04028264805674553, valid loss: 0.10316449776291847, valid accuracy: 0.958041958041958\n",
      ">>>>>> 143에서 성능이 개선되어 저장합니다. 0.10316449776291847\n",
      "[0144/1000] train loss: 0.04267826862633228, valid loss: 0.10308285057544708, valid accuracy: 0.958041958041958\n",
      ">>>>>> 144에서 성능이 개선되어 저장합니다. 0.10308285057544708\n",
      "[0145/1000] train loss: 0.042116605676710606, valid loss: 0.10300794616341591, valid accuracy: 0.958041958041958\n",
      ">>>>>> 145에서 성능이 개선되어 저장합니다. 0.10300794616341591\n",
      "[0146/1000] train loss: 0.041515374556183815, valid loss: 0.10295964404940605, valid accuracy: 0.958041958041958\n",
      ">>>>>> 146에서 성능이 개선되어 저장합니다. 0.10295964404940605\n",
      "[0147/1000] train loss: 0.042130062356591225, valid loss: 0.10296383500099182, valid accuracy: 0.958041958041958\n",
      "[0148/1000] train loss: 0.04142356291413307, valid loss: 0.1029222384095192, valid accuracy: 0.958041958041958\n",
      ">>>>>> 148에서 성능이 개선되어 저장합니다. 0.1029222384095192\n",
      "[0149/1000] train loss: 0.04041616339236498, valid loss: 0.10290918499231339, valid accuracy: 0.958041958041958\n",
      ">>>>>> 149에서 성능이 개선되어 저장합니다. 0.10290918499231339\n",
      "[0150/1000] train loss: 0.03917798586189747, valid loss: 0.10285831615328789, valid accuracy: 0.958041958041958\n",
      ">>>>>> 150에서 성능이 개선되어 저장합니다. 0.10285831615328789\n",
      "[0151/1000] train loss: 0.040820373222231865, valid loss: 0.10281085595488548, valid accuracy: 0.958041958041958\n",
      ">>>>>> 151에서 성능이 개선되어 저장합니다. 0.10281085595488548\n",
      "[0152/1000] train loss: 0.0392993139103055, valid loss: 0.10281167179346085, valid accuracy: 0.958041958041958\n",
      "[0153/1000] train loss: 0.0398001242429018, valid loss: 0.10285158455371857, valid accuracy: 0.958041958041958\n",
      "[0154/1000] train loss: 0.040250323712825775, valid loss: 0.10284105688333511, valid accuracy: 0.958041958041958\n",
      "[0155/1000] train loss: 0.038380722515285015, valid loss: 0.10286952555179596, valid accuracy: 0.958041958041958\n",
      "[0156/1000] train loss: 0.03608006052672863, valid loss: 0.10289731249213219, valid accuracy: 0.958041958041958\n",
      "[0157/1000] train loss: 0.033028680831193924, valid loss: 0.10287890210747719, valid accuracy: 0.958041958041958\n",
      "[0158/1000] train loss: 0.03855514898896217, valid loss: 0.10279283300042152, valid accuracy: 0.958041958041958\n",
      ">>>>>> 158에서 성능이 개선되어 저장합니다. 0.10279283300042152\n",
      "[0159/1000] train loss: 0.037298377603292465, valid loss: 0.10273278877139091, valid accuracy: 0.958041958041958\n",
      ">>>>>> 159에서 성능이 개선되어 저장합니다. 0.10273278877139091\n",
      "[0160/1000] train loss: 0.03812258969992399, valid loss: 0.10268442705273628, valid accuracy: 0.958041958041958\n",
      ">>>>>> 160에서 성능이 개선되어 저장합니다. 0.10268442705273628\n",
      "[0161/1000] train loss: 0.038219284266233444, valid loss: 0.1026383526623249, valid accuracy: 0.958041958041958\n",
      ">>>>>> 161에서 성능이 개선되어 저장합니다. 0.1026383526623249\n",
      "[0162/1000] train loss: 0.034600055776536465, valid loss: 0.1025509387254715, valid accuracy: 0.958041958041958\n",
      ">>>>>> 162에서 성능이 개선되어 저장합니다. 0.1025509387254715\n",
      "[0163/1000] train loss: 0.03739783260971308, valid loss: 0.10243407264351845, valid accuracy: 0.958041958041958\n",
      ">>>>>> 163에서 성능이 개선되어 저장합니다. 0.10243407264351845\n",
      "[0164/1000] train loss: 0.03616136498749256, valid loss: 0.10230182483792305, valid accuracy: 0.958041958041958\n",
      ">>>>>> 164에서 성능이 개선되어 저장합니다. 0.10230182483792305\n",
      "[0165/1000] train loss: 0.03598496504127979, valid loss: 0.10226726904511452, valid accuracy: 0.958041958041958\n",
      ">>>>>> 165에서 성능이 개선되어 저장합니다. 0.10226726904511452\n",
      "[0166/1000] train loss: 0.03669738955795765, valid loss: 0.10220121592283249, valid accuracy: 0.958041958041958\n",
      ">>>>>> 166에서 성능이 개선되어 저장합니다. 0.10220121592283249\n",
      "[0167/1000] train loss: 0.03564520087093115, valid loss: 0.10216785594820976, valid accuracy: 0.958041958041958\n",
      ">>>>>> 167에서 성능이 개선되어 저장합니다. 0.10216785594820976\n",
      "[0168/1000] train loss: 0.036699664779007435, valid loss: 0.10215266421437263, valid accuracy: 0.958041958041958\n",
      ">>>>>> 168에서 성능이 개선되어 저장합니다. 0.10215266421437263\n",
      "[0169/1000] train loss: 0.035855578258633614, valid loss: 0.10210400074720383, valid accuracy: 0.958041958041958\n",
      ">>>>>> 169에서 성능이 개선되어 저장합니다. 0.10210400074720383\n",
      "[0170/1000] train loss: 0.036103952676057816, valid loss: 0.10201460868120193, valid accuracy: 0.958041958041958\n",
      ">>>>>> 170에서 성능이 개선되어 저장합니다. 0.10201460868120193\n",
      "[0171/1000] train loss: 0.035214792005717754, valid loss: 0.10198620334267616, valid accuracy: 0.958041958041958\n",
      ">>>>>> 171에서 성능이 개선되어 저장합니다. 0.10198620334267616\n",
      "[0172/1000] train loss: 0.03533244505524635, valid loss: 0.10198022052645683, valid accuracy: 0.958041958041958\n",
      ">>>>>> 172에서 성능이 개선되어 저장합니다. 0.10198022052645683\n",
      "[0173/1000] train loss: 0.033825636841356754, valid loss: 0.10198218747973442, valid accuracy: 0.958041958041958\n",
      "[0174/1000] train loss: 0.0345297995954752, valid loss: 0.10190125554800034, valid accuracy: 0.958041958041958\n",
      ">>>>>> 174에서 성능이 개선되어 저장합니다. 0.10190125554800034\n",
      "[0175/1000] train loss: 0.03192367870360613, valid loss: 0.10180960968136787, valid accuracy: 0.958041958041958\n",
      ">>>>>> 175에서 성능이 개선되어 저장합니다. 0.10180960968136787\n",
      "[0176/1000] train loss: 0.03344823466613889, valid loss: 0.10170861706137657, valid accuracy: 0.958041958041958\n",
      ">>>>>> 176에서 성능이 개선되어 저장합니다. 0.10170861706137657\n",
      "[0177/1000] train loss: 0.03450769558548927, valid loss: 0.10162675753235817, valid accuracy: 0.958041958041958\n",
      ">>>>>> 177에서 성능이 개선되어 저장합니다. 0.10162675753235817\n",
      "[0178/1000] train loss: 0.034036812372505665, valid loss: 0.10149520635604858, valid accuracy: 0.958041958041958\n",
      ">>>>>> 178에서 성능이 개선되어 저장합니다. 0.10149520635604858\n",
      "[0179/1000] train loss: 0.033942362293601036, valid loss: 0.10140819102525711, valid accuracy: 0.958041958041958\n",
      ">>>>>> 179에서 성능이 개선되어 저장합니다. 0.10140819102525711\n",
      "[0180/1000] train loss: 0.0320455189794302, valid loss: 0.101349376142025, valid accuracy: 0.958041958041958\n",
      ">>>>>> 180에서 성능이 개선되어 저장합니다. 0.101349376142025\n",
      "[0181/1000] train loss: 0.03307160269469023, valid loss: 0.10132571309804916, valid accuracy: 0.958041958041958\n",
      ">>>>>> 181에서 성능이 개선되어 저장합니다. 0.10132571309804916\n",
      "[0182/1000] train loss: 0.03214585967361927, valid loss: 0.1013132631778717, valid accuracy: 0.958041958041958\n",
      ">>>>>> 182에서 성능이 개선되어 저장합니다. 0.1013132631778717\n",
      "[0183/1000] train loss: 0.030674048699438572, valid loss: 0.10124837979674339, valid accuracy: 0.958041958041958\n",
      ">>>>>> 183에서 성능이 개선되어 저장합니다. 0.10124837979674339\n",
      "[0184/1000] train loss: 0.02269189152866602, valid loss: 0.10116027295589447, valid accuracy: 0.958041958041958\n",
      ">>>>>> 184에서 성능이 개선되어 저장합니다. 0.10116027295589447\n",
      "[0185/1000] train loss: 0.0321833249181509, valid loss: 0.10107558593153954, valid accuracy: 0.958041958041958\n",
      ">>>>>> 185에서 성능이 개선되어 저장합니다. 0.10107558593153954\n",
      "[0186/1000] train loss: 0.032268024049699306, valid loss: 0.10096453502774239, valid accuracy: 0.958041958041958\n",
      ">>>>>> 186에서 성능이 개선되어 저장합니다. 0.10096453502774239\n",
      "[0187/1000] train loss: 0.03217650577425957, valid loss: 0.10092765837907791, valid accuracy: 0.958041958041958\n",
      ">>>>>> 187에서 성능이 개선되어 저장합니다. 0.10092765837907791\n",
      "[0188/1000] train loss: 0.03123741690069437, valid loss: 0.1008765734732151, valid accuracy: 0.958041958041958\n",
      ">>>>>> 188에서 성능이 개선되어 저장합니다. 0.1008765734732151\n",
      "[0189/1000] train loss: 0.03130806051194668, valid loss: 0.10085474327206612, valid accuracy: 0.958041958041958\n",
      ">>>>>> 189에서 성능이 개선되어 저장합니다. 0.10085474327206612\n",
      "[0190/1000] train loss: 0.030688295140862465, valid loss: 0.10080427303910255, valid accuracy: 0.958041958041958\n",
      ">>>>>> 190에서 성능이 개선되어 저장합니다. 0.10080427303910255\n",
      "[0191/1000] train loss: 0.03135279379785061, valid loss: 0.10075591504573822, valid accuracy: 0.958041958041958\n",
      ">>>>>> 191에서 성능이 개선되어 저장합니다. 0.10075591504573822\n",
      "[0192/1000] train loss: 0.02098287269473076, valid loss: 0.10072378814220428, valid accuracy: 0.958041958041958\n",
      ">>>>>> 192에서 성능이 개선되어 저장합니다. 0.10072378814220428\n",
      "[0193/1000] train loss: 0.028794405050575733, valid loss: 0.10065863281488419, valid accuracy: 0.958041958041958\n",
      ">>>>>> 193에서 성능이 개선되어 저장합니다. 0.10065863281488419\n",
      "[0194/1000] train loss: 0.027898404747247696, valid loss: 0.10065438225865364, valid accuracy: 0.958041958041958\n",
      ">>>>>> 194에서 성능이 개선되어 저장합니다. 0.10065438225865364\n",
      "[0195/1000] train loss: 0.028168803080916405, valid loss: 0.10068036988377571, valid accuracy: 0.958041958041958\n",
      "[0196/1000] train loss: 0.02972822403535247, valid loss: 0.10067639127373695, valid accuracy: 0.958041958041958\n",
      "[0197/1000] train loss: 0.029952154494822025, valid loss: 0.10069504752755165, valid accuracy: 0.958041958041958\n",
      "[0198/1000] train loss: 0.02951511088758707, valid loss: 0.10068805888295174, valid accuracy: 0.958041958041958\n",
      "[0199/1000] train loss: 0.028453425504267216, valid loss: 0.10068671405315399, valid accuracy: 0.958041958041958\n",
      "[0200/1000] train loss: 0.029391557909548283, valid loss: 0.10066084936261177, valid accuracy: 0.958041958041958\n",
      "[0201/1000] train loss: 0.02801267197355628, valid loss: 0.10061639919877052, valid accuracy: 0.958041958041958\n",
      ">>>>>> 201에서 성능이 개선되어 저장합니다. 0.10061639919877052\n",
      "[0202/1000] train loss: 0.02799974288791418, valid loss: 0.10058361664414406, valid accuracy: 0.958041958041958\n",
      ">>>>>> 202에서 성능이 개선되어 저장합니다. 0.10058361664414406\n",
      "[0203/1000] train loss: 0.02652854286134243, valid loss: 0.1005624569952488, valid accuracy: 0.958041958041958\n",
      ">>>>>> 203에서 성능이 개선되어 저장합니다. 0.1005624569952488\n",
      "[0204/1000] train loss: 0.028043572790920734, valid loss: 0.10056782886385918, valid accuracy: 0.958041958041958\n",
      "[0205/1000] train loss: 0.023719245567917824, valid loss: 0.10058999806642532, valid accuracy: 0.958041958041958\n",
      "[0206/1000] train loss: 0.027428584173321724, valid loss: 0.10064063593745232, valid accuracy: 0.958041958041958\n",
      "[0207/1000] train loss: 0.02781125344336033, valid loss: 0.10063263028860092, valid accuracy: 0.958041958041958\n",
      "[0208/1000] train loss: 0.018673584796488285, valid loss: 0.10059643909335136, valid accuracy: 0.958041958041958\n",
      "[0209/1000] train loss: 0.02718446683138609, valid loss: 0.10052770376205444, valid accuracy: 0.958041958041958\n",
      ">>>>>> 209에서 성능이 개선되어 저장합니다. 0.10052770376205444\n",
      "[0210/1000] train loss: 0.02729877457022667, valid loss: 0.10046925768256187, valid accuracy: 0.958041958041958\n",
      ">>>>>> 210에서 성능이 개선되어 저장합니다. 0.10046925768256187\n",
      "[0211/1000] train loss: 0.026867165695875883, valid loss: 0.1004372239112854, valid accuracy: 0.958041958041958\n",
      ">>>>>> 211에서 성능이 개선되어 저장합니다. 0.1004372239112854\n",
      "[0212/1000] train loss: 0.026465308852493763, valid loss: 0.1004011482000351, valid accuracy: 0.958041958041958\n",
      ">>>>>> 212에서 성능이 개선되어 저장합니다. 0.1004011482000351\n",
      "[0213/1000] train loss: 0.0266095083206892, valid loss: 0.10033112019300461, valid accuracy: 0.958041958041958\n",
      ">>>>>> 213에서 성능이 개선되어 저장합니다. 0.10033112019300461\n",
      "[0214/1000] train loss: 0.02600195351988077, valid loss: 0.1002870500087738, valid accuracy: 0.958041958041958\n",
      ">>>>>> 214에서 성능이 개선되어 저장합니다. 0.1002870500087738\n",
      "[0215/1000] train loss: 0.02613428235054016, valid loss: 0.10023229941725731, valid accuracy: 0.958041958041958\n",
      ">>>>>> 215에서 성능이 개선되어 저장합니다. 0.10023229941725731\n",
      "[0216/1000] train loss: 0.025024961680173874, valid loss: 0.10016025230288506, valid accuracy: 0.958041958041958\n",
      ">>>>>> 216에서 성능이 개선되어 저장합니다. 0.10016025230288506\n",
      "[0217/1000] train loss: 0.02538090944290161, valid loss: 0.10012762248516083, valid accuracy: 0.958041958041958\n",
      ">>>>>> 217에서 성능이 개선되어 저장합니다. 0.10012762248516083\n",
      "[0218/1000] train loss: 0.02328681480139494, valid loss: 0.10005847737193108, valid accuracy: 0.958041958041958\n",
      ">>>>>> 218에서 성능이 개선되어 저장합니다. 0.10005847737193108\n",
      "[0219/1000] train loss: 0.025441710837185383, valid loss: 0.09997209161520004, valid accuracy: 0.958041958041958\n",
      ">>>>>> 219에서 성능이 개선되어 저장합니다. 0.09997209161520004\n",
      "[0220/1000] train loss: 0.025290808640420437, valid loss: 0.09988760203123093, valid accuracy: 0.958041958041958\n",
      ">>>>>> 220에서 성능이 개선되어 저장합니다. 0.09988760203123093\n",
      "[0221/1000] train loss: 0.024248328991234303, valid loss: 0.09986619278788567, valid accuracy: 0.958041958041958\n",
      ">>>>>> 221에서 성능이 개선되어 저장합니다. 0.09986619278788567\n",
      "[0222/1000] train loss: 0.02509722113609314, valid loss: 0.09981462359428406, valid accuracy: 0.958041958041958\n",
      ">>>>>> 222에서 성능이 개선되어 저장합니다. 0.09981462359428406\n",
      "[0223/1000] train loss: 0.02392671350389719, valid loss: 0.0997423492372036, valid accuracy: 0.958041958041958\n",
      ">>>>>> 223에서 성능이 개선되어 저장합니다. 0.0997423492372036\n",
      "[0224/1000] train loss: 0.02410922944545746, valid loss: 0.0996575877070427, valid accuracy: 0.958041958041958\n",
      ">>>>>> 224에서 성능이 개선되어 저장합니다. 0.0996575877070427\n",
      "[0225/1000] train loss: 0.022715319879353046, valid loss: 0.09967291727662086, valid accuracy: 0.958041958041958\n",
      "[0226/1000] train loss: 0.02263474278151989, valid loss: 0.09971583634614944, valid accuracy: 0.958041958041958\n",
      "[0227/1000] train loss: 0.02367011597380042, valid loss: 0.09968899935483932, valid accuracy: 0.958041958041958\n",
      "[0228/1000] train loss: 0.02283433824777603, valid loss: 0.09965650737285614, valid accuracy: 0.958041958041958\n",
      ">>>>>> 228에서 성능이 개선되어 저장합니다. 0.09965650737285614\n",
      "[0229/1000] train loss: 0.023531325161457062, valid loss: 0.09966598823666573, valid accuracy: 0.958041958041958\n",
      "[0230/1000] train loss: 0.021089253947138786, valid loss: 0.09961064532399178, valid accuracy: 0.958041958041958\n",
      ">>>>>> 230에서 성능이 개선되어 저장합니다. 0.09961064532399178\n",
      "[0231/1000] train loss: 0.022184615954756737, valid loss: 0.09958931803703308, valid accuracy: 0.958041958041958\n",
      ">>>>>> 231에서 성능이 개선되어 저장합니다. 0.09958931803703308\n",
      "[0232/1000] train loss: 0.02317755576223135, valid loss: 0.09954634681344032, valid accuracy: 0.958041958041958\n",
      ">>>>>> 232에서 성능이 개선되어 저장합니다. 0.09954634681344032\n",
      "[0233/1000] train loss: 0.02181362546980381, valid loss: 0.09945965558290482, valid accuracy: 0.958041958041958\n",
      ">>>>>> 233에서 성능이 개선되어 저장합니다. 0.09945965558290482\n",
      "[0234/1000] train loss: 0.0220903642475605, valid loss: 0.0994526855647564, valid accuracy: 0.958041958041958\n",
      ">>>>>> 234에서 성능이 개선되어 저장합니다. 0.0994526855647564\n",
      "[0235/1000] train loss: 0.015476963948458433, valid loss: 0.0994085930287838, valid accuracy: 0.958041958041958\n",
      ">>>>>> 235에서 성능이 개선되어 저장합니다. 0.0994085930287838\n",
      "[0236/1000] train loss: 0.022437792271375656, valid loss: 0.09934701770544052, valid accuracy: 0.958041958041958\n",
      ">>>>>> 236에서 성능이 개선되어 저장합니다. 0.09934701770544052\n",
      "[0237/1000] train loss: 0.021031001582741737, valid loss: 0.09927570074796677, valid accuracy: 0.958041958041958\n",
      ">>>>>> 237에서 성능이 개선되어 저장합니다. 0.09927570074796677\n",
      "[0238/1000] train loss: 0.022184258326888084, valid loss: 0.0992012657225132, valid accuracy: 0.958041958041958\n",
      ">>>>>> 238에서 성능이 개선되어 저장합니다. 0.0992012657225132\n",
      "[0239/1000] train loss: 0.0212570047006011, valid loss: 0.09911655262112617, valid accuracy: 0.958041958041958\n",
      ">>>>>> 239에서 성능이 개선되어 저장합니다. 0.09911655262112617\n",
      "[0240/1000] train loss: 0.021692635491490364, valid loss: 0.09900814667344093, valid accuracy: 0.958041958041958\n",
      ">>>>>> 240에서 성능이 개선되어 저장합니다. 0.09900814667344093\n",
      "[0241/1000] train loss: 0.021705057937651873, valid loss: 0.09894709661602974, valid accuracy: 0.958041958041958\n",
      ">>>>>> 241에서 성능이 개선되어 저장합니다. 0.09894709661602974\n",
      "[0242/1000] train loss: 0.021269232500344515, valid loss: 0.09891581535339355, valid accuracy: 0.958041958041958\n",
      ">>>>>> 242에서 성능이 개선되어 저장합니다. 0.09891581535339355\n",
      "[0243/1000] train loss: 0.020806078799068928, valid loss: 0.09886832162737846, valid accuracy: 0.958041958041958\n",
      ">>>>>> 243에서 성능이 개선되어 저장합니다. 0.09886832162737846\n",
      "[0244/1000] train loss: 0.021026017144322395, valid loss: 0.09882206469774246, valid accuracy: 0.958041958041958\n",
      ">>>>>> 244에서 성능이 개선되어 저장합니다. 0.09882206469774246\n",
      "[0245/1000] train loss: 0.019979613833129406, valid loss: 0.09878461807966232, valid accuracy: 0.958041958041958\n",
      ">>>>>> 245에서 성능이 개선되어 저장합니다. 0.09878461807966232\n",
      "[0246/1000] train loss: 0.020026423037052155, valid loss: 0.09873879328370094, valid accuracy: 0.958041958041958\n",
      ">>>>>> 246에서 성능이 개선되어 저장합니다. 0.09873879328370094\n",
      "[0247/1000] train loss: 0.02048854622989893, valid loss: 0.0987061858177185, valid accuracy: 0.958041958041958\n",
      ">>>>>> 247에서 성능이 개선되어 저장합니다. 0.0987061858177185\n",
      "[0248/1000] train loss: 0.019494112581014633, valid loss: 0.09867720678448677, valid accuracy: 0.958041958041958\n",
      ">>>>>> 248에서 성능이 개선되어 저장합니다. 0.09867720678448677\n",
      "[0249/1000] train loss: 0.019678889773786068, valid loss: 0.09863924607634544, valid accuracy: 0.958041958041958\n",
      ">>>>>> 249에서 성능이 개선되어 저장합니다. 0.09863924607634544\n",
      "[0250/1000] train loss: 0.019060395658016205, valid loss: 0.09859929233789444, valid accuracy: 0.958041958041958\n",
      ">>>>>> 250에서 성능이 개선되어 저장합니다. 0.09859929233789444\n",
      "[0251/1000] train loss: 0.018695151433348656, valid loss: 0.09858215972781181, valid accuracy: 0.958041958041958\n",
      ">>>>>> 251에서 성능이 개선되어 저장합니다. 0.09858215972781181\n",
      "[0252/1000] train loss: 0.019886305555701256, valid loss: 0.09860360994935036, valid accuracy: 0.958041958041958\n",
      "[0253/1000] train loss: 0.019328679889440536, valid loss: 0.0985380969941616, valid accuracy: 0.958041958041958\n",
      ">>>>>> 253에서 성능이 개선되어 저장합니다. 0.0985380969941616\n",
      "[0254/1000] train loss: 0.01818662229925394, valid loss: 0.09847026690840721, valid accuracy: 0.958041958041958\n",
      ">>>>>> 254에서 성능이 개선되어 저장합니다. 0.09847026690840721\n",
      "[0255/1000] train loss: 0.01931171491742134, valid loss: 0.09847487136721611, valid accuracy: 0.958041958041958\n",
      "[0256/1000] train loss: 0.019145354628562927, valid loss: 0.09847177192568779, valid accuracy: 0.958041958041958\n",
      "[0257/1000] train loss: 0.017763802781701088, valid loss: 0.09848543256521225, valid accuracy: 0.958041958041958\n",
      "[0258/1000] train loss: 0.018072412814944983, valid loss: 0.09857767820358276, valid accuracy: 0.958041958041958\n",
      "[0259/1000] train loss: 0.017713805194944143, valid loss: 0.09858763962984085, valid accuracy: 0.958041958041958\n",
      "[0260/1000] train loss: 0.01749057904817164, valid loss: 0.09862275794148445, valid accuracy: 0.958041958041958\n",
      "[0261/1000] train loss: 0.016945139970630407, valid loss: 0.09859756007790565, valid accuracy: 0.958041958041958\n",
      "[0262/1000] train loss: 0.01808486320078373, valid loss: 0.09858306124806404, valid accuracy: 0.958041958041958\n",
      "[0263/1000] train loss: 0.018164167180657387, valid loss: 0.09848576411604881, valid accuracy: 0.958041958041958\n",
      "[0264/1000] train loss: 0.017435268498957157, valid loss: 0.09848298877477646, valid accuracy: 0.958041958041958\n",
      "264 에폭에서 조기종료 합니다. 0.09847026690840721에서 개선되지 않음.\n",
      "걸린시간(초): 3.851137638092041\n"
     ]
    }
   ],
   "source": [
    "import time\n",
    "\n",
    "### 모델 학습(train) 로직 작성\n",
    "#### 검증 결과 -> train loss, valid_loss, valid_accuracy\n",
    "### 모델 성능이 개선될 때 마다 저장.\n",
    "### 조기종료 - 10 epoch 동안 성능 개선이 없으면 조기종료\n",
    "\n",
    "save_path = \"saved_models/bc_model.pt\"\n",
    "best_score = torch.inf   # validation loss 기준으로 저장/조기종료 여부 확인.\n",
    "patience = 10\n",
    "trigger_cnt = 0\n",
    "\n",
    "train_losses, valid_losses, valid_acces = [], [], []\n",
    "\n",
    "s = time.time()\n",
    "for epoch in range(epochs):\n",
    "    ################### train #######################\n",
    "    b_model.train()\n",
    "    train_loss = 0.0\n",
    "    for X_train, y_train in train_loader:\n",
    "        X_train, y_train = X_train.to(device), y_train.to(device)\n",
    "        pred = b_model(X_train)  # positive일 확률\n",
    "        loss = loss_fn(pred, y_train)\n",
    "        loss.backward()\n",
    "        optimizer.step()\n",
    "        optimizer.zero_grad()\n",
    "        train_loss += loss.item()\n",
    "    train_loss /= len(train_loader)\n",
    "    train_losses.append(train_loss)\n",
    "\n",
    "    ################### validation ##################\n",
    "    b_model.eval()\n",
    "    valid_loss = valid_acc = 0.0\n",
    "    with torch.no_grad():\n",
    "        for X_test, y_test in test_loader:\n",
    "            X_test, y_test = X_test.to(device), y_test.to(device)\n",
    "            pred_test = b_model(X_test) # positive일 확률\n",
    "            valid_loss += loss_fn(pred_test, y_test).item()\n",
    "            #  이진 분류에서 accuracy\n",
    "            valid_acc += torch.sum((pred_test > 0.5).type(torch.int32) == y_test).item()\n",
    "        valid_loss /= len(test_loader)\n",
    "        valid_acc /= len(test_loader.dataset)\n",
    "        valid_losses.append(valid_loss)\n",
    "        valid_acces.append(valid_acc)\n",
    "    \n",
    "    log_template = \"[{:04d}/{}] train loss: {}, valid loss: {}, valid accuracy: {}\"\n",
    "    print(log_template.format(epoch+1, epochs, train_loss, valid_loss, valid_acc))\n",
    "    # 모델 저장, 조기종료\n",
    "    if valid_loss <  best_score: # 성능 개선\n",
    "        print(f\">>>>>> {epoch+1}에서 성능이 개선되어 저장합니다. {valid_loss}\")\n",
    "        torch.save(b_model, save_path)\n",
    "        best_score = valid_loss\n",
    "        trigger_cnt = 0\n",
    "    else:\n",
    "        trigger_cnt += 1\n",
    "        if patience == trigger_cnt:\n",
    "            print(f\"{epoch+1} 에폭에서 조기종료 합니다. {best_score}에서 개선되지 않음.\")\n",
    "            break\n",
    "    \n",
    "e = time.time()\n",
    "print(\"걸린시간(초):\", e-s)"
   ]
  },
  {
   "cell_type": "code",
   "execution_count": 287,
   "metadata": {},
   "outputs": [
    {
     "data": {
      "image/png": "[encoded data removed]",
      "text/plain": [
       "<Figure size 640x480 with 1 Axes>"
      ]
     },
     "metadata": {},
     "output_type": "display_data"
    }
   ],
   "source": [
    "## loss, acc 시각화\n",
    "\n",
    "plt.plot(range(len(train_losses)), train_losses, label=\"train loss\")\n",
    "plt.plot(range(len(valid_losses)), valid_losses, label=\"valid loss\")\n",
    "plt.legend()\n",
    "plt.show()"
   ]
  },
  {
   "cell_type": "code",
   "execution_count": 290,
   "metadata": {},
   "outputs": [
    {
     "data": {
      "image/png": "[encoded data removed]",
      "text/plain": [
       "<Figure size 640x480 with 1 Axes>"
      ]
     },
     "metadata": {},
     "output_type": "display_data"
    }
   ],
   "source": [
    "plt.plot(range(len(valid_acces)),valid_acces, label=\"valid accuary\")\n",
    "plt.legend()\n",
    "plt.show()"
   ]
  },
  {
   "cell_type": "code",
   "execution_count": 292,
   "metadata": {
    "collapsed": true,
    "jupyter": {
     "outputs_hidden": true
    },
    "scrolled": true
   },
   "outputs": [
    {
     "data": {
      "text/plain": [
       "BreastCancerModel(\n",
       "  (lr1): Linear(in_features=30, out_features=32, bias=True)\n",
       "  (lr2): Linear(in_features=32, out_features=8, bias=True)\n",
       "  (lr3): Linear(in_features=8, out_features=1, bias=True)\n",
       "  (relu): ReLU()\n",
       "  (logistic): Sigmoid()\n",
       ")"
      ]
     },
     "execution_count": 292,
     "metadata": {},
     "output_type": "execute_result"
    }
   ],
   "source": [
    "best_model = torch.load(save_path,weights_only=False)\n",
    "best_model"
   ]
  },
  {
   "cell_type": "code",
   "execution_count": 302,
   "metadata": {},
   "outputs": [],
   "source": [
    "def predict_bc(model, X, device=device):\n",
    "    # model로 X를 추론한 결과를 반환\n",
    "    # label, 확률\n",
    "    result = []\n",
    "    with torch.no_grad():\n",
    "        pred_proba = model(X)\t# [[0.8], [0.1], ...]\n",
    "        pred_class = (pred_proba > 0.5).type(torch.int32)\t# [[1], [0], ...]\n",
    "        for class_index, proba in zip(pred_class, pred_proba):\n",
    "            # print(class_index, proba if class_index.item() == 1 else 1-proba)\n",
    "            result.append((class_index.item(), proba if class_index.item() == 1 else 1-proba))\n",
    "            # proba if class_index.item() == 1 else 1-proba\n",
    "            ## proba : 양성일 확률\n",
    "            # model이 예측한 class가 1 : proba값을 확률로 사용\n",
    "            # model이 예측한 class가 0 : 1-proba값을 확률로 사용(양성 확률을 음성 확률로 변환)\n",
    "        return result"
   ]
  },
  {
   "cell_type": "code",
   "execution_count": 303,
   "metadata": {},
   "outputs": [],
   "source": [
    "new_data = torch.tensor(X_test_scaled[:5], dtype=torch.float32)\n",
    "# print(new_data.shape)\n",
    "result = predict_bc(best_model, new_data, device)"
   ]
  },
  {
   "cell_type": "code",
   "execution_count": 304,
   "metadata": {},
   "outputs": [
    {
     "data": {
      "text/plain": [
       "[(1, tensor([0.9991])),\n",
       " (0, tensor([0.9999])),\n",
       " (0, tensor([0.9995])),\n",
       " (1, tensor([0.9999])),\n",
       " (0, tensor([0.9960]))]"
      ]
     },
     "execution_count": 304,
     "metadata": {},
     "output_type": "execute_result"
    }
   ],
   "source": [
    "result"
   ]
  },
  {
   "cell_type": "markdown",
   "metadata": {},
   "source": [
    "# 모델 유형별 구현 정리\n",
    "\n",
    "## 공통\n",
    "\n",
    "-   Input layer(첫번째 Layer)의 in_features\n",
    "    -   **입력데이터의 feature(속성) 개수**에 맞춰준다.\n",
    "-   Hidden layer 수\n",
    "    -   경험적(art)으로 정한다.\n",
    "    -   Hidden layer에 Linear를 사용하는 경우 보통 feature 수를 줄여 나간다. (핵심 특성들을 추출해나가는 과정의 개념.)"
   ]
  },
  {
   "cell_type": "markdown",
   "metadata": {},
   "source": [
    "## 회귀 모델\n",
    "\n",
    "-   output layer의 출력 unit개수(out_features)\n",
    "    -   정답의 개수\n",
    "    -   ex\n",
    "        -   집값: 1\n",
    "        -   아파트가격, 단독가격, 빌라가격: 3 => y의 개수에 맞춘다.\n",
    "-   출력 Layer에 적용하는 activation 함수\n",
    "    -   일반적으로 **None**\n",
    "    -   값의 범위가 설정되 있고 그 범위의 값을 출력하는 함수가 있을 경우\n",
    "        -   ex) 0 ~ 1: logistic(Sigmoid), -1 ~ 1: hyperbolic tangent(Tanh)\n",
    "-   loss함수\n",
    "    -   MSELoss\n",
    "-   평가지표\n",
    "    -   MSE, RMSE, R square($R^2$)"
   ]
  },
  {
   "cell_type": "markdown",
   "metadata": {},
   "source": [
    "## 다중분류 모델\n",
    "\n",
    "-   output layer의 unit 개수\n",
    "    -   정답 class(고유값)의 개수\n",
    "-   출력 Layer에 적용하는 activation 함수\n",
    "    -   Softmax: 클래스별 확률을 출력\n",
    "-   loss함수\n",
    "    -   **categrocial crossentropy**\n",
    "    -   파이토치 함수\n",
    "        -   **CrossEntropyLoss** = NLLLoss(정답) + LogSoftmax(모델 예측값)\n",
    "        -   **NLLLoss**\n",
    "            -   정답을 OneHot Encoding 처리 후 Loss를 계산한다.\n",
    "            -   입력으로 LogSoftmax 처리한 모델 예측값과 onehot encoding 안 된 정답을 받는다.\n",
    "        -   **LogSoftmax**\n",
    "            -   입력값에 Softmax 계산후 그 Log를 계산한다.\n",
    "                -   NLLLoss의 모델 예측값 입력값으로 처리할 때 사용한다.\n",
    "\n",
    "```python\n",
    "pred = model(input)\n",
    "loss1 = nn.NLLLoss(nn.LogSoftmax(dim=-1)(pred), y)\n",
    "# or\n",
    "loss2 = nn.CrossEntropyLoss()(pred, y)\n",
    "```"
   ]
  },
  {
   "cell_type": "markdown",
   "metadata": {},
   "source": [
    "## 이진분류 모델\n",
    "\n",
    "-   output layer의 unit 개수\n",
    "    -   1개 (positive일 확률)\n",
    "-   출력 Layer에 적용하는 activation 함수\n",
    "    -   Sigmoid(Logistic)\n",
    "-   loss 함수\n",
    "    -   **Binary crossentropy**\n",
    "    -   파이토치 함수: **BCELoss**\n"
   ]
  }
 ],
 "metadata": {
  "kernelspec": {
   "display_name": "dl",
   "language": "python",
   "name": "python3"
  },
  "language_info": {
   "codemirror_mode": {
    "name": "ipython",
    "version": 3
   },
   "file_extension": ".py",
   "mimetype": "text/x-python",
   "name": "python",
   "nbconvert_exporter": "python",
   "pygments_lexer": "ipython3",
   "version": "3.12.10"
  },
  "toc": {
   "base_numbering": 1,
   "nav_menu": {},
   "number_sections": false,
   "sideBar": true,
   "skip_h1_title": false,
   "title_cell": "Table of Contents",
   "title_sidebar": "Contents",
   "toc_cell": false,
   "toc_position": {
    "height": "calc(100% - 180px)",
    "left": "10px",
    "top": "150px",
    "width": "512px"
   },
   "toc_section_display": true,
   "toc_window_display": false
  },
  "varInspector": {
   "cols": {
    "lenName": 16,
    "lenType": 16,
    "lenVar": 40
   },
   "kernels_config": {
    "python": {
     "delete_cmd_postfix": "",
     "delete_cmd_prefix": "del ",
     "library": "var_list.py",
     "varRefreshCmd": "print(var_dic_list())"
    },
    "r": {
     "delete_cmd_postfix": ") ",
     "delete_cmd_prefix": "rm(",
     "library": "var_list.r",
     "varRefreshCmd": "cat(var_dic_list()) "
    }
   },
   "types_to_exclude": [
    "module",
    "function",
    "builtin_function_or_method",
    "instance",
    "_Feature"
   ],
   "window_display": false
  }
 },
 "nbformat": 4,
 "nbformat_minor": 4
}
