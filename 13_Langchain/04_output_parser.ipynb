{
 "cells": [
  {
   "cell_type": "markdown",
   "id": "b8e37759-3e94-4abc-bac5-334a0c0adc1f",
   "metadata": {},
   "source": [
    "# Output Parser\n",
    "**Output Parser**는 대규모 언어 모델(LLM, Large Language Model)의 출력 결과를 **애플리케이션에서 활용할 수 있도록 적절한 형식으로 변환**하는 도구이다.\n",
    "- LLM은 일반적으로 텍스트 형태로 응답을 생성하지만, 이 텍스트는 그대로 활용하기 어려운 경우가 많다.\n",
    "- Output Parser는 이러한 **비구조적 텍스트 데이터를 구조화된 데이터로 변환**하여 프로그램에서 활용 가능하도록 만든다.\n",
    "- 예를 들어, 키워드 리스트를 뽑거나 JSON 형식으로 정보를 변환하는 데 사용된다.\n",
    "\n",
    "## 주요 Output Parser 종류\n",
    "\n",
    "1. **CommaSeparatedListOutputParser**\n",
    "   - 쉼표로 구분된 텍스트를 파싱하여 리스트 형태로 변환한다.\n",
    "   - 쉼표로 구분된 텍스트를 응답 받을 수 있게 프롬포트를 작성해야함.\n",
    "   - 예: `\"사과, 바나나, 포도\"` → `[\"사과\", \"바나나\", \"포도\"]`\n",
    "2. **JsonOutputParser**\n",
    "   - LLM의 출력이 JSON 형식일 때 이를 Python의 `dict` 객체로 변환한다.\n",
    "   - JSON(JavaScript Object Notation)은 데이터 구조를 표현하기 위한 경량 포맷이다.\n",
    "   - `dict[key]`로 조회 가능\n",
    "3. **PydanticOutputParser**\n",
    "   - JSON 데이터를 Python의 [Pydantic](https://docs.pydantic.dev) 모델로 변환한다.\n",
    "   - Pydantic은 데이터 유효성 검사와 설정 관리에 널리 사용되는 Python 라이브러리이다.\n",
    "   - `.[key]`로 조회 가능\n",
    "4. **StrOutputParser**\n",
    "   - 모델의 출력 결과를 단순 문자열로 반환한다.\n",
    "   - Chat 기반 모델은 Message 객체의 속성으로 LLM 결과를 반환한다. 거기에서 응답 문자열만 추출해서 반환한다.\n",
    "> `JsonOutputParser`, `PydanticOutputParser` 는 모두 Pydantic을 사용해 데이터 구조(schema)를 정의하고, 해당 구조에 따라 출력을 검증하고 변환한다.\n",
    "\n",
    "## 주요 메소드\n",
    "- `parse(text: str)`\n",
    "  - LLM이 생성한 문자열 응답을 받아 정해진 구조로 변환하여 반환한다.\n",
    "- `get_format_instructions() -> str`\n",
    "  - 각 OutputParer가 변환할 수있는 형식으로 LLM이 응답하도록 하는 프롬프트 텍스트를 반환한다.\n",
    "  - 이 내용을 프롬프트에 넣어서 LLM이 정확한 포맷으로 응답하도록 유도한다.\n",
    "  \n",
    "## 참고\n",
    "- Output Parser는 일반적으로 [`Runnable`](05_chaing_LECL.ipynb#Runnable) 인터페이스를 상속하여 구현되며, `invoke()` 메서드를 통해 실행할 수 있다.\n",
    "- `invoke()`는 내부적으로 `parse()`를 호출하여 동작한다.\n",
    "- 필요한 경우 Output Parser를 직접 구현하여 사용자 정의 출력 포맷을 처리할 수도 있다. \n"
   ]
  },
  {
   "cell_type": "code",
   "execution_count": 2,
   "id": "fb27467a-c221-4464-8d63-9cd5c390c7db",
   "metadata": {},
   "outputs": [
    {
     "data": {
      "text/plain": [
       "True"
      ]
     },
     "execution_count": 2,
     "metadata": {},
     "output_type": "execute_result"
    }
   ],
   "source": [
    "from dotenv import load_dotenv\n",
    "\n",
    "load_dotenv()"
   ]
  },
  {
   "cell_type": "markdown",
   "id": "f08d0e64-7c94-45fc-8070-b76965ed0943",
   "metadata": {},
   "source": [
    "## StrOutputParser\n",
    "- 모델(LLM)의 출력 결과를 string으로 변환하여 반환하는 output parser.\n",
    "- Chat Model은  Message 객체에서 content 속성값을 추출하여 문자열로 반환한다."
   ]
  },
  {
   "cell_type": "code",
   "execution_count": 134,
   "id": "8a12c88d-3b3c-48e2-8137-8e25a49075db",
   "metadata": {},
   "outputs": [],
   "source": [
    "from langchain.prompts import ChatPromptTemplate\n",
    "from langchain_openai import ChatOpenAI\n",
    "from langchain_core.output_parsers import StrOutputParser\n",
    "\n",
    "# prompt 생성\n",
    "prompt_template = ChatPromptTemplate.from_template(\n",
    "    \"한국의 {topic} 관련된 속담을 {count}개 알려줘\"\n",
    ")\n",
    "prompt = prompt_template.format(topic = \"호랑이\", count = 2)\n",
    "\n",
    "# LLM 모델 생성\n",
    "model = ChatOpenAI(model_name = \"gpt-4o-mini\")\n",
    "\n",
    "# LLM 모델에 prompt를 전달하고 응답 받기\n",
    "## prompt - > llm model -> response\n",
    "response = model.invoke(prompt)"
   ]
  },
  {
   "cell_type": "code",
   "execution_count": 140,
   "id": "eb4e0e3b",
   "metadata": {},
   "outputs": [
    {
     "name": "stdout",
     "output_type": "stream",
     "text": [
      "content='한국의 호랑이에 관련된 속담 중 두 가지는 다음과 같습니다:\\n\\n1. **호랑이 굴에 가야 호랑이 새끼를 잡는다** - 이 속담은 목표를 이루기 위해서는 위험을 감수해야 한다는 뜻입니다. 원하는 것을 얻기 위해서는 적극적으로 행동해야 한다는 의미를 담고 있습니다.\\n\\n2. **호랑이도 제 말 하면 온다** - 이 속담은 누군가에 대해 이야기하고 있을 때 그 사람이 갑자기 나타나는 상황을 비유적으로 표현한 것입니다. 말이란 것을 통해 상대방이 나타날 수 있음을 의미합니다.\\n\\n이 두 속담은 호랑이를 통해 위험, 행동, 그리고 우연의 연관성을 잘 보여줍니다.' additional_kwargs={'refusal': None} response_metadata={'token_usage': {'completion_tokens': 161, 'prompt_tokens': 24, 'total_tokens': 185, 'completion_tokens_details': {'accepted_prediction_tokens': 0, 'audio_tokens': 0, 'reasoning_tokens': 0, 'rejected_prediction_tokens': 0}, 'prompt_tokens_details': {'audio_tokens': 0, 'cached_tokens': 0}}, 'model_name': 'gpt-4o-mini-2024-07-18', 'system_fingerprint': 'fp_62a23a81ef', 'id': 'chatcmpl-BgTTZ0VZ0OsmtXA5cRXLHO3AHAzl8', 'service_tier': 'default', 'finish_reason': 'stop', 'logprobs': None} id='run--d225efb9-c936-4b57-abc0-cfc7cbf659a9-0' usage_metadata={'input_tokens': 24, 'output_tokens': 161, 'total_tokens': 185, 'input_token_details': {'audio': 0, 'cache_read': 0}, 'output_token_details': {'audio': 0, 'reasoning': 0}}\n"
     ]
    }
   ],
   "source": [
    "print(response)"
   ]
  },
  {
   "cell_type": "code",
   "execution_count": 138,
   "id": "4594051a",
   "metadata": {},
   "outputs": [
    {
     "name": "stdout",
     "output_type": "stream",
     "text": [
      "한국의 호랑이에 관련된 속담 중 두 가지는 다음과 같습니다:\n",
      "\n",
      "1. **호랑이 굴에 가야 호랑이 새끼를 잡는다** - 이 속담은 목표를 이루기 위해서는 위험을 감수해야 한다는 뜻입니다. 원하는 것을 얻기 위해서는 적극적으로 행동해야 한다는 의미를 담고 있습니다.\n",
      "\n",
      "2. **호랑이도 제 말 하면 온다** - 이 속담은 누군가에 대해 이야기하고 있을 때 그 사람이 갑자기 나타나는 상황을 비유적으로 표현한 것입니다. 말이란 것을 통해 상대방이 나타날 수 있음을 의미합니다.\n",
      "\n",
      "이 두 속담은 호랑이를 통해 위험, 행동, 그리고 우연의 연관성을 잘 보여줍니다.\n"
     ]
    }
   ],
   "source": [
    "res1 = response.content\n",
    "print(res1)"
   ]
  },
  {
   "cell_type": "code",
   "execution_count": 141,
   "id": "8d78221f",
   "metadata": {},
   "outputs": [
    {
     "name": "stdout",
     "output_type": "stream",
     "text": [
      "한국의 호랑이에 관련된 속담 중 두 가지는 다음과 같습니다:\n",
      "\n",
      "1. **호랑이 굴에 가야 호랑이 새끼를 잡는다** - 이 속담은 목표를 이루기 위해서는 위험을 감수해야 한다는 뜻입니다. 원하는 것을 얻기 위해서는 적극적으로 행동해야 한다는 의미를 담고 있습니다.\n",
      "\n",
      "2. **호랑이도 제 말 하면 온다** - 이 속담은 누군가에 대해 이야기하고 있을 때 그 사람이 갑자기 나타나는 상황을 비유적으로 표현한 것입니다. 말이란 것을 통해 상대방이 나타날 수 있음을 의미합니다.\n",
      "\n",
      "이 두 속담은 호랑이를 통해 위험, 행동, 그리고 우연의 연관성을 잘 보여줍니다.\n"
     ]
    }
   ],
   "source": [
    "parser = StrOutputParser()\t\t# Message 객체에서 content 속성(메세지)의 값만 추출.\n",
    "res = parser.invoke(response)\t# LLM 모델의 응답 결과, 걍 .content하면 되지 이렇게 왜함 ?? -> chain쪽 들어가면 편해진대용\n",
    "print(res)"
   ]
  },
  {
   "cell_type": "code",
   "execution_count": null,
   "id": "acc69603-8a16-4980-bd0d-3b8a2e112b1a",
   "metadata": {},
   "outputs": [
    {
     "name": "stdout",
     "output_type": "stream",
     "text": [
      "한국의 정신력과 관련된 속담은 다음과 같습니다:\n",
      "\n",
      "1. **\"가는 말이 고와야 오는 말이 곱다.\"**  \n",
      "   이 속담은 자신의 행동과 말이 타인에게 어떻게 영향을 미치는지를 강조합니다. 긍정적인 태도로 임하면 상대방도 긍정적으로 반응한다는 의미로, 정신적 힘과 긍정적인 마인드를 강조합니다.\n",
      "\n",
      "2. **\"하늘이 무너져도 솟아날 구멍은 있다.\"**  \n",
      "   절망적인 상황에서도 희망과 해결책이 있다는 의미로, 어려운 상황에서도 포기하지 않고 극복할 수 있는 정신적인 힘을 상징합니다.\n",
      "\n",
      "3. **\"백문이 불여일견.\"**  \n",
      "   많은 말을 듣는 것보다 직접 경험하는 것이 더 중요하다는 뜻으로, 자신의 눈으로 보고 느끼는 것이 정신력의 중요성을 나타냅니다. 스스로 경험하고 도전하는 정신력이 강조됩니다.\n",
      "\n",
      "이 속담들은 어려움을 극복하고 긍정적인 마음가짐을 유지하는데 중요한 메시지를 담고 있습니다.\n"
     ]
    }
   ],
   "source": [
    "# prompt_template -> model -> output parser\n",
    "chain = prompt_template | model | parser\t\t# |(or) 연산자로 묶어줌, pipeline으로 생각하면 좋음.\n",
    "\n",
    "res = chain.invoke({\"topic\" : \"사람의 정신력\", \"count\" : 3})\n",
    "print(res)"
   ]
  },
  {
   "cell_type": "code",
   "execution_count": null,
   "id": "c4488468",
   "metadata": {},
   "outputs": [
    {
     "name": "stdout",
     "output_type": "stream",
     "text": [
      "content='한국의 정신력과 관련된 속담은 다음과 같습니다:\\n\\n1. **\"뛰는 놈 위에 나는 놈 있다\"**  \\n   - 아무리 뛰어난 사람도 그보다 더 뛰어난 사람이 있다는 뜻으로, 사람의 노력과 정신력이 중요한 동시에, 자신의 한계를 인식하는 것이 필요하다는 메시지를 담고 있습니다.\\n\\n2. **\"꾸준한 바위에 물이 스며든다\"**  \\n   - 꾸준한 노력과 인내가 결국 목표를 이룰 수 있다는 의미로, 정신력과 끈기를 강조하는 속담입니다.\\n\\n3. **\"고생 끝에 낙이 온다\"**  \\n   - 어려운 시기를 견디면 결국 좋은 결과가 올 것이라는 뜻으로, 힘든 상황에서도 정신적으로 버텨야 한다는 교훈을 줍니다.\\n\\n이 속담들은 한국 문화에서의 인내, 노력, 정신력의 중요성을 잘 나타내고 있습니다.' additional_kwargs={'refusal': None} response_metadata={'token_usage': {'completion_tokens': 205, 'prompt_tokens': 23, 'total_tokens': 228, 'completion_tokens_details': {'accepted_prediction_tokens': 0, 'audio_tokens': 0, 'reasoning_tokens': 0, 'rejected_prediction_tokens': 0}, 'prompt_tokens_details': {'audio_tokens': 0, 'cached_tokens': 0}}, 'model_name': 'gpt-4o-mini-2024-07-18', 'system_fingerprint': 'fp_62a23a81ef', 'id': 'chatcmpl-BgLg2GvGIBM9cqop1NA72Adp8yKjh', 'service_tier': 'default', 'finish_reason': 'stop', 'logprobs': None} id='run--78aa239f-3750-4afc-a661-f945aad1fa0c-0' usage_metadata={'input_tokens': 23, 'output_tokens': 205, 'total_tokens': 228, 'input_token_details': {'audio': 0, 'cache_read': 0}, 'output_token_details': {'audio': 0, 'reasoning': 0}}\n"
     ]
    }
   ],
   "source": [
    "# prompt_template -> model -> output parser\n",
    "chain = prompt_template | model #| parser\t\t# 이러면 model의 출력값을 출력하게 됨.\n",
    "\n",
    "res = chain.invoke({\"topic\" : \"사람의 정신력\", \"count\" : 3})\n",
    "print(res)"
   ]
  },
  {
   "cell_type": "code",
   "execution_count": 143,
   "id": "d28aaf61",
   "metadata": {},
   "outputs": [
    {
     "name": "stdout",
     "output_type": "stream",
     "text": [
      "한국의 호랑이에 관련된 속담 중 두 가지는 다음과 같습니다:\n",
      "\n",
      "1. **호랑이 굴에 가야 호랑이 새끼를 잡는다** - 이 속담은 목표를 이루기 위해서는 위험을 감수해야 한다는 뜻입니다. 원하는 것을 얻기 위해서는 적극적으로 행동해야 한다는 의미를 담고 있습니다.\n",
      "\n",
      "2. **호랑이도 제 말 하면 온다** - 이 속담은 누군가에 대해 이야기하고 있을 때 그 사람이 갑자기 나타나는 상황을 비유적으로 표현한 것입니다. 말이란 것을 통해 상대방이 나타날 수 있음을 의미합니다.\n",
      "\n",
      "이 두 속담은 호랑이를 통해 위험, 행동, 그리고 우연의 연관성을 잘 보여줍니다.\n"
     ]
    },
    {
     "data": {
      "text/plain": [
       "['한국의 호랑이에 관련된 속담 중 두 가지는 다음과 같습니다:',\n",
       " '1. **호랑이 굴에 가야 호랑이 새끼를 잡는다** - 이 속담은 목표를 이루기 위해서는 위험을 감수해야 한다는 뜻입니다. 원하는 것을 얻기 위해서는 적극적으로 행동해야 한다는 의미를 담고 있습니다.',\n",
       " '2. **호랑이도 제 말 하면 온다** - 이 속담은 누군가에 대해 이야기하고 있을 때 그 사람이 갑자기 나타나는 상황을 비유적으로 표현한 것입니다. 말이란 것을 통해 상대방이 나타날 수 있음을 의미합니다.',\n",
       " '이 두 속담은 호랑이를 통해 위험',\n",
       " '행동',\n",
       " '그리고 우연의 연관성을 잘 보여줍니다.']"
      ]
     },
     "execution_count": 143,
     "metadata": {},
     "output_type": "execute_result"
    }
   ],
   "source": [
    "print(res)\n",
    "parser = CommaSeparatedListOutputParser()\n",
    "parser.invoke(res)"
   ]
  },
  {
   "cell_type": "markdown",
   "id": "85c38dec-0141-468f-9145-96c7062db100",
   "metadata": {},
   "source": [
    "## CommaSeparatedListOutputParser\n",
    "\n",
    "- 쉼표로 구분된 텍스트를 파싱하여 리스트 형태로 변환한다.\n",
    "  - \"a,b,c\" => ['a','b','c']"
   ]
  },
  {
   "cell_type": "code",
   "execution_count": 28,
   "id": "e7676198-380d-44e9-90a5-1e400244add8",
   "metadata": {},
   "outputs": [
    {
     "name": "stdout",
     "output_type": "stream",
     "text": [
      "['사과', '배', '귤', '수박', '오렌지']\n"
     ]
    }
   ],
   "source": [
    "from langchain_core.output_parsers import CommaSeparatedListOutputParser\n",
    "\n",
    "parser = CommaSeparatedListOutputParser()\n",
    "res_txt = \"사과, 배, 귤, 수박, 오렌지\"\n",
    "print(parser.invoke(res_txt))"
   ]
  },
  {
   "cell_type": "code",
   "execution_count": null,
   "id": "4b93df61-56af-450b-9255-d5c5026cd2a2",
   "metadata": {},
   "outputs": [
    {
     "name": "stdout",
     "output_type": "stream",
     "text": [
      "Your response should be a list of comma separated values, eg: `foo, bar, baz` or `foo,bar,baz`\n"
     ]
    }
   ],
   "source": [
    "# 출력 형식을 지정하는 프롬프트를 조회\n",
    "format_string = parser.get_format_instructions()\n",
    "print(format_string)"
   ]
  },
  {
   "cell_type": "code",
   "execution_count": 55,
   "id": "dfdc3bb2-ff64-4be7-87d0-f0445babad33",
   "metadata": {},
   "outputs": [],
   "source": [
    "from textwrap import dedent\t# 공백처리하는 친구, 보기좋게\n",
    "prompt_template = ChatPromptTemplate.from_template(\n",
    "    dedent(\"\"\"\n",
    "\t# instruction\n",
    "\t{subject}의 이름 다섯 개를 나열해주세요.\n",
    "           \n",
    "    # output indicator (출력 형식)\n",
    "\t{format_instructions}\n",
    "\t\"\"\"),\n",
    "    partial_variables={\"format_instructions\" : parser.get_format_instructions()}\t# 이 메소드의 리턴 값을 파라미터에 넣어서 템플릿 안에 넣은 것.\n",
    ") # 실제로 이 template의 placeholder는 {subject}뿐 !\n",
    "# partial_variables={변수명:넣을 값, ...} : template의 placeholder 변수에 넣을 값을 PromptTemplate객체를 생성할 때 넣겠다. \n",
    "# placeholder에 넣을 값이 있는데 함수나 메소드 호출을 통한 리턴 값을 가져와야하는 경우에 사용.\n",
    "\n",
    "model = ChatOpenAI(model_name = \"gpt-4o-mini\")\n",
    "\n",
    "# prompt 생성\n",
    "prompt = prompt_template.invoke({\"subject\" : \" 동물\"})\n",
    "\n",
    "# LLM에 요청\n",
    "response = model.invoke(prompt)"
   ]
  },
  {
   "cell_type": "code",
   "execution_count": 56,
   "id": "67d488bc",
   "metadata": {},
   "outputs": [
    {
     "name": "stdout",
     "output_type": "stream",
     "text": [
      "호랑이, 사자, 기린, 코끼리, 펭귄\n",
      "<class 'list'> ['호랑이', '사자', '기린', '코끼리', '펭귄'] ['호랑이', ' 사자', ' 기린', ' 코끼리', ' 펭귄']\n"
     ]
    }
   ],
   "source": [
    "# 응답 확인\n",
    "response.content\n",
    "\n",
    "# parser를 이용해서 list로 변환\n",
    "res = parser.invoke(response)\n",
    "\n",
    "print(response.content)\n",
    "print(type(res), res, response.content.split(\",\"))\t# split으로도 가능."
   ]
  },
  {
   "cell_type": "code",
   "execution_count": 57,
   "id": "69012ffe",
   "metadata": {},
   "outputs": [
    {
     "data": {
      "text/plain": [
       "['롤', '오버워치', '마인크래프트', '배틀그라운드', '포트나이트']"
      ]
     },
     "execution_count": 57,
     "metadata": {},
     "output_type": "execute_result"
    }
   ],
   "source": [
    "# chain으로 구성\n",
    "chain = prompt_template | model | parser\n",
    "\n",
    "res = chain.invoke({\"subject\" : \"게임\"})\n",
    "res"
   ]
  },
  {
   "cell_type": "markdown",
   "id": "abe378b6-26db-4218-a0b1-64ff93fa044d",
   "metadata": {},
   "source": [
    "## JsonOutputParser\n",
    "\n",
    "- JSON 형식의 응답을 dictionary로 반환한다.\n",
    "- JSON 형식을 정하려는 경우 [Pydantic](Ref_typing_Pydantic.ipynb)을 이용해 JSON 스키마를 정의하여 JsonOutputParser 생성시 전달한다.\n",
    "  - Pydantic 모델클래스를 이용해 LLM 모델이 응답할 때 json의 어떤 key에 어떤 응답을 작성할 지 Field로 정의한다.\n",
    "  - Schema 지정은 필수는 아니다. \n",
    "- LLM이 JSON Schema를 따르는 형태로 응답을 하면 JsonOutputParser는 Dictionary로 변환한다."
   ]
  },
  {
   "cell_type": "code",
   "execution_count": 146,
   "id": "d0274a4d-c883-4473-b0d3-f9ac3f3e13fd",
   "metadata": {},
   "outputs": [
    {
     "name": "stdout",
     "output_type": "stream",
     "text": [
      "<class 'str'> <class 'dict'>\n"
     ]
    },
    {
     "data": {
      "text/plain": [
       "({'name': '홍길동', 'age': 20, 'address': '대구', 'hobby': ['독서', '게임']},\n",
       " '홍길동',\n",
       " '대구')"
      ]
     },
     "execution_count": 146,
     "metadata": {},
     "output_type": "execute_result"
    }
   ],
   "source": [
    "from langchain_core.output_parsers import JsonOutputParser\n",
    "\n",
    "parser = JsonOutputParser()\n",
    "res_text = \"\"\"\n",
    "{\n",
    "\t\"name\":\"홍길동\",\n",
    "    \"age\":20,\n",
    "    \"address\":\"대구\",\n",
    "    \"hobby\":[\"독서\", \"게임\"]\n",
    "}\n",
    "\"\"\"\n",
    "\n",
    "res_dict = parser.invoke(res_text)\n",
    "print(type(res_text), type(res_dict))\n",
    "res_dict, res_dict[\"name\"], res_dict[\"address\"]"
   ]
  },
  {
   "cell_type": "code",
   "execution_count": 63,
   "id": "6b9c3d21",
   "metadata": {},
   "outputs": [
    {
     "data": {
      "text/plain": [
       "'Return a JSON object.'"
      ]
     },
     "execution_count": 63,
     "metadata": {},
     "output_type": "execute_result"
    }
   ],
   "source": [
    "parser.get_format_instructions()"
   ]
  },
  {
   "cell_type": "code",
   "execution_count": 76,
   "id": "15f82523-783e-41ea-99c1-798157a296a1",
   "metadata": {},
   "outputs": [],
   "source": [
    "prompt_template = ChatPromptTemplate.from_template(\n",
    "    \"{name}에 대해서 설명해줭. \\n{format_instructions}\",\n",
    "    partial_variables = {\"format_instructions\" : parser.get_format_instructions()}\t# json으로 출력하라는 내용이 prompt에 들어가니 json 형식으로 출력\n",
    ")\n",
    "model = ChatOpenAI(model_name = \"gpt-4o-mini\")\n",
    "\n",
    "prompt = prompt_template.invoke({\"name\" : \"아이폰\"})\n",
    "\n",
    "res = model.invoke(prompt)"
   ]
  },
  {
   "cell_type": "code",
   "execution_count": 79,
   "id": "74aeb5b0-bc53-4129-a728-0a1d3252cefc",
   "metadata": {},
   "outputs": [
    {
     "name": "stdout",
     "output_type": "stream",
     "text": [
      "Sure! Here is a JSON object that provides a brief overview of the iPhone:\n",
      "\n",
      "```json\n",
      "{\n",
      "  \"smartphone\": {\n",
      "    \"name\": \"iPhone\",\n",
      "    \"manufacturer\": \"Apple Inc.\",\n",
      "    \"first_release\": \"June 29, 2007\",\n",
      "    \"latest_model\": {\n",
      "      \"name\": \"iPhone 14\",\n",
      "      \"release_date\": \"September 16, 2022\",\n",
      "      \"features\": [\n",
      "        \"6.1-inch Super Retina XDR display\",\n",
      "        \"A15 Bionic chip\",\n",
      "        \"Dual 12MP camera system\",\n",
      "        \"Face ID technology\",\n",
      "        \"5G capable\",\n",
      "        \"iOS 16\"\n",
      "      ]\n",
      "    },\n",
      "    \"operating_system\": \"iOS\",\n",
      "    \"key_features\": [\n",
      "      \"High-quality camera\",\n",
      "      \"App Store with a wide range of applications\",\n",
      "      \"Integration with other Apple products\",\n",
      "      \"Regular software updates\",\n",
      "      \"Sleek design and build quality\"\n",
      "    ],\n",
      "    \"target_audience\": {\n",
      "      \"demographics\": \"General consumers, professionals, tech enthusiasts\",\n",
      "      \"market_position\": \"Premium smartphone segment\"\n",
      "    }\n",
      "  }\n",
      "}\n",
      "```\n",
      "\n",
      "This JSON object outlines key information about the iPhone, including its manufacturer, history, features, and target audience.\n"
     ]
    }
   ],
   "source": [
    "print(res.content)\t # json 형태로 출력된 것을 확인 !"
   ]
  },
  {
   "cell_type": "code",
   "execution_count": 80,
   "id": "18c244d0",
   "metadata": {},
   "outputs": [],
   "source": [
    "prompt_template = ChatPromptTemplate.from_template(\n",
    "    \"{name}에 대해서 설명해줘, json형태로\" # 그냥 자연어로 json 형태로 출력해달라고 말해도 됨\n",
    "    # partial_variables = {\"format_instructions\" : parser.get_format_instructions()}\t# json으로 출력하라는 내용이 prompt에 들어가니 json 형식으로 출력\n",
    ")\n",
    "model = ChatOpenAI(model_name = \"gpt-4o-mini\")\n",
    "\n",
    "prompt = prompt_template.invoke({\"name\" : \"아이폰\"})\n",
    "\n",
    "res = model.invoke(prompt)"
   ]
  },
  {
   "cell_type": "code",
   "execution_count": 81,
   "id": "dd060440",
   "metadata": {},
   "outputs": [
    {
     "name": "stdout",
     "output_type": "stream",
     "text": [
      "아래는 아이폰에 대한 정보를 JSON 형식으로 나타낸 것입니다.\n",
      "\n",
      "```json\n",
      "{\n",
      "  \"제품명\": \"아이폰\",\n",
      "  \"제조사\": \"애플\",\n",
      "  \"출시연도\": 2007,\n",
      "  \"현재모델\": {\n",
      "    \"모델명\": \"아이폰 15\",\n",
      "    \"출시연도\": 2023,\n",
      "    \"특징\": {\n",
      "      \"디스플레이\": \"Super Retina XDR\",\n",
      "      \"카메라\": {\n",
      "        \"후면\": {\n",
      "          \"수\": 3,\n",
      "          \"해상도\": \"48MP\"\n",
      "        },\n",
      "        \"전면\": {\n",
      "          \"해상도\": \"12MP\"\n",
      "        }\n",
      "      },\n",
      "      \"프로세서\": \"A17 Bionic\",\n",
      "      \"배터리\": \"최대 20시간 통화\",\n",
      "      \"운영체제\": \"iOS 17\"\n",
      "    }\n",
      "  },\n",
      "  \"주요기능\": [\n",
      "    \"전화 및 메시지 전송\",\n",
      "    \"인터넷 브라우징\",\n",
      "    \"앱 생태계\",\n",
      "    \"카메라 촬영\",\n",
      "    \"음악 및 비디오 스트리밍\",\n",
      "    \"Face ID 및 Touch ID 보안\",\n",
      "    \"아이메시지 및 페이스타임\"\n",
      "  ],\n",
      "  \"지원하는기술\": [\n",
      "    \"5G\",\n",
      "    \"Wi-Fi 6E\",\n",
      "    \"블루투스 5.3\",\n",
      "    \"U1 칩 (초광대역 위치 인식)\"\n",
      "  ]\n",
      "}\n",
      "```\n",
      "\n",
      "위 JSON 데이터는 아이폰의 기본 정보, 현재 모델 특징, 주요 기능, 그리고 지원하는 기술들에 대해 설명하고 있습니다.\n"
     ]
    }
   ],
   "source": [
    "print(res.content)"
   ]
  },
  {
   "cell_type": "code",
   "execution_count": 84,
   "id": "32d5a6b3",
   "metadata": {},
   "outputs": [
    {
     "name": "stdout",
     "output_type": "stream",
     "text": [
      "<class 'str'> <class 'dict'>\n"
     ]
    }
   ],
   "source": [
    "res_dict = parser.invoke(res)\n",
    "print(type(res.content), type(res_dict))"
   ]
  },
  {
   "cell_type": "code",
   "execution_count": 89,
   "id": "44609605",
   "metadata": {},
   "outputs": [
    {
     "data": {
      "text/plain": [
       "2023"
      ]
     },
     "execution_count": 89,
     "metadata": {},
     "output_type": "execute_result"
    }
   ],
   "source": [
    "res_dict[\"현재모델\"][\"출시연도\"]"
   ]
  },
  {
   "cell_type": "code",
   "execution_count": 90,
   "id": "07e22eed",
   "metadata": {},
   "outputs": [
    {
     "name": "stdout",
     "output_type": "stream",
     "text": [
      "Return a JSON object.\n"
     ]
    }
   ],
   "source": [
    "print(parser.get_format_instructions())\t"
   ]
  },
  {
   "cell_type": "code",
   "execution_count": 107,
   "id": "3678408e",
   "metadata": {},
   "outputs": [
    {
     "name": "stdout",
     "output_type": "stream",
     "text": [
      "The output should be formatted as a JSON instance that conforms to the JSON schema below.\n",
      "\n",
      "As an example, for the schema {\"properties\": {\"foo\": {\"title\": \"Foo\", \"description\": \"a list of strings\", \"type\": \"array\", \"items\": {\"type\": \"string\"}}}, \"required\": [\"foo\"]}\n",
      "the object {\"foo\": [\"bar\", \"baz\"]} is a well-formatted instance of the schema. The object {\"properties\": {\"foo\": [\"bar\", \"baz\"]}} is not well-formatted.\n",
      "\n",
      "Here is the output schema:\n",
      "```\n",
      "{\"properties\": {\"name\": {\"description\": \"제품의 이름\", \"title\": \"Name\", \"type\": \"string\"}, \"info\": {\"description\": \"제품에 대한 정보\", \"title\": \"Info\", \"type\": \"string\"}, \"release_date\": {\"description\": \"제품 출시 일시 yyyy-mm-dd 형식\", \"title\": \"Release Date\", \"type\": \"string\"}, \"price\": {\"description\": \"제품의 한국 가격\", \"title\": \"Price\", \"type\": \"integer\"}}, \"required\": [\"name\", \"info\", \"release_date\", \"price\"]}\n",
      "```\n"
     ]
    }
   ],
   "source": [
    "# 출력 schema(설계도)를 정의\n",
    "## json 형식을 설계\n",
    "from platform import release\n",
    "from pydantic import BaseModel, Field\n",
    "\n",
    "class ItemSchema(BaseModel):\n",
    "    # JSON에 포함될 항목들을 class변수로 정의. \n",
    "\t# 변수명 : type = Field(설명)\n",
    "    name : str = Field(description=\"제품의 이름\")\n",
    "    info : str = Field(description=\"제품에 대한 정보\")\n",
    "    release_date : str = Field(description=\"제품 출시 일시 yyyy-mm-dd 형식\")\n",
    "    price : int = Field(description=\"제품의 한국 가격\")\n",
    "    \n",
    "parser = JsonOutputParser(pydantic_object=ItemSchema)\n",
    "print(parser.get_format_instructions())\t\t# 설명이 추가된 모습."
   ]
  },
  {
   "cell_type": "code",
   "execution_count": 108,
   "id": "29782101",
   "metadata": {},
   "outputs": [],
   "source": [
    "prompt_template = ChatPromptTemplate.from_template(\n",
    "    dedent(\"\"\"\n",
    "\t# instruction\n",
    "\t{name}에 대해서 설명해주세요.\n",
    "           \n",
    "\t# output indicator\n",
    "\t{format_instructions}\n",
    "\t\"\"\"),\n",
    "    partial_variables = {\"format_instructions\" : parser.get_format_instructions()}\n",
    ")\n",
    "\n",
    "model = ChatOpenAI(model_name = \"gpt-4o-mini\")"
   ]
  },
  {
   "cell_type": "code",
   "execution_count": 112,
   "id": "e721f645",
   "metadata": {},
   "outputs": [
    {
     "name": "stdout",
     "output_type": "stream",
     "text": [
      "\n",
      "# instruction\n",
      "갤럭시폰에 대해서 설명해주세요.\n",
      "\n",
      "# output indicator\n",
      "The output should be formatted as a JSON instance that conforms to the JSON schema below.\n",
      "\n",
      "As an example, for the schema {\"properties\": {\"foo\": {\"title\": \"Foo\", \"description\": \"a list of strings\", \"type\": \"array\", \"items\": {\"type\": \"string\"}}}, \"required\": [\"foo\"]}\n",
      "the object {\"foo\": [\"bar\", \"baz\"]} is a well-formatted instance of the schema. The object {\"properties\": {\"foo\": [\"bar\", \"baz\"]}} is not well-formatted.\n",
      "\n",
      "Here is the output schema:\n",
      "```\n",
      "{\"properties\": {\"name\": {\"description\": \"제품의 이름\", \"title\": \"Name\", \"type\": \"string\"}, \"info\": {\"description\": \"제품에 대한 정보\", \"title\": \"Info\", \"type\": \"string\"}, \"release_date\": {\"description\": \"제품 출시 일시 yyyy-mm-dd 형식\", \"title\": \"Release Date\", \"type\": \"string\"}, \"price\": {\"description\": \"제품의 한국 가격\", \"title\": \"Price\", \"type\": \"integer\"}}, \"required\": [\"name\", \"info\", \"release_date\", \"price\"]}\n",
      "```\n",
      "\n"
     ]
    }
   ],
   "source": [
    "p = prompt_template.invoke({\"name\" : \"갤럭시폰\"})\n",
    "print(p.messages[0].content)"
   ]
  },
  {
   "cell_type": "code",
   "execution_count": 149,
   "id": "13d8f6f8",
   "metadata": {},
   "outputs": [
    {
     "name": "stdout",
     "output_type": "stream",
     "text": [
      "<class 'str'> ```json\n",
      "{\n",
      "  \"name\": \"갤럭시 S23\",\n",
      "  \"info\": \"갤럭시 S23는 삼성전자가 출시한 최신 스마트폰으로, 뛰어난 카메라 성능과 고속 프로세서를 특징으로 합니다. 또한, AMOLED 디스플레이와 5G 연결을 지원하여 뛰어난 사용자 경험을 제공합니다.\",\n",
      "  \"release_date\": \"2023-02-17\",\n",
      "  \"price\": 1200000\n",
      "}\n",
      "```\n"
     ]
    },
    {
     "data": {
      "text/plain": [
       "(dict,\n",
       " {'name': '갤럭시 S23',\n",
       "  'info': '갤럭시 S23는 삼성전자가 출시한 최신 스마트폰으로, 뛰어난 카메라 성능과 고속 프로세서를 특징으로 합니다. 또한, AMOLED 디스플레이와 5G 연결을 지원하여 뛰어난 사용자 경험을 제공합니다.',\n",
       "  'release_date': '2023-02-17',\n",
       "  'price': 1200000})"
      ]
     },
     "execution_count": 149,
     "metadata": {},
     "output_type": "execute_result"
    }
   ],
   "source": [
    "res = model.invoke(p)\n",
    "print(type(res.content), res.content)\n",
    "response = parser.invoke(res)\n",
    "type(response), response"
   ]
  },
  {
   "cell_type": "markdown",
   "id": "6c47de9c-f028-45e0-adf7-f31239afaf2f",
   "metadata": {},
   "source": [
    "## PydanticOutputParser\n",
    "\n",
    "- JSON 형태로 받은 응답을 Pydantic 모델로 변환하여 반환한다.\n",
    "- 구현은 JsonOutputParser와 동일한데 parsing 결과를 pydantic 모델타입으로 반환한다."
   ]
  },
  {
   "cell_type": "code",
   "execution_count": null,
   "id": "64121d38",
   "metadata": {},
   "outputs": [
    {
     "ename": "ValidationError",
     "evalue": "1 validation error for PydanticOutputParser\npydantic_object\n  Field required [type=missing, input_value={}, input_type=dict]\n    For further information visit https://errors.pydantic.dev/2.11/v/missing",
     "output_type": "error",
     "traceback": [
      "\u001b[31m---------------------------------------------------------------------------\u001b[39m",
      "\u001b[31mValidationError\u001b[39m                           Traceback (most recent call last)",
      "\u001b[36mCell\u001b[39m\u001b[36m \u001b[39m\u001b[32mIn[153]\u001b[39m\u001b[32m, line 1\u001b[39m\n\u001b[32m----> \u001b[39m\u001b[32m1\u001b[39m parser = \u001b[43mPydanticOutputParser\u001b[49m\u001b[43m(\u001b[49m\u001b[43m)\u001b[49m\n",
      "\u001b[36mFile \u001b[39m\u001b[32mc:\\Users\\Playdata\\miniconda3\\envs\\lang_env\\Lib\\site-packages\\langchain_core\\load\\serializable.py:130\u001b[39m, in \u001b[36mSerializable.__init__\u001b[39m\u001b[34m(self, *args, **kwargs)\u001b[39m\n\u001b[32m    128\u001b[39m \u001b[38;5;28;01mdef\u001b[39;00m\u001b[38;5;250m \u001b[39m\u001b[34m__init__\u001b[39m(\u001b[38;5;28mself\u001b[39m, *args: Any, **kwargs: Any) -> \u001b[38;5;28;01mNone\u001b[39;00m:\n\u001b[32m    129\u001b[39m \u001b[38;5;250m    \u001b[39m\u001b[33;03m\"\"\"\"\"\"\u001b[39;00m  \u001b[38;5;66;03m# noqa: D419\u001b[39;00m\n\u001b[32m--> \u001b[39m\u001b[32m130\u001b[39m     \u001b[38;5;28;43msuper\u001b[39;49m\u001b[43m(\u001b[49m\u001b[43m)\u001b[49m\u001b[43m.\u001b[49m\u001b[34;43m__init__\u001b[39;49m\u001b[43m(\u001b[49m\u001b[43m*\u001b[49m\u001b[43margs\u001b[49m\u001b[43m,\u001b[49m\u001b[43m \u001b[49m\u001b[43m*\u001b[49m\u001b[43m*\u001b[49m\u001b[43mkwargs\u001b[49m\u001b[43m)\u001b[49m\n",
      "\u001b[36mFile \u001b[39m\u001b[32mc:\\Users\\Playdata\\miniconda3\\envs\\lang_env\\Lib\\site-packages\\pydantic\\main.py:253\u001b[39m, in \u001b[36mBaseModel.__init__\u001b[39m\u001b[34m(self, **data)\u001b[39m\n\u001b[32m    251\u001b[39m \u001b[38;5;66;03m# `__tracebackhide__` tells pytest and some other tools to omit this function from tracebacks\u001b[39;00m\n\u001b[32m    252\u001b[39m __tracebackhide__ = \u001b[38;5;28;01mTrue\u001b[39;00m\n\u001b[32m--> \u001b[39m\u001b[32m253\u001b[39m validated_self = \u001b[38;5;28;43mself\u001b[39;49m\u001b[43m.\u001b[49m\u001b[43m__pydantic_validator__\u001b[49m\u001b[43m.\u001b[49m\u001b[43mvalidate_python\u001b[49m\u001b[43m(\u001b[49m\u001b[43mdata\u001b[49m\u001b[43m,\u001b[49m\u001b[43m \u001b[49m\u001b[43mself_instance\u001b[49m\u001b[43m=\u001b[49m\u001b[38;5;28;43mself\u001b[39;49m\u001b[43m)\u001b[49m\n\u001b[32m    254\u001b[39m \u001b[38;5;28;01mif\u001b[39;00m \u001b[38;5;28mself\u001b[39m \u001b[38;5;129;01mis\u001b[39;00m \u001b[38;5;129;01mnot\u001b[39;00m validated_self:\n\u001b[32m    255\u001b[39m     warnings.warn(\n\u001b[32m    256\u001b[39m         \u001b[33m'\u001b[39m\u001b[33mA custom validator is returning a value other than `self`.\u001b[39m\u001b[38;5;130;01m\\n\u001b[39;00m\u001b[33m'\u001b[39m\n\u001b[32m    257\u001b[39m         \u001b[33m\"\u001b[39m\u001b[33mReturning anything other than `self` from a top level model validator isn\u001b[39m\u001b[33m'\u001b[39m\u001b[33mt supported when validating via `__init__`.\u001b[39m\u001b[38;5;130;01m\\n\u001b[39;00m\u001b[33m\"\u001b[39m\n\u001b[32m    258\u001b[39m         \u001b[33m'\u001b[39m\u001b[33mSee the `model_validator` docs (https://docs.pydantic.dev/latest/concepts/validators/#model-validators) for more details.\u001b[39m\u001b[33m'\u001b[39m,\n\u001b[32m    259\u001b[39m         stacklevel=\u001b[32m2\u001b[39m,\n\u001b[32m    260\u001b[39m     )\n",
      "\u001b[31mValidationError\u001b[39m: 1 validation error for PydanticOutputParser\npydantic_object\n  Field required [type=missing, input_value={}, input_type=dict]\n    For further information visit https://errors.pydantic.dev/2.11/v/missing"
     ]
    }
   ],
   "source": [
    "parser = PydanticOutputParser()\n",
    "# 얘는 반드시 pydantic_object를 줘야함, Pydantic model로 parsing해야 하기 때문에 \n",
    "# 어떤 기준의 Pydantic model class로 parsing 할지 알려줘야함."
   ]
  },
  {
   "cell_type": "code",
   "execution_count": 154,
   "id": "4474a71b-61aa-4877-b1ae-8d54cfc51bbe",
   "metadata": {},
   "outputs": [
    {
     "name": "stdout",
     "output_type": "stream",
     "text": [
      "The output should be formatted as a JSON instance that conforms to the JSON schema below.\n",
      "\n",
      "As an example, for the schema {\"properties\": {\"foo\": {\"title\": \"Foo\", \"description\": \"a list of strings\", \"type\": \"array\", \"items\": {\"type\": \"string\"}}}, \"required\": [\"foo\"]}\n",
      "the object {\"foo\": [\"bar\", \"baz\"]} is a well-formatted instance of the schema. The object {\"properties\": {\"foo\": [\"bar\", \"baz\"]}} is not well-formatted.\n",
      "\n",
      "Here is the output schema:\n",
      "```\n",
      "{\"properties\": {\"name\": {\"description\": \"제품의 이름\", \"title\": \"Name\", \"type\": \"string\"}, \"info\": {\"description\": \"제품에 대한 정보\", \"title\": \"Info\", \"type\": \"string\"}, \"release_date\": {\"description\": \"제품 출시 일시 yyyy-mm-dd 형식\", \"title\": \"Release Date\", \"type\": \"string\"}, \"price\": {\"description\": \"제품의 한국 가격\", \"title\": \"Price\", \"type\": \"integer\"}}, \"required\": [\"name\", \"info\", \"release_date\", \"price\"]}\n",
      "```\n"
     ]
    }
   ],
   "source": [
    "from langchain_core.output_parsers import PydanticOutputParser\n",
    "\n",
    "parser = PydanticOutputParser(pydantic_object=ItemSchema)\n",
    "# JsonOUtputParser와 동일한 format instruction을 생성\n",
    "## 응답 : JSON -> Parser => Pydantic Model객체로 변환.\n",
    "print(parser.get_format_instructions())"
   ]
  },
  {
   "cell_type": "code",
   "execution_count": 125,
   "id": "1b95da11-4334-4d01-a33f-b48148659f57",
   "metadata": {},
   "outputs": [],
   "source": [
    "prompt_template = ChatPromptTemplate.from_template(\n",
    "    dedent(\"\"\"\n",
    "\t# instruction\n",
    "\t{name}에 대해서 설명해주세요.\n",
    "           \n",
    "\t# output indicator\n",
    "\t{format_instructions}\n",
    "\t\"\"\"),\n",
    "    partial_variables = {\"format_instructions\" : parser.get_format_instructions()}\n",
    ")\n",
    "\n",
    "model = ChatOpenAI(model_name = \"gpt-4o-mini\")"
   ]
  },
  {
   "cell_type": "code",
   "execution_count": 126,
   "id": "38662eb2-a7c2-473b-bdb0-a5054048458a",
   "metadata": {},
   "outputs": [],
   "source": [
    "prompt = prompt_template.invoke({\"name\" : \"Mac BOok\"})\n",
    "res = model.invoke(prompt)\n",
    "response = parser.invoke(res)"
   ]
  },
  {
   "cell_type": "code",
   "execution_count": 127,
   "id": "e162612c",
   "metadata": {},
   "outputs": [
    {
     "data": {
      "text/plain": [
       "ItemSchema(name='MacBook', info='MacBook은 Apple에서 제조한 노트북 컴퓨터로, 고급스러운 디자인과 안정적인 성능을 자랑합니다. macOS 운영 체제를 사용하며, 다양한 멀티미디어 작업에 최적화되어 있습니다.', release_date='2023-01-24', price=1999000)"
      ]
     },
     "execution_count": 127,
     "metadata": {},
     "output_type": "execute_result"
    }
   ],
   "source": [
    "response"
   ]
  },
  {
   "cell_type": "code",
   "execution_count": 128,
   "id": "f3804381",
   "metadata": {},
   "outputs": [
    {
     "data": {
      "text/plain": [
       "__main__.ItemSchema"
      ]
     },
     "execution_count": 128,
     "metadata": {},
     "output_type": "execute_result"
    }
   ],
   "source": [
    "type(response)"
   ]
  },
  {
   "cell_type": "code",
   "execution_count": 129,
   "id": "f2977085-d5bc-438f-91d4-14227e66761b",
   "metadata": {},
   "outputs": [
    {
     "name": "stdout",
     "output_type": "stream",
     "text": [
      "제품 이름 :  MacBook\n",
      "정보 :  MacBook은 Apple에서 제조한 노트북 컴퓨터로, 고급스러운 디자인과 안정적인 성능을 자랑합니다. macOS 운영 체제를 사용하며, 다양한 멀티미디어 작업에 최적화되어 있습니다.\n",
      "2023-01-24 1999000\n"
     ]
    }
   ],
   "source": [
    "print(\"제품 이름 : \", response.name)\n",
    "print(\"정보 : \", response.info)\n",
    "print(response.release_date, response.price)"
   ]
  },
  {
   "cell_type": "code",
   "execution_count": 131,
   "id": "45aa656a",
   "metadata": {},
   "outputs": [
    {
     "data": {
      "text/plain": [
       "ItemSchema(name='아이폰', info='아이폰은 애플(Apple)에서 개발한 스마트폰으로, iOS 운영 체제를 사용하며 다양한 애플리케이션을 지원합니다. 스타일리시한 디자인과 뛰어난 카메라 성능, 사용자 친화적인 인터페이스로 유명합니다.', release_date='2023-09-22', price=1350000)"
      ]
     },
     "execution_count": 131,
     "metadata": {},
     "output_type": "execute_result"
    }
   ],
   "source": [
    "chain = prompt_template | model | parser\n",
    "\n",
    "response = chain.invoke({\"name\" : \"아이폰\"})\n",
    "response"
   ]
  }
 ],
 "metadata": {
  "kernelspec": {
   "display_name": "lang_env",
   "language": "python",
   "name": "python3"
  },
  "language_info": {
   "codemirror_mode": {
    "name": "ipython",
    "version": 3
   },
   "file_extension": ".py",
   "mimetype": "text/x-python",
   "name": "python",
   "nbconvert_exporter": "python",
   "pygments_lexer": "ipython3",
   "version": "3.12.11"
  }
 },
 "nbformat": 4,
 "nbformat_minor": 5
}
