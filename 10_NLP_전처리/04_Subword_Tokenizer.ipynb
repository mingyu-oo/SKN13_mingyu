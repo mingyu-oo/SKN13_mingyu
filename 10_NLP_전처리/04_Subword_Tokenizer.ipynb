{
 "cells": [
  {
   "cell_type": "markdown",
   "metadata": {},
   "source": [
    "\n",
    "# 형태소 분석 기반 토큰화의 문제\n",
    "- 형태소 분석기는 작성된 알고리즘 또는 학습된 내용을 바탕으로 토큰화를 하기 때문에 오탈자나 띄어쓰기 실수, 신조어, 외래어, 고유어 등이 사용된 경우 제대로 토큰화 하지 못한다.\n",
    "- 그래서 발생 할 수있는 잠재적 문제점\n",
    "    - 어휘사전을 크게 만든다.\n",
    "        - 같은 의미의 단어가 형태소 분석이 안되어 여러개 등록될 수있다.\n",
    "        - ex) 신조어 `돈쭐` 이라는 단어를 인식 못할 경우 `\"돈쭐내러\", \"돈쭐나\", \"돈쭐냄\"` 등이 다 등록 될 수 있다.\n",
    "    - OOV(Out Of Vocab)에 대응하기 어렵게 만든다.\n",
    "        - 같은 어근의 단어가 있지만 조사등이 바뀐 신조어등을 OOV로 인식할 수있다.\n",
    "\n",
    "\n",
    "\n",
    "\n",
    "> ### 어휘 사전(Vocabulary)과 Out Of Vocabulary (OOV)\n",
    "> \n",
    "> - 언어 모델링에서 **어휘 사전(Vocabulary)**은 모델이 처리할 수 있는 단어(토큰)들의 집합이다.  \n",
    "> - 어휘 사전은 보통 전체 데이터셋을 토큰화한 후, 각 토큰을 고유한 정수 인덱스로 매핑해 만든다.\n",
    ">    - 매핑된 정수는 모델에 입력되는 텍스트 데이터를 숫자 형식으로 변환해 모델이 처리할 수 있도록 돕는다.\n",
    ">    - 예시) {\"I\": 1, \"he\": 2, \"you\": 3, ...}\n",
    "> - **Out Of Vocabulary (OOV)**\n",
    ">    - 어휘 사전(Vocab): 코퍼스를 구성하는 모든 토큰의 집합.\n",
    ">    - **OOV**란 어휘 사전에 포함되지 않은 토큰을 의미하며, 모델이 해당 토큰을 처리할 수 없기 때문에 일반적으로 특별한 토큰(예: `[UNK]`)으로 대체되거나 다른 방식으로 처리된다.\n",
    "\n"
   ]
  },
  {
   "cell_type": "markdown",
   "metadata": {},
   "source": [
    "# Subword Tokenization(하위 단어 토큰화)\n",
    "\n",
    "## 정의\n",
    "\n",
    "- Subword Tokenization은 단어를 더 작은 단위(subword)로 나누어 텍스트를 토큰화하는 방식이다.  \n",
    "    - subword는 하나의 단어를 구성하는 단어들을 말한다.(coworker: co, work, er)\n",
    "- 주로 자주 등장하는 단어의 일부를 공통된 토큰으로 만들고, 희귀하거나 복합적인 단어는 작은 조각(subword)으로 나누어 처리한다.\n",
    "- 단어 자체를 그대로 사용하기보다는 단어의 일부를 나누어 처리함으로써 새로운 단어나 미등록 단어(Out-of-Vocabulary) 문제를 줄일 수 있다.\n",
    "\n",
    "## 장점\n",
    "\n",
    "1. **미등록 단어 처리 가능**  \n",
    "   -  새로운 단어(신조어, 속어, 고유어등)가 등장해도 미리 정의된 subword를 조합해서 표현할 수 있어 OOV 문제를 줄일 수 있다.  \n",
    "\n",
    "2. **어휘 크기 축소**  \n",
    "   - 같은 subword를 여러 단어에서 공유함으로써, 완전한 단어를 사용하는 경우보다 어휘집의 크기를 작게 유지할 수 있다.\n",
    "\n",
    "\n",
    "## 종류\n",
    "\n",
    "1. **Byte-Pair Encoding (BPE)**  \n",
    "   - 자주 등장하는 문자 쌍을 반복적으로 병합해 서브워드를 생성하는 방식.\n",
    "   - OpenAI의 GPT 모델에 사용된 토크나이저이다.\n",
    "\n",
    "2. **Unigram**  \n",
    "   - 빈도기반 확률모델에 따라 subword 단위를 선택하는 방식이다.  \n",
    "   - BPE보다 유연하여 더 다양한 분할 결과를 얻을 수 있다.\n",
    "\n",
    "3. **WordPiece**  \n",
    "   - BPE와 유사하지만, 빈도수가 아니라, 가능성이 높은 조합(합쳐질 가능성이 높은 subword)에 기반해 subword들을 찾는다.\n",
    "   - Google의 BERT 모델에 사용된 토크나이저이다."
   ]
  },
  {
   "cell_type": "markdown",
   "metadata": {},
   "source": [
    "# Byte Pair Encoding 방식\n",
    "\n",
    "- 원래 Text data 압축을 위해 만들어진 방법으로 text 에서 많이 등장하는 두글자 쌍의 조합을 찾아 부호화하는 알고리즘이다. \n",
    "- 연속된 글자 쌍이 더 나타나지 않거나 정해진 어휘사전 크기에 도달 할 때 까지 조합을 찾아 부호화 하는 작업을 반복한다.\n",
    "\n",
    "## text 압축 방식의 예\n",
    "- 원문: abracadabra\n",
    "1. AracadAra: ab -> A :=> 원문에서 가장 빈도수 많은 ab를 A(부호로 아무 글자나 사용할 수 있다.)로 치환\n",
    "2. ABcadAB: ra -> B :=> 1에서 가장 빈도수가 많은 ra를 B로 치환\n",
    "3. CcadC: AB -> C :=> 2에서 가장 빈도수 맣은 AB를 C로 치환한다.(치환된 글자 쌍도 변환대상에 포함된다.)\n",
    "\n",
    "## BPE Tokenizer 방식\n",
    "BPE 토크나이저는 자주 등장하는 글자 쌍을 찾아 치환하는 대신 **단어 사전**에 추가한다.\n",
    "\n",
    "### 예)\n",
    "1. 말뭉치의 토큰들의 빈도수, 어휘사전은 아래와 같을 경우\n",
    "    - 빈도사전: ('low', 5), ('lower', 2), ('newest', 6), ('widest', 3)\n",
    "    - 어휘사전: ['low', 'lower', 'newest', 'widest']\n",
    "2. 빈도 사전내의 모든 단어들을 글자 단위로 나눈다. (Pre Tokenization)\n",
    "    - 빈도사전: ('l', 'o', 'w',  5), ('l', 'o', 'w', 'e', 'r', 2), ('n', 'e', 'w', 'e', 's', 't', 6), ('w', 'i', 'd', 'e', 's', 't', 3)\n",
    "    - 어휘사전: ['d', 'e', 'i', 'l', 'n', 'o', 'r', 's', 't', 'w']\n",
    "3. 빈도 사전을 기준으로 가장 자주 등장하는 글자 쌍(byte pair)를 찾는다.  위에서는 **'e'와 's'가 총 9번으로 가장 많이 등장함**. 'e'와 's'를 'es'로 합치고 어휘 사전에 추가한다.\n",
    "    - 빈도사전: ('l', 'o', 'w',  5), ('l', 'o', 'w', 'e', 'r', 2), ('n', 'e', 'w', **'es'**, 't', 6), ('w', 'i', 'd', **'es'**, 't', 3)\n",
    "    - 어휘사전: ['d', 'e', 'i', 'l', 'n', 'o', 'r', 's', 't', 'w', **'es'**]\n",
    "4. 3 번의 과정을 계속 반복한다. 빈도수가 가장 많은 'es'와 't' 쌍을 'est'로 병합하고 'est'를 어휘 사전에 추가한다.\n",
    "    - 빈도사전: ('l', 'o', 'w',  5), ('l', 'o', 'w', 'e', 'r', 2), ('n', 'e', 'w', **'est'**, 6), ('w', 'i', 'd', **'est'**, 3)\n",
    "    - 어휘사전: ['d', 'e', 'i', 'l', 'n', 'o', 'r', 's', 't', 'w', **'es'**, **'est'**]\n",
    "5. 만약 10번 반복했다고 하면 다음과 같은 빈도 사전과 어휘 사전이 생성된다.\n",
    "    - 빈도 사전: (**'low'**, 5), (**'low'**, 'e', 'r', 2), ('n', 'e', 'w', **'est'**, 6), ('w', 'i', 'd', **'est'**, 3)\n",
    "    - 어휘사전: ['d', 'e', 'i', 'l', 'n', 'o', 'r', 's', 't', 'w', **'es'**, **'est'**, **'lo'**,**'low'**, **'low'**, **'ne'**, **'new'**, **'newest'**, **'wi'**, **'wid'**, **'widest'**]\n",
    "\n",
    "- 위와 같이 어휘 사전이 만들어 지면 원래 어휘서전에 없던 것들에 대한 처리를 할 수있다.\n",
    "    - ex)\n",
    "        - 'newer' :=> 'new', 'e', 'r', \n",
    "        - 'lowest' :=> 'low', 'est'\n",
    "        - 'wider' :=> 'wid', 'e', 'r'"
   ]
  },
  {
   "cell_type": "markdown",
   "metadata": {},
   "source": [
    "# WordPiece tokenizer\n",
    "\n",
    "- Byte Pair Encoding 이 빈도 기반이라면 wordpiece tokenizer는 확률 기반으로 글자 쌍을 병합한다.\n",
    "- **두개 글자 쌍의 빈도수**를 **각 개별 글자 빈도수의 곱**으로 나눈 점수가 가장 높은 순서대로 글자쌍을 묶어 나간다.\n",
    "\n",
    "$$\n",
    "score = \\cfrac{f(x, y)}{f(x)\\cdot f(y)} \n",
    "$$\n",
    "\n",
    "함수 f는 빈도를 나타내며 x, y는 병합하려는 하위 단어이다.\n",
    "\n",
    "- 빈도사전: ('l','o','w', 5), ('l','o','w', 'e', 'r', 2), ('n', 'e', 'w', 'e', 's', 't', 6), ('w', 'i', 'd', 'e', 's', 't', 3)\n",
    "- 어휘사전: ('d', 'e', 'i', 'l', 'n', 'o', 'r', 's', 't', 'w')\n",
    "- 가장 빈도수가 높은 쌍은 'e','s'로 9번 등장한다. 이때 각 글자는 전체에서 각각 'e'는 17번, 's'는 9번 등장한다. 위 공식에 대입하면 score는 $\\frac{9}{17 \\times 9} \\approx 0.06$ 이다.\n",
    "- 'i'와 'd' 쌍은 3번만 등장하지만 전체에서 각각 'i' 3번, 'd' 3번 등장한다. 그래서 score는 $\\frac{3}{3 \\times 3} \\approx 0.33$ 이다.\n",
    "- 나타난 빈도수는 'es' 가 많치만 더 높은 score를 가지는 'id' 쌍을 병합한다.\n",
    "- 빈도사전: ('l','o','w', 5), ('l','o','w', 'e', 'r', 2), ('n', 'e', 'w', 'e', 's', 't', 6), ('w', **'id'**, 'e', 's', 't', 3)\n",
    "- 어휘사전: ('d', 'e', 'i', 'l', 'n', 'o', 'r', 's', 't', 'w', **'id'**)\n",
    "위의 작업을 반복해 연속된 글자 쌍이 더이상 나타나지 않거나 어휘 사전 max 크기에 도달할 때 까지 학습한다."
   ]
  },
  {
   "cell_type": "markdown",
   "metadata": {},
   "source": [
    "# Unigram 방식\n",
    "- 빈도 기반 확률 모델을 사용하여 효율적으로 서브워드를 선택하고, 불필요한 서브워드를 제거해 최적의 어휘 크기를 찾는 알고리즘\n",
    "\n",
    "\n",
    "- **초기 어휘 집합 구성**\n",
    "    - 대상 text에 모든 단어와 그 서브스트링을 포함한 어휘 집합을 생성한다. 이 어휘 집합은 나올 수있는 모든 subword들을 다 모아놓은 것이다. \n",
    "    - 예를 들어 \"hug\" 단어의  [\"h\", \"u\", \"g\", \"hu\", \"ug\", \"hug\"]  substring을 만든다. 이들이 subword 후보가 된다.\n",
    "- **각 Subword의 빈도수 기반 확률 계산**\n",
    "    -  $\\cfrac{subword가\\;나타난\\;횟수}{전체\\;빈도수}$ 로 각 subword들의 나타난 확률을 계산한다.\n",
    "- **가능한 분할에 대한 확률 계산**\n",
    "    - 단어를 여러 서브워드로 분할할 수 있는 경우, 각 분할에 대한 전체 확률을 계산한다.\n",
    "    - 확률 계산은 $ P(subword1)\\;\\times \\; P(subword2)\\;\\times\\; ..$ 으로 계산한다.\n",
    "    - 예를 들어 \"hug\" 를 분할 한다고 했을 때\n",
    "        1. \\[\"h\", \"u\", \"g\"\\]: $ P(h) \\times P(u) \\times P(g) $\n",
    "        2. \\[\"hu\", \"g\"\\]: $ P(pu) \\times P(g) $\n",
    "\n",
    "   - 각각의 확률을 계산한 후, **가장 높은 확률**을 가진 분할을 선택한다.\n",
    "     - 위 예에서 만약 1의 확률이 0.01 이고 2의 확률이 0.00001 이라면 첫번째 분할이 선택된다.\n",
    "\n",
    "- **서브워드 제거**\n",
    "    - 위의 훈견과정에서 불필요한 서브워드를 제거하면서 최적의 어휘 집합을 찾아간다. \n",
    "    - 제거 대상은 빈도수가 낮거나 조합에 크게 영향을 주지 않은 subword들이다."
   ]
  },
  {
   "cell_type": "code",
   "execution_count": 1,
   "metadata": {},
   "outputs": [
    {
     "name": "stdout",
     "output_type": "stream",
     "text": [
      "Requirement already satisfied: korpora in c:\\users\\playdata\\miniconda3\\envs\\dl\\lib\\site-packages (0.2.0)\n",
      "Requirement already satisfied: tokenizers in c:\\users\\playdata\\miniconda3\\envs\\dl\\lib\\site-packages (0.21.1)\n",
      "Requirement already satisfied: dataclasses>=0.6 in c:\\users\\playdata\\miniconda3\\envs\\dl\\lib\\site-packages (from korpora) (0.6)\n",
      "Requirement already satisfied: numpy>=1.18.0 in c:\\users\\playdata\\miniconda3\\envs\\dl\\lib\\site-packages (from korpora) (2.2.5)\n",
      "Requirement already satisfied: tqdm>=4.46.0 in c:\\users\\playdata\\miniconda3\\envs\\dl\\lib\\site-packages (from korpora) (4.67.1)\n",
      "Requirement already satisfied: requests>=2.20.0 in c:\\users\\playdata\\miniconda3\\envs\\dl\\lib\\site-packages (from korpora) (2.32.3)\n",
      "Requirement already satisfied: xlrd>=1.2.0 in c:\\users\\playdata\\miniconda3\\envs\\dl\\lib\\site-packages (from korpora) (2.0.1)\n",
      "Requirement already satisfied: huggingface-hub<1.0,>=0.16.4 in c:\\users\\playdata\\miniconda3\\envs\\dl\\lib\\site-packages (from tokenizers) (0.31.4)\n",
      "Requirement already satisfied: filelock in c:\\users\\playdata\\miniconda3\\envs\\dl\\lib\\site-packages (from huggingface-hub<1.0,>=0.16.4->tokenizers) (3.18.0)\n",
      "Requirement already satisfied: fsspec>=2023.5.0 in c:\\users\\playdata\\miniconda3\\envs\\dl\\lib\\site-packages (from huggingface-hub<1.0,>=0.16.4->tokenizers) (2025.3.2)\n",
      "Requirement already satisfied: packaging>=20.9 in c:\\users\\playdata\\miniconda3\\envs\\dl\\lib\\site-packages (from huggingface-hub<1.0,>=0.16.4->tokenizers) (25.0)\n",
      "Requirement already satisfied: pyyaml>=5.1 in c:\\users\\playdata\\miniconda3\\envs\\dl\\lib\\site-packages (from huggingface-hub<1.0,>=0.16.4->tokenizers) (6.0.2)\n",
      "Requirement already satisfied: typing-extensions>=3.7.4.3 in c:\\users\\playdata\\miniconda3\\envs\\dl\\lib\\site-packages (from huggingface-hub<1.0,>=0.16.4->tokenizers) (4.13.2)\n",
      "Requirement already satisfied: charset-normalizer<4,>=2 in c:\\users\\playdata\\miniconda3\\envs\\dl\\lib\\site-packages (from requests>=2.20.0->korpora) (3.4.1)\n",
      "Requirement already satisfied: idna<4,>=2.5 in c:\\users\\playdata\\miniconda3\\envs\\dl\\lib\\site-packages (from requests>=2.20.0->korpora) (3.10)\n",
      "Requirement already satisfied: urllib3<3,>=1.21.1 in c:\\users\\playdata\\miniconda3\\envs\\dl\\lib\\site-packages (from requests>=2.20.0->korpora) (2.4.0)\n",
      "Requirement already satisfied: certifi>=2017.4.17 in c:\\users\\playdata\\miniconda3\\envs\\dl\\lib\\site-packages (from requests>=2.20.0->korpora) (2025.4.26)\n",
      "Requirement already satisfied: colorama in c:\\users\\playdata\\miniconda3\\envs\\dl\\lib\\site-packages (from tqdm>=4.46.0->korpora) (0.4.6)\n"
     ]
    }
   ],
   "source": [
    "!pip install korpora tokenizers"
   ]
  },
  {
   "cell_type": "code",
   "execution_count": 2,
   "metadata": {},
   "outputs": [
    {
     "name": "stdout",
     "output_type": "stream",
     "text": [
      "\n",
      "    Korpora 는 다른 분들이 연구 목적으로 공유해주신 말뭉치들을\n",
      "    손쉽게 다운로드, 사용할 수 있는 기능만을 제공합니다.\n",
      "\n",
      "    말뭉치들을 공유해 주신 분들에게 감사드리며, 각 말뭉치 별 설명과 라이센스를 공유 드립니다.\n",
      "    해당 말뭉치에 대해 자세히 알고 싶으신 분은 아래의 description 을 참고,\n",
      "    해당 말뭉치를 연구/상용의 목적으로 이용하실 때에는 아래의 라이센스를 참고해 주시기 바랍니다.\n",
      "\n",
      "    # Description\n",
      "    Author : Hyunjoong Kim lovit@github\n",
      "    Repository : https://github.com/lovit/petitions_archive\n",
      "    References :\n",
      "\n",
      "    청와대 국민청원 게시판의 데이터를 월별로 수집한 것입니다.\n",
      "    청원은 게시판에 글을 올린 뒤, 한달 간 청원이 진행됩니다.\n",
      "    수집되는 데이터는 청원종료가 된 이후의 데이터이며, 청원 내 댓글은 수집되지 않습니다.\n",
      "    단 청원의 동의 개수는 수집됩니다.\n",
      "    자세한 내용은 위의 repository를 참고하세요.\n",
      "\n",
      "    # License\n",
      "    CC0 1.0 Universal (CC0 1.0) Public Domain Dedication\n",
      "    Details in https://creativecommons.org/publicdomain/zero/1.0/\n",
      "\n",
      "[Korpora] Corpus `korean_petitions` is already installed at C:\\Users\\Playdata\\Korpora\\korean_petitions\\petitions_2017-08\n",
      "[Korpora] Corpus `korean_petitions` is already installed at C:\\Users\\Playdata\\Korpora\\korean_petitions\\petitions_2017-09\n",
      "[Korpora] Corpus `korean_petitions` is already installed at C:\\Users\\Playdata\\Korpora\\korean_petitions\\petitions_2017-10\n",
      "[Korpora] Corpus `korean_petitions` is already installed at C:\\Users\\Playdata\\Korpora\\korean_petitions\\petitions_2017-11\n",
      "[Korpora] Corpus `korean_petitions` is already installed at C:\\Users\\Playdata\\Korpora\\korean_petitions\\petitions_2017-12\n",
      "[Korpora] Corpus `korean_petitions` is already installed at C:\\Users\\Playdata\\Korpora\\korean_petitions\\petitions_2018-01\n",
      "[Korpora] Corpus `korean_petitions` is already installed at C:\\Users\\Playdata\\Korpora\\korean_petitions\\petitions_2018-02\n",
      "[Korpora] Corpus `korean_petitions` is already installed at C:\\Users\\Playdata\\Korpora\\korean_petitions\\petitions_2018-03\n",
      "[Korpora] Corpus `korean_petitions` is already installed at C:\\Users\\Playdata\\Korpora\\korean_petitions\\petitions_2018-04\n",
      "[Korpora] Corpus `korean_petitions` is already installed at C:\\Users\\Playdata\\Korpora\\korean_petitions\\petitions_2018-05\n",
      "[Korpora] Corpus `korean_petitions` is already installed at C:\\Users\\Playdata\\Korpora\\korean_petitions\\petitions_2018-06\n",
      "[Korpora] Corpus `korean_petitions` is already installed at C:\\Users\\Playdata\\Korpora\\korean_petitions\\petitions_2018-07\n",
      "[Korpora] Corpus `korean_petitions` is already installed at C:\\Users\\Playdata\\Korpora\\korean_petitions\\petitions_2018-08\n",
      "[Korpora] Corpus `korean_petitions` is already installed at C:\\Users\\Playdata\\Korpora\\korean_petitions\\petitions_2018-09\n",
      "[Korpora] Corpus `korean_petitions` is already installed at C:\\Users\\Playdata\\Korpora\\korean_petitions\\petitions_2018-10\n",
      "[Korpora] Corpus `korean_petitions` is already installed at C:\\Users\\Playdata\\Korpora\\korean_petitions\\petitions_2018-11\n",
      "[Korpora] Corpus `korean_petitions` is already installed at C:\\Users\\Playdata\\Korpora\\korean_petitions\\petitions_2018-12\n",
      "[Korpora] Corpus `korean_petitions` is already installed at C:\\Users\\Playdata\\Korpora\\korean_petitions\\petitions_2019-01\n",
      "[Korpora] Corpus `korean_petitions` is already installed at C:\\Users\\Playdata\\Korpora\\korean_petitions\\petitions_2019-02\n",
      "[Korpora] Corpus `korean_petitions` is already installed at C:\\Users\\Playdata\\Korpora\\korean_petitions\\petitions_2019-03\n"
     ]
    }
   ],
   "source": [
    "from Korpora import Korpora\n",
    "corpus = Korpora.load(\"korean_petitions\")"
   ]
  },
  {
   "cell_type": "code",
   "execution_count": 3,
   "metadata": {},
   "outputs": [
    {
     "data": {
      "text/plain": [
       "433631"
      ]
     },
     "execution_count": 3,
     "metadata": {},
     "output_type": "execute_result"
    }
   ],
   "source": [
    "petitions = corpus.get_all_texts()\n",
    "len(petitions)"
   ]
  },
  {
   "cell_type": "code",
   "execution_count": 4,
   "metadata": {},
   "outputs": [
    {
     "name": "stdout",
     "output_type": "stream",
     "text": [
      "안녕하세요. 현재 사대, 교대 등 교원양성학교들의 예비교사들이 임용절벽에 매우 힘들어 하고 있는 줄로 압니다. 정부 부처에서는 영양사의 영양'교사'화, 폭발적인 영양'교사' 채용, 기간제 교사, 영전강, 스강의 무기계약직화가 그들의 임용 절벽과는 전혀 무관한 일이라고 주장하고 있지만 조금만 생각해보면 전혀 설득력 없는 말이라고 생각합니다. 학교 수가 같고, 학생 수가 동일한데 영양교사와 기간제 교사, 영전강 스강이 학교에 늘어나게 되면 당연히 정규 교원의 수는 줄어들게 되지 않겠습니까? 기간제 교사, 영전강, 스강의 무기계약직화, 정규직화 꼭 전면 백지화해주십시오. 백년대계인 국가의 교육에 달린 문제입니다. 단순히 대통령님의 일자리 공약, 81만개 일자리 창출 공약을 지키시고자 돌이킬 수 없는 실수는 하지 않으시길 바랍니다. 세계 어느 나라와 비교해도, 한국 교원의 수준과 질은 최고 수준입니다. 고등교육을 받고 어려운 국가 고시를 통과해야만 대한민국 공립 학교의 교단에 설 수 있고, 이러한 과정이 힘들기는 하지만 교원들이 교육자로서의 사명감과 자부심을 갖고 교육하게 되는 원동력이기도 합니다. 자격도 없는 비정규 인력들을 일자리 늘리기 명목 하에 학교로 들이게 되면, 그들이 무슨 낯으로 대한민국이 '공정한 사회' 라고 아이들에게 가르칠 수 있겠습니까? 그들이 가르치는 것을 학부모와 학생들이 납득할 수 있겠으며, 학생들은 공부를 열심히 해야하는 이유를 찾을 수나 있겠습니까? 열심히 안 해도 떼 쓰면 되는 세상이라고 생각하지 않겠습니까? 영양사의 영양교사화도 재고해주십시오. 영양사분들 정말 너무나 고마운 분들입니다. 학생들의 건강과 영양? 당연히 성장기에 있는 아이들에게 필수적이고 중요한 문제입니다. 하지만 이들이 왜 교사입니까. 유래를 찾아 볼 수 없는 영양사의 '교사'화. 정말 대통령님이 생각하신 아이디어라고 믿기 싫을 정도로 납득하기 어렵습니다. 중등은 실과교과 교사가 존재하지요? 초등 역시 임용 시험에 실과가 포함돼 있으며 학교 현장에서도 정규 교원이 직접 실과 과목을 학생들에게 가르칩니다. 영양'교사', 아니 영양사가 학생들에게 실과를 가르치지 않습니다. 아니 그 어떤 것도 가르치지 않습니다. 올해 대통령님 취임 후에 초등, 중등 임용 티오가 초전박살 나는 동안 영양'교사' 티오는 폭발적으로 확대된 줄로 압니다. 학생들의 교육을 위해 정말 교원의 수를 줄이고, 영양 교사의 수를 늘리는 것이 올바른 해답인지 묻고 싶습니다. 마지막으로 교원 당 학생 수. 이 통계도 제대로 내주시기 바랍니다. 다른 나라들은 '정규 교원', 즉 담임이나 교과 교사들로만 통계를 내는데(너무나 당연한 것이지요) 왜 한국은 보건, 영양, 기간제, 영전강, 스강 까지 다 포함해서 교원 수 통계를 내는건가요? 이런 통계의 장난을 통해 OECD 평균 교원 당 학생 수와 거의 비슷한 수준에 이르렀다고 주장하시는건가요? 학교는 교육의 장이고 학생들의 공간이지, 인력 센터가 아닙니다. 부탁드립니다. 부디 넓은 안목으로 멀리 내다봐주시길 간곡히 부탁드립니다.\n"
     ]
    }
   ],
   "source": [
    "print(petitions[0])"
   ]
  },
  {
   "cell_type": "code",
   "execution_count": 5,
   "metadata": {},
   "outputs": [],
   "source": [
    "# 파일로 저장\n",
    "save_petitions_path = \"./data/petitions_corpus.txt\"\n",
    "with open(save_petitions_path, \"wt\", encoding=\"utf-8\") as fw:\n",
    "\tfor p in petitions:\n",
    "\t\tfw.write(p+\"\\n\")"
   ]
  },
  {
   "cell_type": "code",
   "execution_count": 7,
   "metadata": {},
   "outputs": [],
   "source": [
    "# 저장된 txt 읽기\n",
    "with open(save_petitions_path, \"rt\", encoding=\"utf-8\") as fr:\n",
    "\tpetitions_txt = fr.read()"
   ]
  },
  {
   "cell_type": "code",
   "execution_count": null,
   "metadata": {},
   "outputs": [],
   "source": [
    "petitions_txt"
   ]
  },
  {
   "cell_type": "markdown",
   "metadata": {},
   "source": [
    "> ### korpora 말뭉치\n",
    "> - 다양한 한글 데이터셋을 제공하는 패키지\n",
    "> - `pip install korpora`"
   ]
  },
  {
   "cell_type": "markdown",
   "metadata": {},
   "source": [
    "## Hugging Face tokenizers 패키지이용\n",
    "\n",
    "- 설치: `pip install tokenizers`\n",
    "- Tokenizer 생성\n",
    "    - 토큰화 알고리즘을 지정해 instance 생성.\n",
    "- Trainer 생성\n",
    "    - 학습 파라미터를 설정해서 instance 생성\n",
    "- Tokenizer 학습\n",
    "    - train() 메소드: 학습 text 파일 경로를 지정해서 학습\n",
    "    - train_from_iterator() 메소드: 학습할 string들을 iterator를 통해 제공.\n",
    "- https://github.com/huggingface/tokenizers\n",
    "\n"
   ]
  },
  {
   "cell_type": "code",
   "execution_count": null,
   "metadata": {},
   "outputs": [],
   "source": [
    "import time\n",
    "# Tokenizer\n",
    "from tokenizers import Tokenizer\n",
    "from tokenizers.models import BPE\n",
    "# subword 알고리즘을 적용하기 전에 어떻게 나눠놓을 것인지.\n",
    "from tokenizers.pre_tokenizers import Whitespace\n",
    "# Trainer (학습)\n",
    "from tokenizers.trainers import BpeTrainer\n",
    "\n",
    "# tokenizer 생성\n",
    "## subword 알고리즘을 구현한 tokenizer의 객체를 넣어 생성 (BPE)\n",
    "### unk_token : OOV(Unknown) 토큰을 처리할 토큰을 지정.\n",
    "tokenizer = Tokenizer(BPE(unk_token='[UNK]'))\n",
    "# pre tokenizer를 등록\n",
    "tokenizer.pre_tokenizer = Whitespace()\t# 공백을 기준으로 미리 tokenize 해놓음\n",
    "\n",
    "# toknizer를 학습하는 trainer 객체 -> toeknizer 알고리즘 별로 trainer 클래스가 제공됨.\n",
    "# initializer에 어떻게 학습시킬 지 설정\n",
    "trainer = BpeTrainer(\n",
    "\tvocab_size = 10000,\t\t# 어휘사전의 최대크기\n",
    "\tmin_frequency = 10,\t\t# 사전에 넣을 토큰의 최소 출현 개수(빈도수)\n",
    "\tspecial_tokens = [\"[UNK]\", \"[PAD]\"],\n",
    "\t# 어휘사전에 추가할 특수(목적)token(Special token)들 지정, 이중 unk_token은 반드시 설정해야함\n",
    "\tcontinuing_subword_prefix = \"##\"\n",
    "\t\n",
    ")\n",
    "\n",
    "# special token :\t[UNK] - oov 토큰을 표시,\n",
    "# \t\t\t\t\t[PAD] - 문장의 token수를 맞추기 위한 padding(채우는 token1)\n",
    "#\t\t\t\t\t[CLS] - 문서의 시작을 표시 ( 전체 문장의 의미를 저장하는 토큰을 사용(BERT))\n",
    "#\t\t\t\t\t[SOS] - 문서의 시작\n",
    "#\t\t\t\t\t[EOS] - 문서의 끝\n",
    "#\t\t\t\t\t[SEP] - 문서가 여러 문장으로 구성된 경우, 문장 구분\n",
    "#\t\t\t\t\t[MASK] - 일부 토큰을 가리는 토큰"
   ]
  },
  {
   "cell_type": "code",
   "execution_count": 42,
   "metadata": {},
   "outputs": [
    {
     "name": "stdout",
     "output_type": "stream",
     "text": [
      "time :  69.67413973808289 초\n"
     ]
    }
   ],
   "source": [
    "# train : corpus를 받아서 어휘사전을 만드는 작업\n",
    "s = time.time()\n",
    "tokenizer.train([\"data/petitions_corpus.txt\"], trainer=trainer)\t\t# 학습시킬 파일 경로(들), train 객체\n",
    "e = time.time()\n",
    "print(\"time : \", (e-s), \"초\")"
   ]
  },
  {
   "cell_type": "code",
   "execution_count": 43,
   "metadata": {},
   "outputs": [],
   "source": [
    "# 학습 된 tokenizer를 disk에 저장.\n",
    "import os\n",
    "os.makedirs(\"saved_models\", exist_ok=True)\n",
    "\n",
    "# save - tokenizer.save(경로)\n",
    "save_path = \"saved_models/petitions_bpe.json\"\n",
    "tokenizer.save(save_path)"
   ]
  },
  {
   "cell_type": "code",
   "execution_count": 49,
   "metadata": {},
   "outputs": [],
   "source": [
    "# 저장된 model load\n",
    "load_tokenizer = Tokenizer.from_file(save_path)"
   ]
  },
  {
   "cell_type": "code",
   "execution_count": 50,
   "metadata": {},
   "outputs": [
    {
     "data": {
      "text/plain": [
       "Tokenizer(version=\"1.0\", truncation=None, padding=None, added_tokens=[{\"id\":0, \"content\":\"[UNK]\", \"single_word\":False, \"lstrip\":False, \"rstrip\":False, \"normalized\":False, \"special\":True}, {\"id\":1, \"content\":\"[PAD]\", \"single_word\":False, \"lstrip\":False, \"rstrip\":False, \"normalized\":False, \"special\":True}], normalizer=None, pre_tokenizer=Whitespace(), post_processor=None, decoder=None, model=BPE(dropout=None, unk_token=\"[UNK]\", continuing_subword_prefix=None, end_of_word_suffix=None, fuse_unk=False, byte_fallback=False, ignore_merges=False, vocab={\"[UNK]\":0, \"[PAD]\":1, \"!\":2, \"\"\":3, \"#\":4, \"$\":5, \"%\":6, \"&\":7, \"'\":8, \"(\":9, \")\":10, \"*\":11, \"+\":12, \",\":13, \"-\":14, \".\":15, \"/\":16, \"0\":17, \"1\":18, \"2\":19, \"3\":20, \"4\":21, \"5\":22, \"6\":23, \"7\":24, \"8\":25, \"9\":26, \":\":27, \";\":28, \"<\":29, \"=\":30, \">\":31, \"?\":32, \"@\":33, \"A\":34, \"B\":35, \"C\":36, \"D\":37, \"E\":38, \"F\":39, \"G\":40, \"H\":41, \"I\":42, \"J\":43, \"K\":44, \"L\":45, \"M\":46, \"N\":47, \"O\":48, \"P\":49, \"Q\":50, \"R\":51, \"S\":52, \"T\":53, \"U\":54, \"V\":55, \"W\":56, \"X\":57, \"Y\":58, \"Z\":59, \"[\":60, \"\\\":61, \"]\":62, \"^\":63, \"_\":64, \"`\":65, \"a\":66, \"b\":67, \"c\":68, \"d\":69, \"e\":70, \"f\":71, \"g\":72, \"h\":73, \"i\":74, \"j\":75, \"k\":76, \"l\":77, \"m\":78, \"n\":79, \"o\":80, \"p\":81, \"q\":82, \"r\":83, \"s\":84, \"t\":85, \"u\":86, \"v\":87, \"w\":88, \"x\":89, \"y\":90, \"z\":91, \"{\":92, \"|\":93, \"}\":94, \"~\":95, \"\":96, \"¡\":97, \"£\":98, ...}, merges=[(\"니\", \"다\"), (\"습\", \"니다\"), (\"으\", \"로\"), (\".\", \".\"), (\"하\", \"는\"), (\"하\", \"고\"), (\"에\", \"서\"), (\"합\", \"니다\"), (\"입\", \"니다\"), (\"a\", \"s\"), (\"d\", \"f\"), (\"as\", \"df\"), (\"asdf\", \"asdf\"), (\"국\", \"민\"), (\"들\", \"이\"), (\"있\", \"는\"), (\"다\", \"고\"), (\"사\", \"람\"), (\"하\", \"지\"), (\"하\", \"여\"), (\"대\", \"한\"), (\"있\", \"습니다\"), (\"생\", \"각\"), (\"에\", \"게\"), (\"이\", \"라\"), (\"다\", \"는\"), (\"해\", \"서\"), (\"니\", \"까\"), (\"-\", \"-\"), (\"나\", \"라\"), (\"들\", \"은\"), (\"하\", \"게\"), (\"세\", \"요\"), (\"2\", \"0\"), (\"우\", \"리\"), (\"것\", \"이\"), (\"asdfasdf\", \"asdfasdf\"), (\"정\", \"부\"), (\"까\", \"지\"), (\"들\", \"의\"), (\"하\", \"면\"), (\"해\", \"야\"), (\"아\", \"니\"), (\"지\", \"만\"), (\"..\", \".\"), (\"들\", \"어\"), (\"는\", \"데\"), (\"리\", \"고\"), (\"0\", \"0\"), (\"적\", \"으로\"), (\"대\", \"통\"), (\"해\", \"주\"), (\"대통\", \"령\"), (\"문\", \"제\"), (\"!\", \"!\"), (\"지\", \"금\"), (\"라\", \"고\"), (\"으\", \"면\"), (\"적\", \"인\"), (\"들\", \"을\"), (\"국\", \"가\"), (\"되\", \"어\"), (\"민\", \"국\"), (\"대한\", \"민국\"), (\"없\", \"는\"), (\"되\", \"는\"), (\"이\", \"런\"), (\"아\", \"이\"), (\"시\", \"간\"), (\"한\", \"다\"), (\"청\", \"원\"), (\"대\", \"로\"), (\"피\", \"해\"), (\"너\", \"무\"), (\"부\", \"터\"), (\"같\", \"은\"), (\"었\", \"습니다\"), (\"많\", \"은\"), (\"저\", \"는\"), (\"이\", \"상\"), (\"도\", \"록\"), (\"때\", \"문\"), (\"--\", \"--\"), (\"경\", \"찰\"), (\"20\", \"1\"), (\"그\", \"런\"), (\"라\", \"는\"), (\"학\", \"교\"), (\"공\", \"무\"), (\"그\", \"리고\"), (\"이\", \"나\"), (\"하\", \"였\"), (\"사\", \"회\"), (\"것\", \"은\"), (\"위\", \"해\"), (\"것\", \"입니다\"), (\"공무\", \"원\"), (\"하\", \"기\"), (\"범\", \"죄\"), ...]))"
      ]
     },
     "execution_count": 50,
     "metadata": {},
     "output_type": "execute_result"
    }
   ],
   "source": [
    "load_tokenizer"
   ]
  },
  {
   "cell_type": "code",
   "execution_count": 55,
   "metadata": {},
   "outputs": [
    {
     "name": "stdout",
     "output_type": "stream",
     "text": [
      "vocab size(어휘사전에 어휘수) :  10000\n"
     ]
    }
   ],
   "source": [
    "# vocab size 확인\n",
    "print(\"vocab size(어휘사전에 어휘수) : \", tokenizer.get_vocab_size() )"
   ]
  },
  {
   "cell_type": "code",
   "execution_count": 56,
   "metadata": {},
   "outputs": [
    {
     "data": {
      "text/plain": [
       "{'빤': 5577,\n",
       " '즘': 6622,\n",
       " '좔': 6548,\n",
       " '콘': 7036,\n",
       " '蠅': 3259,\n",
       " 'ᅢ': 396,\n",
       " '할': 7427,\n",
       " 'ㅈ': 1074,\n",
       " '대부분': 8758,\n",
       " '더욱': 8838,\n",
       " '증가': 9659,\n",
       " '￦': 7925,\n",
       " '시켜': 8509,\n",
       " '佃': 1275,\n",
       " '도와주세요': 9943,\n",
       " '훙': 7596,\n",
       " '댓글': 9536,\n",
       " '孙': 1786,\n",
       " '꿈': 4279,\n",
       " '혬': 7529,\n",
       " '횅': 7569,\n",
       " '⇌': 545,\n",
       " '톔': 7184,\n",
       " '찣': 6789,\n",
       " '읽': 6405,\n",
       " '편': 7325,\n",
       " '전쟁': 9308,\n",
       " '状': 2714,\n",
       " '蹂': 3489,\n",
       " '톅': 7182,\n",
       " '算': 2981,\n",
       " '🔉': 8061,\n",
       " 'θ': 219,\n",
       " '柱': 2384,\n",
       " '載': 3502,\n",
       " '睦': 2856,\n",
       " '챯': 6826,\n",
       " '副': 1452,\n",
       " '좋은': 8531,\n",
       " '돌': 4664,\n",
       " '심각한': 9826,\n",
       " '童': 2958,\n",
       " '쭟': 6757,\n",
       " '积': 2927,\n",
       " '떫': 4829,\n",
       " '県': 2847,\n",
       " '🕺': 8086,\n",
       " '僥': 1359,\n",
       " '₩': 502,\n",
       " '진정': 9410,\n",
       " 'づ': 930,\n",
       " '처분': 9800,\n",
       " '孀': 1780,\n",
       " '옂': 6198,\n",
       " '👇': 8009,\n",
       " '쿳': 7070,\n",
       " '뚨': 4894,\n",
       " '넴': 4424,\n",
       " '오늘': 8881,\n",
       " '９': 7878,\n",
       " '냠': 4383,\n",
       " '→': 531,\n",
       " '겟': 3984,\n",
       " '햄': 7454,\n",
       " '⚈': 773,\n",
       " '국회': 8355,\n",
       " '개인': 8414,\n",
       " '뗗': 4849,\n",
       " '국가': 8264,\n",
       " '~~~~': 9954,\n",
       " '고민': 9963,\n",
       " '句': 1553,\n",
       " '대로': 8275,\n",
       " '뭌': 5291,\n",
       " '킹': 7112,\n",
       " '뜷': 4917,\n",
       " '뽱': 5657,\n",
       " '샴': 5737,\n",
       " '캡': 6983,\n",
       " '到': 1438,\n",
       " '極': 2422,\n",
       " '화가': 8980,\n",
       " '쿯': 7067,\n",
       " '갶': 3937,\n",
       " '훡': 7599,\n",
       " '넁': 4393,\n",
       " '정치인': 9667,\n",
       " '🐙': 7995,\n",
       " '찾아': 9038,\n",
       " '호': 7533,\n",
       " '著': 3209,\n",
       " '벤': 5426,\n",
       " '키': 7104,\n",
       " '癌': 2814,\n",
       " '彿': 2006,\n",
       " '韻': 3773,\n",
       " '11': 8598,\n",
       " 'ь': 264,\n",
       " '멍': 5201,\n",
       " '쁘': 5677,\n",
       " '섵': 5765,\n",
       " '황': 7561,\n",
       " '\\U000f02b1': 8185,\n",
       " '쳦': 6870,\n",
       " '당연히': 9337,\n",
       " '국가에서': 9731,\n",
       " '溯': 2605,\n",
       " '폥': 7342,\n",
       " '元': 1371,\n",
       " '체': 6852,\n",
       " '칮': 6962,\n",
       " '있다고': 8597,\n",
       " '惠': 2076,\n",
       " '栽': 2396,\n",
       " '獲': 2728,\n",
       " '秘': 2923,\n",
       " '벚': 5417,\n",
       " '니까요': 9634,\n",
       " 'ї': 265,\n",
       " '↗': 535,\n",
       " '🎗': 7975,\n",
       " '裔': 3284,\n",
       " '🎊': 7972,\n",
       " '택시': 9266,\n",
       " '施': 2275,\n",
       " '맆': 5138,\n",
       " '殷': 2480,\n",
       " '航': 3169,\n",
       " '\\U000f0850': 8197,\n",
       " '빢': 5576,\n",
       " 'コ': 990,\n",
       " '泰': 2535,\n",
       " '┐': 677,\n",
       " '읺': 6402,\n",
       " '우리의': 9665,\n",
       " '🥅': 8170,\n",
       " '륭': 5093,\n",
       " '飯': 3810,\n",
       " '隨': 3727,\n",
       " '일을': 8452,\n",
       " '⎝': 596,\n",
       " '椅': 2413,\n",
       " '이사': 9924,\n",
       " '▣': 694,\n",
       " 'ⓙ': 657,\n",
       " '汾': 2512,\n",
       " '톶': 7194,\n",
       " '옪': 6219,\n",
       " '겾': 4006,\n",
       " '핑': 7412,\n",
       " '홣': 7557,\n",
       " '齡': 3894,\n",
       " '사랑': 9433,\n",
       " '쒯': 6036,\n",
       " '局': 1862,\n",
       " '정': 6492,\n",
       " '사람들': 8877,\n",
       " '들어': 8249,\n",
       " '언제': 8933,\n",
       " '곽': 4045,\n",
       " '⦿': 862,\n",
       " '받지': 8887,\n",
       " '신청': 8715,\n",
       " '样': 2392,\n",
       " '\\ue1a7': 7672,\n",
       " '渤': 2588,\n",
       " '滄': 2608,\n",
       " '层': 1863,\n",
       " '핷': 7449,\n",
       " 'ᐧ': 418,\n",
       " '身': 3494,\n",
       " '燦': 2684,\n",
       " '乾': 1208,\n",
       " '誤': 3355,\n",
       " '매매': 9366,\n",
       " '르는': 9518,\n",
       " '£': 98,\n",
       " '卽': 1531,\n",
       " '返': 3536,\n",
       " '자식': 9801,\n",
       " '得': 2014,\n",
       " '꼈': 4229,\n",
       " '댠': 4606,\n",
       " '랙': 4960,\n",
       " '販': 3433,\n",
       " '눋': 4493,\n",
       " '읶': 6398,\n",
       " '答': 2976,\n",
       " '벅': 5401,\n",
       " '槿': 2430,\n",
       " '据': 2187,\n",
       " '陸': 3716,\n",
       " '☝': 738,\n",
       " '霽': 3755,\n",
       " '륜': 5088,\n",
       " '버': 5400,\n",
       " '쪘': 6721,\n",
       " '荊': 3192,\n",
       " '❗': 804,\n",
       " '킷': 7111,\n",
       " '섦': 5753,\n",
       " '줒': 6588,\n",
       " '랴': 4970,\n",
       " '켓': 7014,\n",
       " '튬': 7242,\n",
       " '겠다고': 9564,\n",
       " '찡': 6787,\n",
       " '辰': 3528,\n",
       " '늜': 4528,\n",
       " '隊': 3719,\n",
       " '쥣': 6606,\n",
       " 'd': 69,\n",
       " '黊': 3880,\n",
       " '뀜': 4304,\n",
       " 'ぇ': 901,\n",
       " 'サ': 992,\n",
       " '叛': 1549,\n",
       " '릐': 5117,\n",
       " '꺨': 4201,\n",
       " '씁': 6048,\n",
       " '칲': 6965,\n",
       " 'が': 905,\n",
       " '襤': 3297,\n",
       " '숸': 5856,\n",
       " '컵': 7000,\n",
       " '킬': 7107,\n",
       " '희': 7642,\n",
       " '겥': 3990,\n",
       " '000': 8741,\n",
       " '듁': 4744,\n",
       " '故': 2240,\n",
       " '饗': 3818,\n",
       " '翊': 3090,\n",
       " '汎': 2501,\n",
       " '興': 3160,\n",
       " '큿': 7098,\n",
       " '🙏': 8144,\n",
       " '적이': 8885,\n",
       " '지원을': 9945,\n",
       " '🏥': 7982,\n",
       " '褻': 3295,\n",
       " '휫': 7617,\n",
       " '의를': 9224,\n",
       " '祉': 2898,\n",
       " '山': 1875,\n",
       " '焚': 2667,\n",
       " '骨': 3840,\n",
       " '碍': 2881,\n",
       " '덜': 4620,\n",
       " '햍': 7462,\n",
       " '줃': 6579,\n",
       " '±': 109,\n",
       " '例': 7816,\n",
       " '弟': 1982,\n",
       " '膚': 3146,\n",
       " '阮': 3695,\n",
       " '볜': 5454,\n",
       " '础': 2875,\n",
       " '좃': 6537,\n",
       " '🖥': 8088,\n",
       " '🚎': 8147,\n",
       " 'ề': 444,\n",
       " '🐽': 8004,\n",
       " '查': 2383,\n",
       " '종': 6539,\n",
       " '콰': 7046,\n",
       " '거래': 8563,\n",
       " '飄': 3801,\n",
       " '🤸': 8168,\n",
       " '믐': 5325,\n",
       " '결정': 8940,\n",
       " '눙': 4498,\n",
       " '甘': 2769,\n",
       " '사무': 9164,\n",
       " '奴': 1735,\n",
       " '지금까지': 9451,\n",
       " '짏': 6650,\n",
       " '뎃': 4642,\n",
       " '뢴': 5052,\n",
       " 'www': 9776,\n",
       " '가족': 8438,\n",
       " '東': 2368,\n",
       " '挺': 2181,\n",
       " '탴': 7142,\n",
       " '묵': 5276,\n",
       " '맣': 5163,\n",
       " '😃': 8095,\n",
       " '、': 870,\n",
       " '맟': 5159,\n",
       " '😷': 8137,\n",
       " '안을': 9049,\n",
       " '댛': 4603,\n",
       " '스스로': 9385,\n",
       " '뉸': 4514,\n",
       " '컄': 6991,\n",
       " '吾': 1583,\n",
       " '쭓': 6752,\n",
       " '킽': 7114,\n",
       " '꿜': 4289,\n",
       " '足': 3478,\n",
       " 'ぬ': 937,\n",
       " '自': 3154,\n",
       " '択': 2155,\n",
       " '․': 476,\n",
       " '②': 605,\n",
       " '尖': 1854,\n",
       " '쌉': 5944,\n",
       " '쓰고': 9504,\n",
       " '奈': 1723,\n",
       " '募': 1484,\n",
       " '넊': 4396,\n",
       " '엏': 6164,\n",
       " 'ฟ': 335,\n",
       " '뽝': 5656,\n",
       " '훕': 7594,\n",
       " '鼓': 3887,\n",
       " '굇': 4069,\n",
       " '❣': 810,\n",
       " '압': 6085,\n",
       " '而': 3100,\n",
       " 'ē': 151,\n",
       " '뫖': 5261,\n",
       " '씃': 6049,\n",
       " '짓': 6654,\n",
       " '하여': 8223,\n",
       " '뻇': 5609,\n",
       " '숧': 5843,\n",
       " '읫': 6391,\n",
       " '慨': 2100,\n",
       " '혜택을': 9511,\n",
       " '냥': 4387,\n",
       " '인이': 8474,\n",
       " '⑰': 620,\n",
       " '沸': 2522,\n",
       " '旅': 2276,\n",
       " '郞': 3600,\n",
       " '뱡': 5397,\n",
       " '筆': 2971,\n",
       " '롓': 5026,\n",
       " '夫': 1718,\n",
       " '索': 3011,\n",
       " '봅': 5465,\n",
       " '슈': 5880,\n",
       " '했다는': 9599,\n",
       " '무서': 9715,\n",
       " '실제': 9889,\n",
       " '祐': 2899,\n",
       " '마지막': 9789,\n",
       " '吐': 1571,\n",
       " '狄': 2717,\n",
       " '녁': 4433,\n",
       " 'お': 903,\n",
       " '켜': 7021,\n",
       " '㏓': 1165,\n",
       " '꾿': 4273,\n",
       " '로운': 9018,\n",
       " '럸': 4987,\n",
       " '横': 2440,\n",
       " 'ι': 220,\n",
       " '촥': 6885,\n",
       " '为': 1188,\n",
       " '口': 1551,\n",
       " '덨': 4627,\n",
       " '쨤': 6697,\n",
       " '펫': 7320,\n",
       " '받는': 8546,\n",
       " '⼷': 869,\n",
       " '㉿': 1140,\n",
       " '達': 3574,\n",
       " '弊': 1973,\n",
       " '開': 3675,\n",
       " '웈': 6300,\n",
       " '핝': 7424,\n",
       " 'ग': 301,\n",
       " '▩': 695,\n",
       " '퇴근': 9631,\n",
       " '춧': 6909,\n",
       " '되는': 8269,\n",
       " '욛': 6271,\n",
       " '§': 101,\n",
       " '造': 3560,\n",
       " '몐': 5235,\n",
       " '뿅': 5660,\n",
       " '보는': 8870,\n",
       " '셧': 5789,\n",
       " '없다': 8666,\n",
       " 'ぞ': 923,\n",
       " '錦': 3649,\n",
       " '媛': 1770,\n",
       " '빻': 5587,\n",
       " '뱁': 5382,\n",
       " '젊은': 9360,\n",
       " '별': 5440,\n",
       " '曚': 2327,\n",
       " 'ᴘ': 436,\n",
       " '🎅': 7969,\n",
       " '탹': 7145,\n",
       " '긧': 4152,\n",
       " '飜': 3804,\n",
       " '献': 2723,\n",
       " '☔': 733,\n",
       " '아닙': 8458,\n",
       " '垣': 1666,\n",
       " '읜': 6386,\n",
       " '➩': 845,\n",
       " '權': 2451,\n",
       " '能': 3131,\n",
       " '선생': 8988,\n",
       " '주시': 8362,\n",
       " '성범죄': 9628,\n",
       " '피해를': 8872,\n",
       " 'は': 940,\n",
       " '削': 1446,\n",
       " '讒': 3393,\n",
       " '절': 6480,\n",
       " '하다': 8466,\n",
       " '부에': 9882,\n",
       " '椿': 2416,\n",
       " '엄마': 9122,\n",
       " 'ⓝ': 660,\n",
       " '巧': 1904,\n",
       " '癡': 2817,\n",
       " '수가': 8501,\n",
       " '꾐': 4264,\n",
       " '떨': 4828,\n",
       " '봐': 5474,\n",
       " '搪': 2210,\n",
       " '씐': 6055,\n",
       " '쾈': 7052,\n",
       " '▢': 693,\n",
       " '늫': 4540,\n",
       " '녗': 4445,\n",
       " '％': 7858,\n",
       " '賈': 3447,\n",
       " '槍': 2428,\n",
       " '팥': 7286,\n",
       " '밇': 5337,\n",
       " 'ク': 986,\n",
       " '보기': 9944,\n",
       " '즵': 6635,\n",
       " 'ミ': 1034,\n",
       " '寒': 1826,\n",
       " '럳': 4984,\n",
       " '慘': 2096,\n",
       " '👴': 8024,\n",
       " '기다': 9105,\n",
       " '济': 2550,\n",
       " '둑': 4715,\n",
       " '언': 6144,\n",
       " '챵': 6829,\n",
       " 'χ': 229,\n",
       " '敦': 2253,\n",
       " '旭': 2288,\n",
       " '벑': 5409,\n",
       " '해도': 8432,\n",
       " 'ギ': 985,\n",
       " '等': 2972,\n",
       " '쯤': 6770,\n",
       " '👈': 8010,\n",
       " '牛': 2701,\n",
       " '되면': 8634,\n",
       " '사리': 9935,\n",
       " '왑': 6244,\n",
       " '지하': 9619,\n",
       " '⟨': 852,\n",
       " '엍': 6162,\n",
       " '☎': 728,\n",
       " '덣': 4623,\n",
       " '싴': 5930,\n",
       " '幅': 1923,\n",
       " '샷': 5739,\n",
       " '캰': 6990,\n",
       " '한': 7423,\n",
       " '悠': 2067,\n",
       " '勃': 1475,\n",
       " '깆': 4166,\n",
       " '⇰': 558,\n",
       " '간': 3906,\n",
       " '濕': 2640,\n",
       " '俱': 1313,\n",
       " '垈': 1662,\n",
       " '넷': 4426,\n",
       " '괵': 4065,\n",
       " '달라': 9495,\n",
       " '长': 3672,\n",
       " '됯': 4707,\n",
       " '难': 3732,\n",
       " '🌻': 7960,\n",
       " '://': 8878,\n",
       " '고시': 9807,\n",
       " 'έ': 211,\n",
       " '蘇': 3240,\n",
       " '콫': 7043,\n",
       " '特': 2708,\n",
       " '궆': 4098,\n",
       " '⓬': 662,\n",
       " '롯': 5035,\n",
       " '심': 5922,\n",
       " '부산': 9351,\n",
       " '첱': 6850,\n",
       " '눕': 4496,\n",
       " '찭': 6796,\n",
       " '핊': 7408,\n",
       " '👁': 8006,\n",
       " '〱': 896,\n",
       " '界': 2784,\n",
       " '\\ud7c7': 7666,\n",
       " '拳': 2172,\n",
       " '럴': 4985,\n",
       " '🗣': 8090,\n",
       " '腫': 3143,\n",
       " '蹄': 3490,\n",
       " '받아야': 9211,\n",
       " '앾': 6112,\n",
       " '们': 1255,\n",
       " '북한': 8397,\n",
       " '͂': 199,\n",
       " '그러': 8321,\n",
       " '밟': 5360,\n",
       " '남편': 9662,\n",
       " '列': 7806,\n",
       " '３': 7872,\n",
       " '願': 3787,\n",
       " '기간': 8557,\n",
       " '넼': 4430,\n",
       " '健': 1339,\n",
       " '瓦': 2767,\n",
       " '納': 3006,\n",
       " '력이': 8756,\n",
       " '度': 1953,\n",
       " '뀌': 4301,\n",
       " '쌀': 5940,\n",
       " '調': 3362,\n",
       " '超': 3474,\n",
       " '혿': 7538,\n",
       " 'ิ': 352,\n",
       " '席': 1918,\n",
       " '랜': 4961,\n",
       " '고객': 9613,\n",
       " '소에': 9881,\n",
       " 'ㄲ': 1057,\n",
       " '천만원': 9812,\n",
       " '떌': 4818,\n",
       " 'ね': 938,\n",
       " '请': 3413,\n",
       " '恥': 2057,\n",
       " '來': 7764,\n",
       " '\\u2060': 494,\n",
       " 'マ': 1033,\n",
       " '儀': 1364,\n",
       " 'エ': 979,\n",
       " '좉': 6542,\n",
       " '北': 1494,\n",
       " '駁': 3823,\n",
       " '말고': 8739,\n",
       " '조합': 9363,\n",
       " '˝': 176,\n",
       " 'ᆍ': 404,\n",
       " '겨': 3993,\n",
       " '자연': 9541,\n",
       " 'ℓ': 508,\n",
       " '迎': 3534,\n",
       " '단속': 9257,\n",
       " 'า': 351,\n",
       " '難': 3741,\n",
       " '윧': 6345,\n",
       " '대한': 8224,\n",
       " '젝': 6498,\n",
       " '垢': 1665,\n",
       " '괭': 4063,\n",
       " '갑질': 9240,\n",
       " '섞': 5747,\n",
       " '공인': 9947,\n",
       " '뽑': 5649,\n",
       " '\\uf04a': 7699,\n",
       " '핧': 7434,\n",
       " '침해': 9405,\n",
       " '펐': 7312,\n",
       " '∎': 561,\n",
       " '뙬': 4882,\n",
       " '협박': 9779,\n",
       " 'ㅊ': 1076,\n",
       " '잽': 6455,\n",
       " '횓': 7573,\n",
       " '退': 3547,\n",
       " '10': 8304,\n",
       " '⑩': 613,\n",
       " '울': 6288,\n",
       " 'ㅠ': 1097,\n",
       " '企': 1263,\n",
       " '某': 2379,\n",
       " '表': 3274,\n",
       " '셰': 5794,\n",
       " '립니다': 8330,\n",
       " '뚱': 4899,\n",
       " '꽣': 4255,\n",
       " '梅': 2402,\n",
       " '임': 6411,\n",
       " '溟': 2601,\n",
       " 'ェ': 978,\n",
       " '씀': 6047,\n",
       " 'ㅚ': 1092,\n",
       " '푼': 7372,\n",
       " '뭘': 5298,\n",
       " '들의': 8243,\n",
       " '정한': 8799,\n",
       " '혠': 7526,\n",
       " '대를': 9370,\n",
       " '개인의': 9899,\n",
       " '귱': 4127,\n",
       " '앋': 6076,\n",
       " '￥': 7924,\n",
       " '랃': 4946,\n",
       " '판매': 9118,\n",
       " '调': 3414,\n",
       " '広': 1942,\n",
       " '뎋': 4649,\n",
       " '🔷': 8069,\n",
       " 'ǒ': 166,\n",
       " '깧': 4187,\n",
       " '몇': 5228,\n",
       " '❯': 813,\n",
       " 'ド': 1012,\n",
       " '✊': 783,\n",
       " '뎈': 4647,\n",
       " '\\uf53c': 7744,\n",
       " '지게': 9933,\n",
       " '댙': 4601,\n",
       " '비용': 8775,\n",
       " '装': 3282,\n",
       " '潔': 2624,\n",
       " '뒇': 4731,\n",
       " '步': 2467,\n",
       " '的': 2824,\n",
       " '引': 1978,\n",
       " '뜌': 4909,\n",
       " '撻': 2222,\n",
       " '🌨': 7951,\n",
       " '려면': 9580,\n",
       " '段': 2479,\n",
       " '첼': 6856,\n",
       " '하면서': 8443,\n",
       " '중요한': 9332,\n",
       " '든지': 9753,\n",
       " 'ớ': 451,\n",
       " '있기': 9951,\n",
       " '优': 1267,\n",
       " '성과': 9479,\n",
       " '팽': 7296,\n",
       " '⑷': 627,\n",
       " '새': 5717,\n",
       " '逐': 3555,\n",
       " '듈': 4746,\n",
       " '턷': 7154,\n",
       " '쌍': 5947,\n",
       " '요': 6267,\n",
       " '흩': 7639,\n",
       " '褐': 3292,\n",
       " '대통령': 8256,\n",
       " 'ญ': 322,\n",
       " '남성': 8657,\n",
       " '犠': 2710,\n",
       " '濫': 7761,\n",
       " '交': 1226,\n",
       " '牧': 2705,\n",
       " '닠': 4559,\n",
       " 'Ｌ': 7892,\n",
       " '죰': 6566,\n",
       " '교': 4071,\n",
       " '揚': 2201,\n",
       " '信': 1311,\n",
       " '렝': 5006,\n",
       " '오': 6216,\n",
       " '죠': 6563,\n",
       " '貨': 3432,\n",
       " '읭': 6393,\n",
       " '✽': 794,\n",
       " '턴': 7153,\n",
       " '예': 6204,\n",
       " '돞': 4674,\n",
       " '\\uf125': 7730,\n",
       " 'ⓚ': 658,\n",
       " '하였': 8295,\n",
       " '청소년': 8621,\n",
       " 'ง': 317,\n",
       " '아니다': 9997,\n",
       " '뜨': 4911,\n",
       " '朋': 2342,\n",
       " '쉐': 5862,\n",
       " '쥰': 6611,\n",
       " '사이트': 9136,\n",
       " '面': 3763,\n",
       " '시고': 8623,\n",
       " '힞': 7662,\n",
       " '찼': 6804,\n",
       " '記': 3327,\n",
       " 'н': 253,\n",
       " '로': 5028,\n",
       " '쯀': 6767,\n",
       " '적폐': 8718,\n",
       " '소방': 9290,\n",
       " 'ㅌ': 1078,\n",
       " '않아': 9093,\n",
       " '말입니다': 9850,\n",
       " '罄': 3072,\n",
       " '딪': 4788,\n",
       " '당': 4582,\n",
       " '媤': 1771,\n",
       " 'к': 250,\n",
       " '倭': 1328,\n",
       " '있습니다': 8225,\n",
       " '恨': 2058,\n",
       " '逆': 3551,\n",
       " '‘': 466,\n",
       " '壻': 1703,\n",
       " '부탁': 8425,\n",
       " '섀': 5743,\n",
       " '꿁': 4275,\n",
       " '잊': 6417,\n",
       " '지금': 8259,\n",
       " '憤': 2107,\n",
       " '觀': 3310,\n",
       " '錯': 3652,\n",
       " 'ä': 129,\n",
       " '꾁': 4262,\n",
       " '흙': 7632,\n",
       " '촛불': 9625,\n",
       " '易': 2297,\n",
       " '█': 689,\n",
       " '聯': 7804,\n",
       " '셔야': 9953,\n",
       " '놋': 4462,\n",
       " '룡': 5064,\n",
       " '⇆': 542,\n",
       " '댯': 4611,\n",
       " 'ê': 133,\n",
       " '딜': 4782,\n",
       " '듣고': 9815,\n",
       " '29': 9986,\n",
       " '얼마나': 8831,\n",
       " '이해': 8585,\n",
       " '랎': 4951,\n",
       " '고용': 8851,\n",
       " '≠': 578,\n",
       " 'ᅵ': 403,\n",
       " '듯': 4764,\n",
       " '젆': 6478,\n",
       " '흑': 7628,\n",
       " '＝': 7882,\n",
       " '볅': 5441,\n",
       " '우선': 8995,\n",
       " '😈': 8100,\n",
       " '┓': 679,\n",
       " '再': 1402,\n",
       " '💰': 8051,\n",
       " '을때': 9439,\n",
       " 'พ': 334,\n",
       " 'ㅋㅋ': 9114,\n",
       " '씌': 6053,\n",
       " '쐐': 6017,\n",
       " '넞': 4414,\n",
       " '뜿': 4923,\n",
       " '下': 1174,\n",
       " '민국': 8266,\n",
       " '斬': 2268,\n",
       " '쥭': 6610,\n",
       " '👊': 8012,\n",
       " '袖': 3278,\n",
       " '麤': 3875,\n",
       " '価': 1297,\n",
       " '량': 4977,\n",
       " '\\uf09f': 7717,\n",
       " '😂': 8094,\n",
       " '餃': 3813,\n",
       " '복지': 8605,\n",
       " '텀': 7156,\n",
       " '그러면': 9871,\n",
       " '공사': 8961,\n",
       " '牲': 2707,\n",
       " '주차': 9014,\n",
       " '😧': 8124,\n",
       " '닞': 4558,\n",
       " '関': 3680,\n",
       " '≀': 576,\n",
       " '딓': 4777,\n",
       " 'ả': 440,\n",
       " '🤕': 8157,\n",
       " '端': 2959,\n",
       " '매일': 9437,\n",
       " '냐': 4379,\n",
       " '⚂': 772,\n",
       " '奏': 1726,\n",
       " '릳': 5126,\n",
       " '생각이': 9004,\n",
       " '簡': 2989,\n",
       " '캎': 6977,\n",
       " '介': 1243,\n",
       " '精': 2999,\n",
       " '限': 3704,\n",
       " '樂': 7781,\n",
       " '꿰': 4294,\n",
       " '졓': 6521,\n",
       " '렾': 5021,\n",
       " '릴': 5127,\n",
       " '🤣': 8160,\n",
       " '70': 9404,\n",
       " '講': 3375,\n",
       " '섳': 5763,\n",
       " '깟': 4180,\n",
       " '캠': 6982,\n",
       " 'Ⅴ': 516,\n",
       " '聖': 3106,\n",
       " '車': 3495,\n",
       " '걊': 3947,\n",
       " '깔': 4176,\n",
       " '@': 33,\n",
       " '븍': 5543,\n",
       " '\\uf537': 7743,\n",
       " '»': 118,\n",
       " '그럼': 8945,\n",
       " '劃': 1456,\n",
       " '쾔': 7056,\n",
       " 'ⓗ': 655,\n",
       " '뮝': 5312,\n",
       " '굉': 4070,\n",
       " '좠': 6549,\n",
       " '痛': 2808,\n",
       " '罪': 3074,\n",
       " '쏫': 6006,\n",
       " '국민': 8217,\n",
       " 'त': 302,\n",
       " '쌌': 5946,\n",
       " '등으로': 9637,\n",
       " '简': 2979,\n",
       " '洸': 2546,\n",
       " '杜': 2362,\n",
       " '곆': 4014,\n",
       " 'よ': 965,\n",
       " '리': 5123,\n",
       " '柄': 2377,\n",
       " '똣': 4869,\n",
       " '곔': 4016,\n",
       " '환경': 8572,\n",
       " '밴': 5378,\n",
       " '亡': 1225,\n",
       " '班': 2744,\n",
       " '이익을': 9805,\n",
       " 'ะ': 349,\n",
       " '9': 26,\n",
       " '軍': 3498,\n",
       " '톨': 7189,\n",
       " '점점': 9629,\n",
       " 'ห': 346,\n",
       " '쭌': 6750,\n",
       " '추가': 9179,\n",
       " '돋': 4663,\n",
       " '셴': 5795,\n",
       " '剖': 1449,\n",
       " '헀': 7481,\n",
       " '래': 4959,\n",
       " '집니다': 9276,\n",
       " 'ど': 934,\n",
       " '團': 1646,\n",
       " '썰': 5974,\n",
       " '만이': 9161,\n",
       " '올림': 9112,\n",
       " '증거': 8987,\n",
       " '선생님': 9100,\n",
       " '😀': 8092,\n",
       " '査': 2387,\n",
       " 'ㅔ': 1086,\n",
       " '勞': 1483,\n",
       " '運': 3570,\n",
       " '묫': 5272,\n",
       " '만약': 9314,\n",
       " '이라': 8228,\n",
       " '샬': 5736,\n",
       " '打': 2141,\n",
       " '🤹': 8169,\n",
       " '창': 6805,\n",
       " '똉': 4859,\n",
       " '엮': 6181,\n",
       " '투': 7215,\n",
       " '집을': 9427,\n",
       " '꺵': 4202,\n",
       " 'О': 235,\n",
       " '먀': 5178,\n",
       " '억울': 8737,\n",
       " 'ĺ': 156,\n",
       " '삘': 5688,\n",
       " '흡연': 9477,\n",
       " '듥': 4757,\n",
       " '샾': 5742,\n",
       " '😁': 8093,\n",
       " '보다': 8335,\n",
       " '봗': 5477,\n",
       " '돈으로': 9921,\n",
       " '秦': 2925,\n",
       " '쟀': 6457,\n",
       " '웪': 6323,\n",
       " '很': 2009,\n",
       " '⛔': 780,\n",
       " '밖': 5352,\n",
       " '뮬': 5317,\n",
       " '밸': 5380,\n",
       " '뽁': 5644,\n",
       " '칀': 6949,\n",
       " '\\uf08c': 7714,\n",
       " '⑮': 618,\n",
       " '제2': 9448,\n",
       " '려는': 9640,\n",
       " '쿸': 7072,\n",
       " '密': 1823,\n",
       " '认': 3396,\n",
       " '임대': 8830,\n",
       " '과연': 9142,\n",
       " '텻': 7178,\n",
       " '朴': 2354,\n",
       " '↕': 534,\n",
       " '㉧': 1131,\n",
       " '듵': 4768,\n",
       " '즹': 6636,\n",
       " '1년': 8740,\n",
       " '핥': 7432,\n",
       " '瀆': 2646,\n",
       " '썋': 5965,\n",
       " '찦': 6791,\n",
       " '합니까': 8941,\n",
       " '诉': 3406,\n",
       " '㉡': 1125,\n",
       " '鄲': 3611,\n",
       " 'ｘ': 7914,\n",
       " '暴': 2323,\n",
       " '즠': 6627,\n",
       " '픨': 7402,\n",
       " '爻': 2695,\n",
       " '솨': 5814,\n",
       " '대책': 8720,\n",
       " '短': 2867,\n",
       " '켛': 7020,\n",
       " '착': 6794,\n",
       " '睿': 2857,\n",
       " '킨': 7106,\n",
       " '.': 15,\n",
       " '있으니': 9869,\n",
       " '♧': 763,\n",
       " '쿔': 7062,\n",
       " '뻰': 5627,\n",
       " '롲': 5037,\n",
       " '禍': 2909,\n",
       " '깐': 4174,\n",
       " 'ㅸ': 1104,\n",
       " '藥': 3237,\n",
       " '굲': 4083,\n",
       " '\\uf0d8': 7722,\n",
       " '澳': 2636,\n",
       " '뱔': 5395,\n",
       " '\\U000f02ef': 8193,\n",
       " '兮': 1390,\n",
       " '┎': 676,\n",
       " '院': 3708,\n",
       " 'ซ': 321,\n",
       " 'l': 77,\n",
       " '秕': 2922,\n",
       " '캄': 6970,\n",
       " '있는': 8219,\n",
       " '暫': 2321,\n",
       " '즋': 6619,\n",
       " '奚': 1729,\n",
       " '数': 2255,\n",
       " '혘': 7522,\n",
       " '将': 1843,\n",
       " '앰': 6100,\n",
       " '필요합니다': 9496,\n",
       " '取': 1546,\n",
       " '☰': 745,\n",
       " '速': 3559,\n",
       " '텐': 7165,\n",
       " '停': 1338,\n",
       " '웽': 6329,\n",
       " '윺': 6355,\n",
       " '熱': 2678,\n",
       " '甚': 2770,\n",
       " '猶': 2724,\n",
       " '핔': 7415,\n",
       " '귑': 4117,\n",
       " '원의': 9502,\n",
       " 'ょ': 964,\n",
       " '붉': 5508,\n",
       " '인권': 8515,\n",
       " 'ⅱ': 521,\n",
       " '도와': 8745,\n",
       " '윷': 6354,\n",
       " '아직': 8645,\n",
       " '기록': 9449,\n",
       " '⍟': 595,\n",
       " '덥': 4625,\n",
       " '차를': 9271,\n",
       " '꽨': 4258,\n",
       " '벞': 5421,\n",
       " ...}"
      ]
     },
     "execution_count": 56,
     "metadata": {},
     "output_type": "execute_result"
    }
   ],
   "source": [
    "# 어휘 사전을 dictionary로 반환(Key : 단어, value : id)\n",
    "tokenizer.get_vocab()"
   ]
  },
  {
   "cell_type": "code",
   "execution_count": 57,
   "metadata": {},
   "outputs": [],
   "source": [
    "# 테스트 문장\n",
    "sports_txt = \"프리미어리그 역대 개인 최다골 기록을 보유하고 있는 시어러가 손흥민의 골 결정력을 재차 극찬했다.\"\n",
    "petition_txt = \"이 글을 쓴 이유는 다름아닌 '전안법'시행 반대를 주장하기 위해서입니다. 먼저, '전안법'은 전기용품 및 생활용품을 판매하는 업체에서 KC인증마크를 의무적으로 받는 것입니다.\"\n",
    "comment_txt = \"멋진 식사를 즐기기에 좋은 장소 - 채식 메뉴가 정말 훌륭했습니다. 당근 케이크는 아마도 내가 먹어본 디저트 중 최고였을 거예요.\""
   ]
  },
  {
   "cell_type": "code",
   "execution_count": 65,
   "metadata": {},
   "outputs": [
    {
     "data": {
      "text/plain": [
       "Encoding(num_tokens=34, attributes=[ids, type_ids, tokens, offsets, attention_mask, special_tokens_mask, overflowing])"
      ]
     },
     "execution_count": 65,
     "metadata": {},
     "output_type": "execute_result"
    }
   ],
   "source": [
    "# text - > tokenization\n",
    "token_output = tokenizer.encode(sports_txt)\n",
    "token_output"
   ]
  },
  {
   "cell_type": "code",
   "execution_count": null,
   "metadata": {},
   "outputs": [
    {
     "data": {
      "text/plain": [
       "['프',\n",
       " '리',\n",
       " '미',\n",
       " '어',\n",
       " '리',\n",
       " '그',\n",
       " '역',\n",
       " '대',\n",
       " '개인',\n",
       " '최',\n",
       " '다',\n",
       " '골',\n",
       " '기록',\n",
       " '을',\n",
       " '보유',\n",
       " '하고',\n",
       " '있는',\n",
       " '시',\n",
       " '어',\n",
       " '러',\n",
       " '가',\n",
       " '손',\n",
       " '흥',\n",
       " '민',\n",
       " '의',\n",
       " '골',\n",
       " '결정',\n",
       " '력을',\n",
       " '재',\n",
       " '차',\n",
       " '극',\n",
       " '찬',\n",
       " '했다',\n",
       " '.']"
      ]
     },
     "execution_count": 66,
     "metadata": {},
     "output_type": "execute_result"
    }
   ],
   "source": [
    "# token -> 단어\n",
    "# \"프리미어리그 역대 개인 최다골 기록을 보유하고 있는 시어러가 손흥민의 골 결정력을 재차 극찬했다.\"\n",
    "# 사전에 프리미어리그 << 가 없으니까 프/리/미/어/리/그 로 잘린거임 ㅜ\n",
    "# 학습을 그 국민청원데이터로 했으니까 '프리미어리그' 같은 단어는 사전에 안들어감\n",
    "token_output.tokens"
   ]
  },
  {
   "cell_type": "code",
   "execution_count": null,
   "metadata": {},
   "outputs": [
    {
     "data": {
      "text/plain": [
       "[7390,\n",
       " 5123,\n",
       " 5330,\n",
       " 6140,\n",
       " 5123,\n",
       " 4128,\n",
       " 6180,\n",
       " 4589,\n",
       " 8414,\n",
       " 6891,\n",
       " 4563,\n",
       " 4027,\n",
       " 9449,\n",
       " 6364,\n",
       " 9442,\n",
       " 8209,\n",
       " 8219,\n",
       " 5908,\n",
       " 6140,\n",
       " 4980,\n",
       " 3902,\n",
       " 5802,\n",
       " 7638,\n",
       " 5332,\n",
       " 6384,\n",
       " 4027,\n",
       " 8940,\n",
       " 8644,\n",
       " 6449,\n",
       " 6793,\n",
       " 4129,\n",
       " 6795,\n",
       " 8565,\n",
       " 15]"
      ]
     },
     "execution_count": 67,
     "metadata": {},
     "output_type": "execute_result"
    }
   ],
   "source": [
    "# token - token id(정수)\n",
    "token_output.ids\t# {프 : 7390}"
   ]
  },
  {
   "cell_type": "code",
   "execution_count": 69,
   "metadata": {},
   "outputs": [],
   "source": [
    "output = tokenizer.encode(petition_txt)"
   ]
  },
  {
   "cell_type": "code",
   "execution_count": 74,
   "metadata": {},
   "outputs": [
    {
     "name": "stdout",
     "output_type": "stream",
     "text": [
      "['이', '글을', '쓴', '이유는', '다', '름', '아닌', \"'\", '전', '안', '법', \"'\", '시행', '반대', '를', '주장', '하기', '위해서', '입니다', '.', '먼저', ',', \"'\", '전', '안', '법', \"'\", '은', '전기', '용', '품', '및', '생활', '용', '품', '을', '판매', '하는', '업체', '에서', 'K', 'C', '인', '증', '마', '크', '를', '의무', '적으로', '받는', '것입니다', '.']\n",
      "[6396, 8577, 6044, 9246, 4563, 5107, 8323, 8, 6476, 6073, 5412, 8, 8656, 8658, 5101, 8953, 8301, 8580, 8212, 15, 8855, 13, 8, 6476, 6073, 5412, 8, 6360, 9353, 6278, 7375, 5345, 8437, 6278, 7375, 6364, 9118, 8208, 8692, 8210, 44, 36, 6400, 6625, 5140, 7091, 5101, 8521, 8253, 8546, 8299, 15]\n"
     ]
    }
   ],
   "source": [
    "print(output.tokens)\n",
    "print(output.ids)\n"
   ]
  },
  {
   "cell_type": "code",
   "execution_count": 79,
   "metadata": {},
   "outputs": [
    {
     "data": {
      "text/plain": [
       "(7, 10)"
      ]
     },
     "execution_count": 79,
     "metadata": {},
     "output_type": "execute_result"
    }
   ],
   "source": [
    "# offsets[token list의 index]\n",
    "# \"이 글을 쓴 이유는 다름아닌 '전안법'시행 반대를 주장하기 위해서입니다. 먼저, '전안법'은 전기용품 및 생활용품을 판매하는 업체에서 KC인증마크를 의무적으로 받는 것입니다.\"\n",
    "# \"01 2 34 56 78 910\"\n",
    "output.offsets[3]\t# (이유는 - 9246)이 입력 문서(stirng)에 어디에 있는지를 반환 (7 ~ 10)\n"
   ]
  },
  {
   "cell_type": "code",
   "execution_count": null,
   "metadata": {},
   "outputs": [
    {
     "data": {
      "text/plain": [
       "8341"
      ]
     },
     "execution_count": 80,
     "metadata": {},
     "output_type": "execute_result"
    }
   ],
   "source": [
    "tokenizer.token_to_id(\"이유\")\t# 토큰문자열 -> 토큰id"
   ]
  },
  {
   "cell_type": "code",
   "execution_count": null,
   "metadata": {},
   "outputs": [
    {
     "data": {
      "text/plain": [
       "'이유'"
      ]
     },
     "execution_count": 82,
     "metadata": {},
     "output_type": "execute_result"
    }
   ],
   "source": [
    "tokenizer.id_to_token(8341)\t\t# 토큰id -> 토큰문자열"
   ]
  },
  {
   "cell_type": "code",
   "execution_count": null,
   "metadata": {},
   "outputs": [
    {
     "data": {
      "text/plain": [
       "'¥ -- 이유 3 ▶ 什'"
      ]
     },
     "execution_count": 85,
     "metadata": {},
     "output_type": "execute_result"
    }
   ],
   "source": [
    "ids = [100, 8232, 8341, 20, 700, 1238]\n",
    "\n",
    "decode_output = tokenizer.decode(ids)\t# token id로 구성된 list를 문자열(str)로 decode\n",
    "decode_output"
   ]
  },
  {
   "cell_type": "code",
   "execution_count": 87,
   "metadata": {},
   "outputs": [
    {
     "data": {
      "text/plain": [
       "\"이 글을 쓴 이유는 다 름 아닌 ' 전 안 법 ' 시행 반대 를 주장 하기 위해서 입니다 . 먼저 , ' 전 안 법 ' 은 전기 용 품 및 생활 용 품 을 판매 하는 업체 에서 K C 인 증 마 크 를 의무 적으로 받는 것입니다 .\""
      ]
     },
     "execution_count": 87,
     "metadata": {},
     "output_type": "execute_result"
    }
   ],
   "source": [
    "tokenizer.decode(output.ids)"
   ]
  },
  {
   "cell_type": "markdown",
   "metadata": {},
   "source": [
    "## Word Piece 모델 학습"
   ]
  },
  {
   "cell_type": "code",
   "execution_count": 110,
   "metadata": {},
   "outputs": [],
   "source": [
    "from tokenizers import Tokenizer\n",
    "from tokenizers.models import WordPiece\n",
    "from tokenizers.pre_tokenizers import Whitespace\n",
    "from tokenizers.trainers import WordPieceTrainer\n",
    "\n",
    "# tokenizer 생성\n",
    "tokenizer2 = Tokenizer(WordPiece(unk_token=\"[UNK]\"))\n",
    "# pre tokenizer 지정\n",
    "tokenizer2.pre_tokenizer = Whitespace()\n",
    "# Trainer 생성\n",
    "trainer = WordPieceTrainer(\n",
    "\tvocab_size = 20000,\n",
    "\tspecial_tokens = [\"[UNK]\", \"[PAD]\", \"[SEP]\", \"[SOS]\", \"[EOS]\"],\n",
    "\tmin_frequency = 10\t# 얘로 최소 빈도수 정해줘서 좀 의미 있는 단어를 사전에 넣는것\n",
    ")"
   ]
  },
  {
   "cell_type": "code",
   "execution_count": 92,
   "metadata": {},
   "outputs": [
    {
     "name": "stdout",
     "output_type": "stream",
     "text": [
      "90.00706219673157초 걸림 ㅋ\n"
     ]
    }
   ],
   "source": [
    "import time\n",
    "s = time.time()\n",
    "tokenizer2.train([\"data/petitions_corpus.txt\"], trainer=trainer)\n",
    "e = time.time()\n",
    "print(f\"{e-s}초 걸림 ㅋ\")"
   ]
  },
  {
   "cell_type": "code",
   "execution_count": 93,
   "metadata": {},
   "outputs": [],
   "source": [
    "tokenizer2.save(\"saved_models/petitions_wordpiece.json\")"
   ]
  },
  {
   "cell_type": "code",
   "execution_count": 94,
   "metadata": {},
   "outputs": [],
   "source": [
    "load_tokenizer2 = Tokenizer.from_file(\"saved_models/petitions_wordpiece.json\")"
   ]
  },
  {
   "cell_type": "code",
   "execution_count": 95,
   "metadata": {},
   "outputs": [
    {
     "data": {
      "text/plain": [
       "20000"
      ]
     },
     "execution_count": 95,
     "metadata": {},
     "output_type": "execute_result"
    }
   ],
   "source": [
    "tokenizer2.get_vocab_size()"
   ]
  },
  {
   "cell_type": "code",
   "execution_count": 97,
   "metadata": {},
   "outputs": [
    {
     "data": {
      "text/plain": [
       "15453"
      ]
     },
     "execution_count": 97,
     "metadata": {},
     "output_type": "execute_result"
    }
   ],
   "source": [
    "tokenizer2.token_to_id(\"안녕하세요\")"
   ]
  },
  {
   "cell_type": "code",
   "execution_count": 98,
   "metadata": {},
   "outputs": [
    {
     "data": {
      "text/plain": [
       "'안녕하세요'"
      ]
     },
     "execution_count": 98,
     "metadata": {},
     "output_type": "execute_result"
    }
   ],
   "source": [
    "tokenizer2.id_to_token(15453)"
   ]
  },
  {
   "cell_type": "code",
   "execution_count": 99,
   "metadata": {},
   "outputs": [
    {
     "data": {
      "text/plain": [
       "'멋진 식사를 즐기기에 좋은 장소 - 채식 메뉴가 정말 훌륭했습니다. 당근 케이크는 아마도 내가 먹어본 디저트 중 최고였을 거예요.'"
      ]
     },
     "execution_count": 99,
     "metadata": {},
     "output_type": "execute_result"
    }
   ],
   "source": [
    "comment_txt"
   ]
  },
  {
   "cell_type": "code",
   "execution_count": 102,
   "metadata": {},
   "outputs": [
    {
     "data": {
      "text/plain": [
       "Encoding(num_tokens=44, attributes=[ids, type_ids, tokens, offsets, attention_mask, special_tokens_mask, overflowing])"
      ]
     },
     "execution_count": 102,
     "metadata": {},
     "output_type": "execute_result"
    }
   ],
   "source": [
    "output = tokenizer2.encode(comment_txt)\n",
    "output"
   ]
  },
  {
   "cell_type": "code",
   "execution_count": 103,
   "metadata": {},
   "outputs": [
    {
     "name": "stdout",
     "output_type": "stream",
     "text": [
      "[5202, 8596, 5912, 15002, 6624, 8243, 15062, 15252, 6445, 8274, 17, 6814, 8352, 5209, 8997, 8218, 15005, 7592, 10163, 15148, 18, 4585, 8688, 7010, 8209, 9031, 8224, 17053, 8229, 15680, 5192, 8294, 8640, 4781, 8599, 8560, 6590, 16373, 8387, 8327, 3959, 8680, 8298, 18]\n"
     ]
    }
   ],
   "source": [
    "print(output.ids)"
   ]
  },
  {
   "cell_type": "code",
   "execution_count": 104,
   "metadata": {},
   "outputs": [
    {
     "data": {
      "text/plain": [
       "['멋',\n",
       " '##진',\n",
       " '식',\n",
       " '##사를',\n",
       " '즐',\n",
       " '##기',\n",
       " '##기에',\n",
       " '좋은',\n",
       " '장',\n",
       " '##소',\n",
       " '-',\n",
       " '채',\n",
       " '##식',\n",
       " '메',\n",
       " '##뉴',\n",
       " '##가',\n",
       " '정말',\n",
       " '훌',\n",
       " '##륭',\n",
       " '##했습니다',\n",
       " '.',\n",
       " '당',\n",
       " '##근',\n",
       " '케',\n",
       " '##이',\n",
       " '##크',\n",
       " '##는',\n",
       " '아마',\n",
       " '##도',\n",
       " '내가',\n",
       " '먹',\n",
       " '##어',\n",
       " '##본',\n",
       " '디',\n",
       " '##저',\n",
       " '##트',\n",
       " '중',\n",
       " '최고',\n",
       " '##였',\n",
       " '##을',\n",
       " '거',\n",
       " '##예',\n",
       " '##요',\n",
       " '.']"
      ]
     },
     "execution_count": 104,
     "metadata": {},
     "output_type": "execute_result"
    }
   ],
   "source": [
    "output.tokens"
   ]
  },
  {
   "cell_type": "code",
   "execution_count": null,
   "metadata": {},
   "outputs": [],
   "source": [
    "from tokenizers import Tokenizer\n",
    "from tokenizers.models import Unigram\n",
    "from tokenizers.pre_tokenizers import Whitespace\n",
    "from tokenizers.trainers import UnigramTrainer\n",
    "\n",
    "# tokenizer 생성\n",
    "tokenizer3 = Tokenizer(Unigram())\n",
    "# pre tokenizer 지정\n",
    "tokenizer3.pre_tokenizer = Whitespace()\n",
    "# Trainer 생성\n",
    "trainer = UnigramTrainer(\n",
    "\tvocab_size = 20000,\n",
    "\tspecial_tokens = [\"[UNK]\", \"[PAD]\", \"[SEP]\", \"[SOS]\", \"[EOS]\"],\n",
    "\tmin_frequency = 10\t# 얘로 최소 빈도수 정해줘서 좀 의미 있는 단어를 사전에 넣는것\n",
    ")"
   ]
  },
  {
   "cell_type": "code",
   "execution_count": 115,
   "metadata": {},
   "outputs": [],
   "source": [
    "tokenizer3.train([\"data/petitions_corpus.txt\"], trainer=trainer) "
   ]
  },
  {
   "cell_type": "code",
   "execution_count": 116,
   "metadata": {},
   "outputs": [],
   "source": [
    "tokenizer3.save(\"saved_models/petitions_nuigram.json\")"
   ]
  },
  {
   "cell_type": "code",
   "execution_count": 117,
   "metadata": {},
   "outputs": [
    {
     "data": {
      "text/plain": [
       "20000"
      ]
     },
     "execution_count": 117,
     "metadata": {},
     "output_type": "execute_result"
    }
   ],
   "source": [
    "tokenizer3.get_vocab_size()"
   ]
  },
  {
   "cell_type": "code",
   "execution_count": 119,
   "metadata": {},
   "outputs": [
    {
     "data": {
      "text/plain": [
       "4687"
      ]
     },
     "execution_count": 119,
     "metadata": {},
     "output_type": "execute_result"
    }
   ],
   "source": [
    "tokenizer3.token_to_id(\"싫\")"
   ]
  },
  {
   "cell_type": "code",
   "execution_count": 120,
   "metadata": {},
   "outputs": [
    {
     "data": {
      "text/plain": [
       "'싫'"
      ]
     },
     "execution_count": 120,
     "metadata": {},
     "output_type": "execute_result"
    }
   ],
   "source": [
    "tokenizer3.id_to_token(4687)"
   ]
  },
  {
   "cell_type": "code",
   "execution_count": 124,
   "metadata": {},
   "outputs": [
    {
     "data": {
      "text/plain": [
       "[11930,\n",
       " 4707,\n",
       " 14,\n",
       " 5688,\n",
       " 1050,\n",
       " 320,\n",
       " 2278,\n",
       " 69,\n",
       " 510,\n",
       " 252,\n",
       " 12447,\n",
       " 12,\n",
       " 134,\n",
       " 12592,\n",
       " 174,\n",
       " 5,\n",
       " 161,\n",
       " 842,\n",
       " 6651,\n",
       " 1090,\n",
       " 13,\n",
       " 6337,\n",
       " 654,\n",
       " 5653,\n",
       " 277,\n",
       " 1178,\n",
       " 137,\n",
       " 424,\n",
       " 59,\n",
       " 1715,\n",
       " 2127,\n",
       " 8,\n",
       " 10839,\n",
       " 5]"
      ]
     },
     "execution_count": 124,
     "metadata": {},
     "output_type": "execute_result"
    }
   ],
   "source": [
    "output = tokenizer3.encode(comment_txt)\n",
    "output.ids"
   ]
  },
  {
   "cell_type": "code",
   "execution_count": 125,
   "metadata": {},
   "outputs": [
    {
     "data": {
      "text/plain": [
       "['멋진',\n",
       " '식사',\n",
       " '를',\n",
       " '즐기',\n",
       " '기에',\n",
       " '좋은',\n",
       " '장소',\n",
       " '-',\n",
       " '채',\n",
       " '식',\n",
       " '메뉴',\n",
       " '가',\n",
       " '정말',\n",
       " '훌륭',\n",
       " '했습니다',\n",
       " '.',\n",
       " '당',\n",
       " '근',\n",
       " '케이',\n",
       " '크',\n",
       " '는',\n",
       " '아마도',\n",
       " '내가',\n",
       " '먹어',\n",
       " '본',\n",
       " '디',\n",
       " '저',\n",
       " '트',\n",
       " '중',\n",
       " '최고',\n",
       " '였',\n",
       " '을',\n",
       " '거예요',\n",
       " '.']"
      ]
     },
     "execution_count": 125,
     "metadata": {},
     "output_type": "execute_result"
    }
   ],
   "source": [
    "output.tokens"
   ]
  },
  {
   "cell_type": "code",
   "execution_count": 126,
   "metadata": {},
   "outputs": [
    {
     "data": {
      "text/plain": [
       "'멋진 식사 를 즐기 기에 좋은 장소 - 채 식 메뉴 가 정말 훌륭 했습니다 . 당 근 케이 크 는 아마도 내가 먹어 본 디 저 트 중 최고 였 을 거예요 .'"
      ]
     },
     "execution_count": 126,
     "metadata": {},
     "output_type": "execute_result"
    }
   ],
   "source": [
    "tokenizer3.decode(output.ids)"
   ]
  },
  {
   "cell_type": "code",
   "execution_count": null,
   "metadata": {},
   "outputs": [
    {
     "data": {
      "text/plain": [
       "'멋 ##진 식 ##사를 즐 ##기 ##기에 좋은 장 ##소 - 채 ##식 메 ##뉴 ##가 정말 훌 ##륭 ##했습니다 . 당 ##근 케 ##이 ##크 ##는 아마 ##도 내가 먹 ##어 ##본 디 ##저 ##트 중 최고 ##였 ##을 거 ##예 ##요 .'"
      ]
     },
     "execution_count": 129,
     "metadata": {},
     "output_type": "execute_result"
    }
   ],
   "source": [
    "# wordpiece\n",
    "output2 = load_tokenizer2.encode(comment_txt)\n",
    "load_tokenizer2.decode(output2.ids, )"
   ]
  },
  {
   "cell_type": "code",
   "execution_count": 130,
   "metadata": {},
   "outputs": [
    {
     "data": {
      "text/plain": [
       "'멋진 식사를 즐기기에 좋은 장소 - 채식 메뉴가 정말 훌륭했습니다. 당근 케이크는 아마도 내가 먹어본 디저트 중 최고였을 거예요.'"
      ]
     },
     "execution_count": 130,
     "metadata": {},
     "output_type": "execute_result"
    }
   ],
   "source": [
    "comment_txt"
   ]
  },
  {
   "cell_type": "code",
   "execution_count": null,
   "metadata": {},
   "outputs": [],
   "source": []
  }
 ],
 "metadata": {
  "kernelspec": {
   "display_name": "dl",
   "language": "python",
   "name": "python3"
  },
  "language_info": {
   "codemirror_mode": {
    "name": "ipython",
    "version": 3
   },
   "file_extension": ".py",
   "mimetype": "text/x-python",
   "name": "python",
   "nbconvert_exporter": "python",
   "pygments_lexer": "ipython3",
   "version": "3.12.10"
  }
 },
 "nbformat": 4,
 "nbformat_minor": 4
}
