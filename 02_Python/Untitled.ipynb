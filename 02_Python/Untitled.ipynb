{
 "cells": [
  {
   "cell_type": "code",
   "execution_count": 40,
   "id": "daa0e232-9307-45f3-83c2-c615ca7d19c6",
   "metadata": {},
   "outputs": [
    {
     "data": {
      "text/plain": [
       "2"
      ]
     },
     "execution_count": 40,
     "metadata": {},
     "output_type": "execute_result"
    }
   ],
   "source": [
    "1+1\n",
    "\n",
    "# shift + enter : 실행 후 다음 cell로 이동\n",
    "# control + enter : 실행 후 그 cell에 머무름"
   ]
  },
  {
   "cell_type": "markdown",
   "id": "5d472ef8-3e90-42fa-b1c1-f09717f607f6",
   "metadata": {},
   "source": [
    "# At 명령모드\n",
    "# -a : 위에 빈 cell 추가, b : 아래 빈 cell 추가\n",
    "# -x : cell 잘라내기, v : cell 붙여넣기\n",
    "# -dd : cell 삭제\n",
    "# -y : cell을 **code mode**로 변경\n",
    "# -m : cell을 *Markdown*으로 변경"
   ]
  },
  {
   "cell_type": "code",
   "execution_count": null,
   "id": "bfa97809-ff65-40c0-9a29-c8a7ca1c2245",
   "metadata": {},
   "outputs": [],
   "source": []
  }
 ],
 "metadata": {
  "kernelspec": {
   "display_name": "Python 3 (ipykernel)",
   "language": "python",
   "name": "python3"
  },
  "language_info": {
   "codemirror_mode": {
    "name": "ipython",
    "version": 3
   },
   "file_extension": ".py",
   "mimetype": "text/x-python",
   "name": "python",
   "nbconvert_exporter": "python",
   "pygments_lexer": "ipython3",
   "version": "3.12.9"
  }
 },
 "nbformat": 4,
 "nbformat_minor": 5
}
