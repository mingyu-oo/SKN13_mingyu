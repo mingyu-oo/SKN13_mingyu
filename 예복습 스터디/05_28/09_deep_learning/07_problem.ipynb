{
 "cells": [
  {
   "cell_type": "markdown",
   "metadata": {},
   "source": [
    "# 모델 전체 저장 및 불러오기\n",
    "\n",
    "- 저장하기\n",
    "  - `torch.save(model, 저장 경로)`\n",
    "- 불러오기\n",
    "  - `load_model = torch.load(저장 경로)`"
   ]
  },
  {
   "cell_type": "markdown",
   "metadata": {
    "id": "oWmdabt36L-F"
   },
   "source": [
    "# 모델의 파라미터만 저장\n",
    "\n",
    "-   모델을 구성하는 파라미터만 저장한다.\n",
    "-   모델의 구조는 저장하지 않기 때문에 불러올 때 **모델을 먼저 생성하고 생성한 모델에 불러온 파라미터를 덮어씌운다.**\n",
    "-   모델의 파라미터는 **state_dict** 형식으로 저장한다.\n",
    "\n",
    "### state_dict\n",
    "\n",
    "-   모델의 파라미터 Tensor들을 레이어 단위별로 나누어 저장한 Ordered Dictionary (OrderedDict)\n",
    "-   `모델객체.state_dict()` 메소드를 이용해 조회한다.\n",
    "-   모델의 state_dict을 조회 후 저장한다.\n",
    "    -   `torch.save(model.state_dict(), \"저장경로\")`\n",
    "-   생성된 모델에 읽어온 state_dict를 덮어씌운다.\n",
    "    -   `new_model.load_state_dict(torch.load(\"state_dict저장경로\"))`\n"
   ]
  },
  {
   "cell_type": "markdown",
   "metadata": {
    "id": "lhhPVh7k6L-F"
   },
   "source": [
    "## Checkpoint 저장 및 불러오기\n",
    "\n",
    "- 학습이 끝나지 않은 모델을 저장하고, 나중에 이어서 학습시키려면 모델의 구조와 파라미터뿐만 아니라 optimizer, loss 함수 등 학습에 필요한 객체들도 함께 저장해야 한다.\n",
    "- 딕셔너리(Dictionary)에 저장하려는 값들을 key-value 쌍으로 구성하여 `torch.save()`를 이용해 저장한다.\n",
    "\n",
    "```python\n",
    "# 저장\n",
    "torch.save({\n",
    "    'epoch': epoch,\n",
    "    'model_state_dict': model.state_dict(),\n",
    "    'optimizer_state_dict': optimizer.state_dict(),\n",
    "    'loss': train_loss\n",
    "}, \"저장경로\")\n",
    "\n",
    "# 불러오기\n",
    "model = MyModel()\n",
    "optimizer = optim.Adam(model.parameters())\n",
    "\n",
    "# 불러온 checkpoint를 이용해 이전 학습 상태 복원\n",
    "checkpoint = torch.load(\"저장경로\")\n",
    "model.load_state_dict(checkpoint['model_state_dict'])\n",
    "optimizer.load_state_dict(checkpoint['optimizer_state_dict'])\n",
    "epoch = checkpoint['epoch']\n",
    "loss = checkpoint['loss']\n",
    "```"
   ]
  },
  {
   "cell_type": "markdown",
   "metadata": {},
   "source": [
    ">`nn.Module`은 PyTorch에서 딥러닝 모델을 만들기 위한 모든 클래스의 부모이며,<br>\n",
    ">모델의 구조, 파라미터, 학습 관련 기능을 모두 포함하고 관리하는 기반 클래스.\n",
    "\n",
    "필요하면 `nn.Module` 없이도 만들 수는 있지만, 학습과 저장/불러오기 기능을 쓰려면 반드시 상속받아야 한다."
   ]
  },
  {
   "cell_type": "code",
   "execution_count": null,
   "metadata": {},
   "outputs": [],
   "source": []
  },
  {
   "cell_type": "markdown",
   "metadata": {},
   "source": [
    "# PROBLEMS"
   ]
  },
  {
   "cell_type": "markdown",
   "metadata": {},
   "source": [
    "## 1. 간단한 모델 정의 후, 내가 정의한 모델의 정보를 파악해보기"
   ]
  },
  {
   "cell_type": "code",
   "execution_count": null,
   "metadata": {
    "executionInfo": {
     "elapsed": 9212,
     "status": "ok",
     "timestamp": 1747095537851,
     "user": {
      "displayName": "남궁건우",
      "userId": "00560730431062529338"
     },
     "user_tz": -540
    },
    "id": "tzvs52TP6L-G"
   },
   "outputs": [],
   "source": [
    "# 1. 간단한 모델 정의 \n",
    "import torch\n",
    "import torch.nn as nn\n",
    "\n",
    "class MyModel():  # 상속. 부모 클래스: nn.Module\n",
    "\n",
    "    def __init__(self):\n",
    "        super.__init__()                         # 부모 생성자 호출 \n",
    "        self.lr1 = nn.Linear(3, 4)  # 입력: (batch_size, 3) → 출력: (batch_size, 4)\n",
    "        self.lr2 = nn.Linear(4, 2)  # 입력: (batch_size, 4) → 출력: (batch_size, 2) \n",
    "        self.relu = nn.ReLU() \n",
    "    def forward(self, X): # lr1, lr2, relu를 적절한 순서로 배치\n",
    "        X = self.lr1(X)\n",
    "        X = self.relu()(X)\n",
    "        X = \n",
    "        return X"
   ]
  },
  {
   "cell_type": "code",
   "execution_count": null,
   "metadata": {
    "colab": {
     "base_uri": "https://localhost:8080/"
    },
    "executionInfo": {
     "elapsed": 50,
     "status": "ok",
     "timestamp": 1747095541521,
     "user": {
      "displayName": "남궁건우",
      "userId": "00560730431062529338"
     },
     "user_tz": -540
    },
    "id": "pGebFqlf6L-G",
    "outputId": "607a8eb1-f96c-41de-d5ed-76b676315028"
   },
   "outputs": [],
   "source": [
    "# 2. 모델 생성 - 위 모델 클래스를 model1이라는 변수에 담아 호출하기\n",
    "model1 =\n",
    "model1"
   ]
  },
  {
   "cell_type": "code",
   "execution_count": null,
   "metadata": {
    "colab": {
     "base_uri": "https://localhost:8080/"
    },
    "executionInfo": {
     "elapsed": 53,
     "status": "ok",
     "timestamp": 1747095542281,
     "user": {
      "displayName": "남궁건우",
      "userId": "00560730431062529338"
     },
     "user_tz": -540
    },
    "id": "wnBKZs4Y8t3p",
    "outputId": "e6406397-d54a-49cf-91e3-db8149e0953c"
   },
   "outputs": [],
   "source": [
    "# 2. lr1 레이어의 레이어객체를 조회\n",
    "## \"lr1\"이라는 변수에 할당하기\n",
    "lr1 = \n",
    "lr1"
   ]
  },
  {
   "cell_type": "code",
   "execution_count": null,
   "metadata": {
    "colab": {
     "base_uri": "https://localhost:8080/"
    },
    "executionInfo": {
     "elapsed": 151,
     "status": "ok",
     "timestamp": 1747095543100,
     "user": {
      "displayName": "남궁건우",
      "userId": "00560730431062529338"
     },
     "user_tz": -540
    },
    "id": "Eeaa1Nwl9DCh",
    "outputId": "bf7fd26f-80d8-4e79-fb89-fdf4aacf5f9f"
   },
   "outputs": [],
   "source": [
    "# 3. lr1 레이어에서 weight 파라미터 조회\n",
    "w =\n",
    "print(w.shape)\n",
    "w"
   ]
  },
  {
   "cell_type": "code",
   "execution_count": null,
   "metadata": {
    "colab": {
     "base_uri": "https://localhost:8080/"
    },
    "executionInfo": {
     "elapsed": 31,
     "status": "ok",
     "timestamp": 1747095544012,
     "user": {
      "displayName": "남궁건우",
      "userId": "00560730431062529338"
     },
     "user_tz": -540
    },
    "id": "1BEOKng-9fFa",
    "outputId": "4b74ab17-4782-4fb3-a37e-f88beb622097"
   },
   "outputs": [],
   "source": [
    "# 4. lr1레이어에서 bias 파라미터 조회\n",
    "b = \n",
    "print(b.shape)\n",
    "b"
   ]
  },
  {
   "cell_type": "code",
   "execution_count": null,
   "metadata": {},
   "outputs": [],
   "source": [
    "# 5. lr2의 w,b를 조회해보자\n",
    "## 1) lr2 정의\n",
    "## 2) 각각 메서드 붙여 print함수에 담기\n",
    "lr2 = \n",
    "print(\"weight:\", )\n",
    "print(\"bias:\", )"
   ]
  },
  {
   "cell_type": "markdown",
   "metadata": {},
   "source": [
    "## 2. 생성한 모델 저장 및 불러오기"
   ]
  },
  {
   "cell_type": "code",
   "execution_count": null,
   "metadata": {
    "executionInfo": {
     "elapsed": 40,
     "status": "ok",
     "timestamp": 1747095546162,
     "user": {
      "displayName": "남궁건우",
      "userId": "00560730431062529338"
     },
     "user_tz": -540
    },
    "id": "C8ZLsLON6L-G"
   },
   "outputs": [],
   "source": [
    "import os\n",
    "# 1. 저장할 디렉토리 설정\n",
    "## 1) \"saved_models\"라는 폴더이름으로 생성.\n",
    "## 2) but 폴더가 이미 있으면 그냥 지나가도록 키워드 파라미터 지정\n",
    "## 3) saved_models라는 폴더 이미 있습니다! 일부러 이미 만들어둔거에요! \n",
    "\n",
    "os.makedirs(\"\",)  \n"
   ]
  },
  {
   "cell_type": "code",
   "execution_count": null,
   "metadata": {},
   "outputs": [],
   "source": [
    "# 2. 모델을 저장\n",
    "## 1) 위에서 간단히 만든 모델을\n",
    "## 2) \"saved_models\"라는 디렉토리에 \n",
    "## 3) \"model1\"이라는 이름으로 저장하기\n",
    "## 4) 저장시 확장자는 \".pt\"\n",
    "\n",
    "torch.save(,)"
   ]
  },
  {
   "cell_type": "code",
   "execution_count": null,
   "metadata": {
    "collapsed": true,
    "executionInfo": {
     "elapsed": 24,
     "status": "ok",
     "timestamp": 1747095547250,
     "user": {
      "displayName": "남궁건우",
      "userId": "00560730431062529338"
     },
     "user_tz": -540
    },
    "id": "erPqenra6L-H",
    "jupyter": {
     "outputs_hidden": true
    }
   },
   "outputs": [],
   "source": [
    "# 3. 저장된 모델을 Load하기\n",
    "## 1) \"load_model\"이라는 변수에 담기\n",
    "## 2) 불러올 모델 경로 적기\n",
    "## 3) 모델 전체를 불러오기위한 키워드파라미터 지정\n",
    "\n",
    "= torch.load(,)"
   ]
  },
  {
   "cell_type": "code",
   "execution_count": null,
   "metadata": {
    "colab": {
     "base_uri": "https://localhost:8080/"
    },
    "executionInfo": {
     "elapsed": 20,
     "status": "ok",
     "timestamp": 1747095548248,
     "user": {
      "displayName": "남궁건우",
      "userId": "00560730431062529338"
     },
     "user_tz": -540
    },
    "id": "WbayXX866L-H",
    "outputId": "42bd1a88-20bd-4da8-98a1-02a5ac123df9"
   },
   "outputs": [],
   "source": [
    "# 불러온 모델의 구조보기\n",
    "# 그냥 호출해보시고, 어떤 식으로 정보를 보여주나 확인해보시면 됩니다.\n",
    "# 별도로 기재하실 코드는 없습니다.\n",
    "load_model"
   ]
  },
  {
   "cell_type": "markdown",
   "metadata": {},
   "source": [
    "## 3. 저장한 모델과 불러온 모델이 같은 정보 갖는지 확인하기"
   ]
  },
  {
   "cell_type": "code",
   "execution_count": null,
   "metadata": {
    "colab": {
     "base_uri": "https://localhost:8080/"
    },
    "executionInfo": {
     "elapsed": 39,
     "status": "ok",
     "timestamp": 1747095549278,
     "user": {
      "displayName": "남궁건우",
      "userId": "00560730431062529338"
     },
     "user_tz": -540
    },
    "id": "xLqLVenr-MRM",
    "outputId": "d3ee5078-d80b-4b50-e8f7-bc2a32a51705"
   },
   "outputs": [],
   "source": [
    "# 1. load_model의 lr1와 lr2의 파라미터(weight, bias) 모두 출력해서 저장전 model의 파라미터가 그대로 저장됐는지 확인\n",
    "## 저장전에는 lr1, lr2라는 변수에 레이어의 정보를 정의했고,\n",
    "## 저장후 불러온 모델은 load_lr1, load_lr2라는 변수에 정의하고 양자를 비교하기\n",
    "## 1) lr1에 관한 정보를 \"load_lr1\"라는 변수에 정의하기\n",
    "## 2) lr2에 관한 정보를 \"load_lr2\"라는 변수에 정의하기\n",
    "## 3) lr1, load_lr1, lr2, load_lr2에 각각 weight, bias메서드 붙여서 print()함수에 담아 출력하기\n",
    "\n",
    "load_lr1 =\n",
    "load_lr2 =\n",
    "print() # lr1 weight\n",
    "print() # load_lr1 weight\n",
    "print() # lr1 bias\n",
    "print() # load_lr1 bias\n",
    "\n",
    "print(\"\\n\",\"=\"*50,\"\\n\")\n",
    "\n",
    "print() # lr2 weight\n",
    "print() # load_lr2 weight\n",
    "print() # lr2 bias\n",
    "print() # load_lr2 bias"
   ]
  },
  {
   "cell_type": "markdown",
   "metadata": {},
   "source": [
    "## 4. 모델의 파라미터들(W,b)만 저장/불러오기"
   ]
  },
  {
   "cell_type": "code",
   "execution_count": null,
   "metadata": {
    "colab": {
     "base_uri": "https://localhost:8080/"
    },
    "executionInfo": {
     "elapsed": 59,
     "status": "ok",
     "timestamp": 1747095553680,
     "user": {
      "displayName": "남궁건우",
      "userId": "00560730431062529338"
     },
     "user_tz": -540
    },
    "id": "cmO_hVUw6L-H",
    "outputId": "e33aec23-cc89-4ff1-c87e-a54a281f048a"
   },
   "outputs": [],
   "source": [
    "# 1. 저장하기\n",
    "## 1) 제일 처음에 만들었던 간단한 모델(model1)을 이용하기\n",
    "## 2) \"state_dict()\" 메서드 이용하여 \"state_dict\"라는 변수에 담고, 호출해보기\n",
    "state_dict =\n",
    "state_dict"
   ]
  },
  {
   "cell_type": "code",
   "execution_count": null,
   "metadata": {
    "colab": {
     "base_uri": "https://localhost:8080/"
    },
    "executionInfo": {
     "elapsed": 42,
     "status": "ok",
     "timestamp": 1747095554427,
     "user": {
      "displayName": "남궁건우",
      "userId": "00560730431062529338"
     },
     "user_tz": -540
    },
    "id": "s4GBucb56L-H",
    "outputId": "8e88b2f7-e434-479c-a2ce-402b5380922b"
   },
   "outputs": [],
   "source": [
    "# 2. state_dict()의 저장형태는 dictionary\n",
    "## key값들 호출하여 저장시 weight와 bias가 keys로서 저장된걸 확인\n",
    "## 별도 기재할 코드 없이, 그냥 호출해보시면 됩니다.\n",
    "state_dict.keys()"
   ]
  },
  {
   "cell_type": "code",
   "execution_count": null,
   "metadata": {
    "executionInfo": {
     "elapsed": 18,
     "status": "ok",
     "timestamp": 1747095555158,
     "user": {
      "displayName": "남궁건우",
      "userId": "00560730431062529338"
     },
     "user_tz": -540
    },
    "id": "-zGbyP8Z6L-I"
   },
   "outputs": [],
   "source": [
    "# 3. state_dict 저장\n",
    "## 1) \"state_dict\"을\n",
    "## 2) \"saved_models\"라는 디렉토리에\n",
    "## 3) \"model1_parameter\"라는 이름으로 저장하기\n",
    "## 4) 저장시 확장자는 \".pt\"\n",
    "torch.save()"
   ]
  },
  {
   "cell_type": "code",
   "execution_count": null,
   "metadata": {
    "executionInfo": {
     "elapsed": 24,
     "status": "ok",
     "timestamp": 1747095556298,
     "user": {
      "displayName": "남궁건우",
      "userId": "00560730431062529338"
     },
     "user_tz": -540
    },
    "id": "qQbfcVn86L-I"
   },
   "outputs": [],
   "source": [
    "# 4. state_dict load\n",
    "## 1) \"sd\"이라는 변수에 담기\n",
    "## 2) 불러올 모델 경로 적기\n",
    "## 3) 마지막 줄에 \"sd\" 적어 sd 호출하기\n",
    "= torch.load()"
   ]
  },
  {
   "cell_type": "markdown",
   "metadata": {},
   "source": [
    "## 5. 새로운 모델 만들어서 불러온 파라미터를 덮어씌워보기"
   ]
  },
  {
   "cell_type": "code",
   "execution_count": null,
   "metadata": {
    "colab": {
     "base_uri": "https://localhost:8080/"
    },
    "executionInfo": {
     "elapsed": 22,
     "status": "ok",
     "timestamp": 1747095557212,
     "user": {
      "displayName": "남궁건우",
      "userId": "00560730431062529338"
     },
     "user_tz": -540
    },
    "id": "Cm9GdvEz6L-I",
    "outputId": "16930c65-b908-4d97-b71c-b9a3bfc6b56f"
   },
   "outputs": [],
   "source": [
    "# 1. 새로운 모델 생성 후 파라미터 확인\n",
    "## 1) \"model2\"라는 객체를 생성(변수에 할당)\n",
    "## 2) \"state_dict()\"메서드 이용하여 현재 파라미터 호출하여 확인\n",
    "\n",
    "model2 = \n",
    "model2."
   ]
  },
  {
   "cell_type": "code",
   "execution_count": null,
   "metadata": {
    "colab": {
     "base_uri": "https://localhost:8080/"
    },
    "executionInfo": {
     "elapsed": 45,
     "status": "ok",
     "timestamp": 1747095558214,
     "user": {
      "displayName": "남궁건우",
      "userId": "00560730431062529338"
     },
     "user_tz": -540
    },
    "id": "cYy531RA6L-I",
    "outputId": "256fdbd4-3970-434b-92f8-6943d1f53a33"
   },
   "outputs": [],
   "source": [
    "# 2. \"sd\"에 담긴 파라미터 정보 덮어씌우기\n",
    "## \"load_state_dict()\" 메서드 사용\n",
    "model2."
   ]
  },
  {
   "cell_type": "code",
   "execution_count": null,
   "metadata": {
    "colab": {
     "base_uri": "https://localhost:8080/"
    },
    "executionInfo": {
     "elapsed": 24,
     "status": "ok",
     "timestamp": 1747095559359,
     "user": {
      "displayName": "남궁건우",
      "userId": "00560730431062529338"
     },
     "user_tz": -540
    },
    "id": "UYI9mk6j6L-I",
    "outputId": "d6945b11-dcbe-4a56-a682-d94bf1ee64da"
   },
   "outputs": [],
   "source": [
    "# 3. 덮어씌워진 결과 확인\n",
    "## \"state_dict()\" 메서드 사용\n",
    "model2."
   ]
  },
  {
   "cell_type": "markdown",
   "metadata": {},
   "source": [
    "## 6. 모델의 구조 파악하기"
   ]
  },
  {
   "cell_type": "code",
   "execution_count": null,
   "metadata": {
    "colab": {
     "base_uri": "https://localhost:8080/"
    },
    "executionInfo": {
     "elapsed": 22,
     "status": "ok",
     "timestamp": 1747095567322,
     "user": {
      "displayName": "남궁건우",
      "userId": "00560730431062529338"
     },
     "user_tz": -540
    },
    "id": "FDqzvsla6L-I",
    "outputId": "d266eb1d-ea24-41eb-bc0f-b744f9e584b4"
   },
   "outputs": [],
   "source": [
    "from torchinfo import summary\n",
    "\n",
    "# 1. 모델 구조 summary() 모듈 이용해서 확인하기\n",
    "## 1) model1과 model2 모두 넣어서 모델의 구조 출력하기\n",
    "## 2) 두 모델의 summary() 결과가 같은지 확인해보기\n",
    "## 3) 동일한지 여부 결과는 false가 나와야합니다.\n",
    "## 4) 두 모델의 구조가 같은데, 왜 false인지 생각해보기\n",
    "## 5) (제가 처음에 True가 나올거라고 생각하고 출력해봤는데 False길래 궁금했던 부분이라 넣어봤어요!)\n",
    "\n",
    "print() # model1\n",
    "\n",
    "print(\"\\n\", \"<\"*25+\"구분선\"+\">\"*25, \"\\n\")\n",
    "\n",
    "print() # model2\n",
    "\n",
    "print(\"\\n\", \"<\"*25+\"구분선\"+\">\"*25, \"\\n\")\n",
    "\n",
    "print( == )"
   ]
  },
  {
   "cell_type": "code",
   "execution_count": null,
   "metadata": {
    "colab": {
     "base_uri": "https://localhost:8080/"
    },
    "executionInfo": {
     "elapsed": 42,
     "status": "ok",
     "timestamp": 1747095568319,
     "user": {
      "displayName": "남궁건우",
      "userId": "00560730431062529338"
     },
     "user_tz": -540
    },
    "id": "uLq-uzAI6L-I",
    "outputId": "efc84004-dbcb-4671-8eaf-9eeeaaeda0fc"
   },
   "outputs": [],
   "source": [
    "# 2. imput data의 shape를 지정하여 넣어주어 각 layer의 output shape 확인\n",
    "## 1) 확인할 대상인 모델은 model1이든 model2든 상관없습니다. 아무거나!\n",
    "## 2) input data의 batch size는 100\n",
    "## 3) 처음에 model의 class 만들때 코드를 어떻게 짰는지 생각하여 input data의 size를 생각해보기\n",
    "summary(,(,))"
   ]
  }
 ],
 "metadata": {
  "colab": {
   "provenance": []
  },
  "kernelspec": {
   "display_name": "dl",
   "language": "python",
   "name": "python3"
  },
  "language_info": {
   "codemirror_mode": {
    "name": "ipython",
    "version": 3
   },
   "file_extension": ".py",
   "mimetype": "text/x-python",
   "name": "python",
   "nbconvert_exporter": "python",
   "pygments_lexer": "ipython3",
   "version": "3.12.10"
  },
  "toc": {
   "base_numbering": 1,
   "nav_menu": {},
   "number_sections": false,
   "sideBar": true,
   "skip_h1_title": false,
   "title_cell": "Table of Contents",
   "title_sidebar": "Contents",
   "toc_cell": false,
   "toc_position": {
    "height": "calc(100% - 180px)",
    "left": "10px",
    "top": "150px",
    "width": "512px"
   },
   "toc_section_display": true,
   "toc_window_display": false
  },
  "varInspector": {
   "cols": {
    "lenName": 16,
    "lenType": 16,
    "lenVar": 40
   },
   "kernels_config": {
    "python": {
     "delete_cmd_postfix": "",
     "delete_cmd_prefix": "del ",
     "library": "var_list.py",
     "varRefreshCmd": "print(var_dic_list())"
    },
    "r": {
     "delete_cmd_postfix": ") ",
     "delete_cmd_prefix": "rm(",
     "library": "var_list.r",
     "varRefreshCmd": "cat(var_dic_list()) "
    }
   },
   "types_to_exclude": [
    "module",
    "function",
    "builtin_function_or_method",
    "instance",
    "_Feature"
   ],
   "window_display": false
  }
 },
 "nbformat": 4,
 "nbformat_minor": 0
}
