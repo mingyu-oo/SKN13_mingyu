{
 "cells": [
  {
   "cell_type": "markdown",
   "id": "01205a1f",
   "metadata": {},
   "source": [
    "# 판다스 (Pandas)\n",
    "\n",
    "판다스는 표형태의 데이터를 다루는데 특화된 파이썬 모듈.<br>\n",
    "처음 사용한다면, `pip install pandas` ~\n",
    "\n",
    "> 그렇다면, 여기서 문제!<br>\n",
    ">\n",
    "> 판다스가 다룰 수 있는 2가지의 표 형태가 있는데 그 각각의 이름은 무엇일까요?"
   ]
  },
  {
   "cell_type": "markdown",
   "id": "85263035",
   "metadata": {},
   "source": [
    "정답: "
   ]
  },
  {
   "cell_type": "markdown",
   "id": "aa5a7f52",
   "metadata": {},
   "source": [
    "![seriesvsdataframe.png](seriesvsdataframe.png)"
   ]
  },
  {
   "cell_type": "markdown",
   "id": "77322975",
   "metadata": {},
   "source": [
    "# Series\n",
    "\n",
    "-   **1차원** 자료구조\n",
    "-   DataFrame(표)의 **한 행(row)** 이나 **한 열(column)** 을 표현한다.\n",
    "-   각 원소는 **index**와 **index 이름**을 가지며 그것들을 이용해 사용할 수 있다.\n",
    "-   벡터화 연산(element-wise 연산)을 지원\n",
    "    -   Series 객체에 연산을 하면 각각의 Series 원소들에 연산이 된다.\n",
    "-   Series를 구성하는 원소들을 다루는 다양한 메소드 제공"
   ]
  },
  {
   "cell_type": "code",
   "execution_count": 1,
   "id": "2bdf58b0",
   "metadata": {},
   "outputs": [
    {
     "data": {
      "text/plain": [
       "0     0\n",
       "1    10\n",
       "2    20\n",
       "3    30\n",
       "4    40\n",
       "5    50\n",
       "6    60\n",
       "dtype: int64"
      ]
     },
     "execution_count": 1,
     "metadata": {},
     "output_type": "execute_result"
    }
   ],
   "source": [
    "import pandas as pd\n",
    "data = [0, 10, 20, 30, 40, 50, 60]\n",
    "# series 생성코드\n",
    "s1 = pd.Series(data)\n",
    "s1"
   ]
  },
  {
   "cell_type": "code",
   "execution_count": 2,
   "id": "4cb5f594",
   "metadata": {},
   "outputs": [
    {
     "data": {
      "text/plain": [
       "국어     70\n",
       "국어    100\n",
       "수학     80\n",
       "과학     95\n",
       "국사     75\n",
       "dtype: int64"
      ]
     },
     "execution_count": 2,
     "metadata": {},
     "output_type": "execute_result"
    }
   ],
   "source": [
    "# 그럼 이번엔 index 이름름을 지정해서 series를 생성하고 싶을땐 어떻게 해야할까?\n",
    "# 힌트: pd.Series([값], index=[index이름])\n",
    "# 값: 70, 100, 80, 95, 75 / index이름: '국어', '국어', '수학', '과학', '국사' \n",
    "#여기를 채워보자.\n",
    "s2 = pd.Series([70, 100, 80, 95, 75,], index=['국어', '국어', '수학', '과학', '국사'])\n",
    "s2"
   ]
  },
  {
   "cell_type": "markdown",
   "id": "b46239e1",
   "metadata": {},
   "source": [
    "### Series 객체의 속성"
   ]
  },
  {
   "cell_type": "code",
   "execution_count": 6,
   "id": "99a699ab",
   "metadata": {},
   "outputs": [
    {
     "name": "stdout",
     "output_type": "stream",
     "text": [
      "(7,)\n",
      "int64\n",
      "7\n",
      "RangeIndex(start=0, stop=7, step=1)\n"
     ]
    }
   ],
   "source": [
    "# 차원(축-axis)별 원소 개수\n",
    "print(s1.shape)\n",
    "#데이터 타입\n",
    "print(s1.dtype)\n",
    "# 총 원소 개수\n",
    "print(s1.size)\n",
    "# index 이름 조회\n",
    "print(s1.index)"
   ]
  },
  {
   "cell_type": "markdown",
   "id": "20da7e13",
   "metadata": {},
   "source": [
    "## index 변경"
   ]
  },
  {
   "cell_type": "code",
   "execution_count": 9,
   "id": "0c8054d3",
   "metadata": {},
   "outputs": [
    {
     "data": {
      "text/plain": [
       "A     0\n",
       "B    10\n",
       "C    20\n",
       "D    30\n",
       "E    40\n",
       "F    50\n",
       "G    60\n",
       "dtype: int64"
      ]
     },
     "execution_count": 9,
     "metadata": {},
     "output_type": "execute_result"
    }
   ],
   "source": [
    "# 한번에 변경 \n",
    "# s1.index[3] = '가' # 이 방식으로는 개별 index name 변경 안됨.\n",
    "# 힌트: 리스트 함수 써서 index를 각각 ABCDEFG로로 변경해보기\n",
    "s1.index = list(\"ABCDEFG\")\n",
    "s1"
   ]
  },
  {
   "cell_type": "code",
   "execution_count": 12,
   "id": "c1034751",
   "metadata": {},
   "outputs": [
    {
     "data": {
      "text/plain": [
       "기역     0\n",
       "B     10\n",
       "C     20\n",
       "D     30\n",
       "E     40\n",
       "F     50\n",
       "G     60\n",
       "dtype: int64"
      ]
     },
     "execution_count": 12,
     "metadata": {},
     "output_type": "execute_result"
    }
   ],
   "source": [
    "# 개별 index name 변경  - rename\n",
    "# 그냥 rename을 할 겨우에는 원데이터는 바뀌지 않는다. \n",
    "# 힌트: {원래이름: 바꿀이름}, inplace=True : 원데이터를 바꿀거야\n",
    "s1.rename({\"A\" : \"기역\"}, inplace=True)\n",
    "s1"
   ]
  },
  {
   "cell_type": "markdown",
   "id": "e5fd9176",
   "metadata": {},
   "source": [
    "## Series안의 원소 접근 : Indexing & Slicing\n",
    "\n",
    "일단 index의 종류부터 알아보자!\n",
    "\n",
    "-   Index는 Series에 저장된 각 원소를 구분하는 식별자로 각 원소를 사용할때 사용한다. <br> Series의 원소들은 두 종류의 index를 가진다.<br>\n",
    "\n",
    "    1. 내부적으로 관리되는 **index(순번)** (양 또는 음수) ; 우리가 원래 알고 있는 것\n",
    "        - 자동으로 배정되는 순번.\n",
    "        - **리스트나 튜플의 index**와 동일하다.\n",
    "        - 0 부터 1씩 증가하는 양수 index와 -1 부터 1씩 감소하는 음수 index 두가지가 붙는다. 양수 index는 앞에서 부터, 음수 index는 뒤에서 부터 붙는다.\n",
    "    2. **index name(index 이름)**\n",
    "        - 명시적으로 각 원소에 지정하는 이름\n",
    "        - **딕셔너리의 key**의 역할을 한다.\n",
    "            - Series의 index name은 중복될 수 있다.\n",
    "        - 생략하면 양수 index가 index name이 된다.\n",
    "    -   Index와 index name 두가지의 식별자가 붙는 것은 Series, DataFrame 동일하다.\n",
    "    -   Series나 DataFrame을 출력하면 나오는 index는 index name이다. 자동으로 붙는 index는 판다스 내부에서 관리된다.\n"
   ]
  },
  {
   "cell_type": "markdown",
   "id": "1a163bee",
   "metadata": {},
   "source": [
    "### Indexing\n",
    "\n",
    "-   한개의 원소를 조회하거나 변경할 때 사용.\n",
    "-   **index (순번) 으로 조회**\n",
    "    -   `Series.iloc[순번]`\n",
    "-   **index 이름으로 조회**\n",
    "    -   `Series[index 이름]`\n",
    "    -   `Series.loc[index 이름]`\n",
    "    -   index 이름의 타입에 맞춰 조회한다.\n",
    "        -   `s['name'], s[2], s.loc['name'], s.loc[2]`\n",
    "    -   Series.index이름\n",
    "        -   index의 이름이 **파이썬 식별자 규칙에 맞을** 경우 `. 표기법` 사용 할 수 있다..\n",
    "-   **팬시(fancy) 인덱싱** -`Series[index리스트]`\n",
    "    -   한번에 여러개의 원소를 조회할 경우 조회할 index들을 list로 묶어서 전달한다.\n",
    "        -   `series[[\"A\", \"B\", \"C\"]]`\n"
   ]
  },
  {
   "cell_type": "code",
   "execution_count": 13,
   "id": "db0aed07",
   "metadata": {},
   "outputs": [
    {
     "data": {
      "text/plain": [
       "0      0\n",
       "1      1\n",
       "2      2\n",
       "3      3\n",
       "4      4\n",
       "5      5\n",
       "6      6\n",
       "7      7\n",
       "8      8\n",
       "9      9\n",
       "10    10\n",
       "11    11\n",
       "12    12\n",
       "13    13\n",
       "14    14\n",
       "15    15\n",
       "16    16\n",
       "17    17\n",
       "18    18\n",
       "19    19\n",
       "dtype: int64"
      ]
     },
     "execution_count": 13,
     "metadata": {},
     "output_type": "execute_result"
    }
   ],
   "source": [
    "s3 = pd.Series(range(20))\n",
    "s3"
   ]
  },
  {
   "cell_type": "code",
   "execution_count": 14,
   "id": "2819c8f3",
   "metadata": {},
   "outputs": [
    {
     "data": {
      "text/plain": [
       "(np.int64(3), np.int64(3))"
      ]
     },
     "execution_count": 14,
     "metadata": {},
     "output_type": "execute_result"
    }
   ],
   "source": [
    "# index 이름으로 조회, '3'을 조회\n",
    "# 힌트: Series[index 이름], Series.loc[index 이름]\n",
    "s3[3], s3.loc[3]"
   ]
  },
  {
   "cell_type": "code",
   "execution_count": 15,
   "id": "a019964c",
   "metadata": {},
   "outputs": [
    {
     "data": {
      "text/plain": [
       "np.int64(3)"
      ]
     },
     "execution_count": 15,
     "metadata": {},
     "output_type": "execute_result"
    }
   ],
   "source": [
    "# 양수 index 순번으로 조회, 순번3을 조회\n",
    "# 힌트: Series.iloc[순번]\n",
    "s3.iloc[3]"
   ]
  },
  {
   "cell_type": "code",
   "execution_count": 16,
   "id": "00afd514",
   "metadata": {},
   "outputs": [
    {
     "data": {
      "text/plain": [
       "np.int64(17)"
      ]
     },
     "execution_count": 16,
     "metadata": {},
     "output_type": "execute_result"
    }
   ],
   "source": [
    "# 음수 index 순번으로 조회, 순번3을 조회\n",
    "# 힌트: Series.iloc[순번]\n",
    "s3.iloc[-3]"
   ]
  },
  {
   "cell_type": "code",
   "execution_count": 19,
   "id": "5b0591e6",
   "metadata": {},
   "outputs": [
    {
     "data": {
      "text/plain": [
       "3    3\n",
       "4    4\n",
       "5    5\n",
       "dtype: int64"
      ]
     },
     "execution_count": 19,
     "metadata": {},
     "output_type": "execute_result"
    }
   ],
   "source": [
    "# 한번에 여러개 조회 (이름으로 조회)\n",
    "# 힌트: series[[\"A\", \"B\", \"C\"]]\n",
    "s3.loc[[3,4,5]]"
   ]
  },
  {
   "cell_type": "code",
   "execution_count": 20,
   "id": "6a7e26d9",
   "metadata": {},
   "outputs": [
    {
     "data": {
      "text/plain": [
       "1      1\n",
       "5      5\n",
       "3      3\n",
       "19    19\n",
       "dtype: int64"
      ]
     },
     "execution_count": 20,
     "metadata": {},
     "output_type": "execute_result"
    }
   ],
   "source": [
    "# 한번에 여러개 조회 (순번으로 조회)\n",
    "# 힌트: series.iloc[[양수, 음수 다 쓸 수 있음!]]\n",
    "s3.iloc[[1,5,3,-1]]"
   ]
  },
  {
   "cell_type": "code",
   "execution_count": 26,
   "id": "945f11d5",
   "metadata": {},
   "outputs": [
    {
     "name": "stderr",
     "output_type": "stream",
     "text": [
      "C:\\Users\\Playdata\\AppData\\Local\\Temp\\ipykernel_12112\\2100764431.py:9: FutureWarning: Series.__getitem__ treating keys as positions is deprecated. In a future version, integer keys will always be treated as labels (consistent with DataFrame behavior). To access a value by position, use `ser.iloc[pos]`\n",
      "  s2[[1,2]]\n"
     ]
    },
    {
     "data": {
      "text/plain": [
       "국어    100\n",
       "수학     80\n",
       "dtype: int64"
      ]
     },
     "execution_count": 26,
     "metadata": {},
     "output_type": "execute_result"
    }
   ],
   "source": [
    "# 이번엔 s2를 조회\n",
    "# . 표기법으로 조회\n",
    "s2.수학\n",
    "\n",
    "# 이름으로 조회\n",
    "s2[\"국어\"]\n",
    "\n",
    "# 순번으로 조회\n",
    "s2[[1,2]]\n"
   ]
  },
  {
   "cell_type": "code",
   "execution_count": 23,
   "id": "eb8d1f10",
   "metadata": {},
   "outputs": [
    {
     "data": {
      "text/plain": [
       "국어     70\n",
       "국어    100\n",
       "수학     80\n",
       "과학     95\n",
       "국사     75\n",
       "dtype: int64"
      ]
     },
     "execution_count": 23,
     "metadata": {},
     "output_type": "execute_result"
    }
   ],
   "source": [
    "s2"
   ]
  },
  {
   "cell_type": "markdown",
   "id": "8615c7e9",
   "metadata": {},
   "source": [
    "### Slicing\n",
    "\n",
    "-   범위로 원소들을 조회할 때 사용한다.\n",
    "-   **Series[start index : stop index : step]**\n",
    "    -   start index 생략 : 0번 부터\n",
    "    -   stop index\n",
    "        -   **index 순번일 경우는 포함 하지 않는다.**\n",
    "        -   **index 명의 경우는 포함한다.**\n",
    "    -   stop index 생략 : 마지막 index까지\n",
    "    -   step 생략 : 1씩 증가\n",
    "    -   start index > stop index 이고 step이 음수 이면 역순으로 조회한다.\n",
    "-   **Slicing의 결과는 원본의 참조(View)를 반환**\n",
    "    -   Slicing한 결과는 새로운 Sesries에 넣어 주는 것이 아니라 대상 Series에서 조회한 결과를 참조하게 한다.\n",
    "    -   Slicing한 결과의 원소를 변경하면 slicing 했던 대상(원본)도 같이 바뀐다.\n",
    "    -   원본은 변경되지 않게 하려면 `slicing결과.copy()` 를 이용해 결과 Series를 복사 해 새로 만든 뒤 그것을 변경해야 한다.\n"
   ]
  },
  {
   "cell_type": "code",
   "execution_count": 29,
   "id": "1e967f2b",
   "metadata": {},
   "outputs": [
    {
     "data": {
      "text/plain": [
       "3      3\n",
       "4      4\n",
       "5      5\n",
       "6      6\n",
       "7      7\n",
       "8      8\n",
       "9      9\n",
       "10    10\n",
       "dtype: int64"
      ]
     },
     "execution_count": 29,
     "metadata": {},
     "output_type": "execute_result"
    }
   ],
   "source": [
    "#  index 이름으로 slicing시 stop 포함  \n",
    "# 3부터 10까지 조회해줘\n",
    "# s3.loc[]\n",
    "s3.loc[3:10]"
   ]
  },
  {
   "cell_type": "code",
   "execution_count": null,
   "id": "aea461eb",
   "metadata": {},
   "outputs": [
    {
     "data": {
      "text/plain": [
       "3      3\n",
       "4      4\n",
       "5      5\n",
       "6      6\n",
       "7      7\n",
       "8      8\n",
       "9      9\n",
       "10    10\n",
       "dtype: int64"
      ]
     },
     "execution_count": 30,
     "metadata": {},
     "output_type": "execute_result"
    }
   ],
   "source": [
    "#  index(순번) 으로 slicing시 stop 포함 안됨.\n",
    "# 3부터 10까지 조회해줘\n",
    "# s3.iloc[]\n",
    "s3.iloc[3:11]\n"
   ]
  },
  {
   "cell_type": "code",
   "execution_count": 31,
   "id": "6081e617",
   "metadata": {},
   "outputs": [
    {
     "data": {
      "text/plain": [
       "수학    80\n",
       "과학    95\n",
       "국사    75\n",
       "dtype: int64"
      ]
     },
     "execution_count": 31,
     "metadata": {},
     "output_type": "execute_result"
    }
   ],
   "source": [
    "# 예시 하나 더!\n",
    "s2.loc['수학':'국사']"
   ]
  },
  {
   "cell_type": "code",
   "execution_count": null,
   "id": "9b0fa2e4",
   "metadata": {},
   "outputs": [
    {
     "data": {
      "text/plain": [
       "np.int64(20)"
      ]
     },
     "execution_count": 34,
     "metadata": {},
     "output_type": "execute_result"
    }
   ],
   "source": [
    "# slicing한 결과의 값을 변경\n",
    "# result 안에 넣어줘야 함!\n",
    "result = s2[\"수학\":\"국사\"]\n",
    "result[\"국사\"] = 20 # 75 -> 20으로 변경\n",
    "result[\"국사\"]"
   ]
  },
  {
   "cell_type": "code",
   "execution_count": null,
   "id": "4ab0d6e1",
   "metadata": {},
   "outputs": [
    {
     "data": {
      "text/plain": [
       "국어     70\n",
       "국어    100\n",
       "수학     95\n",
       "dtype: int64"
      ]
     },
     "execution_count": 37,
     "metadata": {},
     "output_type": "execute_result"
    }
   ],
   "source": [
    "# 원본은 변경되지 않게 하기: Series/DataFrame을 복사해서 새로운 객체를 생성.\n",
    "# 힌트: copy()를 사용\n",
    "result2= s2[\"국어\":\"수학\"].copy()\n",
    "result2[\"수학\"] = 95 # 값 변경\n",
    "result2"
   ]
  },
  {
   "cell_type": "markdown",
   "id": "05308054",
   "metadata": {},
   "source": [
    "## 원소 단위 연산(Element-wise)\n",
    "\n",
    "-   Pandas의 Series나 DataFrame은 연산을 하면 원소 단위로 연산을 한다.\n",
    "    -   **벡터화(vectorization)** 이라고도 한다.\n",
    "-   Series/DataFrame과 값(scalar값)을 연산하면 각 원소들과 값을 연산한다.\n",
    "-   Series끼리 또는 DataFrame끼리 연산을 하면 같은 위치의 원소끼리 연산을 한다.\n",
    "    -   **Index 이름**이 (index가 아닌) 같은 원소끼리 연산한다.\n"
   ]
  },
  {
   "cell_type": "code",
   "execution_count": 38,
   "id": "718e9bd7",
   "metadata": {},
   "outputs": [],
   "source": [
    "index_name = ['국어', '영어', '수학', '과학']\n",
    "s1 = pd.Series([80, 90, 100, 50], index=index_name)\n",
    "s2 = pd.Series([100, 50, 80, 100], index=index_name)\n",
    "s3 = pd.Series([1, 2, 3, 4])"
   ]
  },
  {
   "cell_type": "code",
   "execution_count": 40,
   "id": "9b4867c0",
   "metadata": {},
   "outputs": [
    {
     "data": {
      "text/plain": [
       "(국어     80\n",
       " 영어     90\n",
       " 수학    100\n",
       " 과학     50\n",
       " dtype: int64,\n",
       " 국어     6400\n",
       " 영어     8100\n",
       " 수학    10000\n",
       " 과학     2500\n",
       " dtype: int64)"
      ]
     },
     "execution_count": 40,
     "metadata": {},
     "output_type": "execute_result"
    }
   ],
   "source": [
    "# Series 와 상수값 계산 또는 Series와 Series 계산\n",
    "s1, s1 ** 2"
   ]
  },
  {
   "cell_type": "code",
   "execution_count": 41,
   "id": "5ab6044b",
   "metadata": {},
   "outputs": [
    {
     "data": {
      "text/plain": [
       "국어     True\n",
       "영어     True\n",
       "수학     True\n",
       "과학    False\n",
       "dtype: bool"
      ]
     },
     "execution_count": 41,
     "metadata": {},
     "output_type": "execute_result"
    }
   ],
   "source": [
    "s1 > 70"
   ]
  },
  {
   "cell_type": "code",
   "execution_count": 42,
   "id": "2766f422",
   "metadata": {},
   "outputs": [
    {
     "data": {
      "text/plain": [
       "국어     True\n",
       "영어    False\n",
       "수학    False\n",
       "과학     True\n",
       "dtype: bool"
      ]
     },
     "execution_count": 42,
     "metadata": {},
     "output_type": "execute_result"
    }
   ],
   "source": [
    "(s1 >= 50) & (s1 <= 80)    #and (x)"
   ]
  },
  {
   "cell_type": "code",
   "execution_count": 43,
   "id": "6d8100b0",
   "metadata": {},
   "outputs": [
    {
     "data": {
      "text/plain": [
       "국어   -20\n",
       "영어    40\n",
       "수학    20\n",
       "과학   -50\n",
       "dtype: int64"
      ]
     },
     "execution_count": 43,
     "metadata": {},
     "output_type": "execute_result"
    }
   ],
   "source": [
    "s1 - s2  # 같은 index name끼리 연산"
   ]
  },
  {
   "cell_type": "markdown",
   "id": "4fccb6ae",
   "metadata": {},
   "source": [
    "## Boolean 인덱싱\n",
    "\n",
    "-   Series의 indexing 연산자에 boolean 리스트를 넣으면 True인 index의 값들만 조회한다. - **원하는 조건의 값들을 조회**할 때 사용한다.\n",
    "    |논리연산자|설명|\n",
    "    |:-:|-|\n",
    "    |&|and연산|\n",
    "    |\\||or연산|\n",
    "    |~|not 연산| - 논리연산자의 피연산자들은 반드시 ( )로 묶어준다. - 파이썬과는 다르게 `and`, `or`, `not`은 예약어는 사용할 수 없다.\n"
   ]
  },
  {
   "cell_type": "code",
   "execution_count": 46,
   "id": "1c1675bb",
   "metadata": {},
   "outputs": [
    {
     "data": {
      "text/plain": [
       "수학    100\n",
       "dtype: int64"
      ]
     },
     "execution_count": 46,
     "metadata": {},
     "output_type": "execute_result"
    }
   ],
   "source": [
    "# s1이 90점 이상인 과목들을 보고 싶을 때\n",
    "# 힌트: s1[]\n",
    "s1\n",
    "s1[s1 > 90]"
   ]
  },
  {
   "cell_type": "code",
   "execution_count": 51,
   "id": "d671db46",
   "metadata": {},
   "outputs": [
    {
     "data": {
      "text/plain": [
       "국어    80\n",
       "영어    90\n",
       "dtype: int64"
      ]
     },
     "execution_count": 51,
     "metadata": {},
     "output_type": "execute_result"
    }
   ],
   "source": [
    "# s1이 80점 이상이면서 90점 이하인 과목들을 보고 싶을때\n",
    "s1[(s1 >= 80) & (s1 <= 90)]"
   ]
  },
  {
   "cell_type": "code",
   "execution_count": 52,
   "id": "9dbfffe9",
   "metadata": {},
   "outputs": [
    {
     "data": {
      "text/plain": [
       "수학    100\n",
       "과학     50\n",
       "dtype: int64"
      ]
     },
     "execution_count": 52,
     "metadata": {},
     "output_type": "execute_result"
    }
   ],
   "source": [
    "# s1이 80점 이상이면서 90점 이하가 아닌 과목을 보고 싶을 때\n",
    "s1[~((s1 >= 80) & (s1 <= 90))]"
   ]
  },
  {
   "cell_type": "markdown",
   "id": "ce6547f1",
   "metadata": {},
   "source": [
    "## 주요 메소드, 속성"
   ]
  },
  {
   "cell_type": "code",
   "execution_count": 54,
   "id": "0000eb8f",
   "metadata": {},
   "outputs": [
    {
     "name": "stdout",
     "output_type": "stream",
     "text": [
      "데이터 타입: int64\n"
     ]
    },
    {
     "data": {
      "text/plain": [
       "95    95\n",
       "96    96\n",
       "97    97\n",
       "98    98\n",
       "99    99\n",
       "dtype: int64"
      ]
     },
     "execution_count": 54,
     "metadata": {},
     "output_type": "execute_result"
    }
   ],
   "source": [
    "s = pd.Series(range(100))   #series에 넣으면 데이터 타입을 통일시킨다. (bool<int<float<str)\n",
    "print(\"데이터 타입:\", s.dtype)\n",
    "# 앞에 n개 조회\n",
    "s.head()\n",
    "\n",
    "# 뒤에 N개 조회\n",
    "s.tail()"
   ]
  },
  {
   "cell_type": "code",
   "execution_count": 60,
   "id": "3becf5c1",
   "metadata": {},
   "outputs": [
    {
     "data": {
      "text/plain": [
       "(dtype('int64'), dtype('int8'))"
      ]
     },
     "execution_count": 60,
     "metadata": {},
     "output_type": "execute_result"
    }
   ],
   "source": [
    "### dtype을 변환\n",
    "# 힌트: astype\n",
    "# 타입 + 비트수, int8, 16, 32, 64  메모리를 줄이기 위해 좋지만, 무조건 다 줄일 수는 없다\n",
    "s.dtype\n",
    "s2 = s.astype(\"int8\")\n",
    "s.dtype, s2.dtype"
   ]
  },
  {
   "cell_type": "code",
   "execution_count": 62,
   "id": "0da09042",
   "metadata": {},
   "outputs": [
    {
     "data": {
      "text/plain": [
       "(dtype('int64'),\n",
       " 0     1000000\n",
       " 1    50000000\n",
       " dtype: int64,\n",
       " 0     64\n",
       " 1   -128\n",
       " dtype: int8)"
      ]
     },
     "execution_count": 62,
     "metadata": {},
     "output_type": "execute_result"
    }
   ],
   "source": [
    "# Datatype 을 크기가 작은 타입으로 변경할 때 원본의 원소들을 다 표현할 수있는 타입으로 바꿔야 한다.\n",
    "\n",
    "s4 = pd.Series([1_000_000, 50_000_000])\n",
    "s5 = s4.astype(\"int8\")\n",
    "s4.dtype, s4, s5"
   ]
  },
  {
   "cell_type": "code",
   "execution_count": 64,
   "id": "12c6b02c",
   "metadata": {},
   "outputs": [
    {
     "data": {
      "text/plain": [
       "0      True\n",
       "1      True\n",
       "2      True\n",
       "3     False\n",
       "4     False\n",
       "      ...  \n",
       "95    False\n",
       "96    False\n",
       "97    False\n",
       "98    False\n",
       "99    False\n",
       "Length: 100, dtype: bool"
      ]
     },
     "execution_count": 64,
     "metadata": {},
     "output_type": "execute_result"
    }
   ],
   "source": [
    "# 각종 연산 함수 (원소별로 비교한다.)\n",
    "# s 안에 0,1,2이라는 값이 있는지? 원소별로 있으면 True or 없으면 False로 표현현\n",
    "# 힌트: isin\n",
    "s.isin([0,1,2])"
   ]
  },
  {
   "cell_type": "code",
   "execution_count": 66,
   "id": "c6e5d376",
   "metadata": {},
   "outputs": [
    {
     "data": {
      "text/plain": [
       "python    3\n",
       "java      2\n",
       "c++       1\n",
       "Name: count, dtype: int64"
      ]
     },
     "execution_count": 66,
     "metadata": {},
     "output_type": "execute_result"
    }
   ],
   "source": [
    "s2 = pd.Series([\"python\", \"c++\", \"python\", \"java\", \"java\", \"python\"])\n",
    "\n",
    "# Unique 값별로 몇개씩 원소가 있는지 count   #이거 많이 씀!  \n",
    "# 힌트: value의 값을 세면?\n",
    "s2.value_counts()"
   ]
  },
  {
   "cell_type": "code",
   "execution_count": 67,
   "id": "0d6a7d80",
   "metadata": {},
   "outputs": [
    {
     "data": {
      "text/plain": [
       "python    0.500000\n",
       "java      0.333333\n",
       "c++       0.166667\n",
       "Name: proportion, dtype: float64"
      ]
     },
     "execution_count": 67,
     "metadata": {},
     "output_type": "execute_result"
    }
   ],
   "source": [
    "#  전체 대비 비율로 반환.(normalize=True)\n",
    "s2.value_counts(normalize=True)"
   ]
  },
  {
   "cell_type": "code",
   "execution_count": 70,
   "id": "1fcbae88",
   "metadata": {},
   "outputs": [
    {
     "data": {
      "text/plain": [
       "3"
      ]
     },
     "execution_count": 70,
     "metadata": {},
     "output_type": "execute_result"
    }
   ],
   "source": [
    "# 고유값의 개수 조회 \n",
    "# 힌트: nunique\n",
    "s2.nunique()"
   ]
  },
  {
   "cell_type": "markdown",
   "id": "ebc924d9",
   "metadata": {},
   "source": [
    "### 정렬\n",
    "\n",
    "-   **sort_index()**   :원본 자체를 바꾸지 않음\n",
    "    -   index명으로 정렬\n",
    "-   **sort_values()** :원본 자체를 바꾸지 않음\n",
    "    -   값으로 정렬\n",
    "-   공통 매개변수\n",
    "    -   ascending=False (내림차순, 기본-True:오름차순)\n",
    "    -   inplace=True\n",
    "        -   원본 자체를 정렬\n",
    "        -   False(기본값): 정렬결과를 새로운 Series로 반환.\n",
    "    -   결측치(NaN)는 정렬 방식과 상관없이 마지막에 나온다.\n"
   ]
  },
  {
   "cell_type": "code",
   "execution_count": 71,
   "id": "071e80f4",
   "metadata": {},
   "outputs": [],
   "source": [
    "s1 = pd.Series([80, 90, 100, 50], index=['국어', '영어', '수학', '과학'])\n",
    "s2 = pd.Series([\"python\", \"c++\", \"python\", \"java\", \"java\", \"python\"])"
   ]
  },
  {
   "cell_type": "code",
   "execution_count": 72,
   "id": "01f05a72",
   "metadata": {},
   "outputs": [
    {
     "data": {
      "text/plain": [
       "과학     50\n",
       "국어     80\n",
       "수학    100\n",
       "영어     90\n",
       "dtype: int64"
      ]
     },
     "execution_count": 72,
     "metadata": {},
     "output_type": "execute_result"
    }
   ],
   "source": [
    "# index 이름으로 정렬 (오름차순: 기본)    \n",
    "# #원본 데이터를 바꾸지 않고, 새로운 값으로 줌\n",
    "s1.sort_index()"
   ]
  },
  {
   "cell_type": "code",
   "execution_count": 73,
   "id": "5d530e07",
   "metadata": {},
   "outputs": [
    {
     "data": {
      "text/plain": [
       "영어     90\n",
       "수학    100\n",
       "국어     80\n",
       "과학     50\n",
       "dtype: int64"
      ]
     },
     "execution_count": 73,
     "metadata": {},
     "output_type": "execute_result"
    }
   ],
   "source": [
    "# 내림차순\n",
    "s1.sort_index(ascending=False)"
   ]
  },
  {
   "cell_type": "code",
   "execution_count": 75,
   "id": "fee2bea1",
   "metadata": {},
   "outputs": [
    {
     "data": {
      "text/plain": [
       "c++       1\n",
       "java      2\n",
       "python    3\n",
       "Name: count, dtype: int64"
      ]
     },
     "execution_count": 75,
     "metadata": {},
     "output_type": "execute_result"
    }
   ],
   "source": [
    "# value_counts() 결과 정렬\n",
    "v = s2.value_counts()\n",
    "v.sort_index()"
   ]
  },
  {
   "cell_type": "code",
   "execution_count": 76,
   "id": "ed2cbadc",
   "metadata": {},
   "outputs": [
    {
     "data": {
      "text/plain": [
       "c++       1\n",
       "java      2\n",
       "python    3\n",
       "Name: count, dtype: int64"
      ]
     },
     "execution_count": 76,
     "metadata": {},
     "output_type": "execute_result"
    }
   ],
   "source": [
    "### 값을 기준으로 조회(방식: default-오름차순)\n",
    "# 값은 value 잖아!\n",
    "s2.value_counts().sort_values()"
   ]
  },
  {
   "cell_type": "code",
   "execution_count": 77,
   "id": "9929fad1",
   "metadata": {},
   "outputs": [
    {
     "data": {
      "text/plain": [
       "python    3\n",
       "java      2\n",
       "c++       1\n",
       "Name: count, dtype: int64"
      ]
     },
     "execution_count": 77,
     "metadata": {},
     "output_type": "execute_result"
    }
   ],
   "source": [
    "# 정렬방식 - 내림차순\n",
    "s2.value_counts().sort_values(ascending=False)"
   ]
  },
  {
   "cell_type": "markdown",
   "id": "b6562415",
   "metadata": {},
   "source": [
    "## 통계에서 변수(집합적 의미)의 타입\n",
    "\n",
    "-   **범주형(Categorical) 변수**\n",
    "    -   범주를 구분하는 이름을 가지는 변수.\n",
    "        -   **범주(範疇)** 의미: 동일한 성질을 가진 부류나 범위\n",
    "        -   각 값 사이에 값이 없는 이산적 특징을 가진다.\n",
    "        -   값이 될 수있는 값들이 정해져 있다.\n",
    "    -   **명목(Norminal) 변수/비서열(Unordered) 변수**\n",
    "        -   범주에 속한 값간에 서열(순위)가 없는 변수\n",
    "        -   성별, 혈액형, 지역\n",
    "    -   **순위(Ordinal) 변수/서열(Ordered) 변수**\n",
    "        -   범주에 속한 값 간에 서열(순위)가 있는 변수\n",
    "        -   성적, 직급, 만족도\n",
    "-   **수치형(Numeric) 변수**\n",
    "    -   수량을 표현하는 값들을 가지는 변수.\n",
    "    -   **이산형(Discrete) 변수**\n",
    "        -   수치를 표현하지만 소수점의 형태로 표현되지 못하는 데이터. 정수형 값들을 가진다.\n",
    "        -   예) 하루 방문 고객수, 가격(원화), 물건의 개수\n",
    "    -   **연속형(Continuous) 변수**\n",
    "        -   수치를 표현하며 소수점으로 표현가능한 데이터. 실수형 값들을 가진다.\n",
    "        -   예) 키, 몸무게, 시간\n"
   ]
  },
  {
   "cell_type": "markdown",
   "id": "261b9f47",
   "metadata": {},
   "source": [
    "## 기술통계량\n",
    "\n",
    "평균: \n",
    "중앙값:\n",
    "표준편차:\n",
    "분산:\n",
    "최빈값(mode):\n",
    "분위수(Quantile):"
   ]
  },
  {
   "cell_type": "code",
   "execution_count": 82,
   "id": "db64b386",
   "metadata": {},
   "outputs": [
    {
     "data": {
      "text/plain": [
       "0    18.0\n",
       "1    34.0\n",
       "2    77.0\n",
       "3    97.0\n",
       "4    89.0\n",
       "dtype: float32"
      ]
     },
     "execution_count": 82,
     "metadata": {},
     "output_type": "execute_result"
    }
   ],
   "source": [
    "import numpy as np\n",
    "#seed(random값): int 난수가 나오는 순서를 똑같이 하겠다, 즉 같은 난수값을 사용해서 하고 싶을때 seed를 사용한다.\n",
    "np.random.seed(100)\n",
    "tmp = np.random.randint(10, 100, size=100)  # 10 ~100(불포함) 사이 임의 정수 100개\n",
    "s10 = pd.Series(tmp, dtype=\"float32\")\n",
    "s10.head()"
   ]
  },
  {
   "cell_type": "code",
   "execution_count": 84,
   "id": "c0071d31",
   "metadata": {},
   "outputs": [
    {
     "data": {
      "text/plain": [
       "0     NaN\n",
       "1     NaN\n",
       "2     NaN\n",
       "3     NaN\n",
       "4     NaN\n",
       "5    58.0\n",
       "6    20.0\n",
       "7    62.0\n",
       "8    63.0\n",
       "9    76.0\n",
       "dtype: float32"
      ]
     },
     "execution_count": 84,
     "metadata": {},
     "output_type": "execute_result"
    }
   ],
   "source": [
    "# 결측치 지정\n",
    "s11 = s10.copy() # s10을 복사\n",
    "s11[[0, 1, 2, 3, 4]] = [np.nan, np.nan, np.nan, np.nan, np.nan]  # 0 ~ 4 index 값을 결측치 변경.\n",
    "#11.head(10) # 앞에 10만 보여주기\n",
    "s11.head(10)"
   ]
  },
  {
   "cell_type": "markdown",
   "id": "20a7b036",
   "metadata": {},
   "source": [
    "### 기술통계량을 구하는 메소드들 (여긴 코드 있는거 실행해보자!)"
   ]
  },
  {
   "cell_type": "code",
   "execution_count": 85,
   "id": "a3f1b987",
   "metadata": {},
   "outputs": [
    {
     "name": "stdout",
     "output_type": "stream",
     "text": [
      "100 95\n",
      "100 100\n"
     ]
    }
   ],
   "source": [
    "### 기술통계량 구하는 메소드들   #s10: 결측치 없음. s11: 결측치 있음\n",
    "print(s10.count(), s11.count())  # 결측치를 제외한 값의 개수   #값이 총 몇개인지를 알려줌 (결측치를 제외하고)\n",
    "print(s10.size, s11.size)  # 원소개수(결측치도 원소이기 때문에 개수에 포함됨.)    #결측치를 포함함."
   ]
  },
  {
   "cell_type": "code",
   "execution_count": 86,
   "id": "1de1923d",
   "metadata": {},
   "outputs": [
    {
     "name": "stdout",
     "output_type": "stream",
     "text": [
      "최대값: 97.0\n",
      "최소값: 10.0\n",
      "최대값의 index: 3\n",
      "최소값의 index: 67\n"
     ]
    },
    {
     "data": {
      "text/plain": [
       "(np.float32(44.0), np.float32(44.0))"
      ]
     },
     "execution_count": 86,
     "metadata": {},
     "output_type": "execute_result"
    }
   ],
   "source": [
    "print(\"최대값:\", s10.max())    #최댓값을 프린트 해줘\n",
    "print(\"최소값:\", s10.min())    # 최솟값을 프린트 해줘\n",
    "print(\"최대값의 index:\", s10.idxmax())   # 최댓값의 index 이름을 알려줌\n",
    "print(\"최소값의 index:\", s10.idxmin())    # 최솟값의 index 이름을 알려줌\n",
    "s10[11], s10[53]"
   ]
  },
  {
   "cell_type": "code",
   "execution_count": 87,
   "id": "bb3c842d",
   "metadata": {},
   "outputs": [
    {
     "name": "stdout",
     "output_type": "stream",
     "text": [
      "평균: 53.25\n",
      "표준편차: 26.353224\n",
      "분산: 694.49243\n"
     ]
    }
   ],
   "source": [
    "print(\"평균:\", s10.mean())\n",
    "print(\"표준편차:\", s10.std())\n",
    "print(\"분산:\", s10.var())"
   ]
  },
  {
   "cell_type": "code",
   "execution_count": null,
   "id": "9da7e499",
   "metadata": {},
   "outputs": [
    {
     "data": {
      "text/plain": [
       "np.float32(252.73)"
      ]
     },
     "execution_count": 88,
     "metadata": {},
     "output_type": "execute_result"
    }
   ],
   "source": [
    "# 평균은 극단적으로 크거나 작은 값들(Outlier:이상치)에 영향을 많이 받는다.\n",
    "s12 = s10.copy()\n",
    "s12[[0, 1]] = 10000     # 이상치를 넣음.\n",
    "s12.mean()              # 평균이 엄청 올라감."
   ]
  },
  {
   "cell_type": "code",
   "execution_count": 98,
   "id": "dca25479",
   "metadata": {},
   "outputs": [
    {
     "data": {
      "text/plain": [
       "0     18.0\n",
       "1     34.0\n",
       "2     77.0\n",
       "3     97.0\n",
       "4     89.0\n",
       "      ... \n",
       "95    10.0\n",
       "96    65.0\n",
       "97    29.0\n",
       "98    63.0\n",
       "99    78.0\n",
       "Length: 100, dtype: float32"
      ]
     },
     "execution_count": 98,
     "metadata": {},
     "output_type": "execute_result"
    }
   ],
   "source": [
    "s10\n"
   ]
  },
  {
   "cell_type": "code",
   "execution_count": 94,
   "id": "af0e571f",
   "metadata": {},
   "outputs": [
    {
     "name": "stdout",
     "output_type": "stream",
     "text": [
      "s10 중위수: 58.0 53.25\n",
      "s12 중위수: 58.5 252.73\n"
     ]
    }
   ],
   "source": [
    "# 중앙값, 중위수 (median): 1. 오름차순 정렬, 2. 중간에 위치한 값. (이상치에 영향을 받지 않는다.)\n",
    "print(\"s10 중위수:\", s10.median(), s10.mean())     # 평균과 중앙값의 차이가 크지 않음\n",
    "print(\"s12 중위수:\", s12.median(), s12.mean())     #평균과 중앙값의 차이가 큼 = 이상치가 있을 확률이 높음"
   ]
  },
  {
   "cell_type": "code",
   "execution_count": 99,
   "id": "d0ca1fa4",
   "metadata": {},
   "outputs": [
    {
     "data": {
      "text/plain": [
       "np.float32(52.736843)"
      ]
     },
     "execution_count": 99,
     "metadata": {},
     "output_type": "execute_result"
    }
   ],
   "source": [
    "# 결측치를 가지는 Series의 집계 - default: 결측치를 빼고 계산.    # 반면, SQL에서는 결측치와 1을 더한다고 하면, 그 더한 값은 결측치야. \n",
    "s11.sum() \n",
    "s11.mean() # 다 더한 다음에, 100이 아니라 결측치 빼고 95로 계산산"
   ]
  },
  {
   "cell_type": "code",
   "execution_count": 100,
   "id": "28ad3837",
   "metadata": {},
   "outputs": [
    {
     "data": {
      "text/plain": [
       "np.float32(nan)"
      ]
     },
     "execution_count": 100,
     "metadata": {},
     "output_type": "execute_result"
    }
   ],
   "source": [
    "# 결측치가 있는 경우 빼지 말고 계산 => 결측치가 있으면 결과는 결측치\n",
    "s11.sum(skipna=False)    # skipna(not available)=True가 default인데, 그니까 skip을 하지 말고 포함해줘를 의미.\n",
    "s11.mean(skipna=False)\n",
    "s11.max(skipna=False)\n",
    "s11.min(skipna=False)"
   ]
  },
  {
   "cell_type": "code",
   "execution_count": 101,
   "id": "58484da2",
   "metadata": {},
   "outputs": [
    {
     "data": {
      "text/plain": [
       "0    python\n",
       "dtype: object"
      ]
     },
     "execution_count": 101,
     "metadata": {},
     "output_type": "execute_result"
    }
   ],
   "source": [
    "# 최빈값 - 빈도수가 가장 높은 값.\n",
    "s2.mode()    # 반환값이 series다. 왜냐하면, 최빈값이 여러개일 수 있기 때문에, 그걸 표현해주기 위해서 series 형태롤 보여준다."
   ]
  },
  {
   "cell_type": "code",
   "execution_count": 102,
   "id": "d90623a0",
   "metadata": {},
   "outputs": [
    {
     "data": {
      "text/plain": [
       "(np.float64(58.0), np.float32(58.0))"
      ]
     },
     "execution_count": 102,
     "metadata": {},
     "output_type": "execute_result"
    }
   ],
   "source": [
    "### 분위수 (오름차순 정렬후 등분했을때 나누는 위치의 값) => 4분위, 10분위, 100분위\n",
    "#### 위치는 전체를 0 ~ 1 기준으로 지정한다.\n",
    "# 중위수 -> 이분위수\n",
    "s10.quantile(q=0.5), s10.median()   # 반띵 # 중앙값"
   ]
  },
  {
   "cell_type": "code",
   "execution_count": 103,
   "id": "36106f68",
   "metadata": {},
   "outputs": [
    {
     "data": {
      "text/plain": [
       "0.25    27.75\n",
       "0.50    58.00\n",
       "0.75    74.25\n",
       "dtype: float64"
      ]
     },
     "execution_count": 103,
     "metadata": {},
     "output_type": "execute_result"
    }
   ],
   "source": [
    "s10.quantile(q=[0.25, 0.5, 0.75])    "
   ]
  },
  {
   "cell_type": "code",
   "execution_count": 104,
   "id": "73926a18",
   "metadata": {},
   "outputs": [
    {
     "data": {
      "text/plain": [
       "array([0.1, 0.2, 0.3, 0.4, 0.5, 0.6, 0.7, 0.8, 0.9])"
      ]
     },
     "execution_count": 104,
     "metadata": {},
     "output_type": "execute_result"
    }
   ],
   "source": [
    "np.arange(0.1, 1.0, 0.1)"
   ]
  },
  {
   "cell_type": "code",
   "execution_count": 105,
   "id": "66e21584",
   "metadata": {},
   "outputs": [
    {
     "data": {
      "text/plain": [
       "0.1    14.9\n",
       "0.2    24.0\n",
       "0.3    34.0\n",
       "0.4    47.2\n",
       "0.5    58.0\n",
       "0.6    63.0\n",
       "0.7    69.3\n",
       "0.8    78.0\n",
       "0.9    89.0\n",
       "dtype: float64"
      ]
     },
     "execution_count": 105,
     "metadata": {},
     "output_type": "execute_result"
    }
   ],
   "source": [
    "s10.quantile(q=[0.1, 0.2, 0.3, 0.4])\n",
    "s10.quantile(q=np.arange(0.1, 1.0, 0.1))    #range 랑 똑같음. 0.1부터 1.0전인 0.9까지인데 0.1만큼 늘어남"
   ]
  },
  {
   "cell_type": "code",
   "execution_count": null,
   "id": "5d817690",
   "metadata": {},
   "outputs": [
    {
     "data": {
      "text/plain": [
       "count    95.000000\n",
       "mean     52.736843\n",
       "std      25.962416\n",
       "min      10.000000\n",
       "25%      27.500000\n",
       "50%      58.000000\n",
       "75%      72.000000\n",
       "max      97.000000\n",
       "dtype: float64"
      ]
     },
     "execution_count": 109,
     "metadata": {},
     "output_type": "execute_result"
    }
   ],
   "source": [
    "# describe() : 여러 통계량을 묶어서 조회   # 이걸 조회해서 뭔가 이상치가 있지는 않은지 확인해볼 수 있다.\n",
    "s11.describe()     #이것도 float형태로 다 바꿔버림.\n",
    "#숫자형일 때 출력"
   ]
  },
  {
   "cell_type": "code",
   "execution_count": null,
   "id": "81d96ad5",
   "metadata": {},
   "outputs": [
    {
     "data": {
      "text/plain": [
       "count          6\n",
       "unique         3\n",
       "top       python\n",
       "freq           3\n",
       "dtype: object"
      ]
     },
     "execution_count": 111,
     "metadata": {},
     "output_type": "execute_result"
    }
   ],
   "source": [
    "s2.describe()\n",
    "# unique: 고유값 개수\n",
    "# top: 최빈값\n",
    "# freq: 최빈값의 빈도수(출연수)\n",
    "# 범주형일 때 출력"
   ]
  },
  {
   "cell_type": "markdown",
   "id": "0358250d",
   "metadata": {},
   "source": [
    "## 결측치 (Missing Value, Not Available)\n",
    "\n",
    "-   결측치\n",
    "    -   모르는 값, 수집이 안된값, 현재 가지고 있지 않은 값.\n",
    "-   판다스에서 결측치\n",
    "    -   None, numpy.nan, numpy.NAN\n",
    "        - >numpy.nan, numpy.NAN은 Numpy library의 값. Pandas에서 사용할 수 있다.   \n",
    "    -   **결측치는 float 타입으로 처리된다.**\n",
    "\n",
    "### 결측치 확인\n",
    "\n",
    "-   Series/DataFrame의 원소별로 결측치인지 여부를 확인해서 bool 값으로 반환한다.\n",
    "\n",
    "-   Series/DataFrame\n",
    "    -   Series/DataFrame객체.isnull() 또는 isna()\n",
    "    -   Series/DataFrame객체.notnull() 또는 notna()\n"
   ]
  },
  {
   "cell_type": "code",
   "execution_count": null,
   "id": "6a3c1f1b",
   "metadata": {},
   "outputs": [],
   "source": [
    "a = pd.Series([1, 2, 3, np.nan])  \n",
    "a.dtype\n",
    "# a"
   ]
  },
  {
   "cell_type": "code",
   "execution_count": null,
   "id": "a222eea5",
   "metadata": {},
   "outputs": [],
   "source": [
    "# 원소별로 결측치인지 여부 확인?\n",
    "a.isna() \n",
    "# a.isnull()"
   ]
  },
  {
   "cell_type": "code",
   "execution_count": null,
   "id": "83b8bf6f",
   "metadata": {},
   "outputs": [],
   "source": [
    "a.notna()    #결측치가 아닌게 True\n",
    "# a.notnull()"
   ]
  },
  {
   "cell_type": "code",
   "execution_count": null,
   "id": "5985fa93",
   "metadata": {},
   "outputs": [],
   "source": [
    "### 결측치 개수\n",
    "# bool 타입은 산술 연산시 정수로 자동 변환된다.  (True: 1, False: 0 )\n",
    "a.isnull().sum()   "
   ]
  },
  {
   "cell_type": "code",
   "execution_count": null,
   "id": "55fce545",
   "metadata": {},
   "outputs": [],
   "source": [
    "a.isna().sum()"
   ]
  },
  {
   "cell_type": "code",
   "execution_count": null,
   "id": "bf53947d",
   "metadata": {},
   "outputs": [],
   "source": [
    "s11.isna().mean()     #결측치의 비율 \n",
    "#bool을 가진 Series.sum() : True 개수\n",
    "#bool을 가진 Series.mean(): True 비율"
   ]
  },
  {
   "cell_type": "markdown",
   "id": "e5beaad5",
   "metadata": {},
   "source": [
    "### 결측치 처리\n",
    "\n",
    "-   제거\n",
    "    -   dropna()\n",
    "-   다른값으로 대체\n",
    "    -   fillna()\n",
    "    -   가장 가능성이 높은 값으로 변경한다.\n",
    "        -   평균, 중앙값, 최빈값을 주로 사용\n",
    "        -   결측치가 어떤 의미(ex: 없다)로 사용된 경우 그 값으로 변경한다.\n"
   ]
  },
  {
   "cell_type": "code",
   "execution_count": null,
   "id": "2d1eac14",
   "metadata": {},
   "outputs": [],
   "source": [
    " #결측치 없애버리기"
   ]
  },
  {
   "cell_type": "code",
   "execution_count": null,
   "id": "f9c9b488",
   "metadata": {},
   "outputs": [],
   "source": [
    "# 다른 값으로 대체\n"
   ]
  },
  {
   "cell_type": "code",
   "execution_count": null,
   "id": "3a67601d",
   "metadata": {},
   "outputs": [],
   "source": [
    "a.fillna(200, inplace=True)      #원본을 아예 바꿈\n",
    "# 대상을 변경하지 않는 메소드는 모두 inplace=False 파라미터를 가진다. \n",
    "#       True로 지정하면 대상 Series 자체를 변경한다.\n",
    "# 판다스 Series나 DataFrame의 메소드중 원소의 상태를 변경하는 메소드들은 모두 대상을 바꾸지 않고 변경된 새로운 Series/DataFrame을 반환한다.\n",
    "#       이 메소드들은 모두 inplace=False 파라미터를 가진다.\n",
    "a"
   ]
  },
  {
   "cell_type": "code",
   "execution_count": null,
   "id": "64468ac9",
   "metadata": {},
   "outputs": [],
   "source": [
    "#s11의 결측치를 다른 값으로 대체 => 대표값으로 대체 (수치형: 평균, 중앙값, 범주형: 최빈값)\n",
    "result = ?  #결측치 값을 평균값으로 대체할거야.\n",
    "result.head(10)"
   ]
  }
 ],
 "metadata": {
  "kernelspec": {
   "display_name": "ml",
   "language": "python",
   "name": "python3"
  },
  "language_info": {
   "codemirror_mode": {
    "name": "ipython",
    "version": 3
   },
   "file_extension": ".py",
   "mimetype": "text/x-python",
   "name": "python",
   "nbconvert_exporter": "python",
   "pygments_lexer": "ipython3",
   "version": "3.12.10"
  }
 },
 "nbformat": 4,
 "nbformat_minor": 5
}
