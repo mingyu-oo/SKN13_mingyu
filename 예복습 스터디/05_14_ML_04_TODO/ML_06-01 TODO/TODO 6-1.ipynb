{
 "cells": [
  {
   "cell_type": "markdown",
   "metadata": {
    "id": "N2TTVZuTFurE"
   },
   "source": [
    "## TODO 6-1: Image Bulit-in Dataset Loading\n",
    "- torchvision 모듈을 통해 **Flowers102** 데이터셋을 로드합니다.\n",
    "\n",
    "- Oxford 102 Flower는 이미지 분류 데이터셋입니다. 102개의 꽃 카테고리로 구성되어 있습니다. 데이터셋의 꽃들은 영국에서 주로 나는 꽃들입니다. 각각의 클래스에는 40~258개의 이미지가 있습니다.\n",
    "\n",
    "- 이번 실습은 데이터셋을 불러와 이미지를 시각화까지만 해보는 간단한 실습입니다. 아래 빈칸을 채워넣으며 문제를 풀고, 해설과 비교해보시기 바랍니다. 😊\n"
   ]
  },
  {
   "cell_type": "code",
   "execution_count": 3,
   "metadata": {
    "id": "WLjy9EtXEQsx"
   },
   "outputs": [],
   "source": [
    "import torch\n",
    "from torchvision import datasets, transforms\n",
    "from torch.utils.data import DataLoader\n",
    "from torch.utils.data import Dataset\n",
    "import matplotlib.pyplot as plt\n",
    "import numpy as np"
   ]
  },
  {
   "cell_type": "code",
   "execution_count": 2,
   "metadata": {
    "id": "A_csPn9kETuD"
   },
   "outputs": [
    {
     "name": "stderr",
     "output_type": "stream",
     "text": [
      "100%|██████████| 345M/345M [01:09<00:00, 4.95MB/s] \n",
      "100%|██████████| 502/502 [00:00<?, ?B/s] \n",
      "100%|██████████| 15.0k/15.0k [00:00<00:00, 7.93MB/s]\n"
     ]
    }
   ],
   "source": [
    "# 🌼 데이터 경로\n",
    "flowers102_data_dir = \"datasets\"\n",
    "\n",
    "# 🌻 Transform 정의\n",
    "transform = transforms.Compose([\n",
    "    transforms.Resize((128, 128)),   # [빈칸1] 이미지 크기 리사이즈 (128 x 128)\n",
    "    transforms.ToTensor()                  # [빈칸2] PIL 이미지를 Tensor로 변환\n",
    "])\n",
    "\n",
    "# 📦 Flowers102 불러오기 (train split만)\n",
    "flowers102_trainset = datasets.Flowers102(\n",
    "    root=flowers102_data_dir,\n",
    "    download=True,                      # [빈칸3] 데이터가 없으면 자동 다운로드\n",
    "    split='train',                       # [빈칸4] 사용할 데이터 분할(split) 지정 ('train'으로 지정하기)\n",
    "    transform=transform\n",
    ")"
   ]
  },
  {
   "cell_type": "code",
   "execution_count": 4,
   "metadata": {
    "executionInfo": {
     "elapsed": 8,
     "status": "ok",
     "timestamp": 1747667825029,
     "user": {
      "displayName": "안수민",
      "userId": "02337366651445922620"
     },
     "user_tz": -540
    },
    "id": "Di3yFkkH6uPT"
   },
   "outputs": [
    {
     "data": {
      "text/plain": [
       "(torchvision.datasets.flowers102.Flowers102, True)"
      ]
     },
     "execution_count": 4,
     "metadata": {},
     "output_type": "execute_result"
    }
   ],
   "source": [
    "type(flowers102_trainset), isinstance(flowers102_trainset, Dataset)\n",
    "# Flowers102\n",
    "# mnist_trainset이 Dataset을 상속 받아 만듦. => True"
   ]
  },
  {
   "cell_type": "code",
   "execution_count": 5,
   "metadata": {
    "executionInfo": {
     "elapsed": 39,
     "status": "ok",
     "timestamp": 1747667829246,
     "user": {
      "displayName": "안수민",
      "userId": "02337366651445922620"
     },
     "user_tz": -540
    },
    "id": "Ge40kCYS7kcL"
   },
   "outputs": [
    {
     "data": {
      "text/plain": [
       "Dataset Flowers102\n",
       "    Number of datapoints: 1020\n",
       "    Root location: datasets\n",
       "    split=train\n",
       "    StandardTransform\n",
       "Transform: Compose(\n",
       "               Resize(size=(128, 128), interpolation=bilinear, max_size=None, antialias=True)\n",
       "               ToTensor()\n",
       "           )"
      ]
     },
     "execution_count": 5,
     "metadata": {},
     "output_type": "execute_result"
    }
   ],
   "source": [
    "flowers102_trainset # 정보 확인"
   ]
  },
  {
   "cell_type": "code",
   "execution_count": 6,
   "metadata": {
    "id": "7gfwzXy4EZHQ"
   },
   "outputs": [],
   "source": [
    "# 🛒 Dataloader\n",
    "train_loader = DataLoader(flowers102_trainset, batch_size=8, shuffle=True)  # [빈칸5~6] 배치 크기와 셔플 여부. 배치 크기는 8, shuffle은 True로 지정한다."
   ]
  },
  {
   "cell_type": "code",
   "execution_count": 5,
   "metadata": {
    "executionInfo": {
     "elapsed": 3,
     "status": "ok",
     "timestamp": 1747667923255,
     "user": {
      "displayName": "안수민",
      "userId": "02337366651445922620"
     },
     "user_tz": -540
    },
    "id": "4GPoI67iEuGg"
   },
   "outputs": [],
   "source": [
    "# step 수 확인\n",
    "steps = _____________   # [빈칸7] train_loader의 **step 수를 확인**하려면 어떤 함수를 써야 할까요?\n",
    "steps"
   ]
  },
  {
   "cell_type": "code",
   "execution_count": 1,
   "metadata": {
    "executionInfo": {
     "elapsed": 19,
     "status": "ok",
     "timestamp": 1747667798162,
     "user": {
      "displayName": "안수민",
      "userId": "02337366651445922620"
     },
     "user_tz": -540
    },
    "id": "393LgFrhEg40"
   },
   "outputs": [],
   "source": [
    "# 🔍 배치 하나 확인\n",
    "images, labels = ______(iter(train_loader))     # [빈칸8] DataLoader에서 배치 하나 꺼내기 - 어떤 함수를 써야 할까요?\n",
    "images, labels"
   ]
  },
  {
   "cell_type": "code",
   "execution_count": 2,
   "metadata": {
    "executionInfo": {
     "elapsed": 8,
     "status": "ok",
     "timestamp": 1747667809842,
     "user": {
      "displayName": "안수민",
      "userId": "02337366651445922620"
     },
     "user_tz": -540
    },
    "id": "HTsbUewD7lZu"
   },
   "outputs": [],
   "source": [
    "# 🎨 시각화 함수\n",
    "def imshow(imgs, labels):\n",
    "    imgs = imgs.numpy()\n",
    "    fig, axs = plt.subplots(1, len(imgs), figsize=(15, 4))\n",
    "    for i in range(len(imgs)):\n",
    "        img = np.________(imgs[i], (1, 2, 0))   # [빈칸9] 이미지 차원 변경 (C, H, W → H, W, C) - 어떤 함수를 써야 할까요?\n",
    "        axs[i].imshow(img)\n",
    "        axs[i].set_title(f\"Label: {labels[i].item()}\")\n",
    "        axs[i].axis('off')\n",
    "    plt.show()\n",
    "\n",
    "# 🖼️ 배치 이미지 확인\n",
    "imshow(images, labels)\n"
   ]
  }
 ],
 "metadata": {
  "colab": {
   "authorship_tag": "ABX9TyNg9keFRcpPwUmxolbkS7pa",
   "provenance": [
    {
     "file_id": "1babAvMmmgc_7RJseRYkCqIeH7zLbT2TQ",
     "timestamp": 1747667131767
    }
   ]
  },
  "kernelspec": {
   "display_name": "dl",
   "language": "python",
   "name": "python3"
  },
  "language_info": {
   "codemirror_mode": {
    "name": "ipython",
    "version": 3
   },
   "file_extension": ".py",
   "mimetype": "text/x-python",
   "name": "python",
   "nbconvert_exporter": "python",
   "pygments_lexer": "ipython3",
   "version": "3.12.10"
  }
 },
 "nbformat": 4,
 "nbformat_minor": 0
}
