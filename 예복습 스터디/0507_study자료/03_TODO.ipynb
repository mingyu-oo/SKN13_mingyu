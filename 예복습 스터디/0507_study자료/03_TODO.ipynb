{
 "cells": [
  {
   "cell_type": "markdown",
   "metadata": {
    "jp-MarkdownHeadingCollapsed": true
   },
   "source": [
    "# TODO"
   ]
  },
  {
   "cell_type": "markdown",
   "metadata": {},
   "source": [
    "# LinearRegression from Scratch\n",
    "\n",
    "\n",
    "다음 가상 데이터를 이용해 사과와 오렌지 수확량을 예측하는 선형회귀 모델을 정의한다. \n",
    "\n",
    "\n",
    "|온도(F)|강수량(mm)|습도(%)|사과생산량(ton)|오렌지생산량|\n",
    "|-|-|-|-:|-:|\n",
    "|73|67|43|56|70|\n",
    "|91|88|64|81|101|\n",
    "|87|134|58|119|133|\n",
    "|102|43|37|22|37|\n",
    "|69|96|70|103|119|\n",
    "\n",
    "```\n",
    "사과수확량  = w11 * 온도 + w12 * 강수량 + w13 * 습도 + b1\n",
    "오렌지수확량 = w21 * 온도 + w22 * 강수량 + w23 *습도 + b2\n",
    "```\n",
    "\n",
    "- `온도`, `강수량`, `습도` 값이 **사과**와, **오렌지 수확량**에 어느정도 영향을 주는지 가중치를 찾는다.\n",
    "    - 모델은 사과의 수확량, 오렌지의 수확량 **두개의 예측결과를 출력**해야 한다.\n",
    "    - 사과에 대해 예측하기 위한 weight 3개와 오렌지에 대해 예측하기 위한 weight 3개 이렇게 두 묶음, 총 6개의 weight를 정의하고 학습을 통해 가장 적당한 값을 찾는다."
   ]
  },
  {
   "cell_type": "markdown",
   "metadata": {},
   "source": [
    "## step 1.\n",
    "## Train Dataset\n",
    "- Train data는 feature(input)와 target(output) 각각 2개의 행렬로 구성한다.\n",
    "- Feature는 `온도, 강수량, 습도` 3개의 변수를 가진다.\n",
    "- Target은 `사과수확량, 오렌지 수확량` 2개의 값이다."
   ]
  },
  {
   "cell_type": "code",
   "execution_count": null,
   "metadata": {},
   "outputs": [],
   "source": [
    "# input/output 2차원리스트 생성하기기\n",
    "# input: 생산환경 (temp, rainfall, humidity) - (5, 3)\n",
    "environs = []\n",
    "\n",
    "# output: 생산량 - (apples, oranges) - (5, 2)\n",
    "apple_orange_output = []"
   ]
  },
  {
   "cell_type": "code",
   "execution_count": null,
   "metadata": {},
   "outputs": [],
   "source": [
    "import torch\n",
    "# Dataset을 torch.Tensor(dtype은 float32)로 생성 후 X,y의 shape 확인하기\n",
    "\n",
    "# 1. Tensoer 생성\n",
    "X = \n",
    "y = \n",
    "\n",
    "# 2. shape 확인"
   ]
  },
  {
   "cell_type": "markdown",
   "metadata": {},
   "source": [
    "## step 2. weight/bias 정의하기"
   ]
  },
  {
   "cell_type": "code",
   "execution_count": null,
   "metadata": {},
   "outputs": [],
   "source": [
    "# random(torch.randn) 값을 이용해서 weight/bias 를 정의하기하고 size 확인인\n",
    "\n",
    "# 1. weight, bias 정의(requires_grad=True)\n",
    "weight =\n",
    "bias = \n",
    "\n",
    "# 2. weight, bias size 확인\n"
   ]
  },
  {
   "cell_type": "markdown",
   "metadata": {},
   "source": [
    "## step3. 모델링"
   ]
  },
  {
   "cell_type": "code",
   "execution_count": null,
   "metadata": {},
   "outputs": [],
   "source": [
    "# 모델은 y = X * w + b 꼴, loss함수는 MSE로 정의\n",
    "\n",
    "## 1. 모델 정의\n",
    "def model(X):\n",
    "    return\n",
    "\n",
    "## 2. loss 함수(MSE)\n",
    "def loss_fn(pred, y):\n",
    "    return\n",
    "\n",
    "# 3. epochs =5000, lr = 0.00001로 모델링 완성하기기\n",
    "\n",
    "\n",
    "for in :\n",
    "\n",
    "    # 1. 추론\n",
    "    \n",
    "    \n",
    "    # 2. loss 계산\n",
    "    \n",
    "\n",
    "    # 3. 파라미터 들의 gradient 계산\n",
    "    \n",
    "\n",
    "    # 4. 파라미터 업데이트\n",
    "    \n",
    "\n",
    "    # 5. gradient 초기화\n",
    "    \n",
    "\n",
    "    ## 100 epoch, 마지막 epoch에서 loss의 log를 출력\n",
    "    if epoch % 100 == 0 or epoch == epochs-1:\n",
    "        print(f\"[{epoch+1:04d}/{epochs}] - {loss.item():.5f}\")"
   ]
  },
  {
   "cell_type": "markdown",
   "metadata": {},
   "source": [
    "## step 4. 기존의 X와 new_x로 model 결과확인하기"
   ]
  },
  {
   "cell_type": "code",
   "execution_count": null,
   "metadata": {},
   "outputs": [],
   "source": [
    "# 1. 위 모델에 X로 다시 추론하여, 예측값 p와 정답값 y 비교하기\n",
    "\n",
    "p =\n",
    "\n",
    "print(f\"예측값(p):\\n\", p)\n",
    "print(f\"정답값(y):\\n\", y)\n",
    "\n",
    "# 2. 새로운 데이터 [68, 82, 56] 넣어 결과 확인(dtype은 float32 & .unsqueeze(dim=0))\n",
    "\n",
    "new_x =\n",
    "\n",
    "model(new_x)"
   ]
  }
 ],
 "metadata": {
  "kernelspec": {
   "display_name": "Python 3 (ipykernel)",
   "language": "python",
   "name": "python3"
  },
  "language_info": {
   "codemirror_mode": {
    "name": "ipython",
    "version": 3
   },
   "file_extension": ".py",
   "mimetype": "text/x-python",
   "name": "python",
   "nbconvert_exporter": "python",
   "pygments_lexer": "ipython3",
   "version": "3.12.7"
  }
 },
 "nbformat": 4,
 "nbformat_minor": 4
}
