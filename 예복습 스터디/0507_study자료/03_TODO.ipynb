{
 "cells": [
  {
   "cell_type": "markdown",
   "metadata": {
    "jp-MarkdownHeadingCollapsed": true
   },
   "source": [
    "# TODO"
   ]
  },
  {
   "cell_type": "markdown",
   "metadata": {},
   "source": [
    "# LinearRegression from Scratch\n",
    "\n",
    "\n",
    "다음 가상 데이터를 이용해 사과와 오렌지 수확량을 예측하는 선형회귀 모델을 정의한다. \n",
    "\n",
    "\n",
    "|온도(F)|강수량(mm)|습도(%)|사과생산량(ton)|오렌지생산량|\n",
    "|-|-|-|-:|-:|\n",
    "|73|67|43|56|70|\n",
    "|91|88|64|81|101|\n",
    "|87|134|58|119|133|\n",
    "|102|43|37|22|37|\n",
    "|69|96|70|103|119|\n",
    "\n",
    "```\n",
    "사과수확량  = w11 * 온도 + w12 * 강수량 + w13 * 습도 + b1\n",
    "오렌지수확량 = w21 * 온도 + w22 * 강수량 + w23 *습도 + b2\n",
    "```\n",
    "\n",
    "- `온도`, `강수량`, `습도` 값이 **사과**와, **오렌지 수확량**에 어느정도 영향을 주는지 가중치를 찾는다.\n",
    "    - 모델은 사과의 수확량, 오렌지의 수확량 **두개의 예측결과를 출력**해야 한다.\n",
    "    - 사과에 대해 예측하기 위한 weight 3개와 오렌지에 대해 예측하기 위한 weight 3개 이렇게 두 묶음, 총 6개의 weight를 정의하고 학습을 통해 가장 적당한 값을 찾는다."
   ]
  },
  {
   "cell_type": "markdown",
   "metadata": {},
   "source": [
    "## step 1.\n",
    "## Train Dataset\n",
    "- Train data는 feature(input)와 target(output) 각각 2개의 행렬로 구성한다.\n",
    "- Feature는 `온도, 강수량, 습도` 3개의 변수를 가진다.\n",
    "- Target은 `사과수확량, 오렌지 수확량` 2개의 값이다."
   ]
  },
  {
   "cell_type": "code",
   "execution_count": 27,
   "metadata": {},
   "outputs": [],
   "source": [
    "# input/output 2차원리스트 생성하기기\n",
    "# input: 생산환경 (temp, rainfall, humidity) - (5, 3)\n",
    "environs = [[73, 67, 43],\n",
    "\t\t\t[91, 88, 64],\n",
    "\t\t\t[87, 134, 58],\n",
    "\t\t\t[102, 43, 37],\n",
    "\t\t\t[69, 96, 70]]\n",
    "\n",
    "# output: 생산량 - (apples, oranges) - (5, 2)\n",
    "apple_orange_output = [[56, 70],\n",
    "\t\t\t\t\t   [81, 101],\n",
    "\t\t\t\t\t   [119, 133],\n",
    "\t\t\t\t\t   [22, 37],\n",
    "\t\t\t\t\t   [103, 119]]"
   ]
  },
  {
   "cell_type": "code",
   "execution_count": 29,
   "metadata": {},
   "outputs": [
    {
     "data": {
      "text/plain": [
       "(tensor([[ 73.,  67.,  43.],\n",
       "         [ 91.,  88.,  64.],\n",
       "         [ 87., 134.,  58.],\n",
       "         [102.,  43.,  37.],\n",
       "         [ 69.,  96.,  70.]]),\n",
       " tensor([[ 56.,  70.],\n",
       "         [ 81., 101.],\n",
       "         [119., 133.],\n",
       "         [ 22.,  37.],\n",
       "         [103., 119.]]),\n",
       " torch.float32,\n",
       " torch.Size([5, 3]),\n",
       " torch.Size([5, 2]))"
      ]
     },
     "execution_count": 29,
     "metadata": {},
     "output_type": "execute_result"
    }
   ],
   "source": [
    "import torch\n",
    "# Dataset을 torch.Tensor(dtype은 float32)로 생성 후 X,y의 shape 확인하기\n",
    "\n",
    "# 1. Tensoer 생성\n",
    "X = torch.tensor(environs, dtype=torch.float32)\n",
    "y = torch.tensor(apple_orange_output, dtype=torch.float32)\n",
    "\n",
    "# 2. shape 확인\n",
    "X, y, X.dtype, X.shape, y.shape"
   ]
  },
  {
   "cell_type": "markdown",
   "metadata": {},
   "source": [
    "## step 2. weight/bias 정의하기"
   ]
  },
  {
   "cell_type": "code",
   "execution_count": 32,
   "metadata": {},
   "outputs": [
    {
     "data": {
      "text/plain": [
       "(torch.Size([3, 2]), torch.Size([3, 2]), torch.Size([2]), torch.Size([2]))"
      ]
     },
     "execution_count": 32,
     "metadata": {},
     "output_type": "execute_result"
    }
   ],
   "source": [
    "# random(torch.randn) 값을 이용해서 weight/bias 를 정의하기하고 size 확인인\n",
    "\n",
    "# 1. weight, bias 정의(requires_grad=True)\n",
    "weight = torch.randn(3,2, requires_grad=True)\n",
    "bias = torch.rand(2, requires_grad=True)\n",
    "\n",
    "# 2. weight, bias size 확인\n",
    "weight.shape, weight.size(), bias.shape, bias.size()"
   ]
  },
  {
   "cell_type": "markdown",
   "metadata": {},
   "source": [
    "## step3. 모델링"
   ]
  },
  {
   "cell_type": "code",
   "execution_count": 33,
   "metadata": {},
   "outputs": [
    {
     "name": "stdout",
     "output_type": "stream",
     "text": [
      "[0001/5000] - 4695.69434\n",
      "[0501/5000] - 2.37322\n",
      "[1001/5000] - 1.12781\n",
      "[1501/5000] - 0.76863\n",
      "[2001/5000] - 0.62769\n",
      "[2501/5000] - 0.57229\n",
      "[3001/5000] - 0.55052\n",
      "[3501/5000] - 0.54196\n",
      "[4001/5000] - 0.53859\n",
      "[4501/5000] - 0.53726\n",
      "[5000/5000] - 0.53674\n"
     ]
    }
   ],
   "source": [
    "# 모델은 y = X * w + b 꼴, loss함수는 MSE로 정의\n",
    "\n",
    "## 1. 모델 정의\n",
    "def model(X):\n",
    "    return X @ weight + bias\n",
    "\n",
    "## 2. loss 함수(MSE)\n",
    "def loss_fn(y_pred, y):\n",
    "    return torch.mean((y_pred - y)**2)\n",
    "\n",
    "# 3. epochs =5000, lr = 0.00001로 모델링 완성하기기\n",
    "epochs = 5000\n",
    "n = 0.00001\n",
    "\n",
    "for epoch in range(epochs):\n",
    "\n",
    "    # 1. 추론\n",
    "    y_pred = model(X)\n",
    "    \n",
    "    # 2. loss 계산\n",
    "    loss = loss_fn(y_pred, y)\n",
    "\n",
    "    # 3. 파라미터 들의 gradient 계산\n",
    "    loss.backward()\n",
    "\n",
    "    # 4. 파라미터 업데이트\n",
    "    weight.data = weight.data - n * weight.grad\n",
    "    bias.data = bias.data - n * bias.grad\n",
    "    # 5. gradient 초기화\n",
    "    weight.grad = None\n",
    "    bias.grad = None\n",
    "\n",
    "    ## 500 epoch, 마지막 epoch에서 loss의 log를 출력\n",
    "    if epoch % 500 == 0 or epoch == epochs-1:\n",
    "        print(f\"[{epoch+1:04d}/{epochs}] - {loss.item():.5f}\")"
   ]
  },
  {
   "cell_type": "markdown",
   "metadata": {},
   "source": [
    "## step 4. 기존의 X와 new_x로 model 결과확인하기"
   ]
  },
  {
   "cell_type": "code",
   "execution_count": 47,
   "metadata": {},
   "outputs": [
    {
     "name": "stdout",
     "output_type": "stream",
     "text": [
      "예측값(p):\n",
      " tensor([[ 57.2711,  70.4085],\n",
      "        [ 82.1432, 100.5912],\n",
      "        [118.6696, 132.9800],\n",
      "        [ 21.0664,  37.0134],\n",
      "        [101.9436, 119.1162]], grad_fn=<AddBackward0>)\n",
      "정답값(y):\n",
      " tensor([[ 56.,  70.],\n",
      "        [ 81., 101.],\n",
      "        [119., 133.],\n",
      "        [ 22.,  37.],\n",
      "        [103., 119.]])\n"
     ]
    },
    {
     "data": {
      "text/plain": [
       "tensor([[80.9051, 95.6265]], grad_fn=<AddBackward0>)"
      ]
     },
     "execution_count": 47,
     "metadata": {},
     "output_type": "execute_result"
    }
   ],
   "source": [
    "# 1. 위 모델에 X로 다시 추론하여, 예측값 p와 정답값 y 비교하기\n",
    "\n",
    "p = model(X)\n",
    "\n",
    "print(f\"예측값(p):\\n\", p)\n",
    "print(f\"정답값(y):\\n\", y)\n",
    "\n",
    "# 2. 새로운 데이터 [68, 82, 56] 넣어 결과 확인(dtype은 float32 & .unsqueeze(dim=0))\n",
    "\n",
    "new_x = [[68, 82, 56]]\n",
    "new_x = torch.tensor(new_x, dtype=torch.float32)\n",
    "model(new_x)\n"
   ]
  }
 ],
 "metadata": {
  "kernelspec": {
   "display_name": "dl",
   "language": "python",
   "name": "python3"
  },
  "language_info": {
   "codemirror_mode": {
    "name": "ipython",
    "version": 3
   },
   "file_extension": ".py",
   "mimetype": "text/x-python",
   "name": "python",
   "nbconvert_exporter": "python",
   "pygments_lexer": "ipython3",
   "version": "3.12.10"
  }
 },
 "nbformat": 4,
 "nbformat_minor": 4
}
