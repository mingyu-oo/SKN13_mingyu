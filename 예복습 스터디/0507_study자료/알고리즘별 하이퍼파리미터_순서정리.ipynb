{
 "cells": [
  {
   "cell_type": "markdown",
   "id": "46d41152",
   "metadata": {},
   "source": [
    "# 머신러닝 알고리즘\n",
    "\n",
    "### 알고리즘별 하이퍼파라미터 정리\n",
    "| 알고리즘 | 유형 | 주요 특징 | 주요 하이퍼파라미터 |\n",
    "|-----------|--------|------------|-------------------------|\n",
    "| **SVM (Support Vector Machine)** | 분류/회귀 | 고차원 데이터에 유리, 마진 최대화, 커널로 비선형 문제 해결 가능 | `C`, `kernel` (`linear`, `rbf`, `poly` 등), `gamma`|\n",
    "| **KNN (K-Nearest Neighbors)** | 분류/회귀 | 거리 기반, 학습은 빠르고 예측은 느림, 이상치에 민감 | `n_neighbors`, `weights` (`uniform`, `distance`), `metric` (`euclidean`, `manhattan` 등) |\n",
    "| **Decision Tree** | 분류/회귀 | 직관적, 해석 쉬움, 과적합에 주의 | `max_depth`, `min_samples_split`, `criterion` (`gini`, `entropy`), `min_samples_leaf` |\n",
    "| **Random Forest** | 분류/회귀 | 다수의 결정트리 앙상블, 과적합 완화, 특성 중요도 제공 | `n_estimators`, `max_depth`, `max_features`, `bootstrap` |\n",
    "| **Ensemble (앙상블)** | 분류/회귀 | 여러 모델 결합, 성능 향상 (Bagging, Boosting 등) | `VotingClassifier`, `BaggingClassifier`, `GradientBoostingClassifier`, `AdaBoostClassifier` 등, 각 앙상블별 개별 파라미터 있음 |\n",
    "| **Clustering (KMeans 기준)** | 군집화 (비지도) | 데이터 분포 기반 군집 생성, 군집 수 직접 설정 | `n_clusters`, `init`, `n_init`, `max_iter`, `random_state` |\n",
    "| **Linear Regression** | 회귀 | 선형 관계 가정, 빠름, 해석 쉬움 | (주요 파라미터 없음, 단순 모델) |\n",
    "| **Logistic Regression** | 분류 | 선형 결정 경계, 확률 예측 가능, 다중 분류 지원 | `penalty` (`l2`, `none`), `C`, `solver`, `max_iter` |\n",
    "| **Ridge / Lasso Regression** | 회귀 | 정규화로 과적합 방지, Ridge는 L2, Lasso는 L1 패널티 | `alpha`, `max_iter`, `solver`, `fit_intercept` |\n"
   ]
  },
  {
   "cell_type": "markdown",
   "id": "f758dd95",
   "metadata": {},
   "source": [
    "### 전처리 방법\n",
    "| 구분           | 범주형 데이터 전처리                                                                                                                                         | 수치형 데이터 전처리                                                                                                             |\n",
    "| ------------ | --------------------------------------------------------------------------------------------------------------------------------------------------- | ----------------------------------------------------------------------------------------------------------------------- |\n",
    "| **전처리 대상**   | 문자열로 구성된 범주값 (예: 성별, 국가)                                                                                                                            | 연속된 숫자값 (예: 키, 나이, 점수)                                                                                                  |\n",
    "| **필요성**      | 모델은 문자열을 처리하지 못하므로 숫자로 변환 필요                                                                                                                        | 변수의 단위 차이가 모델 성능에 영향을 줌                                                                                                 |\n",
    "| **기본 처리 방법** | 🔸 **Label Encoding**: 각 범주에 정수 레이블을 부여 (예: male → 1, female → 0)<br>🔸 **One-Hot Encoding**: 각 범주를 새로운 이진 변수로 변환 (예: KR → \\[1,0,0], US → \\[0,1,0]) | 🔸 **표준화 (StandardScaler)**: 평균을 0, 표준편차를 1로 변환해 분포를 정규화<br>🔸 **정규화 (MinMaxScaler)**: 최소값을 0, 최대값을 1로 맞춰 값 범위를 일정하게 조정 |\n",
    "| **적용 예시**    | - 범주형 변수인 ‘성별’, ‘지역’, ‘직업군’ 등에 사용<br>- 트리 계열 모델은 Label Encoding만으로도 처리 가능                                                                           | - 피처 간 크기 차이가 큰 연속형 변수들에 적용<br>- 회귀, 분류 모델(선형모델, SVM, 신경망 등)                                                            |\n",
    "| **결측치 처리**   | - 최빈값으로 대체하거나 ‘Unknown’이라는 새로운 범주 추가                                                                                                                | - 평균(mean), 중앙값(median), KNN 등으로 대체                                                                                     |\n",
    "| **주의 사항**    | - 순서가 있는 범주는 Label Encoding 가능 (예: 교육 수준)<br>- 순서 없는 범주는 One-Hot Encoding 권장<br>- 차원이 급격히 증가할 수 있음 (One-Hot의 경우)                                    | - 반드시 **Train Set 기준으로 fit** 후<br>Validation/Test에 동일한 스케일러 적용<br>- Test에서 min/max를 넘는 경우도 존재함                          |\n",
    "| **주 사용 모델**  | 전 모델 공통<br>트리 기반 모델은 인코딩에 덜 민감                                                                                                                      | 선형모델, SVM, 신경망 등<br>트리 기반 모델은 스케일에 둔감                                                                                   |\n"
   ]
  },
  {
   "cell_type": "markdown",
   "id": "a3fafbc4",
   "metadata": {},
   "source": [
    "## 머신러닝 모델 개발 및 평가 단계 (전체 흐름도) <br>\n",
    "<center>\n",
    "[1. 데이터 준비]<br>\n",
    "        ↓<br>\n",
    "[2. 학습/검증용 데이터 분할 (Train/Test Split)]<br>\n",
    "        ↓<br>\n",
    "[3. 하이퍼파라미터 탐색 및 모델 튜닝 (GridSearchCV)]<br>\n",
    "        ↓<br>\n",
    "[4. 모델 학습 (Fit)]<br>\n",
    "        ↓<br>\n",
    "[5. 학습 결과 평가 (Best Params, Score)]<br>\n",
    "        ↓<br>\n",
    "[6. 테스트셋 최종 평가 (Best Estimator Predict)]\n",
    "</center>"
   ]
  },
  {
   "cell_type": "markdown",
   "id": "095a705f",
   "metadata": {},
   "source": [
    "### 📌 1. 데이터셋 로드\n",
    "- **목적**: 모델 훈련에 사용할 데이터를 불러옵니다."
   ]
  },
  {
   "cell_type": "code",
   "execution_count": null,
   "id": "0c7d92fc",
   "metadata": {},
   "outputs": [],
   "source": [
    "from sklearn.datasets import load_iris\n",
    "\n",
    "data = load_iris()\n",
    "X, y = data.data, data.target"
   ]
  },
  {
   "cell_type": "markdown",
   "id": "132acac4",
   "metadata": {},
   "source": [
    "### 📌 2. Train/Test 분할\n",
    "- **목적**: 데이터셋을 학습용과 평가용으로 분리 (보통 70:30 또는 80:20)\n"
   ]
  },
  {
   "cell_type": "code",
   "execution_count": null,
   "id": "9ba19227",
   "metadata": {},
   "outputs": [],
   "source": [
    "from sklearn.model_selection import train_test_split\n",
    "\n",
    "X_train, X_test, y_train, y_test = train_test_split(X, y, test_size=0.2, random_state=42)\n"
   ]
  },
  {
   "cell_type": "markdown",
   "id": "3e1c42c5",
   "metadata": {},
   "source": [
    "### 📌 3. GridSearchCV로 하이퍼파라미터 튜닝\n",
    "- **목적**: 모델 성능을 최적화할 수 있는 하이퍼파라미터 조합을 자동 탐색\n"
   ]
  },
  {
   "cell_type": "code",
   "execution_count": null,
   "id": "db912040",
   "metadata": {},
   "outputs": [],
   "source": [
    "from sklearn.model_selection import GridSearchCV\n",
    "from sklearn.svm import SVC\n",
    "\n",
    "param_grid = {'C': [0.1, 1, 10], 'kernel': ['linear', 'rbf']}\n",
    "grid = GridSearchCV(SVC(), param_grid, cv=5)"
   ]
  },
  {
   "cell_type": "markdown",
   "id": "a0205217",
   "metadata": {},
   "source": [
    "### 📌 4. 모델 학습\n",
    "- **목적**: 훈련 데이터를 사용하여 모델 학습 수행\n"
   ]
  },
  {
   "cell_type": "code",
   "execution_count": null,
   "id": "54fbbbf4",
   "metadata": {},
   "outputs": [],
   "source": [
    "grid.fit(X_train, y_train)"
   ]
  },
  {
   "cell_type": "markdown",
   "id": "0a62739c",
   "metadata": {},
   "source": [
    "### 📌 5. 학습 결과 평가\n",
    "- **목적**: 최적 파라미터와 교차검증 정확도 확인\n"
   ]
  },
  {
   "cell_type": "code",
   "execution_count": null,
   "id": "d4a05883",
   "metadata": {},
   "outputs": [],
   "source": [
    "print(\"Best Params:\", grid.best_params_)\n",
    "print(\"Best CV Score:\", grid.best_score_)"
   ]
  },
  {
   "cell_type": "markdown",
   "id": "0ba56212",
   "metadata": {},
   "source": [
    "### 📌 6. 최종 모델로 테스트셋 평가\n",
    "- **목적**: 선택된 최적 모델로 Test Set 예측 및 최종 성능 확인\n"
   ]
  },
  {
   "cell_type": "code",
   "execution_count": null,
   "id": "9a968edf",
   "metadata": {},
   "outputs": [],
   "source": [
    "best_model = grid.best_estimator_\n",
    "test_score = best_model.score(X_test, y_test)\n",
    "print(\"Test Accuracy:\", test_score)"
   ]
  }
 ],
 "metadata": {
  "kernelspec": {
   "display_name": "ml",
   "language": "python",
   "name": "python3"
  },
  "language_info": {
   "name": "python",
   "version": "3.12.10"
  }
 },
 "nbformat": 4,
 "nbformat_minor": 5
}
