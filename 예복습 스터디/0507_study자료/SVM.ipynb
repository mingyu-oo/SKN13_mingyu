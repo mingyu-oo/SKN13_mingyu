{
 "cells": [
  {
   "cell_type": "markdown",
   "id": "41a2c29c",
   "metadata": {},
   "source": [
    "### Support Vector Machine(SVM)\n",
    "\n",
    "| 알고리즘 | 유형 | 주요 특징 | 주요 하이퍼파라미터 |\n",
    "|-----------|--------|------------|-------------------------|\n",
    "| **SVM (Support Vector Machine)** | 분류/회귀 | 고차원 데이터에 유리, 마진 최대화, 커널로 비선형 문제 해결 가능 | `C`, `kernel` (`linear`, `rbf`, `poly` 등), `gamma`|"
   ]
  },
  {
   "cell_type": "markdown",
   "id": "1915e3d4",
   "metadata": {},
   "source": [
    "### 머신러닝 모델 개발 및 평가 단계 (전체 흐름도) <br>\n",
    "<center>\n",
    "[1. 데이터 준비 및 X,y 생성]<br>\n",
    "        ↓<br>\n",
    "[2. 학습/검증용 데이터 분할 (Train/Test Split)]<br>\n",
    "        ↓<br>\n",
    "[3. 전처리 및 모델 pipeline 만들기]\n",
    "        ↓<br>\n",
    "[4. 하이퍼파라미터 탐색 및 모델 튜닝 (GridSearchCV)]<br>\n",
    "        ↓<br>\n",
    "[5. 모델 학습 (Fit)]<br>\n",
    "        ↓<br>\n",
    "[6. 학습 결과 평가 (Best Params, Score)]<br>\n",
    "        ↓<br>\n",
    "[7. 테스트셋 최종 평가 (Best Estimator Predict)]\n",
    "</center>"
   ]
  },
  {
   "cell_type": "markdown",
   "id": "e41405ff",
   "metadata": {},
   "source": [
    "#### 1. 데이터 준비 및 X,y 생성"
   ]
  },
  {
   "cell_type": "code",
   "execution_count": 1,
   "id": "6d550b67",
   "metadata": {},
   "outputs": [],
   "source": [
    "from sklearn.datasets import load_breast_cancer\n",
    "from sklearn.model_selection import train_test_split\n",
    "X, y = load_breast_cancer(return_X_y=True)"
   ]
  },
  {
   "cell_type": "markdown",
   "id": "195ae09c",
   "metadata": {},
   "source": [
    "#### 2. 학습/검증용 데이터 분할 (Train/Test Split)"
   ]
  },
  {
   "cell_type": "code",
   "execution_count": 2,
   "id": "7de71543",
   "metadata": {},
   "outputs": [],
   "source": [
    "X_train, X_test, y_train, y_test = train_test_split(X, y, stratify=y, random_state=1)"
   ]
  },
  {
   "cell_type": "markdown",
   "id": "62c46d7c",
   "metadata": {},
   "source": [
    "#### 3. 전처리 및 모델 pipeline 만들기"
   ]
  },
  {
   "cell_type": "code",
   "execution_count": null,
   "id": "3df19487",
   "metadata": {},
   "outputs": [],
   "source": [
    "# SVM : Feature scaling/One Hot Encoding 전처리.\n",
    "pipeline = Pipeline([\n",
    "    (\"scaler\", StandardScaler()), \n",
    "    (\"svm\", SVC(random_state=0, probability=True))\n",
    "])"
   ]
  },
  {
   "cell_type": "markdown",
   "id": "43e5acad",
   "metadata": {},
   "source": [
    "#### 4. 하이퍼파라미터 탐색 및 모델 튜닝 (GridSearchCV)"
   ]
  },
  {
   "cell_type": "code",
   "execution_count": null,
   "id": "598ec933",
   "metadata": {},
   "outputs": [],
   "source": [
    "params = {\n",
    "    \"svm__kernel\": [\"linear\", \"rbf\",  \"poly\", \"sigmoid\"],\n",
    "    \"svm__C\": [0.01, 0.1, 1, 10, 100], \n",
    "    \"svm__gamma\": [0.01, 0.1, 1, 10, 100], \n",
    "}\n",
    "\n",
    "gs = GridSearchCV(\n",
    "    pipeline, \n",
    "    params,\n",
    "    scoring=[\"accuracy\", \"roc_auc\", \"average_precision\"], \n",
    "    refit=\"accuracy\", #accuracy로 판단할거야.\n",
    "    cv=4,\n",
    "    n_jobs=-1\n",
    ")"
   ]
  },
  {
   "cell_type": "markdown",
   "id": "925a3f71",
   "metadata": {},
   "source": [
    "#### 5. 모델 학습 (Fit)"
   ]
  },
  {
   "cell_type": "code",
   "execution_count": null,
   "id": "a04add05",
   "metadata": {},
   "outputs": [],
   "source": [
    "gs.fit(X_train, y_train)"
   ]
  },
  {
   "cell_type": "markdown",
   "id": "8e08dd92",
   "metadata": {},
   "source": [
    "#### 6. 학습 결과 평가 (Best Params, Score)"
   ]
  },
  {
   "cell_type": "code",
   "execution_count": null,
   "id": "1af258d7",
   "metadata": {},
   "outputs": [],
   "source": [
    "gs.best_score_\n",
    "gs.best_params_"
   ]
  },
  {
   "cell_type": "markdown",
   "id": "0300da16",
   "metadata": {},
   "source": [
    "#### 7. 테스트셋 최종 평가 (Best Estimator Predict)"
   ]
  },
  {
   "cell_type": "markdown",
   "id": "15219350",
   "metadata": {},
   "source": [
    "gs.best_estimator_"
   ]
  },
  {
   "cell_type": "markdown",
   "id": "65ec9af7",
   "metadata": {},
   "source": []
  }
 ],
 "metadata": {
  "kernelspec": {
   "display_name": "ml",
   "language": "python",
   "name": "python3"
  },
  "language_info": {
   "codemirror_mode": {
    "name": "ipython",
    "version": 3
   },
   "file_extension": ".py",
   "mimetype": "text/x-python",
   "name": "python",
   "nbconvert_exporter": "python",
   "pygments_lexer": "ipython3",
   "version": "3.12.10"
  }
 },
 "nbformat": 4,
 "nbformat_minor": 5
}
