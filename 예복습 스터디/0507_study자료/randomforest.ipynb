{
 "cells": [
  {
   "cell_type": "markdown",
   "id": "5f01f3a3",
   "metadata": {},
   "source": [
    "### Randomforest\n",
    "\n",
    "- **주요 하이퍼파라미터**\n",
    "    - n_estimators\n",
    "        - DecisionTree 모델의 개수\n",
    "        - 학습할 시간과 메모리가 허용하는 범위에서 클수록 좋다. \n",
    "    - max_features\n",
    "        - 각 트리에서 선택할 feature의 개수\n",
    "        - 클수록 각 트리간의 feature 차이가 크고 작을 수록 차이가 적게 나게 된다.\n",
    "    - DecisionTree의 하이퍼파라미터들\n",
    "        - Tree의 최대 깊이, 가지를 치기 위한 최소 샘플 수 등 Decision Tree에서 과적합을 막기 위한 파라미터들을 랜덤 포레스트에 적용할 수 있다.\n",
    "\n",
    "| 알고리즘 | 유형 | 주요 특징 | 주요 하이퍼파라미터 |\n",
    "|-----------|--------|------------|-------------------------|\n",
    "| **Random Forest** | 분류/회귀 | 다수의 결정트리 앙상블, 과적합 완화, 특성 중요도 제공 | `n_estimators`, `max_depth`, `max_features`, `bootstrap` |\n"
   ]
  },
  {
   "cell_type": "markdown",
   "id": "6d5db523",
   "metadata": {},
   "source": [
    "### "
   ]
  },
  {
   "cell_type": "markdown",
   "id": "419bc9bc",
   "metadata": {},
   "source": [
    "#### 1. 데이터 준비 및 X,y 생성"
   ]
  },
  {
   "cell_type": "code",
   "execution_count": null,
   "id": "367f0d0b",
   "metadata": {},
   "outputs": [],
   "source": [
    "import pandas as pd\n",
    "wine = pd.read_csv(\"data/wine.csv\")\n",
    "\n",
    "X = wine.drop(columns=\"color\")#.values\n",
    "y = wine['color']#.values\n",
    "\n",
    "from sklearn.preprocessing import LabelEncoder\n",
    "le = LabelEncoder()\n",
    "le.fit(['A', 'B', 'C'])\n",
    "X['quality'] = le.fit_transform(X['quality']) "
   ]
  },
  {
   "cell_type": "markdown",
   "id": "7cb7b0c5",
   "metadata": {},
   "source": [
    "#### 2. 학습/검증용 데이터 분할 (Train/Test Split)"
   ]
  },
  {
   "cell_type": "code",
   "execution_count": null,
   "id": "ef7ea1be",
   "metadata": {},
   "outputs": [],
   "source": [
    "from sklearn.model_selection import train_test_split, GridSearchCV\n",
    "X_train, X_test, y_train, y_test = train_test_split(X, y, test_size=0.25, stratify=y, random_state=0)"
   ]
  },
  {
   "cell_type": "markdown",
   "id": "d74ee0df",
   "metadata": {},
   "source": [
    "#### 3. 전처리 및 모델 pipeline 만들기 <br> 4. 하이퍼파라미터 탐색 및 모델 튜닝 (GridSearchCV)"
   ]
  },
  {
   "cell_type": "code",
   "execution_count": null,
   "id": "909b198a",
   "metadata": {},
   "outputs": [],
   "source": [
    "from sklearn.model_selection import RandomizedSearchCV\n",
    "from sklearn.tree import DecisionTreeClassifier\n",
    "params = {\n",
    "    \"max_depth\":range(1, 14), \n",
    "    \"max_leaf_nodes\": range(10, 56),\n",
    "    \"min_samples_leaf\": range(10, 1001, 50),\n",
    "    \"max_features\": range(1, 13)\n",
    "}\n",
    "# gs = GridSearchCV(\n",
    "gs = RandomizedSearchCV(\n",
    "    DecisionTreeClassifier(random_state=0),\n",
    "    params,\n",
    "    n_iter=60,    # 테스트할 하이퍼파라미터 조합 개수 (random하게 조합을 선택한다.)\n",
    "    scoring='accuracy', \n",
    "    cv=5,         # cross validation fold 개수\n",
    "    n_jobs=-1\n",
    ")"
   ]
  },
  {
   "cell_type": "markdown",
   "id": "6e98b08e",
   "metadata": {},
   "source": [
    "#### 5. 모델 학습 (Fit)"
   ]
  },
  {
   "cell_type": "code",
   "execution_count": null,
   "id": "d702b0e1",
   "metadata": {},
   "outputs": [],
   "source": [
    "gs.fit(X_train, y_train)"
   ]
  },
  {
   "cell_type": "markdown",
   "id": "36f68aaf",
   "metadata": {},
   "source": [
    "#### 6. 학습 결과 평가 (Best Params, Score)"
   ]
  },
  {
   "cell_type": "code",
   "execution_count": null,
   "id": "2bec6e3c",
   "metadata": {},
   "outputs": [],
   "source": [
    "gs.best_score_\n",
    "gs.best_params_"
   ]
  },
  {
   "cell_type": "code",
   "execution_count": null,
   "id": "ba07842c",
   "metadata": {},
   "outputs": [],
   "source": [
    "import pandas as pd\n",
    "result_cv = pd.DataFrame(gs.cv_results_).sort_values(\"rank_test_score\")\n",
    "result_cv.head()"
   ]
  },
  {
   "cell_type": "markdown",
   "id": "1dce7e24",
   "metadata": {},
   "source": [
    "#### 7. 테스트셋 최종 평가 (Best Estimator Predict)"
   ]
  },
  {
   "cell_type": "markdown",
   "id": "6089f045",
   "metadata": {},
   "source": [
    "gs.best_estimator_  Feature importance 확인"
   ]
  },
  {
   "cell_type": "code",
   "execution_count": null,
   "id": "adfcb82c",
   "metadata": {},
   "outputs": [],
   "source": [
    "best_model = gs.best_estimator_\n",
    "fi = pd.Series(best_model.feature_importances_, index=wine.columns[:-1]).sort_values(ascending=False)"
   ]
  },
  {
   "cell_type": "code",
   "execution_count": null,
   "id": "5a47c03e",
   "metadata": {},
   "outputs": [],
   "source": [
    "# 시각화\n",
    "\n",
    "from sklearn.tree import export_graphviz\n",
    "from graphviz import Source\n",
    "\n",
    "graph = Source(\n",
    "    export_graphviz(\n",
    "        best_model, \n",
    "        feature_names=wine.columns[:-1],\n",
    "        class_names = [\"White\", \"Red\"],\n",
    "        filled=True,\n",
    "        rounded=True\n",
    "    )\n",
    ")\n",
    "graph"
   ]
  },
  {
   "cell_type": "markdown",
   "id": "0b19b721",
   "metadata": {},
   "source": [
    "### 회귀\n",
    "- DecisionTreeRegressor  사용"
   ]
  },
  {
   "cell_type": "markdown",
   "id": "e2cccee7",
   "metadata": {},
   "source": [
    "#### 1. 데이터 준비 및 X,y 생성"
   ]
  },
  {
   "cell_type": "code",
   "execution_count": null,
   "id": "daf650bd",
   "metadata": {},
   "outputs": [],
   "source": [
    "import pandas as pd\n",
    "from sklearn.model_selection import train_test_split\n",
    "\n",
    "df = pd.read_csv(\"data/boston_dataset.csv\")\n",
    "X = df.drop(columns='MEDV')\n",
    "y = df['MEDV']\n"
   ]
  },
  {
   "cell_type": "markdown",
   "id": "c538097d",
   "metadata": {},
   "source": [
    "#### 2. 학습/검증용 데이터 분할 (Train/Test Split)"
   ]
  },
  {
   "cell_type": "code",
   "execution_count": null,
   "id": "1986cfe7",
   "metadata": {},
   "outputs": [],
   "source": [
    "X_train, X_test, y_train, y_test = train_test_split(X, y, random_state=0)    \n",
    "X_train.shape, X_test.shape"
   ]
  },
  {
   "cell_type": "markdown",
   "id": "d07c4819",
   "metadata": {},
   "source": [
    "#### 3. 전처리 및 모델 pipeline 만들기 <br> 4. 하이퍼파라미터 탐색 및 모델 튜닝 (GridSearchCV)"
   ]
  },
  {
   "cell_type": "code",
   "execution_count": null,
   "id": "b235ef4e",
   "metadata": {},
   "outputs": [],
   "source": [
    "from sklearn.tree import DecisionTreeRegressor, export_graphviz\n",
    "from graphviz import Source\n",
    "from metrics import print_regression_metrcis\n",
    "\n",
    "model = DecisionTreeRegressor(max_depth = 2, random_state=0)  # 2개의 단계만 내려가도록 max_depth 설정"
   ]
  },
  {
   "cell_type": "markdown",
   "id": "7c0b660a",
   "metadata": {},
   "source": [
    "#### 5. 모델 학습 (Fit)"
   ]
  },
  {
   "cell_type": "code",
   "execution_count": null,
   "id": "bbba02bf",
   "metadata": {},
   "outputs": [],
   "source": [
    "model.fit(X_train, y_train)"
   ]
  },
  {
   "cell_type": "markdown",
   "id": "b0d1fef9",
   "metadata": {},
   "source": [
    "#### 6. 학습 결과 평가 (Best Params, Score)"
   ]
  },
  {
   "cell_type": "code",
   "execution_count": null,
   "id": "9fc5dcbc",
   "metadata": {},
   "outputs": [],
   "source": [
    "model.get_depth()\n",
    "model.get_n_leaves()"
   ]
  },
  {
   "cell_type": "markdown",
   "id": "ffe57da8",
   "metadata": {},
   "source": [
    "#### 7. 테스트셋 최종 평가 (Best Estimator Predict)"
   ]
  },
  {
   "cell_type": "markdown",
   "id": "5cba1b08",
   "metadata": {},
   "source": [
    "gs.best_estimator_  Feature importance 확인"
   ]
  },
  {
   "cell_type": "code",
   "execution_count": null,
   "id": "ed7e8c9e",
   "metadata": {},
   "outputs": [],
   "source": [
    "print_regression_metrcis(y_train, model.predict(X_train))\n",
    "print_regression_metrcis(y_test, model.predict(X_test))"
   ]
  },
  {
   "cell_type": "code",
   "execution_count": null,
   "id": "49700864",
   "metadata": {},
   "outputs": [],
   "source": [
    "## 분기 구조를 시각화\n",
    "graph = Source(\n",
    "    export_graphviz(\n",
    "        model, \n",
    "        feature_names=X.columns, \n",
    "        filled=True, rounded=True\n",
    "    )\n",
    ")\n",
    "\n",
    "graph\n",
    "\n",
    "\n",
    "# value = 값의 평균\n",
    "# squared_error = (각 실제 값 - 평균)**2\n",
    "# 그래서 이 squared_error 가 최소화하기 위해 또 분기를 함.-> 그래서 분기를 하기 위한 첫번째 질문이 LSTAT <= 8.13인지를 물어봄.\n",
    "graph"
   ]
  },
  {
   "cell_type": "code",
   "execution_count": null,
   "id": "fa4b87cb",
   "metadata": {},
   "outputs": [],
   "source": [
    "fi = pd.Series(model.feature_importances_, index=X.columns).sort_values(ascending=False)\n",
    "fi"
   ]
  }
 ],
 "metadata": {
  "language_info": {
   "name": "python"
  }
 },
 "nbformat": 4,
 "nbformat_minor": 5
}
