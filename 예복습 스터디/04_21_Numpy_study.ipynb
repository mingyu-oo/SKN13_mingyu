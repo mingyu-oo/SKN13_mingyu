{
 "cells": [
  {
   "cell_type": "markdown",
   "id": "f3c9bf37",
   "metadata": {},
   "source": [
    "## 넘파이 (Numpy)"
   ]
  },
  {
   "cell_type": "markdown",
   "id": "7aa083c4",
   "metadata": {},
   "source": [
    "**넘파이 개요:** NumPy는 파이썬에서 **과학 연산 및 배열 연산**을 위한 핵심 라이브러리입니다. 파이썬의 리스트보다 **효율적인 다차원 배열(ndarray)**을 제공하며, 벡터화 연산과 브로드캐스팅 등을 통해 **빠른 수치 계산**이 가능합니다. NumPy는 선형대수 연산, 난수 생성, 푸리에 변환 등을 지원하며, **SciPy, Pandas, Scikit-learn** 등의 다른 과학 컴퓨팅 라이브러리의 기반이 됩니다."
   ]
  },
  {
   "cell_type": "markdown",
   "id": "8cf6fea4",
   "metadata": {},
   "source": [
    "**데이터 구조와 용어:** NumPy에서는 스칼라(Scalar), 벡터(Vector), 행렬(Matrix), 텐서(Tensor)와 같은 개념을 다룹니다.  \n",
    "- **스칼라(Scalar)**: 하나의 값으로 이루어진 0차원 데이터 (예: `7`).  \n",
    "- **벡터(Vector)**: 1차원 배열(1D Tensor)로, 여러 값을 특정 순서로 모은 것.  \n",
    "- **행렬(Matrix)**: 2차원 배열(2D Tensor)로, 벡터를 모아 표 형태로 구성한 것.  \n",
    "- **텐서(Tensor)**: 3차원 이상 고차원 배열(ND Tensor)로, 동일한 크기의 행렬들이 모인 구조."
   ]
  },
  {
   "cell_type": "markdown",
   "id": "b8d23fe1",
   "metadata": {},
   "source": [
    "이러한 배열은 **축(axis)**으로 차원을 구분합니다. 축의 개수가 **랭크(rank)**, 배열의 각 축 길이들의 튜플이 **shape(형상)**, 전체 원소 개수가 **size(크기)**입니다."
   ]
  },
  {
   "cell_type": "markdown",
   "id": "6bced9d5",
   "metadata": {},
   "source": [
    "### 배열 생성과 속성"
   ]
  },
  {
   "cell_type": "markdown",
   "id": "e6278a07",
   "metadata": {},
   "source": [
    "NumPy 배열은 `np.array(리스트)` 함수를 이용해 **파이썬 리스트로부터 생성**할 수 있습니다. 예를 들어:"
   ]
  },
  {
   "cell_type": "code",
   "execution_count": null,
   "id": "87edc587",
   "metadata": {},
   "outputs": [
    {
     "name": "stdout",
     "output_type": "stream",
     "text": [
      "<class 'numpy.ndarray'>\n",
      "[   1    5    2    3   10 1000]\n"
     ]
    }
   ],
   "source": [
    "import numpy as np\n",
    "arr1 = np.array([1, 5, 2, 3, 10, 1000])\n",
    "print(type(arr1))\n",
    "print(arr1)"
   ]
  },
  {
   "cell_type": "markdown",
   "id": "dd09f814",
   "metadata": {},
   "source": [
    "위와 같이 파이썬 리스트 `[1,5,2,...]`로부터 `ndarray` 객체 `arr1`이 생성됩니다. 다차원 리스트로 다차원 배열을 만들 수도 있습니다:"
   ]
  },
  {
   "cell_type": "code",
   "execution_count": null,
   "id": "ee523ce5",
   "metadata": {},
   "outputs": [
    {
     "name": "stdout",
     "output_type": "stream",
     "text": [
      "<class 'numpy.ndarray'>\n",
      "[[1 2]\n",
      " [3 4]\n",
      " [5 6]]\n"
     ]
    }
   ],
   "source": [
    "a2 = np.array([[1, 2], [3, 4], [5, 6]])\n",
    "print(type(a2))\n",
    "print(a2)"
   ]
  },
  {
   "cell_type": "markdown",
   "id": "c1c3c4a5",
   "metadata": {},
   "source": [
    "이제 이 배열들의 **속성**을 확인해보겠습니다. NumPy 배열은 객체 속성으로 `shape` (형상), `dtype` (데이터 타입), `size` (원소 총개수), `ndim` (차원 수)를 제공합니다:"
   ]
  },
  {
   "cell_type": "code",
   "execution_count": null,
   "id": "54086ecb",
   "metadata": {},
   "outputs": [
    {
     "name": "stdout",
     "output_type": "stream",
     "text": [
      "(6,) (3, 2)\n",
      "int64 int64\n",
      "6 6\n",
      "1 2\n"
     ]
    }
   ],
   "source": [
    "print(arr1.shape, a2.shape)    # 각 배열의 형태 (튜플)\n",
    "print(arr1.dtype, a2.dtype)    # 배열 원소들의 데이터 타입\n",
    "print(arr1.size, a2.size)      # 전체 원소 개수\n",
    "print(arr1.ndim, a2.ndim)      # 차원 수 (랭크)"
   ]
  },
  {
   "cell_type": "markdown",
   "id": "3ab7aa73",
   "metadata": {},
   "source": [
    "`arr1`은 6개의 원소로 이루어진 1차원 배열(`shape=(6,)`, `ndim=1`), `a2`는 3x2 형태의 2차원 배열(`shape=(3,2)`, `ndim=2`)입니다. 두 배열 모두 정수형(`int64`) 원소를 가지며 총 6개의 원소(`size=6`)를 포함합니다."
   ]
  },
  {
   "cell_type": "markdown",
   "id": "29bc2156",
   "metadata": {},
   "source": [
    "NumPy 배열은 **하나의 데이터 타입(dtype)**만 가지므로 모든 원소의 타입이 같습니다. `astype()` 메서드를 사용하면 배열의 **데이터 타입을 변환**할 수 있습니다:"
   ]
  },
  {
   "cell_type": "code",
   "execution_count": null,
   "id": "63b0507f",
   "metadata": {},
   "outputs": [
    {
     "name": "stdout",
     "output_type": "stream",
     "text": [
      "[  1   5   2   3  10 -24]\n",
      "int8\n"
     ]
    }
   ],
   "source": [
    "arr2 = arr1.astype('int8')  # arr1을 8비트 정수로 변환\n",
    "print(arr2)\n",
    "print(arr2.dtype)"
   ]
  },
  {
   "cell_type": "markdown",
   "id": "74a39945",
   "metadata": {},
   "source": [
    "위 결과에서 `1000`이 int8 범위를 넘어서기 때문에 `-24`로 변환된 것을 확인할 수 있습니다. (int8은 -128~127 범위 표현)"
   ]
  },
  {
   "cell_type": "markdown",
   "id": "12fdd3b2",
   "metadata": {},
   "source": [
    "### 특별한 값으로 배열 생성"
   ]
  },
  {
   "cell_type": "markdown",
   "id": "ab08390a",
   "metadata": {},
   "source": [
    "NumPy는 일정한 패턴의 값을 가지는 배열을 쉽게 생성하는 함수를 제공합니다:"
   ]
  },
  {
   "cell_type": "markdown",
   "id": "78c36b01",
   "metadata": {},
   "source": [
    "- **`np.zeros(shape, dtype)`**: 모든 원소가 0인 배열 생성.  \n",
    "- **`np.ones(shape, dtype)`**: 모든 원소가 1인 배열 생성.  \n",
    "- **`np.full(shape, fill_value, dtype)`**: 주어진 값으로 모든 원소를 채운 배열 생성.  \n",
    "- **`np.zeros_like(arr)`, `np.ones_like(arr)`, `np.full_like(arr, val)`**: 주어진 배열과 동일한 shape로 0, 1, 지정값으로 채운 배열 생성."
   ]
  },
  {
   "cell_type": "code",
   "execution_count": null,
   "id": "20fa016e",
   "metadata": {},
   "outputs": [
    {
     "name": "stdout",
     "output_type": "stream",
     "text": [
      "[0. 0. 0. 0. 0.] float64\n",
      "[[1. 1. 1.]\n",
      " [1. 1. 1.]] float64\n",
      "[[7 7]\n",
      " [7 7]] int64\n"
     ]
    }
   ],
   "source": [
    "a = np.zeros(5)\n",
    "print(a, a.dtype)\n",
    "b = np.ones((2, 3))\n",
    "print(b, b.dtype)\n",
    "c = np.full((2, 2), 7)\n",
    "print(c, c.dtype)"
   ]
  },
  {
   "cell_type": "markdown",
   "id": "12bfbe52",
   "metadata": {},
   "source": [
    "별도로 dtype을 지정하지 않으면 `zeros/ones`는 기본적으로 부동소수점(float64)으로 생성됩니다 (`a`, `b`의 dtype이 float64인 점을 확인). `c`는 `fill_value=7`이 정수이므로 dtype이 int64로 설정되었습니다."
   ]
  },
  {
   "cell_type": "markdown",
   "id": "29b45837",
   "metadata": {},
   "source": [
    "또한 `_like` 함수를 이용하면 기존 배열과 동일한 크기의 배열을 쉽게 만들 수 있습니다. 예를 들어 `arr3`가 2x3 배열일 때, `np.ones_like(arr3)`는 동일한 2x3 크기의 1로 채워진 배열을 만듭니다:"
   ]
  },
  {
   "cell_type": "code",
   "execution_count": 7,
   "id": "bb654b51",
   "metadata": {},
   "outputs": [
    {
     "name": "stdout",
     "output_type": "stream",
     "text": [
      "(2, 3)\n",
      "[[0. 0. 0.]\n",
      " [0. 0. 0.]]\n",
      "[[1. 1. 1.]\n",
      " [1. 1. 1.]]\n",
      "[[100. 100. 100.]\n",
      " [100. 100. 100.]]\n"
     ]
    }
   ],
   "source": [
    "l1 = [[1, 2, 3], [4, 5, 6]]\n",
    "arr3 = np.array(l1, dtype='float64')  # 2x3 배열\n",
    "print(arr3.shape)\n",
    "# arr3와 동일한 shape로 0,1,100으로 채운 배열들 생성\n",
    "print(np.zeros_like(arr3))\n",
    "print(np.ones_like(arr3))\n",
    "print(np.full_like(arr3, 100))"
   ]
  },
  {
   "cell_type": "markdown",
   "id": "0dbc411f",
   "metadata": {},
   "source": [
    "### 일정한 간격의 값으로 배열 생성"
   ]
  },
  {
   "cell_type": "markdown",
   "id": "7ecd841a",
   "metadata": {},
   "source": [
    "연속적인 숫자나 일정 간격의 숫자로 구성된 배열은 `arange`와 `linspace`로 생성할 수 있습니다:"
   ]
  },
  {
   "cell_type": "markdown",
   "id": "1faa76a5",
   "metadata": {},
   "source": [
    "- **`np.arange(start, stop, step, dtype)`**: `start`부터 `stop` **미만**까지 `step` 간격으로 증가하는 1차원 배열을 만듭니다. (파이썬 `range`와 유사하나, 실수 간격도 지원)  \n",
    "- **`np.linspace(start, stop, num, endpoint=True)`**: `start`부터 `stop`까지 **포함하여** 균등 간격으로 `num`개의 값을 생성합니다. (`endpoint=False`이면 stop 제외)"
   ]
  },
  {
   "cell_type": "code",
   "execution_count": 8,
   "id": "86bf2110",
   "metadata": {},
   "outputs": [
    {
     "name": "stdout",
     "output_type": "stream",
     "text": [
      "a1: [1 2 3 4 5 6 7 8 9]\n",
      "a2: [0.  0.1 0.2 0.3 0.4 0.5 0.6 0.7 0.8 0.9 1. ]\n",
      "a3: [ 0  1  2  3  4  5  6  7  8  9 10 11 12 13 14 15 16 17 18 19]\n",
      "a4: [ 10   9   8   7   6   5   4   3   2   1   0  -1  -2  -3  -4  -5  -6  -7\n",
      "  -8  -9 -10]\n"
     ]
    }
   ],
   "source": [
    "a1 = np.arange(1, 10)        # 1부터 9까지\n",
    "print(\"a1:\", a1)\n",
    "a2 = np.arange(0, 1.1, 0.1)  # 0.0부터 1.0까지 0.1 간격 (실수)\n",
    "print(\"a2:\", a2)\n",
    "a3 = np.arange(20)           # 0부터 19까지 (stop만 주면 start=0, step=1)\n",
    "print(\"a3:\", a3)\n",
    "a4 = np.arange(10, -11, -1)  # 10부터 -10까지 -1 간격 (역순)\n",
    "print(\"a4:\", a4)"
   ]
  },
  {
   "cell_type": "markdown",
   "id": "f7f22819",
   "metadata": {},
   "source": [
    "`linspace`를 사용하면 지정한 구간을 일정 간격으로 나눈 배열을 얻을 수 있습니다:"
   ]
  },
  {
   "cell_type": "code",
   "execution_count": 9,
   "id": "a8428ab5",
   "metadata": {},
   "outputs": [
    {
     "name": "stdout",
     "output_type": "stream",
     "text": [
      "(50,)\n",
      "[  1.           3.02040816   5.04081633   7.06122449   9.08163265\n",
      "  11.10204082  13.12244898  15.14285714  17.16326531  19.18367347\n",
      "  21.20408163  23.2244898   25.24489796  27.26530612  29.28571429\n",
      "  31.30612245  33.32653061  35.34693878  37.36734694  39.3877551\n",
      "  41.40816327  43.42857143  45.44897959  47.46938776  49.48979592\n",
      "  51.51020408  53.53061224  55.55102041  57.57142857  59.59183673\n",
      "  61.6122449   63.63265306  65.65306122  67.67346939  69.69387755\n",
      "  71.71428571  73.73469388  75.75510204  77.7755102   79.79591837\n",
      "  81.81632653  83.83673469  85.85714286  87.87755102  89.89795918\n",
      "  91.91836735  93.93877551  95.95918367  97.97959184 100.        ]\n",
      "step: 2.020408163265306\n",
      "[  1.           3.02040816   5.04081633   7.06122449   9.08163265\n",
      "  11.10204082  13.12244898  15.14285714  17.16326531  19.18367347\n",
      "  21.20408163  23.2244898   25.24489796  27.26530612  29.28571429\n",
      "  31.30612245  33.32653061  35.34693878  37.36734694  39.3877551\n",
      "  41.40816327  43.42857143  45.44897959  47.46938776  49.48979592\n",
      "  51.51020408  53.53061224  55.55102041  57.57142857  59.59183673\n",
      "  61.6122449   63.63265306  65.65306122  67.67346939  69.69387755\n",
      "  71.71428571  73.73469388  75.75510204  77.7755102   79.79591837\n",
      "  81.81632653  83.83673469  85.85714286  87.87755102  89.89795918\n",
      "  91.91836735  93.93877551  95.95918367  97.97959184 100.        ]\n",
      "[ 1.  2.  3.  4.  5.  6.  7.  8.  9. 10.]\n"
     ]
    }
   ],
   "source": [
    "a5 = np.linspace(1, 100)  # 1~100 사이 50개 값 (디폴트 num=50)\n",
    "print(a5.shape)\n",
    "print(a5)\n",
    "v = np.linspace(1, 100, retstep=True)  # (배열, 간격) 튜플 반환\n",
    "print(\"step:\", v[1])    # 간격 값\n",
    "print(v[0])             # 생성된 배열\n",
    "a6 = np.linspace(1, 10, num=10)  # 1~10을 10개의 값으로 (즉 1,2,...,10)\n",
    "print(a6)"
   ]
  },
  {
   "cell_type": "markdown",
   "id": "b54c876f",
   "metadata": {},
   "source": [
    "위에서 `a5`는 1부터 100까지 균일 간격으로 50개 값을 만든 것이고, `v`는 `(배열, step)` 형태로 반환되어 간격(step)이 약 `2.02`임을 보여줍니다. `a6`는 1부터 10까지 10개 값을 (정수 1,2,...,10) 생성했습니다."
   ]
  },
  {
   "cell_type": "markdown",
   "id": "88221f4d",
   "metadata": {},
   "source": [
    "### 난수 배열 생성"
   ]
  },
  {
   "cell_type": "markdown",
   "id": "6b82d22c",
   "metadata": {},
   "source": [
    "NumPy의 `np.random` 서브패키지를 이용하면 **무작위 값**으로 채워진 배열을 만들 수 있습니다. 재현 가능한 난수 생성을 위해 **시드(seed)**를 설정할 수 있습니다 (`np.random.seed(정수)`). 주요 난수 관련 함수:"
   ]
  },
  {
   "cell_type": "markdown",
   "id": "a8df3285",
   "metadata": {},
   "source": [
    "- **`np.random.rand(d0, d1, ...)`**: 0~1 사이 **균일분포**(Uniform)에서 표본을 뽑아 지정한 shape의 배열 생성.  \n",
    "- **`np.random.randn(d0, d1, ...)`**: 평균0, 표준편차1의 **표준 정규분포**(Normal)에서 표본 생성.  \n",
    "- **`np.random.normal(loc, scale, size)`**: 평균 `loc`, 표준편차 `scale`인 정규분포에서 표본 생성.  \n",
    "- **`np.random.randint(low, high, size)`**: `low`부터 `high`**미만** 사이에서 정수를 뽑아 배열 생성. (`high` 생략시 0~low 미만)  \n",
    "- **`np.random.choice(a, size, replace, p)`**: 주어진 1차원 배열 `a`에서 임의 추출. (복원추출 여부 `replace`, 각 요소 선택 확률 `p` 지정 가능)"
   ]
  },
  {
   "cell_type": "markdown",
   "id": "d9a89633",
   "metadata": {},
   "source": [
    "예를 들어 균일분포 난수 및 정수 난수를 생성해보겠습니다:"
   ]
  },
  {
   "cell_type": "code",
   "execution_count": 11,
   "id": "4785c21d",
   "metadata": {},
   "outputs": [
    {
     "name": "stdout",
     "output_type": "stream",
     "text": [
      "[0.37454012 0.95071431 0.73199394 0.59865848 0.15601864]\n",
      "(5, 6, 7)\n",
      "[[10 14 13]\n",
      " [17 17 16]\n",
      " [12 10 10]\n",
      " [12 15 16]\n",
      " [15 15 15]]\n"
     ]
    }
   ],
   "source": [
    "np.random.seed(42)                # 시드 고정\n",
    "print(np.random.rand(5))         # 0~1 사이 실수 5개\n",
    "a = np.random.rand(5, 6, 7)      # 5x6x7 3차원 배열\n",
    "print(a.shape)\n",
    "b = np.random.randint(10, 20, size=(5, 3))  # 10~19 사이 정수로 5x3 배열\n",
    "print(b)"
   ]
  },
  {
   "cell_type": "markdown",
   "id": "d5ccf411",
   "metadata": {},
   "source": [
    "위에서 `np.random.rand(5)`는 길이 5의 1차원 배열을 반환했고, `np.random.rand(5,6,7)`은 5x6x7 배열을 생성했습니다. `randint(10,20)`은 [10,20) 구간의 정수를 생성하며, 위 `b` 배열에서 모든 원소가 10~19 범위인 것을 볼 수 있습니다."
   ]
  },
  {
   "cell_type": "markdown",
   "id": "2b7ca59c",
   "metadata": {},
   "source": [
    "정규분포 난수의 예시로, 표준정규분포에서 5개의 값을 뽑아보겠습니다. 또한 난수 배열의 통계치를 확인해 보겠습니다:"
   ]
  },
  {
   "cell_type": "code",
   "execution_count": 12,
   "id": "11920245",
   "metadata": {},
   "outputs": [
    {
     "name": "stdout",
     "output_type": "stream",
     "text": [
      "[ 0.88 -0.24  1.21  0.54  2.73]\n",
      "[3 2 1]\n"
     ]
    }
   ],
   "source": [
    "c = np.random.normal(size=5)\n",
    "print(np.round(c, 2))  # 표준정규분포 난수 5개 (소수 2자리로 출력)\n",
    "np.random.seed(0)\n",
    "sample = np.random.choice([1, 2, 3], size=3, replace=False)\n",
    "print(sample)          # 1,2,3 중 중복없이 3개 선택 (무작위 순열)"
   ]
  },
  {
   "cell_type": "markdown",
   "id": "5a088728",
   "metadata": {},
   "source": [
    "위 `c`는 평균0, 표준편차1인 정규분포의 표본으로, 대략 절반 정도가 음수, 양수가 섞여 있습니다. `np.random.choice`를 이용해 `[1,2,3]`에서 3개를 비복원 추출하면 `[3 2 1]`처럼 하나의 랜덤 순열이 생성됩니다."
   ]
  },
  {
   "cell_type": "markdown",
   "id": "2eb68e7c",
   "metadata": {},
   "source": [
    "> **참고:** 난수 생성에 시드를 고정하지 않으면 실행할 때마다 다른 난수가 나오지만, 시드를 같은 값으로 설정하면 항상 동일한 난수가 재현됩니다."
   ]
  }
 ],
 "metadata": {
  "kernelspec": {
   "display_name": "ml",
   "language": "python",
   "name": "python3"
  },
  "language_info": {
   "codemirror_mode": {
    "name": "ipython",
    "version": 3
   },
   "file_extension": ".py",
   "mimetype": "text/x-python",
   "name": "python",
   "nbconvert_exporter": "python",
   "pygments_lexer": "ipython3",
   "version": "3.12.10"
  }
 },
 "nbformat": 4,
 "nbformat_minor": 5
}
