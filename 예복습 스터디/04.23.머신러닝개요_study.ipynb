{
 "cells": [
  {
   "cell_type": "markdown",
   "id": "654176fc",
   "metadata": {},
   "source": [
    "## 인공지능 개요"
   ]
  },
  {
   "cell_type": "markdown",
   "id": "6856ea3f",
   "metadata": {},
   "source": [
    "### 인공지능 (AI - Artificial Intelligence) 이란\n",
    "\n",
    "#### 지능이란?\n",
    "- 지능: 어떤 문제를 해결하기 위한 지적 활동 능력\n",
    "- 인공지능\n",
    "     - 기계가 사람의 지능을 모방하게 하는 기술\n",
    "     - 규칙기반, 데이터 학습 기반"
   ]
  },
  {
   "cell_type": "markdown",
   "id": "0d292d9b",
   "metadata": {},
   "source": [
    "### Strong AI vs Weak AI\n",
    "- Artificial General Intelligence (AGI)\n",
    "    - 인간이 할 수 있는 모든 지적인 업무를 해낼 수 있는 (가상적인) 기계의 지능을 말한다. 인공지능 연구의 주요 목표."
   ]
  },
  {
   "cell_type": "markdown",
   "id": "7d7ab8c6",
   "metadata": {},
   "source": [
    "- **Strong AI (강 인공지능)**\n",
    "    - AGI 성능을 가지는 인공지능\n",
    "    - 인공지능 연구가 목표하는 방향.\n",
    "    \n",
    "- **Weak AI (약 인공지능)**\n",
    "    - 기존에 인간은 쉽게 해결할 수 있었지만 컴퓨터로 처리하기 어려웠던 일을 컴퓨터가 수행할 수 있도록 하는 것이 목적.\n",
    "    - 지각(知覺)을 가지고 있지 않으며 **특정한 업무를 처리**하는데 집중한다."
   ]
  },
  {
   "cell_type": "markdown",
   "id": "e55b2c04",
   "metadata": {},
   "source": [
    "#### 인공지능의 발전을 가능하게 만든 세가지 요소\n",
    "- **데이터의 급격한 증가**\n",
    "    - 디지털사진, 동영상, IoT 기기, SNS 컨텐츠 등으로 인해 데이터가 폭발적으로 증가 \n",
    "    - 전 세계 디지털데이터의 90%가 최근 2년 동안 생성 \n",
    "- **알고리즘의 발전**\n",
    "    - 급증한 데이터를 이용한 기존 알고리즘 개선 및 새로운 알고리즘들이 개발됨.\n",
    "- **컴퓨터 하드웨어의 발전**\n",
    "    - CPU와 GPU의 발전. \n",
    "    - 특히 GPU의 발전은 딥러닝의 발전으로 이어짐.\n",
    "    - TPU(Tensor Processing Unit)\n",
    "        - 구글에서 개발한 딥러닝 전용 칩셋"
   ]
  },
  {
   "cell_type": "markdown",
   "id": "3e7ebf64",
   "metadata": {},
   "source": [
    "### 머신러닝과 딥러닝"
   ]
  },
  {
   "cell_type": "markdown",
   "id": "1e94b3fa",
   "metadata": {},
   "source": [
    "#### 머신러닝(Machine Learning)\n",
    "> - 데이터 학습 기반의 인공 지능 분야\n",
    "> - 기계에게 어떻게 동작할지 일일이 코드로 명시하지 않고 데이터를 이용해 학습할 수 있도록 하는 알고리즘과 기술을 개발하는 인공지능의 한분야"
   ]
  },
  {
   "cell_type": "markdown",
   "id": "d76f30a1",
   "metadata": {},
   "source": [
    "#### 딥러닝 (Deep Learning)\n",
    "> - 인공신경망 알고리즘을 기반으로 하는 머신러닝의 한 분야. 비정형데이터(영상, 음성, 텍스트)에서 뛰어난 성능을 나타낸다. 단 학습 데이터의 양이 많아야 한다.\n",
    "\n",
    "https://brunch.co.kr/@growthminder/121"
   ]
  },
  {
   "cell_type": "markdown",
   "id": "84728c1d",
   "metadata": {},
   "source": [
    "> - 비정형 데이터\n",
    ">    - 정해진 규칙 없이 저장되어 값의 의미를 쉽게 파악할 수 없는 데이터\n",
    ">    - 텍스트, 영상, 음성 데이터가 대표적인 예이다.\n",
    "> - 정형 데이터\n",
    ">    - 미리 정해 놓은 형식과 구조에 따라 저장되도록 구성된 데이터\n",
    ">    - 대표적이 예로 관계형 데이터베이스가 있다."
   ]
  },
  {
   "cell_type": "markdown",
   "id": "933777c6",
   "metadata": {},
   "source": [
    "### 기존 프로그래밍 방식과 머신러닝 간의 차이"
   ]
  },
  {
   "cell_type": "markdown",
   "id": "1d2b84eb",
   "metadata": {},
   "source": [
    "- 전통적인 프로그래밍 방식은 데이터를 처리하는 프로그램(함수, 알고리즘)을 사람이 그 규칙을 찾아 그에 맞게 작성한다.\n",
    "- 머신러닝 방식은 데이터를 처리하는 알고리즘을 주어진 데이터로 부터 컴퓨터가 직접 찾도록 한다."
   ]
  },
  {
   "cell_type": "markdown",
   "id": "0d006b89",
   "metadata": {},
   "source": [
    "### 머신러닝 모델(알고리즘, 모형)\n",
    "- 모델이란 목적에 맞는 작업을 처리하는 함수/알고리즘/공식을 말한다.\n",
    "    - 머신러닝은 이 모델을 데이터 학습을 통해 정의되도록 한다.\n",
    "    - 데이터 학습이란 \"이 데이터는 이런 패턴을 가졌을 것\"이라고 가정한 일반화된 함수를 정한 뒤 그 함수를 대상 데이터에 맞춰(fitting) 함수를 완성한다.\n",
    "    \n",
    "#### 모델을 만드는 과정\n",
    "1. 모델을 정하여 수식화 한다. \n",
    "2. 모델을 데이터를 이용해 학습(Train) 시킨다. \n",
    "    - 모델을 데이터의 패턴에 맞춘다. (fit)\n",
    "3. 학습된 모델이 얼마나 데이터 패턴을 잘 표현하는지 평가한다.(Test)"
   ]
  },
  {
   "cell_type": "markdown",
   "id": "f6947246",
   "metadata": {},
   "source": [
    "<center><font size=5><b> 머신러닝이란 입력변수와 출력변수간의 패턴(함수)을 데이터학습을 통해 만드는 것</b></font></center>"
   ]
  },
  {
   "cell_type": "markdown",
   "id": "78f56b69",
   "metadata": {},
   "source": [
    "### 데이터 셋 구성\n",
    "### Feature\n",
    "- 추론하기 위한 근거가 되는 값들을 표현하는 용어.\n",
    "- 예측 하거나 분류해야 하는 데이터의 특성, 속성 값을 말한다.\n",
    "- 입력 변수(Input), 독립변수라고도 한다.\n",
    "- 일반적으로 X로 표현한다.\n",
    "\n",
    "#### Label\n",
    "- 예측하거나 분류해야 하는 값들을 표현하는 용어\n",
    "- 출력 변수(Output), 종속변수, Target 이라고도 한다.\n",
    "- 일반적으로 y로 표현한다.\n",
    "\n",
    "#### 데이터 포인트\n",
    "- 개별 데이터를 표현하는 용어. \n",
    "\n"
   ]
  },
  {
   "cell_type": "markdown",
   "id": "7a1eb931",
   "metadata": {},
   "source": [
    "### 머신러닝 알고리즘 분류\n",
    "\n",
    "### 지도학습(Supervised Learning)\n",
    "- 모델에게 데이터의 특징(Feature)와 정답(Label)을 알려주며 학습시킨다.\n",
    "- 대부분의 머신러닝은 지도학습이다.\n",
    "- 지도학습은 분류와 회귀로 나뉜다."
   ]
  },
  {
   "cell_type": "markdown",
   "id": "0efcdaca",
   "metadata": {},
   "source": [
    "- #### 분류(Classification):\n",
    "    - **두개 이상의 클래스(범주)에서 선택을 묻는 지도 학습방법**\n",
    "        - **이진 분류** : 맞는지 틀린지를 분류.\n",
    "        - **다중 분류** : 여러개의 클래스중 하나를 분류\n",
    "- #### 회귀(Regression):\n",
    "    - **숫자(연속된값)를 예측 하는 지도학습**"
   ]
  },
  {
   "cell_type": "markdown",
   "id": "80ca4a33",
   "metadata": {},
   "source": [
    "### 비지도학습 (Unsupervised Learning)\n",
    "- **정답이 없이 데이터의 특징만 학습하여 데이터간의 관계를 찾는 학습방법**\n",
    "- #### 군집(Clustering)\n",
    "    - 비슷한 유형의 데이터 그룹을 찾는다. 주로 데이터 경향성을 파악하는 비지도 학습\n",
    "- #### 차원축소(Dimensionality Reduction)\n",
    "    - 예측에 영향을 최대한 주지 않으면서 변수(Feature)를 축소하는 한다.\n",
    "    - 고차원 데이터를 저차원의 데이터로 변환하는 비지도 학습  "
   ]
  },
  {
   "cell_type": "markdown",
   "id": "ee04e82b",
   "metadata": {},
   "source": [
    "### 머신러닝 개발 절차 (Machine Learning Process)"
   ]
  },
  {
   "cell_type": "markdown",
   "id": "5cc51826",
   "metadata": {},
   "source": [
    "1. Business Understanding\n",
    "    - 머신러닝 개발을 통해 얻고자 하는 것 파악."
   ]
  },
  {
   "cell_type": "markdown",
   "id": "4609b8fa",
   "metadata": {},
   "source": [
    "2. Data Understanding\n",
    "    - 데이터 수집\n",
    "    - 탐색을 통해 데이터 파악"
   ]
  },
  {
   "cell_type": "markdown",
   "id": "0cb9efbc",
   "metadata": {},
   "source": [
    "3. Data Preparation  \n",
    "    - 데이터 전처리"
   ]
  },
  {
   "cell_type": "markdown",
   "id": "dc7f7136",
   "metadata": {},
   "source": [
    "4. Modeling\n",
    "    - 머신러닝 모델 선정\n",
    "    - 모델 학습"
   ]
  },
  {
   "cell_type": "markdown",
   "id": "8cb2e2b6",
   "metadata": {},
   "source": [
    "5. Evaluation\n",
    "    - 모델 평가\n",
    "    - 평가 결과에 따라 위 프로세스 반복"
   ]
  },
  {
   "cell_type": "markdown",
   "id": "df2a612f",
   "metadata": {},
   "source": [
    "6. Deployment\n",
    "    - 평가 결과가 좋으면 실제 업무에 적용"
   ]
  },
  {
   "cell_type": "markdown",
   "id": "fde830ff",
   "metadata": {},
   "source": [
    "### 파이썬 머신러닝,딥러닝 주요 패키지\n",
    "- #### Scikit-learn\n",
    "    - 딥러닝을 제외한 머신러닝 주요 알고리즘 제공\n",
    "- #### Tensorflow\n",
    "    - 구글 브레인 팀이 개발한 텐서플로우는 머신러닝 및 딥러닝 위한 오픈소스 라이브러리다.\n",
    "- #### Keras\n",
    "    - 딥러닝 모델을 쉽게 만들 수 있도록 다양한 딥러닝 플랫폼 위에서 실행되는 고수준 딥러닝 패키지.\n",
    "    - Tensorflow 2.0 부터 keras를 포함하고 있다.\n",
    "- #### Pytorch\n",
    "    - 토치(Torch) 및 카페2(Caffe2) 프레임워크를 기반으로한 페이스북에서 만든 딥러닝 프레임워크"
   ]
  },
  {
   "cell_type": "markdown",
   "id": "3c500328",
   "metadata": {},
   "source": [
    "### [사이킷런(scikit-learn)](https://scikit-learn.org/stable)\n",
    "파이썬 머신러닝 라이브러리가 가장 많이 사용된다. 딥러닝을 제외한 대부분의 머신러닝 알고리즘을 제공한다."
   ]
  },
  {
   "cell_type": "markdown",
   "id": "11865d29",
   "metadata": {},
   "source": [
    "#### 사이킷런의 특징\n",
    "1. 파이썬 기반 다른 머신러닝 라이브러리가 사이킷런 스타일의 API를 지향할 정도로 쉽고 가장 파이썬스런 API 제공\n",
    "2. 머신러닝 관련 다양한 알고리즘을 제공하며 모든 알고리즘에 일관성있는 사용법을 제공한다."
   ]
  }
 ],
 "metadata": {
  "language_info": {
   "name": "python"
  }
 },
 "nbformat": 4,
 "nbformat_minor": 5
}
