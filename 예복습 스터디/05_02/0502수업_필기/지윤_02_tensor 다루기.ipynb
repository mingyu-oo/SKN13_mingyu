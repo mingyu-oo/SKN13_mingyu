{
 "cells": [
  {
   "cell_type": "markdown",
   "id": "84c0614b",
   "metadata": {
    "id": "84c0614b"
   },
   "source": [
    "# Tensor 생성\n",
    "- 파이토치에서 데이터를 저장하는 자료구조\n",
    "- ndarray와 성격, 사용법이 유사하다.\n",
    "\n",
    "> **pytorch의 tensor는 숫자 데이터 타입만 지원한다.**\n"
   ]
  },
  {
   "cell_type": "markdown",
   "id": "06d118ec",
   "metadata": {
    "id": "06d118ec"
   },
   "source": [
    "##  원하는 형태(shape) 텐서 생성\n",
    "- **torch.tensor(자료구조 \\[, dtype\\])**\n",
    "    - 지정한 dtype(Data type)에 맞는 Tensor객체를 생성해서 반환한다.\n",
    "      \n",
    "## 특정 타입의 Tensor를 직접 생성\n",
    "- torch.tensor()로 생성하면서 dtype을 지정하면 아래 타입의 Tensor객체가 생성된다.\n",
    "- 원하는 Type의 Tensor클래스를 이용해 직접 생성해도 된다.\n",
    "- **torch.FloatTensor(자료구조)**\n",
    "    - float32 타입 텐서 생성\n",
    "- **torch.LongTensor(자료구조)**\n",
    "    - int64 타입 텐서생성\n",
    "- 그외\n",
    "    - BoolTensor(bool), CharTensor(int8), ShortTensor(int16), IntTensor(int32), DoubleTensor(float64)\n",
    "    \n",
    "## tensor 상태 조회\n",
    "- **tensor.shape, tensor.size(\\[축번호\\])**\n",
    "    -  tensor의 shape조회\n",
    "- **tensor.dtype, tensor.type()**\n",
    "    - tensor 원소들의 데이터타입 조회\n",
    "    - dtype은 **data type**을 type()은 tensor **객체의 클래스 타입**을 반환한다.\n",
    "- **tensor.ndim, tensor.dim()**  : tensor 차원\n",
    "- **tensor.numel()**: 전체 원소 개수(numelement)\n",
    "\n"
   ]
  },
  {
   "cell_type": "code",
   "execution_count": 2,
   "id": "8f81163c",
   "metadata": {
    "executionInfo": {
     "elapsed": 4095,
     "status": "ok",
     "timestamp": 1746146631668,
     "user": {
      "displayName": "­강지윤(사범대학 교육공학과)",
      "userId": "04450917664911407728"
     },
     "user_tz": -540
    },
    "id": "8f81163c"
   },
   "outputs": [],
   "source": [
    "import torch\n",
    "import numpy as np"
   ]
  },
  {
   "cell_type": "code",
   "execution_count": 3,
   "id": "a5a312ec-094a-459d-9962-841d3decd8c3",
   "metadata": {
    "colab": {
     "base_uri": "https://localhost:8080/"
    },
    "executionInfo": {
     "elapsed": 12,
     "status": "ok",
     "timestamp": 1746146661178,
     "user": {
      "displayName": "­강지윤(사범대학 교육공학과)",
      "userId": "04450917664911407728"
     },
     "user_tz": -540
    },
    "id": "a5a312ec-094a-459d-9962-841d3decd8c3",
    "outputId": "3add79c0-dd5b-4787-e055-73d89b138ffa"
   },
   "outputs": [
    {
     "data": {
      "text/plain": [
       "array([1, 2, 3], dtype=int8)"
      ]
     },
     "execution_count": 3,
     "metadata": {},
     "output_type": "execute_result"
    }
   ],
   "source": [
    "np.array([1, 2, 3], dtype=np.int8)#\"int8\")"
   ]
  },
  {
   "cell_type": "code",
   "execution_count": 4,
   "id": "1a471610-e0d4-477c-bbe7-03f8a8d7202c",
   "metadata": {
    "colab": {
     "base_uri": "https://localhost:8080/"
    },
    "executionInfo": {
     "elapsed": 22,
     "status": "ok",
     "timestamp": 1746146827890,
     "user": {
      "displayName": "­강지윤(사범대학 교육공학과)",
      "userId": "04450917664911407728"
     },
     "user_tz": -540
    },
    "id": "1a471610-e0d4-477c-bbe7-03f8a8d7202c",
    "outputId": "540cda81-7c76-4583-cdae-e916028e30d2"
   },
   "outputs": [
    {
     "name": "stdout",
     "output_type": "stream",
     "text": [
      "torch Data types\n",
      "float torch.float16 torch.float32 torch.float64 torch.float32 torch.float64\n",
      "int: torch.int8 torch.int16 torch.int32 torch.int64 torch.int16 torch.int32 torch.int64\n",
      "uint: torch.uint8 torch.uint16 torch.uint32 torch.uint64\n",
      "bool: torch.bool\n"
     ]
    }
   ],
   "source": [
    "print('torch Data types')   #64bit는 잘 안씀 #np랑 다르게 스트링으로는 못줌.\n",
    "print(\"float\", torch.float16, torch.float32, torch.float64, torch.float, torch.double)  #torch.float: float32\n",
    "print(\"int:\", torch.int8, torch.int16, torch.int32, torch.int64, torch.short, torch.int, torch.long)# 가능\n",
    "print(\"uint:\", torch.uint8, torch.uint16, torch.uint32, torch.uint64)\n",
    "print(\"bool:\", torch.bool)"
   ]
  },
  {
   "cell_type": "code",
   "execution_count": 5,
   "id": "370e0dcd",
   "metadata": {
    "colab": {
     "base_uri": "https://localhost:8080/"
    },
    "executionInfo": {
     "elapsed": 16,
     "status": "ok",
     "timestamp": 1746146905198,
     "user": {
      "displayName": "­강지윤(사범대학 교육공학과)",
      "userId": "04450917664911407728"
     },
     "user_tz": -540
    },
    "id": "370e0dcd",
    "outputId": "06e227bf-f119-4b1c-ea7e-1466ee9746a0"
   },
   "outputs": [
    {
     "name": "stdout",
     "output_type": "stream",
     "text": [
      "shape: torch.Size([2, 2]) torch.Size([2, 2])\n",
      "0축 크기: 2 2\n",
      "type: torch.LongTensor torch.int64\n",
      "차원크기: 2 2\n",
      "원소개수: 4\n",
      "device: cpu\n"
     ]
    }
   ],
   "source": [
    "a = torch.tensor([[1,2],[3,4]]) #, dtype=torch.float32)\n",
    "\n",
    "\n",
    "print(\"shape:\", a.shape, a.size())\n",
    "print(\"0축 크기:\", a.shape[0], a.size(0))\n",
    "print(\"type:\", a.type(), a.dtype)  # type(): Tensor 객체 타입. dtype: data type => 둘은 좀 다르다.\n",
    "print('차원크기:', a.dim(), a.ndim)\n",
    "print('원소개수:', a.numel())\n",
    "print(\"device:\", a.device)  # tensor를 다루는 processor(메모리위치) - cpu, cuda(gpu)\n",
    "# CPU - RAM & GPU(nvida) - VRAM ->  둘 중에 어느 RAM에 올려둘지를 설정해두어야 함."
   ]
  },
  {
   "cell_type": "code",
   "execution_count": null,
   "id": "27f077a1",
   "metadata": {
    "colab": {
     "base_uri": "https://localhost:8080/",
     "height": 54
    },
    "executionInfo": {
     "elapsed": 27,
     "status": "ok",
     "timestamp": 1746148593701,
     "user": {
      "displayName": "­강지윤(사범대학 교육공학과)",
      "userId": "04450917664911407728"
     },
     "user_tz": -540
    },
    "id": "27f077a1",
    "outputId": "3fc94f3b-a1d9-494f-fcfc-fcb14c0d053e"
   },
   "outputs": [
    {
     "name": "stdout",
     "output_type": "stream",
     "text": [
      "tensor([0, 1, 2, 3, 4, 5, 6, 7, 8, 9])\n"
     ]
    },
    {
     "data": {
      "text/plain": [
       "'torch.LongTensor'"
      ]
     },
     "execution_count": 6,
     "metadata": {},
     "output_type": "execute_result"
    }
   ],
   "source": [
    "aa = torch.tensor(range(10))\n",
    "print(aa)\n",
    "aa.type() "
   ]
  },
  {
   "cell_type": "code",
   "execution_count": 7,
   "id": "e40a7f96",
   "metadata": {
    "colab": {
     "base_uri": "https://localhost:8080/"
    },
    "executionInfo": {
     "elapsed": 11,
     "status": "ok",
     "timestamp": 1746148661575,
     "user": {
      "displayName": "­강지윤(사범대학 교육공학과)",
      "userId": "04450917664911407728"
     },
     "user_tz": -540
    },
    "id": "e40a7f96",
    "outputId": "2f0c0376-02d1-4201-cace-9b5698a2d337"
   },
   "outputs": [
    {
     "name": "stdout",
     "output_type": "stream",
     "text": [
      "torch.float32\n",
      "torch.int32\n",
      "torch.float64\n",
      "torch.int64 torch.LongTensor\n"
     ]
    }
   ],
   "source": [
    "#Float, Double(32, 64bit 실수)/Int, Long(32, 64 bit 정수) type Tensor\n",
    "b = torch.FloatTensor([1,3,7])  #float32\n",
    "print(b.dtype)\n",
    "c = torch.IntTensor([10,20,30])    # int32\n",
    "print(c.dtype)\n",
    "d = torch.DoubleTensor([1, 2, 3])  # float64\n",
    "print(d.dtype)\n",
    "e = torch.LongTensor([10, 20, 30]) # int64\n",
    "print(e.dtype, e.type())"
   ]
  },
  {
   "cell_type": "markdown",
   "id": "b57bc602",
   "metadata": {
    "id": "b57bc602"
   },
   "source": [
    "## 동일한 값을 원소로 가지는 Tensor 생성\n",
    "- **torch.zeros(\\*size), zeros_like(텐서)**: 0으로 구성된 tensor 생성\n",
    "- **torch.ones(\\*size), ones_like(텐서)**: 1로 구성된 tensor생성\n",
    "- **torch.full(size, fill_value), full_like(텐서, fill_value)**: 지정한 값으로 구성된 tensor생성\n",
    "  - size\n",
    "    - shape을 지정한다.\n",
    "    - zeros, ones는 가변인자이므로 축별 size를 순서대로 서정\n",
    "    - full 은 tuple/list로 shape을 지정한다.\n",
    "    "
   ]
  },
  {
   "cell_type": "code",
   "execution_count": 18,
   "id": "801e4ffc",
   "metadata": {
    "colab": {
     "base_uri": "https://localhost:8080/"
    },
    "executionInfo": {
     "elapsed": 11,
     "status": "ok",
     "timestamp": 1746148865047,
     "user": {
      "displayName": "­강지윤(사범대학 교육공학과)",
      "userId": "04450917664911407728"
     },
     "user_tz": -540
    },
    "id": "801e4ffc",
    "outputId": "9c838d62-1d8c-4c90-9d08-661be4eae282",
    "scrolled": true
   },
   "outputs": [
    {
     "data": {
      "text/plain": [
       "torch.float32"
      ]
     },
     "execution_count": 18,
     "metadata": {},
     "output_type": "execute_result"
    }
   ],
   "source": [
    "a = torch.zeros(3,2,3) # 3 x 2 x 3\n",
    "a\n",
    "a.dtype\n",
    "# torch.ones(2,3)  # 2 X 3\n",
    "# torch.full([3,2], fill_value=100) # 3 x 2\n"
   ]
  },
  {
   "cell_type": "code",
   "execution_count": 19,
   "id": "1697cfd6",
   "metadata": {
    "colab": {
     "base_uri": "https://localhost:8080/"
    },
    "executionInfo": {
     "elapsed": 5,
     "status": "ok",
     "timestamp": 1746148898007,
     "user": {
      "displayName": "­강지윤(사범대학 교육공학과)",
      "userId": "04450917664911407728"
     },
     "user_tz": -540
    },
    "id": "1697cfd6",
    "outputId": "64b30fef-6709-43a1-d3e4-93d72e8277e3"
   },
   "outputs": [
    {
     "name": "stdout",
     "output_type": "stream",
     "text": [
      "torch.Size([2, 2])\n",
      "torch.Size([2, 2]) torch.int64\n"
     ]
    }
   ],
   "source": [
    "# 특정 배열과 동일한 shape의 tensor 생성.\n",
    "a = torch.tensor([[1, 2],[3, 4]]) # 2 x 2\n",
    "\n",
    "print(a.shape)\n",
    "b = torch.zeros_like(a)  # a와 같은 shape, dtype 으로 생성.\n",
    "# b = torch.ones_like(a)\n",
    "# b = torch.full_like(a, 20)\n",
    "print(b.shape, b.dtype)\n",
    "# b"
   ]
  },
  {
   "cell_type": "markdown",
   "id": "01301e5c",
   "metadata": {
    "id": "01301e5c"
   },
   "source": [
    "## 동일한 간격으로 떨어진 값들로 구성된 배열생성\n",
    "- **torch.arange(start=0, end, step=1)**\n",
    "- **torch.linspace(start, end, steps,)** : steps - 원소개수"
   ]
  },
  {
   "cell_type": "code",
   "execution_count": 22,
   "id": "f9b9fd1b",
   "metadata": {
    "colab": {
     "base_uri": "https://localhost:8080/"
    },
    "executionInfo": {
     "elapsed": 19,
     "status": "ok",
     "timestamp": 1746148992075,
     "user": {
      "displayName": "­강지윤(사범대학 교육공학과)",
      "userId": "04450917664911407728"
     },
     "user_tz": -540
    },
    "id": "f9b9fd1b",
    "outputId": "110d919b-4faf-454a-e371-8b14c0cf9353"
   },
   "outputs": [
    {
     "data": {
      "text/plain": [
       "tensor([10,  9,  8,  7,  6,  5,  4,  3,  2])"
      ]
     },
     "execution_count": 22,
     "metadata": {},
     "output_type": "execute_result"
    }
   ],
   "source": [
    "torch.arange(10)  # end. 0 ~ 10-1 1씩 증가\n",
    "torch.arange(0, 1, 0.1) # 0 ~ 1-0.1, 0.1\n",
    "torch.arange(10, 1, -1) # 10 ~ 1-(-1), -1"
   ]
  },
  {
   "cell_type": "code",
   "execution_count": 25,
   "id": "afa883dd",
   "metadata": {
    "colab": {
     "base_uri": "https://localhost:8080/"
    },
    "executionInfo": {
     "elapsed": 9,
     "status": "ok",
     "timestamp": 1746149057665,
     "user": {
      "displayName": "­강지윤(사범대학 교육공학과)",
      "userId": "04450917664911407728"
     },
     "user_tz": -540
    },
    "id": "afa883dd",
    "outputId": "7d56a199-4bee-4b47-c7a8-cc926e43ac0f"
   },
   "outputs": [
    {
     "data": {
      "text/plain": [
       "tensor([0.0000, 0.1000, 0.2000, 0.3000, 0.4000, 0.5000, 0.6000, 0.7000, 0.8000,\n",
       "        0.9000, 1.0000])"
      ]
     },
     "execution_count": 25,
     "metadata": {},
     "output_type": "execute_result"
    }
   ],
   "source": [
    "torch.linspace(0, 10, 5) # 0 ~ 10, 5개원소    #그 안에 5개를 동일한 간격으로\n",
    "torch.linspace(0, 1, 11)\n"
   ]
  },
  {
   "cell_type": "markdown",
   "id": "f2bd2a03",
   "metadata": {
    "id": "f2bd2a03"
   },
   "source": [
    "## 빈 tensor 생성\n",
    "- **torch.empty(\\*size)**"
   ]
  },
  {
   "cell_type": "code",
   "execution_count": 26,
   "id": "f9a865f4",
   "metadata": {
    "colab": {
     "base_uri": "https://localhost:8080/"
    },
    "collapsed": true,
    "executionInfo": {
     "elapsed": 9,
     "status": "ok",
     "timestamp": 1746149107836,
     "user": {
      "displayName": "­강지윤(사범대학 교육공학과)",
      "userId": "04450917664911407728"
     },
     "user_tz": -540
    },
    "id": "f9a865f4",
    "jupyter": {
     "outputs_hidden": true
    },
    "outputId": "394420cc-0339-4442-f215-57cbeff46801"
   },
   "outputs": [
    {
     "data": {
      "text/plain": [
       "tensor([[[ 1.0185e-19,  0.0000e+00, -1.0207e+03,  4.5734e-41,  8.9683e-44,\n",
       "           0.0000e+00,  1.1210e-43],\n",
       "         [ 0.0000e+00,  1.0189e-19,  0.0000e+00,  1.0442e-08,  4.2728e-05,\n",
       "           1.3167e-08,  4.2229e-08]],\n",
       "\n",
       "        [[ 1.4580e-19,  1.1495e+24,  3.0881e+29,  1.5766e-19,  1.8889e+31,\n",
       "           7.2065e+31,  2.8404e+29],\n",
       "         [ 2.3089e-12,  1.9421e+31,  2.7491e+20,  6.1949e-04,  1.9421e+31,\n",
       "           1.5835e-43,  0.0000e+00]],\n",
       "\n",
       "        [[ 1.0185e-19,  0.0000e+00, -1.0207e+03,  4.5734e-41,  2.6823e+23,\n",
       "           2.6820e+23,  1.0316e-08],\n",
       "         [ 4.2696e-08,  5.3603e-08,  4.2658e-08,  8.2638e+20,  2.3053e-12,\n",
       "           2.6302e+20,  6.1949e-04]]])"
      ]
     },
     "execution_count": 26,
     "metadata": {},
     "output_type": "execute_result"
    }
   ],
   "source": [
    "torch.empty(3,2,7) # 3 X 2 X 7   # 값이 없을 수 없으니 0에 가까운 아무 값으로 채워넣음."
   ]
  },
  {
   "cell_type": "markdown",
   "id": "6ec59585",
   "metadata": {
    "id": "6ec59585"
   },
   "source": [
    "## 난수를 이용한 생성\n",
    "\n",
    "- **torch.rand(\\*size)**: 0 ~ 1사이 실수로 구성된 배열을 생성. 각 값은 균등분포를 따른다.\n",
    "- **torch.randn(\\*size)**: 표준정규분포(평균:0, 표준편차:1)를 따르는 실수로 구성된 배열 생성\n",
    "- **torch.randint(low=0, high, size)**: 지정한 범위의 정수로 구성된 배열 생성\n",
    "- **torch.randperm(n)**: 0 ~ n-1 사이의 정수를 랜덤하게 섞은 값을 원소로 가지는 배열 생성"
   ]
  },
  {
   "cell_type": "code",
   "execution_count": 47,
   "id": "def1448b",
   "metadata": {
    "colab": {
     "base_uri": "https://localhost:8080/"
    },
    "executionInfo": {
     "elapsed": 7,
     "status": "ok",
     "timestamp": 1746149478932,
     "user": {
      "displayName": "­강지윤(사범대학 교육공학과)",
      "userId": "04450917664911407728"
     },
     "user_tz": -540
    },
    "id": "def1448b",
    "outputId": "2b988d98-271e-417b-8532-2d2e75fddcdf"
   },
   "outputs": [
    {
     "data": {
      "text/plain": [
       "tensor([18, 41, 22, 48, 26,  3, 42, 40, 46, 14, 90, 59, 82, 10, 36, 45,  0, 65,\n",
       "        33, 63, 64, 85, 89, 49, 60, 44, 52, 50, 98,  1, 93, 78, 56, 77,  7, 34,\n",
       "        67, 29,  5, 86, 20, 91, 15, 97, 73, 68, 31, 80, 55, 92, 53, 37, 58, 47,\n",
       "        51, 54, 75, 61, 74, 16, 25,  9, 12,  2,  6, 27, 30,  4, 19, 87, 32, 39,\n",
       "        23, 17, 96, 21, 79, 84, 24, 72, 83, 69, 70, 99, 76, 43, 35,  8, 88, 13,\n",
       "        62, 95, 28, 94, 38, 11, 71, 81, 66, 57])"
      ]
     },
     "execution_count": 47,
     "metadata": {},
     "output_type": "execute_result"
    }
   ],
   "source": [
    "torch.manual_seed(0)  # seed 설정\n",
    "torch.rand(1, 3, 5) # 100 x 3 x 5\n",
    "torch.randn(30, 3) # 30 X 3  # 표준정규분포(평균0 표준편차1)\n",
    "torch.randint(1, 100, (3, 3, 6))  # 정수\n",
    "torch.randperm(100) # 0 ~ 99 를 섞어서 구성   #정수 #index를 만들때 많이 사용 -> 데이터를 섞어서 추출하고 싶을때"
   ]
  },
  {
   "cell_type": "code",
   "execution_count": 51,
   "id": "8e9b7c88-3511-4c26-8282-5fc9ad857b98",
   "metadata": {
    "executionInfo": {
     "elapsed": 10,
     "status": "ok",
     "timestamp": 1746149528853,
     "user": {
      "displayName": "­강지윤(사범대학 교육공학과)",
      "userId": "04450917664911407728"
     },
     "user_tz": -540
    },
    "id": "8e9b7c88-3511-4c26-8282-5fc9ad857b98"
   },
   "outputs": [],
   "source": [
    "a = torch.arange(100)\n",
    "a\n",
    "# a 섞기\n",
    "idx = torch.randperm(100) # 0 ~ 99 섞어서 반환. -> index\n",
    "idx\n",
    "b = a[idx]"
   ]
  },
  {
   "cell_type": "code",
   "execution_count": 52,
   "id": "ac21cd7e-1f92-49ce-b0ae-54a2be6cd15d",
   "metadata": {
    "colab": {
     "base_uri": "https://localhost:8080/"
    },
    "executionInfo": {
     "elapsed": 59,
     "status": "ok",
     "timestamp": 1746149531365,
     "user": {
      "displayName": "­강지윤(사범대학 교육공학과)",
      "userId": "04450917664911407728"
     },
     "user_tz": -540
    },
    "id": "ac21cd7e-1f92-49ce-b0ae-54a2be6cd15d",
    "outputId": "b217ffbd-c6dd-4204-ceb0-0943964d653a"
   },
   "outputs": [
    {
     "data": {
      "text/plain": [
       "tensor([35, 11, 68, 83, 43, 32, 59, 73, 18, 75, 13, 62, 40, 22, 52, 46, 56, 79,\n",
       "        94, 51, 85, 48, 92, 71, 16, 10, 31, 81, 97, 90, 29, 19, 95,  7, 27, 78,\n",
       "        42,  9, 58,  6, 55, 49, 91, 45,  8, 66, 30, 41, 77, 72, 39,  5, 47, 25,\n",
       "        63, 82, 24, 60, 12, 98, 14, 17, 23, 87, 36, 33, 21, 67, 96, 26, 57, 76,\n",
       "        15,  1, 88, 44, 69, 84,  3, 89, 61, 64, 80, 28, 53,  0,  4, 99, 34, 86,\n",
       "        65, 37, 70, 50, 93, 54, 38, 74, 20,  2])"
      ]
     },
     "execution_count": 52,
     "metadata": {},
     "output_type": "execute_result"
    }
   ],
   "source": [
    "b"
   ]
  },
  {
   "cell_type": "markdown",
   "id": "d8494a6a",
   "metadata": {
    "id": "d8494a6a"
   },
   "source": [
    "## Tensor gpu/cpu 메모리로 옮기기\n",
    "\n",
    "- pytorch는 데이터셋인 tensor를 cpu메모리와 gpu 메모리로 서로 옮길 수 있다.\n",
    "    - 데이터에 대한 연산처리를 어디서 하느냐에 따라 메모리를 선택한다.\n",
    "    - 장치는 문자열로 설정한다.\n",
    "        - CPU 사용: \"cpu\"\n",
    "        - nvida GPU: \"cuda\"\n",
    "        - Apple m1: \"mps\"\n",
    "            - pytorch 1.12 부터 지원\n",
    "- 옮기기\n",
    "    - tensor 생성시 `device` 파라미터를 이용해 설정\n",
    "    - `tensor.to(device)`를 이용해 설정\n",
    "- 현재 실행환경에서 어떤 장비를 사용할 수 있는지 확인\n",
    "    - nvidia gpu 사용가능확인\n",
    "        - `torch.cuda.is_available()` - nvida gpu 사용가능 여부\n",
    "        - `torch.backends.mps.is_available()` - M1 사용가능 여부"
   ]
  },
  {
   "cell_type": "code",
   "execution_count": 1,
   "id": "9bf69bd8",
   "metadata": {
    "colab": {
     "base_uri": "https://localhost:8080/",
     "height": 36
    },
    "executionInfo": {
     "elapsed": 4406,
     "status": "ok",
     "timestamp": 1746149899798,
     "user": {
      "displayName": "­강지윤(사범대학 교육공학과)",
      "userId": "04450917664911407728"
     },
     "user_tz": -540
    },
    "id": "9bf69bd8",
    "outputId": "d537b751-0fc3-4901-e27e-1fd1eca808c2"
   },
   "outputs": [
    {
     "data": {
      "application/vnd.google.colaboratory.intrinsic+json": {
       "type": "string"
      },
      "text/plain": [
       "'cuda'"
      ]
     },
     "execution_count": 1,
     "metadata": {},
     "output_type": "execute_result"
    }
   ],
   "source": [
    "import torch\n",
    "device = 'cuda' if torch.cuda.is_available() else 'cpu'\n",
    "\n",
    "# device = 'mps' if torch.backends.mps.is_available() else 'cpu'\n",
    "# device = 'cuda' if torch.cuda.is_available() else 'mps' if torch.backends.mps.is_available() else 'cpu'\n",
    "device"
   ]
  },
  {
   "cell_type": "code",
   "execution_count": 3,
   "id": "3c7fce59-a925-45ae-b201-d9f39a443f8f",
   "metadata": {
    "colab": {
     "base_uri": "https://localhost:8080/"
    },
    "executionInfo": {
     "elapsed": 353,
     "status": "ok",
     "timestamp": 1746150104949,
     "user": {
      "displayName": "­강지윤(사범대학 교육공학과)",
      "userId": "04450917664911407728"
     },
     "user_tz": -540
    },
    "id": "3c7fce59-a925-45ae-b201-d9f39a443f8f",
    "outputId": "a107dc2e-b229-4dcf-c302-5f2487533dfe"
   },
   "outputs": [
    {
     "name": "stdout",
     "output_type": "stream",
     "text": [
      "tensor([1., 2., 3.], device='cuda:0') cuda:0\n"
     ]
    }
   ],
   "source": [
    "t = torch.tensor([1, 2, 3], dtype=torch.float32, device=device) #생성할 때 device 지정. 지정 안하면 cpu가 default\n",
    "print(t, t.device) # tensor가 어느 device에 있는지 확인  # gpu를 여러개로 나눌 수도 있음. cuda:1...2...."
   ]
  },
  {
   "cell_type": "code",
   "execution_count": 4,
   "id": "fbaee501-8187-4104-8dc0-3114a57dca29",
   "metadata": {
    "colab": {
     "base_uri": "https://localhost:8080/"
    },
    "executionInfo": {
     "elapsed": 5,
     "status": "ok",
     "timestamp": 1746150160405,
     "user": {
      "displayName": "­강지윤(사범대학 교육공학과)",
      "userId": "04450917664911407728"
     },
     "user_tz": -540
    },
    "id": "fbaee501-8187-4104-8dc0-3114a57dca29",
    "outputId": "9a046335-722d-405d-d4ab-dde7bc84da10"
   },
   "outputs": [
    {
     "name": "stdout",
     "output_type": "stream",
     "text": [
      "tensor([1., 2., 3.]) cpu\n"
     ]
    }
   ],
   "source": [
    "t2 = t.to(\"cpu\")  # 다른 device로 옮기기.\n",
    "print(t2, t2.device)"
   ]
  },
  {
   "cell_type": "code",
   "execution_count": 5,
   "id": "UfRQhorHqVR9",
   "metadata": {
    "colab": {
     "base_uri": "https://localhost:8080/"
    },
    "executionInfo": {
     "elapsed": 6,
     "status": "ok",
     "timestamp": 1746150227280,
     "user": {
      "displayName": "­강지윤(사범대학 교육공학과)",
      "userId": "04450917664911407728"
     },
     "user_tz": -540
    },
    "id": "UfRQhorHqVR9",
    "outputId": "5bb3a0dc-b155-4e43-a16e-cf55e81f1508"
   },
   "outputs": [
    {
     "name": "stdout",
     "output_type": "stream",
     "text": [
      "tensor([1., 2., 3.], device='cuda:0') cuda:0\n"
     ]
    }
   ],
   "source": [
    "t3 = t2.to(\"cuda\")\n",
    "print(t3, t3.device)"
   ]
  },
  {
   "cell_type": "markdown",
   "id": "eb9df51a",
   "metadata": {
    "id": "eb9df51a"
   },
   "source": [
    "## tensor를 상수로 변환\n",
    "- torch.Tensor객체를 파이썬 상수로 변환.\n",
    "- tensor객체.item()\n",
    "    - Scalar(상수) 또는 원소가 하나인 tensor를 python 상수로 변환"
   ]
  },
  {
   "cell_type": "code",
   "execution_count": 1,
   "id": "Cj-UV7Z_rR-d",
   "metadata": {
    "executionInfo": {
     "elapsed": 4672,
     "status": "ok",
     "timestamp": 1746150442722,
     "user": {
      "displayName": "­강지윤(사범대학 교육공학과)",
      "userId": "04450917664911407728"
     },
     "user_tz": -540
    },
    "id": "Cj-UV7Z_rR-d"
   },
   "outputs": [],
   "source": [
    "import torch"
   ]
  },
  {
   "cell_type": "code",
   "execution_count": 2,
   "id": "88d14aa5-a06a-4f25-bcec-b94c1d554de8",
   "metadata": {
    "colab": {
     "base_uri": "https://localhost:8080/"
    },
    "executionInfo": {
     "elapsed": 18,
     "status": "ok",
     "timestamp": 1746150444275,
     "user": {
      "displayName": "­강지윤(사범대학 교육공학과)",
      "userId": "04450917664911407728"
     },
     "user_tz": -540
    },
    "id": "88d14aa5-a06a-4f25-bcec-b94c1d554de8",
    "outputId": "aff7ada5-d913-484d-a84a-990d2de4fcfb"
   },
   "outputs": [
    {
     "name": "stdout",
     "output_type": "stream",
     "text": [
      "tensor(30)\n"
     ]
    }
   ],
   "source": [
    "print(torch.tensor(30))   #0차원 텐서"
   ]
  },
  {
   "cell_type": "code",
   "execution_count": 3,
   "id": "9e24dc70",
   "metadata": {
    "colab": {
     "base_uri": "https://localhost:8080/"
    },
    "executionInfo": {
     "elapsed": 6,
     "status": "ok",
     "timestamp": 1746150557320,
     "user": {
      "displayName": "­강지윤(사범대학 교육공학과)",
      "userId": "04450917664911407728"
     },
     "user_tz": -540
    },
    "id": "9e24dc70",
    "outputId": "1060c2d9-76b8-4ac5-ca85-0e5a37bf220d",
    "scrolled": true
   },
   "outputs": [
    {
     "name": "stdout",
     "output_type": "stream",
     "text": [
      "tensor(10) 0\n",
      "10\n",
      "<class 'torch.Tensor'> <class 'int'>\n"
     ]
    }
   ],
   "source": [
    "a = torch.tensor(10)  # 상수(scalar) => 0차원 Tensor\n",
    "print(a, a.ndim)\n",
    "print(a.item())  #원소가 하나일 때 item을 쓰면 상수로 뽑아나옴\n",
    "print(type(a), type(a.item()))"
   ]
  },
  {
   "cell_type": "code",
   "execution_count": 4,
   "id": "d62c3168",
   "metadata": {
    "colab": {
     "base_uri": "https://localhost:8080/"
    },
    "executionInfo": {
     "elapsed": 7,
     "status": "ok",
     "timestamp": 1746150611186,
     "user": {
      "displayName": "­강지윤(사범대학 교육공학과)",
      "userId": "04450917664911407728"
     },
     "user_tz": -540
    },
    "id": "d62c3168",
    "outputId": "759cf7dd-1f0c-42d4-c542-5519c683dc96"
   },
   "outputs": [
    {
     "name": "stdout",
     "output_type": "stream",
     "text": [
      "tensor([[20]]) 2\n",
      "20\n"
     ]
    }
   ],
   "source": [
    "b = torch.tensor([[20]]) # 원소가 하나인 N차원 배열\n",
    "print(b, b.dim())\n",
    "print(b.item()) #원소가 하나인 배열(텐서) 변환 가능"
   ]
  },
  {
   "cell_type": "code",
   "execution_count": 6,
   "id": "cefb6f7b",
   "metadata": {
    "colab": {
     "base_uri": "https://localhost:8080/"
    },
    "executionInfo": {
     "elapsed": 6,
     "status": "ok",
     "timestamp": 1746150633912,
     "user": {
      "displayName": "­강지윤(사범대학 교육공학과)",
      "userId": "04450917664911407728"
     },
     "user_tz": -540
    },
    "id": "cefb6f7b",
    "outputId": "0a945e54-da32-49df-c0b5-142aa6c4bf64",
    "scrolled": true
   },
   "outputs": [
    {
     "name": "stdout",
     "output_type": "stream",
     "text": [
      "tensor([  1,  10, 100])\n"
     ]
    }
   ],
   "source": [
    "c = torch.tensor([1, 10, 100])\n",
    "print(c)\n",
    "# print(c.item()) #원소가 여러개일 경우 Exception발생"
   ]
  },
  {
   "cell_type": "code",
   "execution_count": 8,
   "id": "06f1ae95",
   "metadata": {
    "id": "06f1ae95"
   },
   "outputs": [
    {
     "ename": "AssertionError",
     "evalue": "Torch not compiled with CUDA enabled",
     "output_type": "error",
     "traceback": [
      "\u001b[31m---------------------------------------------------------------------------\u001b[39m",
      "\u001b[31mAssertionError\u001b[39m                            Traceback (most recent call last)",
      "\u001b[36mCell\u001b[39m\u001b[36m \u001b[39m\u001b[32mIn[8]\u001b[39m\u001b[32m, line 1\u001b[39m\n\u001b[32m----> \u001b[39m\u001b[32m1\u001b[39m d = \u001b[43mtorch\u001b[49m\u001b[43m.\u001b[49m\u001b[43mtensor\u001b[49m\u001b[43m(\u001b[49m\u001b[43m[\u001b[49m\u001b[32;43m10\u001b[39;49m\u001b[43m]\u001b[49m\u001b[43m,\u001b[49m\u001b[43m \u001b[49m\u001b[43mdevice\u001b[49m\u001b[43m=\u001b[49m\u001b[33;43m'\u001b[39;49m\u001b[33;43mcuda\u001b[39;49m\u001b[33;43m'\u001b[39;49m\u001b[43m)\u001b[49m\n\u001b[32m      2\u001b[39m \u001b[38;5;28mprint\u001b[39m(d)\n\u001b[32m      3\u001b[39m \u001b[38;5;28mprint\u001b[39m(d.item())\n",
      "\u001b[36mFile \u001b[39m\u001b[32mc:\\Users\\Playdata\\miniconda3\\envs\\dl\\Lib\\site-packages\\torch\\cuda\\__init__.py:363\u001b[39m, in \u001b[36m_lazy_init\u001b[39m\u001b[34m()\u001b[39m\n\u001b[32m    358\u001b[39m     \u001b[38;5;28;01mraise\u001b[39;00m \u001b[38;5;167;01mRuntimeError\u001b[39;00m(\n\u001b[32m    359\u001b[39m         \u001b[33m\"\u001b[39m\u001b[33mCannot re-initialize CUDA in forked subprocess. To use CUDA with \u001b[39m\u001b[33m\"\u001b[39m\n\u001b[32m    360\u001b[39m         \u001b[33m\"\u001b[39m\u001b[33mmultiprocessing, you must use the \u001b[39m\u001b[33m'\u001b[39m\u001b[33mspawn\u001b[39m\u001b[33m'\u001b[39m\u001b[33m start method\u001b[39m\u001b[33m\"\u001b[39m\n\u001b[32m    361\u001b[39m     )\n\u001b[32m    362\u001b[39m \u001b[38;5;28;01mif\u001b[39;00m \u001b[38;5;129;01mnot\u001b[39;00m \u001b[38;5;28mhasattr\u001b[39m(torch._C, \u001b[33m\"\u001b[39m\u001b[33m_cuda_getDeviceCount\u001b[39m\u001b[33m\"\u001b[39m):\n\u001b[32m--> \u001b[39m\u001b[32m363\u001b[39m     \u001b[38;5;28;01mraise\u001b[39;00m \u001b[38;5;167;01mAssertionError\u001b[39;00m(\u001b[33m\"\u001b[39m\u001b[33mTorch not compiled with CUDA enabled\u001b[39m\u001b[33m\"\u001b[39m)\n\u001b[32m    364\u001b[39m \u001b[38;5;28;01mif\u001b[39;00m _cudart \u001b[38;5;129;01mis\u001b[39;00m \u001b[38;5;28;01mNone\u001b[39;00m:\n\u001b[32m    365\u001b[39m     \u001b[38;5;28;01mraise\u001b[39;00m \u001b[38;5;167;01mAssertionError\u001b[39;00m(\n\u001b[32m    366\u001b[39m         \u001b[33m\"\u001b[39m\u001b[33mlibcudart functions unavailable. It looks like you have a broken build?\u001b[39m\u001b[33m\"\u001b[39m\n\u001b[32m    367\u001b[39m     )\n",
      "\u001b[31mAssertionError\u001b[39m: Torch not compiled with CUDA enabled"
     ]
    }
   ],
   "source": [
    "d = torch.tensor([10], device='cuda')\n",
    "print(d)\n",
    "print(d.item())"
   ]
  },
  {
   "cell_type": "markdown",
   "id": "a8709f0b",
   "metadata": {
    "id": "a8709f0b"
   },
   "source": [
    "## ndarray 호환\n",
    "\n",
    "- ndarray를 tensor로 생성\n",
    "    - **torch.tensor(ndarray)**\n",
    "    - **torch.from_numpy(ndarray)**\n",
    "- tensor를 ndarray로 변환\n",
    "    - **tensor.numpy()**\n",
    "    - tensor가 gpu에 있을 경우 cpu로 옮긴 뒤 변환해야 한다."
   ]
  },
  {
   "cell_type": "code",
   "execution_count": 7,
   "id": "ff396b21",
   "metadata": {
    "executionInfo": {
     "elapsed": 3,
     "status": "ok",
     "timestamp": 1746151643294,
     "user": {
      "displayName": "­강지윤(사범대학 교육공학과)",
      "userId": "04450917664911407728"
     },
     "user_tz": -540
    },
    "id": "ff396b21"
   },
   "outputs": [],
   "source": [
    "import numpy as np\n",
    "import torch"
   ]
  },
  {
   "cell_type": "code",
   "execution_count": 12,
   "id": "2c1d1b90",
   "metadata": {
    "colab": {
     "base_uri": "https://localhost:8080/"
    },
    "executionInfo": {
     "elapsed": 9,
     "status": "ok",
     "timestamp": 1746151698896,
     "user": {
      "displayName": "­강지윤(사범대학 교육공학과)",
      "userId": "04450917664911407728"
     },
     "user_tz": -540
    },
    "id": "2c1d1b90",
    "outputId": "9023c60e-4332-43bc-a51f-b19321782cb5"
   },
   "outputs": [
    {
     "data": {
      "text/plain": [
       "tensor([1, 2, 3, 4, 5, 6, 7, 8, 9])"
      ]
     },
     "execution_count": 12,
     "metadata": {},
     "output_type": "execute_result"
    }
   ],
   "source": [
    "# ndarray -> tensor\n",
    "arr = np.arange(1,10)\n",
    "\n",
    "torch.tensor(arr, dtype=torch.float32)\n",
    "torch.from_numpy(arr)"
   ]
  },
  {
   "cell_type": "code",
   "execution_count": 13,
   "id": "4a5fa181",
   "metadata": {
    "colab": {
     "base_uri": "https://localhost:8080/"
    },
    "executionInfo": {
     "elapsed": 34,
     "status": "ok",
     "timestamp": 1746151743262,
     "user": {
      "displayName": "­강지윤(사범대학 교육공학과)",
      "userId": "04450917664911407728"
     },
     "user_tz": -540
    },
    "id": "4a5fa181",
    "outputId": "5f2687dc-beaf-453a-f6b0-ea7a9c6572e8"
   },
   "outputs": [
    {
     "name": "stdout",
     "output_type": "stream",
     "text": [
      "tensor([[ 1.4469, -0.0119,  0.5355],\n",
      "        [-1.8660,  0.4020, -1.1341],\n",
      "        [ 0.5087,  1.1322, -0.4516]])\n"
     ]
    },
    {
     "data": {
      "text/plain": [
       "array([[ 1.4469491 , -0.0118654 ,  0.53551424],\n",
       "       [-1.8659848 ,  0.402033  , -1.1340578 ],\n",
       "       [ 0.508675  ,  1.1321652 , -0.45156768]], dtype=float32)"
      ]
     },
     "execution_count": 13,
     "metadata": {},
     "output_type": "execute_result"
    }
   ],
   "source": [
    "# tensor -> ndarray\n",
    "t = torch.randn(3,3)\n",
    "print(t)\n",
    "t.to(\"cpu\").numpy()   # cpu로 이동한 다음에 numpy 배열로 변경"
   ]
  },
  {
   "cell_type": "code",
   "execution_count": null,
   "id": "d85bf50c",
   "metadata": {
    "id": "d85bf50c"
   },
   "outputs": [],
   "source": [
    "t2 = torch.randn(2,2, device=\"cuda\")\n",
    "t2"
   ]
  },
  {
   "cell_type": "code",
   "execution_count": null,
   "id": "28c9d47a",
   "metadata": {
    "id": "28c9d47a",
    "scrolled": true
   },
   "outputs": [],
   "source": [
    "t2.numpy()\n",
    "# t2.to(\"cpu\").numpy()\n",
    "# t2.cpu().numpy()"
   ]
  },
  {
   "cell_type": "markdown",
   "id": "f10f4911",
   "metadata": {
    "id": "f10f4911"
   },
   "source": [
    "# 원소 조회및 변경\n",
    "\n",
    "## indexing/slicing\n",
    "\n",
    "- 대부분 Numpy 와 동일\n",
    "    - **slicing에서 step을 <u>음수로 지정할 수 없다.</u>**\n"
   ]
  },
  {
   "cell_type": "code",
   "execution_count": 16,
   "id": "2300078c",
   "metadata": {
    "colab": {
     "base_uri": "https://localhost:8080/"
    },
    "executionInfo": {
     "elapsed": 70,
     "status": "ok",
     "timestamp": 1746151954548,
     "user": {
      "displayName": "­강지윤(사범대학 교육공학과)",
      "userId": "04450917664911407728"
     },
     "user_tz": -540
    },
    "id": "2300078c",
    "outputId": "9c2d9e7e-3100-4381-a03c-4adb09fe5118"
   },
   "outputs": [
    {
     "data": {
      "text/plain": [
       "tensor([  8,   8,   9,   2,   3,  -3,  -3,   8,  -2,   5,   9,   5, -10,  -6,\n",
       "         -2,  -7,  -9,  -3,  -6,   4,   2,  -3,   2,   7,  -6,   4,   5,   7,\n",
       "          7, -10,   4,   6,  -9,  -8,  -9,  -8,   6,   8,   3,  -1,   4,  -4,\n",
       "         -5,  -9,   5,   5,  -1,   3,  -1,  -9,  -1,   1,   4,   0,   8,   7,\n",
       "          2,   7,   7,   6,  -1,   2,   7,   0,   4,  -6,  -1,  -6,   1,  -6,\n",
       "         -8,   0,  -7,  -2,   8,   9,  -1,   4,   6,   0,  -6,  -7, -10,   3,\n",
       "          6,  -8, -10,  -5, -10,  -3,  -5,   1,   6,   0,   3,   7,  -8,   7,\n",
       "         -8,  -6])"
      ]
     },
     "execution_count": 16,
     "metadata": {},
     "output_type": "execute_result"
    }
   ],
   "source": [
    "t = torch.randint(-10, 10, (100, ))\n",
    "t"
   ]
  },
  {
   "cell_type": "code",
   "execution_count": 18,
   "id": "a28537ed",
   "metadata": {
    "colab": {
     "base_uri": "https://localhost:8080/"
    },
    "executionInfo": {
     "elapsed": 22,
     "status": "ok",
     "timestamp": 1746152085415,
     "user": {
      "displayName": "­강지윤(사범대학 교육공학과)",
      "userId": "04450917664911407728"
     },
     "user_tz": -540
    },
    "id": "a28537ed",
    "outputId": "5994aed6-a74c-46aa-8d9c-358d66b98939"
   },
   "outputs": [
    {
     "data": {
      "text/plain": [
       "tensor([ 8, -3, -6])"
      ]
     },
     "execution_count": 18,
     "metadata": {},
     "output_type": "execute_result"
    }
   ],
   "source": [
    "t[0]\n",
    "t[[1, 5, -1]] # 여러개 조회-> fancy indexing"
   ]
  },
  {
   "cell_type": "code",
   "execution_count": 22,
   "id": "73763041",
   "metadata": {
    "colab": {
     "base_uri": "https://localhost:8080/"
    },
    "executionInfo": {
     "elapsed": 12,
     "status": "ok",
     "timestamp": 1746152139597,
     "user": {
      "displayName": "­강지윤(사범대학 교육공학과)",
      "userId": "04450917664911407728"
     },
     "user_tz": -540
    },
    "id": "73763041",
    "outputId": "913d976c-5746-43f6-c1ee-aaddd469436b"
   },
   "outputs": [
    {
     "data": {
      "text/plain": [
       "tensor([ 5,  8, -3,  2,  8])"
      ]
     },
     "execution_count": 22,
     "metadata": {},
     "output_type": "execute_result"
    }
   ],
   "source": [
    "t[:5]\n",
    "t[10:15]\n",
    "t[90:]\n",
    "t[3:30:3]\n",
    "\n",
    "####### step 음수 안된다. 그래서 reverse(역순 조회)가 안됨. reverse하려면 flip() 사용\n",
    "# t[10:1:-2]    # 이런식으로 음수로 표현할 수 없음\n",
    "t[1:10:2].flip(dims=(0,)) #reverse   # dim=0, 어느축을 기준으로 바꿀건지 설정"
   ]
  },
  {
   "cell_type": "code",
   "execution_count": 23,
   "id": "4ecfc6db-5a07-4c50-954c-ec2691652958",
   "metadata": {
    "colab": {
     "base_uri": "https://localhost:8080/"
    },
    "executionInfo": {
     "elapsed": 58,
     "status": "ok",
     "timestamp": 1746152191484,
     "user": {
      "displayName": "­강지윤(사범대학 교육공학과)",
      "userId": "04450917664911407728"
     },
     "user_tz": -540
    },
    "id": "4ecfc6db-5a07-4c50-954c-ec2691652958",
    "outputId": "890306b9-97b0-4769-d384-cf2359b76383"
   },
   "outputs": [
    {
     "data": {
      "text/plain": [
       "tensor([ 8,  2, -3,  8,  5])"
      ]
     },
     "execution_count": 23,
     "metadata": {},
     "output_type": "execute_result"
    }
   ],
   "source": [
    "t[1:10:2]"
   ]
  },
  {
   "cell_type": "markdown",
   "id": "292f1a3e",
   "metadata": {
    "id": "292f1a3e"
   },
   "source": [
    "## boolean index\n",
    "- 논리 연산은 &, |, ~ 을 사용한다."
   ]
  },
  {
   "cell_type": "code",
   "execution_count": 24,
   "id": "81965586",
   "metadata": {
    "colab": {
     "base_uri": "https://localhost:8080/"
    },
    "executionInfo": {
     "elapsed": 10,
     "status": "ok",
     "timestamp": 1746152194300,
     "user": {
      "displayName": "­강지윤(사범대학 교육공학과)",
      "userId": "04450917664911407728"
     },
     "user_tz": -540
    },
    "id": "81965586",
    "outputId": "aea1e83a-7355-4545-a86d-4ab23cec0e78"
   },
   "outputs": [
    {
     "data": {
      "text/plain": [
       "tensor([8, 8, 9, 2, 3, 8, 5, 9, 5, 4, 2, 2, 7, 4, 5, 7, 7, 4, 6, 6, 8, 3, 4, 5,\n",
       "        5, 3, 1, 4, 8, 7, 2, 7, 7, 6, 2, 7, 4, 1, 8, 9, 4, 6, 3, 6, 1, 6, 3, 7,\n",
       "        7])"
      ]
     },
     "execution_count": 24,
     "metadata": {},
     "output_type": "execute_result"
    }
   ],
   "source": [
    "# boolean index\n",
    "t[t > 0]"
   ]
  },
  {
   "cell_type": "code",
   "execution_count": 25,
   "id": "49576bbe",
   "metadata": {
    "colab": {
     "base_uri": "https://localhost:8080/"
    },
    "executionInfo": {
     "elapsed": 6,
     "status": "ok",
     "timestamp": 1746152221942,
     "user": {
      "displayName": "­강지윤(사범대학 교육공학과)",
      "userId": "04450917664911407728"
     },
     "user_tz": -540
    },
    "id": "49576bbe",
    "outputId": "a6592945-f93d-4310-ee24-368e17b7cff5"
   },
   "outputs": [
    {
     "data": {
      "text/plain": [
       "tensor([2, 3, 4, 2, 2, 4, 4, 3, 4, 3, 1, 4, 2, 2, 4, 1, 4, 3, 1, 3])"
      ]
     },
     "execution_count": 25,
     "metadata": {},
     "output_type": "execute_result"
    }
   ],
   "source": [
    "t[(t > 0) & (t < 5)]"
   ]
  },
  {
   "cell_type": "code",
   "execution_count": 26,
   "id": "e8f93620",
   "metadata": {
    "colab": {
     "base_uri": "https://localhost:8080/"
    },
    "executionInfo": {
     "elapsed": 10,
     "status": "ok",
     "timestamp": 1746152238057,
     "user": {
      "displayName": "­강지윤(사범대학 교육공학과)",
      "userId": "04450917664911407728"
     },
     "user_tz": -540
    },
    "id": "e8f93620",
    "outputId": "d716ae38-0947-4a70-ff30-c1d45f376e06"
   },
   "outputs": [
    {
     "data": {
      "text/plain": [
       "tensor([8, 8, 9, 2, 3, 8, 5, 9, 5, 4, 2, 2, 7, 4, 5, 7, 7, 4, 6, 6, 8, 3, 4, 5,\n",
       "        5, 3, 1, 4, 8, 7, 2, 7, 7, 6, 2, 7, 4, 1, 8, 9, 4, 6, 3, 6, 1, 6, 3, 7,\n",
       "        7])"
      ]
     },
     "execution_count": 26,
     "metadata": {},
     "output_type": "execute_result"
    }
   ],
   "source": [
    "# boolean index 처리 함수.\n",
    "t.masked_select(t > 0)"
   ]
  },
  {
   "cell_type": "code",
   "execution_count": 27,
   "id": "28e13041-ca1b-4a4d-8bd7-a85c9b7cc832",
   "metadata": {
    "colab": {
     "base_uri": "https://localhost:8080/"
    },
    "executionInfo": {
     "elapsed": 20,
     "status": "ok",
     "timestamp": 1746152261902,
     "user": {
      "displayName": "­강지윤(사범대학 교육공학과)",
      "userId": "04450917664911407728"
     },
     "user_tz": -540
    },
    "id": "28e13041-ca1b-4a4d-8bd7-a85c9b7cc832",
    "outputId": "bdffc635-0663-4833-c103-1af28e6360df"
   },
   "outputs": [
    {
     "data": {
      "text/plain": [
       "tensor([  8,   8,   9,   2,   3,  -3,  -3,   8,  -2,   5,   9,   5, -10,  -6,\n",
       "         -2,  -7,  -9,  -3,  -6,   4,   2,  -3,   2,   7,  -6,   4,   5,   7,\n",
       "          7, -10,   4,   6,  -9,  -8,  -9,  -8,   6,   8,   3,  -1,   4,  -4,\n",
       "         -5,  -9,   5,   5,  -1,   3,  -1,  -9,  -1,   1,   4,   0,   8,   7,\n",
       "          2,   7,   7,   6,  -1,   2,   7,   0,   4,  -6,  -1,  -6,   1,  -6,\n",
       "         -8,   0,  -7,  -2,   8,   9,  -1,   4,   6,   0,  -6,  -7, -10,   3,\n",
       "          6,  -8, -10,  -5, -10,  -3,  -5,   1,   6,   0,   3,   7,  -8,   7,\n",
       "         -8,  -6])"
      ]
     },
     "execution_count": 27,
     "metadata": {},
     "output_type": "execute_result"
    }
   ],
   "source": [
    "t"
   ]
  },
  {
   "cell_type": "code",
   "execution_count": 28,
   "id": "03a01027",
   "metadata": {
    "colab": {
     "base_uri": "https://localhost:8080/"
    },
    "executionInfo": {
     "elapsed": 9,
     "status": "ok",
     "timestamp": 1746152272745,
     "user": {
      "displayName": "­강지윤(사범대학 교육공학과)",
      "userId": "04450917664911407728"
     },
     "user_tz": -540
    },
    "id": "03a01027",
    "outputId": "90f6a5c2-8357-4fe0-ba0c-aa784ecd02a8",
    "scrolled": true
   },
   "outputs": [
    {
     "data": {
      "text/plain": [
       "tensor([100,   8,   9,   2,   3,  -3,  -3,   8,  -2,   5,   9,   5, -10,  -6,\n",
       "         -2,  -7,  -9,  -3,  -6,   4,   2,  -3,   2,   7,  -6,   4,   5,   7,\n",
       "          7, -10,   4,   6,  -9,  -8,  -9,  -8,   6,   8,   3,  -1,   4,  -4,\n",
       "         -5,  -9,   5,   5,  -1,   3,  -1,  -9,  -1,   1,   4,   0,   8,   7,\n",
       "          2,   7,   7,   6,  -1,   2,   7,   0,   4,  -6,  -1,  -6,   1,  -6,\n",
       "         -8,   0,  -7,  -2,   8,   9,  -1,   4,   6,   0,  -6,  -7, -10,   3,\n",
       "          6,  -8, -10,  -5, -10,  -3,  -5,   1,   6,   0,   3,   7,  -8,   7,\n",
       "         -8,  -6])"
      ]
     },
     "execution_count": 28,
     "metadata": {},
     "output_type": "execute_result"
    }
   ],
   "source": [
    "# 변경\n",
    "t[0] = 100\n",
    "t"
   ]
  },
  {
   "cell_type": "code",
   "execution_count": 29,
   "id": "49419f63",
   "metadata": {
    "colab": {
     "base_uri": "https://localhost:8080/"
    },
    "executionInfo": {
     "elapsed": 56,
     "status": "ok",
     "timestamp": 1746152305974,
     "user": {
      "displayName": "­강지윤(사범대학 교육공학과)",
      "userId": "04450917664911407728"
     },
     "user_tz": -540
    },
    "id": "49419f63",
    "outputId": "2cb66261-8b55-4f0f-f4e5-a5e8ab94b39c"
   },
   "outputs": [
    {
     "data": {
      "text/plain": [
       "tensor([[1, 2, 3],\n",
       "        [4, 5, 6],\n",
       "        [7, 8, 9]])"
      ]
     },
     "execution_count": 29,
     "metadata": {},
     "output_type": "execute_result"
    }
   ],
   "source": [
    "t = torch.arange(1, 10).reshape(3,3)\n",
    "t"
   ]
  },
  {
   "cell_type": "code",
   "execution_count": 32,
   "id": "67affa22",
   "metadata": {
    "colab": {
     "base_uri": "https://localhost:8080/"
    },
    "executionInfo": {
     "elapsed": 22,
     "status": "ok",
     "timestamp": 1746152404272,
     "user": {
      "displayName": "­강지윤(사범대학 교육공학과)",
      "userId": "04450917664911407728"
     },
     "user_tz": -540
    },
    "id": "67affa22",
    "outputId": "8d7408fc-070c-4c0a-86fa-1f8d4a3a5ed9"
   },
   "outputs": [
    {
     "data": {
      "text/plain": [
       "3"
      ]
     },
     "execution_count": 32,
     "metadata": {},
     "output_type": "execute_result"
    }
   ],
   "source": [
    "# t[ 0축, 1축 ]\n",
    "t[1, 2]#.item()   # item()을 안쓰면 tensor 안에다가 넣어줌\n",
    "t[0, 2].item()"
   ]
  },
  {
   "cell_type": "code",
   "execution_count": 35,
   "id": "15855bcf",
   "metadata": {
    "colab": {
     "base_uri": "https://localhost:8080/"
    },
    "executionInfo": {
     "elapsed": 13,
     "status": "ok",
     "timestamp": 1746152500392,
     "user": {
      "displayName": "­강지윤(사범대학 교육공학과)",
      "userId": "04450917664911407728"
     },
     "user_tz": -540
    },
    "id": "15855bcf",
    "outputId": "7edbe6a3-4b05-41a7-f0fc-feb08e213f53"
   },
   "outputs": [
    {
     "data": {
      "text/plain": [
       "tensor([6, 3])"
      ]
     },
     "execution_count": 35,
     "metadata": {},
     "output_type": "execute_result"
    }
   ],
   "source": [
    "t[[1,0], [2,2]]  #(1,2), (0,2)   # 이건 item() 조회 안됨!\n",
    "# t[[첫번째값, 두번째값]-0축, [첫번째값, 두번째값]-1축]"
   ]
  },
  {
   "cell_type": "code",
   "execution_count": null,
   "id": "a89cfb06",
   "metadata": {
    "id": "a89cfb06"
   },
   "outputs": [],
   "source": []
  },
  {
   "cell_type": "markdown",
   "id": "a02f14d8",
   "metadata": {
    "id": "a02f14d8"
   },
   "source": [
    "# Reshape"
   ]
  },
  {
   "cell_type": "markdown",
   "id": "221e70f8",
   "metadata": {
    "id": "221e70f8"
   },
   "source": [
    "## shape 변경\n",
    "- tensor객체.reshape(\\*shape) / view(\\*shape) 이용\n",
    "    - 변환 후 값을 변경하면 원본 배열의 값도 같이 바뀐다.\n",
    " > tensor.clone(): tensor를 복제한다."
   ]
  },
  {
   "cell_type": "code",
   "execution_count": 36,
   "id": "71f88268",
   "metadata": {
    "colab": {
     "base_uri": "https://localhost:8080/"
    },
    "executionInfo": {
     "elapsed": 69,
     "status": "ok",
     "timestamp": 1746152683992,
     "user": {
      "displayName": "­강지윤(사범대학 교육공학과)",
      "userId": "04450917664911407728"
     },
     "user_tz": -540
    },
    "id": "71f88268",
    "outputId": "b2247373-2b30-408c-937e-03a3baf61b9f"
   },
   "outputs": [
    {
     "name": "stdout",
     "output_type": "stream",
     "text": [
      "torch.Size([12]) torch.Size([3, 4]) torch.Size([3, 2, 2]) torch.Size([3, 2, 2])\n"
     ]
    }
   ],
   "source": [
    "a=torch.rand(12)\n",
    "a2 = a.reshape(3,4)\n",
    "a3 = a.reshape((3,2,2))\n",
    "a4 = a.reshape((3,2,-1))  #한 개 axis는 -1로 설정가능하고 그럼 계산해서 알아서 설정해 준다.\n",
    "print(a.shape, a2.size(), a3.shape, a4.shape)\n"
   ]
  },
  {
   "cell_type": "code",
   "execution_count": null,
   "id": "6744974f",
   "metadata": {
    "id": "6744974f"
   },
   "outputs": [],
   "source": [
    "a5 = a.view(3,4)\n",
    "a6 = a.view((3,2,2))\n",
    "a7 = a.view((3,2,-1))  #한개 axis는 -1로 설정가능\n",
    "print(a.shape, a5.size(), a6.shape, a7.shape)"
   ]
  },
  {
   "cell_type": "code",
   "execution_count": 37,
   "id": "8ace33cf",
   "metadata": {
    "colab": {
     "base_uri": "https://localhost:8080/"
    },
    "executionInfo": {
     "elapsed": 6,
     "status": "ok",
     "timestamp": 1746152806801,
     "user": {
      "displayName": "­강지윤(사범대학 교육공학과)",
      "userId": "04450917664911407728"
     },
     "user_tz": -540
    },
    "id": "8ace33cf",
    "outputId": "80ed7f30-8de2-42a3-eabe-63695752b13d"
   },
   "outputs": [
    {
     "name": "stdout",
     "output_type": "stream",
     "text": [
      "tensor([[ 0.6239, 15.1000,  0.5696,  0.5403],\n",
      "        [ 0.3232,  0.5793,  0.0590,  0.6368],\n",
      "        [ 0.8061,  0.2889,  0.7944,  0.5383]])\n"
     ]
    }
   ],
   "source": [
    "# a5[0, 0] = 12.1\n",
    "a2 = a.reshape(3,4)  # a2는 a를 reshape한 형태\n",
    "a2[0, 1] = 15.1   # a2의 원소를 바꾸면 a도 같이 원소의 값이 변경됨.\n",
    "\n",
    "print(a2)"
   ]
  },
  {
   "cell_type": "code",
   "execution_count": 42,
   "id": "3bQf7vl20-ll",
   "metadata": {
    "colab": {
     "base_uri": "https://localhost:8080/"
    },
    "executionInfo": {
     "elapsed": 11,
     "status": "ok",
     "timestamp": 1746152976243,
     "user": {
      "displayName": "­강지윤(사범대학 교육공학과)",
      "userId": "04450917664911407728"
     },
     "user_tz": -540
    },
    "id": "3bQf7vl20-ll",
    "outputId": "7655a459-68d2-43dd-b7e3-74d6ce899bec"
   },
   "outputs": [
    {
     "data": {
      "text/plain": [
       "tensor([ 0.6239, 15.1000,  0.5696,  0.5403,  0.3232,  0.5793,  0.0590,  0.6368,\n",
       "         0.8061,  0.2889,  0.7944,  0.5383])"
      ]
     },
     "execution_count": 42,
     "metadata": {},
     "output_type": "execute_result"
    }
   ],
   "source": [
    "a"
   ]
  },
  {
   "cell_type": "code",
   "execution_count": 43,
   "id": "88561ee6",
   "metadata": {
    "colab": {
     "base_uri": "https://localhost:8080/"
    },
    "executionInfo": {
     "elapsed": 11,
     "status": "ok",
     "timestamp": 1746153066345,
     "user": {
      "displayName": "­강지윤(사범대학 교육공학과)",
      "userId": "04450917664911407728"
     },
     "user_tz": -540
    },
    "id": "88561ee6",
    "outputId": "dc73f667-afeb-41eb-baf8-2dc77d1efe2f"
   },
   "outputs": [
    {
     "name": "stdout",
     "output_type": "stream",
     "text": [
      "tensor([ 0.6239, 15.1000,  0.5696,  0.5403,  0.3232,  0.5793,  0.0590,  0.6368,\n",
      "         0.8061,  0.2889,  0.7944,  0.5383])\n"
     ]
    }
   ],
   "source": [
    "# tensor복사: clone() 메소드\n",
    "r = a.reshape(3, 4).clone()   #원소를 안바뀌게 하고 싶으면  clone한 뒤에 새로운 변수에 넣고 변경\n",
    "r\n",
    "r[0,0] = 100.1\n",
    "print(a)"
   ]
  },
  {
   "cell_type": "code",
   "execution_count": 41,
   "id": "220d6190-0c95-46f8-80c7-626d4ade8b0f",
   "metadata": {
    "colab": {
     "base_uri": "https://localhost:8080/"
    },
    "executionInfo": {
     "elapsed": 7,
     "status": "ok",
     "timestamp": 1746152952880,
     "user": {
      "displayName": "­강지윤(사범대학 교육공학과)",
      "userId": "04450917664911407728"
     },
     "user_tz": -540
    },
    "id": "220d6190-0c95-46f8-80c7-626d4ade8b0f",
    "outputId": "abe10217-b8f8-4f2c-fa4c-bc379b5a52e4"
   },
   "outputs": [
    {
     "data": {
      "text/plain": [
       "tensor([[1.0010e+02, 1.5100e+01, 5.6960e-01, 5.4033e-01],\n",
       "        [3.2318e-01, 5.7927e-01, 5.9028e-02, 6.3679e-01],\n",
       "        [8.0614e-01, 2.8891e-01, 7.9435e-01, 5.3827e-01]])"
      ]
     },
     "execution_count": 41,
     "metadata": {},
     "output_type": "execute_result"
    }
   ],
   "source": [
    "r"
   ]
  },
  {
   "cell_type": "markdown",
   "id": "fa8c2fa4",
   "metadata": {
    "id": "fa8c2fa4"
   },
   "source": [
    "## dummy 축 늘리기\n",
    "\n",
    "- None을 이용 (numpy의 newaxis 대신 None을 사용한다.)\n",
    "- unsqueeze(dim=축번호)"
   ]
  },
  {
   "cell_type": "code",
   "execution_count": 55,
   "id": "356a078c",
   "metadata": {
    "colab": {
     "base_uri": "https://localhost:8080/"
    },
    "executionInfo": {
     "elapsed": 8,
     "status": "ok",
     "timestamp": 1746153520500,
     "user": {
      "displayName": "­강지윤(사범대학 교육공학과)",
      "userId": "04450917664911407728"
     },
     "user_tz": -540
    },
    "id": "356a078c",
    "outputId": "92374661-ec62-414f-c2fe-fe8db9e92900"
   },
   "outputs": [
    {
     "name": "stdout",
     "output_type": "stream",
     "text": [
      "torch.Size([2, 2])\n",
      "torch.Size([1, 2, 2]) torch.Size([1, 2, 2])\n",
      "torch.Size([2, 2, 1]) torch.Size([2, 2, 1])\n",
      "torch.Size([2, 1, 2, 1, 1]) torch.Size([2, 1, 2, 1])\n"
     ]
    }
   ],
   "source": [
    "import torch\n",
    "a = torch.tensor([[10,20],[10,20]])\n",
    "print(a.shape)\n",
    "\n",
    "a1, a2 = a[None, :], a.unsqueeze(dim=0) # dim=정수만가능\n",
    "print(a1.shape, a2.shape)\n",
    "\n",
    "a3, a4 = a[:,:, None], a.unsqueeze(dim=-1)  # 축별로 ':'을 넣어줘야 함.\n",
    "# a[:, None] # 0축 :, 1축 None, 2번축 지정안함 -> 원래대로 그래서 (2, 1, 2) 가됨.\n",
    "print(a3.shape, a4.shape)\n",
    "\n",
    "a5, a6 = a3[:,None,:,:, None],  a3.unsqueeze(dim=1)  # unsqueeze(): dim=정수만가능 (한번에 dummy축은 하나만 추가가능.)\n",
    "print(a5.shape, a6.shape)"
   ]
  },
  {
   "cell_type": "markdown",
   "id": "9947b6ac",
   "metadata": {
    "id": "9947b6ac"
   },
   "source": [
    "## dummy 축 제거\n",
    "- squeeze(\\[dim=축번호\\]) 이용"
   ]
  },
  {
   "cell_type": "code",
   "execution_count": 60,
   "id": "4e40b9cf",
   "metadata": {
    "colab": {
     "base_uri": "https://localhost:8080/"
    },
    "executionInfo": {
     "elapsed": 40,
     "status": "ok",
     "timestamp": 1746153616944,
     "user": {
      "displayName": "­강지윤(사범대학 교육공학과)",
      "userId": "04450917664911407728"
     },
     "user_tz": -540
    },
    "id": "4e40b9cf",
    "outputId": "9ed5747b-8904-42c1-cf47-caa8c5f8b668"
   },
   "outputs": [
    {
     "name": "stdout",
     "output_type": "stream",
     "text": [
      "torch.Size([3, 1, 4, 1, 5, 1])\n",
      "torch.Size([3, 4, 5])\n",
      "torch.Size([3, 4, 1, 5, 1])\n",
      "torch.Size([3, 4, 5, 1])\n"
     ]
    }
   ],
   "source": [
    "t = torch.rand(3, 1, 4, 1, 5, 1)\n",
    "print(t.shape)\n",
    "\n",
    "r1 = t.squeeze()  #축을 명시 하지 않으면 모두 제거\n",
    "print(r1.shape)\n",
    "\n",
    "r2 = t.squeeze(dim=1) # 특정 axis 제거\n",
    "print(r2.shape)\n",
    "\n",
    "r3 = t.squeeze(dim=[1,3]) # 여러 axis의 dummy 축 제거\n",
    "print(r3.shape)"
   ]
  },
  {
   "cell_type": "markdown",
   "id": "b3018717",
   "metadata": {
    "id": "b3018717"
   },
   "source": [
    "# tensor 합치기\n",
    "torch.cat([tensorA, tensorB, ...], dim=0) : 기준축 default 는 0\n",
    "- 합치는 기준 축 이외ㅇ 축의 size가 동일해야 합칠 수 있다."
   ]
  },
  {
   "cell_type": "code",
   "execution_count": 62,
   "id": "7564c2b5",
   "metadata": {
    "executionInfo": {
     "elapsed": 13,
     "status": "ok",
     "timestamp": 1746153845827,
     "user": {
      "displayName": "­강지윤(사범대학 교육공학과)",
      "userId": "04450917664911407728"
     },
     "user_tz": -540
    },
    "id": "7564c2b5"
   },
   "outputs": [],
   "source": [
    "a = torch.arange(10).reshape(2,5)   # 내가 합치려는 축을 제외한 나머지 축의 수가 같아야함. ex. (3,4,5,6)  (6,4,5,6)  0번 기준으로 합치기 가능\n",
    "b = torch.arange(10,20).reshape(2,5)\n",
    "c = torch.arange(20,30).reshape(2,5)\n",
    "d = torch.arange(10,19).reshape(3,3)"
   ]
  },
  {
   "cell_type": "code",
   "execution_count": 63,
   "id": "a633d695",
   "metadata": {
    "colab": {
     "base_uri": "https://localhost:8080/"
    },
    "collapsed": true,
    "executionInfo": {
     "elapsed": 15,
     "status": "ok",
     "timestamp": 1746153852232,
     "user": {
      "displayName": "­강지윤(사범대학 교육공학과)",
      "userId": "04450917664911407728"
     },
     "user_tz": -540
    },
    "id": "a633d695",
    "jupyter": {
     "outputs_hidden": true
    },
    "outputId": "402cabb6-4969-4043-cfc1-14aec62e6d57"
   },
   "outputs": [
    {
     "data": {
      "text/plain": [
       "tensor([[ 0,  1,  2,  3,  4],\n",
       "        [ 5,  6,  7,  8,  9],\n",
       "        [10, 11, 12, 13, 14],\n",
       "        [15, 16, 17, 18, 19]])"
      ]
     },
     "execution_count": 63,
     "metadata": {},
     "output_type": "execute_result"
    }
   ],
   "source": [
    "torch.cat([a, b], dim=0)   #0번 축 기준으로 합치니까 나머지 축의 shape가 같아야함.    # 4x5"
   ]
  },
  {
   "cell_type": "code",
   "execution_count": 64,
   "id": "6ee08217",
   "metadata": {
    "colab": {
     "base_uri": "https://localhost:8080/"
    },
    "collapsed": true,
    "executionInfo": {
     "elapsed": 34,
     "status": "ok",
     "timestamp": 1746153925003,
     "user": {
      "displayName": "­강지윤(사범대학 교육공학과)",
      "userId": "04450917664911407728"
     },
     "user_tz": -540
    },
    "id": "6ee08217",
    "jupyter": {
     "outputs_hidden": true
    },
    "outputId": "8c3d9442-abac-4f55-f649-df188629b7b2"
   },
   "outputs": [
    {
     "data": {
      "text/plain": [
       "tensor([[ 0,  1,  2,  3,  4],\n",
       "        [ 5,  6,  7,  8,  9],\n",
       "        [10, 11, 12, 13, 14],\n",
       "        [15, 16, 17, 18, 19],\n",
       "        [20, 21, 22, 23, 24],\n",
       "        [25, 26, 27, 28, 29]])"
      ]
     },
     "execution_count": 64,
     "metadata": {},
     "output_type": "execute_result"
    }
   ],
   "source": [
    "torch.cat([a, b, c], dim=0)        # 6X5"
   ]
  },
  {
   "cell_type": "code",
   "execution_count": 65,
   "id": "edb2f33a",
   "metadata": {
    "colab": {
     "base_uri": "https://localhost:8080/"
    },
    "executionInfo": {
     "elapsed": 26,
     "status": "ok",
     "timestamp": 1746153973327,
     "user": {
      "displayName": "­강지윤(사범대학 교육공학과)",
      "userId": "04450917664911407728"
     },
     "user_tz": -540
    },
    "id": "edb2f33a",
    "outputId": "834ef5ab-8a6b-4fef-8529-a3eae7e4f760"
   },
   "outputs": [
    {
     "data": {
      "text/plain": [
       "tensor([[ 0,  1,  2,  3,  4, 10, 11, 12, 13, 14],\n",
       "        [ 5,  6,  7,  8,  9, 15, 16, 17, 18, 19]])"
      ]
     },
     "execution_count": 65,
     "metadata": {},
     "output_type": "execute_result"
    }
   ],
   "source": [
    "torch.cat([a, b], axis=1) # dim 대신 axis사용가능    # 2X10"
   ]
  },
  {
   "cell_type": "code",
   "execution_count": 66,
   "id": "25f7277a",
   "metadata": {
    "colab": {
     "base_uri": "https://localhost:8080/"
    },
    "executionInfo": {
     "elapsed": 80,
     "status": "ok",
     "timestamp": 1746153991753,
     "user": {
      "displayName": "­강지윤(사범대학 교육공학과)",
      "userId": "04450917664911407728"
     },
     "user_tz": -540
    },
    "id": "25f7277a",
    "outputId": "88d3202a-295d-4c3c-ce78-9c23d5dec332"
   },
   "outputs": [
    {
     "data": {
      "text/plain": [
       "tensor([[ 0,  1,  2,  3,  4, 10, 11, 12, 13, 14, 20, 21, 22, 23, 24],\n",
       "        [ 5,  6,  7,  8,  9, 15, 16, 17, 18, 19, 25, 26, 27, 28, 29]])"
      ]
     },
     "execution_count": 66,
     "metadata": {},
     "output_type": "execute_result"
    }
   ],
   "source": [
    "torch.cat([a, b, c], axis=1)    # 2X15"
   ]
  },
  {
   "cell_type": "code",
   "execution_count": 67,
   "id": "82477d9e",
   "metadata": {
    "colab": {
     "base_uri": "https://localhost:8080/"
    },
    "executionInfo": {
     "elapsed": 13,
     "status": "ok",
     "timestamp": 1746154004866,
     "user": {
      "displayName": "­강지윤(사범대학 교육공학과)",
      "userId": "04450917664911407728"
     },
     "user_tz": -540
    },
    "id": "82477d9e",
    "outputId": "21c24802-ed06-4d60-bf5a-80b95a656d54"
   },
   "outputs": [
    {
     "data": {
      "text/plain": [
       "tensor([[ 0,  1,  2,  3,  4, 10, 11, 12, 13, 14],\n",
       "        [ 5,  6,  7,  8,  9, 15, 16, 17, 18, 19]])"
      ]
     },
     "execution_count": 67,
     "metadata": {},
     "output_type": "execute_result"
    }
   ],
   "source": [
    "torch.cat([a, b], axis=-1)  # -1: 마지막 axis  # 2X10"
   ]
  },
  {
   "cell_type": "code",
   "execution_count": 69,
   "id": "f441999c",
   "metadata": {
    "colab": {
     "base_uri": "https://localhost:8080/"
    },
    "executionInfo": {
     "elapsed": 4,
     "status": "ok",
     "timestamp": 1746154076549,
     "user": {
      "displayName": "­강지윤(사범대학 교육공학과)",
      "userId": "04450917664911407728"
     },
     "user_tz": -540
    },
    "id": "f441999c",
    "outputId": "1587b390-d58d-41ee-c8e3-0482bd2e7d05"
   },
   "outputs": [
    {
     "data": {
      "text/plain": [
       "(torch.Size([2, 5]), torch.Size([3, 3]))"
      ]
     },
     "execution_count": 69,
     "metadata": {},
     "output_type": "execute_result"
    }
   ],
   "source": [
    "a.shape, d.shape   # 못 합침!!\n",
    "# 합치는 기준축 이외의 축 size는 같아야 한다.\n",
    "# torch.cat([a, d])  #dim=0, Error  1축 size가 달라서 Error"
   ]
  },
  {
   "cell_type": "markdown",
   "id": "c1aaa81f",
   "metadata": {
    "id": "c1aaa81f"
   },
   "source": [
    "# 값의 위치(index) 변경\n",
    "- tensor 원소의 index의 위치를 바꾼다.\n",
    "- `tensor.transpose(axis1, axis2)`\n",
    "    - 두 축의 자리만 변경 할 수 있다.\n",
    "- `tensor.permute(axis1, axis2, axis3, ..)`\n",
    "    - 두 개 이상의 축 자리를 변경한다."
   ]
  },
  {
   "cell_type": "code",
   "execution_count": 70,
   "id": "c621ab2d",
   "metadata": {
    "colab": {
     "base_uri": "https://localhost:8080/"
    },
    "executionInfo": {
     "elapsed": 6,
     "status": "ok",
     "timestamp": 1746154268963,
     "user": {
      "displayName": "­강지윤(사범대학 교육공학과)",
      "userId": "04450917664911407728"
     },
     "user_tz": -540
    },
    "id": "c621ab2d",
    "outputId": "afea66ea-beb5-4c66-d8dc-6895f408acb5"
   },
   "outputs": [
    {
     "name": "stdout",
     "output_type": "stream",
     "text": [
      "torch.Size([2, 3, 4])\n",
      "torch.Size([2, 4, 3])\n",
      "torch.Size([4, 2, 3])\n"
     ]
    }
   ],
   "source": [
    "X = torch.arange(24).reshape(2, 3, 4)\n",
    "print(X.shape)\n",
    "\n",
    "y = X.transpose(1, 2)   # 축을 설정해주는 것\n",
    "print(y.shape)\n",
    "\n",
    "z = X.permute(2, 0, 1) # n개의 축일 경우에 옮길 대상의 축을 그 위치에 적어주면 됨,\n",
    "print(z.shape)"
   ]
  },
  {
   "cell_type": "code",
   "execution_count": 74,
   "id": "HQDVamdq_OG4",
   "metadata": {
    "colab": {
     "base_uri": "https://localhost:8080/"
    },
    "executionInfo": {
     "elapsed": 8,
     "status": "ok",
     "timestamp": 1746155664358,
     "user": {
      "displayName": "­강지윤(사범대학 교육공학과)",
      "userId": "04450917664911407728"
     },
     "user_tz": -540
    },
    "id": "HQDVamdq_OG4",
    "outputId": "24da751c-1eba-4628-b34d-24002dc51fbf"
   },
   "outputs": [
    {
     "data": {
      "text/plain": [
       "tensor([[[ 0,  4,  8],\n",
       "         [12, 16, 20]],\n",
       "\n",
       "        [[ 1,  5,  9],\n",
       "         [13, 17, 21]],\n",
       "\n",
       "        [[ 2,  6, 10],\n",
       "         [14, 18, 22]],\n",
       "\n",
       "        [[ 3,  7, 11],\n",
       "         [15, 19, 23]]])"
      ]
     },
     "execution_count": 74,
     "metadata": {},
     "output_type": "execute_result"
    }
   ],
   "source": [
    "z"
   ]
  },
  {
   "cell_type": "code",
   "execution_count": 73,
   "id": "4MTcAJdK_EAi",
   "metadata": {
    "colab": {
     "base_uri": "https://localhost:8080/"
    },
    "executionInfo": {
     "elapsed": 9,
     "status": "ok",
     "timestamp": 1746155658014,
     "user": {
      "displayName": "­강지윤(사범대학 교육공학과)",
      "userId": "04450917664911407728"
     },
     "user_tz": -540
    },
    "id": "4MTcAJdK_EAi",
    "outputId": "99568562-7ea9-4c5e-f4c2-953af4cdbb59"
   },
   "outputs": [
    {
     "data": {
      "text/plain": [
       "tensor([[[ 0,  1,  2,  3],\n",
       "         [ 4,  5,  6,  7],\n",
       "         [ 8,  9, 10, 11]],\n",
       "\n",
       "        [[12, 13, 14, 15],\n",
       "         [16, 17, 18, 19],\n",
       "         [20, 21, 22, 23]]])"
      ]
     },
     "execution_count": 73,
     "metadata": {},
     "output_type": "execute_result"
    }
   ],
   "source": [
    "X"
   ]
  },
  {
   "cell_type": "markdown",
   "id": "2bfe8a88",
   "metadata": {
    "id": "2bfe8a88"
   },
   "source": [
    "# tensor 연산 및 주요 함수\n",
    "\n",
    "## element-wise 연산\n",
    "- tensor와 상수 연산시, tensor와 tensor간 연산시 원소별로 처리한다.\n",
    "- 행렬곱 연산을 제외하고 tensor간 연산시 피연산자 tensor간에 shape이 같아야 한다.\n",
    "    - shape이 다를 경우 조건이 맞으면 broadcasting을 한 뒤에 연산한다. (size가 다른 축의 경우 한개의 피연산자 size가 1일 경우 복사하여 shape을 맞춘다.)\n",
    "    "
   ]
  },
  {
   "cell_type": "code",
   "execution_count": null,
   "id": "ZgnLXhaa_Gyo",
   "metadata": {
    "id": "ZgnLXhaa_Gyo"
   },
   "outputs": [],
   "source": []
  },
  {
   "cell_type": "code",
   "execution_count": 75,
   "id": "85d3d7a3",
   "metadata": {
    "colab": {
     "base_uri": "https://localhost:8080/"
    },
    "executionInfo": {
     "elapsed": 29,
     "status": "ok",
     "timestamp": 1746155912698,
     "user": {
      "displayName": "­강지윤(사범대학 교육공학과)",
      "userId": "04450917664911407728"
     },
     "user_tz": -540
    },
    "id": "85d3d7a3",
    "outputId": "1f857e1b-58ee-4034-832f-2d3ed67f5739"
   },
   "outputs": [
    {
     "name": "stdout",
     "output_type": "stream",
     "text": [
      "tensor([[0, 1, 2, 3, 4],\n",
      "        [5, 6, 7, 8, 9]])\n",
      "tensor([[10, 11, 12, 13, 14],\n",
      "        [15, 16, 17, 18, 19]])\n",
      "tensor([50, 51, 52, 53, 54])\n"
     ]
    }
   ],
   "source": [
    "import torch\n",
    "a = torch.arange(10).reshape(2,5)\n",
    "b = torch.arange(10,20).reshape(2,5)\n",
    "c = torch.arange(50, 55)\n",
    "\n",
    "print(a)\n",
    "print(b)\n",
    "print(c)"
   ]
  },
  {
   "cell_type": "code",
   "execution_count": 76,
   "id": "24f4f435",
   "metadata": {
    "colab": {
     "base_uri": "https://localhost:8080/"
    },
    "executionInfo": {
     "elapsed": 55,
     "status": "ok",
     "timestamp": 1746155940216,
     "user": {
      "displayName": "­강지윤(사범대학 교육공학과)",
      "userId": "04450917664911407728"
     },
     "user_tz": -540
    },
    "id": "24f4f435",
    "outputId": "39b7c8a6-1125-47b1-d3b3-e56bed73dfba"
   },
   "outputs": [
    {
     "name": "stdout",
     "output_type": "stream",
     "text": [
      "tensor([[100, 101, 102, 103, 104],\n",
      "        [105, 106, 107, 108, 109]])\n",
      "tensor([[-100,  -99,  -98,  -97,  -96],\n",
      "        [ -95,  -94,  -93,  -92,  -91]])\n",
      "tensor([[ True,  True,  True,  True,  True],\n",
      "        [False, False, False, False, False]])\n"
     ]
    }
   ],
   "source": [
    "print(a + 100)\n",
    "print(a - 100)\n",
    "print(a < 5)"
   ]
  },
  {
   "cell_type": "code",
   "execution_count": 77,
   "id": "1a5ed369",
   "metadata": {
    "colab": {
     "base_uri": "https://localhost:8080/"
    },
    "executionInfo": {
     "elapsed": 5,
     "status": "ok",
     "timestamp": 1746155954103,
     "user": {
      "displayName": "­강지윤(사범대학 교육공학과)",
      "userId": "04450917664911407728"
     },
     "user_tz": -540
    },
    "id": "1a5ed369",
    "outputId": "6b9bddad-b4d9-40c3-f651-903b00253ebf"
   },
   "outputs": [
    {
     "name": "stdout",
     "output_type": "stream",
     "text": [
      "tensor([[10, 12, 14, 16, 18],\n",
      "        [20, 22, 24, 26, 28]])\n",
      "tensor([[False, False, False, False, False],\n",
      "        [False, False, False, False, False]])\n"
     ]
    }
   ],
   "source": [
    "print(a + b)\n",
    "print(a == b)"
   ]
  },
  {
   "cell_type": "code",
   "execution_count": 78,
   "id": "46ceb3e6-ecd2-41b0-b3c8-c2e87e05171f",
   "metadata": {
    "colab": {
     "base_uri": "https://localhost:8080/"
    },
    "executionInfo": {
     "elapsed": 11,
     "status": "ok",
     "timestamp": 1746155970091,
     "user": {
      "displayName": "­강지윤(사범대학 교육공학과)",
      "userId": "04450917664911407728"
     },
     "user_tz": -540
    },
    "id": "46ceb3e6-ecd2-41b0-b3c8-c2e87e05171f",
    "outputId": "c8156b2f-887c-4d7a-f0a9-a5279194eb1b"
   },
   "outputs": [
    {
     "data": {
      "text/plain": [
       "(torch.Size([2, 5]), torch.Size([5]))"
      ]
     },
     "execution_count": 78,
     "metadata": {},
     "output_type": "execute_result"
    }
   ],
   "source": [
    "a.size(), c.size()"
   ]
  },
  {
   "cell_type": "code",
   "execution_count": 79,
   "id": "15256a5e",
   "metadata": {
    "colab": {
     "base_uri": "https://localhost:8080/"
    },
    "executionInfo": {
     "elapsed": 17,
     "status": "ok",
     "timestamp": 1746155982604,
     "user": {
      "displayName": "­강지윤(사범대학 교육공학과)",
      "userId": "04450917664911407728"
     },
     "user_tz": -540
    },
    "id": "15256a5e",
    "outputId": "94785d8f-27d9-4705-8d46-46806010447a"
   },
   "outputs": [
    {
     "name": "stdout",
     "output_type": "stream",
     "text": [
      "tensor([[50, 52, 54, 56, 58],\n",
      "        [55, 57, 59, 61, 63]])\n"
     ]
    }
   ],
   "source": [
    "# broadcasting  # 사이즈가 달라도 broadcasting이 일어남. c -> [[50, 51, 52, 53, 54], [50, 51, 52, 53, 54]] 를 한다음에 a의 각 행과 더함.\n",
    "print(a + c)"
   ]
  },
  {
   "cell_type": "markdown",
   "id": "729874b2",
   "metadata": {
    "id": "729874b2"
   },
   "source": [
    "## 주요 연산함수\n",
    "\n",
    "### 주요 상수\n",
    "#### 자연상수 E"
   ]
  },
  {
   "cell_type": "code",
   "execution_count": 81,
   "id": "22a50df6",
   "metadata": {
    "colab": {
     "base_uri": "https://localhost:8080/"
    },
    "executionInfo": {
     "elapsed": 10,
     "status": "ok",
     "timestamp": 1746156159492,
     "user": {
      "displayName": "­강지윤(사범대학 교육공학과)",
      "userId": "04450917664911407728"
     },
     "user_tz": -540
    },
    "id": "22a50df6",
    "outputId": "6ef069a3-a624-493f-f210-804c06cd1388"
   },
   "outputs": [
    {
     "data": {
      "text/plain": [
       "(2.718281828459045, 2.718281828459045, 3.141592653589793, 3.141592653589793)"
      ]
     },
     "execution_count": 81,
     "metadata": {},
     "output_type": "execute_result"
    }
   ],
   "source": [
    "torch.e, np.e, torch.pi, np.pi"
   ]
  },
  {
   "cell_type": "markdown",
   "id": "b81d7323",
   "metadata": {
    "id": "b81d7323"
   },
   "source": [
    "#### torch.nan, torch.inf\n",
    "- nan: Not a Number, 주로 결측치를 표현한다.\n",
    "- inf: infinit 무한.\n",
    "    - torch.inf: 양의 무한\n",
    "    - -torch.inf: 음의 무한\n",
    "- torch.isnan(tensor)\n",
    "    - 원소별 결측치 확인\n",
    "- torch.isinf(tensor)    \n",
    "    - 원소별 inf 확인"
   ]
  },
  {
   "cell_type": "code",
   "execution_count": 82,
   "id": "7a91f59b",
   "metadata": {
    "colab": {
     "base_uri": "https://localhost:8080/"
    },
    "executionInfo": {
     "elapsed": 20,
     "status": "ok",
     "timestamp": 1746156211190,
     "user": {
      "displayName": "­강지윤(사범대학 교육공학과)",
      "userId": "04450917664911407728"
     },
     "user_tz": -540
    },
    "id": "7a91f59b",
    "outputId": "b3054e1a-7998-4a30-c9ed-402dc55c4bb7"
   },
   "outputs": [
    {
     "name": "stdout",
     "output_type": "stream",
     "text": [
      "True False\n",
      "True False\n"
     ]
    }
   ],
   "source": [
    "print(torch.inf > 10000000000000000, torch.inf < 10000000000) #  torch.inf 가 붙으면 어떤 값보다 젤 큼\n",
    "print(-torch.inf < -1000000000000000000000, -torch.inf > 10) # -torch.inf : 어떤 값보다 젤 작음.\n"
   ]
  },
  {
   "cell_type": "code",
   "execution_count": 83,
   "id": "f0f9cdda",
   "metadata": {
    "colab": {
     "base_uri": "https://localhost:8080/"
    },
    "executionInfo": {
     "elapsed": 52,
     "status": "ok",
     "timestamp": 1746156284958,
     "user": {
      "displayName": "­강지윤(사범대학 교육공학과)",
      "userId": "04450917664911407728"
     },
     "user_tz": -540
    },
    "id": "f0f9cdda",
    "outputId": "eafd4a1a-ed21-46ca-9862-3d59998debe3"
   },
   "outputs": [
    {
     "name": "stdout",
     "output_type": "stream",
     "text": [
      "tensor(nan)\n",
      "tensor([False, False,  True, False, False])\n",
      "tensor([False, False, False, False,  True])\n"
     ]
    }
   ],
   "source": [
    "print(torch.log(torch.tensor(-1))) # nan (계산결과가 없으므로-없는값-nan 반환)  # 밑이 e 자연상수는 양수라서 log-1은 없어서 nan이 나옴\n",
    "print(torch.isnan(torch.tensor([1,2,torch.nan,3,4])))  # nan 여부 확인\n",
    "print(torch.isinf(torch.tensor([1,2,3,4,torch.inf])))  # inf 여부 확인"
   ]
  },
  {
   "cell_type": "markdown",
   "id": "86fdcb35",
   "metadata": {
    "id": "86fdcb35"
   },
   "source": [
    "## 주요 연산 함수"
   ]
  },
  {
   "cell_type": "code",
   "execution_count": 84,
   "id": "6fc6ac19",
   "metadata": {
    "colab": {
     "base_uri": "https://localhost:8080/"
    },
    "collapsed": true,
    "executionInfo": {
     "elapsed": 19,
     "status": "ok",
     "timestamp": 1746156493303,
     "user": {
      "displayName": "­강지윤(사범대학 교육공학과)",
      "userId": "04450917664911407728"
     },
     "user_tz": -540
    },
    "id": "6fc6ac19",
    "jupyter": {
     "outputs_hidden": true
    },
    "outputId": "1d9b075d-3714-4512-bf95-ff13895f58df",
    "scrolled": true
   },
   "outputs": [
    {
     "name": "stdout",
     "output_type": "stream",
     "text": [
      "tensor([[-4, -3, -2],\n",
      "        [-1,  0,  1],\n",
      "        [ 2,  3,  4]])\n",
      "tensor([[4, 3, 2],\n",
      "        [1, 0, 1],\n",
      "        [2, 3, 4]])\n",
      "tensor([[2.0000, 1.7321, 1.4142],\n",
      "        [1.0000, 0.0000, 1.0000],\n",
      "        [1.4142, 1.7321, 2.0000]])\n",
      "tensor([[1.8316e-02, 4.9787e-02, 1.3534e-01],\n",
      "        [3.6788e-01, 1.0000e+00, 2.7183e+00],\n",
      "        [7.3891e+00, 2.0086e+01, 5.4598e+01]])\n",
      "tensor([[1.3863, 1.0986, 0.6931],\n",
      "        [0.0000,   -inf, 0.0000],\n",
      "        [0.6931, 1.0986, 1.3863]])\n",
      "tensor(1.)\n",
      "tensor(1.)\n",
      "tensor(1.)\n"
     ]
    }
   ],
   "source": [
    "x=torch.arange(-4, 5).reshape(3,3)   #  element wise연산\n",
    "print(x)\n",
    "print(torch.abs(x)) # 절대값\n",
    "print(torch.sqrt(torch.abs(x))) #  제곱근\n",
    "print(torch.exp(x))  # torch.e**x\n",
    "print(torch.log(torch.abs(x)))\n",
    "print(torch.log(torch.exp(torch.tensor(1))))  # torch.log() 밑이 e인 로그계산\n",
    "print(torch.log10(torch.tensor(10)))         # torch.log10() 밑이 10인 로그계산\n",
    "print(torch.log2(torch.tensor(2)))           # torch.log2() 밑이 2인 로그계산"
   ]
  },
  {
   "cell_type": "code",
   "execution_count": 85,
   "id": "026192bd",
   "metadata": {
    "colab": {
     "base_uri": "https://localhost:8080/"
    },
    "collapsed": true,
    "executionInfo": {
     "elapsed": 59,
     "status": "ok",
     "timestamp": 1746156576091,
     "user": {
      "displayName": "­강지윤(사범대학 교육공학과)",
      "userId": "04450917664911407728"
     },
     "user_tz": -540
    },
    "id": "026192bd",
    "jupyter": {
     "outputs_hidden": true
    },
    "outputId": "80909e1e-eeaa-4207-ec84-be95d40a5211",
    "scrolled": true
   },
   "outputs": [
    {
     "name": "stdout",
     "output_type": "stream",
     "text": [
      "tensor([[-3.7580, -2.5212, -1.9373],\n",
      "        [ 0.8168, -0.5812, -0.1111],\n",
      "        [ 2.9445,  1.3281,  5.3651]])\n",
      "tensor([[-4., -3., -2.],\n",
      "        [ 1., -1., -0.],\n",
      "        [ 3.,  1.,  5.]])\n",
      "tensor([[-3.7600, -2.5200, -1.9400],\n",
      "        [ 0.8200, -0.5800, -0.1100],\n",
      "        [ 2.9400,  1.3300,  5.3700]])\n",
      "tensor([[-4., -3., -2.],\n",
      "        [ 0., -1., -1.],\n",
      "        [ 2.,  1.,  5.]])\n",
      "tensor([[-3., -2., -1.],\n",
      "        [ 1., -0., -0.],\n",
      "        [ 3.,  2.,  6.]])\n"
     ]
    }
   ],
   "source": [
    "y = x + torch.randn((3,3))\n",
    "print(y)\n",
    "print(torch.round(y)) # 반올림\n",
    "print(torch.round(y, decimals=2)) # 소수점 둘째자리 이하에서 반올림\n",
    "print(torch.floor(y)) # 내림\n",
    "print(torch.ceil(y)) # 올림"
   ]
  },
  {
   "cell_type": "markdown",
   "id": "358832d4",
   "metadata": {
    "id": "358832d4"
   },
   "source": [
    "### 행렬곱\n",
    "- `@` 연산자 또는 `torch.matmul(tensor1, tensor2)` 함수 이용"
   ]
  },
  {
   "cell_type": "code",
   "execution_count": null,
   "id": "ac6cfff6",
   "metadata": {
    "id": "ac6cfff6"
   },
   "outputs": [],
   "source": [
    "import torch"
   ]
  },
  {
   "cell_type": "code",
   "execution_count": 86,
   "id": "eb349ca8",
   "metadata": {
    "colab": {
     "base_uri": "https://localhost:8080/"
    },
    "executionInfo": {
     "elapsed": 6,
     "status": "ok",
     "timestamp": 1746156652027,
     "user": {
      "displayName": "­강지윤(사범대학 교육공학과)",
      "userId": "04450917664911407728"
     },
     "user_tz": -540
    },
    "id": "eb349ca8",
    "outputId": "ed477016-2aa6-4769-d345-83d688209889"
   },
   "outputs": [
    {
     "data": {
      "text/plain": [
       "(torch.Size([3, 2]), torch.Size([2, 2]))"
      ]
     },
     "execution_count": 86,
     "metadata": {},
     "output_type": "execute_result"
    }
   ],
   "source": [
    "x = torch.FloatTensor([[1, 2],[3, 4],[5, 6]])\n",
    "\n",
    "y = torch.FloatTensor([[1, 2],[1, 2],])\n",
    "x.size(), y.shape"
   ]
  },
  {
   "cell_type": "code",
   "execution_count": 87,
   "id": "4283adae",
   "metadata": {
    "colab": {
     "base_uri": "https://localhost:8080/"
    },
    "executionInfo": {
     "elapsed": 65,
     "status": "ok",
     "timestamp": 1746156756838,
     "user": {
      "displayName": "­강지윤(사범대학 교육공학과)",
      "userId": "04450917664911407728"
     },
     "user_tz": -540
    },
    "id": "4283adae",
    "outputId": "86f44d64-110c-4b87-9439-5b373af529e3"
   },
   "outputs": [
    {
     "name": "stdout",
     "output_type": "stream",
     "text": [
      "torch.Size([3, 2]) torch.Size([3, 2])\n",
      "tensor([[ 3.,  6.],\n",
      "        [ 7., 14.],\n",
      "        [11., 22.]])\n",
      "tensor([[ 3.,  6.],\n",
      "        [ 7., 14.],\n",
      "        [11., 22.]])\n"
     ]
    }
   ],
   "source": [
    "z1 = x @ y\n",
    "z2 = torch.matmul(x, y) # matrix multiply\n",
    "print(z1.shape, z2.shape)\n",
    "print(z1)\n",
    "print(z2)"
   ]
  },
  {
   "cell_type": "code",
   "execution_count": 88,
   "id": "004d5f21",
   "metadata": {
    "colab": {
     "base_uri": "https://localhost:8080/"
    },
    "executionInfo": {
     "elapsed": 36,
     "status": "ok",
     "timestamp": 1746156928523,
     "user": {
      "displayName": "­강지윤(사범대학 교육공학과)",
      "userId": "04450917664911407728"
     },
     "user_tz": -540
    },
    "id": "004d5f21",
    "outputId": "3c4bf3e9-c3e7-419b-fd3f-1b89fe4ed93b"
   },
   "outputs": [
    {
     "data": {
      "text/plain": [
       "torch.Size([3, 4, 5])"
      ]
     },
     "execution_count": 88,
     "metadata": {},
     "output_type": "execute_result"
    }
   ],
   "source": [
    "# 3차원이상의 행렬곱을 하고 싶을때:ㅣ Batch 행렬곱(Batch matrix muliplication) - bmm()\n",
    "# 피연산자로 두개의 3차원 tensor를 axis (1, 2)를 기준으로 행렬곱을 처리한다.\n",
    "# 4x2 가 3개씩, 2x5가 3개씩 이걸 행렬곱을 하면, 4x5가 3개가 됨.\n",
    "import torch\n",
    "x = torch.FloatTensor(3,4,2)\n",
    "y = torch.FloatTensor(3,2,5)\n",
    "z = torch.bmm(x, y)\n",
    "z.shape\n"
   ]
  },
  {
   "cell_type": "markdown",
   "id": "2214bd73",
   "metadata": {
    "id": "2214bd73"
   },
   "source": [
    "## 기술통계함수"
   ]
  },
  {
   "cell_type": "code",
   "execution_count": 89,
   "id": "11a0d448",
   "metadata": {
    "colab": {
     "base_uri": "https://localhost:8080/"
    },
    "executionInfo": {
     "elapsed": 86,
     "status": "ok",
     "timestamp": 1746156944392,
     "user": {
      "displayName": "­강지윤(사범대학 교육공학과)",
      "userId": "04450917664911407728"
     },
     "user_tz": -540
    },
    "id": "11a0d448",
    "outputId": "21f4fe2f-7a60-417f-84a9-486615ec7e41"
   },
   "outputs": [
    {
     "name": "stdout",
     "output_type": "stream",
     "text": [
      "tensor([[-0.8977,  1.6361,  0.8110,  0.2115],\n",
      "        [ 0.0864, -0.9572,  1.5467,  0.7313],\n",
      "        [ 1.0972,  2.7566,  0.0551,  0.9365]])\n"
     ]
    }
   ],
   "source": [
    "X=torch.randn(3,4)\n",
    "print(X)"
   ]
  },
  {
   "cell_type": "code",
   "execution_count": 92,
   "id": "7b696371",
   "metadata": {
    "colab": {
     "base_uri": "https://localhost:8080/"
    },
    "collapsed": true,
    "executionInfo": {
     "elapsed": 7,
     "status": "ok",
     "timestamp": 1746157163520,
     "user": {
      "displayName": "­강지윤(사범대학 교육공학과)",
      "userId": "04450917664911407728"
     },
     "user_tz": -540
    },
    "id": "7b696371",
    "jupyter": {
     "outputs_hidden": true
    },
    "outputId": "e6683e30-f318-4f8c-fff5-f3cbda2028ef"
   },
   "outputs": [
    {
     "name": "stdout",
     "output_type": "stream",
     "text": [
      "tensor(8.0134)\n",
      "tensor([1.7608, 1.4073, 4.8454])\n",
      "tensor([[1.7608],\n",
      "        [1.4073],\n",
      "        [4.8454]])\n"
     ]
    }
   ],
   "source": [
    "print(torch.sum(X))  # default: 전체기준으로 계산. dim=None\n",
    "print(torch.sum(X, dim=1)) #dim/axis 지정: 지정한 axis의 index가 다른 값끼리 계산.\n",
    "print(torch.sum(X, dim=1, keepdims=True)) # 기술통계함수들을 실행하면 차원이 줄어든다. keepdims=True로 하면 차원유지"
   ]
  },
  {
   "cell_type": "code",
   "execution_count": 93,
   "id": "99c06f26",
   "metadata": {
    "colab": {
     "base_uri": "https://localhost:8080/"
    },
    "executionInfo": {
     "elapsed": 26,
     "status": "ok",
     "timestamp": 1746157184945,
     "user": {
      "displayName": "­강지윤(사범대학 교육공학과)",
      "userId": "04450917664911407728"
     },
     "user_tz": -540
    },
    "id": "99c06f26",
    "outputId": "2f344e85-f996-4e47-efa0-581dafe77d84"
   },
   "outputs": [
    {
     "name": "stdout",
     "output_type": "stream",
     "text": [
      "tensor(0.6678)\n",
      "tensor([0.0953, 1.1452, 0.8043, 0.6264])\n",
      "tensor([[0.0953, 1.1452, 0.8043, 0.6264]])\n"
     ]
    }
   ],
   "source": [
    "print(torch.mean(X))\n",
    "print(torch.mean(X, dim=0))\n",
    "print(torch.mean(X, dim=0, keepdims=True))"
   ]
  },
  {
   "cell_type": "code",
   "execution_count": 94,
   "id": "db8d8f1e",
   "metadata": {
    "colab": {
     "base_uri": "https://localhost:8080/"
    },
    "executionInfo": {
     "elapsed": 25,
     "status": "ok",
     "timestamp": 1746157188408,
     "user": {
      "displayName": "­강지윤(사범대학 교육공학과)",
      "userId": "04450917664911407728"
     },
     "user_tz": -540
    },
    "id": "db8d8f1e",
    "outputId": "0c45e369-4b0f-4b97-ac00-ad3df158409b"
   },
   "outputs": [
    {
     "name": "stdout",
     "output_type": "stream",
     "text": [
      "tensor(1.0603)\n",
      "tensor(1.1243)\n",
      "tensor([0.9949, 3.6288, 0.5562, 0.1396])\n"
     ]
    }
   ],
   "source": [
    "print(torch.std(X)) # standard deviation 표준 편차\n",
    "print(torch.var(X)) # variance\n",
    "print(torch.var(X, dim=0))"
   ]
  },
  {
   "cell_type": "code",
   "execution_count": null,
   "id": "51ecc064",
   "metadata": {
    "id": "51ecc064"
   },
   "outputs": [],
   "source": [
    "# tensor.메소드()\n",
    "print(X.sum(dim=1, keepdims=True))\n",
    "print(X.mean(dim=1, keepdims=True))\n",
    "print(X.std())"
   ]
  },
  {
   "cell_type": "code",
   "execution_count": null,
   "id": "f72865f1-80e6-4433-a366-02449bc493df",
   "metadata": {
    "id": "f72865f1-80e6-4433-a366-02449bc493df"
   },
   "outputs": [],
   "source": [
    "X"
   ]
  },
  {
   "cell_type": "code",
   "execution_count": 100,
   "id": "afe123ff",
   "metadata": {
    "colab": {
     "base_uri": "https://localhost:8080/"
    },
    "executionInfo": {
     "elapsed": 18,
     "status": "ok",
     "timestamp": 1746157468884,
     "user": {
      "displayName": "­강지윤(사범대학 교육공학과)",
      "userId": "04450917664911407728"
     },
     "user_tz": -540
    },
    "id": "afe123ff",
    "outputId": "be6e7e7a-0c72-4571-ca01-da89b65e2958"
   },
   "outputs": [
    {
     "name": "stdout",
     "output_type": "stream",
     "text": [
      "tensor(2.7566)\n",
      "torch.return_types.max(\n",
      "values=tensor([1.0972, 2.7566, 1.5467, 0.9365]),\n",
      "indices=tensor([2, 2, 1, 2]))\n",
      "torch.return_types.max(\n",
      "values=tensor([1.6361, 1.5467, 2.7566]),\n",
      "indices=tensor([1, 2, 1]))\n",
      "tensor([1.6361, 1.5467, 2.7566]) || tensor([1, 2, 1])\n",
      "torch.return_types.max(\n",
      "values=tensor([[1.0972, 2.7566, 1.5467, 0.9365]]),\n",
      "indices=tensor([[2, 2, 1, 2]]))\n",
      "torch.return_types.max(\n",
      "values=tensor([[1.6361],\n",
      "        [1.5467],\n",
      "        [2.7566]]),\n",
      "indices=tensor([[1],\n",
      "        [2],\n",
      "        [1]]))\n"
     ]
    }
   ],
   "source": [
    "print(torch.max(X)) # 전체 기준 max값 계산.\n",
    "print(torch.max(X, dim=0))  # 축을 지정하면 return_types.max 타입객체로 반환. values = :max값과 indices = : max값의 index를 묶어서 반환\n",
    "print(torch.max(X, dim=1))\n",
    "print(torch.max(X, dim=1).values, torch.max(X, dim=1).indices, sep=\" || \")    # values값이랑 indices 값을 따로 뽑을 수 있음\n",
    "\n",
    "\n",
    "print(torch.max(X, dim=0, keepdims=True))  #keepdims=True : 차원(rank)를 유지\n",
    "print(torch.max(X, dim=1, keepdims=True))"
   ]
  },
  {
   "cell_type": "code",
   "execution_count": 102,
   "id": "234df8b9",
   "metadata": {
    "colab": {
     "base_uri": "https://localhost:8080/"
    },
    "executionInfo": {
     "elapsed": 24,
     "status": "ok",
     "timestamp": 1746157509006,
     "user": {
      "displayName": "­강지윤(사범대학 교육공학과)",
      "userId": "04450917664911407728"
     },
     "user_tz": -540
    },
    "id": "234df8b9",
    "outputId": "45dd9953-8b8c-42a7-f09e-2457bdad7cd5"
   },
   "outputs": [
    {
     "name": "stdout",
     "output_type": "stream",
     "text": [
      "tensor(-0.9572)\n",
      "torch.return_types.min(\n",
      "values=tensor([-0.8977, -0.9572,  0.0551,  0.2115]),\n",
      "indices=tensor([0, 1, 2, 0]))\n",
      "torch.return_types.min(\n",
      "values=tensor([-0.8977, -0.9572,  0.0551]),\n",
      "indices=tensor([0, 1, 2]))\n"
     ]
    }
   ],
   "source": [
    "print(torch.min(X))\n",
    "print(torch.min(X, dim=0)) # return_types.min 타입객체로 반환. min값과 min값의 index를 묶어서 반환\n",
    "print(torch.min(X, dim=1))"
   ]
  },
  {
   "cell_type": "code",
   "execution_count": 104,
   "id": "MiLl7MHSGZIF",
   "metadata": {
    "colab": {
     "base_uri": "https://localhost:8080/"
    },
    "executionInfo": {
     "elapsed": 11,
     "status": "ok",
     "timestamp": 1746157575058,
     "user": {
      "displayName": "­강지윤(사범대학 교육공학과)",
      "userId": "04450917664911407728"
     },
     "user_tz": -540
    },
    "id": "MiLl7MHSGZIF",
    "outputId": "61abf78e-5fa7-48c5-cffa-98b11be94ef9"
   },
   "outputs": [
    {
     "name": "stdout",
     "output_type": "stream",
     "text": [
      "tensor([-0.8977, -0.9572,  0.0551])\n",
      "tensor([0, 1, 2])\n"
     ]
    }
   ],
   "source": [
    "print(torch.min(X, dim=1).values)\n",
    "print(torch.min(X, dim=1).indices)"
   ]
  },
  {
   "cell_type": "code",
   "execution_count": 110,
   "id": "33c01aed",
   "metadata": {
    "colab": {
     "base_uri": "https://localhost:8080/"
    },
    "executionInfo": {
     "elapsed": 11,
     "status": "ok",
     "timestamp": 1746157656672,
     "user": {
      "displayName": "­강지윤(사범대학 교육공학과)",
      "userId": "04450917664911407728"
     },
     "user_tz": -540
    },
    "id": "33c01aed",
    "outputId": "b094153d-40aa-4bbf-a00f-63ff753bc211"
   },
   "outputs": [
    {
     "name": "stdout",
     "output_type": "stream",
     "text": [
      "tensor(9)\n",
      "tensor([2, 2, 1, 2])\n",
      "tensor([1, 2, 1])\n"
     ]
    }
   ],
   "source": [
    "print(torch.argmax(X))      # 전체 중 가장 큰 값의 index -> flatten 한 뒤에 index를 변환\n",
    "print(torch.argmax(X, dim=0)) # 각 열에서 가장 큰 애가 존재하는 인덱스\n",
    "print(torch.argmax(X, dim=1)) # 각 행에서 가장 큰 애가 존재하는 인덱스"
   ]
  },
  {
   "cell_type": "code",
   "execution_count": 111,
   "id": "642696a3-bfe3-41f5-a4fc-397075454e2d",
   "metadata": {
    "colab": {
     "base_uri": "https://localhost:8080/"
    },
    "executionInfo": {
     "elapsed": 58,
     "status": "ok",
     "timestamp": 1746157673644,
     "user": {
      "displayName": "­강지윤(사범대학 교육공학과)",
      "userId": "04450917664911407728"
     },
     "user_tz": -540
    },
    "id": "642696a3-bfe3-41f5-a4fc-397075454e2d",
    "outputId": "41aca708-df1c-4af8-e168-a9a7cc4c2e6b"
   },
   "outputs": [
    {
     "name": "stdout",
     "output_type": "stream",
     "text": [
      "tensor([1.0972, 2.7566, 1.5467, 0.9365])\n",
      "tensor([2, 2, 1, 2])\n"
     ]
    }
   ],
   "source": [
    "a = torch.max(X, dim=0)\n",
    "print(a.values)\n",
    "print(a.indices)"
   ]
  },
  {
   "cell_type": "markdown",
   "id": "a02bf59a",
   "metadata": {
    "id": "a02bf59a"
   },
   "source": [
    "# autograd(자동미분)\n",
    "- 자동 미분을 이용해 gradient(미분계수)를 계산하는 pytorch system.\n",
    "- 딥러닝 모델에서 weight와 bias tensor들(Parameter)은 backpropagation(역전파)를 이용해 gradient를 구해서 loss가 줄어드는 방향으로 update를 하게된다.\n",
    "- pytorch는 이런 미분 수행을 자동으로 처리해 준다.\n",
    "    - gradient(기울기)를 구한다는 것은 미분을 한다는 것을 말한다.\n",
    "- tensor가 미분 가능하려면(gradient 계산 대상 변수) `requires_grad=True` 로 설정되어 있어야 한다. (default: False) [필수]\n",
    "\n",
    "\n",
    "- [추론] forward : 도함수 정의/ [loss] backward: gradient 계산\n",
    "\n",
    "> - **미분**\n",
    ">   -  (순간) 변화율을 계산한다.\n",
    ">   - $$\\frac{\\partial y}{\\partial x}$$\n",
    ">       - x에 대한 y의 변화율. 즉 x가 변하면 y는 얼마나 변할까?"
   ]
  },
  {
   "cell_type": "code",
   "execution_count": null,
   "id": "SYN-H6aLbXMD",
   "metadata": {
    "id": "SYN-H6aLbXMD"
   },
   "outputs": [],
   "source": []
  },
  {
   "cell_type": "code",
   "execution_count": 112,
   "id": "aR5ty8S6bQlH",
   "metadata": {
    "executionInfo": {
     "elapsed": 6,
     "status": "ok",
     "timestamp": 1746163016277,
     "user": {
      "displayName": "­강지윤(사범대학 교육공학과)",
      "userId": "04450917664911407728"
     },
     "user_tz": -540
    },
    "id": "aR5ty8S6bQlH"
   },
   "outputs": [],
   "source": [
    "import torch"
   ]
  },
  {
   "cell_type": "code",
   "execution_count": 183,
   "id": "MnnckHaibYo3",
   "metadata": {
    "colab": {
     "base_uri": "https://localhost:8080/"
    },
    "executionInfo": {
     "elapsed": 151,
     "status": "ok",
     "timestamp": 1746168517557,
     "user": {
      "displayName": "­강지윤(사범대학 교육공학과)",
      "userId": "04450917664911407728"
     },
     "user_tz": -540
    },
    "id": "MnnckHaibYo3",
    "outputId": "9cd1f4b0-3f7a-4f7f-c524-d9371775a3bb"
   },
   "outputs": [
    {
     "name": "stdout",
     "output_type": "stream",
     "text": [
      "True\n"
     ]
    }
   ],
   "source": [
    "x = torch.tensor([1.0], requires_grad=True) # Gradiens를 계산할 대상인지 여부\n",
    "print(x.requires_grad)  #default = false\n",
    "## True: x를 이용한 계산을 할때 gradient함수(도함수)를 정의해서 저장\n",
    "# x.requires_grad = True # 따로 변경 가능"
   ]
  },
  {
   "cell_type": "code",
   "execution_count": 182,
   "id": "yzACY_0IcMYf",
   "metadata": {
    "colab": {
     "base_uri": "https://localhost:8080/"
    },
    "executionInfo": {
     "elapsed": 8,
     "status": "ok",
     "timestamp": 1746168513224,
     "user": {
      "displayName": "­강지윤(사범대학 교육공학과)",
      "userId": "04450917664911407728"
     },
     "user_tz": -540
    },
    "id": "yzACY_0IcMYf",
    "outputId": "39e57dec-4a50-472a-a911-0d74331cbb94"
   },
   "outputs": [
    {
     "name": "stdout",
     "output_type": "stream",
     "text": [
      "tensor([1.])\n",
      "tensor([3.])\n"
     ]
    }
   ],
   "source": [
    "# Tensor의 속성\n",
    "## data - Tensor가 가지는 값들을 저장하느 변수(속성)\n",
    "print(x.data) # tensor([1.])\n",
    "## grad - Gradient 값을 저장하는 변수(속성)\n",
    "print(x.grad)"
   ]
  },
  {
   "cell_type": "code",
   "execution_count": 189,
   "id": "OGPifo_4csPs",
   "metadata": {
    "colab": {
     "base_uri": "https://localhost:8080/"
    },
    "executionInfo": {
     "elapsed": 13,
     "status": "ok",
     "timestamp": 1746168647071,
     "user": {
      "displayName": "­강지윤(사범대학 교육공학과)",
      "userId": "04450917664911407728"
     },
     "user_tz": -540
    },
    "id": "OGPifo_4csPs",
    "outputId": "2388e021-d136-4606-b4f0-8dc1bf250de5"
   },
   "outputs": [
    {
     "data": {
      "text/plain": [
       "tensor([1.], grad_fn=<PowBackward0>)"
      ]
     },
     "execution_count": 189,
     "metadata": {},
     "output_type": "execute_result"
    }
   ],
   "source": [
    "y = x ** 2\n",
    "y # tensor([1.], grad_fn=<PowBackward0>)   # pow ; 제곱의 도함수"
   ]
  },
  {
   "cell_type": "code",
   "execution_count": 185,
   "id": "RxoVrVbSc_Bc",
   "metadata": {
    "colab": {
     "base_uri": "https://localhost:8080/"
    },
    "executionInfo": {
     "elapsed": 14,
     "status": "ok",
     "timestamp": 1746168539272,
     "user": {
      "displayName": "­강지윤(사범대학 교육공학과)",
      "userId": "04450917664911407728"
     },
     "user_tz": -540
    },
    "id": "RxoVrVbSc_Bc",
    "outputId": "0d0a4c49-5bd3-4045-d426-cd8fb3c549b4"
   },
   "outputs": [
    {
     "data": {
      "text/plain": [
       "<PowBackward0 at 0x78f96a05b850>"
      ]
     },
     "execution_count": 185,
     "metadata": {},
     "output_type": "execute_result"
    }
   ],
   "source": [
    "y.grad_fn    # gradient계산함수(도함수)가 저장된 변수(속성)  # dy / dx (x(requires_grad = True)에 대한 y의 변화율)"
   ]
  },
  {
   "cell_type": "code",
   "execution_count": 190,
   "id": "nD_EPY7kdxfv",
   "metadata": {
    "executionInfo": {
     "elapsed": 1,
     "status": "ok",
     "timestamp": 1746168650022,
     "user": {
      "displayName": "­강지윤(사범대학 교육공학과)",
      "userId": "04450917664911407728"
     },
     "user_tz": -540
    },
    "id": "nD_EPY7kdxfv"
   },
   "outputs": [],
   "source": [
    "#gradient 계산\n",
    "y.backward() # dy/dx 계산 -> 그 결과를 x.grad에 저장"
   ]
  },
  {
   "cell_type": "code",
   "execution_count": null,
   "id": "0T0yTcCfd8fX",
   "metadata": {
    "colab": {
     "base_uri": "https://localhost:8080/"
    },
    "executionInfo": {
     "elapsed": 4,
     "status": "ok",
     "timestamp": 1746168546182,
     "user": {
      "displayName": "­강지윤(사범대학 교육공학과)",
      "userId": "04450917664911407728"
     },
     "user_tz": -540
    },
    "id": "0T0yTcCfd8fX",
    "outputId": "2dda80eb-0e01-405e-b1ab-e152efd34f5c"
   },
   "outputs": [
    {
     "data": {
      "text/plain": [
       "(tensor([1.]), tensor([2.]), <PowBackward0 at 0x78f96a0591e0>)"
      ]
     },
     "execution_count": 188,
     "metadata": {},
     "output_type": "execute_result"
    }
   ],
   "source": [
    "x.data, x.grad, y.grad_fn\n",
    "\n",
    "# X -> data = [1.0], require_grad = True, grad_fn = None\n",
    "# y = x**2 -> data= [1.0], grad_fn = 2x (X에서 requrie_grad=True로 설정했으니깐)\n",
    "# y.backward() 도함수를 이용해서 계산"
   ]
  },
  {
   "cell_type": "code",
   "execution_count": 191,
   "id": "XnXqcvy2fjp1",
   "metadata": {
    "executionInfo": {
     "elapsed": 15,
     "status": "ok",
     "timestamp": 1746168657448,
     "user": {
      "displayName": "­강지윤(사범대학 교육공학과)",
      "userId": "04450917664911407728"
     },
     "user_tz": -540
    },
    "id": "XnXqcvy2fjp1"
   },
   "outputs": [],
   "source": [
    "a = torch.tensor([2.0], requires_grad=True)\n",
    "b = torch.tensor([3.2], requires_grad=False)   # r_grad = False\n",
    "\n",
    "y = a - b+ 3 #grad_fn 정의\n",
    "y.backward() # grad를 계산- a에 대해서만 계산."
   ]
  },
  {
   "cell_type": "code",
   "execution_count": 133,
   "id": "BVWE4uacgEFa",
   "metadata": {
    "colab": {
     "base_uri": "https://localhost:8080/"
    },
    "executionInfo": {
     "elapsed": 12,
     "status": "ok",
     "timestamp": 1746164456402,
     "user": {
      "displayName": "­강지윤(사범대학 교육공학과)",
      "userId": "04450917664911407728"
     },
     "user_tz": -540
    },
    "id": "BVWE4uacgEFa",
    "outputId": "f7913721-6f58-441d-b943-8d18431e2826"
   },
   "outputs": [
    {
     "data": {
      "text/plain": [
       "(<AddBackward0 at 0x78f969a40370>, tensor([2.]), tensor([1.]))"
      ]
     },
     "execution_count": 133,
     "metadata": {},
     "output_type": "execute_result"
    }
   ],
   "source": [
    "y.grad_fn, a.data, a.grad"
   ]
  },
  {
   "cell_type": "code",
   "execution_count": 135,
   "id": "_TSuDsvmgW-s",
   "metadata": {
    "executionInfo": {
     "elapsed": 5,
     "status": "ok",
     "timestamp": 1746164469851,
     "user": {
      "displayName": "­강지윤(사범대학 교육공학과)",
      "userId": "04450917664911407728"
     },
     "user_tz": -540
    },
    "id": "_TSuDsvmgW-s"
   },
   "outputs": [],
   "source": [
    "b.grad  # 아무것도 없음"
   ]
  },
  {
   "cell_type": "code",
   "execution_count": 169,
   "id": "zUmejzfmg1EK",
   "metadata": {
    "executionInfo": {
     "elapsed": 28,
     "status": "ok",
     "timestamp": 1746166376172,
     "user": {
      "displayName": "­강지윤(사범대학 교육공학과)",
      "userId": "04450917664911407728"
     },
     "user_tz": -540
    },
    "id": "zUmejzfmg1EK"
   },
   "outputs": [],
   "source": [
    "# 간단한 경사하강법 구현\n",
    "input_data = torch.tensor([30.2])\n",
    "output_data = torch.tensor([10.5])\n",
    "weight = torch.tensor([0.2], requires_grad=True)\n",
    "y_pred = weight * input_data\n",
    "loss = (output_data - y_pred)**2  # 오차계산-MSE 같은 SE   #이것도 grad가 생긴 이유는 y_pred안에 있는 weight가 requires_grad = True 이기 때문"
   ]
  },
  {
   "cell_type": "code",
   "execution_count": 145,
   "id": "asT9X4_HhkrC",
   "metadata": {
    "colab": {
     "base_uri": "https://localhost:8080/"
    },
    "executionInfo": {
     "elapsed": 8,
     "status": "ok",
     "timestamp": 1746165014625,
     "user": {
      "displayName": "­강지윤(사범대학 교육공학과)",
      "userId": "04450917664911407728"
     },
     "user_tz": -540
    },
    "id": "asT9X4_HhkrC",
    "outputId": "a1a5dfd3-cdeb-4f3c-cc76-8c00782da515"
   },
   "outputs": [
    {
     "data": {
      "text/plain": [
       "(tensor([6.0400], grad_fn=<MulBackward0>),\n",
       " tensor([19.8916], grad_fn=<PowBackward0>),\n",
       " <MulBackward0 at 0x78f969dbe5f0>,\n",
       " <PowBackward0 at 0x78f969dbf130>)"
      ]
     },
     "execution_count": 145,
     "metadata": {},
     "output_type": "execute_result"
    }
   ],
   "source": [
    "y_pred, loss, y_pred.grad_fn, loss.grad_fn"
   ]
  },
  {
   "cell_type": "code",
   "execution_count": 167,
   "id": "n50Fx_RNntEr",
   "metadata": {
    "executionInfo": {
     "elapsed": 16,
     "status": "ok",
     "timestamp": 1746166363740,
     "user": {
      "displayName": "­강지윤(사범대학 교육공학과)",
      "userId": "04450917664911407728"
     },
     "user_tz": -540
    },
    "id": "n50Fx_RNntEr"
   },
   "outputs": [],
   "source": [
    "y_pred.backward()"
   ]
  },
  {
   "cell_type": "code",
   "execution_count": 170,
   "id": "ZN9AuAnQijA0",
   "metadata": {
    "executionInfo": {
     "elapsed": 3,
     "status": "ok",
     "timestamp": 1746166383272,
     "user": {
      "displayName": "­강지윤(사범대학 교육공학과)",
      "userId": "04450917664911407728"
     },
     "user_tz": -540
    },
    "id": "ZN9AuAnQijA0"
   },
   "outputs": [],
   "source": [
    "loss.backward()  #loss를 백워드하면, y_pred의 도함수를 먼저 계산한 다음에 loss의 도함수를 계산해서 합성함수(즉, 두 기울기를 곱한 값)로 계산\n",
    "# loss = (output_data - (weight*input_data))**2\n",
    "# weight.grad"
   ]
  },
  {
   "cell_type": "code",
   "execution_count": 171,
   "id": "5y8HYDhajTKb",
   "metadata": {
    "colab": {
     "base_uri": "https://localhost:8080/"
    },
    "executionInfo": {
     "elapsed": 33,
     "status": "ok",
     "timestamp": 1746166385558,
     "user": {
      "displayName": "­강지윤(사범대학 교육공학과)",
      "userId": "04450917664911407728"
     },
     "user_tz": -540
    },
    "id": "5y8HYDhajTKb",
    "outputId": "6ad67a8b-4f18-4ddb-98cb-ac17d7e22f29"
   },
   "outputs": [
    {
     "data": {
      "text/plain": [
       "tensor([-269.3840])"
      ]
     },
     "execution_count": 171,
     "metadata": {},
     "output_type": "execute_result"
    }
   ],
   "source": [
    "weight.grad"
   ]
  },
  {
   "cell_type": "code",
   "execution_count": 164,
   "id": "f79O0dRtiyVD",
   "metadata": {
    "colab": {
     "base_uri": "https://localhost:8080/"
    },
    "executionInfo": {
     "elapsed": 37,
     "status": "ok",
     "timestamp": 1746166324857,
     "user": {
      "displayName": "­강지윤(사범대학 교육공학과)",
      "userId": "04450917664911407728"
     },
     "user_tz": -540
    },
    "id": "f79O0dRtiyVD",
    "outputId": "90c608f9-3de2-47ae-e270-b38ca7d07ec8"
   },
   "outputs": [
    {
     "data": {
      "text/plain": [
       "tensor([0.2269])"
      ]
     },
     "execution_count": 164,
     "metadata": {},
     "output_type": "execute_result"
    }
   ],
   "source": [
    "new_weight = weight.data - weight.grad * 0.0001  #이걸로 weight의 값을 계속해서 줄여줌. gradient가 0이 될때까지.\n",
    "new_weight"
   ]
  },
  {
   "cell_type": "markdown",
   "id": "a304c280",
   "metadata": {
    "id": "a304c280"
   },
   "source": [
    "## torch.no_grad()\n",
    "- no_grad()를 with 구문에서 연산을 할 경우 with block 내에서 requires_grad=True로 설정된 변수를 이용한 계산식이 있더라도 grad_fn을 생성하지 않는다. 즉 gradient를 계산하지 않는다.\n",
    "- 딥러닝 모델을 평가 하거나 추론을할 때는 gradient를 계산할 필요가 없기 때문에 no_grad 구문을 사용한다.\n"
   ]
  },
  {
   "cell_type": "code",
   "execution_count": 175,
   "id": "59bea7a3",
   "metadata": {
    "colab": {
     "base_uri": "https://localhost:8080/"
    },
    "executionInfo": {
     "elapsed": 9,
     "status": "ok",
     "timestamp": 1746167461661,
     "user": {
      "displayName": "­강지윤(사범대학 교육공학과)",
      "userId": "04450917664911407728"
     },
     "user_tz": -540
    },
    "id": "59bea7a3",
    "outputId": "ff7b9dc4-71d5-461d-f45b-9a16abbba577"
   },
   "outputs": [
    {
     "name": "stdout",
     "output_type": "stream",
     "text": [
      "결과: tensor([1.])\n",
      "grad_fn <PowBackward0 object at 0x78f969e7b730>\n"
     ]
    }
   ],
   "source": [
    "x = torch.tensor([1.0], requires_grad = True)\n",
    "y = x**2\n",
    "print(\"결과:\", y.data)\n",
    "print(\"grad_fn\", y.grad_fn)"
   ]
  },
  {
   "cell_type": "code",
   "execution_count": 176,
   "id": "JDZ3AjLLsDte",
   "metadata": {
    "colab": {
     "base_uri": "https://localhost:8080/"
    },
    "executionInfo": {
     "elapsed": 9,
     "status": "ok",
     "timestamp": 1746167480966,
     "user": {
      "displayName": "­강지윤(사범대학 교육공학과)",
      "userId": "04450917664911407728"
     },
     "user_tz": -540
    },
    "id": "JDZ3AjLLsDte",
    "outputId": "5617eabc-434f-4066-fe6c-902e0a6619fd"
   },
   "outputs": [
    {
     "name": "stdout",
     "output_type": "stream",
     "text": [
      "결과: tensor([1.])\n",
      "grad_fn None\n"
     ]
    }
   ],
   "source": [
    "with torch.no_grad():     #추론하거나 평가할때는 gradient가 필요없기 때문에 no_grad 같은 with block 안에서 진행하면 됨.\n",
    "    y = x**2\n",
    "    print(\"결과:\", y.data)\n",
    "    print(\"grad_fn\", y.grad_fn)"
   ]
  },
  {
   "cell_type": "markdown",
   "id": "b3811c4b",
   "metadata": {
    "id": "b3811c4b"
   },
   "source": [
    "## gradient 값 초기화\n",
    "- backward() 에서 계산되어 저장된 gradient값을 초기화한다.\n",
    "- 반복 학습을 할 경우 gradient가 누적되는 문제가 발생한다. 그래서 한번 학습이 끝나면 다음 학습 전에 초기화하는 작업을 해야 한다."
   ]
  },
  {
   "cell_type": "code",
   "execution_count": 177,
   "id": "60622e6b",
   "metadata": {
    "colab": {
     "base_uri": "https://localhost:8080/"
    },
    "executionInfo": {
     "elapsed": 28,
     "status": "ok",
     "timestamp": 1746167683607,
     "user": {
      "displayName": "­강지윤(사범대학 교육공학과)",
      "userId": "04450917664911407728"
     },
     "user_tz": -540
    },
    "id": "60622e6b",
    "outputId": "81aa1afd-5310-4443-a0a5-4cd0602a6ec3"
   },
   "outputs": [
    {
     "name": "stdout",
     "output_type": "stream",
     "text": [
      "None\n",
      "tensor([2.])\n"
     ]
    }
   ],
   "source": [
    "x = torch.tensor([1.0], requires_grad= True)\n",
    "print(x.grad)\n",
    "y = x**2\n",
    "y.backward()\n",
    "print(x.grad)"
   ]
  },
  {
   "cell_type": "code",
   "execution_count": 180,
   "id": "5d55ff89",
   "metadata": {
    "executionInfo": {
     "elapsed": 3,
     "status": "ok",
     "timestamp": 1746168149948,
     "user": {
      "displayName": "­강지윤(사범대학 교육공학과)",
      "userId": "04450917664911407728"
     },
     "user_tz": -540
    },
    "id": "5d55ff89"
   },
   "outputs": [],
   "source": [
    "# x를 이용한 새로운 계산\n",
    "x.grad = None  # 초기화\n",
    "z = x ** 3\n",
    "z.backward()"
   ]
  },
  {
   "cell_type": "code",
   "execution_count": 181,
   "id": "60daa5fe",
   "metadata": {
    "colab": {
     "base_uri": "https://localhost:8080/"
    },
    "executionInfo": {
     "elapsed": 20,
     "status": "ok",
     "timestamp": 1746168151341,
     "user": {
      "displayName": "­강지윤(사범대학 교육공학과)",
      "userId": "04450917664911407728"
     },
     "user_tz": -540
    },
    "id": "60daa5fe",
    "outputId": "4cc8c0ec-5d33-430b-d1c6-eb03ee1afca7"
   },
   "outputs": [
    {
     "name": "stdout",
     "output_type": "stream",
     "text": [
      "tensor([3.])\n"
     ]
    }
   ],
   "source": [
    "print(x.grad)  # 새로운 계산을 할때 grad 값을 초기화하지 않으면 앞에 계산했던 x.grad와 더해짐. # 2+3 tensor([5.])"
   ]
  },
  {
   "cell_type": "code",
   "execution_count": null,
   "id": "wOaMRScctmwa",
   "metadata": {
    "id": "wOaMRScctmwa"
   },
   "outputs": [],
   "source": []
  }
 ],
 "metadata": {
  "colab": {
   "provenance": []
  },
  "kernelspec": {
   "display_name": "dl",
   "language": "python",
   "name": "python3"
  },
  "language_info": {
   "codemirror_mode": {
    "name": "ipython",
    "version": 3
   },
   "file_extension": ".py",
   "mimetype": "text/x-python",
   "name": "python",
   "nbconvert_exporter": "python",
   "pygments_lexer": "ipython3",
   "version": "3.12.10"
  },
  "toc": {
   "base_numbering": 1,
   "nav_menu": {},
   "number_sections": true,
   "sideBar": true,
   "skip_h1_title": false,
   "title_cell": "Table of Contents",
   "title_sidebar": "Contents",
   "toc_cell": false,
   "toc_position": {},
   "toc_section_display": true,
   "toc_window_display": false
  },
  "varInspector": {
   "cols": {
    "lenName": 16,
    "lenType": 16,
    "lenVar": 40
   },
   "kernels_config": {
    "python": {
     "delete_cmd_postfix": "",
     "delete_cmd_prefix": "del ",
     "library": "var_list.py",
     "varRefreshCmd": "print(var_dic_list())"
    },
    "r": {
     "delete_cmd_postfix": ") ",
     "delete_cmd_prefix": "rm(",
     "library": "var_list.r",
     "varRefreshCmd": "cat(var_dic_list()) "
    }
   },
   "types_to_exclude": [
    "module",
    "function",
    "builtin_function_or_method",
    "instance",
    "_Feature"
   ],
   "window_display": false
  }
 },
 "nbformat": 4,
 "nbformat_minor": 5
}
