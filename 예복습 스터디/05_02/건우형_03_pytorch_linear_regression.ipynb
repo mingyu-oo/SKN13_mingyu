{
 "cells": [
  {
   "cell_type": "markdown",
   "metadata": {
    "id": "qeBUlQMyYoq9",
    "jp-MarkdownHeadingCollapsed": true
   },
   "source": [
    "# LinearRegression from Scratch\n"
   ]
  },
  {
   "cell_type": "markdown",
   "metadata": {
    "id": "faUXX0raYoq_"
   },
   "source": [
    "# 구현할 것\n",
    "- 공부시간과 성적간의 관계를 모델링한다.\n",
    "    - **머신러닝 모델(모형)이란** 수집한 데이터를 기반으로 입력값(Feature)와 출력값(Target)간의 관계를 하나의 공식으로 정의한 함수이다. 그 공식을 찾는 과정을 **모델링**이라고 한다.\n",
    "    - 이 예제에서는 공부한 시험시간으로 점수를 예측하는 모델을 정의한다.\n",
    "    - 입력값과 출력값 간의 관계를 정의할 수있는 다양한 함수(공식)이 있다. 여기에서는 딥러닝과 관계가 있는 **Linear Regression** 을 사용해본다.\n",
    "\n",
    "# 데이터 확인\n",
    "- 입력데이터: 공부시간\n",
    "- 출력데이터: 성적\n",
    "\n",
    "|공부시간|점수|\n",
    "|-|-|\n",
    "|1|20|\n",
    "|2|40|\n",
    "|3|60|\n",
    "\n",
    "우리가 수집한 공부시간과 점수 데이터를 바탕으로 둘 간의 관계를 식으로 정의 할 수 있으면 **내가 몇시간 공부하면 점수를 얼마 받을 수 있는지 예측할 수 있게 된다.**   \n",
    "\n",
    "- X가 시간 y가 점수!\n",
    "\n",
    "수집한 데이터를 기반으로 앞으로 예측할 수있는 모형을 만드는 것이 머신러닝 모델링이다.\n",
    "\n",
    "  "
   ]
  },
  {
   "cell_type": "markdown",
   "metadata": {
    "id": "YCQMrzoQYoq_"
   },
   "source": [
    "## 학습(훈련) 데이터셋 만들기\n",
    "- 모델을 학습시키기 위한 데이터셋을 구성한다.\n",
    "- 입력데이터와 출력데이터을 각각 다른 행렬로 구성한다.\n",
    "- 하나의 데이터 포인트의 입력/출력 값은 같은 index에 정의한다."
   ]
  },
  {
   "cell_type": "markdown",
   "metadata": {
    "id": "3JSKJ_kmYorA"
   },
   "source": [
    "### 선형회귀 (Linear Regression)\n",
    "- Feature들의 가중합을 이용해 Target을 추정한다.\n",
    "- Feature에 곱해지는 가중치(weight)들은 각 Feature가 Target 얼마나 영향을 주는지 영향도가 된다.\n",
    "    - 음수일 경우는 target값을 줄이고 양수일 경우는 target값을 늘린다.\n",
    "    - 가중치가 0에 가까울 수록 target에 영향을 주지 않는 feature이고 0에서 멀수록 target에 많은 영향을 준다.\n",
    "- 모델 학습과정에서 가장 적절한 Feature의 가중치를 찾아야 한다.\n",
    "      \n",
    "\n",
    "\\begin{align}\n",
    "&\\large \\hat{y} = W\\cdot X + b\\\\\n",
    "&\\small \\hat{y}: \\text{모델추정값}\\\\\n",
    "&\\small W: \\text{가중치}\\\\\n",
    "&\\small X: \\text{Feature(입력값)}\\\\\n",
    "&\\small b: \\text{bias(편향)}\n",
    "\\end{align}\n",
    "\n"
   ]
  },
  {
   "cell_type": "markdown",
   "metadata": {
    "id": "9mmI8nY-YorA"
   },
   "source": [
    "## Train dataset 구성\n",
    "- Train data는 feature(input)와 target(output) 각각 2개의 행렬로 구성한다.\n",
    "- Feature의 행은 관측치(개별 데이터)를 열을 Feature(특성, 변수)를 표현한다. 이 문제에서는 `공부시간` 1개의 변수를 가진다.\n",
    "- Target은 모델이 예측할 대상으로 행은 개별 관측치, 열은 각 항목에 대한 정답으로 구성한다.   \n",
    "  이 문제에서 예측할 항목은 `시험점수` 한개이다."
   ]
  },
  {
   "cell_type": "code",
   "execution_count": 2,
   "metadata": {
    "executionInfo": {
     "elapsed": 12683,
     "status": "ok",
     "timestamp": 1746331298546,
     "user": {
      "displayName": "남궁건우",
      "userId": "00560730431062529338"
     },
     "user_tz": -540
    },
    "id": "NOUXz7KuYorA"
   },
   "outputs": [],
   "source": [
    "import torch"
   ]
  },
  {
   "cell_type": "code",
   "execution_count": 5,
   "metadata": {
    "colab": {
     "base_uri": "https://localhost:8080/"
    },
    "executionInfo": {
     "elapsed": 47,
     "status": "ok",
     "timestamp": 1746331303906,
     "user": {
      "displayName": "남궁건우",
      "userId": "00560730431062529338"
     },
     "user_tz": -540
    },
    "id": "p_MOV3a6YorA",
    "outputId": "236d9c62-93a2-4a1b-b443-aee43da93370"
   },
   "outputs": [
    {
     "name": "stdout",
     "output_type": "stream",
     "text": [
      "torch.float32 torch.Size([3, 1]) torch.Size([3, 1])\n"
     ]
    }
   ],
   "source": [
    "study_time = [[1],[2],[3]] # 2차원 리스트로 생성\n",
    "score = [[20], [30], [40]]\n",
    "\n",
    "# dataset 구성 -> torch.Tensor\n",
    "X_train = torch.tensor(study_time, dtype=torch.float32)\n",
    "y_train = torch.tensor(score, dtype=torch.float32)\n",
    "print(X_train.dtype,X_train.size(), y_train.size())"
   ]
  },
  {
   "cell_type": "code",
   "execution_count": 19,
   "metadata": {
    "id": "KcwXQEx7YorB"
   },
   "outputs": [
    {
     "data": {
      "text/plain": [
       "([[1], [2], [3]],\n",
       " [[20], [30], [40]],\n",
       " tensor([[1.],\n",
       "         [2.],\n",
       "         [3.]]),\n",
       " tensor([[20.],\n",
       "         [30.],\n",
       "         [40.]]))"
      ]
     },
     "execution_count": 19,
     "metadata": {},
     "output_type": "execute_result"
    }
   ],
   "source": [
    "study_time, score, X_train, y_train"
   ]
  },
  {
   "cell_type": "markdown",
   "metadata": {
    "id": "h6rQ1odiYorB"
   },
   "source": [
    "## 파라미터 (weight, bias) 정의\n",
    "- 학습대상/최적화 대상"
   ]
  },
  {
   "cell_type": "code",
   "execution_count": 25,
   "metadata": {
    "colab": {
     "base_uri": "https://localhost:8080/"
    },
    "executionInfo": {
     "elapsed": 15,
     "status": "ok",
     "timestamp": 1746331465805,
     "user": {
      "displayName": "남궁건우",
      "userId": "00560730431062529338"
     },
     "user_tz": -540
    },
    "id": "34Yfk7ffYorB",
    "outputId": "0292c9b4-d082-416a-f112-bb3912d3d544"
   },
   "outputs": [
    {
     "name": "stdout",
     "output_type": "stream",
     "text": [
      "초기 파라미터\n",
      "tensor([[1.5410]], requires_grad=True) torch.Size([1, 1])\n",
      "tensor([-0.2934], requires_grad=True) torch.Size([1])\n"
     ]
    }
   ],
   "source": [
    "# X * weight + bias\n",
    "torch.manual_seed(0)\n",
    "\n",
    "# weight/bias 정의\n",
    "## feature는 1개라서 w값도 1개를 갖고, x는 2x1이므로 shape이 1로 시작하여야하므로 w는 1x1 shape을 갖도록 해야한다.(행렬 내적곱)\n",
    "## weight는 표준정규분포의 랜덤값을 사용.\n",
    "weight = torch.randn(1,1,requires_grad=True)\n",
    "bias = torch.randn(1,requires_grad=True)\n",
    "\n",
    "print(\"초기 파라미터\")\n",
    "print(weight, weight.shape)\n",
    "print(bias,bias.shape)"
   ]
  },
  {
   "cell_type": "code",
   "execution_count": 26,
   "metadata": {
    "executionInfo": {
     "elapsed": 11,
     "status": "ok",
     "timestamp": 1746331526062,
     "user": {
      "displayName": "남궁건우",
      "userId": "00560730431062529338"
     },
     "user_tz": -540
    },
    "id": "t3Eq73scYorB"
   },
   "outputs": [],
   "source": [
    "# 모델 정의\n",
    "def linear_model(X):\n",
    "  return X @ weight + bias # 2x1 @ 1x1\n",
    "\n",
    "# 손실 함수(loss) 정의 -> MSE\n",
    "def loss_fn(y_pred, y): # (y예측, y정답) 파이토치에서는 예측값을 먼저 적는다.\n",
    "  return torch.mean((y_pred - y)**2)"
   ]
  },
  {
   "cell_type": "code",
   "execution_count": 27,
   "metadata": {
    "colab": {
     "base_uri": "https://localhost:8080/"
    },
    "executionInfo": {
     "elapsed": 53,
     "status": "ok",
     "timestamp": 1746331533661,
     "user": {
      "displayName": "남궁건우",
      "userId": "00560730431062529338"
     },
     "user_tz": -540
    },
    "id": "2IMqJoOaYorB",
    "outputId": "140a019b-4d87-48ba-d6c1-ec3e83abf178"
   },
   "outputs": [
    {
     "data": {
      "text/plain": [
       "tensor([[1.2476],\n",
       "        [2.7886],\n",
       "        [4.3296]], grad_fn=<AddBackward0>)"
      ]
     },
     "execution_count": 27,
     "metadata": {},
     "output_type": "execute_result"
    }
   ],
   "source": [
    "y_pred = linear_model(X_train)\n",
    "y_pred\n",
    "# 오차 확인, y_pred에 대한 X의 도함수를 grad_fn로 저장"
   ]
  },
  {
   "cell_type": "code",
   "execution_count": 28,
   "metadata": {
    "colab": {
     "base_uri": "https://localhost:8080/"
    },
    "executionInfo": {
     "elapsed": 14,
     "status": "ok",
     "timestamp": 1746331586906,
     "user": {
      "displayName": "남궁건우",
      "userId": "00560730431062529338"
     },
     "user_tz": -540
    },
    "id": "CQ4z2TiqYorB",
    "outputId": "903765fb-a224-47fd-bfcb-34504a989aad"
   },
   "outputs": [
    {
     "data": {
      "text/plain": [
       "tensor(788.1655, grad_fn=<MeanBackward0>)"
      ]
     },
     "execution_count": 28,
     "metadata": {},
     "output_type": "execute_result"
    }
   ],
   "source": [
    "loss_fn(y_pred, y_train) # 손실함수값 확인\n",
    "# 출력: tensor(788.1655, grad_fn=<MeanBackward0>)"
   ]
  },
  {
   "cell_type": "markdown",
   "metadata": {
    "id": "D4Y5wQfNYorB"
   },
   "source": [
    "### 모델링"
   ]
  },
  {
   "cell_type": "markdown",
   "metadata": {
    "id": "OV5LHtJfYorB"
   },
   "source": [
    "### 학습\n",
    "1. 모델을 이용해 추정한다.\n",
    "   - pred = model(input)\n",
    "1. loss를 계산한다.\n",
    "   - loss = loss_fn(pred, target)\n",
    "1. 계산된 loss를 파라미터에 대해 미분하여 계산한 gradient 값을 각 파라미터에 저장한다.\n",
    "   - loss.backward()\n",
    "1. optimizer를 이용해 파라미터를 update한다.\n",
    "   - optimizer.step()  \n",
    "1. 파라미터의 gradient(미분값)을 0으로 초기화한다.\n",
    "   - optimizer.zero_grad()\n",
    "- 위의 단계를 반복한다.   "
   ]
  },
  {
   "cell_type": "code",
   "execution_count": null,
   "metadata": {
    "colab": {
     "base_uri": "https://localhost:8080/"
    },
    "executionInfo": {
     "elapsed": 724,
     "status": "ok",
     "timestamp": 1746331861174,
     "user": {
      "displayName": "남궁건우",
      "userId": "00560730431062529338"
     },
     "user_tz": -540
    },
    "id": "UU4DRvidYorC",
    "outputId": "5cc261f9-39f6-4691-f729-bd54f27c2846"
   },
   "outputs": [
    {
     "name": "stdout",
     "output_type": "stream",
     "text": [
      "[0/2000] loss: 788.16552734375\n",
      "[100/2000] loss: 2.688096046447754\n",
      "[200/2000] loss: 1.6610833406448364\n",
      "[300/2000] loss: 1.0264500379562378\n",
      "[400/2000] loss: 0.6342833042144775\n",
      "[500/2000] loss: 0.39194726943969727\n",
      "[600/2000] loss: 0.2421988993883133\n",
      "[700/2000] loss: 0.14966492354869843\n",
      "[800/2000] loss: 0.09248432517051697\n",
      "[900/2000] loss: 0.05714975297451019\n",
      "[1000/2000] loss: 0.035314735025167465\n",
      "[1100/2000] loss: 0.021822037175297737\n",
      "[1200/2000] loss: 0.013484767638146877\n",
      "[1300/2000] loss: 0.00833258405327797\n",
      "[1400/2000] loss: 0.005149104166775942\n",
      "[1500/2000] loss: 0.0031818505376577377\n",
      "[1600/2000] loss: 0.0019661858677864075\n",
      "[1700/2000] loss: 0.001214961288496852\n",
      "[1800/2000] loss: 0.0007507337140850723\n",
      "[1900/2000] loss: 0.00046395635581575334\n",
      "[1999/2000] loss: 0.00028808476054109633\n"
     ]
    }
   ],
   "source": [
    "# 학습\n",
    "\n",
    "LEARNING_RATE = 0.01\n",
    "EPOCHS = 2000 # 반복횟수. 전체 train dataset을 한 번 다 학습하면 1회 epoch이라고 한다.\n",
    "\n",
    "for epoch in range(EPOCHS):\n",
    "    # 1. 모델을 이용한 추론\n",
    "    pred = linear_model(X_train)\n",
    "\n",
    "    # 2. loss 계산\n",
    "    loss = loss_fn(pred, y_train)\n",
    "\n",
    "    # 3. gradient 계산\n",
    "    loss.backward() # weight/bias의 grad값이 계산되서 각각의 grad 속성에 저장.\n",
    "\n",
    "    # 4. parameter(weight/bias) 업데이트\n",
    "    weight.data = weight.data - weight.grad * LEARNING_RATE\n",
    "    bias.data = bias.data - bias.grad * LEARNING_RATE\n",
    "\n",
    "    # 5. 파라미터 grad값 초기화\n",
    "    weight.grad = None\n",
    "    bias.grad = None\n",
    "    if epoch % 100 == 0 or epoch == EPOCHS - 1: # 조건문의 의미: 100번에 한번씩, 마지막 에폭이라면.\n",
    "        print(f\"[{epoch}/{EPOCHS}] loss: {loss.item()}\")\n",
    "\n",
    "# 아래 결과보면, 오차가 788에서 점점 작아진다. 작아지는 폭도 점점 작아지는데, grad값이 점점 작아지기 때문(변화율이 점점 줄어드는 것을 확인할 수 있다.)"
   ]
  },
  {
   "cell_type": "code",
   "execution_count": 38,
   "metadata": {
    "colab": {
     "base_uri": "https://localhost:8080/"
    },
    "executionInfo": {
     "elapsed": 28,
     "status": "ok",
     "timestamp": 1746331866987,
     "user": {
      "displayName": "남궁건우",
      "userId": "00560730431062529338"
     },
     "user_tz": -540
    },
    "id": "rsD1w78eYorC",
    "outputId": "01ff03ed-03d6-4ef7-ab5e-85adac496747"
   },
   "outputs": [
    {
     "data": {
      "text/plain": [
       "tensor([[19.9750],\n",
       "        [29.9946],\n",
       "        [40.0143]], grad_fn=<AddBackward0>)"
      ]
     },
     "execution_count": 38,
     "metadata": {},
     "output_type": "execute_result"
    }
   ],
   "source": [
    "# 추론\n",
    "pred2 = linear_model(X_train)\n",
    "pred2"
   ]
  },
  {
   "cell_type": "code",
   "execution_count": 33,
   "metadata": {
    "colab": {
     "base_uri": "https://localhost:8080/"
    },
    "executionInfo": {
     "elapsed": 4,
     "status": "ok",
     "timestamp": 1746331874865,
     "user": {
      "displayName": "남궁건우",
      "userId": "00560730431062529338"
     },
     "user_tz": -540
    },
    "id": "0zHim1UB5Wxs",
    "outputId": "ca2e31dd-8784-40a3-f8f5-5915060a9446"
   },
   "outputs": [
    {
     "data": {
      "text/plain": [
       "(tensor([[10.0197]], requires_grad=True), tensor([9.9553], requires_grad=True))"
      ]
     },
     "execution_count": 33,
     "metadata": {},
     "output_type": "execute_result"
    }
   ],
   "source": [
    "weight, bias"
   ]
  },
  {
   "cell_type": "markdown",
   "metadata": {
    "id": "rcOiCTgVYorC"
   },
   "source": [
    "# 다중 입력, 다중 출력\n",
    "- 다중입력: Feature가 여러개인 경우\n",
    "- 다중출력: Output 결과가 여러개인 경우\n",
    "\n",
    "다음 가상 데이터를 이용해 사과와 오렌지 수확량을 예측하는 선형회귀 모델을 정의한다.  \n",
    "[참조](https://www.kaggle.com/code/aakashns/pytorch-basics-linear-regression-from-scratch)\n",
    "\n",
    "\n",
    "|온도(F)|강수량(mm)|습도(%)|사과생산량(ton)|오렌지생산량|\n",
    "|-|-|-|-:|-:|\n",
    "|73|67|43|56|70|\n",
    "|91|88|64|81|101|\n",
    "|87|134|58|119|133|\n",
    "|102|43|37|22|37|\n",
    "|69|96|70|103|119|\n",
    "\n",
    "```\n",
    "사과수확량  = w11 * 온도 + w12 * 강수량 + w13 * 습도 + b1\n",
    "오렌지수확량 = w21 * 온도 + w22 * 강수량 + w23 *습도 + b2\n",
    "```\n",
    "\n",
    "- `온도`, `강수량`, `습도` 값이 **사과**와, **오렌지 수확량**에 어느정도 영향을 주는지 가중치를 찾는다.\n",
    "    - 모델은 사과의 수확량, 오렌지의 수확량 **두개의 예측결과를 출력**해야 한다.\n",
    "    - 사과에 대해 예측하기 위한 weight 3개와 오렌지에 대해 예측하기 위한 weight 3개 이렇게 두 묶음, 총 6개의 weight를 정의하고 학습을 통해 가장 적당한 값을 찾는다.\n",
    "        - `개별 과일를 예측하기 위한 weight들 @ feature들` 의 계산 결과를  **Node, Unit, Neuron** 이라고 한다.\n",
    "        - 두 과일에 대한 Unit들을 묶어서 **Layer** 라고 한다.\n",
    "- 목적은 우리가 수집한 train 데이터셋을 이용해 **정확한 예측을 위한 weight와 bias 들**을 찾는 것이다."
   ]
  },
  {
   "cell_type": "markdown",
   "metadata": {
    "id": "s87cZFIjYorC"
   },
   "source": [
    "## Train Dataset\n",
    "- Train data는 feature(input)와 target(output) 각각 2개의 행렬로 구성한다.\n",
    "- Feature의 행은 관측치(개별 데이터)를 열을 Feature(특성, 변수)를 표현한다. 이 문제에서는 `온도, 강수량, 습도` 세개의 변수를 가진다.\n",
    "- Target은 모델이 예측할 대상으로 행은 개별 관측치, 열은 각 항목에 대한 정답으로 구성한다. 이 문제에서 예측할 항목은 `사과수확량, 오렌지 수확량` 2개의 값이다."
   ]
  },
  {
   "cell_type": "code",
   "execution_count": 45,
   "metadata": {
    "executionInfo": {
     "elapsed": 48,
     "status": "ok",
     "timestamp": 1746332100925,
     "user": {
      "displayName": "남궁건우",
      "userId": "00560730431062529338"
     },
     "user_tz": -540
    },
    "id": "tPON_1DBYorC"
   },
   "outputs": [],
   "source": [
    "#  input: 생산환경 (temp, rainfall, humidity) : (5, 3)\n",
    "environs = [\n",
    "    [73, 67, 43],\n",
    "    [91, 88, 64],\n",
    "    [87, 134, 58],\n",
    "    [102, 43, 37],\n",
    "    [69, 96, 70]\n",
    "]\n",
    "\n",
    "# Targets: 생산량 - (apples, oranges) - (5, 2)\n",
    "apple_orange_output = [\n",
    "    [56, 70],\n",
    "    [81, 101],\n",
    "    [119, 133],\n",
    "    [22, 37],\n",
    "    [103, 119]\n",
    "]"
   ]
  },
  {
   "cell_type": "code",
   "execution_count": 46,
   "metadata": {
    "colab": {
     "base_uri": "https://localhost:8080/"
    },
    "executionInfo": {
     "elapsed": 15,
     "status": "ok",
     "timestamp": 1746332145647,
     "user": {
      "displayName": "남궁건우",
      "userId": "00560730431062529338"
     },
     "user_tz": -540
    },
    "id": "gODLPc_IYorC",
    "outputId": "2d005a96-0107-457e-d9f7-e24f69ebad0e"
   },
   "outputs": [
    {
     "data": {
      "text/plain": [
       "(torch.Size([5, 3]), torch.Size([5, 2]))"
      ]
     },
     "execution_count": 46,
     "metadata": {},
     "output_type": "execute_result"
    }
   ],
   "source": [
    "import torch\n",
    "# list Dataset을 torch.Tensor로 생성\n",
    "X = torch.tensor(environs, dtype=torch.float32)\n",
    "y = torch.tensor(apple_orange_output, dtype=torch.float32)\n",
    "X.shape, y.shape # X.shape: 속성이 3개, y.shape: 사과생산량, 오렌지생산량 2개"
   ]
  },
  {
   "cell_type": "code",
   "execution_count": 47,
   "metadata": {
    "colab": {
     "base_uri": "https://localhost:8080/"
    },
    "executionInfo": {
     "elapsed": 9,
     "status": "ok",
     "timestamp": 1746332146677,
     "user": {
      "displayName": "남궁건우",
      "userId": "00560730431062529338"
     },
     "user_tz": -540
    },
    "id": "rliHJVbeYorC",
    "outputId": "1896f115-206d-4187-bab8-2d03e9c18641"
   },
   "outputs": [
    {
     "data": {
      "text/plain": [
       "tensor([[ 73.,  67.,  43.],\n",
       "        [ 91.,  88.,  64.],\n",
       "        [ 87., 134.,  58.],\n",
       "        [102.,  43.,  37.],\n",
       "        [ 69.,  96.,  70.]])"
      ]
     },
     "execution_count": 47,
     "metadata": {},
     "output_type": "execute_result"
    }
   ],
   "source": [
    "X"
   ]
  },
  {
   "cell_type": "code",
   "execution_count": 48,
   "metadata": {
    "colab": {
     "base_uri": "https://localhost:8080/"
    },
    "executionInfo": {
     "elapsed": 12,
     "status": "ok",
     "timestamp": 1746332147190,
     "user": {
      "displayName": "남궁건우",
      "userId": "00560730431062529338"
     },
     "user_tz": -540
    },
    "id": "ff0aDgpfDW4h",
    "outputId": "babb7a68-6b56-4e7d-d037-ea372a19ba89"
   },
   "outputs": [
    {
     "data": {
      "text/plain": [
       "tensor([[ 56.,  70.],\n",
       "        [ 81., 101.],\n",
       "        [119., 133.],\n",
       "        [ 22.,  37.],\n",
       "        [103., 119.]])"
      ]
     },
     "execution_count": 48,
     "metadata": {},
     "output_type": "execute_result"
    }
   ],
   "source": [
    "y"
   ]
  },
  {
   "cell_type": "markdown",
   "metadata": {
    "id": "Y-qxRd0PYorC"
   },
   "source": [
    "## weight와 bias\n",
    "- weight: 각 feature들이 생산량에 영향을 주었는지의 가중치로 feature에 곱해줄 값.\n",
    "    - 사과, 오렌지의 생산량을 구해야 하므로 가중치가 두개가 된다.\n",
    "    - weight의 shape: `(3, 2)`\n",
    "- bias는 모든 feature들이 0일때 생산량이 얼마일지를 나타내는 값으로 feature와 weight간의 가중합 결과에 더해줄 값이다.\n",
    "    - 사과, 오렌지의 생산량을 구하므로 bias가 두개가 된다.\n",
    "    - bias의 shape: `(2, )`"
   ]
  },
  {
   "cell_type": "markdown",
   "metadata": {
    "id": "TEpCqGRAYorC"
   },
   "source": [
    "### Linear Regression model\n",
    "모델은 weights `w`와 inputs `x`의 내적(dot product)한 값에 bias `b`를 더하는 함수.\n",
    "\n",
    "$$\n",
    "\\hspace{2.5cm} X \\hspace{1.1cm} \\cdot \\hspace{1.2cm} W \\hspace{1.2cm}  + \\hspace{1cm} b \\hspace{2cm}\n",
    "$$\n",
    "\n",
    "$$\n",
    "\\left[ \\begin{array}{cc}\n",
    "73 & 67 & 43 \\\\\n",
    "91 & 88 & 64 \\\\\n",
    "\\vdots & \\vdots & \\vdots \\\\\n",
    "69 & 96 & 70\n",
    "\\end{array} \\right]\n",
    "%\n",
    "\\cdot\n",
    "%\n",
    "\\left[ \\begin{array}{cc}\n",
    "w_{11} & w_{21} \\\\\n",
    "w_{12} & w_{22} \\\\\n",
    "w_{13} & w_{23}\n",
    "\\end{array} \\right]\n",
    "%\n",
    "+\n",
    "%\n",
    "\\left[ \\begin{array}{cc}\n",
    "b_{1} & b_{2} \\\\\n",
    "b_{1} & b_{2} \\\\\n",
    "\\vdots & \\vdots \\\\\n",
    "b_{1} & b_{2} \\\\\n",
    "\\end{array} \\right]\n",
    "$$\n",
    "\n",
    "\n",
    "<center style=\"font-size:0.9em\">\n",
    "\n",
    "$w_{11},\\,w_{12},\\,w_{13}$: 사과 생산량 계산시 각 feature들(생산환경)에 곱할 가중치   <br>\n",
    "$w_{21},\\,w_{22},\\,w_{23}$: 오렌지 생산량 계산시 각 feature들(생산환경)에 곱할 가중치    \n",
    "</center>"
   ]
  },
  {
   "cell_type": "markdown",
   "metadata": {
    "id": "ygWumc1aYorD"
   },
   "source": [
    "<center>\n",
    "<img src=\"https://raw.githubusercontent.com/kgmyhGit/image_resource/main/deeplearning/figures/3_unit_layer.png\">\n",
    "</center>"
   ]
  },
  {
   "cell_type": "code",
   "execution_count": 53,
   "metadata": {
    "colab": {
     "base_uri": "https://localhost:8080/"
    },
    "executionInfo": {
     "elapsed": 11,
     "status": "ok",
     "timestamp": 1746332207577,
     "user": {
      "displayName": "남궁건우",
      "userId": "00560730431062529338"
     },
     "user_tz": -540
    },
    "id": "MDeXqg4pYorD",
    "outputId": "cc736846-ef35-473c-bed4-00fe9fc9303c"
   },
   "outputs": [
    {
     "data": {
      "text/plain": [
       "(torch.Size([3, 2]), torch.Size([2]))"
      ]
     },
     "execution_count": 53,
     "metadata": {},
     "output_type": "execute_result"
    }
   ],
   "source": [
    "# weight/bias 를 정의 -> 초기값은 random 값을 이용해서 생성.\n",
    "weight = torch.randn(3, 2, requires_grad=True) # 3은 feature 입력값 개수, 2는 예측할 값의 개수\n",
    "bias = torch.randn(2, requires_grad=True) # 2는 예측할 값의 개수\n",
    "\n",
    "weight.size(), bias.size()\n",
    "# weight: (3:input feature개수  ,  2:output 개수)\n",
    "# bias  : (2:output 개수, )"
   ]
  },
  {
   "cell_type": "code",
   "execution_count": 54,
   "metadata": {
    "colab": {
     "base_uri": "https://localhost:8080/"
    },
    "executionInfo": {
     "elapsed": 13,
     "status": "ok",
     "timestamp": 1746332254552,
     "user": {
      "displayName": "남궁건우",
      "userId": "00560730431062529338"
     },
     "user_tz": -540
    },
    "id": "pYkZW4ROYorD",
    "outputId": "cd67a2c9-97ab-46f1-b3e9-5414d62431f8"
   },
   "outputs": [
    {
     "data": {
      "text/plain": [
       "tensor([[-0.8920, -1.5091],\n",
       "        [ 0.3704,  1.4565],\n",
       "        [ 0.9398,  0.7748]], requires_grad=True)"
      ]
     },
     "execution_count": 54,
     "metadata": {},
     "output_type": "execute_result"
    }
   ],
   "source": [
    "#random으로 나온 초기값 weight\n",
    "weight"
   ]
  },
  {
   "cell_type": "code",
   "execution_count": 55,
   "metadata": {
    "colab": {
     "base_uri": "https://localhost:8080/"
    },
    "executionInfo": {
     "elapsed": 52,
     "status": "ok",
     "timestamp": 1746332276632,
     "user": {
      "displayName": "남궁건우",
      "userId": "00560730431062529338"
     },
     "user_tz": -540
    },
    "id": "0q8e0lmEYorD",
    "outputId": "8711d4c2-7e63-43db-ee36-eda0c617c0cf"
   },
   "outputs": [
    {
     "data": {
      "text/plain": [
       "tensor([0.1919, 1.2638], requires_grad=True)"
      ]
     },
     "execution_count": 55,
     "metadata": {},
     "output_type": "execute_result"
    }
   ],
   "source": [
    "#random으로 나온 초기값 bias\n",
    "bias"
   ]
  },
  {
   "cell_type": "code",
   "execution_count": 56,
   "metadata": {
    "colab": {
     "base_uri": "https://localhost:8080/"
    },
    "executionInfo": {
     "elapsed": 11,
     "status": "ok",
     "timestamp": 1746332282458,
     "user": {
      "displayName": "남궁건우",
      "userId": "00560730431062529338"
     },
     "user_tz": -540
    },
    "id": "lZ1WfEk0YorD",
    "outputId": "3424e3ac-786a-42e3-a071-8edc049cb6cb"
   },
   "outputs": [
    {
     "data": {
      "text/plain": [
       "tensor([[ 73.,  67.,  43.],\n",
       "        [ 91.,  88.,  64.],\n",
       "        [ 87., 134.,  58.],\n",
       "        [102.,  43.,  37.],\n",
       "        [ 69.,  96.,  70.]])"
      ]
     },
     "execution_count": 56,
     "metadata": {},
     "output_type": "execute_result"
    }
   ],
   "source": [
    "X"
   ]
  },
  {
   "cell_type": "code",
   "execution_count": 57,
   "metadata": {
    "executionInfo": {
     "elapsed": 2,
     "status": "ok",
     "timestamp": 1746332291033,
     "user": {
      "displayName": "남궁건우",
      "userId": "00560730431062529338"
     },
     "user_tz": -540
    },
    "id": "PAIe1ZYqYorD"
   },
   "outputs": [],
   "source": [
    "# 한번 학습(최적화)\n",
    "## 추론\n",
    "pred = X @ weight + bias"
   ]
  },
  {
   "cell_type": "code",
   "execution_count": 58,
   "metadata": {
    "colab": {
     "base_uri": "https://localhost:8080/"
    },
    "executionInfo": {
     "elapsed": 14,
     "status": "ok",
     "timestamp": 1746332293847,
     "user": {
      "displayName": "남궁건우",
      "userId": "00560730431062529338"
     },
     "user_tz": -540
    },
    "id": "VOWOKxTeYorD",
    "outputId": "619ce689-267e-4ad5-b122-e0d729ab51ef"
   },
   "outputs": [
    {
     "data": {
      "text/plain": [
       "tensor([[  0.3044,  22.0031],\n",
       "        [ 11.7628,  41.6975],\n",
       "        [ 26.7300, 110.0840],\n",
       "        [-40.0918, -61.3662],\n",
       "        [ 39.9887,  91.1990]], grad_fn=<AddBackward0>)"
      ]
     },
     "execution_count": 58,
     "metadata": {},
     "output_type": "execute_result"
    }
   ],
   "source": [
    "pred # 예측한 값"
   ]
  },
  {
   "cell_type": "code",
   "execution_count": 59,
   "metadata": {
    "colab": {
     "base_uri": "https://localhost:8080/"
    },
    "executionInfo": {
     "elapsed": 18,
     "status": "ok",
     "timestamp": 1746332304940,
     "user": {
      "displayName": "남궁건우",
      "userId": "00560730431062529338"
     },
     "user_tz": -540
    },
    "id": "k89ul2wjYorD",
    "outputId": "127bfc3f-df38-4f9d-9b67-21ca3fa72c1c"
   },
   "outputs": [
    {
     "data": {
      "text/plain": [
       "tensor([[ 56.,  70.],\n",
       "        [ 81., 101.],\n",
       "        [119., 133.],\n",
       "        [ 22.,  37.],\n",
       "        [103., 119.]])"
      ]
     },
     "execution_count": 59,
     "metadata": {},
     "output_type": "execute_result"
    }
   ],
   "source": [
    "y # 정답"
   ]
  },
  {
   "cell_type": "code",
   "execution_count": 60,
   "metadata": {
    "colab": {
     "base_uri": "https://localhost:8080/"
    },
    "executionInfo": {
     "elapsed": 14,
     "status": "ok",
     "timestamp": 1746332323617,
     "user": {
      "displayName": "남궁건우",
      "userId": "00560730431062529338"
     },
     "user_tz": -540
    },
    "id": "l3ZqPGfeYorD",
    "outputId": "6cfc6595-8224-47e4-adef-46a8c61e3825"
   },
   "outputs": [
    {
     "data": {
      "text/plain": [
       "tensor(4102.9790, grad_fn=<MeanBackward0>)"
      ]
     },
     "execution_count": 60,
     "metadata": {},
     "output_type": "execute_result"
    }
   ],
   "source": [
    "## loss 계산(MSE)\n",
    "loss = torch.mean((pred - y)**2) # 전체 추론한 결과의 평균오차를 계산.\n",
    "loss"
   ]
  },
  {
   "cell_type": "code",
   "execution_count": 61,
   "metadata": {
    "executionInfo": {
     "elapsed": 16,
     "status": "ok",
     "timestamp": 1746332327852,
     "user": {
      "displayName": "남궁건우",
      "userId": "00560730431062529338"
     },
     "user_tz": -540
    },
    "id": "31n3P57UYorD"
   },
   "outputs": [],
   "source": [
    "# loss를 가지고 파라미터들(weight들, bias들)의 gradient 계산.\n",
    "loss.backward()"
   ]
  },
  {
   "cell_type": "code",
   "execution_count": 62,
   "metadata": {
    "colab": {
     "base_uri": "https://localhost:8080/"
    },
    "executionInfo": {
     "elapsed": 10,
     "status": "ok",
     "timestamp": 1746332347623,
     "user": {
      "displayName": "남궁건우",
      "userId": "00560730431062529338"
     },
     "user_tz": -540
    },
    "id": "1yzpnOkNYorD",
    "outputId": "91685c47-6820-41a1-a41f-090b0527c907"
   },
   "outputs": [
    {
     "data": {
      "text/plain": [
       "(tensor([[-0.8920, -1.5091],\n",
       "         [ 0.3704,  1.4565],\n",
       "         [ 0.9398,  0.7748]]),\n",
       " tensor([[-5815.0000, -4569.1216],\n",
       "         [-6181.5396, -3680.7585],\n",
       "         [-3777.1885, -2554.7939]]))"
      ]
     },
     "execution_count": 62,
     "metadata": {},
     "output_type": "execute_result"
    }
   ],
   "source": [
    "weight.data, weight.grad"
   ]
  },
  {
   "cell_type": "code",
   "execution_count": 63,
   "metadata": {
    "colab": {
     "base_uri": "https://localhost:8080/"
    },
    "executionInfo": {
     "elapsed": 14,
     "status": "ok",
     "timestamp": 1746332354798,
     "user": {
      "displayName": "남궁건우",
      "userId": "00560730431062529338"
     },
     "user_tz": -540
    },
    "id": "I1hAaX0BYorH",
    "outputId": "fa81b8d8-2a9a-48f1-ea34-af1abfc16697"
   },
   "outputs": [
    {
     "data": {
      "text/plain": [
       "(tensor([0.1919, 1.2638]), tensor([-68.4612, -51.2765]))"
      ]
     },
     "execution_count": 63,
     "metadata": {},
     "output_type": "execute_result"
    }
   ],
   "source": [
    "bias.data, bias.grad"
   ]
  },
  {
   "cell_type": "code",
   "execution_count": 64,
   "metadata": {
    "executionInfo": {
     "elapsed": 8,
     "status": "ok",
     "timestamp": 1746332384056,
     "user": {
      "displayName": "남궁건우",
      "userId": "00560730431062529338"
     },
     "user_tz": -540
    },
    "id": "bM4N0ojSYorH"
   },
   "outputs": [],
   "source": [
    "# 파라미터 업데이트\n",
    "lr = 0.00001 # learning rate\n",
    "weight.data = weight.data - lr * weight.grad\n",
    "bias.data = bias.data - lr * bias.grad"
   ]
  },
  {
   "cell_type": "code",
   "execution_count": 65,
   "metadata": {
    "colab": {
     "base_uri": "https://localhost:8080/"
    },
    "executionInfo": {
     "elapsed": 10,
     "status": "ok",
     "timestamp": 1746332386793,
     "user": {
      "displayName": "남궁건우",
      "userId": "00560730431062529338"
     },
     "user_tz": -540
    },
    "id": "GkCol6dEYorH",
    "outputId": "63c8badc-ce50-41ec-9cde-85e77776f846"
   },
   "outputs": [
    {
     "data": {
      "text/plain": [
       "tensor([[-0.8338, -1.4634],\n",
       "        [ 0.4322,  1.4933],\n",
       "        [ 0.9776,  0.8004]])"
      ]
     },
     "execution_count": 65,
     "metadata": {},
     "output_type": "execute_result"
    }
   ],
   "source": [
    "weight.data"
   ]
  },
  {
   "cell_type": "code",
   "execution_count": 66,
   "metadata": {
    "executionInfo": {
     "elapsed": 37,
     "status": "ok",
     "timestamp": 1746332404588,
     "user": {
      "displayName": "남궁건우",
      "userId": "00560730431062529338"
     },
     "user_tz": -540
    },
    "id": "zhCDCMO_YorH"
   },
   "outputs": [],
   "source": [
    "## 업데이트된 파라미터로 추정 -> loss 계산\n",
    "pred2 = X @ weight + bias\n",
    "loss2 = torch.mean((pred2 - y)**2)"
   ]
  },
  {
   "cell_type": "code",
   "execution_count": 67,
   "metadata": {
    "colab": {
     "base_uri": "https://localhost:8080/"
    },
    "executionInfo": {
     "elapsed": 16,
     "status": "ok",
     "timestamp": 1746332443518,
     "user": {
      "displayName": "남궁건우",
      "userId": "00560730431062529338"
     },
     "user_tz": -540
    },
    "id": "HX2yGBlSYorH",
    "outputId": "99c6c711-eb58-443d-83d2-c808905e1f45"
   },
   "outputs": [
    {
     "name": "stdout",
     "output_type": "stream",
     "text": [
      "4102.97900390625 2943.798583984375\n"
     ]
    }
   ],
   "source": [
    "print(loss.item(), loss2.item())\n",
    "# 아래의 loss는 사과와 오렌지에 관한 loss 정보가 함께 있다.\n",
    "# 사과와 오렌지에 대한 각각의 loss를 구할 수 있다. 이때는 사과와 오렌지에 대한 중요도가 다를때 나눠서 구하기도 한다.\n",
    "# 결국엔 total loss를 구해야하기는 하지만, 따로 구하는건 나중에 배울 예정이고 지금은 전체 loss를 구하여 진행하는 것만 배움"
   ]
  },
  {
   "cell_type": "markdown",
   "metadata": {
    "id": "PuoJI7-rYorH"
   },
   "source": [
    "##  모델링"
   ]
  },
  {
   "cell_type": "code",
   "execution_count": 71,
   "metadata": {
    "executionInfo": {
     "elapsed": 11,
     "status": "ok",
     "timestamp": 1746332446244,
     "user": {
      "displayName": "남궁건우",
      "userId": "00560730431062529338"
     },
     "user_tz": -540
    },
    "id": "m6yLXiaYYorH"
   },
   "outputs": [],
   "source": [
    "weight = torch.randn(3, 2, requires_grad=True)\n",
    "bias = torch.randn(2, requires_grad=True)\n",
    "\n",
    "## 모델 정의\n",
    "def model(X):\n",
    "    return X @ weight + bias\n",
    "\n",
    "## loss 함수(MSE)\n",
    "def loss_fn(pred, y):\n",
    "    return torch.mean((pred - y)**2) # 전체 오차의 평균."
   ]
  },
  {
   "cell_type": "code",
   "execution_count": 72,
   "metadata": {
    "colab": {
     "base_uri": "https://localhost:8080/"
    },
    "executionInfo": {
     "elapsed": 14,
     "status": "ok",
     "timestamp": 1746332447624,
     "user": {
      "displayName": "남궁건우",
      "userId": "00560730431062529338"
     },
     "user_tz": -540
    },
    "id": "jtCUFayKYorH",
    "outputId": "4adad39f-931e-4910-e195-fdd77c84c059"
   },
   "outputs": [
    {
     "data": {
      "text/plain": [
       "torch.Size([5, 3])"
      ]
     },
     "execution_count": 72,
     "metadata": {},
     "output_type": "execute_result"
    }
   ],
   "source": [
    "X.shape"
   ]
  },
  {
   "cell_type": "code",
   "execution_count": 73,
   "metadata": {
    "colab": {
     "base_uri": "https://localhost:8080/"
    },
    "collapsed": true,
    "executionInfo": {
     "elapsed": 1206,
     "status": "ok",
     "timestamp": 1746332463170,
     "user": {
      "displayName": "남궁건우",
      "userId": "00560730431062529338"
     },
     "user_tz": -540
    },
    "id": "xwkPeE7nYorH",
    "jupyter": {
     "outputs_hidden": true
    },
    "outputId": "2dc8d543-66da-4e7f-892e-d6079e4a55a0"
   },
   "outputs": [
    {
     "name": "stdout",
     "output_type": "stream",
     "text": [
      "[0001/5000] - 73433.14844\n",
      "[0501/5000] - 42.25288\n",
      "[1001/5000] - 16.48940\n",
      "[1501/5000] - 6.79529\n",
      "[2001/5000] - 2.98609\n",
      "[2501/5000] - 1.48901\n",
      "[3001/5000] - 0.90062\n",
      "[3501/5000] - 0.66938\n",
      "[4001/5000] - 0.57850\n",
      "[4501/5000] - 0.54277\n",
      "[5000/5000] - 0.52875\n"
     ]
    }
   ],
   "source": [
    "epochs = 5000\n",
    "lr = 0.00001  # 1e-5\n",
    "for epoch in range(epochs):\n",
    "    # 1. 추론\n",
    "    pred = model(X)\n",
    "\n",
    "    # 2. loss 계산\n",
    "    loss = loss_fn(pred, y)\n",
    "\n",
    "    # 3. 파라미터 들의 gradient 계산\n",
    "    loss.backward()\n",
    "\n",
    "    # 4. 파라미터 업데이트\n",
    "    weight.data = weight.data - lr * weight.grad\n",
    "    bias.data = bias.data - lr * bias.grad\n",
    "\n",
    "    # 5. gradient 초기화\n",
    "    weight.grad = None\n",
    "    bias.grad = None\n",
    "\n",
    "    ## 100 epoch, 마지막 epoch에서 loss를 출력 => 학습 과정 log를 출력\n",
    "    if epoch % 500 == 0 or epoch == epochs-1:\n",
    "        print(f\"[{epoch+1:04d}/{epochs}] - {loss.item():.5f}\")\n",
    "\n",
    "\n",
    "  # loss가 점점 줄어드는것 확인!"
   ]
  },
  {
   "cell_type": "code",
   "execution_count": 75,
   "metadata": {},
   "outputs": [
    {
     "data": {
      "text/plain": [
       "tensor([[ 57.1556,  70.3683],\n",
       "        [ 82.2541, 100.5551],\n",
       "        [118.6009, 133.1258],\n",
       "        [ 21.0561,  37.0582],\n",
       "        [102.0124, 118.9706]], grad_fn=<AddBackward0>)"
      ]
     },
     "execution_count": 75,
     "metadata": {},
     "output_type": "execute_result"
    }
   ],
   "source": [
    "pred"
   ]
  },
  {
   "cell_type": "code",
   "execution_count": 74,
   "metadata": {
    "colab": {
     "base_uri": "https://localhost:8080/"
    },
    "executionInfo": {
     "elapsed": 15,
     "status": "ok",
     "timestamp": 1746332470457,
     "user": {
      "displayName": "남궁건우",
      "userId": "00560730431062529338"
     },
     "user_tz": -540
    },
    "id": "YkUfeVG0YorH",
    "outputId": "1f7dae04-a91c-4d63-bb6e-9e84c1bdf454"
   },
   "outputs": [
    {
     "data": {
      "text/plain": [
       "tensor([[ 57.1556,  70.3683],\n",
       "        [ 82.2541, 100.5552],\n",
       "        [118.6010, 133.1257],\n",
       "        [ 21.0561,  37.0581],\n",
       "        [102.0123, 118.9708]], grad_fn=<AddBackward0>)"
      ]
     },
     "execution_count": 74,
     "metadata": {},
     "output_type": "execute_result"
    }
   ],
   "source": [
    "# 새로운 데이터로 추론\n",
    "p = model(X)\n",
    "p"
   ]
  },
  {
   "cell_type": "code",
   "execution_count": 40,
   "metadata": {
    "colab": {
     "base_uri": "https://localhost:8080/"
    },
    "executionInfo": {
     "elapsed": 12,
     "status": "ok",
     "timestamp": 1746332473363,
     "user": {
      "displayName": "남궁건우",
      "userId": "00560730431062529338"
     },
     "user_tz": -540
    },
    "id": "AExZxhMxYorH",
    "outputId": "1c15b100-c13a-4580-d3ec-eda124c2b8d2"
   },
   "outputs": [
    {
     "data": {
      "text/plain": [
       "tensor([[ 56.,  70.],\n",
       "        [ 81., 101.],\n",
       "        [119., 133.],\n",
       "        [ 22.,  37.],\n",
       "        [103., 119.]])"
      ]
     },
     "execution_count": 40,
     "metadata": {},
     "output_type": "execute_result"
    }
   ],
   "source": [
    "y # 새로운 데이터로 추론한 p의 값들과 정답인 y값들의 차이를 보면 차이가 매우 적어졌다!"
   ]
  },
  {
   "cell_type": "code",
   "execution_count": 77,
   "metadata": {
    "colab": {
     "base_uri": "https://localhost:8080/"
    },
    "executionInfo": {
     "elapsed": 11,
     "status": "ok",
     "timestamp": 1746332487567,
     "user": {
      "displayName": "남궁건우",
      "userId": "00560730431062529338"
     },
     "user_tz": -540
    },
    "id": "wYpj3392YorH",
    "outputId": "d26c4b3a-6577-42a5-face-a090198857a0"
   },
   "outputs": [
    {
     "data": {
      "text/plain": [
       "(torch.Size([5, 3]), torch.Size([1, 3]))"
      ]
     },
     "execution_count": 77,
     "metadata": {},
     "output_type": "execute_result"
    }
   ],
   "source": [
    "new_x = torch.tensor([68, 82, 56], dtype=torch.float32)\n",
    "new_x = new_x.unsqueeze(dim=0)\n",
    "X.shape, new_x.shape # shape은 3으로 맞춰줘야한다. 하나의 지역에 대해서만 보려는 것이므로 0축은 1이 들어가도록 unsqueeze(dim=0) 넣어주고, 1축은 3이 들어가야함"
   ]
  },
  {
   "cell_type": "code",
   "execution_count": 78,
   "metadata": {
    "colab": {
     "base_uri": "https://localhost:8080/"
    },
    "executionInfo": {
     "elapsed": 6,
     "status": "ok",
     "timestamp": 1746332488169,
     "user": {
      "displayName": "남궁건우",
      "userId": "00560730431062529338"
     },
     "user_tz": -540
    },
    "id": "0bC_2UicYorI",
    "outputId": "68cc8eb1-6a28-4b02-c916-453a9a73afb2"
   },
   "outputs": [
    {
     "data": {
      "text/plain": [
       "tensor([[80.8643, 95.5258]], grad_fn=<AddBackward0>)"
      ]
     },
     "execution_count": 78,
     "metadata": {},
     "output_type": "execute_result"
    }
   ],
   "source": [
    "model(new_x)"
   ]
  },
  {
   "cell_type": "markdown",
   "metadata": {
    "id": "60Ds9E5YYorI"
   },
   "source": [
    "# pytorch built-in 모델을 사용해 Linear Regression 구현"
   ]
  },
  {
   "cell_type": "code",
   "execution_count": 79,
   "metadata": {
    "executionInfo": {
     "elapsed": 9,
     "status": "ok",
     "timestamp": 1746332491885,
     "user": {
      "displayName": "남궁건우",
      "userId": "00560730431062529338"
     },
     "user_tz": -540
    },
    "id": "qU2_IKuBYorI"
   },
   "outputs": [],
   "source": [
    "inputs = torch.tensor(\n",
    "    [[73, 67, 43],\n",
    "     [91, 88, 64],\n",
    "     [87, 134, 58],\n",
    "     [102, 43, 37],\n",
    "     [69, 96, 70]], dtype=torch.float32)"
   ]
  },
  {
   "cell_type": "code",
   "execution_count": 80,
   "metadata": {
    "executionInfo": {
     "elapsed": 4,
     "status": "ok",
     "timestamp": 1746332492296,
     "user": {
      "displayName": "남궁건우",
      "userId": "00560730431062529338"
     },
     "user_tz": -540
    },
    "id": "jvFLmkkrYorI"
   },
   "outputs": [],
   "source": [
    "targets = torch.tensor(\n",
    "    [[56, 70],\n",
    "    [81, 101],\n",
    "    [119, 133],\n",
    "    [22, 37],\n",
    "    [103, 119]], dtype=torch.float32)"
   ]
  },
  {
   "cell_type": "markdown",
   "metadata": {
    "id": "fqmZ86vHYorI"
   },
   "source": [
    "## torch.nn.Linear\n",
    "Pytorch는 torch.nn.Linear 클래스를 통해 Linear Regression 모델을 제공한다.  \n",
    "torch.nn.Linear에 입력 feature의 개수와 출력 값의 개수를 지정하면 random 값으로 초기화한 weight와 bias들을 생성해 모델을 구성한다. (ex. 위에서의 경우, 3과 2를 지정해준것을 말함)\n",
    "- 위에서 만든 y = w*X + b 에 관한 모델을 만드는 객체\n",
    "- `torch.nn.Linear(input feature의 개수 , output 값의 개수)`"
   ]
  },
  {
   "cell_type": "markdown",
   "metadata": {
    "id": "SDtIg6AWYorI"
   },
   "source": [
    "## Optimizer와 Loss 함수 정의\n",
    "- **Optimizer**: 계산된 gradient값을 이용해 파라미터들을 업데이트 하는 함수\n",
    "- **Loss 함수**: 정답과 모델이 예측한 값사이의 차이(오차)를 계산하는 함수.\n",
    "  - 모델을 최적화하는 것은 이 함수의 값을 최소화하는 것을 말한다.\n",
    "- `torch.optim` 모듈에 다양한 Optimizer 클래스가 구현되있다.\n",
    "- `torch.nn` 또는 `torch.nn.functional` 모듈에 다양한 Loss 함수가 제공된다."
   ]
  },
  {
   "cell_type": "code",
   "execution_count": 81,
   "metadata": {
    "executionInfo": {
     "elapsed": 4,
     "status": "ok",
     "timestamp": 1746332510656,
     "user": {
      "displayName": "남궁건우",
      "userId": "00560730431062529338"
     },
     "user_tz": -540
    },
    "id": "NaPSgVHrYorI"
   },
   "outputs": [],
   "source": [
    "# 선형회귀 모델을 정의. torch.nn.Linear 클래스\n",
    "import torch\n",
    "import torch.nn as nn\n",
    "\n",
    "model = nn.Linear(3, 2)  # 3: input feature 개수, 2: output 수"
   ]
  },
  {
   "cell_type": "code",
   "execution_count": 82,
   "metadata": {
    "executionInfo": {
     "elapsed": 54,
     "status": "ok",
     "timestamp": 1746332515520,
     "user": {
      "displayName": "남궁건우",
      "userId": "00560730431062529338"
     },
     "user_tz": -540
    },
    "id": "w-lkuTtbYorI"
   },
   "outputs": [],
   "source": [
    "# loss 함수\n",
    "loss_fn = torch.nn.MSELoss()  # 클래스\n",
    "# loss_fn = torch.nn.functional.mse_loss # 함수"
   ]
  },
  {
   "cell_type": "code",
   "execution_count": 83,
   "metadata": {
    "executionInfo": {
     "elapsed": 6785,
     "status": "ok",
     "timestamp": 1746332583051,
     "user": {
      "displayName": "남궁건우",
      "userId": "00560730431062529338"
     },
     "user_tz": -540
    },
    "id": "7UctCFq4YorI"
   },
   "outputs": [],
   "source": [
    "# optimizer (torch.optim 모듈에 정의): weight.data = weight.data - lr * weight.grad\n",
    "# optimizer : 파라미터를 업데이트하는 로직 or 초기화하는 로직을 가지고 있다.\n",
    "# 많은 optimizer 중에서 SGD를 쓰는 것. SGD가 가장 기본의 것이다.\n",
    "optimizer = torch.optim.SGD(\n",
    "    model.parameters(), # 최적화 대상 파라미터들을 model에서 조회해서 전달. optimizer와 파라미터들을 함께 넘겨주어 진행함. 우리가 아까 직접계산하던걸 optimizer에게 맡기는 것.\n",
    "    lr = 0.00001,       # Learning Rage\n",
    ")"
   ]
  },
  {
   "cell_type": "code",
   "execution_count": 84,
   "metadata": {
    "colab": {
     "base_uri": "https://localhost:8080/"
    },
    "executionInfo": {
     "elapsed": 4,
     "status": "ok",
     "timestamp": 1746332583056,
     "user": {
      "displayName": "남궁건우",
      "userId": "00560730431062529338"
     },
     "user_tz": -540
    },
    "id": "CHkgKGwSYorI",
    "outputId": "e8bc0e87-c193-44c5-81b6-695fea5b222a"
   },
   "outputs": [
    {
     "data": {
      "text/plain": [
       "[Parameter containing:\n",
       " tensor([[ 0.1081, -0.0973, -0.0950],\n",
       "         [-0.2643,  0.2220, -0.3420]], requires_grad=True),\n",
       " Parameter containing:\n",
       " tensor([0.2117, 0.2920], requires_grad=True)]"
      ]
     },
     "execution_count": 84,
     "metadata": {},
     "output_type": "execute_result"
    }
   ],
   "source": [
    "list(model.parameters())"
   ]
  },
  {
   "cell_type": "markdown",
   "metadata": {
    "id": "DfF_V1R0YorI"
   },
   "source": [
    "## Model Train"
   ]
  },
  {
   "cell_type": "code",
   "execution_count": 85,
   "metadata": {
    "colab": {
     "base_uri": "https://localhost:8080/"
    },
    "collapsed": true,
    "executionInfo": {
     "elapsed": 2598,
     "status": "ok",
     "timestamp": 1746332588566,
     "user": {
      "displayName": "남궁건우",
      "userId": "00560730431062529338"
     },
     "user_tz": -540
    },
    "id": "FAnZifj6YorI",
    "jupyter": {
     "outputs_hidden": true
    },
    "outputId": "ac6ff056-cff7-446d-d0ef-5b889c8116c4",
    "scrolled": true
   },
   "outputs": [
    {
     "name": "stdout",
     "output_type": "stream",
     "text": [
      "[0001/5000] - 10908.4794921875\n",
      "[0501/5000] - 21.733016967773438\n",
      "[1001/5000] - 8.561811447143555\n",
      "[1501/5000] - 3.681931972503662\n",
      "[2001/5000] - 1.764573335647583\n",
      "[2501/5000] - 1.0110294818878174\n",
      "[3001/5000] - 0.7148568034172058\n",
      "[3501/5000] - 0.5984665155410767\n",
      "[4001/5000] - 0.5527141690254211\n",
      "[4501/5000] - 0.5347356796264648\n",
      "[5000/5000] - 0.5276749134063721\n"
     ]
    }
   ],
   "source": [
    "epochs = 5000\n",
    "\n",
    "for epoch in range(epochs):\n",
    "\n",
    "    # 추론\n",
    "    pred = model(inputs)\n",
    "\n",
    "    # loss 계산\n",
    "    loss = loss_fn(pred, targets) # torch.nn.functional.mse_loss(pred, targets) # (모델추정값, 정답)\n",
    "\n",
    "    # gradient 계산\n",
    "    loss.backward()\n",
    "\n",
    "    # 파라미터 업데이트: optimizer.step()\n",
    "    optimizer.step()\n",
    "\n",
    "    # 파라미터 초기화 w.grad=None, b.grad=None\n",
    "    optimizer.zero_grad()\n",
    "\n",
    "    # 현재 epoch 학습 결과를 log로 출력\n",
    "    if epoch % 500 == 0 or epoch == epochs-1:\n",
    "        print(f\"[{epoch+1:04d}/{epochs}] - {loss.item()}\")"
   ]
  },
  {
   "cell_type": "code",
   "execution_count": 86,
   "metadata": {
    "executionInfo": {
     "elapsed": 3,
     "status": "ok",
     "timestamp": 1746332608742,
     "user": {
      "displayName": "남궁건우",
      "userId": "00560730431062529338"
     },
     "user_tz": -540
    },
    "id": "xTLlTLHzYorJ"
   },
   "outputs": [],
   "source": [
    "# 추론 => gradient 계산을 할 필요가 없다. ==> grad_fn을 만들 필요가 없다. 그래서 with torch.no_grad() 블록에서 추론 작업을 실행한다.\n",
    "with torch.no_grad():\n",
    "    pred = model(inputs)"
   ]
  },
  {
   "cell_type": "code",
   "execution_count": 88,
   "metadata": {
    "colab": {
     "base_uri": "https://localhost:8080/"
    },
    "executionInfo": {
     "elapsed": 14,
     "status": "ok",
     "timestamp": 1746332612081,
     "user": {
      "displayName": "남궁건우",
      "userId": "00560730431062529338"
     },
     "user_tz": -540
    },
    "id": "4iMccfHbYorJ",
    "outputId": "31fbf275-3bd8-4f55-93a3-28a40773e16f"
   },
   "outputs": [
    {
     "data": {
      "text/plain": [
       "tensor([[ 57.2042,  70.3661],\n",
       "        [ 82.1541, 100.5789],\n",
       "        [118.7511, 133.0751],\n",
       "        [ 21.0949,  37.0439],\n",
       "        [101.8624, 119.0212]])"
      ]
     },
     "execution_count": 88,
     "metadata": {},
     "output_type": "execute_result"
    }
   ],
   "source": [
    "pred"
   ]
  },
  {
   "cell_type": "code",
   "execution_count": 87,
   "metadata": {
    "colab": {
     "base_uri": "https://localhost:8080/"
    },
    "executionInfo": {
     "elapsed": 12,
     "status": "ok",
     "timestamp": 1746332610810,
     "user": {
      "displayName": "남궁건우",
      "userId": "00560730431062529338"
     },
     "user_tz": -540
    },
    "id": "soJdQd1kYorJ",
    "outputId": "714e036e-e040-480f-8d75-86c9d8a56b2c"
   },
   "outputs": [
    {
     "data": {
      "text/plain": [
       "tensor([[ 56.,  70.],\n",
       "        [ 81., 101.],\n",
       "        [119., 133.],\n",
       "        [ 22.,  37.],\n",
       "        [103., 119.]])"
      ]
     },
     "execution_count": 87,
     "metadata": {},
     "output_type": "execute_result"
    }
   ],
   "source": [
    "targets"
   ]
  },
  {
   "cell_type": "code",
   "execution_count": 91,
   "metadata": {
    "executionInfo": {
     "elapsed": 39,
     "status": "ok",
     "timestamp": 1746332636174,
     "user": {
      "displayName": "남궁건우",
      "userId": "00560730431062529338"
     },
     "user_tz": -540
    },
    "id": "wZuwXBABYorJ"
   },
   "outputs": [],
   "source": [
    "# 학습 로직을 함수 구현\n",
    "def train(inputs, targets, epochs, model, loss_fn, optimizer):\n",
    "\n",
    "    for epoch in range(epochs):\n",
    "\n",
    "        # 추론\n",
    "        pred = model(inputs)\n",
    "\n",
    "        # loss 계산\n",
    "        loss = loss_fn(pred, targets) # torch.nn.functional.mse_loss(pred, targets) # (모델추정값, 정답)\n",
    "\n",
    "        # gradient 계산\n",
    "        loss.backward()\n",
    "        # 파라미터 업데이트: optimizer.step()\n",
    "\n",
    "        optimizer.step()\n",
    "        # 파라미터 초기화 w.grad=None, b.grad=None\n",
    "        optimizer.zero_grad()\n",
    "\n",
    "        # 현재 epoch 학습 결과를 log로 출력\n",
    "        if epoch % 500 == 0 or epoch == epochs-1:\n",
    "            print(f\"[{epoch+1:04d}/{epochs}] - {loss.item()}\")"
   ]
  },
  {
   "cell_type": "code",
   "execution_count": 90,
   "metadata": {
    "executionInfo": {
     "elapsed": 15,
     "status": "ok",
     "timestamp": 1746332636559,
     "user": {
      "displayName": "남궁건우",
      "userId": "00560730431062529338"
     },
     "user_tz": -540
    },
    "id": "8E9vRaedYorJ"
   },
   "outputs": [],
   "source": [
    "model = nn.Linear(3, 2)\n",
    "optimizer = torch.optim.SGD(model.parameters(), lr=0.0001)"
   ]
  },
  {
   "cell_type": "code",
   "execution_count": 92,
   "metadata": {
    "colab": {
     "base_uri": "https://localhost:8080/"
    },
    "collapsed": true,
    "executionInfo": {
     "elapsed": 1957,
     "status": "ok",
     "timestamp": 1746332638952,
     "user": {
      "displayName": "남궁건우",
      "userId": "00560730431062529338"
     },
     "user_tz": -540
    },
    "id": "KUEji9s7YorJ",
    "jupyter": {
     "outputs_hidden": true
    },
    "outputId": "2f15a121-bcd0-4f01-9eb6-0e9f590702c5"
   },
   "outputs": [
    {
     "name": "stdout",
     "output_type": "stream",
     "text": [
      "[0001/5000] - 6734.3701171875\n",
      "[0501/5000] - 0.5093660354614258\n",
      "[1001/5000] - 0.5035384297370911\n",
      "[1501/5000] - 0.5035175085067749\n",
      "[2001/5000] - 0.5035022497177124\n",
      "[2501/5000] - 0.5034852027893066\n",
      "[3001/5000] - 0.5034717917442322\n",
      "[3501/5000] - 0.5034547448158264\n",
      "[4001/5000] - 0.5034385919570923\n",
      "[4501/5000] - 0.5034195780754089\n",
      "[5000/5000] - 0.5034052133560181\n"
     ]
    }
   ],
   "source": [
    "train(inputs, targets, 5000, model, nn.functional.mse_loss, optimizer)"
   ]
  }
 ],
 "metadata": {
  "colab": {
   "provenance": []
  },
  "kernelspec": {
   "display_name": "dl",
   "language": "python",
   "name": "python3"
  },
  "language_info": {
   "codemirror_mode": {
    "name": "ipython",
    "version": 3
   },
   "file_extension": ".py",
   "mimetype": "text/x-python",
   "name": "python",
   "nbconvert_exporter": "python",
   "pygments_lexer": "ipython3",
   "version": "3.12.10"
  }
 },
 "nbformat": 4,
 "nbformat_minor": 0
}
