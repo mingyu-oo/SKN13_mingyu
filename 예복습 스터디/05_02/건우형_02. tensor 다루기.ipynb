{
 "cells": [
  {
   "cell_type": "markdown",
   "id": "84c0614b",
   "metadata": {
    "id": "84c0614b"
   },
   "source": [
    "# Tensor 생성\n",
    "- 파이토치에서 데이터를 저장하는 자료구조\n",
    "- 넘파이의 ndarray와 성격, 사용법이 유사하다.\n",
    "\n",
    "> **pytorch의 tensor는 숫자 데이터 타입만 지원한다.**"
   ]
  },
  {
   "cell_type": "markdown",
   "id": "06d118ec",
   "metadata": {
    "id": "06d118ec"
   },
   "source": [
    "##  원하는 형태(shape) 텐서 생성\n",
    "- **torch.tensor(자료구조 \\[, dtype\\])**\n",
    "    - 지정한 dtype(Data type)에 맞는 Tensor객체를 생성해서 반환한다.\n",
    "      \n",
    "## 특정 타입의 Tensor를 직접 생성\n",
    "- torch.tensor()로 생성하면서 dtype을 지정하면 아래 타입의 Tensor객체가 생성된다.\n",
    "- 원하는 Type의 Tensor클래스를 이용해 직접 생성해도 된다.\n",
    "- **torch.FloatTensor(자료구조)**\n",
    "    - float32 타입 텐서 생성\n",
    "- **torch.LongTensor(자료구조)**\n",
    "    - int64 타입 텐서생성\n",
    "- 그외\n",
    "    - BoolTensor(bool), CharTensor(int8), ShortTensor(int16), IntTensor(int32), DoubleTensor(float64)\n",
    "    \n",
    "## tensor 상태 조회\n",
    "- **tensor.shape, tensor.size(\\[축번호\\])**\n",
    "    -  tensor의 shape조회\n",
    "- **tensor.dtype, tensor.type()**\n",
    "    - tensor 원소들의 데이터타입 조회\n",
    "    - dtype은 **data type**을 type()은 tensor **객체의 클래스 타입**을 반환한다.\n",
    "- **tensor.ndim, tensor.dim()**  : tensor 차원\n",
    "- **tensor.numel()**: 전체 원소 개수 (= 넘파이의 .size())\n",
    "\n"
   ]
  },
  {
   "cell_type": "code",
   "execution_count": 1,
   "id": "8f81163c",
   "metadata": {
    "executionInfo": {
     "elapsed": 11992,
     "status": "ok",
     "timestamp": 1746267547157,
     "user": {
      "displayName": "남궁건우",
      "userId": "00560730431062529338"
     },
     "user_tz": -540
    },
    "id": "8f81163c"
   },
   "outputs": [],
   "source": [
    "import torch\n",
    "import numpy as np"
   ]
  },
  {
   "cell_type": "code",
   "execution_count": 2,
   "id": "a5a312ec-094a-459d-9962-841d3decd8c3",
   "metadata": {
    "colab": {
     "base_uri": "https://localhost:8080/"
    },
    "executionInfo": {
     "elapsed": 9,
     "status": "ok",
     "timestamp": 1746267547171,
     "user": {
      "displayName": "남궁건우",
      "userId": "00560730431062529338"
     },
     "user_tz": -540
    },
    "id": "a5a312ec-094a-459d-9962-841d3decd8c3",
    "outputId": "80bad220-e2ba-4538-e832-ecb8f001875f"
   },
   "outputs": [
    {
     "data": {
      "text/plain": [
       "array([1, 2, 3], dtype=int8)"
      ]
     },
     "execution_count": 2,
     "metadata": {},
     "output_type": "execute_result"
    }
   ],
   "source": [
    "# numpy에서 타입지정하여 배열만들기 예시\n",
    "np.array([1, 2, 3], dtype=np.int8) # 파이토치는 이 방식으로만 가능. numpy 처럼 문자열로 직접 넣기 불가능\n",
    "# np.array([1, 2, 3], dtype=\"int8\") # numpy는 이렇게 문자열로 직접 넣어 써주는 것도 가능"
   ]
  },
  {
   "cell_type": "code",
   "execution_count": 3,
   "id": "1a471610-e0d4-477c-bbe7-03f8a8d7202c",
   "metadata": {
    "colab": {
     "base_uri": "https://localhost:8080/"
    },
    "executionInfo": {
     "elapsed": 8,
     "status": "ok",
     "timestamp": 1746267550643,
     "user": {
      "displayName": "남궁건우",
      "userId": "00560730431062529338"
     },
     "user_tz": -540
    },
    "id": "1a471610-e0d4-477c-bbe7-03f8a8d7202c",
    "outputId": "3802c60c-42f2-4f2e-e672-9288bda583cb"
   },
   "outputs": [
    {
     "name": "stdout",
     "output_type": "stream",
     "text": [
      "torch Data types\n",
      "float torch.float16 torch.float32 torch.float64 torch.float32 torch.float64\n",
      "int: torch.int8 torch.int16 torch.int32 torch.int64 torch.int16 torch.int32 torch.int64\n",
      "uint: torch.uint8 torch.uint16 torch.uint32 torch.uint64\n",
      "bool: torch.bool\n"
     ]
    }
   ],
   "source": [
    "print('torch Data types')\n",
    "print(\"float\", torch.float16, torch.float32, torch.float64, torch.float, torch.double)  #torch.float: float32\n",
    "print(\"int:\", torch.int8, torch.int16, torch.int32, torch.int64, torch.short, torch.int, torch.long)# 가능\n",
    "print(\"uint:\", torch.uint8, torch.uint16, torch.uint32, torch.uint64)\n",
    "print(\"bool:\", torch.bool)"
   ]
  },
  {
   "cell_type": "code",
   "execution_count": 4,
   "id": "370e0dcd",
   "metadata": {
    "colab": {
     "base_uri": "https://localhost:8080/"
    },
    "executionInfo": {
     "elapsed": 178,
     "status": "ok",
     "timestamp": 1746267607842,
     "user": {
      "displayName": "남궁건우",
      "userId": "00560730431062529338"
     },
     "user_tz": -540
    },
    "id": "370e0dcd",
    "outputId": "0dc27757-3cd3-4225-f02f-7945c897e08c"
   },
   "outputs": [
    {
     "name": "stdout",
     "output_type": "stream",
     "text": [
      "shape: torch.Size([2, 2]) torch.Size([2, 2])\n",
      "0축 크기: 2 2\n",
      "type: torch.FloatTensor torch.float32\n",
      "차원크기: 2 2\n",
      "원소개수: 4\n",
      "device: cpu\n"
     ]
    }
   ],
   "source": [
    "a = torch.tensor([[1,2],[3,4]], dtype=torch.float32) # dtype을 설정 안해주면, int64로 나옴.\n",
    "\n",
    "\n",
    "print(\"shape:\", a.shape, a.size())\n",
    "print(\"0축 크기:\", a.shape[0], a.size(0))\n",
    "print(\"type:\", a.type(), a.dtype)  # type(): Tensor 객체 타입. dtype: data type => 둘은 좀 다르다.\n",
    "print('차원크기:', a.dim(), a.ndim)\n",
    "print('원소개수:', a.numel())\n",
    "print(\"device:\", a.device)\n",
    "# tensor를 다루는 processor(메모리위치) - cpu, cuda(gpu). 지금 tensor가 CPU가 사용하는 RAM과 GPU가 사용하는 VRAM 중 어딨는지 알려준다!\n",
    "# 연산을 할때 피연산자들이 모두 같은 메모리 공간에 있어야 연산이 가능하기 때문에 이러한 메서드로 확인 필요."
   ]
  },
  {
   "cell_type": "code",
   "execution_count": 5,
   "id": "27f077a1",
   "metadata": {
    "colab": {
     "base_uri": "https://localhost:8080/",
     "height": 54
    },
    "executionInfo": {
     "elapsed": 29,
     "status": "ok",
     "timestamp": 1746267620188,
     "user": {
      "displayName": "남궁건우",
      "userId": "00560730431062529338"
     },
     "user_tz": -540
    },
    "id": "27f077a1",
    "outputId": "bdea246a-c00a-493f-a83c-29545a2134a3"
   },
   "outputs": [
    {
     "name": "stdout",
     "output_type": "stream",
     "text": [
      "tensor([0, 1, 2, 3, 4, 5, 6, 7, 8, 9])\n"
     ]
    },
    {
     "data": {
      "text/plain": [
       "'torch.LongTensor'"
      ]
     },
     "execution_count": 5,
     "metadata": {},
     "output_type": "execute_result"
    }
   ],
   "source": [
    "aa = torch.tensor(range(10))\n",
    "print(aa)\n",
    "aa.type() # .tensor()함수 썼지만, LongTensor의 타입이 생성됨 확인"
   ]
  },
  {
   "cell_type": "code",
   "execution_count": 6,
   "id": "e40a7f96",
   "metadata": {
    "colab": {
     "base_uri": "https://localhost:8080/"
    },
    "executionInfo": {
     "elapsed": 50,
     "status": "ok",
     "timestamp": 1746267629499,
     "user": {
      "displayName": "남궁건우",
      "userId": "00560730431062529338"
     },
     "user_tz": -540
    },
    "id": "e40a7f96",
    "outputId": "6660ced7-b646-40f5-8929-bdb28b537394"
   },
   "outputs": [
    {
     "name": "stdout",
     "output_type": "stream",
     "text": [
      "torch.float32\n",
      "torch.int32\n",
      "torch.float64\n",
      "torch.int64\n"
     ]
    }
   ],
   "source": [
    "#Float, Double(32, 64bit 실수)/Int, Long(32, 64 bit 정수) type Tensor\n",
    "b = torch.FloatTensor([1,3,7])  #float32\n",
    "print(b.dtype)\n",
    "c = torch.IntTensor([10,20,30])    # int32\n",
    "print(c.dtype)\n",
    "d = torch.DoubleTensor([1, 2, 3])  # float64\n",
    "print(d.dtype)\n",
    "e = torch.LongTensor([10, 20, 30]) # int64\n",
    "print(e.dtype)"
   ]
  },
  {
   "cell_type": "markdown",
   "id": "b57bc602",
   "metadata": {
    "id": "b57bc602"
   },
   "source": [
    "## 동일한 값을 원소로 가지는 Tensor 생성\n",
    "- **torch.zeros(\\*size), zeros_like(텐서)**: 0으로 구성된 tensor 생성\n",
    "- **torch.ones(\\*size), ones_like(텐서)**: 1로 구성된 tensor생성\n",
    "- **torch.full(size, fill_value), full_like(텐서, fill_value)**: 지정한 값으로 구성된 tensor생성\n",
    "  - size\n",
    "    - shape을 지정한다.\n",
    "    - zeros, ones는 가변인자이므로 축별 size를 순서대로 서정\n",
    "    - full 은 tuple/list로 shape을 지정한다.\n",
    "    "
   ]
  },
  {
   "cell_type": "code",
   "execution_count": 9,
   "id": "801e4ffc",
   "metadata": {
    "colab": {
     "base_uri": "https://localhost:8080/"
    },
    "executionInfo": {
     "elapsed": 10,
     "status": "ok",
     "timestamp": 1746267639587,
     "user": {
      "displayName": "남궁건우",
      "userId": "00560730431062529338"
     },
     "user_tz": -540
    },
    "id": "801e4ffc",
    "outputId": "aafe646b-651d-4798-fc9d-0ea68238f89b",
    "scrolled": true
   },
   "outputs": [
    {
     "data": {
      "text/plain": [
       "tensor([[100, 100],\n",
       "        [100, 100],\n",
       "        [100, 100]])"
      ]
     },
     "execution_count": 9,
     "metadata": {},
     "output_type": "execute_result"
    }
   ],
   "source": [
    "a = torch.zeros(3,2,3) # 3 x 2 x 3\n",
    "a.dtype\n",
    "a = torch.ones(2,3)  # 2 X 3\n",
    "a.shape\n",
    "a = torch.full([3,2], fill_value=100) # 3 x 2\n",
    "a\n"
   ]
  },
  {
   "cell_type": "code",
   "execution_count": 15,
   "id": "1697cfd6",
   "metadata": {
    "colab": {
     "base_uri": "https://localhost:8080/"
    },
    "executionInfo": {
     "elapsed": 15,
     "status": "ok",
     "timestamp": 1746267640844,
     "user": {
      "displayName": "남궁건우",
      "userId": "00560730431062529338"
     },
     "user_tz": -540
    },
    "id": "1697cfd6",
    "outputId": "e4a9a4e8-ad4c-4877-89e6-923ff97cf382"
   },
   "outputs": [
    {
     "name": "stdout",
     "output_type": "stream",
     "text": [
      "torch.Size([2, 2])\n",
      "torch.Size([2, 2]) torch.int64\n"
     ]
    },
    {
     "data": {
      "text/plain": [
       "tensor([[20, 20],\n",
       "        [20, 20]])"
      ]
     },
     "execution_count": 15,
     "metadata": {},
     "output_type": "execute_result"
    }
   ],
   "source": [
    "# 특정 배열과 동일한 shape의 tensor 생성.\n",
    "a = torch.tensor([[1, 2],[3, 4]]) # 2 x 2\n",
    "\n",
    "print(a.shape)\n",
    "# b = torch.zeros_like(a)  # a와 같은 shape, dtype 으로 생성.\n",
    "# b = torch.ones_like(a)\n",
    "b = torch.full_like(a, 20)\n",
    "print(b.shape, b.dtype)\n",
    "b"
   ]
  },
  {
   "cell_type": "markdown",
   "id": "01301e5c",
   "metadata": {
    "id": "01301e5c"
   },
   "source": [
    "## 동일한 간격으로 떨어진 값들로 구성된 배열생성\n",
    "- **torch.arange(start=0, end, step=1)** : end는 default 없으니, 무조건 적어줘야한다.\n",
    "- **torch.linspace(start, end, steps,)** : steps - 원소개수"
   ]
  },
  {
   "cell_type": "code",
   "execution_count": 17,
   "id": "f9b9fd1b",
   "metadata": {
    "colab": {
     "base_uri": "https://localhost:8080/"
    },
    "executionInfo": {
     "elapsed": 9,
     "status": "ok",
     "timestamp": 1746267669277,
     "user": {
      "displayName": "남궁건우",
      "userId": "00560730431062529338"
     },
     "user_tz": -540
    },
    "id": "f9b9fd1b",
    "outputId": "a6e349c6-6bea-468e-97a0-e6f48bd62033"
   },
   "outputs": [
    {
     "data": {
      "text/plain": [
       "tensor([10,  9,  8,  7,  6,  5,  4,  3,  2])"
      ]
     },
     "execution_count": 17,
     "metadata": {},
     "output_type": "execute_result"
    }
   ],
   "source": [
    "# torch.arange(10)  # end. 0 ~ 10-1 1씩 증가\n",
    "# torch.arange(0, 1, 0.1) # 0 ~ 1-0.1, 0.1\n",
    "torch.arange(10, 1, -1) # 10 ~ 1-(-1), -1"
   ]
  },
  {
   "cell_type": "code",
   "execution_count": 19,
   "id": "afa883dd",
   "metadata": {
    "colab": {
     "base_uri": "https://localhost:8080/"
    },
    "executionInfo": {
     "elapsed": 8,
     "status": "ok",
     "timestamp": 1746267670414,
     "user": {
      "displayName": "남궁건우",
      "userId": "00560730431062529338"
     },
     "user_tz": -540
    },
    "id": "afa883dd",
    "outputId": "89428453-2175-43e1-9510-2874d9bf47f5"
   },
   "outputs": [
    {
     "data": {
      "text/plain": [
       "tensor([0.0000, 0.1000, 0.2000, 0.3000, 0.4000, 0.5000, 0.6000, 0.7000, 0.8000,\n",
       "        0.9000, 1.0000])"
      ]
     },
     "execution_count": 19,
     "metadata": {},
     "output_type": "execute_result"
    }
   ],
   "source": [
    "# torch.linspace(0, 10, 5) # 0 ~ 10, 5개원소\n",
    "torch.linspace(0, 1, 11)\n"
   ]
  },
  {
   "cell_type": "markdown",
   "id": "f2bd2a03",
   "metadata": {
    "id": "f2bd2a03"
   },
   "source": [
    "## 빈 tensor 생성\n",
    "- **torch.empty(\\*size)**"
   ]
  },
  {
   "cell_type": "code",
   "execution_count": 12,
   "id": "f9a865f4",
   "metadata": {
    "colab": {
     "base_uri": "https://localhost:8080/"
    },
    "collapsed": true,
    "executionInfo": {
     "elapsed": 5,
     "status": "ok",
     "timestamp": 1746267679220,
     "user": {
      "displayName": "남궁건우",
      "userId": "00560730431062529338"
     },
     "user_tz": -540
    },
    "id": "f9a865f4",
    "jupyter": {
     "outputs_hidden": true
    },
    "outputId": "f5179f47-bb5d-437b-da60-e13d32bb924a"
   },
   "outputs": [
    {
     "data": {
      "text/plain": [
       "tensor([[[0.0000e+00, 0.0000e+00, 1.8788e+31, 1.7220e+22, 2.1715e-18,\n",
       "          8.4023e+20, 8.3575e+20],\n",
       "         [1.3149e+22, 1.0739e-05, 1.9968e+20, 1.3029e-11, 6.7510e-07,\n",
       "          1.6618e+22, 4.2291e-05]],\n",
       "\n",
       "        [[2.1707e-18, 4.5447e+30, 7.0062e+22, 2.1715e-18, 4.5447e+30,\n",
       "          7.0062e+22, 2.1707e-18],\n",
       "         [1.9284e+31, 3.2314e-18, 6.0397e-07, 3.4164e+21, 1.2915e-11,\n",
       "          2.1041e+23, 2.1122e+20]],\n",
       "\n",
       "        [[3.3554e-06, 1.9990e+20, 4.1542e+21, 2.6196e+20, 2.4153e-18,\n",
       "          3.1360e+27, 7.0800e+31],\n",
       "         [3.1095e-18, 4.7851e+22, 2.8826e+32, 4.4248e+30, 7.2442e+22,\n",
       "          2.3086e-12, 7.2646e+22]]])"
      ]
     },
     "execution_count": 12,
     "metadata": {},
     "output_type": "execute_result"
    }
   ],
   "source": [
    "torch.empty(3,2,7) # 3 X 2 X 7\n",
    "# 실제로 비워놓을 수 없고, 0에 가까운 값들을 무작위로 채워 놓는다."
   ]
  },
  {
   "cell_type": "markdown",
   "id": "6ec59585",
   "metadata": {
    "id": "6ec59585"
   },
   "source": [
    "## 난수를 이용한 생성\n",
    "\n",
    "- **torch.rand(\\*size)**: 0 ~ 1사이 실수로 구성된 배열을 생성. 각 값은 균등분포를 따른다.\n",
    "- **torch.randn(\\*size)**: 표준정규분포(평균:0, 표준편차:1)를 따르는 실수로 구성된 배열 생성\n",
    "- **torch.randint(low=0, high, size)**: 지정한 범위의 정수로 구성된 배열 생성\n",
    "- **torch.randperm(n)**: 0 ~ n-1 사이의 정수를 랜덤하게 섞은 값을 원소로 가지는 배열 생성"
   ]
  },
  {
   "cell_type": "code",
   "execution_count": 61,
   "id": "def1448b",
   "metadata": {
    "colab": {
     "base_uri": "https://localhost:8080/"
    },
    "executionInfo": {
     "elapsed": 62,
     "status": "ok",
     "timestamp": 1746267708355,
     "user": {
      "displayName": "남궁건우",
      "userId": "00560730431062529338"
     },
     "user_tz": -540
    },
    "id": "def1448b",
    "outputId": "9d763f5a-9b77-46b9-9a79-d6cd15b3663f"
   },
   "outputs": [
    {
     "data": {
      "text/plain": [
       "tensor([15, 24, 78, 85, 19, 34,  8, 48,  9, 54, 59,  7, 47, 36, 42, 12, 65, 73,\n",
       "        50, 43, 62, 18, 58, 17, 64, 75, 32, 97, 57, 56, 53, 80,  5, 74, 51, 70,\n",
       "        83, 79, 76, 89, 84, 33, 16, 86, 41, 69, 67, 37, 29,  3, 81, 93, 82, 20,\n",
       "        39, 90, 52,  6, 77, 55, 91, 71, 98, 27, 22, 68, 49,  2, 92, 30, 21,  4,\n",
       "        88, 26, 10, 99, 28, 38, 44, 96, 63, 46, 72, 14, 23, 25, 13, 40, 94, 66,\n",
       "        60, 95, 11,  1, 31, 45,  0, 87, 61, 35])"
      ]
     },
     "execution_count": 61,
     "metadata": {},
     "output_type": "execute_result"
    }
   ],
   "source": [
    "# torch.manual_seed(42)  # seed 설정\n",
    "torch.rand(2, 3, 5) # 2 x 3 x 5\n",
    "torch.randn(30, 3) # 30 X 3\n",
    "torch.randint(1, 10, (3, 3, 6))\n",
    "torch.randperm(100) # 0 ~ 99 를 섞어서 구성. 인덱스넘버가 99까지 있는 100개의 데이터를 섞을때 사용"
   ]
  },
  {
   "cell_type": "code",
   "execution_count": 74,
   "id": "8e9b7c88-3511-4c26-8282-5fc9ad857b98",
   "metadata": {
    "colab": {
     "base_uri": "https://localhost:8080/"
    },
    "executionInfo": {
     "elapsed": 18,
     "status": "ok",
     "timestamp": 1746268034976,
     "user": {
      "displayName": "남궁건우",
      "userId": "00560730431062529338"
     },
     "user_tz": -540
    },
    "id": "8e9b7c88-3511-4c26-8282-5fc9ad857b98",
    "outputId": "660ff750-5a73-4551-e9d6-207e41b3a684"
   },
   "outputs": [
    {
     "name": "stdout",
     "output_type": "stream",
     "text": [
      "tensor([ 0,  1,  2,  3,  4,  5,  6,  7,  8,  9, 10, 11, 12, 13, 14, 15, 16, 17,\n",
      "        18, 19, 20, 21, 22, 23, 24, 25, 26, 27, 28, 29, 30, 31, 32, 33, 34, 35,\n",
      "        36, 37, 38, 39, 40, 41, 42, 43, 44, 45, 46, 47, 48, 49, 50, 51, 52, 53,\n",
      "        54, 55, 56, 57, 58, 59, 60, 61, 62, 63, 64, 65, 66, 67, 68, 69, 70, 71,\n",
      "        72, 73, 74, 75, 76, 77, 78, 79, 80, 81, 82, 83, 84, 85, 86, 87, 88, 89,\n",
      "        90, 91, 92, 93, 94, 95, 96, 97, 98, 99]) torch.int64\n",
      "tensor([38, 73,  3,  7, 55, 27, 92, 49, 23, 57, 20, 25, 30, 35, 81, 29,  1, 99,\n",
      "        47, 24, 54,  0, 16, 26, 65, 85, 74, 39, 34, 11, 84, 60,  9, 36, 69, 41,\n",
      "        75, 78, 10, 61, 97, 93, 80, 13, 77, 62,  5, 45, 89, 71, 83, 87, 95, 66,\n",
      "        76, 88, 52, 94, 67, 44, 50, 64, 33, 21, 22, 48, 96, 82, 58, 42, 31, 98,\n",
      "        56,  4,  2, 63, 86, 53, 40, 72, 15, 17, 14, 59, 43, 32,  8,  6, 12, 68,\n",
      "        90, 19, 28, 46, 18, 70, 91, 51, 79, 37])\n",
      "tensor([38, 73,  3,  7, 55, 27, 92, 49, 23, 57, 20, 25, 30, 35, 81, 29,  1, 99,\n",
      "        47, 24, 54,  0, 16, 26, 65, 85, 74, 39, 34, 11, 84, 60,  9, 36, 69, 41,\n",
      "        75, 78, 10, 61, 97, 93, 80, 13, 77, 62,  5, 45, 89, 71, 83, 87, 95, 66,\n",
      "        76, 88, 52, 94, 67, 44, 50, 64, 33, 21, 22, 48, 96, 82, 58, 42, 31, 98,\n",
      "        56,  4,  2, 63, 86, 53, 40, 72, 15, 17, 14, 59, 43, 32,  8,  6, 12, 68,\n",
      "        90, 19, 28, 46, 18, 70, 91, 51, 79, 37])\n"
     ]
    }
   ],
   "source": [
    "# torch.manual_seed(42)\n",
    "a = torch.arange(100)\n",
    "print(a, a.dtype)\n",
    "\n",
    "# a 섞기\n",
    "idx = torch.randperm(100) # 0 ~ 99 섞어서 반환. -> index\n",
    "print(idx)\n",
    "\n",
    "b = a[idx]\n",
    "print(b) # 섞인 결과 확인"
   ]
  },
  {
   "cell_type": "markdown",
   "id": "d8494a6a",
   "metadata": {
    "id": "d8494a6a"
   },
   "source": [
    "## Tensor gpu/cpu 메모리로 옮기기\n",
    "\n",
    "- pytorch는 데이터셋인 tensor를 cpu메모리와 gpu 메모리로 서로 옮길 수 있다.\n",
    "    - 데이터에 대한 연산처리를 어디서 하느냐에 따라 메모리를 선택한다.\n",
    "    - 장치는 문자열로 설정한다.\n",
    "        - CPU 사용: \"cpu\"\n",
    "        - nvida GPU: \"cuda\"\n",
    "        - Apple m1: \"mps\"\n",
    "            - pytorch 1.12 부터 지원\n",
    "- 옮기기\n",
    "    - tensor 생성시 `device` 파라미터를 이용해 설정\n",
    "    - `tensor.to(device)`를 이용해 설정\n",
    "- 현재 실행환경에서 어떤 장비를 사용할 수 있는지 확인\n",
    "    - nvidia gpu 사용가능확인 (True가 나오면 사용가능)\n",
    "        - `torch.cuda.is_available()` - nvida gpu 사용가능 여부\n",
    "        - `torch.backends.mps.is_available()` - M1 사용가능 여부"
   ]
  },
  {
   "cell_type": "code",
   "execution_count": 76,
   "id": "9bf69bd8",
   "metadata": {
    "colab": {
     "base_uri": "https://localhost:8080/",
     "height": 35
    },
    "executionInfo": {
     "elapsed": 4,
     "status": "ok",
     "timestamp": 1746268051578,
     "user": {
      "displayName": "남궁건우",
      "userId": "00560730431062529338"
     },
     "user_tz": -540
    },
    "id": "9bf69bd8",
    "outputId": "e8b52263-3882-43f6-98f3-71bb572a932f"
   },
   "outputs": [
    {
     "data": {
      "text/plain": [
       "'cpu'"
      ]
     },
     "execution_count": 76,
     "metadata": {},
     "output_type": "execute_result"
    }
   ],
   "source": [
    "import torch\n",
    "device = 'cuda' if torch.cuda.is_available() else 'cpu' # device에 True가 나오면 'cuda'를 저장, False가 나오면 'cpu'를 저장.\n",
    "\n",
    "# device = 'mps' if torch.backends.mps.is_available() else 'cpu'\n",
    "# device = 'cuda' if torch.cuda.is_available() else 'mps' if torch.backends.mps.is_available() else 'cpu'\n",
    "device"
   ]
  },
  {
   "cell_type": "code",
   "execution_count": 77,
   "id": "3c7fce59-a925-45ae-b201-d9f39a443f8f",
   "metadata": {
    "colab": {
     "base_uri": "https://localhost:8080/"
    },
    "executionInfo": {
     "elapsed": 48,
     "status": "ok",
     "timestamp": 1746150134781,
     "user": {
      "displayName": "남궁건우",
      "userId": "00560730431062529338"
     },
     "user_tz": -540
    },
    "id": "3c7fce59-a925-45ae-b201-d9f39a443f8f",
    "outputId": "4dead8fe-5a25-4a5a-a03f-a59678868b23"
   },
   "outputs": [
    {
     "name": "stdout",
     "output_type": "stream",
     "text": [
      "tensor([1., 2., 3.]) cpu\n"
     ]
    }
   ],
   "source": [
    "t = torch.tensor([1, 2, 3], dtype=torch.float32, device=device) # 생성할 때 device 지정. device를 지정하지 않으면 default로 cpu에 저장.\n",
    "print(t, t.device) # tensor가 어느 device에 있는지 확인"
   ]
  },
  {
   "cell_type": "code",
   "execution_count": 78,
   "id": "fbaee501-8187-4104-8dc0-3114a57dca29",
   "metadata": {
    "colab": {
     "base_uri": "https://localhost:8080/"
    },
    "executionInfo": {
     "elapsed": 8,
     "status": "ok",
     "timestamp": 1746150135093,
     "user": {
      "displayName": "남궁건우",
      "userId": "00560730431062529338"
     },
     "user_tz": -540
    },
    "id": "fbaee501-8187-4104-8dc0-3114a57dca29",
    "outputId": "e96a333b-668a-4e3a-f750-17f802c4c6d5"
   },
   "outputs": [
    {
     "name": "stdout",
     "output_type": "stream",
     "text": [
      "tensor([1., 2., 3.]) cpu\n"
     ]
    }
   ],
   "source": [
    "t2 = t.to(\"cpu\")  # 다른 device로 옮기기.\n",
    "print(t2, t2.device)"
   ]
  },
  {
   "cell_type": "markdown",
   "id": "eb9df51a",
   "metadata": {
    "id": "eb9df51a"
   },
   "source": [
    "## tensor를 상수로 변환\n",
    "- torch.Tensor객체를 파이썬 상수로 변환.\n",
    "- tensor객체.item()\n",
    "    - Scalar(상수) 또는 원소가 하나인 tensor를 python 상수로 변환"
   ]
  },
  {
   "cell_type": "code",
   "execution_count": 83,
   "id": "88d14aa5-a06a-4f25-bcec-b94c1d554de8",
   "metadata": {
    "colab": {
     "base_uri": "https://localhost:8080/"
    },
    "executionInfo": {
     "elapsed": 26,
     "status": "ok",
     "timestamp": 1746268070958,
     "user": {
      "displayName": "남궁건우",
      "userId": "00560730431062529338"
     },
     "user_tz": -540
    },
    "id": "88d14aa5-a06a-4f25-bcec-b94c1d554de8",
    "outputId": "ab646288-87f3-48db-cca3-03403654d6c9"
   },
   "outputs": [
    {
     "name": "stdout",
     "output_type": "stream",
     "text": [
      "tensor(30)\n"
     ]
    }
   ],
   "source": [
    "print(torch.tensor(30)) # 리스트에 넣지 않았으므로 그냥 0차원 텐서."
   ]
  },
  {
   "cell_type": "code",
   "execution_count": 84,
   "id": "9e24dc70",
   "metadata": {
    "colab": {
     "base_uri": "https://localhost:8080/"
    },
    "executionInfo": {
     "elapsed": 22,
     "status": "ok",
     "timestamp": 1746268074603,
     "user": {
      "displayName": "남궁건우",
      "userId": "00560730431062529338"
     },
     "user_tz": -540
    },
    "id": "9e24dc70",
    "outputId": "fa455a44-199c-470b-a27d-2a051dd195c1",
    "scrolled": true
   },
   "outputs": [
    {
     "name": "stdout",
     "output_type": "stream",
     "text": [
      "tensor(10) 0\n",
      "10\n",
      "<class 'torch.Tensor'> <class 'int'>\n"
     ]
    }
   ],
   "source": [
    "a = torch.tensor(10)  # 상수(scalar) => 0차원 Tensor\n",
    "print(a, a.ndim)\n",
    "print(a.item())\n",
    "print(type(a), type(a.item())) # a의 타입은 'torch.Tensor'"
   ]
  },
  {
   "cell_type": "code",
   "execution_count": 85,
   "id": "d62c3168",
   "metadata": {
    "colab": {
     "base_uri": "https://localhost:8080/"
    },
    "executionInfo": {
     "elapsed": 4,
     "status": "ok",
     "timestamp": 1746268086327,
     "user": {
      "displayName": "남궁건우",
      "userId": "00560730431062529338"
     },
     "user_tz": -540
    },
    "id": "d62c3168",
    "outputId": "c18bf8aa-b0f0-4dfe-df11-c5f56ba7e86c"
   },
   "outputs": [
    {
     "name": "stdout",
     "output_type": "stream",
     "text": [
      "tensor([[20]]) 2\n",
      "20\n"
     ]
    }
   ],
   "source": [
    "b = torch.tensor([[20]]) # 원소가 하나인 N차원 배열\n",
    "print(b, b.dim())\n",
    "print(b.item()) #원소가 하나인 배열(텐서) 변환 가능"
   ]
  },
  {
   "cell_type": "code",
   "execution_count": null,
   "id": "cefb6f7b",
   "metadata": {
    "colab": {
     "base_uri": "https://localhost:8080/"
    },
    "executionInfo": {
     "elapsed": 8,
     "status": "ok",
     "timestamp": 1746150619752,
     "user": {
      "displayName": "남궁건우",
      "userId": "00560730431062529338"
     },
     "user_tz": -540
    },
    "id": "cefb6f7b",
    "outputId": "5e0a0ad2-80bc-4f7d-eadd-6a16c4cb89ed",
    "scrolled": true
   },
   "outputs": [
    {
     "name": "stdout",
     "output_type": "stream",
     "text": [
      "tensor([  1,  10, 100])\n"
     ]
    },
    {
     "ename": "RuntimeError",
     "evalue": "a Tensor with 3 elements cannot be converted to Scalar",
     "output_type": "error",
     "traceback": [
      "\u001b[31m---------------------------------------------------------------------------\u001b[39m",
      "\u001b[31mRuntimeError\u001b[39m                              Traceback (most recent call last)",
      "\u001b[36mCell\u001b[39m\u001b[36m \u001b[39m\u001b[32mIn[87]\u001b[39m\u001b[32m, line 3\u001b[39m\n\u001b[32m      1\u001b[39m c = torch.tensor([\u001b[32m1\u001b[39m, \u001b[32m10\u001b[39m, \u001b[32m100\u001b[39m])\n\u001b[32m      2\u001b[39m \u001b[38;5;28mprint\u001b[39m(c)\n\u001b[32m----> \u001b[39m\u001b[32m3\u001b[39m \u001b[38;5;28mprint\u001b[39m(\u001b[43mc\u001b[49m\u001b[43m.\u001b[49m\u001b[43mitem\u001b[49m\u001b[43m(\u001b[49m\u001b[43m)\u001b[49m) \u001b[38;5;66;03m#원소가 여러개일 경우 Exception발생\u001b[39;00m\n",
      "\u001b[31mRuntimeError\u001b[39m: a Tensor with 3 elements cannot be converted to Scalar"
     ]
    }
   ],
   "source": [
    "c = torch.tensor([1, 10, 100])\n",
    "print(c)\n",
    "print(c.item()) # 원소가 여러개일 경우 Exception발생"
   ]
  },
  {
   "cell_type": "code",
   "execution_count": 89,
   "id": "06f1ae95",
   "metadata": {
    "colab": {
     "base_uri": "https://localhost:8080/",
     "height": 309
    },
    "executionInfo": {
     "elapsed": 124,
     "status": "error",
     "timestamp": 1746150620269,
     "user": {
      "displayName": "남궁건우",
      "userId": "00560730431062529338"
     },
     "user_tz": -540
    },
    "id": "06f1ae95",
    "outputId": "bb4ca574-48e1-4d1e-85c6-9d2ec1546c02"
   },
   "outputs": [
    {
     "name": "stdout",
     "output_type": "stream",
     "text": [
      "tensor([10])\n",
      "10\n"
     ]
    }
   ],
   "source": [
    "d = torch.tensor([10], device='cpu')\n",
    "print(d)\n",
    "print(d.item())"
   ]
  },
  {
   "cell_type": "markdown",
   "id": "a8709f0b",
   "metadata": {
    "id": "a8709f0b"
   },
   "source": [
    "## ndarray 호환\n",
    "\n",
    "- ndarray를 tensor로 생성\n",
    "    - **torch.tensor(ndarray)**\n",
    "    - **torch.from_numpy(ndarray)**\n",
    "- tensor를 ndarray로 변환\n",
    "    - **tensor.numpy()**\n",
    "    - tensor가 gpu에 있을 경우 cpu로 옮긴 뒤 변환해야 한다. 넘파이는 GPU학습을 지원하지 않기 때문."
   ]
  },
  {
   "cell_type": "code",
   "execution_count": 90,
   "id": "ff396b21",
   "metadata": {
    "id": "ff396b21"
   },
   "outputs": [],
   "source": [
    "import numpy as np\n",
    "import torch"
   ]
  },
  {
   "cell_type": "code",
   "execution_count": null,
   "id": "2c1d1b90",
   "metadata": {
    "colab": {
     "base_uri": "https://localhost:8080/"
    },
    "executionInfo": {
     "elapsed": 11,
     "status": "ok",
     "timestamp": 1746151669683,
     "user": {
      "displayName": "남궁건우",
      "userId": "00560730431062529338"
     },
     "user_tz": -540
    },
    "id": "2c1d1b90",
    "outputId": "6d9658c5-fbd3-4b34-bf3b-462e183033c2"
   },
   "outputs": [
    {
     "data": {
      "text/plain": [
       "array([1, 2, 3, 4, 5, 6, 7, 8, 9])"
      ]
     },
     "execution_count": 97,
     "metadata": {},
     "output_type": "execute_result"
    }
   ],
   "source": [
    "# ndarray -> tensor\n",
    "arr = np.arange(1,10)\n",
    "arr\n"
   ]
  },
  {
   "cell_type": "code",
   "execution_count": 103,
   "id": "fd9e8c51",
   "metadata": {},
   "outputs": [
    {
     "data": {
      "text/plain": [
       "tensor([1., 2., 3., 4., 5., 6., 7., 8., 9.])"
      ]
     },
     "execution_count": 103,
     "metadata": {},
     "output_type": "execute_result"
    }
   ],
   "source": [
    "torch.tensor(arr, dtype=torch.float32)"
   ]
  },
  {
   "cell_type": "code",
   "execution_count": 105,
   "id": "e543d058",
   "metadata": {},
   "outputs": [
    {
     "name": "stdout",
     "output_type": "stream",
     "text": [
      "tensor([1, 2, 3, 4, 5, 6, 7, 8, 9]) torch.int64\n"
     ]
    }
   ],
   "source": [
    "x = torch.from_numpy(arr)\n",
    "print(x, x.dtype)\n"
   ]
  },
  {
   "cell_type": "code",
   "execution_count": 109,
   "id": "4a5fa181",
   "metadata": {
    "colab": {
     "base_uri": "https://localhost:8080/"
    },
    "executionInfo": {
     "elapsed": 93,
     "status": "ok",
     "timestamp": 1746151732724,
     "user": {
      "displayName": "남궁건우",
      "userId": "00560730431062529338"
     },
     "user_tz": -540
    },
    "id": "4a5fa181",
    "outputId": "7c87c6ca-dbb3-4663-9b87-86083937d4c2"
   },
   "outputs": [
    {
     "name": "stdout",
     "output_type": "stream",
     "text": [
      "tensor([[-0.7602,  0.9779,  0.8190],\n",
      "        [-0.5434, -1.8404,  0.0295],\n",
      "        [-0.4190,  0.0199, -0.4336]])\n"
     ]
    },
    {
     "data": {
      "text/plain": [
       "array([[-0.7601913 ,  0.9779031 ,  0.8189598 ],\n",
       "       [-0.5433799 , -1.84043   ,  0.02946267],\n",
       "       [-0.4189947 ,  0.01988029, -0.4336317 ]], dtype=float32)"
      ]
     },
     "execution_count": 109,
     "metadata": {},
     "output_type": "execute_result"
    }
   ],
   "source": [
    "# tensor -> ndarray\n",
    "t = torch.randn(3,3)\n",
    "print(t)\n",
    "t.to(\"cpu\").numpy()"
   ]
  },
  {
   "cell_type": "code",
   "execution_count": 110,
   "id": "d85bf50c",
   "metadata": {
    "colab": {
     "base_uri": "https://localhost:8080/",
     "height": 291
    },
    "executionInfo": {
     "elapsed": 107,
     "status": "error",
     "timestamp": 1746151733780,
     "user": {
      "displayName": "남궁건우",
      "userId": "00560730431062529338"
     },
     "user_tz": -540
    },
    "id": "d85bf50c",
    "outputId": "f0522487-051a-4fef-e34b-8bcaf30b4577"
   },
   "outputs": [
    {
     "ename": "AssertionError",
     "evalue": "Torch not compiled with CUDA enabled",
     "output_type": "error",
     "traceback": [
      "\u001b[31m---------------------------------------------------------------------------\u001b[39m",
      "\u001b[31mAssertionError\u001b[39m                            Traceback (most recent call last)",
      "\u001b[36mCell\u001b[39m\u001b[36m \u001b[39m\u001b[32mIn[110]\u001b[39m\u001b[32m, line 2\u001b[39m\n\u001b[32m      1\u001b[39m \u001b[38;5;66;03m# GPU 환경으로 바꾸고 numpy 변환하려고하면 안된다. cpu only!\u001b[39;00m\n\u001b[32m----> \u001b[39m\u001b[32m2\u001b[39m t2 = \u001b[43mtorch\u001b[49m\u001b[43m.\u001b[49m\u001b[43mrandn\u001b[49m\u001b[43m(\u001b[49m\u001b[32;43m2\u001b[39;49m\u001b[43m,\u001b[49m\u001b[32;43m2\u001b[39;49m\u001b[43m,\u001b[49m\u001b[43m \u001b[49m\u001b[43mdevice\u001b[49m\u001b[43m=\u001b[49m\u001b[33;43m\"\u001b[39;49m\u001b[33;43mcuda\u001b[39;49m\u001b[33;43m\"\u001b[39;49m\u001b[43m)\u001b[49m\n\u001b[32m      3\u001b[39m t2\n",
      "\u001b[36mFile \u001b[39m\u001b[32mc:\\Users\\Playdata\\miniconda3\\envs\\dl\\Lib\\site-packages\\torch\\cuda\\__init__.py:363\u001b[39m, in \u001b[36m_lazy_init\u001b[39m\u001b[34m()\u001b[39m\n\u001b[32m    358\u001b[39m     \u001b[38;5;28;01mraise\u001b[39;00m \u001b[38;5;167;01mRuntimeError\u001b[39;00m(\n\u001b[32m    359\u001b[39m         \u001b[33m\"\u001b[39m\u001b[33mCannot re-initialize CUDA in forked subprocess. To use CUDA with \u001b[39m\u001b[33m\"\u001b[39m\n\u001b[32m    360\u001b[39m         \u001b[33m\"\u001b[39m\u001b[33mmultiprocessing, you must use the \u001b[39m\u001b[33m'\u001b[39m\u001b[33mspawn\u001b[39m\u001b[33m'\u001b[39m\u001b[33m start method\u001b[39m\u001b[33m\"\u001b[39m\n\u001b[32m    361\u001b[39m     )\n\u001b[32m    362\u001b[39m \u001b[38;5;28;01mif\u001b[39;00m \u001b[38;5;129;01mnot\u001b[39;00m \u001b[38;5;28mhasattr\u001b[39m(torch._C, \u001b[33m\"\u001b[39m\u001b[33m_cuda_getDeviceCount\u001b[39m\u001b[33m\"\u001b[39m):\n\u001b[32m--> \u001b[39m\u001b[32m363\u001b[39m     \u001b[38;5;28;01mraise\u001b[39;00m \u001b[38;5;167;01mAssertionError\u001b[39;00m(\u001b[33m\"\u001b[39m\u001b[33mTorch not compiled with CUDA enabled\u001b[39m\u001b[33m\"\u001b[39m)\n\u001b[32m    364\u001b[39m \u001b[38;5;28;01mif\u001b[39;00m _cudart \u001b[38;5;129;01mis\u001b[39;00m \u001b[38;5;28;01mNone\u001b[39;00m:\n\u001b[32m    365\u001b[39m     \u001b[38;5;28;01mraise\u001b[39;00m \u001b[38;5;167;01mAssertionError\u001b[39;00m(\n\u001b[32m    366\u001b[39m         \u001b[33m\"\u001b[39m\u001b[33mlibcudart functions unavailable. It looks like you have a broken build?\u001b[39m\u001b[33m\"\u001b[39m\n\u001b[32m    367\u001b[39m     )\n",
      "\u001b[31mAssertionError\u001b[39m: Torch not compiled with CUDA enabled"
     ]
    }
   ],
   "source": [
    "# GPU 환경으로 바꾸고 numpy 변환하려고하면 안된다. cpu only!\n",
    "t2 = torch.randn(2,2, device=\"cuda\")\n",
    "t2"
   ]
  },
  {
   "cell_type": "code",
   "execution_count": 111,
   "id": "28c9d47a",
   "metadata": {
    "id": "28c9d47a",
    "scrolled": true
   },
   "outputs": [
    {
     "data": {
      "text/plain": [
       "array([1., 2., 3.], dtype=float32)"
      ]
     },
     "execution_count": 111,
     "metadata": {},
     "output_type": "execute_result"
    }
   ],
   "source": [
    "t2.numpy()\n",
    "# t2.to(\"cpu\").numpy()"
   ]
  },
  {
   "cell_type": "markdown",
   "id": "f10f4911",
   "metadata": {
    "id": "f10f4911"
   },
   "source": [
    "# 원소 조회및 변경\n",
    "\n",
    "## indexing/slicing\n",
    "\n",
    "- 대부분 Numpy 와 동일\n",
    "    - **slicing에서 step을 <u>음수로 지정할 수 없다.</u>** >> 역순 조회가 안된다!!\n",
    "    - 그외엔 numpy와 동일\n"
   ]
  },
  {
   "cell_type": "code",
   "execution_count": 112,
   "id": "2300078c",
   "metadata": {
    "colab": {
     "base_uri": "https://localhost:8080/"
    },
    "executionInfo": {
     "elapsed": 13,
     "status": "ok",
     "timestamp": 1746151957212,
     "user": {
      "displayName": "남궁건우",
      "userId": "00560730431062529338"
     },
     "user_tz": -540
    },
    "id": "2300078c",
    "outputId": "81748aa9-ef76-4f89-890b-839e4ad65a70"
   },
   "outputs": [
    {
     "data": {
      "text/plain": [
       "tensor([  0,   9,  -8,   6,   7,  -6,  -4,  -8,   1,  -9,  -7,   8, -10,   3,\n",
       "          6,   2,  -5,   1,  -6,   8, -10,  -9,   3,   3,  -3,  -6,   9,  -7,\n",
       "         -9,  -9,   5,   2,  -4,   1,   2,  -5,   3,  -2,  -8,   3,  -1,   7,\n",
       "          6,  -3,   3,  -3,   8,  -1,  -5,   8,  -5,   9, -10,  -7,  -2,  -2,\n",
       "          9,  -7,   5,  -3,  -8,  -1, -10,  -3,   5,   9,   8,  -3,   5,  -7,\n",
       "          7,   4,  -7, -10,   2, -10,   8,   0,  -2,   1,   8,   2,   6,  -3,\n",
       "         -9,   0,  -7,  -2,  -6,   9,   8,   7,  -5,  -6,  -4,  -1,  -4,  -4,\n",
       "          2,  -1])"
      ]
     },
     "execution_count": 112,
     "metadata": {},
     "output_type": "execute_result"
    }
   ],
   "source": [
    "t = torch.randint(-10, 10, (100, ))\n",
    "t"
   ]
  },
  {
   "cell_type": "code",
   "execution_count": 116,
   "id": "a28537ed",
   "metadata": {
    "colab": {
     "base_uri": "https://localhost:8080/"
    },
    "executionInfo": {
     "elapsed": 8,
     "status": "ok",
     "timestamp": 1746151957731,
     "user": {
      "displayName": "남궁건우",
      "userId": "00560730431062529338"
     },
     "user_tz": -540
    },
    "id": "a28537ed",
    "outputId": "74457272-e400-4bb6-ba87-352b680c5d25"
   },
   "outputs": [
    {
     "data": {
      "text/plain": [
       "(tensor(0), tensor([ 9, -6, -1]))"
      ]
     },
     "execution_count": 116,
     "metadata": {},
     "output_type": "execute_result"
    }
   ],
   "source": [
    "t[0],\\\n",
    "t[[1, 5, -1]] # 여러개 조회-> fancy indexing"
   ]
  },
  {
   "cell_type": "code",
   "execution_count": null,
   "id": "73763041",
   "metadata": {
    "colab": {
     "base_uri": "https://localhost:8080/"
    },
    "executionInfo": {
     "elapsed": 67,
     "status": "ok",
     "timestamp": 1746151976349,
     "user": {
      "displayName": "남궁건우",
      "userId": "00560730431062529338"
     },
     "user_tz": -540
    },
    "id": "73763041",
    "outputId": "dce7bdd7-51d3-4ca2-ccdd-e45a944e58fb"
   },
   "outputs": [
    {
     "data": {
      "text/plain": [
       "(tensor([ 0,  9, -8,  6,  7]),\n",
       " tensor([ -7,   8, -10,   3,   6]),\n",
       " tensor([ 8,  7, -5, -6, -4, -1, -4, -4,  2, -1]),\n",
       " tensor([  6,  -4,  -9, -10,   2,  -6,  -9,  -3,  -7]))"
      ]
     },
     "execution_count": 117,
     "metadata": {},
     "output_type": "execute_result"
    }
   ],
   "source": [
    "t[:5],\\\n",
    "t[10:15],\\\n",
    "t[90:],\\\n",
    "t[3:30:3]"
   ]
  },
  {
   "cell_type": "code",
   "execution_count": 121,
   "id": "8555eb1c",
   "metadata": {},
   "outputs": [
    {
     "data": {
      "text/plain": [
       "(tensor([ 9,  6, -6, -8, -9]), tensor([-9, -8, -6,  6,  9]))"
      ]
     },
     "execution_count": 121,
     "metadata": {},
     "output_type": "execute_result"
    }
   ],
   "source": [
    "####### step 음수 안된다. 그래서 reverse(역순 조회)가 안됨. reverse하려면 flip() 사용\n",
    "# t[10:1:-2]\n",
    "t[1:10:2], t[1:10:2].flip(dims=(0,)) #reverse"
   ]
  },
  {
   "cell_type": "markdown",
   "id": "292f1a3e",
   "metadata": {
    "id": "292f1a3e"
   },
   "source": [
    "## boolean index\n",
    "- 논리 연산은 &, |, ~ 을 사용한다."
   ]
  },
  {
   "cell_type": "code",
   "execution_count": 126,
   "id": "81965586",
   "metadata": {
    "id": "81965586"
   },
   "outputs": [
    {
     "data": {
      "text/plain": [
       "(tensor([  0,   9,  -8,   6,   7,  -6,  -4,  -8,   1,  -9,  -7,   8, -10,   3,\n",
       "           6,   2,  -5,   1,  -6,   8, -10,  -9,   3,   3,  -3,  -6,   9,  -7,\n",
       "          -9,  -9,   5,   2,  -4,   1,   2,  -5,   3,  -2,  -8,   3,  -1,   7,\n",
       "           6,  -3,   3,  -3,   8,  -1,  -5,   8,  -5,   9, -10,  -7,  -2,  -2,\n",
       "           9,  -7,   5,  -3,  -8,  -1, -10,  -3,   5,   9,   8,  -3,   5,  -7,\n",
       "           7,   4,  -7, -10,   2, -10,   8,   0,  -2,   1,   8,   2,   6,  -3,\n",
       "          -9,   0,  -7,  -2,  -6,   9,   8,   7,  -5,  -6,  -4,  -1,  -4,  -4,\n",
       "           2,  -1]),\n",
       " tensor([9, 6, 7, 1, 8, 3, 6, 2, 1, 8, 3, 3, 9, 5, 2, 1, 2, 3, 3, 7, 6, 3, 8, 8,\n",
       "         9, 9, 5, 5, 9, 8, 5, 7, 4, 2, 8, 1, 8, 2, 6, 9, 8, 7, 2]))"
      ]
     },
     "execution_count": 126,
     "metadata": {},
     "output_type": "execute_result"
    }
   ],
   "source": [
    "# boolean index\n",
    "t, t[t > 0] # True인 애들만 조회."
   ]
  },
  {
   "cell_type": "code",
   "execution_count": 124,
   "id": "e8f93620",
   "metadata": {
    "colab": {
     "base_uri": "https://localhost:8080/"
    },
    "executionInfo": {
     "elapsed": 11,
     "status": "ok",
     "timestamp": 1746152254068,
     "user": {
      "displayName": "남궁건우",
      "userId": "00560730431062529338"
     },
     "user_tz": -540
    },
    "id": "e8f93620",
    "outputId": "04b83df6-cdcc-4e4c-838d-41b277f2e7d5"
   },
   "outputs": [
    {
     "data": {
      "text/plain": [
       "tensor([9, 6, 7, 1, 8, 3, 6, 2, 1, 8, 3, 3, 9, 5, 2, 1, 2, 3, 3, 7, 6, 3, 8, 8,\n",
       "        9, 9, 5, 5, 9, 8, 5, 7, 4, 2, 8, 1, 8, 2, 6, 9, 8, 7, 2])"
      ]
     },
     "execution_count": 124,
     "metadata": {},
     "output_type": "execute_result"
    }
   ],
   "source": [
    "# boolean index 처리 함수.\n",
    "t.masked_select(t > 0)"
   ]
  },
  {
   "cell_type": "code",
   "execution_count": 123,
   "id": "49576bbe",
   "metadata": {
    "id": "49576bbe"
   },
   "outputs": [
    {
     "data": {
      "text/plain": [
       "tensor([1, 3, 2, 1, 3, 3, 2, 1, 2, 3, 3, 3, 4, 2, 1, 2, 2])"
      ]
     },
     "execution_count": 123,
     "metadata": {},
     "output_type": "execute_result"
    }
   ],
   "source": [
    "t[(t > 0) & (t < 5)]"
   ]
  },
  {
   "cell_type": "code",
   "execution_count": 125,
   "id": "28e13041-ca1b-4a4d-8bd7-a85c9b7cc832",
   "metadata": {
    "colab": {
     "base_uri": "https://localhost:8080/"
    },
    "executionInfo": {
     "elapsed": 13,
     "status": "ok",
     "timestamp": 1746152283855,
     "user": {
      "displayName": "남궁건우",
      "userId": "00560730431062529338"
     },
     "user_tz": -540
    },
    "id": "28e13041-ca1b-4a4d-8bd7-a85c9b7cc832",
    "outputId": "b3b23854-bb21-4cac-cc92-9251f40339a2"
   },
   "outputs": [
    {
     "data": {
      "text/plain": [
       "tensor([  0,   9,  -8,   6,   7,  -6,  -4,  -8,   1,  -9,  -7,   8, -10,   3,\n",
       "          6,   2,  -5,   1,  -6,   8, -10,  -9,   3,   3,  -3,  -6,   9,  -7,\n",
       "         -9,  -9,   5,   2,  -4,   1,   2,  -5,   3,  -2,  -8,   3,  -1,   7,\n",
       "          6,  -3,   3,  -3,   8,  -1,  -5,   8,  -5,   9, -10,  -7,  -2,  -2,\n",
       "          9,  -7,   5,  -3,  -8,  -1, -10,  -3,   5,   9,   8,  -3,   5,  -7,\n",
       "          7,   4,  -7, -10,   2, -10,   8,   0,  -2,   1,   8,   2,   6,  -3,\n",
       "         -9,   0,  -7,  -2,  -6,   9,   8,   7,  -5,  -6,  -4,  -1,  -4,  -4,\n",
       "          2,  -1])"
      ]
     },
     "execution_count": 125,
     "metadata": {},
     "output_type": "execute_result"
    }
   ],
   "source": [
    "t"
   ]
  },
  {
   "cell_type": "code",
   "execution_count": 127,
   "id": "03a01027",
   "metadata": {
    "colab": {
     "base_uri": "https://localhost:8080/"
    },
    "executionInfo": {
     "elapsed": 8,
     "status": "ok",
     "timestamp": 1746152284108,
     "user": {
      "displayName": "남궁건우",
      "userId": "00560730431062529338"
     },
     "user_tz": -540
    },
    "id": "03a01027",
    "outputId": "cc488ab6-6535-4ca8-d68b-ea84de6b6a67",
    "scrolled": true
   },
   "outputs": [
    {
     "data": {
      "text/plain": [
       "tensor([100,   9,  -8,   6,   7,  -6,  -4,  -8,   1,  -9,  -7,   8, -10,   3,\n",
       "          6,   2,  -5,   1,  -6,   8, -10,  -9,   3,   3,  -3,  -6,   9,  -7,\n",
       "         -9,  -9,   5,   2,  -4,   1,   2,  -5,   3,  -2,  -8,   3,  -1,   7,\n",
       "          6,  -3,   3,  -3,   8,  -1,  -5,   8,  -5,   9, -10,  -7,  -2,  -2,\n",
       "          9,  -7,   5,  -3,  -8,  -1, -10,  -3,   5,   9,   8,  -3,   5,  -7,\n",
       "          7,   4,  -7, -10,   2, -10,   8,   0,  -2,   1,   8,   2,   6,  -3,\n",
       "         -9,   0,  -7,  -2,  -6,   9,   8,   7,  -5,  -6,  -4,  -1,  -4,  -4,\n",
       "          2,  -1])"
      ]
     },
     "execution_count": 127,
     "metadata": {},
     "output_type": "execute_result"
    }
   ],
   "source": [
    "# 변경\n",
    "t[0] = 100\n",
    "t"
   ]
  },
  {
   "cell_type": "code",
   "execution_count": 128,
   "id": "49419f63",
   "metadata": {
    "colab": {
     "base_uri": "https://localhost:8080/"
    },
    "executionInfo": {
     "elapsed": 10,
     "status": "ok",
     "timestamp": 1746152356370,
     "user": {
      "displayName": "남궁건우",
      "userId": "00560730431062529338"
     },
     "user_tz": -540
    },
    "id": "49419f63",
    "outputId": "71f9f1c8-6832-4b1c-b7c8-80fcb5ad21b5"
   },
   "outputs": [
    {
     "data": {
      "text/plain": [
       "tensor([[1, 2, 3],\n",
       "        [4, 5, 6],\n",
       "        [7, 8, 9]])"
      ]
     },
     "execution_count": 128,
     "metadata": {},
     "output_type": "execute_result"
    }
   ],
   "source": [
    "t = torch.arange(1, 10).reshape(3,3)\n",
    "t"
   ]
  },
  {
   "cell_type": "code",
   "execution_count": 129,
   "id": "67affa22",
   "metadata": {
    "colab": {
     "base_uri": "https://localhost:8080/"
    },
    "executionInfo": {
     "elapsed": 9,
     "status": "ok",
     "timestamp": 1746152357065,
     "user": {
      "displayName": "남궁건우",
      "userId": "00560730431062529338"
     },
     "user_tz": -540
    },
    "id": "67affa22",
    "outputId": "f308a066-d500-4cb8-ff06-ec4a42e9e83c"
   },
   "outputs": [
    {
     "data": {
      "text/plain": [
       "(6, 3)"
      ]
     },
     "execution_count": 129,
     "metadata": {},
     "output_type": "execute_result"
    }
   ],
   "source": [
    "# t[ 0축, 1축 ]\n",
    "t[1, 2].item(),\\\n",
    "t[0, 2].item()"
   ]
  },
  {
   "cell_type": "code",
   "execution_count": 130,
   "id": "15855bcf",
   "metadata": {
    "id": "15855bcf"
   },
   "outputs": [
    {
     "data": {
      "text/plain": [
       "tensor([6, 3])"
      ]
     },
     "execution_count": 130,
     "metadata": {},
     "output_type": "execute_result"
    }
   ],
   "source": [
    "t[[1,0], [2,2]]  #(1,2), (0,2)\n",
    "# t[[첫번째값, 두번째값]-0축, [첫번째값, 두번째값]-1축]"
   ]
  },
  {
   "cell_type": "markdown",
   "id": "a02f14d8",
   "metadata": {
    "id": "a02f14d8"
   },
   "source": [
    "# Reshape"
   ]
  },
  {
   "cell_type": "markdown",
   "id": "221e70f8",
   "metadata": {
    "id": "221e70f8"
   },
   "source": [
    "## shape 변경\n",
    "- tensor객체.reshape(\\*shape) / view(\\*shape) 이용\n",
    "    - 변환만 했을 경우, 원본에는 변화 없음\n",
    "    - ex a가 1차원 12개인경우. b = a.reshape(3,4)라면, >> b라는 데이터가 새로 생긴게 아니라, a에 대한 접근을 3x4로 다르게 접하는것이다. 결국 둘은 같은 데이터! 따라서 b의 값을 바꾸면 a의 값도 바뀐다.\n",
    "    - 즉, 변환 후 값을 변경하면 원본 배열의 값도 같이 바뀐다.\n",
    " > tensor.clone(): tensor를 복제한다."
   ]
  },
  {
   "cell_type": "code",
   "execution_count": 159,
   "id": "71f88268",
   "metadata": {
    "colab": {
     "base_uri": "https://localhost:8080/"
    },
    "executionInfo": {
     "elapsed": 11,
     "status": "ok",
     "timestamp": 1746152825587,
     "user": {
      "displayName": "남궁건우",
      "userId": "00560730431062529338"
     },
     "user_tz": -540
    },
    "id": "71f88268",
    "outputId": "9d4d3e43-aa0f-421b-b9e2-ee3e86d464cf"
   },
   "outputs": [
    {
     "name": "stdout",
     "output_type": "stream",
     "text": [
      "torch.Size([12]) torch.Size([3, 4]) torch.Size([3, 2, 2]) torch.Size([3, 2, 2])\n"
     ]
    }
   ],
   "source": [
    "a=torch.rand(12)\n",
    "a2 = a.reshape(3, 4)\n",
    "a3 = a.reshape((3, 2, 2))\n",
    "a4 = a.reshape((3, 2, -1))  #한 개 axis는 -1로 설정가능하고 그럼 계산해서 알아서 설정해 준다.\n",
    "print(a.shape, a2.size(), a3.shape, a4.shape)"
   ]
  },
  {
   "cell_type": "code",
   "execution_count": 138,
   "id": "6744974f",
   "metadata": {
    "colab": {
     "base_uri": "https://localhost:8080/"
    },
    "executionInfo": {
     "elapsed": 25,
     "status": "ok",
     "timestamp": 1746152826032,
     "user": {
      "displayName": "남궁건우",
      "userId": "00560730431062529338"
     },
     "user_tz": -540
    },
    "id": "6744974f",
    "outputId": "bad04b9b-2f3a-4773-a836-e6d3574745be"
   },
   "outputs": [
    {
     "name": "stdout",
     "output_type": "stream",
     "text": [
      "torch.Size([12]) torch.Size([3, 4]) torch.Size([3, 2, 2]) torch.Size([3, 2, 2])\n"
     ]
    }
   ],
   "source": [
    "a5 = a.view(3,4)\n",
    "a6 = a.view((3,2,2))\n",
    "a7 = a.view((3,2,-1))  #한개 axis는 -1로 설정가능\n",
    "print(a.shape, a5.size(), a6.shape, a7.shape)"
   ]
  },
  {
   "cell_type": "code",
   "execution_count": 160,
   "id": "3222d3d8",
   "metadata": {},
   "outputs": [
    {
     "data": {
      "text/plain": [
       "(tensor([0.6549, 0.4128, 0.5845, 0.3557, 0.6965, 0.6978, 0.6343, 0.3051, 0.9266,\n",
       "         0.4278, 0.3053, 0.8132]),\n",
       " tensor([[0.6549, 0.4128, 0.5845, 0.3557],\n",
       "         [0.6965, 0.6978, 0.6343, 0.3051],\n",
       "         [0.9266, 0.4278, 0.3053, 0.8132]]),\n",
       " tensor([[[0.6549, 0.4128],\n",
       "          [0.5845, 0.3557]],\n",
       " \n",
       "         [[0.6965, 0.6978],\n",
       "          [0.6343, 0.3051]],\n",
       " \n",
       "         [[0.9266, 0.4278],\n",
       "          [0.3053, 0.8132]]]),\n",
       " tensor([[[0.6549, 0.4128],\n",
       "          [0.5845, 0.3557]],\n",
       " \n",
       "         [[0.6965, 0.6978],\n",
       "          [0.6343, 0.3051]],\n",
       " \n",
       "         [[0.9266, 0.4278],\n",
       "          [0.3053, 0.8132]]]))"
      ]
     },
     "execution_count": 160,
     "metadata": {},
     "output_type": "execute_result"
    }
   ],
   "source": [
    "a,a2,a3,a4"
   ]
  },
  {
   "cell_type": "code",
   "execution_count": 140,
   "id": "8ace33cf",
   "metadata": {
    "colab": {
     "base_uri": "https://localhost:8080/"
    },
    "executionInfo": {
     "elapsed": 11,
     "status": "ok",
     "timestamp": 1746152826906,
     "user": {
      "displayName": "남궁건우",
      "userId": "00560730431062529338"
     },
     "user_tz": -540
    },
    "id": "8ace33cf",
    "outputId": "9236bfa0-9e52-4136-eef4-89cba9f9007b"
   },
   "outputs": [
    {
     "name": "stdout",
     "output_type": "stream",
     "text": [
      "tensor([[0.4245, 0.4086, 0.1574, 0.5412],\n",
      "        [0.5497, 0.4367, 0.5693, 0.3018],\n",
      "        [0.6301, 0.6886, 0.2366, 0.0042]])\n",
      "tensor([[4.2452e-01, 1.5100e+01, 1.5738e-01, 5.4119e-01],\n",
      "        [5.4969e-01, 4.3669e-01, 5.6932e-01, 3.0182e-01],\n",
      "        [6.3013e-01, 6.8857e-01, 2.3663e-01, 4.2105e-03]])\n"
     ]
    }
   ],
   "source": [
    "# a5[0, 0] = 12.1\n",
    "print(a2)\n",
    "a2[0, 1] = 15.1 # 변환 후 값을 변경하면 원본도 바뀜\n",
    "print(a2)"
   ]
  },
  {
   "cell_type": "code",
   "execution_count": 142,
   "id": "88561ee6",
   "metadata": {
    "id": "88561ee6"
   },
   "outputs": [
    {
     "name": "stdout",
     "output_type": "stream",
     "text": [
      "tensor([4.2452e-01, 1.5100e+01, 1.5738e-01, 5.4119e-01, 5.4969e-01, 4.3669e-01,\n",
      "        5.6932e-01, 3.0182e-01, 6.3013e-01, 6.8857e-01, 2.3663e-01, 4.2105e-03]) tensor([[1.0010e+02, 1.5100e+01, 1.5738e-01, 5.4119e-01],\n",
      "        [5.4969e-01, 4.3669e-01, 5.6932e-01, 3.0182e-01],\n",
      "        [6.3013e-01, 6.8857e-01, 2.3663e-01, 4.2105e-03]])\n"
     ]
    }
   ],
   "source": [
    "# tensor복사: clone() 메소드. 변환 후 값 변경시 원본 바뀌므로, clone을 통해 원본을 저장해둔다.\n",
    "r = a.reshape(3, 4).clone()\n",
    "r[0,0] = 100.1\n",
    "print(a, r)"
   ]
  },
  {
   "cell_type": "markdown",
   "id": "fa8c2fa4",
   "metadata": {
    "id": "fa8c2fa4"
   },
   "source": [
    "## dummy 축 늘리기\n",
    "\n",
    "- None을 이용 (numpy의 newaxis 대신 None을 사용한다.)\n",
    "- unsqueeze(dim=축번호)"
   ]
  },
  {
   "cell_type": "code",
   "execution_count": 143,
   "id": "356a078c",
   "metadata": {
    "colab": {
     "base_uri": "https://localhost:8080/"
    },
    "executionInfo": {
     "elapsed": 8,
     "status": "ok",
     "timestamp": 1746153455348,
     "user": {
      "displayName": "남궁건우",
      "userId": "00560730431062529338"
     },
     "user_tz": -540
    },
    "id": "356a078c",
    "outputId": "d812efc4-ba99-44a0-81a6-373b0649577b"
   },
   "outputs": [
    {
     "name": "stdout",
     "output_type": "stream",
     "text": [
      "torch.Size([2, 2])\n",
      "torch.Size([1, 2, 2]) torch.Size([1, 2, 2])\n",
      "torch.Size([2, 2, 1]) torch.Size([2, 2, 1])\n",
      "torch.Size([2, 1, 2, 1, 1]) torch.Size([2, 1, 2, 1])\n"
     ]
    }
   ],
   "source": [
    "import torch\n",
    "a = torch.tensor([[10,20],[10,20]])\n",
    "print(a.shape)\n",
    "\n",
    "a1, a2 = a[None, :], a.unsqueeze(dim=0) # dim=정수만가능. 어느 차원에 더미축을 추가할지 적는 것.\n",
    "# 앞에 더미축을 넣을때는 위와 같이 None과 : 하나만으로 해결가능\n",
    "print(a1.shape, a2.shape)\n",
    "\n",
    "a3, a4 = a[:, :, None], a.unsqueeze(dim=-1)\n",
    "# 뒤에 더미축을 넣을때는 앞에 존재했던 축들마다 :를 넣어줘야함. 그래서 unsqueeze쓰는게 나음\n",
    "a[:, None] # 0축 :, 1축 None, 2번축 지정안함 -> 원래대로 그래서 (2, 1, 2) 가됨.\n",
    "print(a3.shape, a4.shape)\n",
    "\n",
    "a5, a6 = a3[:,None,:,:, None],  a3.unsqueeze(dim=1)  # unsqueeze(): dim=정수만가능 (한번에 dummy축은 하나만 추가가능.)\n",
    "print(a5.shape, a6.shape)"
   ]
  },
  {
   "cell_type": "markdown",
   "id": "9947b6ac",
   "metadata": {
    "id": "9947b6ac"
   },
   "source": [
    "## dummy 축 제거\n",
    "- squeeze(\\[dim=축번호\\]) 이용"
   ]
  },
  {
   "cell_type": "code",
   "execution_count": 146,
   "id": "4e40b9cf",
   "metadata": {
    "id": "4e40b9cf"
   },
   "outputs": [
    {
     "name": "stdout",
     "output_type": "stream",
     "text": [
      "torch.Size([3, 1, 4, 1, 5, 1])\n",
      "torch.Size([3, 4, 5])\n",
      "torch.Size([3, 4, 1, 5, 1])\n",
      "torch.Size([3, 4, 5, 1])\n"
     ]
    }
   ],
   "source": [
    "t = torch.rand(3, 1, 4, 1, 5, 1)\n",
    "print(t.shape)\n",
    "\n",
    "r1 = t.squeeze()  #축을 명시 하지 않으면 모두 제거\n",
    "print(r1.shape)\n",
    "\n",
    "r2 = t.squeeze(dim=1) # 특정 axis 제거\n",
    "print(r2.shape)\n",
    "\n",
    "r3 = t.squeeze(dim=[1,3]) # 여러 axis의 dummy 축 제거\n",
    "print(r3.shape)"
   ]
  },
  {
   "cell_type": "markdown",
   "id": "b3018717",
   "metadata": {
    "id": "b3018717"
   },
   "source": [
    "# tensor 합치기\n",
    "torch.cat([tensorA, tensorB, ...], dim=0) : 기준축 default 는 0.\n",
    "\n",
    "-합치려는 방향의 축을 제외한 나머지 축들의 size가 같아야한다.\n",
    "- ex (3,4,5,6) 과 (5,4,5,6)을 0번축을 기준으로 합치면? 나머지 4,5,6이 같으므로 합칠 수 있다. 결과 >> (8,4,5,6)이 만들어짐\n",
    "- but 1번축을 기준으로 하여 합친다면? 1번축 4를 제외한 나머지중, 0번축이 3과 5가 다르므로 합칠 수 없다."
   ]
  },
  {
   "cell_type": "code",
   "execution_count": 148,
   "id": "7564c2b5",
   "metadata": {
    "executionInfo": {
     "elapsed": 14,
     "status": "ok",
     "timestamp": 1746268119953,
     "user": {
      "displayName": "남궁건우",
      "userId": "00560730431062529338"
     },
     "user_tz": -540
    },
    "id": "7564c2b5"
   },
   "outputs": [
    {
     "data": {
      "text/plain": [
       "(tensor([[0, 1, 2, 3, 4],\n",
       "         [5, 6, 7, 8, 9]]),\n",
       " tensor([[10, 11, 12, 13, 14],\n",
       "         [15, 16, 17, 18, 19]]),\n",
       " tensor([[20, 21, 22, 23, 24],\n",
       "         [25, 26, 27, 28, 29]]),\n",
       " tensor([[10, 11, 12],\n",
       "         [13, 14, 15],\n",
       "         [16, 17, 18]]))"
      ]
     },
     "execution_count": 148,
     "metadata": {},
     "output_type": "execute_result"
    }
   ],
   "source": [
    "a = torch.arange(10).reshape(2,5)\n",
    "b = torch.arange(10,20).reshape(2,5)\n",
    "c = torch.arange(20,30).reshape(2,5)\n",
    "d = torch.arange(10,19).reshape(3,3)\n",
    "a,b,c,d"
   ]
  },
  {
   "cell_type": "code",
   "execution_count": 149,
   "id": "a633d695",
   "metadata": {
    "colab": {
     "base_uri": "https://localhost:8080/"
    },
    "collapsed": true,
    "executionInfo": {
     "elapsed": 6,
     "status": "ok",
     "timestamp": 1746268120163,
     "user": {
      "displayName": "남궁건우",
      "userId": "00560730431062529338"
     },
     "user_tz": -540
    },
    "id": "a633d695",
    "jupyter": {
     "outputs_hidden": true
    },
    "outputId": "63964808-7a34-4e48-f4f7-2eb0eba12a49"
   },
   "outputs": [
    {
     "data": {
      "text/plain": [
       "tensor([[ 0,  1,  2,  3,  4],\n",
       "        [ 5,  6,  7,  8,  9],\n",
       "        [10, 11, 12, 13, 14],\n",
       "        [15, 16, 17, 18, 19]])"
      ]
     },
     "execution_count": 149,
     "metadata": {},
     "output_type": "execute_result"
    }
   ],
   "source": [
    "torch.cat([a, b], dim=0) # 0번방향이므로, 2,5 와 2,5 가 합쳐져서 4,5 됨(즉, a아래에 b가 그대로 붙는 것.)"
   ]
  },
  {
   "cell_type": "code",
   "execution_count": 150,
   "id": "6ee08217",
   "metadata": {
    "colab": {
     "base_uri": "https://localhost:8080/"
    },
    "collapsed": true,
    "executionInfo": {
     "elapsed": 6,
     "status": "ok",
     "timestamp": 1746153979301,
     "user": {
      "displayName": "남궁건우",
      "userId": "00560730431062529338"
     },
     "user_tz": -540
    },
    "id": "6ee08217",
    "jupyter": {
     "outputs_hidden": true
    },
    "outputId": "aba5fc19-f416-4c8d-e775-4a8dfc8d2bc7"
   },
   "outputs": [
    {
     "data": {
      "text/plain": [
       "tensor([[ 0,  1,  2,  3,  4],\n",
       "        [ 5,  6,  7,  8,  9],\n",
       "        [10, 11, 12, 13, 14],\n",
       "        [15, 16, 17, 18, 19],\n",
       "        [20, 21, 22, 23, 24],\n",
       "        [25, 26, 27, 28, 29]])"
      ]
     },
     "execution_count": 150,
     "metadata": {},
     "output_type": "execute_result"
    }
   ],
   "source": [
    "torch.cat([a, b, c], dim=0)"
   ]
  },
  {
   "cell_type": "code",
   "execution_count": 151,
   "id": "edb2f33a",
   "metadata": {
    "colab": {
     "base_uri": "https://localhost:8080/"
    },
    "executionInfo": {
     "elapsed": 12,
     "status": "ok",
     "timestamp": 1746153979887,
     "user": {
      "displayName": "남궁건우",
      "userId": "00560730431062529338"
     },
     "user_tz": -540
    },
    "id": "edb2f33a",
    "outputId": "0819bb7d-0a56-44e8-ac9f-ecbd0b39bda2"
   },
   "outputs": [
    {
     "data": {
      "text/plain": [
       "tensor([[ 0,  1,  2,  3,  4, 10, 11, 12, 13, 14],\n",
       "        [ 5,  6,  7,  8,  9, 15, 16, 17, 18, 19]])"
      ]
     },
     "execution_count": 151,
     "metadata": {},
     "output_type": "execute_result"
    }
   ],
   "source": [
    "torch.cat([a, b], axis=1) # dim 대신 axis사용가능"
   ]
  },
  {
   "cell_type": "code",
   "execution_count": 152,
   "id": "25f7277a",
   "metadata": {
    "colab": {
     "base_uri": "https://localhost:8080/"
    },
    "executionInfo": {
     "elapsed": 21,
     "status": "ok",
     "timestamp": 1746153980151,
     "user": {
      "displayName": "남궁건우",
      "userId": "00560730431062529338"
     },
     "user_tz": -540
    },
    "id": "25f7277a",
    "outputId": "509fd053-dc0a-446f-c2dd-9e6e07b5d8ac"
   },
   "outputs": [
    {
     "data": {
      "text/plain": [
       "tensor([[ 0,  1,  2,  3,  4, 10, 11, 12, 13, 14, 20, 21, 22, 23, 24],\n",
       "        [ 5,  6,  7,  8,  9, 15, 16, 17, 18, 19, 25, 26, 27, 28, 29]])"
      ]
     },
     "execution_count": 152,
     "metadata": {},
     "output_type": "execute_result"
    }
   ],
   "source": [
    "torch.cat([a, b, c], axis=1)"
   ]
  },
  {
   "cell_type": "code",
   "execution_count": 153,
   "id": "82477d9e",
   "metadata": {
    "colab": {
     "base_uri": "https://localhost:8080/"
    },
    "executionInfo": {
     "elapsed": 9,
     "status": "ok",
     "timestamp": 1746153980750,
     "user": {
      "displayName": "남궁건우",
      "userId": "00560730431062529338"
     },
     "user_tz": -540
    },
    "id": "82477d9e",
    "outputId": "71d046aa-6466-49f8-b656-2eeb4300691c"
   },
   "outputs": [
    {
     "data": {
      "text/plain": [
       "tensor([[ 0,  1,  2,  3,  4, 10, 11, 12, 13, 14],\n",
       "        [ 5,  6,  7,  8,  9, 15, 16, 17, 18, 19]])"
      ]
     },
     "execution_count": 153,
     "metadata": {},
     "output_type": "execute_result"
    }
   ],
   "source": [
    "torch.cat([a, b], axis=-1)  # -1: 마지막 axis"
   ]
  },
  {
   "cell_type": "code",
   "execution_count": 155,
   "id": "f441999c",
   "metadata": {
    "id": "f441999c"
   },
   "outputs": [
    {
     "ename": "RuntimeError",
     "evalue": "Sizes of tensors must match except in dimension 0. Expected size 5 but got size 3 for tensor number 1 in the list.",
     "output_type": "error",
     "traceback": [
      "\u001b[31m---------------------------------------------------------------------------\u001b[39m",
      "\u001b[31mRuntimeError\u001b[39m                              Traceback (most recent call last)",
      "\u001b[36mCell\u001b[39m\u001b[36m \u001b[39m\u001b[32mIn[155]\u001b[39m\u001b[32m, line 3\u001b[39m\n\u001b[32m      1\u001b[39m a.shape, d.shape\n\u001b[32m      2\u001b[39m \u001b[38;5;66;03m# 합치는 기준축 이외의 축 size는 같아야 한다.\u001b[39;00m\n\u001b[32m----> \u001b[39m\u001b[32m3\u001b[39m \u001b[43mtorch\u001b[49m\u001b[43m.\u001b[49m\u001b[43mcat\u001b[49m\u001b[43m(\u001b[49m\u001b[43m[\u001b[49m\u001b[43ma\u001b[49m\u001b[43m,\u001b[49m\u001b[43m \u001b[49m\u001b[43md\u001b[49m\u001b[43m]\u001b[49m\u001b[43m)\u001b[49m  \u001b[38;5;66;03m#dim=0, Error  1축 size가 달라서 Error\u001b[39;00m\n",
      "\u001b[31mRuntimeError\u001b[39m: Sizes of tensors must match except in dimension 0. Expected size 5 but got size 3 for tensor number 1 in the list."
     ]
    }
   ],
   "source": [
    "a.shape, d.shape\n",
    "# 합치는 기준축 이외의 축 size는 같아야 한다.\n",
    "torch.cat([a, d])  #dim=0, Error  1축 size가 달라서 Error"
   ]
  },
  {
   "cell_type": "markdown",
   "id": "c1aaa81f",
   "metadata": {
    "id": "c1aaa81f"
   },
   "source": [
    "# 값의 위치(index) 변경\n",
    "- tensor 원소의 index의 위치를 바꾼다.\n",
    "- `tensor.transpose(axis1, axis2)`\n",
    "    - 두 축의 자리만 변경 할 수 있다.\n",
    "- `tensor.permute(axis1, axis2, axis3, ..)`\n",
    "    - 두 개 이상의 축 자리를 변경한다."
   ]
  },
  {
   "cell_type": "code",
   "execution_count": 157,
   "id": "c621ab2d",
   "metadata": {
    "colab": {
     "base_uri": "https://localhost:8080/"
    },
    "executionInfo": {
     "elapsed": 11,
     "status": "ok",
     "timestamp": 1746155636243,
     "user": {
      "displayName": "남궁건우",
      "userId": "00560730431062529338"
     },
     "user_tz": -540
    },
    "id": "c621ab2d",
    "outputId": "a50bd712-c8e8-4370-9503-792fb431195a"
   },
   "outputs": [
    {
     "name": "stdout",
     "output_type": "stream",
     "text": [
      "torch.Size([2, 3, 4])\n",
      "torch.Size([2, 4, 3])\n",
      "torch.Size([4, 2, 3])\n",
      "--------------------------------------------------\n",
      "tensor([[[ 0,  1,  2,  3],\n",
      "         [ 4,  5,  6,  7],\n",
      "         [ 8,  9, 10, 11]],\n",
      "\n",
      "        [[12, 13, 14, 15],\n",
      "         [16, 17, 18, 19],\n",
      "         [20, 21, 22, 23]]])\n",
      "--------------------------------------------------\n",
      "tensor([[[ 0,  4,  8],\n",
      "         [ 1,  5,  9],\n",
      "         [ 2,  6, 10],\n",
      "         [ 3,  7, 11]],\n",
      "\n",
      "        [[12, 16, 20],\n",
      "         [13, 17, 21],\n",
      "         [14, 18, 22],\n",
      "         [15, 19, 23]]])\n",
      "--------------------------------------------------\n",
      "tensor([[[ 0,  4,  8],\n",
      "         [12, 16, 20]],\n",
      "\n",
      "        [[ 1,  5,  9],\n",
      "         [13, 17, 21]],\n",
      "\n",
      "        [[ 2,  6, 10],\n",
      "         [14, 18, 22]],\n",
      "\n",
      "        [[ 3,  7, 11],\n",
      "         [15, 19, 23]]])\n"
     ]
    }
   ],
   "source": [
    "X = torch.arange(24).reshape(2, 3, 4)\n",
    "print(X.shape)\n",
    "\n",
    "y = X.transpose(1, 2)\n",
    "print(y.shape)\n",
    "\n",
    "z = X.permute(2, 0, 1) # 0,1,2 축에 각각 2,0,1번축을 넣는다.\n",
    "print(z.shape)\n",
    "\n",
    "\n",
    "\n",
    "print('-'*50)\n",
    "print(X) # reshape과는 다르다! 값들 자체가 달라짐\n",
    "print('-'*50)\n",
    "print(y)\n",
    "print('-'*50)\n",
    "print(z)"
   ]
  },
  {
   "cell_type": "markdown",
   "id": "2bfe8a88",
   "metadata": {
    "id": "2bfe8a88"
   },
   "source": [
    "# tensor 연산 및 주요 함수\n",
    "\n",
    "## element-wise 연산\n",
    "- tensor와 상수 연산시, tensor와 tensor간 연산시 원소별로 처리한다.\n",
    "- 행렬곱 연산을 제외하고 tensor간 연산시 피연산자 tensor간에 shape이 같아야 한다.\n",
    "    - shape이 다를 경우 조건이 맞으면 broadcasting을 한 뒤에 연산한다. (size가 다른 축의 경우 한개의 피연산자 size가 1일 경우 복사하여 shape을 맞춘다.)\n",
    "    "
   ]
  },
  {
   "cell_type": "code",
   "execution_count": 161,
   "id": "85d3d7a3",
   "metadata": {
    "colab": {
     "base_uri": "https://localhost:8080/"
    },
    "executionInfo": {
     "elapsed": 12,
     "status": "ok",
     "timestamp": 1746155986913,
     "user": {
      "displayName": "남궁건우",
      "userId": "00560730431062529338"
     },
     "user_tz": -540
    },
    "id": "85d3d7a3",
    "outputId": "7a673a53-d863-469b-e048-4f3dc2e7fd03"
   },
   "outputs": [
    {
     "name": "stdout",
     "output_type": "stream",
     "text": [
      "tensor([[0, 1, 2, 3, 4],\n",
      "        [5, 6, 7, 8, 9]])\n",
      "tensor([[10, 11, 12, 13, 14],\n",
      "        [15, 16, 17, 18, 19]])\n",
      "tensor([50, 51, 52, 53, 54])\n"
     ]
    }
   ],
   "source": [
    "import torch\n",
    "\n",
    "a = torch.arange(10).reshape(2,5)\n",
    "b = torch.arange(10,20).reshape(2,5)\n",
    "c = torch.arange(50, 55)\n",
    "\n",
    "print(a)\n",
    "print(b)\n",
    "print(c)"
   ]
  },
  {
   "cell_type": "code",
   "execution_count": 162,
   "id": "24f4f435",
   "metadata": {
    "colab": {
     "base_uri": "https://localhost:8080/"
    },
    "executionInfo": {
     "elapsed": 10,
     "status": "ok",
     "timestamp": 1746155988560,
     "user": {
      "displayName": "남궁건우",
      "userId": "00560730431062529338"
     },
     "user_tz": -540
    },
    "id": "24f4f435",
    "outputId": "1a6cccaf-1d8b-4354-a14b-03527f8320e6"
   },
   "outputs": [
    {
     "name": "stdout",
     "output_type": "stream",
     "text": [
      "tensor([[100, 101, 102, 103, 104],\n",
      "        [105, 106, 107, 108, 109]])\n",
      "tensor([[-100,  -99,  -98,  -97,  -96],\n",
      "        [ -95,  -94,  -93,  -92,  -91]])\n",
      "tensor([[ True,  True,  True,  True,  True],\n",
      "        [False, False, False, False, False]])\n"
     ]
    }
   ],
   "source": [
    "print(a + 100)\n",
    "print(a - 100)\n",
    "print(a < 5)"
   ]
  },
  {
   "cell_type": "code",
   "execution_count": null,
   "id": "1a5ed369",
   "metadata": {
    "colab": {
     "base_uri": "https://localhost:8080/"
    },
    "executionInfo": {
     "elapsed": 11,
     "status": "ok",
     "timestamp": 1746155989468,
     "user": {
      "displayName": "남궁건우",
      "userId": "00560730431062529338"
     },
     "user_tz": -540
    },
    "id": "1a5ed369",
    "outputId": "cbe4b0b3-953e-4542-c44a-ce5c7e4018a2"
   },
   "outputs": [
    {
     "name": "stdout",
     "output_type": "stream",
     "text": [
      "tensor([[10, 12, 14, 16, 18],\n",
      "        [20, 22, 24, 26, 28]])\n",
      "tensor([[False, False, False, False, False],\n",
      "        [False, False, False, False, False]])\n"
     ]
    }
   ],
   "source": [
    "print(a + b)\n",
    "print(a == b)"
   ]
  },
  {
   "cell_type": "code",
   "execution_count": null,
   "id": "46ceb3e6-ecd2-41b0-b3c8-c2e87e05171f",
   "metadata": {
    "colab": {
     "base_uri": "https://localhost:8080/"
    },
    "executionInfo": {
     "elapsed": 10,
     "status": "ok",
     "timestamp": 1746156023157,
     "user": {
      "displayName": "남궁건우",
      "userId": "00560730431062529338"
     },
     "user_tz": -540
    },
    "id": "46ceb3e6-ecd2-41b0-b3c8-c2e87e05171f",
    "outputId": "d1c17811-5000-4ed2-c79d-1f21c306ccbf"
   },
   "outputs": [
    {
     "data": {
      "text/plain": [
       "(torch.Size([2, 5]), torch.Size([5]))"
      ]
     },
     "execution_count": 64,
     "metadata": {},
     "output_type": "execute_result"
    }
   ],
   "source": [
    "a.size(), c.size()"
   ]
  },
  {
   "cell_type": "code",
   "execution_count": 171,
   "id": "15256a5e",
   "metadata": {
    "colab": {
     "base_uri": "https://localhost:8080/"
    },
    "executionInfo": {
     "elapsed": 13,
     "status": "ok",
     "timestamp": 1746156024591,
     "user": {
      "displayName": "남궁건우",
      "userId": "00560730431062529338"
     },
     "user_tz": -540
    },
    "id": "15256a5e",
    "outputId": "ce93f818-38fe-4803-93a4-8b158ae82a3d"
   },
   "outputs": [
    {
     "name": "stdout",
     "output_type": "stream",
     "text": [
      "tensor([[0, 1, 2, 3, 4],\n",
      "        [5, 6, 7, 8, 9]])\n",
      "tensor([50, 51, 52, 53, 54])\n",
      "tensor([[50, 52, 54, 56, 58],\n",
      "        [55, 57, 59, 61, 63]])\n"
     ]
    }
   ],
   "source": [
    "# broadcasting\n",
    "# 사이즈가 달라도 broadcasting이 일어남. c -> [[50, 51, 52, 53, 54], [50, 51, 52, 53, 54]] 를 한다음에 a의 각 행과 더함.\n",
    "print(f\"{a}\\n{c}\\n{a + c}\")"
   ]
  },
  {
   "cell_type": "markdown",
   "id": "729874b2",
   "metadata": {
    "id": "729874b2"
   },
   "source": [
    "## 주요 연산함수\n",
    "\n",
    "### 주요 상수\n",
    "#### 자연상수 E"
   ]
  },
  {
   "cell_type": "code",
   "execution_count": 173,
   "id": "cb3ee16b",
   "metadata": {},
   "outputs": [
    {
     "data": {
      "text/plain": [
       "(2.718281828459045, 2.718281828459045, 3.141592653589793, 3.141592653589793)"
      ]
     },
     "execution_count": 173,
     "metadata": {},
     "output_type": "execute_result"
    }
   ],
   "source": [
    "torch.e, np.e, torch.pi, np.pi"
   ]
  },
  {
   "cell_type": "code",
   "execution_count": 174,
   "id": "22a50df6",
   "metadata": {
    "colab": {
     "base_uri": "https://localhost:8080/"
    },
    "executionInfo": {
     "elapsed": 13,
     "status": "ok",
     "timestamp": 1746156211271,
     "user": {
      "displayName": "남궁건우",
      "userId": "00560730431062529338"
     },
     "user_tz": -540
    },
    "id": "22a50df6",
    "outputId": "05606e12-191f-49b0-de67-6700236c3ad8"
   },
   "outputs": [
    {
     "name": "stdout",
     "output_type": "stream",
     "text": [
      "e값\n",
      "2.718281828459045 2.718281828459045\n",
      "pi값\n",
      "3.141592653589793 3.141592653589793\n"
     ]
    }
   ],
   "source": [
    "print(\"e값\")\n",
    "print(torch.e, np.e)\n",
    "\n",
    "print(\"pi값\")\n",
    "print(torch.pi, np.pi)"
   ]
  },
  {
   "cell_type": "markdown",
   "id": "b81d7323",
   "metadata": {
    "id": "b81d7323"
   },
   "source": [
    "#### torch.nan, torch.inf\n",
    "- nan: Not a Number, 주로 결측치를 표현한다.\n",
    "- inf: infinit 무한.\n",
    "    - torch.inf: 양의 무한\n",
    "    - -torch.inf: 음의 무한\n",
    "- torch.isnan(tensor)\n",
    "    - 원소별 결측치 확인. tensor 안에서 nan인 부분이 true\n",
    "- torch.isinf(tensor)    \n",
    "    - 원소별 inf 확인. tensor 안에서 inf인 부분이 true"
   ]
  },
  {
   "cell_type": "code",
   "execution_count": null,
   "id": "7a91f59b",
   "metadata": {
    "colab": {
     "base_uri": "https://localhost:8080/"
    },
    "executionInfo": {
     "elapsed": 10,
     "status": "ok",
     "timestamp": 1746156143754,
     "user": {
      "displayName": "남궁건우",
      "userId": "00560730431062529338"
     },
     "user_tz": -540
    },
    "id": "7a91f59b",
    "outputId": "8bac3617-ce92-4675-e74c-ae4c5cb168c5"
   },
   "outputs": [
    {
     "name": "stdout",
     "output_type": "stream",
     "text": [
      "True False\n",
      "True False\n"
     ]
    }
   ],
   "source": [
    "print(torch.inf > 10000000000000000, torch.inf < 10000000000)\n",
    "print(-torch.inf < -1000000000000000000000, -torch.inf > 10)\n"
   ]
  },
  {
   "cell_type": "code",
   "execution_count": 175,
   "id": "f0f9cdda",
   "metadata": {
    "colab": {
     "base_uri": "https://localhost:8080/"
    },
    "executionInfo": {
     "elapsed": 302,
     "status": "ok",
     "timestamp": 1746156345410,
     "user": {
      "displayName": "남궁건우",
      "userId": "00560730431062529338"
     },
     "user_tz": -540
    },
    "id": "f0f9cdda",
    "outputId": "3b572ce6-35ee-41ac-c60e-1ab300fbc788"
   },
   "outputs": [
    {
     "name": "stdout",
     "output_type": "stream",
     "text": [
      "tensor(nan)\n",
      "tensor([False, False,  True, False, False])\n",
      "tensor([False, False, False, False,  True])\n"
     ]
    }
   ],
   "source": [
    "print(torch.log(torch.tensor(-1))) # nan (계산결과가 없으므로-없는값-nan 반환). log(x)에서 x>0이어야하므로 x=-1에서는 값이 없다.\n",
    "print(torch.isnan(torch.tensor([1,2,torch.nan,3,4])))  # nan 여부 확인\n",
    "print(torch.isinf(torch.tensor([1,2,3,4,torch.inf])))  # inf 여부 확인"
   ]
  },
  {
   "cell_type": "markdown",
   "id": "86fdcb35",
   "metadata": {
    "id": "86fdcb35"
   },
   "source": [
    "## 주요 연산 함수"
   ]
  },
  {
   "cell_type": "code",
   "execution_count": 184,
   "id": "6fc6ac19",
   "metadata": {
    "colab": {
     "base_uri": "https://localhost:8080/"
    },
    "collapsed": true,
    "executionInfo": {
     "elapsed": 45,
     "status": "ok",
     "timestamp": 1746156511218,
     "user": {
      "displayName": "남궁건우",
      "userId": "00560730431062529338"
     },
     "user_tz": -540
    },
    "id": "6fc6ac19",
    "jupyter": {
     "outputs_hidden": true
    },
    "outputId": "4ba15f72-a252-4f6b-a341-848dd3e9af5c",
    "scrolled": true
   },
   "outputs": [
    {
     "name": "stdout",
     "output_type": "stream",
     "text": [
      "tensor([[-4, -3, -2],\n",
      "        [-1,  0,  1],\n",
      "        [ 2,  3,  4]])\n",
      "tensor([[4, 3, 2],\n",
      "        [1, 0, 1],\n",
      "        [2, 3, 4]])\n",
      "tensor([[2.0000, 1.7321, 1.4142],\n",
      "        [1.0000, 0.0000, 1.0000],\n",
      "        [1.4142, 1.7321, 2.0000]])\n",
      "tensor([[1.8316e-02, 4.9787e-02, 1.3534e-01],\n",
      "        [3.6788e-01, 1.0000e+00, 2.7183e+00],\n",
      "        [7.3891e+00, 2.0086e+01, 5.4598e+01]])\n",
      "tensor([[1.3863, 1.0986, 0.6931],\n",
      "        [0.0000,   -inf, 0.0000],\n",
      "        [0.6931, 1.0986, 1.3863]])\n",
      "tensor(1.)\n",
      "tensor(1.)\n",
      "tensor(2.)\n"
     ]
    }
   ],
   "source": [
    "x=torch.arange(-4, 5).reshape(3,3)\n",
    "print(x)\n",
    "print(torch.abs(x))\t\t\t\t\t# 절대값\n",
    "print(torch.sqrt(torch.abs(x)))\t\t# 제곱근\n",
    "print(torch.exp(x))\t\t\t\t\t# torch.e**x\n",
    "print(torch.log(torch.abs(x)))\n",
    "print(torch.log(torch.exp(torch.tensor(1))))\t# torch.log() 밑이 e인 로그계산\n",
    "print(torch.log10(torch.tensor(10)))         \t# torch.log10() 밑이 10인 로그계산\n",
    "print(torch.log2(torch.tensor(4)))           \t# torch.log2() 밑이 2인 로그계산"
   ]
  },
  {
   "cell_type": "code",
   "execution_count": 185,
   "id": "026192bd",
   "metadata": {
    "colab": {
     "base_uri": "https://localhost:8080/"
    },
    "collapsed": true,
    "executionInfo": {
     "elapsed": 13,
     "status": "ok",
     "timestamp": 1746156518984,
     "user": {
      "displayName": "남궁건우",
      "userId": "00560730431062529338"
     },
     "user_tz": -540
    },
    "id": "026192bd",
    "jupyter": {
     "outputs_hidden": true
    },
    "outputId": "4fcbb047-427d-4e8e-ee61-10f6da030fed",
    "scrolled": true
   },
   "outputs": [
    {
     "name": "stdout",
     "output_type": "stream",
     "text": [
      "tensor([[-5.7978, -2.0591, -2.8445],\n",
      "        [ 0.0215, -0.4218,  2.7699],\n",
      "        [ 1.4423,  2.5698,  4.2302]])\n",
      "tensor([[-6., -2., -3.],\n",
      "        [ 0., -0.,  3.],\n",
      "        [ 1.,  3.,  4.]])\n",
      "tensor([[-5.8000, -2.0600, -2.8400],\n",
      "        [ 0.0200, -0.4200,  2.7700],\n",
      "        [ 1.4400,  2.5700,  4.2300]])\n",
      "tensor([[-6., -3., -3.],\n",
      "        [ 0., -1.,  2.],\n",
      "        [ 1.,  2.,  4.]])\n",
      "tensor([[-5., -2., -2.],\n",
      "        [ 1., -0.,  3.],\n",
      "        [ 2.,  3.,  5.]])\n"
     ]
    }
   ],
   "source": [
    "y = x + torch.randn((3,3))\n",
    "print(y)\n",
    "print(torch.round(y)) # 반올림\n",
    "print(torch.round(y, decimals=2)) # 소수점 둘째자리 이하에서 반올림\n",
    "print(torch.floor(y)) # 내림\n",
    "print(torch.ceil(y)) # 올림"
   ]
  },
  {
   "cell_type": "markdown",
   "id": "358832d4",
   "metadata": {
    "id": "358832d4"
   },
   "source": [
    "### 행렬곱\n",
    "- `@` 연산자 또는 `torch.matmul(tensor1, tensor2)` 함수 이용"
   ]
  },
  {
   "cell_type": "code",
   "execution_count": 186,
   "id": "ac6cfff6",
   "metadata": {
    "id": "ac6cfff6"
   },
   "outputs": [],
   "source": [
    "import torch"
   ]
  },
  {
   "cell_type": "code",
   "execution_count": 189,
   "id": "eb349ca8",
   "metadata": {
    "colab": {
     "base_uri": "https://localhost:8080/"
    },
    "executionInfo": {
     "elapsed": 12,
     "status": "ok",
     "timestamp": 1746156686104,
     "user": {
      "displayName": "남궁건우",
      "userId": "00560730431062529338"
     },
     "user_tz": -540
    },
    "id": "eb349ca8",
    "outputId": "3a402f0e-4d72-48f4-f141-d3d39a04a1b1"
   },
   "outputs": [
    {
     "data": {
      "text/plain": [
       "(tensor([[1., 2.],\n",
       "         [3., 4.],\n",
       "         [5., 6.]]),\n",
       " tensor([[1., 2.],\n",
       "         [1., 2.]]),\n",
       " torch.Size([3, 2]),\n",
       " torch.Size([2, 2]))"
      ]
     },
     "execution_count": 189,
     "metadata": {},
     "output_type": "execute_result"
    }
   ],
   "source": [
    "x = torch.FloatTensor([[1, 2],[3, 4],[5, 6]])\n",
    "\n",
    "y = torch.FloatTensor([[1, 2],[1, 2],])\n",
    "x, y, x.size(), y.shape"
   ]
  },
  {
   "cell_type": "code",
   "execution_count": 188,
   "id": "4283adae",
   "metadata": {
    "colab": {
     "base_uri": "https://localhost:8080/"
    },
    "executionInfo": {
     "elapsed": 50,
     "status": "ok",
     "timestamp": 1746156686501,
     "user": {
      "displayName": "남궁건우",
      "userId": "00560730431062529338"
     },
     "user_tz": -540
    },
    "id": "4283adae",
    "outputId": "20d9d933-093c-41bd-c3ac-b0f3e4b620cf"
   },
   "outputs": [
    {
     "name": "stdout",
     "output_type": "stream",
     "text": [
      "torch.Size([3, 2]) torch.Size([3, 2])\n",
      "tensor([[ 3.,  6.],\n",
      "        [ 7., 14.],\n",
      "        [11., 22.]])\n",
      "tensor([[ 3.,  6.],\n",
      "        [ 7., 14.],\n",
      "        [11., 22.]])\n"
     ]
    }
   ],
   "source": [
    "z1 = x @ y\n",
    "z2 = torch.matmul(x, y)\n",
    "print(z1.shape, z2.shape)\n",
    "print(z1)\n",
    "print(z2)"
   ]
  },
  {
   "cell_type": "code",
   "execution_count": 190,
   "id": "004d5f21",
   "metadata": {
    "colab": {
     "base_uri": "https://localhost:8080/"
    },
    "executionInfo": {
     "elapsed": 24,
     "status": "ok",
     "timestamp": 1746156945617,
     "user": {
      "displayName": "남궁건우",
      "userId": "00560730431062529338"
     },
     "user_tz": -540
    },
    "id": "004d5f21",
    "outputId": "22e7d7e1-38e5-4ddf-fc8b-fcd289812797"
   },
   "outputs": [
    {
     "data": {
      "text/plain": [
       "torch.Size([3, 4, 5])"
      ]
     },
     "execution_count": 190,
     "metadata": {},
     "output_type": "execute_result"
    }
   ],
   "source": [
    "# Batch 행렬곱(Batch matrix muliplication) - bmm() >>> 행렬곱은 2차원끼리의 연산인데, 3차원 행렬의 행렬곱은?\n",
    "# 피연산자로 두개의 3차원 tensor를 axis (1, 2)를 기준으로 행렬곱을 처리한다. >>> (3,4,2)의 경우, (4,2)짜리 행렬이 3개 있다고 생각하고 계산한다.\n",
    "# 따라서 피연산자의 axis=0축의 값은 같아야한다.\n",
    "import torch\n",
    "x = torch.FloatTensor(3,4,2)\n",
    "y = torch.FloatTensor(3,2,5)\n",
    "z = torch.bmm(x, y)\n",
    "z.shape\n"
   ]
  },
  {
   "cell_type": "markdown",
   "id": "2214bd73",
   "metadata": {
    "id": "2214bd73"
   },
   "source": [
    "## 기술통계함수"
   ]
  },
  {
   "cell_type": "code",
   "execution_count": 191,
   "id": "11a0d448",
   "metadata": {
    "colab": {
     "base_uri": "https://localhost:8080/"
    },
    "executionInfo": {
     "elapsed": 10,
     "status": "ok",
     "timestamp": 1746268293704,
     "user": {
      "displayName": "남궁건우",
      "userId": "00560730431062529338"
     },
     "user_tz": -540
    },
    "id": "11a0d448",
    "outputId": "4cc93dd3-5d12-40a3-9633-d5faf2bd312f"
   },
   "outputs": [
    {
     "name": "stdout",
     "output_type": "stream",
     "text": [
      "tensor([[-2.0610, -0.3149,  0.2939, -0.2752],\n",
      "        [-1.4370, -0.6643, -2.1156, -0.2468],\n",
      "        [-0.7320,  0.2601, -1.4236, -1.7884]])\n"
     ]
    }
   ],
   "source": [
    "X=torch.randn(3,4)\n",
    "print(X)"
   ]
  },
  {
   "cell_type": "code",
   "execution_count": 192,
   "id": "7b696371",
   "metadata": {
    "colab": {
     "base_uri": "https://localhost:8080/"
    },
    "collapsed": true,
    "executionInfo": {
     "elapsed": 23,
     "status": "ok",
     "timestamp": 1746268293997,
     "user": {
      "displayName": "남궁건우",
      "userId": "00560730431062529338"
     },
     "user_tz": -540
    },
    "id": "7b696371",
    "jupyter": {
     "outputs_hidden": true
    },
    "outputId": "61b098a7-6e21-44d5-f239-f1ea7291e03a"
   },
   "outputs": [
    {
     "name": "stdout",
     "output_type": "stream",
     "text": [
      "tensor(-10.5049)\n",
      "tensor([-2.3573, -4.4637, -3.6839])\n",
      "tensor([[-2.3573],\n",
      "        [-4.4637],\n",
      "        [-3.6839]])\n",
      "tensor([[-4.2300, -0.7191, -3.2453, -2.3105]])\n"
     ]
    }
   ],
   "source": [
    "print(torch.sum(X))\t\t\t\t\t\t\t# default: 전체기준으로 계산. dim=None\n",
    "print(torch.sum(X, dim=1))\t\t\t\t\t# dim/axis 지정: 지정한 axis의 index가 다른 값끼리 계산.\n",
    "print(torch.sum(X, dim=1, keepdims=True))\t# 기술통계함수들을 실행하면 차원이 줄어든다. keepdims=True로 하면 차원유지(shape을 유지하는게 아니다.)\n",
    "print(torch.sum(X, dim=0, keepdims=True))\t# 차원유지하면서, dim값에 따른 sum 방향을 보여준다."
   ]
  },
  {
   "cell_type": "code",
   "execution_count": 193,
   "id": "99c06f26",
   "metadata": {
    "colab": {
     "base_uri": "https://localhost:8080/"
    },
    "executionInfo": {
     "elapsed": 18,
     "status": "ok",
     "timestamp": 1746268294615,
     "user": {
      "displayName": "남궁건우",
      "userId": "00560730431062529338"
     },
     "user_tz": -540
    },
    "id": "99c06f26",
    "outputId": "0d3787d3-b19c-4fda-e712-7fa55dbdb587"
   },
   "outputs": [
    {
     "name": "stdout",
     "output_type": "stream",
     "text": [
      "tensor(-0.8754)\n",
      "tensor([-1.4100, -0.2397, -1.0818, -0.7702])\n",
      "tensor([[-1.4100, -0.2397, -1.0818, -0.7702]])\n"
     ]
    }
   ],
   "source": [
    "print(torch.mean(X))\n",
    "print(torch.mean(X, dim=0))\n",
    "print(torch.mean(X, dim=0, keepdims=True))"
   ]
  },
  {
   "cell_type": "code",
   "execution_count": 195,
   "id": "db8d8f1e",
   "metadata": {
    "colab": {
     "base_uri": "https://localhost:8080/"
    },
    "executionInfo": {
     "elapsed": 17,
     "status": "ok",
     "timestamp": 1746268295180,
     "user": {
      "displayName": "남궁건우",
      "userId": "00560730431062529338"
     },
     "user_tz": -540
    },
    "id": "db8d8f1e",
    "outputId": "a0a51f97-5b22-4698-f0e4-f19ae0cb2bec"
   },
   "outputs": [
    {
     "name": "stdout",
     "output_type": "stream",
     "text": [
      "tensor(0.8626)\n",
      "tensor(0.7440)\n",
      "tensor([0.4421, 0.2179, 1.5390, 0.7778])\n"
     ]
    }
   ],
   "source": [
    "print(torch.std(X)) # standard deviation 표준 편차\n",
    "print(torch.var(X)) # variance 분산\n",
    "print(torch.var(X, dim=0))"
   ]
  },
  {
   "cell_type": "code",
   "execution_count": 196,
   "id": "51ecc064",
   "metadata": {
    "colab": {
     "base_uri": "https://localhost:8080/"
    },
    "executionInfo": {
     "elapsed": 21,
     "status": "ok",
     "timestamp": 1746268295739,
     "user": {
      "displayName": "남궁건우",
      "userId": "00560730431062529338"
     },
     "user_tz": -540
    },
    "id": "51ecc064",
    "outputId": "26e07df4-a04f-480c-ce68-b4061f98d80b"
   },
   "outputs": [
    {
     "name": "stdout",
     "output_type": "stream",
     "text": [
      "tensor([[-2.3573],\n",
      "        [-4.4637],\n",
      "        [-3.6839]])\n",
      "tensor([[-0.5893],\n",
      "        [-1.1159],\n",
      "        [-0.9210]])\n",
      "tensor(0.8626)\n"
     ]
    }
   ],
   "source": [
    "# tensor.메소드()\n",
    "print(X.sum(dim=1, keepdims=True))\n",
    "print(X.mean(dim=1, keepdims=True))\n",
    "print(X.std())"
   ]
  },
  {
   "cell_type": "code",
   "execution_count": 214,
   "id": "f72865f1-80e6-4433-a366-02449bc493df",
   "metadata": {
    "colab": {
     "base_uri": "https://localhost:8080/"
    },
    "executionInfo": {
     "elapsed": 20,
     "status": "ok",
     "timestamp": 1746268296376,
     "user": {
      "displayName": "남궁건우",
      "userId": "00560730431062529338"
     },
     "user_tz": -540
    },
    "id": "f72865f1-80e6-4433-a366-02449bc493df",
    "outputId": "40fb69a6-35d4-4e76-e9a7-464f918bfcb8"
   },
   "outputs": [
    {
     "data": {
      "text/plain": [
       "tensor([[-2.0610, -0.3149,  0.2939, -0.2752],\n",
       "        [-1.4370, -0.6643, -2.1156, -0.2468],\n",
       "        [-0.7320,  0.2601, -1.4236, -1.7884]])"
      ]
     },
     "execution_count": 214,
     "metadata": {},
     "output_type": "execute_result"
    }
   ],
   "source": [
    "X # 3x4"
   ]
  },
  {
   "cell_type": "code",
   "execution_count": 208,
   "id": "afe123ff",
   "metadata": {
    "colab": {
     "base_uri": "https://localhost:8080/"
    },
    "executionInfo": {
     "elapsed": 18,
     "status": "ok",
     "timestamp": 1746268297093,
     "user": {
      "displayName": "남궁건우",
      "userId": "00560730431062529338"
     },
     "user_tz": -540
    },
    "id": "afe123ff",
    "outputId": "d81de7e3-1b8a-4638-997a-e084c1ce9d98"
   },
   "outputs": [
    {
     "name": "stdout",
     "output_type": "stream",
     "text": [
      "tensor(0.2939)\n",
      "torch.Size([3, 4, 2])\n",
      "\n",
      "torch.return_types.max(\n",
      "values=tensor([-0.7320,  0.2601,  0.2939, -0.2468]),\n",
      "indices=tensor([2, 2, 0, 1]))\n",
      "\n",
      "torch.return_types.max(\n",
      "values=tensor([ 0.2939, -0.2468,  0.2601]),\n",
      "indices=tensor([2, 3, 1]))\n",
      "\n",
      "tensor([ 0.2939, -0.2468,  0.2601]) || tensor([2, 3, 1])\n",
      "\n",
      "\n",
      "torch.return_types.max(\n",
      "values=tensor([[-0.7320,  0.2601,  0.2939, -0.2468]]),\n",
      "indices=tensor([[2, 2, 0, 1]]))\n",
      "\n",
      "torch.return_types.max(\n",
      "values=tensor([[ 0.2939],\n",
      "        [-0.2468],\n",
      "        [ 0.2601]]),\n",
      "indices=tensor([[2],\n",
      "        [3],\n",
      "        [1]]))\n"
     ]
    }
   ],
   "source": [
    "print(torch.max(X)) # 전체 기준 max값 계산.\n",
    "print(x.shape)\n",
    "print()\n",
    "# 0축방향(3개)중에 max 구하기? >> dim=0  ///  1축방향(4개)중에 max 구하기? dim=1\n",
    "print(torch.max(X, dim=0))  # 축을 지정하면 return_types.max 타입객체로 반환. max값과 max값의 index를 묶어서 반환\n",
    "print()\n",
    "print(torch.max(X, dim=1))\n",
    "print()\n",
    "print(torch.max(X, dim=1).values, torch.max(X, dim=1).indices, sep=\" || \")\n",
    "# 값이 필요하면 .values를 붙이고, 인덱스가 필요하면 .indices 붙인다.\n",
    "print()\n",
    "print()\n",
    "print(torch.max(X, dim=0, keepdims=True))  #keepdims=True : 차원(rank)를 유지\n",
    "print()\n",
    "print(torch.max(X, dim=1, keepdims=True))"
   ]
  },
  {
   "cell_type": "code",
   "execution_count": 220,
   "id": "2ade8b15",
   "metadata": {},
   "outputs": [
    {
     "name": "stdout",
     "output_type": "stream",
     "text": [
      "tensor([[-2.0610, -0.3149,  0.2939, -0.2752],\n",
      "        [-1.4370, -0.6643, -2.1156, -0.2468],\n",
      "        [-0.7320,  0.2601, -1.4236, -1.7884]])\n",
      "-2.1155636310577393\n",
      "\n",
      "torch.return_types.min(\n",
      "values=tensor([-2.0610, -0.6643, -2.1156, -1.7884]),\n",
      "indices=tensor([0, 1, 1, 2]))\n",
      "torch.return_types.min(\n",
      "values=tensor([-2.0610, -2.1156, -1.7884]),\n",
      "indices=tensor([0, 2, 3]))\n"
     ]
    }
   ],
   "source": [
    "print(f\"{X}\\n{torch.min(X)}\\n\")\n",
    "print(torch.min(X, dim=0)) # return_types.min 타입객체로 반환. min값과 min값의 index를 묶어서 반환\n",
    "print(torch.min(X, dim=1))"
   ]
  },
  {
   "cell_type": "code",
   "execution_count": null,
   "id": "33c01aed",
   "metadata": {
    "colab": {
     "base_uri": "https://localhost:8080/"
    },
    "executionInfo": {
     "elapsed": 9,
     "status": "ok",
     "timestamp": 1746268300598,
     "user": {
      "displayName": "남궁건우",
      "userId": "00560730431062529338"
     },
     "user_tz": -540
    },
    "id": "33c01aed",
    "outputId": "fe77c30b-ecf2-4d03-a3f6-ee93f8697650"
   },
   "outputs": [
    {
     "name": "stdout",
     "output_type": "stream",
     "text": [
      "tensor(2)\n",
      "tensor([2, 2, 0, 1])\n",
      "tensor([2, 3, 1])\n"
     ]
    }
   ],
   "source": [
    "print(torch.argmax(X))\t\t\t# 전체 중 가장 큰 값의 index >> flatten(1차원으로 변환)한 뒤 index를 반환\n",
    "print(torch.argmax(X, dim=0))\t# 각 열에서 가장 큰 애가 존재하는 인덱스\n",
    "print(torch.argmax(X, dim=1))\t# 각 행에서 가장 큰 애가 존재하는 인덱스"
   ]
  },
  {
   "cell_type": "code",
   "execution_count": 222,
   "id": "642696a3-bfe3-41f5-a4fc-397075454e2d",
   "metadata": {
    "id": "642696a3-bfe3-41f5-a4fc-397075454e2d"
   },
   "outputs": [
    {
     "name": "stdout",
     "output_type": "stream",
     "text": [
      "tensor([-0.7320,  0.2601,  0.2939, -0.2468])\n",
      "tensor([2, 2, 0, 1])\n"
     ]
    }
   ],
   "source": [
    "a = torch.max(X, dim=0)\n",
    "print(a.values)\n",
    "print(a.indices)"
   ]
  },
  {
   "cell_type": "markdown",
   "id": "a02bf59a",
   "metadata": {
    "id": "a02bf59a"
   },
   "source": [
    "# autograd(자동미분)   >>>>>>>>> 사실상 여기서부터 중요하다.\n",
    "- 자동 미분을 이용해 gradient(미분계수)를 계산하는 pytorch system.\n",
    "- 추론할 때 y_hat을 구하면서 동시에 도함수를 저장한다. 이후 backword() 메서드를 통해 파라미터를 업데이트함.\n",
    "- 딥러닝 모델에서 weight와 bias tensor들(Parameter)은 backpropagation(역전파)를 이용해 gradient를 구해서 loss가 줄어드는 방향으로 update를 하게된다.\n",
    "- pytorch는 이런 미분 수행을 자동으로 처리해 준다.\n",
    "    - gradient(기울기)를 구한다는 것은 미분을 한다는 것을 말한다.\n",
    "- tensor가 미분 가능하려면(gradient 계산 대상 변수) `requires_grad=True` 로 설정되 있어야 한다(default: False). gradient를 계산해야하는 대상이라는 것임을 설정하는 것.\n",
    "\n",
    "> - **미분**\n",
    ">   -  (순간) 변화율을 계산한다.\n",
    ">   - $$\\frac{\\partial y}{\\partial x}$$\n",
    ">       - x에 대한 y의 변화율. 즉 x가 변하면 y는 얼마나 변할까?"
   ]
  },
  {
   "cell_type": "code",
   "execution_count": 44,
   "id": "4148abde",
   "metadata": {
    "executionInfo": {
     "elapsed": 4,
     "status": "ok",
     "timestamp": 1746268816727,
     "user": {
      "displayName": "남궁건우",
      "userId": "00560730431062529338"
     },
     "user_tz": -540
    },
    "id": "4148abde"
   },
   "outputs": [],
   "source": [
    "import torch"
   ]
  },
  {
   "cell_type": "code",
   "execution_count": 235,
   "id": "636c340f",
   "metadata": {
    "colab": {
     "base_uri": "https://localhost:8080/"
    },
    "executionInfo": {
     "elapsed": 4,
     "status": "ok",
     "timestamp": 1746268817397,
     "user": {
      "displayName": "남궁건우",
      "userId": "00560730431062529338"
     },
     "user_tz": -540
    },
    "id": "636c340f",
    "outputId": "27b5e452-5160-4555-eafe-71ab75210f0e"
   },
   "outputs": [
    {
     "name": "stdout",
     "output_type": "stream",
     "text": [
      "False\n"
     ]
    }
   ],
   "source": [
    "x = torch.tensor([1.0])\n",
    "print(x.requires_grad) # gradient를 계산해야하는 대상인지에 대한 여부 확인.\n",
    "# false >> 나중에 gradient를 계산할 일 없다는 의미\n",
    "# true >> x를 이용한 계산을 할 때 gradient함수(도함수)를 정의해서 저장한다."
   ]
  },
  {
   "cell_type": "code",
   "execution_count": 236,
   "id": "80eed801",
   "metadata": {
    "executionInfo": {
     "elapsed": 14,
     "status": "ok",
     "timestamp": 1746268818296,
     "user": {
      "displayName": "남궁건우",
      "userId": "00560730431062529338"
     },
     "user_tz": -540
    },
    "id": "80eed801"
   },
   "outputs": [],
   "source": [
    "x = torch.tensor([1.0], requires_grad=True) # True로 설정."
   ]
  },
  {
   "cell_type": "code",
   "execution_count": 237,
   "id": "mau82N2lcHCk",
   "metadata": {
    "colab": {
     "base_uri": "https://localhost:8080/"
    },
    "executionInfo": {
     "elapsed": 6,
     "status": "ok",
     "timestamp": 1746268819630,
     "user": {
      "displayName": "남궁건우",
      "userId": "00560730431062529338"
     },
     "user_tz": -540
    },
    "id": "mau82N2lcHCk",
    "outputId": "50f2ac18-edc2-464f-efc9-60c5c6c35f59"
   },
   "outputs": [
    {
     "name": "stdout",
     "output_type": "stream",
     "text": [
      "tensor([1.])\n",
      "None\n"
     ]
    }
   ],
   "source": [
    "# 위 Tensor의 속성을 알아보자\n",
    "\n",
    "## data >>> Tensor가 가지는 값들을 저장하는 변수(속성)\n",
    "print(x.data) # 최초에 x에 대해 tensor만들때 [1.0] 넣어준 것이 확인된다.\n",
    "\n",
    "## grad >>> Gradient 값을 저장하는 변수(속성)\n",
    "print(x.grad) # 아직 저장한게 없어 None"
   ]
  },
  {
   "cell_type": "code",
   "execution_count": 238,
   "id": "f754482a",
   "metadata": {
    "colab": {
     "base_uri": "https://localhost:8080/"
    },
    "executionInfo": {
     "elapsed": 18,
     "status": "ok",
     "timestamp": 1746268820598,
     "user": {
      "displayName": "남궁건우",
      "userId": "00560730431062529338"
     },
     "user_tz": -540
    },
    "id": "f754482a",
    "outputId": "22838540-43e0-403d-e918-b1bf0981843a"
   },
   "outputs": [
    {
     "data": {
      "text/plain": [
       "tensor([1.], grad_fn=<PowBackward0>)"
      ]
     },
     "execution_count": 238,
     "metadata": {},
     "output_type": "execute_result"
    }
   ],
   "source": [
    "y = x**2 # 이하, 원함수\n",
    "y\n",
    "# grad_fn의 의미? 도함수. x는 requires_grad=True 였으므로, gradient 계산함수(도함수)가 저장된 변수(속성)를 의미한다. 그 도함수(dy/dx)의 정보가 y에 저장된 것.\n",
    "# 위의 내용의 경우, 원함수(x**2)의 도함수인 2x가 grad_fn에 저장됨\n",
    "# 제곱에 대한 도함수라서 Power backward라고 나옴"
   ]
  },
  {
   "cell_type": "code",
   "execution_count": 239,
   "id": "eeda5aa3",
   "metadata": {
    "executionInfo": {
     "elapsed": 16,
     "status": "ok",
     "timestamp": 1746268821428,
     "user": {
      "displayName": "남궁건우",
      "userId": "00560730431062529338"
     },
     "user_tz": -540
    },
    "id": "eeda5aa3"
   },
   "outputs": [],
   "source": [
    "# gradient 계산\n",
    "# .backward() method? >>> 자동으로 미분을 수행하고, 연결된 각 텐서의 .grad 속성에 기울기 값을 저장\n",
    "y.backward() # dy/dx (x=1.0) 계산 >> 계산한 도함수에 처음에 설정한 x=1.0을 대입하여 나온 그 도함수값을 x.grad에 저장"
   ]
  },
  {
   "cell_type": "code",
   "execution_count": 240,
   "id": "d2d6db62-c2ba-46ca-a869-fe7ed47c3fe4",
   "metadata": {
    "colab": {
     "base_uri": "https://localhost:8080/"
    },
    "executionInfo": {
     "elapsed": 38,
     "status": "ok",
     "timestamp": 1746268824421,
     "user": {
      "displayName": "남궁건우",
      "userId": "00560730431062529338"
     },
     "user_tz": -540
    },
    "id": "d2d6db62-c2ba-46ca-a869-fe7ed47c3fe4",
    "outputId": "8656eb24-3976-4392-ebe0-e5ec42918c70"
   },
   "outputs": [
    {
     "data": {
      "text/plain": [
       "(tensor([1.]), tensor([2.]), <PowBackward0 at 0x1b7a106e650>)"
      ]
     },
     "execution_count": 240,
     "metadata": {},
     "output_type": "execute_result"
    }
   ],
   "source": [
    "# x.data : 최초에 x에 대해 tensor만들때 [1.0]을 넣어 주어 그대로 x값은 1.0으로 출력\n",
    "# x.grad : .backward() 메서드에 의해, x=1일때의 도함수(y=2x)값인 2.0이 x.grad에 저장되어 출력\n",
    "# y.grad_fn : 상기 y를 호출했을때 나온 도함수에 대한 정보 출력\n",
    "x.data, x.grad, y.grad_fn"
   ]
  },
  {
   "cell_type": "code",
   "execution_count": 241,
   "id": "Xr1_LTaOfi0K",
   "metadata": {
    "executionInfo": {
     "elapsed": 2,
     "status": "ok",
     "timestamp": 1746269213990,
     "user": {
      "displayName": "남궁건우",
      "userId": "00560730431062529338"
     },
     "user_tz": -540
    },
    "id": "Xr1_LTaOfi0K"
   },
   "outputs": [],
   "source": [
    "a = torch.tensor([2.0], requires_grad=True)\n",
    "b = torch.tensor([3.2]) # r_grad=False\n",
    "y = a - b + 3 # grad_fn 정의\n",
    "y.backward() # grad를 계산 - a에 대해서만 계산함 b는 requires_gfrad = False 이기때문"
   ]
  },
  {
   "cell_type": "code",
   "execution_count": 242,
   "id": "_v38Dh9jfjl7",
   "metadata": {
    "colab": {
     "base_uri": "https://localhost:8080/"
    },
    "executionInfo": {
     "elapsed": 5,
     "status": "ok",
     "timestamp": 1746269227870,
     "user": {
      "displayName": "남궁건우",
      "userId": "00560730431062529338"
     },
     "user_tz": -540
    },
    "id": "_v38Dh9jfjl7",
    "outputId": "8104ff6c-c81e-48dc-bd3b-834b197e15f8"
   },
   "outputs": [
    {
     "data": {
      "text/plain": [
       "(tensor([2.]), tensor([1.]), <AddBackward0 at 0x1b7a1071e10>)"
      ]
     },
     "execution_count": 242,
     "metadata": {},
     "output_type": "execute_result"
    }
   ],
   "source": [
    "a.data, a.grad, y.grad_fn\n",
    "\n",
    "# 덧셈이다보니, 도함수 정보 addbackward 나옴.\n",
    "# y에 대한 a의 편미분함수 >>> dy/da = 1\n",
    "# 따라서 a.grad를 호출하면 1.0이 나온다."
   ]
  },
  {
   "cell_type": "code",
   "execution_count": 243,
   "id": "rz5K1qBrgpjg",
   "metadata": {
    "colab": {
     "base_uri": "https://localhost:8080/"
    },
    "executionInfo": {
     "elapsed": 5,
     "status": "ok",
     "timestamp": 1746269334532,
     "user": {
      "displayName": "남궁건우",
      "userId": "00560730431062529338"
     },
     "user_tz": -540
    },
    "id": "rz5K1qBrgpjg",
    "outputId": "2f7c56ca-8d5c-40b8-eabb-22d2b250051a"
   },
   "outputs": [
    {
     "name": "stdout",
     "output_type": "stream",
     "text": [
      "<MulBackward0 object at 0x000001B7A106EE90>\n"
     ]
    }
   ],
   "source": [
    "# 간단한 경사하강법 구현\n",
    "\n",
    "input_data = torch.tensor([30.2]) # x\n",
    "output_data = torch.tensor([10.5]) # y\n",
    "\n",
    "weight = torch.tensor([0.2], requires_grad=True) # parameter\n",
    "\n",
    "y_pred = weight * input_data # 모델예측값.\n",
    "\n",
    "print(y_pred.grad_fn) # 곱셈이라 도함수 정보는 mul backward\n",
    "loss = (output_data - y_pred) ** 2 # 오차계산-MSE"
   ]
  },
  {
   "cell_type": "code",
   "execution_count": 232,
   "id": "NsePZ804gpg_",
   "metadata": {
    "colab": {
     "base_uri": "https://localhost:8080/"
    },
    "executionInfo": {
     "elapsed": 11,
     "status": "ok",
     "timestamp": 1746269472890,
     "user": {
      "displayName": "남궁건우",
      "userId": "00560730431062529338"
     },
     "user_tz": -540
    },
    "id": "NsePZ804gpg_",
    "outputId": "480366d4-eb1e-4972-b853-6c2d3ed94b43"
   },
   "outputs": [
    {
     "data": {
      "text/plain": [
       "(tensor([6.0400], grad_fn=<MulBackward0>),\n",
       " tensor([19.8916], grad_fn=<PowBackward0>),\n",
       " <MulBackward0 at 0x1b7a0fe2b60>,\n",
       " <PowBackward0 at 0x1b7a0fe1c90>)"
      ]
     },
     "execution_count": 232,
     "metadata": {},
     "output_type": "execute_result"
    }
   ],
   "source": [
    "y_pred, loss, y_pred.grad_fn, loss.grad_fn\n",
    "# y_pred를 구성하는 weight의 requires_grad가 True이므로 y_pred의 requires_grad도 True다.\n",
    "# y_pred에 대한 weight의 도함수 정보가 y_pred에 grad_fn로 저장된다.\n",
    "# loss에 대한 y_pred의 도함수 정보가 loss에 grad_fn으로 저장된다."
   ]
  },
  {
   "cell_type": "code",
   "execution_count": 244,
   "id": "VWE66dwfgpd4",
   "metadata": {
    "executionInfo": {
     "elapsed": 5,
     "status": "ok",
     "timestamp": 1746269506295,
     "user": {
      "displayName": "남궁건우",
      "userId": "00560730431062529338"
     },
     "user_tz": -540
    },
    "id": "VWE66dwfgpd4"
   },
   "outputs": [],
   "source": [
    "loss.backward()\n",
    "# 최종적인 목적은, loss.backward()하여 weight.grad(도함수값. 즉, weight의 변화율)를 구하고 그걸 기존의 weight에 빼서 새로운 weight를 찾는 것.\n",
    "# 따라서 loss와 weight와의 수식을 통해 d(loss)/dw를 구해야하는 것인데, w로 직접적으로 구성된 loss함수가 없다. 다만 아래의 두 함수가 합성함수관계로 연결되어있음\n",
    "# y_pred=f(w) : y_pred = weight *input_data             >>> 여기서 d(y_pred)/dw 를 구하고\n",
    "# loss=g(y_pred) : loss = (output_data - y_pred)**2     >>> 여기서 d(loss)/d(y_pred)를 구하고 위의 변화율을 곱한다.\n",
    "# 두개의 변화율을 곱하여 d(loss)/dw 구하는 것이 loss.backward()'\n",
    "# 결과적으로 합성함수가 연결되어있어도 우리는 loss.backward()만 해주면 컴퓨터가 알아서 연결된 함수관계에서 weight.grad를 계산하여 저장한다."
   ]
  },
  {
   "cell_type": "code",
   "execution_count": 245,
   "id": "AoHD0csLgpaO",
   "metadata": {
    "colab": {
     "base_uri": "https://localhost:8080/"
    },
    "executionInfo": {
     "elapsed": 12,
     "status": "ok",
     "timestamp": 1746269681576,
     "user": {
      "displayName": "남궁건우",
      "userId": "00560730431062529338"
     },
     "user_tz": -540
    },
    "id": "AoHD0csLgpaO",
    "outputId": "04509caf-809a-4d6f-8e98-a83fa13fac0a"
   },
   "outputs": [
    {
     "data": {
      "text/plain": [
       "tensor([-269.3840])"
      ]
     },
     "execution_count": 245,
     "metadata": {},
     "output_type": "execute_result"
    }
   ],
   "source": [
    "# weight.grad 호출하여 확인\n",
    "weight.grad"
   ]
  },
  {
   "cell_type": "code",
   "execution_count": 246,
   "id": "X7y0alzKgpR7",
   "metadata": {
    "colab": {
     "base_uri": "https://localhost:8080/"
    },
    "executionInfo": {
     "elapsed": 10,
     "status": "ok",
     "timestamp": 1746269690162,
     "user": {
      "displayName": "남궁건우",
      "userId": "00560730431062529338"
     },
     "user_tz": -540
    },
    "id": "X7y0alzKgpR7",
    "outputId": "b62efc24-b165-48e1-d5d9-25470e4bcfea"
   },
   "outputs": [
    {
     "data": {
      "text/plain": [
       "tensor([0.2269])"
      ]
     },
     "execution_count": 246,
     "metadata": {},
     "output_type": "execute_result"
    }
   ],
   "source": [
    "new_weight = weight.data - weight.grad * 0.0001 # 0.0001 = 학습률\n",
    "new_weight # 최초의 weight는 0.2 였는데 0.2269로 커진 것을 알 수 있다. 이렇게 새로구한 weight를 위로 올라가 weight 자리에 넣고 다시 새롭게 loss를 구하면 loss가 줄어든걸 알 수 있다."
   ]
  },
  {
   "cell_type": "markdown",
   "id": "a304c280",
   "metadata": {
    "id": "a304c280"
   },
   "source": [
    "## torch.no_grad()\n",
    "- no_grad()를 with 구문에서 연산을 할 경우 with block 내에서 requires_grad=True로 설정된 변수를 이용한 계산식이 있더라도 grad_fn을 생성하지 않는다. 즉 gradient를 계산하지 않는다.\n",
    "- 딥러닝 모델을 평가 하거나 추론을 할 때는 gradient를 계산할 필요가 없기 때문에 no_grad 구문을 사용한다.\n",
    "- 성능 평가가 다 끝난 뒤에 서비스를 하고자 할땐, 더이상 도함수를 구하는 연산을 할 필요 없으므로, 그때는 추론만하도록 한다."
   ]
  },
  {
   "cell_type": "code",
   "execution_count": 247,
   "id": "9de65a7d",
   "metadata": {
    "colab": {
     "base_uri": "https://localhost:8080/"
    },
    "executionInfo": {
     "elapsed": 5,
     "status": "ok",
     "timestamp": 1746269759670,
     "user": {
      "displayName": "남궁건우",
      "userId": "00560730431062529338"
     },
     "user_tz": -540
    },
    "id": "9de65a7d",
    "outputId": "be8720f7-69d4-4643-db51-eb7b10317ff6"
   },
   "outputs": [
    {
     "name": "stdout",
     "output_type": "stream",
     "text": [
      "결과: tensor([1.])\n",
      "grad_fn <PowBackward0 object at 0x000001B7A0FE3580>\n"
     ]
    }
   ],
   "source": [
    "x = torch.tensor([1.0], requires_grad=True)\n",
    "y = x**2\n",
    "print(\"결과:\", y.data)\n",
    "print(\"grad_fn\", y.grad_fn)"
   ]
  },
  {
   "cell_type": "code",
   "execution_count": 254,
   "id": "1bfa3986",
   "metadata": {
    "colab": {
     "base_uri": "https://localhost:8080/"
    },
    "executionInfo": {
     "elapsed": 14,
     "status": "ok",
     "timestamp": 1746269848772,
     "user": {
      "displayName": "남궁건우",
      "userId": "00560730431062529338"
     },
     "user_tz": -540
    },
    "id": "1bfa3986",
    "outputId": "95b76606-0630-4cdf-c884-343a852afe8f"
   },
   "outputs": [
    {
     "name": "stdout",
     "output_type": "stream",
     "text": [
      "True\n",
      "결과 : tensor([1.])\n",
      "grad_fn : None\n"
     ]
    }
   ],
   "source": [
    "print(x.requires_grad)\n",
    "with torch.no_grad(): # 출력결과를 보면, y.data는 그대로 갖고있지만, 도함수(grad_fn)는 None으로써 gradient를 계산하지 않음을 알 수 있다.\n",
    "  y=x**2\n",
    "  print(\"결과 :\", y.data)\n",
    "  print(\"grad_fn :\", y.grad_fn)"
   ]
  },
  {
   "cell_type": "markdown",
   "id": "b3811c4b",
   "metadata": {
    "id": "b3811c4b"
   },
   "source": [
    "## gradient 값 초기화\n",
    "- backward() 에서 계산되어 저장된 gradient값을 초기화한다.\n",
    "- 반복 학습을 할 경우 gradient가 누적되는 문제가 발생한다. 그래서 한번 학습이 끝나면 다음 학습 전에 초기화하는 작업을 해야 한다."
   ]
  },
  {
   "cell_type": "code",
   "execution_count": 255,
   "id": "60622e6b",
   "metadata": {
    "colab": {
     "base_uri": "https://localhost:8080/"
    },
    "executionInfo": {
     "elapsed": 8,
     "status": "ok",
     "timestamp": 1746269931146,
     "user": {
      "displayName": "남궁건우",
      "userId": "00560730431062529338"
     },
     "user_tz": -540
    },
    "id": "60622e6b",
    "outputId": "0e9f88e6-2722-476f-bad2-2aaf8e4f5c31"
   },
   "outputs": [
    {
     "name": "stdout",
     "output_type": "stream",
     "text": [
      "None\n",
      "tensor([2.])\n"
     ]
    }
   ],
   "source": [
    "x = torch.tensor([1.0], requires_grad=True)\n",
    "print(x.grad)\n",
    "y = x**2\n",
    "\n",
    "y.backward()\n",
    "print(x.grad)\n",
    "\n",
    "# y.backward() 하기 전의 print(x.grad)은 아직 도함수값 저장하기 전이므로 None 출력\n",
    "# y.backward() 함으로써, x에 대한 도함수가 y에 저장되고, x=1.0 일때 도함수값 2가 x.grad에 저장"
   ]
  },
  {
   "cell_type": "code",
   "execution_count": 256,
   "id": "5d55ff89",
   "metadata": {
    "executionInfo": {
     "elapsed": 2,
     "status": "ok",
     "timestamp": 1746269934530,
     "user": {
      "displayName": "남궁건우",
      "userId": "00560730431062529338"
     },
     "user_tz": -540
    },
    "id": "5d55ff89"
   },
   "outputs": [],
   "source": [
    "# x를 이용한 새로운 계산\n",
    "\n",
    "z = x**3\n",
    "z.backward()\n",
    "\n",
    "# z에 대한 x의 도함수 >>> dz/dx = 3x >>> 따라서 x=1.0이므로 도함수값은 3.0"
   ]
  },
  {
   "cell_type": "code",
   "execution_count": 257,
   "id": "60daa5fe",
   "metadata": {
    "colab": {
     "base_uri": "https://localhost:8080/"
    },
    "executionInfo": {
     "elapsed": 7,
     "status": "ok",
     "timestamp": 1746269936628,
     "user": {
      "displayName": "남궁건우",
      "userId": "00560730431062529338"
     },
     "user_tz": -540
    },
    "id": "60daa5fe",
    "outputId": "3cf881b6-6a8a-409e-d7ea-ae50320f15b4"
   },
   "outputs": [
    {
     "name": "stdout",
     "output_type": "stream",
     "text": [
      "tensor([5.])\n"
     ]
    }
   ],
   "source": [
    "print(x.grad)\n",
    "\n",
    "# 새로운 계산을 하기 전에 x.grad값을 2라고 저장해놨다. 이후 새로운 계산을 할때 x.grad값에 새로운 계산값인 3.0을 넣는 과정에서, 기존의 값과 더해져 5라고 출력된다.\n",
    "# 따라서 먼저 계산했던 grad값을 초기화시켜주는 과정이 필요함\n",
    "# 아래와 같이 x.grad = None 한줄 적어주면 된다."
   ]
  },
  {
   "cell_type": "code",
   "execution_count": 258,
   "id": "yqAGCsRUtn9d",
   "metadata": {
    "colab": {
     "base_uri": "https://localhost:8080/"
    },
    "executionInfo": {
     "elapsed": 9,
     "status": "ok",
     "timestamp": 1746270046016,
     "user": {
      "displayName": "남궁건우",
      "userId": "00560730431062529338"
     },
     "user_tz": -540
    },
    "id": "yqAGCsRUtn9d",
    "outputId": "75c342ef-daad-41e4-c041-5c3ccd953d10"
   },
   "outputs": [
    {
     "name": "stdout",
     "output_type": "stream",
     "text": [
      "tensor([3.])\n"
     ]
    }
   ],
   "source": [
    "# x를 이용한 새로운 계산\n",
    "x.grad = None # 초기화\n",
    "z = x**3\n",
    "z.backward()\n",
    "print(x.grad) # x도함수값 3.0 인 것 확인"
   ]
  }
 ],
 "metadata": {
  "colab": {
   "provenance": []
  },
  "kernelspec": {
   "display_name": "dl",
   "language": "python",
   "name": "python3"
  },
  "language_info": {
   "codemirror_mode": {
    "name": "ipython",
    "version": 3
   },
   "file_extension": ".py",
   "mimetype": "text/x-python",
   "name": "python",
   "nbconvert_exporter": "python",
   "pygments_lexer": "ipython3",
   "version": "3.12.10"
  },
  "toc": {
   "base_numbering": 1,
   "nav_menu": {},
   "number_sections": true,
   "sideBar": true,
   "skip_h1_title": false,
   "title_cell": "Table of Contents",
   "title_sidebar": "Contents",
   "toc_cell": false,
   "toc_position": {},
   "toc_section_display": true,
   "toc_window_display": false
  },
  "varInspector": {
   "cols": {
    "lenName": 16,
    "lenType": 16,
    "lenVar": 40
   },
   "kernels_config": {
    "python": {
     "delete_cmd_postfix": "",
     "delete_cmd_prefix": "del ",
     "library": "var_list.py",
     "varRefreshCmd": "print(var_dic_list())"
    },
    "r": {
     "delete_cmd_postfix": ") ",
     "delete_cmd_prefix": "rm(",
     "library": "var_list.r",
     "varRefreshCmd": "cat(var_dic_list()) "
    }
   },
   "types_to_exclude": [
    "module",
    "function",
    "builtin_function_or_method",
    "instance",
    "_Feature"
   ],
   "window_display": false
  }
 },
 "nbformat": 4,
 "nbformat_minor": 5
}
