{
 "cells": [
  {
   "cell_type": "markdown",
   "id": "6edfff01",
   "metadata": {},
   "source": [
    "---"
   ]
  },
  {
   "cell_type": "markdown",
   "id": "ec1825a2",
   "metadata": {},
   "source": [
    "## 판다스 (Pandas)"
   ]
  },
  {
   "cell_type": "markdown",
   "id": "c5974754",
   "metadata": {},
   "source": [
    "**Pandas 개요:** Pandas는 **행과 열로 이루어진 2차원 테이블 데이터**를 다루는 파이썬 라이브러리로,\n",
    "**Series(1차원)** 와 **DataFrame(2차원)** 이라는 핵심 데이터 구조를 제공. \n",
    " Database의 테이블이나 Excel 시트처럼 **인덱스(행 식별자)** 와 **컬럼 이름(열 식별자)** 을 가지며, 강력한 **데이터 인덱싱, 정렬, 집계, 결합** 기능을 지원합니다.\n",
    "  Pandas는 파일(CSV, 엑셀)이나 DB로부터 데이터를 읽어오거나, NumPy 배열/딕셔너리로부터 **DataFrame을 직접 생성**할 수 있습니다."
   ]
  },
  {
   "cell_type": "markdown",
   "id": "ea5d6d94",
   "metadata": {},
   "source": [
    "### DataFrame 생성"
   ]
  },
  {
   "cell_type": "markdown",
   "id": "f2bdb923",
   "metadata": {},
   "source": [
    "DataFrame은 여러 가지 방식으로 생성할 수 있습니다. 대표적으로 **딕셔너리**나 **2차원 리스트**로부터 생성하는 방법이 있습니다:"
   ]
  },
  {
   "cell_type": "code",
   "execution_count": 2,
   "id": "b8d1a0d3",
   "metadata": {},
   "outputs": [
    {
     "data": {
      "text/html": [
       "<div>\n",
       "<style scoped>\n",
       "    .dataframe tbody tr th:only-of-type {\n",
       "        vertical-align: middle;\n",
       "    }\n",
       "\n",
       "    .dataframe tbody tr th {\n",
       "        vertical-align: top;\n",
       "    }\n",
       "\n",
       "    .dataframe thead th {\n",
       "        text-align: right;\n",
       "    }\n",
       "</style>\n",
       "<table border=\"1\" class=\"dataframe\">\n",
       "  <thead>\n",
       "    <tr style=\"text-align: right;\">\n",
       "      <th></th>\n",
       "      <th>Name</th>\n",
       "      <th>Age</th>\n",
       "    </tr>\n",
       "  </thead>\n",
       "  <tbody>\n",
       "    <tr>\n",
       "      <th>0</th>\n",
       "      <td>Alice</td>\n",
       "      <td>25</td>\n",
       "    </tr>\n",
       "    <tr>\n",
       "      <th>1</th>\n",
       "      <td>Bob</td>\n",
       "      <td>30</td>\n",
       "    </tr>\n",
       "    <tr>\n",
       "      <th>2</th>\n",
       "      <td>Charlie</td>\n",
       "      <td>35</td>\n",
       "    </tr>\n",
       "  </tbody>\n",
       "</table>\n",
       "</div>"
      ],
      "text/plain": [
       "      Name  Age\n",
       "0    Alice   25\n",
       "1      Bob   30\n",
       "2  Charlie   35"
      ]
     },
     "execution_count": 2,
     "metadata": {},
     "output_type": "execute_result"
    }
   ],
   "source": [
    "import pandas as pd\n",
    "data = {'Name': ['Alice', 'Bob', 'Charlie'], 'Age': [25, 30, 35]}\n",
    "df = pd.DataFrame(data)\n",
    "df"
   ]
  },
  {
   "cell_type": "markdown",
   "id": "aa7d65e0",
   "metadata": {},
   "source": [
    "위와 같이 딕셔너리 `data`의 **키를 컬럼 이름**으로, **값 리스트를 컬럼 값**으로 하여 DataFrame `df`를 만들었습니다. Index는 지정하지 않으면 0부터 자동 할당됩니다."
   ]
  },
  {
   "cell_type": "markdown",
   "id": "1af000f7",
   "metadata": {},
   "source": [
    "2차원 리스트로도 생성 가능합니다. 이 경우 **index 이름**과 **columns 이름**을 직접 지정해줄 수 있습니다:"
   ]
  },
  {
   "cell_type": "code",
   "execution_count": 3,
   "id": "e13d8950",
   "metadata": {},
   "outputs": [
    {
     "data": {
      "text/html": [
       "<div>\n",
       "<style scoped>\n",
       "    .dataframe tbody tr th:only-of-type {\n",
       "        vertical-align: middle;\n",
       "    }\n",
       "\n",
       "    .dataframe tbody tr th {\n",
       "        vertical-align: top;\n",
       "    }\n",
       "\n",
       "    .dataframe thead th {\n",
       "        text-align: right;\n",
       "    }\n",
       "</style>\n",
       "<table border=\"1\" class=\"dataframe\">\n",
       "  <thead>\n",
       "    <tr style=\"text-align: right;\">\n",
       "      <th></th>\n",
       "      <th>A</th>\n",
       "      <th>B</th>\n",
       "      <th>C</th>\n",
       "    </tr>\n",
       "  </thead>\n",
       "  <tbody>\n",
       "    <tr>\n",
       "      <th>row1</th>\n",
       "      <td>1</td>\n",
       "      <td>2</td>\n",
       "      <td>3</td>\n",
       "    </tr>\n",
       "    <tr>\n",
       "      <th>row2</th>\n",
       "      <td>4</td>\n",
       "      <td>5</td>\n",
       "      <td>6</td>\n",
       "    </tr>\n",
       "  </tbody>\n",
       "</table>\n",
       "</div>"
      ],
      "text/plain": [
       "      A  B  C\n",
       "row1  1  2  3\n",
       "row2  4  5  6"
      ]
     },
     "execution_count": 3,
     "metadata": {},
     "output_type": "execute_result"
    }
   ],
   "source": [
    "df2 = pd.DataFrame([[1, 2, 3], [4, 5, 6]], \n",
    "                   index=['row1', 'row2'], \n",
    "                   columns=['A', 'B', 'C'])\n",
    "df2"
   ]
  },
  {
   "cell_type": "markdown",
   "id": "c14a382d",
   "metadata": {},
   "source": [
    "이처럼 `df2`는 'row1','row2'라는 행 인덱스와 'A','B','C' 컬럼을 가지는 2x3 표 형식의 데이터입니다."
   ]
  },
  {
   "cell_type": "markdown",
   "id": "fb8ec1b9",
   "metadata": {},
   "source": [
    "### 데이터 조회와 인덱싱"
   ]
  },
  {
   "cell_type": "markdown",
   "id": "bc9ce568",
   "metadata": {},
   "source": [
    "Pandas DataFrame에서는 **행과 열을 이름 또는 위치** 로 선택할 수 있습니다. 주요 인덱싱 방법:\n",
    "- `DF.loc[행라벨, 열라벨]` : 행과 열을 **이름(label)** 으로 선택.\n",
    "- `DF.iloc[행번호, 열번호]` : 행과 열을 **숫자 위치(index)** 로 선택."
   ]
  },
  {
   "cell_type": "code",
   "execution_count": 4,
   "id": "bf0b14eb",
   "metadata": {},
   "outputs": [
    {
     "data": {
      "text/html": [
       "<div>\n",
       "<style scoped>\n",
       "    .dataframe tbody tr th:only-of-type {\n",
       "        vertical-align: middle;\n",
       "    }\n",
       "\n",
       "    .dataframe tbody tr th {\n",
       "        vertical-align: top;\n",
       "    }\n",
       "\n",
       "    .dataframe thead th {\n",
       "        text-align: right;\n",
       "    }\n",
       "</style>\n",
       "<table border=\"1\" class=\"dataframe\">\n",
       "  <thead>\n",
       "    <tr style=\"text-align: right;\">\n",
       "      <th></th>\n",
       "      <th>korean</th>\n",
       "      <th>math</th>\n",
       "    </tr>\n",
       "  </thead>\n",
       "  <tbody>\n",
       "    <tr>\n",
       "      <th>id-1</th>\n",
       "      <td>90</td>\n",
       "      <td>88</td>\n",
       "    </tr>\n",
       "    <tr>\n",
       "      <th>id-3</th>\n",
       "      <td>80</td>\n",
       "      <td>88</td>\n",
       "    </tr>\n",
       "    <tr>\n",
       "      <th>id-2</th>\n",
       "      <td>70</td>\n",
       "      <td>66</td>\n",
       "    </tr>\n",
       "    <tr>\n",
       "      <th>id-5</th>\n",
       "      <td>60</td>\n",
       "      <td>55</td>\n",
       "    </tr>\n",
       "    <tr>\n",
       "      <th>id-4</th>\n",
       "      <td>50</td>\n",
       "      <td>44</td>\n",
       "    </tr>\n",
       "  </tbody>\n",
       "</table>\n",
       "</div>"
      ],
      "text/plain": [
       "      korean  math\n",
       "id-1      90    88\n",
       "id-3      80    88\n",
       "id-2      70    66\n",
       "id-5      60    55\n",
       "id-4      50    44"
      ]
     },
     "execution_count": 4,
     "metadata": {},
     "output_type": "execute_result"
    }
   ],
   "source": [
    "grade = pd.DataFrame({\n",
    "    'korean': [90, 80, 70, 60, 50],\n",
    "    'math':   [88, 88, 66, 55, 44]\n",
    "}, index=['id-1', 'id-3', 'id-2', 'id-5', 'id-4'])\n",
    "grade"
   ]
  },
  {
   "cell_type": "markdown",
   "id": "77f9029d",
   "metadata": {},
   "source": [
    "## 주요 메소드"
   ]
  },
  {
   "cell_type": "code",
   "execution_count": 10,
   "id": "3379747a",
   "metadata": {},
   "outputs": [],
   "source": [
    "# grade.head(3)              # 상위 3개\n",
    "# grade.tail(3)              # 하위 3개\n",
    "# grade.info()              # 요약 정보\n",
    "# grade.describe()          # 수치형 요약 통계\n",
    "# grade.shape               # (행, 열)\n",
    "# grade.dtypes              # 각 컬럼 타입\n",
    "# grade.isnull()            # 결측치 True/False\n",
    "# grade.notnull()           # 결측치가 아닌 값 True/False\n",
    "# grade.dropna()            # 결측치 제거\n",
    "# grade.fillna(0)           # 결측치 0으로 대체\n",
    "# grade['math'].value_counts()  # 고유값 개수 세기\n",
    "# grade['math'].unique()     # 고유값 리스트"
   ]
  },
  {
   "cell_type": "code",
   "execution_count": 14,
   "id": "078a8f88",
   "metadata": {},
   "outputs": [
    {
     "data": {
      "text/plain": [
       "np.int64(66)"
      ]
     },
     "execution_count": 14,
     "metadata": {},
     "output_type": "execute_result"
    }
   ],
   "source": [
    "grade.loc['id-1']               # 행 'id-1'의 전체 데이터 (Series로 반환)\n",
    "\n",
    "grade.loc[['id-2','id-5']]      # 행 'id-2', 'id-5' 선택 (DataFrame으로 반환)\n",
    "\n",
    "grade.loc['id-2':'id-4']        # 'id-2'부터 'id-4'까지 슬라이싱 (끝 포함)\n",
    "\n",
    "grade.loc['id-2', 'math']       # 특정 행의 특정 열 값\n"
   ]
  },
  {
   "cell_type": "markdown",
   "id": "9e5273f4",
   "metadata": {},
   "source": [
    "- `grade.loc['id-1']`은 해당 행의 두 과목 점수를 **Series**로 반환 (인덱스는 컬럼명) \n",
    "- `grade.loc[['id-2','id-5']]`는 여러 행을 선택하여 **DataFrame**으로 반환.  \n",
    "- `grade.loc['id-2':'id-4']`처럼 **슬라이싱**할 경우 **끝 인덱스도 포함**되는 것 주의 ! \n",
    "- `grade.loc['id-2','math']`는 특정 행의 특정 열, 즉 단일 값(`66`)을 반환"
   ]
  },
  {
   "cell_type": "code",
   "execution_count": 18,
   "id": "180fb26b",
   "metadata": {},
   "outputs": [
    {
     "data": {
      "text/plain": [
       "np.int64(80)"
      ]
     },
     "execution_count": 18,
     "metadata": {},
     "output_type": "execute_result"
    }
   ],
   "source": [
    "grade.iloc[0]           # 첫 번째 행 (index 0에 해당, id-1 행)\n",
    "\n",
    "grade.iloc[[1, 3]]      # 두 번째, 네 번째 행 (id-3, id-5)\n",
    "\n",
    "grade.iloc[1:4]         # 1~3번째 행 (슬라이싱, id-3 ~ id-5)\n",
    "\n",
    "grade.iloc[1, 0]        # 두 번째 행, 첫 번째 열 (id-3 행의 korean 점수)"
   ]
  },
  {
   "cell_type": "markdown",
   "id": "77aafd7b",
   "metadata": {},
   "source": [
    "`.iloc`은 파이썬 리스트/넘파이 인덱싱처럼 0부터 시작하는 정수\n",
    "- `iloc[0]`은 첫 행(id-1) \n",
    "- `iloc[1:4]`는 1,2,3번째 행 (id-3, id-2, id-5)을 포함 \n",
    "- `iloc[1,0]`은 id-3의 korean 점수 80을 반환"
   ]
  },
  {
   "cell_type": "markdown",
   "id": "0f26325f",
   "metadata": {},
   "source": [
    "`DF['컬럼명']`으로 컬럼을 선택하거나, 조건식을 사용한 Boolean 인덱싱 등 다양한 인덱싱 방법을 Pandas는 제공합니다."
   ]
  },
  {
   "cell_type": "code",
   "execution_count": 20,
   "id": "83d056e5",
   "metadata": {},
   "outputs": [
    {
     "data": {
      "text/html": [
       "<div>\n",
       "<style scoped>\n",
       "    .dataframe tbody tr th:only-of-type {\n",
       "        vertical-align: middle;\n",
       "    }\n",
       "\n",
       "    .dataframe tbody tr th {\n",
       "        vertical-align: top;\n",
       "    }\n",
       "\n",
       "    .dataframe thead th {\n",
       "        text-align: right;\n",
       "    }\n",
       "</style>\n",
       "<table border=\"1\" class=\"dataframe\">\n",
       "  <thead>\n",
       "    <tr style=\"text-align: right;\">\n",
       "      <th></th>\n",
       "      <th>korean</th>\n",
       "      <th>math</th>\n",
       "    </tr>\n",
       "  </thead>\n",
       "  <tbody>\n",
       "    <tr>\n",
       "      <th>id-1</th>\n",
       "      <td>90</td>\n",
       "      <td>88</td>\n",
       "    </tr>\n",
       "    <tr>\n",
       "      <th>id-3</th>\n",
       "      <td>80</td>\n",
       "      <td>88</td>\n",
       "    </tr>\n",
       "    <tr>\n",
       "      <th>id-2</th>\n",
       "      <td>70</td>\n",
       "      <td>66</td>\n",
       "    </tr>\n",
       "    <tr>\n",
       "      <th>id-5</th>\n",
       "      <td>60</td>\n",
       "      <td>55</td>\n",
       "    </tr>\n",
       "    <tr>\n",
       "      <th>id-4</th>\n",
       "      <td>50</td>\n",
       "      <td>44</td>\n",
       "    </tr>\n",
       "  </tbody>\n",
       "</table>\n",
       "</div>"
      ],
      "text/plain": [
       "      korean  math\n",
       "id-1      90    88\n",
       "id-3      80    88\n",
       "id-2      70    66\n",
       "id-5      60    55\n",
       "id-4      50    44"
      ]
     },
     "execution_count": 20,
     "metadata": {},
     "output_type": "execute_result"
    }
   ],
   "source": [
    "grade[\"korean\"]             # korean 컬럼\n",
    "\n",
    "grade[[\"korean\",\"math\"]]    # korean, math 컬럼\n",
    "\n",
    "# 컬럼으로 조회는 indexing만 가능하다. (Slicing은 안됨.)"
   ]
  },
  {
   "cell_type": "markdown",
   "id": "f48337d8",
   "metadata": {},
   "source": [
    "## query() 를 이용한 boolean indexing\n",
    "- boolean index을 추상화한 메소드.\n",
    "-   query(조회조건)\n",
    "    -   sql의 where 절의 조건 처럼 문자열의 query statement를 이용해 조건으로 조회\n",
    "    -   boolean index에 비해\n",
    "        -   장점: 편의성(문자열로 query statement를 만들므로 동적 구문 생성등 다양한 처리가 가능)과 가독성이 좋다.\n",
    "        -   단점: 속도가 느리다.\n",
    "-   조회조건 구문\n",
    "    -   `\"컬럼명 연산자 비교값\"`\n",
    "-   외부변수를 이용해 query문의 비교값을 지정할 수 있다.\n",
    "    -   query 문자열 안에서 @변수명 사용\n",
    "    -   f string이나 format() 함수를 이용해 query를 만들 수도 있다.\n"
   ]
  },
  {
   "cell_type": "markdown",
   "id": "86b25610",
   "metadata": {},
   "source": [
    "### query 메소드사용 연산자 \n",
    "-   **비교 연산자**\n",
    "    -   ==, \\>, \\>=, \\<, \\<=, !=\n",
    "-   **결측치 비교**\n",
    "    -   컬럼.isna(), isnull()\n",
    "    -   컬럼.notna(), notnull()\n",
    "-   **논리 연산자**\n",
    "    -   and, or, not\n",
    "-   **in 연산자**\n",
    "    -   in, ==\n",
    "    -   not in, !=\n",
    "    -   비교 대상값은 리스트에 넣는다.\n",
    "-   **Index name으로 검색**\n",
    "    -   행의 index 이름으로 검색\n",
    "-   **문자열 부분검색(sql의 like)**\n",
    "    -   컬럼명.str.contains(문자열): 문자열을 포함하고 있는\n",
    "    -   컬럼명.str.startswith(문자열): 문자열로 시작하는\n",
    "    -   컬럼명.str.endswith(문자열): 문자열로 끝나는\n",
    "    -   **문자열 부분검색을 할 컬럼에 결측치(NaN)이 있으면 안된다.**\n"
   ]
  },
  {
   "cell_type": "code",
   "execution_count": 22,
   "id": "84a4d7bf",
   "metadata": {},
   "outputs": [
    {
     "data": {
      "text/html": [
       "<div>\n",
       "<style scoped>\n",
       "    .dataframe tbody tr th:only-of-type {\n",
       "        vertical-align: middle;\n",
       "    }\n",
       "\n",
       "    .dataframe tbody tr th {\n",
       "        vertical-align: top;\n",
       "    }\n",
       "\n",
       "    .dataframe thead th {\n",
       "        text-align: right;\n",
       "    }\n",
       "</style>\n",
       "<table border=\"1\" class=\"dataframe\">\n",
       "  <thead>\n",
       "    <tr style=\"text-align: right;\">\n",
       "      <th></th>\n",
       "      <th>name</th>\n",
       "      <th>age</th>\n",
       "      <th>email</th>\n",
       "    </tr>\n",
       "  </thead>\n",
       "  <tbody>\n",
       "    <tr>\n",
       "      <th>0</th>\n",
       "      <td>김영수</td>\n",
       "      <td>23</td>\n",
       "      <td>kys@gmail.com</td>\n",
       "    </tr>\n",
       "    <tr>\n",
       "      <th>1</th>\n",
       "      <td>박영희</td>\n",
       "      <td>17</td>\n",
       "      <td>pyh@gmail.com</td>\n",
       "    </tr>\n",
       "    <tr>\n",
       "      <th>2</th>\n",
       "      <td>오준호</td>\n",
       "      <td>28</td>\n",
       "      <td>ojh@daum.net</td>\n",
       "    </tr>\n",
       "    <tr>\n",
       "      <th>3</th>\n",
       "      <td>조민경</td>\n",
       "      <td>31</td>\n",
       "      <td>cmk@naver.com</td>\n",
       "    </tr>\n",
       "    <tr>\n",
       "      <th>4</th>\n",
       "      <td>박영희</td>\n",
       "      <td>23</td>\n",
       "      <td>pyh@daum.net</td>\n",
       "    </tr>\n",
       "    <tr>\n",
       "      <th>5</th>\n",
       "      <td>김영수</td>\n",
       "      <td>17</td>\n",
       "      <td>NaN</td>\n",
       "    </tr>\n",
       "  </tbody>\n",
       "</table>\n",
       "</div>"
      ],
      "text/plain": [
       "  name  age          email\n",
       "0  김영수   23  kys@gmail.com\n",
       "1  박영희   17  pyh@gmail.com\n",
       "2  오준호   28   ojh@daum.net\n",
       "3  조민경   31  cmk@naver.com\n",
       "4  박영희   23   pyh@daum.net\n",
       "5  김영수   17            NaN"
      ]
     },
     "execution_count": 22,
     "metadata": {},
     "output_type": "execute_result"
    }
   ],
   "source": [
    "import numpy as np\n",
    "data_dict = {\n",
    "    \"name\": [\"김영수\", \"박영희\", \"오준호\", \"조민경\", \"박영희\", \"김영수\"],\n",
    "    \"age\": [23, 17, 28, 31, 23, 17],\n",
    "    \"email\": [\n",
    "        \"kys@gmail.com\",\n",
    "        \"pyh@gmail.com\",\n",
    "        \"ojh@daum.net\",\n",
    "        \"cmk@naver.com\",\n",
    "        \"pyh@daum.net\",\n",
    "        np.nan,\n",
    "    ],\n",
    "}\n",
    "df = pd.DataFrame(data_dict)\n",
    "df"
   ]
  },
  {
   "cell_type": "code",
   "execution_count": 25,
   "id": "a65f3802",
   "metadata": {},
   "outputs": [
    {
     "data": {
      "text/html": [
       "<div>\n",
       "<style scoped>\n",
       "    .dataframe tbody tr th:only-of-type {\n",
       "        vertical-align: middle;\n",
       "    }\n",
       "\n",
       "    .dataframe tbody tr th {\n",
       "        vertical-align: top;\n",
       "    }\n",
       "\n",
       "    .dataframe thead th {\n",
       "        text-align: right;\n",
       "    }\n",
       "</style>\n",
       "<table border=\"1\" class=\"dataframe\">\n",
       "  <thead>\n",
       "    <tr style=\"text-align: right;\">\n",
       "      <th></th>\n",
       "      <th>name</th>\n",
       "      <th>age</th>\n",
       "      <th>email</th>\n",
       "    </tr>\n",
       "  </thead>\n",
       "  <tbody>\n",
       "    <tr>\n",
       "      <th>0</th>\n",
       "      <td>김영수</td>\n",
       "      <td>23</td>\n",
       "      <td>kys@gmail.com</td>\n",
       "    </tr>\n",
       "    <tr>\n",
       "      <th>1</th>\n",
       "      <td>박영희</td>\n",
       "      <td>17</td>\n",
       "      <td>pyh@gmail.com</td>\n",
       "    </tr>\n",
       "    <tr>\n",
       "      <th>3</th>\n",
       "      <td>조민경</td>\n",
       "      <td>31</td>\n",
       "      <td>cmk@naver.com</td>\n",
       "    </tr>\n",
       "    <tr>\n",
       "      <th>4</th>\n",
       "      <td>박영희</td>\n",
       "      <td>23</td>\n",
       "      <td>pyh@daum.net</td>\n",
       "    </tr>\n",
       "    <tr>\n",
       "      <th>5</th>\n",
       "      <td>김영수</td>\n",
       "      <td>17</td>\n",
       "      <td>NaN</td>\n",
       "    </tr>\n",
       "  </tbody>\n",
       "</table>\n",
       "</div>"
      ],
      "text/plain": [
       "  name  age          email\n",
       "0  김영수   23  kys@gmail.com\n",
       "1  박영희   17  pyh@gmail.com\n",
       "3  조민경   31  cmk@naver.com\n",
       "4  박영희   23   pyh@daum.net\n",
       "5  김영수   17            NaN"
      ]
     },
     "execution_count": 25,
     "metadata": {},
     "output_type": "execute_result"
    }
   ],
   "source": [
    "# 비교연산\n",
    "df.query(\"age == 17\")\n",
    "df.query('age > 25')\n",
    "df.query('age != 28')"
   ]
  },
  {
   "cell_type": "code",
   "execution_count": 29,
   "id": "9e3f7541",
   "metadata": {},
   "outputs": [
    {
     "data": {
      "text/html": [
       "<div>\n",
       "<style scoped>\n",
       "    .dataframe tbody tr th:only-of-type {\n",
       "        vertical-align: middle;\n",
       "    }\n",
       "\n",
       "    .dataframe tbody tr th {\n",
       "        vertical-align: top;\n",
       "    }\n",
       "\n",
       "    .dataframe thead th {\n",
       "        text-align: right;\n",
       "    }\n",
       "</style>\n",
       "<table border=\"1\" class=\"dataframe\">\n",
       "  <thead>\n",
       "    <tr style=\"text-align: right;\">\n",
       "      <th></th>\n",
       "      <th>name</th>\n",
       "      <th>age</th>\n",
       "      <th>email</th>\n",
       "    </tr>\n",
       "  </thead>\n",
       "  <tbody>\n",
       "    <tr>\n",
       "      <th>0</th>\n",
       "      <td>김영수</td>\n",
       "      <td>23</td>\n",
       "      <td>kys@gmail.com</td>\n",
       "    </tr>\n",
       "    <tr>\n",
       "      <th>1</th>\n",
       "      <td>박영희</td>\n",
       "      <td>17</td>\n",
       "      <td>pyh@gmail.com</td>\n",
       "    </tr>\n",
       "    <tr>\n",
       "      <th>2</th>\n",
       "      <td>오준호</td>\n",
       "      <td>28</td>\n",
       "      <td>ojh@daum.net</td>\n",
       "    </tr>\n",
       "    <tr>\n",
       "      <th>3</th>\n",
       "      <td>조민경</td>\n",
       "      <td>31</td>\n",
       "      <td>cmk@naver.com</td>\n",
       "    </tr>\n",
       "    <tr>\n",
       "      <th>4</th>\n",
       "      <td>박영희</td>\n",
       "      <td>23</td>\n",
       "      <td>pyh@daum.net</td>\n",
       "    </tr>\n",
       "  </tbody>\n",
       "</table>\n",
       "</div>"
      ],
      "text/plain": [
       "  name  age          email\n",
       "0  김영수   23  kys@gmail.com\n",
       "1  박영희   17  pyh@gmail.com\n",
       "2  오준호   28   ojh@daum.net\n",
       "3  조민경   31  cmk@naver.com\n",
       "4  박영희   23   pyh@daum.net"
      ]
     },
     "execution_count": 29,
     "metadata": {},
     "output_type": "execute_result"
    }
   ],
   "source": [
    "df.query(\"email.isna()\") # 결측치인 행\n",
    "df.query(\"email.isnull()\")\n",
    "df.query(\"email.notna()\")  #결측치가 아닌 행.\n",
    "df.query(\"email.notnull()\")"
   ]
  },
  {
   "cell_type": "markdown",
   "id": "3272c8b8",
   "metadata": {},
   "source": [
    "### 정렬 (Sorting)"
   ]
  },
  {
   "cell_type": "markdown",
   "id": "bae500ea",
   "metadata": {},
   "source": [
    "Pandas DataFrame은 **인덱스**나 **특정 컬럼 값**을 기준으로 정렬 가능.\n",
    "- `DF.sort_index(axis=0, ascending=True)`: 인덱스 기준 정렬 (`axis=1`이면 컬럼 이름 기준).  \n",
    "- `DF.sort_values(by=컬럼명, ascending=True)`: 하나 또는 여러 컬럼값 기준 정렬."
   ]
  },
  {
   "cell_type": "markdown",
   "id": "fd0960cc",
   "metadata": {},
   "source": [
    "\n",
    "-   <b style='font-size:1.2em'>sort_index(axis=0, ascending=True, inplace=False)</b>\n",
    "    -   axis\n",
    "        -   index 이름 기준 정렬(행) : 'index' 또는 0 (기본값)\n",
    "        -   column 이름 기준 정렬(열) : 'columns' 또는 1\n",
    "    -   ascending\n",
    "        -   정렬방식\n",
    "        -   True(기본): 오름차순, False: 내림차순\n",
    "    -   inplace\n",
    "        -   원본에 적용 여부\n",
    "        -   False(기본): 변경한 복사본 반환\n",
    "        -   True : 원본을 변경\n",
    "-   Index name을 정렬하면 앞의 몇글자만 가지고 slicing을 할 수 있다.\n",
    "    -   ex) A로 시작하는 것에서 C로 시작하는 것 까지\n",
    "    -   단 결측치(NA) 값이 index name에 있으면 안된다.\n"
   ]
  },
  {
   "cell_type": "code",
   "execution_count": 37,
   "id": "87818756",
   "metadata": {},
   "outputs": [
    {
     "data": {
      "text/html": [
       "<div>\n",
       "<style scoped>\n",
       "    .dataframe tbody tr th:only-of-type {\n",
       "        vertical-align: middle;\n",
       "    }\n",
       "\n",
       "    .dataframe tbody tr th {\n",
       "        vertical-align: top;\n",
       "    }\n",
       "\n",
       "    .dataframe thead th {\n",
       "        text-align: right;\n",
       "    }\n",
       "</style>\n",
       "<table border=\"1\" class=\"dataframe\">\n",
       "  <thead>\n",
       "    <tr style=\"text-align: right;\">\n",
       "      <th></th>\n",
       "      <th>korean</th>\n",
       "      <th>math</th>\n",
       "    </tr>\n",
       "  </thead>\n",
       "  <tbody>\n",
       "    <tr>\n",
       "      <th>id-3</th>\n",
       "      <td>80</td>\n",
       "      <td>88</td>\n",
       "    </tr>\n",
       "    <tr>\n",
       "      <th>id-1</th>\n",
       "      <td>90</td>\n",
       "      <td>88</td>\n",
       "    </tr>\n",
       "    <tr>\n",
       "      <th>id-2</th>\n",
       "      <td>70</td>\n",
       "      <td>66</td>\n",
       "    </tr>\n",
       "    <tr>\n",
       "      <th>id-5</th>\n",
       "      <td>60</td>\n",
       "      <td>55</td>\n",
       "    </tr>\n",
       "    <tr>\n",
       "      <th>id-4</th>\n",
       "      <td>50</td>\n",
       "      <td>44</td>\n",
       "    </tr>\n",
       "  </tbody>\n",
       "</table>\n",
       "</div>"
      ],
      "text/plain": [
       "      korean  math\n",
       "id-3      80    88\n",
       "id-1      90    88\n",
       "id-2      70    66\n",
       "id-5      60    55\n",
       "id-4      50    44"
      ]
     },
     "execution_count": 37,
     "metadata": {},
     "output_type": "execute_result"
    }
   ],
   "source": [
    "\n",
    "# By index (asc)\n",
    "grade.sort_index()\n",
    "\n",
    "# By index (desc)\n",
    "grade.sort_index(ascending=False)\n",
    "\n",
    "# By korean score (asc)\n",
    "# grade.sort_values('korean')\n",
    "\n",
    "# nBy korean desc, math asc\n",
    "grade.sort_values(['math', 'korean'], ascending=[False, True])\n"
   ]
  },
  {
   "cell_type": "markdown",
   "id": "17ce08e6",
   "metadata": {},
   "source": [
    "- 인덱스 오름차순 정렬 결과를 보면 'id-1' ~ 'id-5' 순으로 정렬되었습니다. (내림차순의 경우 역순)  \n",
    "- `sort_values('korean')`은 korean 점수 기준 오름차순입니다.  \n",
    "- 복수 컬럼으로 정렬할 때 `ascending` 리스트를 전달하여 개별 정렬 순서를 줄 수 있습니다. 위에서 \"korean 내림차순, math 오름차순\"으로 정렬하여 동일 korean 점수일 경우 math 점수가 작은 순으로 정렬되도록 했습니다."
   ]
  },
  {
   "cell_type": "markdown",
   "id": "e14dc83f",
   "metadata": {},
   "source": [
    "### 집계와 통계 연산"
   ]
  },
  {
   "cell_type": "markdown",
   "id": "56bd2bbf",
   "metadata": {},
   "source": [
    "Pandas는 데이터의 **요약 통계량**을 계산하거나, 그룹별로 집계할 수 있는 다양한 기능을 제공합니다."
   ]
  },
  {
   "cell_type": "markdown",
   "id": "89053759",
   "metadata": {},
   "source": [
    "# 기술통계 메소드들을 이용한 데이터 집계\n",
    "\n",
    "## 주요 기술통계 메소드\n",
    "\n",
    "| 함수           | 설명                      |\n",
    "| -------------- | ------------------------- |\n",
    "| **sum()**      | 합계                      |\n",
    "| **mean()**     | 평균                      |\n",
    "| **median()**   | 중위수                    |\n",
    "| **mode()**     | 최빈값                    |\n",
    "| **quantile()** | 분위수                    |\n",
    "| **std()**      | 표준편차                  |\n",
    "| **var()**      | 분산                      |\n",
    "| **count()**    | 결측치를 제외한 원소 개수 |\n",
    "| **min()**      | 최소값                    |\n",
    "| **max()**      | 최대값                    |\n",
    "| **idxmax()**   | 최대값 index              |\n",
    "| **idxmin()**   | 최소값 index              |\n",
    "| **unique()**   | 고유값                    |\n",
    "| **nunique()**  | 고유값의 개수             |\n",
    "\n",
    "<center><b style='font-size:1.2em'>cf) value_counts()는 Series에만 사용할 수 있다.</b></center>\n"
   ]
  },
  {
   "cell_type": "markdown",
   "id": "b5381439",
   "metadata": {},
   "source": [
    "예를 들어 `grade` DataFrame의 과목별 평균과 학생별 평균을 구해보겠습니다:"
   ]
  },
  {
   "cell_type": "code",
   "execution_count": 87,
   "id": "764f2a7d",
   "metadata": {},
   "outputs": [
    {
     "data": {
      "text/plain": [
       "korean    70.0\n",
       "math      68.2\n",
       "dtype: float64"
      ]
     },
     "execution_count": 87,
     "metadata": {},
     "output_type": "execute_result"
    }
   ],
   "source": [
    "# 과목 평균\n",
    "grade.mean()"
   ]
  },
  {
   "cell_type": "code",
   "execution_count": 89,
   "id": "dd9c03b6",
   "metadata": {},
   "outputs": [
    {
     "data": {
      "text/plain": [
       "id-1    89.0\n",
       "id-3    84.0\n",
       "id-2    68.0\n",
       "id-5    57.5\n",
       "id-4    47.0\n",
       "dtype: float64"
      ]
     },
     "execution_count": 89,
     "metadata": {},
     "output_type": "execute_result"
    }
   ],
   "source": [
    "# 학생 개인 평균\n",
    "grade.mean(axis=1)"
   ]
  },
  {
   "cell_type": "markdown",
   "id": "21bcba1a",
   "metadata": {},
   "source": [
    "## 그룹별 집계 (groupby)"
   ]
  },
  {
   "cell_type": "markdown",
   "id": "7fd7245d",
   "metadata": {},
   "source": [
    " DataFrame을 특정 컬럼 값에 따라 그룹으로 묶은 뒤 집계하는 것이 가능 \n",
    "`DF.groupby('기준컬럼')`으로 그룹 객체를 만들고, 이어서 집계 연산을 적용. 또는 한 번에 `DF.groupby('기준컬럼')['타겟컬럼'].agg(함수)` 형태로 사용 가능"
   ]
  },
  {
   "cell_type": "code",
   "execution_count": 39,
   "id": "6696e2d5",
   "metadata": {},
   "outputs": [
    {
     "data": {
      "text/html": [
       "<div>\n",
       "<style scoped>\n",
       "    .dataframe tbody tr th:only-of-type {\n",
       "        vertical-align: middle;\n",
       "    }\n",
       "\n",
       "    .dataframe tbody tr th {\n",
       "        vertical-align: top;\n",
       "    }\n",
       "\n",
       "    .dataframe thead th {\n",
       "        text-align: right;\n",
       "    }\n",
       "</style>\n",
       "<table border=\"1\" class=\"dataframe\">\n",
       "  <thead>\n",
       "    <tr style=\"text-align: right;\">\n",
       "      <th></th>\n",
       "      <th>Dept</th>\n",
       "      <th>Salary</th>\n",
       "    </tr>\n",
       "  </thead>\n",
       "  <tbody>\n",
       "    <tr>\n",
       "      <th>0</th>\n",
       "      <td>Sales</td>\n",
       "      <td>200</td>\n",
       "    </tr>\n",
       "    <tr>\n",
       "      <th>1</th>\n",
       "      <td>Sales</td>\n",
       "      <td>250</td>\n",
       "    </tr>\n",
       "    <tr>\n",
       "      <th>2</th>\n",
       "      <td>IT</td>\n",
       "      <td>300</td>\n",
       "    </tr>\n",
       "    <tr>\n",
       "      <th>3</th>\n",
       "      <td>IT</td>\n",
       "      <td>220</td>\n",
       "    </tr>\n",
       "    <tr>\n",
       "      <th>4</th>\n",
       "      <td>HR</td>\n",
       "      <td>270</td>\n",
       "    </tr>\n",
       "  </tbody>\n",
       "</table>\n",
       "</div>"
      ],
      "text/plain": [
       "    Dept  Salary\n",
       "0  Sales     200\n",
       "1  Sales     250\n",
       "2     IT     300\n",
       "3     IT     220\n",
       "4     HR     270"
      ]
     },
     "execution_count": 39,
     "metadata": {},
     "output_type": "execute_result"
    }
   ],
   "source": [
    "df_dept = pd.DataFrame({'Dept': ['Sales', 'Sales', 'IT', 'IT', 'HR'],\n",
    "                        'Salary': [200, 250, 300, 220, 270]})\n",
    "df_dept"
   ]
  },
  {
   "cell_type": "code",
   "execution_count": 40,
   "id": "bbc3bc8a",
   "metadata": {},
   "outputs": [
    {
     "data": {
      "text/plain": [
       "Dept\n",
       "HR       270.0\n",
       "IT       260.0\n",
       "Sales    225.0\n",
       "Name: Salary, dtype: float64"
      ]
     },
     "execution_count": 40,
     "metadata": {},
     "output_type": "execute_result"
    }
   ],
   "source": [
    "# dept 컬럼 기준으로 salary의 평균\n",
    "df_dept.groupby('Dept')['Salary'].mean()"
   ]
  },
  {
   "cell_type": "code",
   "execution_count": 67,
   "id": "e2c7e14b",
   "metadata": {},
   "outputs": [
    {
     "data": {
      "text/html": [
       "<div>\n",
       "<style scoped>\n",
       "    .dataframe tbody tr th:only-of-type {\n",
       "        vertical-align: middle;\n",
       "    }\n",
       "\n",
       "    .dataframe tbody tr th {\n",
       "        vertical-align: top;\n",
       "    }\n",
       "\n",
       "    .dataframe thead th {\n",
       "        text-align: right;\n",
       "    }\n",
       "</style>\n",
       "<table border=\"1\" class=\"dataframe\">\n",
       "  <thead>\n",
       "    <tr style=\"text-align: right;\">\n",
       "      <th></th>\n",
       "      <th>mean</th>\n",
       "      <th>sum</th>\n",
       "      <th>count</th>\n",
       "    </tr>\n",
       "    <tr>\n",
       "      <th>Dept</th>\n",
       "      <th></th>\n",
       "      <th></th>\n",
       "      <th></th>\n",
       "    </tr>\n",
       "  </thead>\n",
       "  <tbody>\n",
       "    <tr>\n",
       "      <th>HR</th>\n",
       "      <td>270.0</td>\n",
       "      <td>270</td>\n",
       "      <td>1</td>\n",
       "    </tr>\n",
       "    <tr>\n",
       "      <th>IT</th>\n",
       "      <td>260.0</td>\n",
       "      <td>520</td>\n",
       "      <td>2</td>\n",
       "    </tr>\n",
       "    <tr>\n",
       "      <th>Sales</th>\n",
       "      <td>225.0</td>\n",
       "      <td>450</td>\n",
       "      <td>2</td>\n",
       "    </tr>\n",
       "  </tbody>\n",
       "</table>\n",
       "</div>"
      ],
      "text/plain": [
       "        mean  sum  count\n",
       "Dept                    \n",
       "HR     270.0  270      1\n",
       "IT     260.0  520      2\n",
       "Sales  225.0  450      2"
      ]
     },
     "execution_count": 67,
     "metadata": {},
     "output_type": "execute_result"
    }
   ],
   "source": [
    "# dept 컬럼을 기준으로 salary의 평균, 합계, 원소 개수 카운트.\n",
    "df_dept.groupby('Dept')['Salary'].agg(['mean', 'sum', 'count'])"
   ]
  },
  {
   "cell_type": "markdown",
   "id": "81ec37ee",
   "metadata": {},
   "source": [
    "- 첫 번째 출력은 Dept별 Salary의 평균을 Series로  \n",
    "- 두 번째 출력은 `agg()`에 리스트로 여러 함수를 전달하여 부서별로 Salary의 mean, sum, count를 동시에 구한 결과"
   ]
  },
  {
   "cell_type": "markdown",
   "id": "a8c07ec6",
   "metadata": {},
   "source": [
    "**사용자 정의 집계 함수**도 전달할 수 있으며, 복수 컬럼에 대해 서로 다른 집계 함수를 적용하는 딕셔너리 가능"
   ]
  },
  {
   "cell_type": "code",
   "execution_count": 91,
   "id": "0517e363",
   "metadata": {},
   "outputs": [],
   "source": [
    "###  최대 최소값의의 차이를 집계하는 사용자 정의 집계함수.\n",
    "def min_max_diff(column):\n",
    "    return column.max() - column.min()"
   ]
  },
  {
   "cell_type": "code",
   "execution_count": 92,
   "id": "8c523e5f",
   "metadata": {},
   "outputs": [
    {
     "data": {
      "text/plain": [
       "Dept\n",
       "HR        0\n",
       "IT       80\n",
       "Sales    50\n",
       "Name: Salary, dtype: int64"
      ]
     },
     "execution_count": 92,
     "metadata": {},
     "output_type": "execute_result"
    }
   ],
   "source": [
    "df_dept.groupby('Dept')['Salary'].agg(min_max_diff)"
   ]
  },
  {
   "cell_type": "markdown",
   "id": "e8961efb",
   "metadata": {},
   "source": [
    "# pivot_table()\n",
    "\n",
    "엑셀의 pivot table 기능을 제공하는 메소드.  \n",
    "분류별 집계(Group으로 묶어 집계)를 처리하는 함수로 group으로 묶고자 하는 컬럼들을 행과 열로 위치시키고 집계값을 값으로 보여준다.  \n",
    "역할은 `groupby()`를 이용한 집계와 같은데 **여러개 컬럼을 기준으로 groupby 를 할 경우 집계결과를 읽는 것이 더 편하다.(가독성이 좋다)**\n",
    "\n",
    "> pivot() 함수와 역할이 다르다.  \n",
    "> pivot() 은 index와 column의 형태를 바꾸는 reshape 함수.\n",
    "\n",
    "-   `DataFrame.pivot_table(values=None, index=None, columns=None, aggfunc='mean', fill_value=None, margins=False, dropna=True, margins_name='All')`\n",
    "-   **매개변수**\n",
    "    -   **index**\n",
    "        -   문자열 또는 리스트. index로 올 컬럼들 => groupby였으면 묶었을 컬럼\n",
    "    -   **columns**\n",
    "        -   문자열 또는 리스트. column으로 올 컬럼들 => groupby였으면 묶었을 컬럼 (index/columns가 묶여서 groupby에 묶을 컬럼들이 된다.)\n",
    "    -   **values**\n",
    "        -   문자열 또는 리스트. 집계할 대상 컬럼들\n",
    "    -   **aggfunc**\n",
    "        -   집계함수 지정. 함수, 함수이름문자열, 함수리스트(함수이름 문자열/함수객체), dict: 집계할 함수\n",
    "        -   기본(생략시): 평균을 구한다. (mean이 기본값)\n",
    "    -   **fill_value, dropna**\n",
    "        -   fill_value: 집계시 NA가 나올경우 채울 값\n",
    "        -   dropna: boolean. 컬럼의 전체값이 NA인 경우 그 컬럼 제거(기본: True)\n",
    "    -   **margins/margins_name**\n",
    "        -   margin: boolean(기본: False). 총집계결과를 만들지 여부.\n",
    "        -   margin_name: margin의 이름 문자열로 지정 (생략시 All)\n"
   ]
  },
  {
   "cell_type": "code",
   "execution_count": 41,
   "id": "69004593",
   "metadata": {},
   "outputs": [
    {
     "data": {
      "text/plain": [
       "(58492, 14)"
      ]
     },
     "execution_count": 41,
     "metadata": {},
     "output_type": "execute_result"
    }
   ],
   "source": [
    "import pandas as pd\n",
    "df = pd.read_csv('data/flights.csv')\n",
    "df.shape"
   ]
  },
  {
   "cell_type": "markdown",
   "id": "dcab2d1b",
   "metadata": {},
   "source": [
    "### 두개의 컬럼을 grouping 해서 집계\n",
    "\n",
    "-   항공사/출발공항코드 별 취소 총수 (1이 취소이므로 합계를 구한다.)\n",
    "-   사용컬럼\n",
    "    -   grouping할 컬럼\n",
    "        -   AIRLINE: 항공사\n",
    "        -   ORG_AIR: 출발 공항코드\n",
    "    -   집계대상컬럼\n",
    "        -   CANCELLED: 취소여부 - 1:취소, 0: 취소안됨\n",
    "-   집계: sum\n"
   ]
  },
  {
   "cell_type": "code",
   "execution_count": 42,
   "id": "b56522de",
   "metadata": {},
   "outputs": [
    {
     "data": {
      "text/plain": [
       "AIRLINE  ORG_AIR\n",
       "AA       ATL         3\n",
       "         DEN         4\n",
       "         DFW        86\n",
       "         IAH         3\n",
       "         LAS         3\n",
       "                    ..\n",
       "WN       LAS         7\n",
       "         LAX        32\n",
       "         MSP         1\n",
       "         PHX         6\n",
       "         SFO        25\n",
       "Name: CANCELLED, Length: 114, dtype: int64"
      ]
     },
     "execution_count": 42,
     "metadata": {},
     "output_type": "execute_result"
    }
   ],
   "source": [
    "df.groupby([\"AIRLINE\", \"ORG_AIR\"])['CANCELLED'].sum()"
   ]
  },
  {
   "cell_type": "code",
   "execution_count": 99,
   "id": "e8a25003",
   "metadata": {},
   "outputs": [
    {
     "data": {
      "text/html": [
       "<div>\n",
       "<style scoped>\n",
       "    .dataframe tbody tr th:only-of-type {\n",
       "        vertical-align: middle;\n",
       "    }\n",
       "\n",
       "    .dataframe tbody tr th {\n",
       "        vertical-align: top;\n",
       "    }\n",
       "\n",
       "    .dataframe thead th {\n",
       "        text-align: right;\n",
       "    }\n",
       "</style>\n",
       "<table border=\"1\" class=\"dataframe\">\n",
       "  <thead>\n",
       "    <tr style=\"text-align: right;\">\n",
       "      <th>ORG_AIR</th>\n",
       "      <th>ATL</th>\n",
       "      <th>DEN</th>\n",
       "      <th>DFW</th>\n",
       "      <th>IAH</th>\n",
       "      <th>LAS</th>\n",
       "      <th>LAX</th>\n",
       "      <th>MSP</th>\n",
       "      <th>ORD</th>\n",
       "      <th>PHX</th>\n",
       "      <th>SFO</th>\n",
       "      <th>총 취소 건수</th>\n",
       "    </tr>\n",
       "    <tr>\n",
       "      <th>AIRLINE</th>\n",
       "      <th></th>\n",
       "      <th></th>\n",
       "      <th></th>\n",
       "      <th></th>\n",
       "      <th></th>\n",
       "      <th></th>\n",
       "      <th></th>\n",
       "      <th></th>\n",
       "      <th></th>\n",
       "      <th></th>\n",
       "      <th></th>\n",
       "    </tr>\n",
       "  </thead>\n",
       "  <tbody>\n",
       "    <tr>\n",
       "      <th>AA</th>\n",
       "      <td>3</td>\n",
       "      <td>4</td>\n",
       "      <td>86</td>\n",
       "      <td>3</td>\n",
       "      <td>3</td>\n",
       "      <td>11</td>\n",
       "      <td>3</td>\n",
       "      <td>35</td>\n",
       "      <td>4</td>\n",
       "      <td>2</td>\n",
       "      <td>154</td>\n",
       "    </tr>\n",
       "    <tr>\n",
       "      <th>AS</th>\n",
       "      <td>0</td>\n",
       "      <td>0</td>\n",
       "      <td>0</td>\n",
       "      <td>0</td>\n",
       "      <td>0</td>\n",
       "      <td>0</td>\n",
       "      <td>0</td>\n",
       "      <td>0</td>\n",
       "      <td>0</td>\n",
       "      <td>0</td>\n",
       "      <td>0</td>\n",
       "    </tr>\n",
       "    <tr>\n",
       "      <th>B6</th>\n",
       "      <td>-999</td>\n",
       "      <td>0</td>\n",
       "      <td>0</td>\n",
       "      <td>-999</td>\n",
       "      <td>0</td>\n",
       "      <td>0</td>\n",
       "      <td>-999</td>\n",
       "      <td>0</td>\n",
       "      <td>0</td>\n",
       "      <td>1</td>\n",
       "      <td>1</td>\n",
       "    </tr>\n",
       "    <tr>\n",
       "      <th>DL</th>\n",
       "      <td>28</td>\n",
       "      <td>1</td>\n",
       "      <td>0</td>\n",
       "      <td>0</td>\n",
       "      <td>1</td>\n",
       "      <td>1</td>\n",
       "      <td>4</td>\n",
       "      <td>0</td>\n",
       "      <td>1</td>\n",
       "      <td>2</td>\n",
       "      <td>38</td>\n",
       "    </tr>\n",
       "    <tr>\n",
       "      <th>EV</th>\n",
       "      <td>18</td>\n",
       "      <td>6</td>\n",
       "      <td>27</td>\n",
       "      <td>36</td>\n",
       "      <td>-999</td>\n",
       "      <td>-999</td>\n",
       "      <td>6</td>\n",
       "      <td>53</td>\n",
       "      <td>0</td>\n",
       "      <td>-999</td>\n",
       "      <td>146</td>\n",
       "    </tr>\n",
       "    <tr>\n",
       "      <th>F9</th>\n",
       "      <td>0</td>\n",
       "      <td>2</td>\n",
       "      <td>1</td>\n",
       "      <td>0</td>\n",
       "      <td>1</td>\n",
       "      <td>1</td>\n",
       "      <td>1</td>\n",
       "      <td>4</td>\n",
       "      <td>0</td>\n",
       "      <td>0</td>\n",
       "      <td>10</td>\n",
       "    </tr>\n",
       "    <tr>\n",
       "      <th>HA</th>\n",
       "      <td>-999</td>\n",
       "      <td>-999</td>\n",
       "      <td>-999</td>\n",
       "      <td>-999</td>\n",
       "      <td>0</td>\n",
       "      <td>0</td>\n",
       "      <td>-999</td>\n",
       "      <td>-999</td>\n",
       "      <td>0</td>\n",
       "      <td>0</td>\n",
       "      <td>0</td>\n",
       "    </tr>\n",
       "    <tr>\n",
       "      <th>MQ</th>\n",
       "      <td>5</td>\n",
       "      <td>-999</td>\n",
       "      <td>62</td>\n",
       "      <td>0</td>\n",
       "      <td>-999</td>\n",
       "      <td>0</td>\n",
       "      <td>0</td>\n",
       "      <td>85</td>\n",
       "      <td>-999</td>\n",
       "      <td>-999</td>\n",
       "      <td>152</td>\n",
       "    </tr>\n",
       "    <tr>\n",
       "      <th>NK</th>\n",
       "      <td>1</td>\n",
       "      <td>1</td>\n",
       "      <td>6</td>\n",
       "      <td>0</td>\n",
       "      <td>1</td>\n",
       "      <td>1</td>\n",
       "      <td>3</td>\n",
       "      <td>10</td>\n",
       "      <td>2</td>\n",
       "      <td>-999</td>\n",
       "      <td>25</td>\n",
       "    </tr>\n",
       "    <tr>\n",
       "      <th>OO</th>\n",
       "      <td>3</td>\n",
       "      <td>25</td>\n",
       "      <td>2</td>\n",
       "      <td>10</td>\n",
       "      <td>0</td>\n",
       "      <td>15</td>\n",
       "      <td>4</td>\n",
       "      <td>41</td>\n",
       "      <td>9</td>\n",
       "      <td>33</td>\n",
       "      <td>142</td>\n",
       "    </tr>\n",
       "    <tr>\n",
       "      <th>UA</th>\n",
       "      <td>2</td>\n",
       "      <td>9</td>\n",
       "      <td>1</td>\n",
       "      <td>23</td>\n",
       "      <td>3</td>\n",
       "      <td>6</td>\n",
       "      <td>2</td>\n",
       "      <td>25</td>\n",
       "      <td>3</td>\n",
       "      <td>19</td>\n",
       "      <td>93</td>\n",
       "    </tr>\n",
       "    <tr>\n",
       "      <th>US</th>\n",
       "      <td>0</td>\n",
       "      <td>0</td>\n",
       "      <td>2</td>\n",
       "      <td>2</td>\n",
       "      <td>1</td>\n",
       "      <td>0</td>\n",
       "      <td>0</td>\n",
       "      <td>6</td>\n",
       "      <td>7</td>\n",
       "      <td>3</td>\n",
       "      <td>21</td>\n",
       "    </tr>\n",
       "    <tr>\n",
       "      <th>VX</th>\n",
       "      <td>-999</td>\n",
       "      <td>-999</td>\n",
       "      <td>-999</td>\n",
       "      <td>-999</td>\n",
       "      <td>0</td>\n",
       "      <td>3</td>\n",
       "      <td>-999</td>\n",
       "      <td>0</td>\n",
       "      <td>-999</td>\n",
       "      <td>3</td>\n",
       "      <td>6</td>\n",
       "    </tr>\n",
       "    <tr>\n",
       "      <th>WN</th>\n",
       "      <td>9</td>\n",
       "      <td>13</td>\n",
       "      <td>-999</td>\n",
       "      <td>-999</td>\n",
       "      <td>7</td>\n",
       "      <td>32</td>\n",
       "      <td>1</td>\n",
       "      <td>-999</td>\n",
       "      <td>6</td>\n",
       "      <td>25</td>\n",
       "      <td>93</td>\n",
       "    </tr>\n",
       "    <tr>\n",
       "      <th>총 취소 건수</th>\n",
       "      <td>69</td>\n",
       "      <td>61</td>\n",
       "      <td>187</td>\n",
       "      <td>74</td>\n",
       "      <td>17</td>\n",
       "      <td>70</td>\n",
       "      <td>24</td>\n",
       "      <td>259</td>\n",
       "      <td>32</td>\n",
       "      <td>88</td>\n",
       "      <td>881</td>\n",
       "    </tr>\n",
       "  </tbody>\n",
       "</table>\n",
       "</div>"
      ],
      "text/plain": [
       "ORG_AIR  ATL  DEN  DFW  IAH  LAS  LAX  MSP  ORD  PHX  SFO  총 취소 건수\n",
       "AIRLINE                                                           \n",
       "AA         3    4   86    3    3   11    3   35    4    2      154\n",
       "AS         0    0    0    0    0    0    0    0    0    0        0\n",
       "B6      -999    0    0 -999    0    0 -999    0    0    1        1\n",
       "DL        28    1    0    0    1    1    4    0    1    2       38\n",
       "EV        18    6   27   36 -999 -999    6   53    0 -999      146\n",
       "F9         0    2    1    0    1    1    1    4    0    0       10\n",
       "HA      -999 -999 -999 -999    0    0 -999 -999    0    0        0\n",
       "MQ         5 -999   62    0 -999    0    0   85 -999 -999      152\n",
       "NK         1    1    6    0    1    1    3   10    2 -999       25\n",
       "OO         3   25    2   10    0   15    4   41    9   33      142\n",
       "UA         2    9    1   23    3    6    2   25    3   19       93\n",
       "US         0    0    2    2    1    0    0    6    7    3       21\n",
       "VX      -999 -999 -999 -999    0    3 -999    0 -999    3        6\n",
       "WN         9   13 -999 -999    7   32    1 -999    6   25       93\n",
       "총 취소 건수   69   61  187   74   17   70   24  259   32   88      881"
      ]
     },
     "execution_count": 99,
     "metadata": {},
     "output_type": "execute_result"
    }
   ],
   "source": [
    "df.pivot_table(\n",
    "    index=\"AIRLINE\",    # group으로 묶을 컬럼 중 행에 놓을것\n",
    "    columns=\"ORG_AIR\",  # group으로 묶을 컬럼 중 열에 놓을것\n",
    "    values=\"CANCELLED\", # 집계할 컬럼\n",
    "    aggfunc=\"sum\",      # 집계 함수, 생략하면 mean이 default\n",
    "    margins=True,       # index 별, column 별 집계결과를 뒤에 붙여준다.\n",
    "    margins_name=\"총 취소 건수\",    # margins=True일 때 컬럼/행 이름 지정. 생략하면\n",
    "    fill_value=-999,    # 결측치대신 넣을 값.\n",
    ")"
   ]
  },
  {
   "cell_type": "markdown",
   "id": "eb7f5295",
   "metadata": {},
   "source": [
    "# cut() - 연속형(수치형)을 범주형으로 변환\n",
    "\n",
    "-   cut() : 지정한 값을 기준으로 구간을 나눠 그룹으로 묶는다.\n",
    "    -   `pd.cut(x, bins,right=True, labels=None)`\n",
    "    -   매개변수\n",
    "        -   **x**: 범주형으로 바꿀 대상. 1차원 배열형태(Series, 리스트, ndarray)의 자료구조\n",
    "        -   **bins**: 범주로 나눌때의 기준값(구간경계)들을 리스트로 묶어서 전달한다.\n",
    "        -   **right**: 구간경계의 오른쪽(True-기본)을 포함할지 왼쪽(False)을 포함할지\n",
    "        -   **labels**: 각 구간(범주)의 label을 리스트로 전달\n",
    "            -   생략하면 범위를 범주명으로 사용한다. (ex: (10, 20], ()-포함안함, []-포함)\n"
   ]
  },
  {
   "cell_type": "code",
   "execution_count": 44,
   "id": "521cc9bf",
   "metadata": {},
   "outputs": [
    {
     "data": {
      "text/html": [
       "<div>\n",
       "<style scoped>\n",
       "    .dataframe tbody tr th:only-of-type {\n",
       "        vertical-align: middle;\n",
       "    }\n",
       "\n",
       "    .dataframe tbody tr th {\n",
       "        vertical-align: top;\n",
       "    }\n",
       "\n",
       "    .dataframe thead th {\n",
       "        text-align: right;\n",
       "    }\n",
       "</style>\n",
       "<table border=\"1\" class=\"dataframe\">\n",
       "  <thead>\n",
       "    <tr style=\"text-align: right;\">\n",
       "      <th></th>\n",
       "      <th>age</th>\n",
       "      <th>tall</th>\n",
       "    </tr>\n",
       "  </thead>\n",
       "  <tbody>\n",
       "    <tr>\n",
       "      <th>0</th>\n",
       "      <td>52</td>\n",
       "      <td>159.87</td>\n",
       "    </tr>\n",
       "    <tr>\n",
       "      <th>1</th>\n",
       "      <td>93</td>\n",
       "      <td>173.14</td>\n",
       "    </tr>\n",
       "    <tr>\n",
       "      <th>2</th>\n",
       "      <td>15</td>\n",
       "      <td>160.92</td>\n",
       "    </tr>\n",
       "    <tr>\n",
       "      <th>3</th>\n",
       "      <td>72</td>\n",
       "      <td>155.88</td>\n",
       "    </tr>\n",
       "    <tr>\n",
       "      <th>4</th>\n",
       "      <td>61</td>\n",
       "      <td>184.66</td>\n",
       "    </tr>\n",
       "    <tr>\n",
       "      <th>5</th>\n",
       "      <td>21</td>\n",
       "      <td>167.74</td>\n",
       "    </tr>\n",
       "    <tr>\n",
       "      <th>6</th>\n",
       "      <td>83</td>\n",
       "      <td>170.68</td>\n",
       "    </tr>\n",
       "    <tr>\n",
       "      <th>7</th>\n",
       "      <td>87</td>\n",
       "      <td>155.75</td>\n",
       "    </tr>\n",
       "    <tr>\n",
       "      <th>8</th>\n",
       "      <td>75</td>\n",
       "      <td>164.56</td>\n",
       "    </tr>\n",
       "    <tr>\n",
       "      <th>9</th>\n",
       "      <td>75</td>\n",
       "      <td>171.11</td>\n",
       "    </tr>\n",
       "    <tr>\n",
       "      <th>10</th>\n",
       "      <td>88</td>\n",
       "      <td>158.49</td>\n",
       "    </tr>\n",
       "    <tr>\n",
       "      <th>11</th>\n",
       "      <td>24</td>\n",
       "      <td>173.76</td>\n",
       "    </tr>\n",
       "    <tr>\n",
       "      <th>12</th>\n",
       "      <td>3</td>\n",
       "      <td>163.99</td>\n",
       "    </tr>\n",
       "    <tr>\n",
       "      <th>13</th>\n",
       "      <td>22</td>\n",
       "      <td>167.08</td>\n",
       "    </tr>\n",
       "    <tr>\n",
       "      <th>14</th>\n",
       "      <td>53</td>\n",
       "      <td>163.98</td>\n",
       "    </tr>\n",
       "    <tr>\n",
       "      <th>15</th>\n",
       "      <td>2</td>\n",
       "      <td>188.52</td>\n",
       "    </tr>\n",
       "    <tr>\n",
       "      <th>16</th>\n",
       "      <td>88</td>\n",
       "      <td>169.87</td>\n",
       "    </tr>\n",
       "    <tr>\n",
       "      <th>17</th>\n",
       "      <td>30</td>\n",
       "      <td>159.42</td>\n",
       "    </tr>\n",
       "    <tr>\n",
       "      <th>18</th>\n",
       "      <td>38</td>\n",
       "      <td>178.23</td>\n",
       "    </tr>\n",
       "    <tr>\n",
       "      <th>19</th>\n",
       "      <td>2</td>\n",
       "      <td>157.79</td>\n",
       "    </tr>\n",
       "    <tr>\n",
       "      <th>20</th>\n",
       "      <td>64</td>\n",
       "      <td>172.09</td>\n",
       "    </tr>\n",
       "    <tr>\n",
       "      <th>21</th>\n",
       "      <td>60</td>\n",
       "      <td>150.40</td>\n",
       "    </tr>\n",
       "    <tr>\n",
       "      <th>22</th>\n",
       "      <td>21</td>\n",
       "      <td>156.72</td>\n",
       "    </tr>\n",
       "    <tr>\n",
       "      <th>23</th>\n",
       "      <td>33</td>\n",
       "      <td>171.97</td>\n",
       "    </tr>\n",
       "    <tr>\n",
       "      <th>24</th>\n",
       "      <td>76</td>\n",
       "      <td>177.38</td>\n",
       "    </tr>\n",
       "    <tr>\n",
       "      <th>25</th>\n",
       "      <td>58</td>\n",
       "      <td>171.71</td>\n",
       "    </tr>\n",
       "    <tr>\n",
       "      <th>26</th>\n",
       "      <td>22</td>\n",
       "      <td>168.84</td>\n",
       "    </tr>\n",
       "    <tr>\n",
       "      <th>27</th>\n",
       "      <td>89</td>\n",
       "      <td>166.99</td>\n",
       "    </tr>\n",
       "    <tr>\n",
       "      <th>28</th>\n",
       "      <td>49</td>\n",
       "      <td>155.21</td>\n",
       "    </tr>\n",
       "    <tr>\n",
       "      <th>29</th>\n",
       "      <td>91</td>\n",
       "      <td>162.80</td>\n",
       "    </tr>\n",
       "  </tbody>\n",
       "</table>\n",
       "</div>"
      ],
      "text/plain": [
       "    age    tall\n",
       "0    52  159.87\n",
       "1    93  173.14\n",
       "2    15  160.92\n",
       "3    72  155.88\n",
       "4    61  184.66\n",
       "5    21  167.74\n",
       "6    83  170.68\n",
       "7    87  155.75\n",
       "8    75  164.56\n",
       "9    75  171.11\n",
       "10   88  158.49\n",
       "11   24  173.76\n",
       "12    3  163.99\n",
       "13   22  167.08\n",
       "14   53  163.98\n",
       "15    2  188.52\n",
       "16   88  169.87\n",
       "17   30  159.42\n",
       "18   38  178.23\n",
       "19    2  157.79\n",
       "20   64  172.09\n",
       "21   60  150.40\n",
       "22   21  156.72\n",
       "23   33  171.97\n",
       "24   76  177.38\n",
       "25   58  171.71\n",
       "26   22  168.84\n",
       "27   89  166.99\n",
       "28   49  155.21\n",
       "29   91  162.80"
      ]
     },
     "execution_count": 44,
     "metadata": {},
     "output_type": "execute_result"
    }
   ],
   "source": [
    "np.random.seed(42)\n",
    "d = {\n",
    "    \"age\": np.random.randint(1, 100, size=30),\n",
    "    \"tall\": np.round(np.random.normal(170, 10, size=30), 2),\n",
    "}\n",
    "df = pd.DataFrame(d)\n",
    "df"
   ]
  },
  {
   "cell_type": "markdown",
   "id": "aa2fdf31",
   "metadata": {},
   "source": [
    "> ### np.random.normal(평균, 표준편차, size=개수): 정규분포를 따르는 난수 생성\n",
    "> - 난수란 예측할 수 없고 일정한 규칙이 없는, 임의로 발생하는 수를 의미한다. 주로 통계적 분석이나 알고리즘에서 무작위성을 구현할 때 사용된다.\n",
    "> - 특정 데이터 분포를 이용해 난수를 발생시키면, 해당 분포의 특성을 따르는 난수가 생성되도록 제어할 수 있다.\n",
    ">   \n",
    "> #### 데이터 분포\n",
    "> - 분포의 사전적의미는 특정 범위나 구역 내에서 사물이나 현상이 퍼져 있는 상태를 의미\n",
    "> - **데이터 분포는** 값들이 전체 범위 내에서 어떻게 퍼져 있는지를 나타내는 패턴이다. 이를 통해 데이터의 중심 경향, 변동성, 대칭성 등을 파악할 수 있다.\n",
    "> #### 정규분포:\n",
    "> - 정규분포는 데이터가 **평균을 중심으로 좌우 대칭**을 이루며 **종 모양의 분포**를 나타내는 확률 분포다. 평균 주변에 데이터들이 집중되고, 평균에서 멀어질수록 데이터의 빈도가 감소하는 특징을 가진다. 대표적인 예로 사람들의 키나 시험 점수가 정규분포를 따르는 경우가 많다.\n",
    "> - 정규분포는 평균과 분산을 통해 표현된다.\n",
    "> - 정규분포중 평균이 0이고 표준편차가 1인 것을 **표준 정규 분포** 라고 한다.\n",
    "> - 정규분포를 이용한 난수\n",
    ">     - 평균 +- 표준편차  범위: 대략 70% 분포됨.\n",
    ">     - 평균 +- 표준편차 * 2 범위: 대략 95% 분포됨.\n",
    ">     - 평균 +- 표준편차 * 3 범위: 대략 99% 분포됨.\n",
    "> - ex)\n",
    ">    - 평균: 170, 표준편차: 10, 100 개 난수 생성\n",
    ">         - 160 ~ 180 : 70 개\n",
    ">         - 150 ~ 190 : 95 개"
   ]
  },
  {
   "cell_type": "code",
   "execution_count": 45,
   "id": "92faf396",
   "metadata": {},
   "outputs": [],
   "source": [
    "나이대 = pd.cut(\n",
    "    df['age'],    # 범주형으로 만들 수치형값들.\n",
    "    bins=3,       # 몇개의 범주로 나눌지. (범위로 등분)  \n",
    "    right=False   #default: True -> 등분 범위에 어느쪽을 포함시킬지.  # True: 끝 포함, False: 시작 포함\n",
    ")"
   ]
  },
  {
   "cell_type": "code",
   "execution_count": 46,
   "id": "c1d3fcef",
   "metadata": {},
   "outputs": [
    {
     "data": {
      "text/plain": [
       "0    52\n",
       "1    93\n",
       "2    15\n",
       "3    72\n",
       "4    61\n",
       "Name: age, dtype: int32"
      ]
     },
     "execution_count": 46,
     "metadata": {},
     "output_type": "execute_result"
    }
   ],
   "source": [
    "df['age'].head()"
   ]
  },
  {
   "cell_type": "code",
   "execution_count": 47,
   "id": "26f8715c",
   "metadata": {},
   "outputs": [
    {
     "data": {
      "text/plain": [
       "0    [32.333, 62.667)\n",
       "1    [62.667, 93.091)\n",
       "2       [2.0, 32.333)\n",
       "3    [62.667, 93.091)\n",
       "4    [32.333, 62.667)\n",
       "Name: age, dtype: category\n",
       "Categories (3, interval[float64, left]): [[2.0, 32.333) < [32.333, 62.667) < [62.667, 93.091)]"
      ]
     },
     "execution_count": 47,
     "metadata": {},
     "output_type": "execute_result"
    }
   ],
   "source": [
    "나이대.head() # []는 포함, ()는 미포함. [()] 크거나 같고 작거나 같고"
   ]
  },
  {
   "cell_type": "code",
   "execution_count": 48,
   "id": "19224b79",
   "metadata": {},
   "outputs": [
    {
     "data": {
      "text/html": [
       "<div>\n",
       "<style scoped>\n",
       "    .dataframe tbody tr th:only-of-type {\n",
       "        vertical-align: middle;\n",
       "    }\n",
       "\n",
       "    .dataframe tbody tr th {\n",
       "        vertical-align: top;\n",
       "    }\n",
       "\n",
       "    .dataframe thead th {\n",
       "        text-align: right;\n",
       "    }\n",
       "</style>\n",
       "<table border=\"1\" class=\"dataframe\">\n",
       "  <thead>\n",
       "    <tr style=\"text-align: right;\">\n",
       "      <th></th>\n",
       "      <th>age</th>\n",
       "      <th>나이대</th>\n",
       "    </tr>\n",
       "  </thead>\n",
       "  <tbody>\n",
       "    <tr>\n",
       "      <th>0</th>\n",
       "      <td>52</td>\n",
       "      <td>[32.333, 62.667)</td>\n",
       "    </tr>\n",
       "    <tr>\n",
       "      <th>1</th>\n",
       "      <td>93</td>\n",
       "      <td>[62.667, 93.091)</td>\n",
       "    </tr>\n",
       "    <tr>\n",
       "      <th>2</th>\n",
       "      <td>15</td>\n",
       "      <td>[2.0, 32.333)</td>\n",
       "    </tr>\n",
       "    <tr>\n",
       "      <th>3</th>\n",
       "      <td>72</td>\n",
       "      <td>[62.667, 93.091)</td>\n",
       "    </tr>\n",
       "    <tr>\n",
       "      <th>4</th>\n",
       "      <td>61</td>\n",
       "      <td>[32.333, 62.667)</td>\n",
       "    </tr>\n",
       "    <tr>\n",
       "      <th>5</th>\n",
       "      <td>21</td>\n",
       "      <td>[2.0, 32.333)</td>\n",
       "    </tr>\n",
       "    <tr>\n",
       "      <th>6</th>\n",
       "      <td>83</td>\n",
       "      <td>[62.667, 93.091)</td>\n",
       "    </tr>\n",
       "    <tr>\n",
       "      <th>7</th>\n",
       "      <td>87</td>\n",
       "      <td>[62.667, 93.091)</td>\n",
       "    </tr>\n",
       "    <tr>\n",
       "      <th>8</th>\n",
       "      <td>75</td>\n",
       "      <td>[62.667, 93.091)</td>\n",
       "    </tr>\n",
       "    <tr>\n",
       "      <th>9</th>\n",
       "      <td>75</td>\n",
       "      <td>[62.667, 93.091)</td>\n",
       "    </tr>\n",
       "    <tr>\n",
       "      <th>10</th>\n",
       "      <td>88</td>\n",
       "      <td>[62.667, 93.091)</td>\n",
       "    </tr>\n",
       "    <tr>\n",
       "      <th>11</th>\n",
       "      <td>24</td>\n",
       "      <td>[2.0, 32.333)</td>\n",
       "    </tr>\n",
       "    <tr>\n",
       "      <th>12</th>\n",
       "      <td>3</td>\n",
       "      <td>[2.0, 32.333)</td>\n",
       "    </tr>\n",
       "    <tr>\n",
       "      <th>13</th>\n",
       "      <td>22</td>\n",
       "      <td>[2.0, 32.333)</td>\n",
       "    </tr>\n",
       "    <tr>\n",
       "      <th>14</th>\n",
       "      <td>53</td>\n",
       "      <td>[32.333, 62.667)</td>\n",
       "    </tr>\n",
       "    <tr>\n",
       "      <th>15</th>\n",
       "      <td>2</td>\n",
       "      <td>[2.0, 32.333)</td>\n",
       "    </tr>\n",
       "    <tr>\n",
       "      <th>16</th>\n",
       "      <td>88</td>\n",
       "      <td>[62.667, 93.091)</td>\n",
       "    </tr>\n",
       "    <tr>\n",
       "      <th>17</th>\n",
       "      <td>30</td>\n",
       "      <td>[2.0, 32.333)</td>\n",
       "    </tr>\n",
       "    <tr>\n",
       "      <th>18</th>\n",
       "      <td>38</td>\n",
       "      <td>[32.333, 62.667)</td>\n",
       "    </tr>\n",
       "    <tr>\n",
       "      <th>19</th>\n",
       "      <td>2</td>\n",
       "      <td>[2.0, 32.333)</td>\n",
       "    </tr>\n",
       "    <tr>\n",
       "      <th>20</th>\n",
       "      <td>64</td>\n",
       "      <td>[62.667, 93.091)</td>\n",
       "    </tr>\n",
       "    <tr>\n",
       "      <th>21</th>\n",
       "      <td>60</td>\n",
       "      <td>[32.333, 62.667)</td>\n",
       "    </tr>\n",
       "    <tr>\n",
       "      <th>22</th>\n",
       "      <td>21</td>\n",
       "      <td>[2.0, 32.333)</td>\n",
       "    </tr>\n",
       "    <tr>\n",
       "      <th>23</th>\n",
       "      <td>33</td>\n",
       "      <td>[32.333, 62.667)</td>\n",
       "    </tr>\n",
       "    <tr>\n",
       "      <th>24</th>\n",
       "      <td>76</td>\n",
       "      <td>[62.667, 93.091)</td>\n",
       "    </tr>\n",
       "    <tr>\n",
       "      <th>25</th>\n",
       "      <td>58</td>\n",
       "      <td>[32.333, 62.667)</td>\n",
       "    </tr>\n",
       "    <tr>\n",
       "      <th>26</th>\n",
       "      <td>22</td>\n",
       "      <td>[2.0, 32.333)</td>\n",
       "    </tr>\n",
       "    <tr>\n",
       "      <th>27</th>\n",
       "      <td>89</td>\n",
       "      <td>[62.667, 93.091)</td>\n",
       "    </tr>\n",
       "    <tr>\n",
       "      <th>28</th>\n",
       "      <td>49</td>\n",
       "      <td>[32.333, 62.667)</td>\n",
       "    </tr>\n",
       "    <tr>\n",
       "      <th>29</th>\n",
       "      <td>91</td>\n",
       "      <td>[62.667, 93.091)</td>\n",
       "    </tr>\n",
       "  </tbody>\n",
       "</table>\n",
       "</div>"
      ],
      "text/plain": [
       "    age               나이대\n",
       "0    52  [32.333, 62.667)\n",
       "1    93  [62.667, 93.091)\n",
       "2    15     [2.0, 32.333)\n",
       "3    72  [62.667, 93.091)\n",
       "4    61  [32.333, 62.667)\n",
       "5    21     [2.0, 32.333)\n",
       "6    83  [62.667, 93.091)\n",
       "7    87  [62.667, 93.091)\n",
       "8    75  [62.667, 93.091)\n",
       "9    75  [62.667, 93.091)\n",
       "10   88  [62.667, 93.091)\n",
       "11   24     [2.0, 32.333)\n",
       "12    3     [2.0, 32.333)\n",
       "13   22     [2.0, 32.333)\n",
       "14   53  [32.333, 62.667)\n",
       "15    2     [2.0, 32.333)\n",
       "16   88  [62.667, 93.091)\n",
       "17   30     [2.0, 32.333)\n",
       "18   38  [32.333, 62.667)\n",
       "19    2     [2.0, 32.333)\n",
       "20   64  [62.667, 93.091)\n",
       "21   60  [32.333, 62.667)\n",
       "22   21     [2.0, 32.333)\n",
       "23   33  [32.333, 62.667)\n",
       "24   76  [62.667, 93.091)\n",
       "25   58  [32.333, 62.667)\n",
       "26   22     [2.0, 32.333)\n",
       "27   89  [62.667, 93.091)\n",
       "28   49  [32.333, 62.667)\n",
       "29   91  [62.667, 93.091)"
      ]
     },
     "execution_count": 48,
     "metadata": {},
     "output_type": "execute_result"
    }
   ],
   "source": [
    "pd.DataFrame({\"age\": df['age'], \"나이대\":나이대})\n",
    "# 10 ~ 36, 36 ~ 62, 62 ~ 89"
   ]
  },
  {
   "cell_type": "markdown",
   "id": "985a203b",
   "metadata": {},
   "source": [
    "# apply() - Series, DataFrame의 데이터 일괄 처리\n",
    "\n",
    "데이터프레임의 행들과 열들 또는 Series의 원소들에 공통된 처리를 할 때 apply 함수를 이용하면 반복문을 사용하지 않고 일괄 처리가 가능하다.\n",
    "\n",
    "-   DataFrame.apply(함수, axis=0, args=(), \\*\\*kwarg)\n",
    "    -   인수로 행이나 열을 받는 함수를 apply 메서드의 인수로 넣으면 데이터프레임의 행이나 열들을 하나씩 함수에 전달한다.\n",
    "    -   매개변수\n",
    "        -   **함수**: DataFrame의 행들 또는 열들을 전달할 함수\n",
    "        -   **axis**: **0-컬럼(열)을 전달, 1-행을 전달 (기본값 0)**\n",
    "        -   **args**: 함수에 행/열 이외에 전달할 매개변수를 위치기반(순서대로) 튜플로 전달\n",
    "        -   **\\*\\*kwarg**: 함수에 행/열 이외에 전달할 매개변수를 키워드 인자로 전달\n",
    "-   Series.apply(함수, args=(), \\*\\*kwarg)\n",
    "    -   인수로 Series의 원소들을 받는 함수를 apply 메소드의 인수로 넣으면 Series의 원소들을 하나씩 함수로 전달한다.\n",
    "    -   매개변수\n",
    "        -   **함수**: Series의 원소들을 전달할 함수\n",
    "        -   **args**: 함수에 원소 이외에 전달할 매개변수를 위치기반(순서대로) 튜플로 전달\n",
    "        -   **\\*\\*kwarg**: 함수에 원소 이외에 전달할 매개변수를 키워드 인자로 전달\n"
   ]
  },
  {
   "cell_type": "code",
   "execution_count": 108,
   "id": "6cb01b9d",
   "metadata": {},
   "outputs": [
    {
     "data": {
      "text/plain": [
       "Index(['MONTH', 'DAY', 'WEEKDAY', 'AIRLINE', 'ORG_AIR', 'DEST_AIR',\n",
       "       'SCHED_DEP', 'DEP_DELAY', 'AIR_TIME', 'DIST', 'SCHED_ARR', 'ARR_DELAY',\n",
       "       'DIVERTED', 'CANCELLED'],\n",
       "      dtype='object')"
      ]
     },
     "execution_count": 108,
     "metadata": {},
     "output_type": "execute_result"
    }
   ],
   "source": [
    "df = pd.read_csv(\"data/flights.csv\")\n",
    "df.columns"
   ]
  },
  {
   "cell_type": "code",
   "execution_count": 109,
   "id": "dc88fc7b",
   "metadata": {},
   "outputs": [
    {
     "data": {
      "text/plain": [
       "'수요일'"
      ]
     },
     "execution_count": 109,
     "metadata": {},
     "output_type": "execute_result"
    }
   ],
   "source": [
    "# 일괄처리 함수 (정수->요일 문자열로 변환)\n",
    "import numpy as np\n",
    "def convert_weekday(value:int)->str|None:\n",
    "    '''\n",
    "    숫자 요일을 받아서 문자열 요일로 출력\n",
    "\n",
    "    value가 결측치\n",
    "    '''\n",
    "    if pd.isna(value):\n",
    "        return np.nan\n",
    "    return \"월화수목금토일\"[value-1]+\"요일\"\n",
    "convert_weekday(3)\n",
    "    "
   ]
  },
  {
   "cell_type": "code",
   "execution_count": null,
   "id": "cab2dfe3",
   "metadata": {},
   "outputs": [
    {
     "data": {
      "text/plain": [
       "125    목요일\n",
       "126    목요일\n",
       "127    목요일\n",
       "128    목요일\n",
       "129    목요일\n",
       "130    목요일\n",
       "131    목요일\n",
       "132    목요일\n",
       "133    목요일\n",
       "134    목요일\n",
       "135    목요일\n",
       "136    금요일\n",
       "137    금요일\n",
       "138    금요일\n",
       "139    금요일\n",
       "Name: WEEKDAY, dtype: object"
      ]
     },
     "execution_count": 116,
     "metadata": {},
     "output_type": "execute_result"
    }
   ],
   "source": [
    "df['WEEKDAY'].apply(convert_weekday)[125:140]"
   ]
  },
  {
   "cell_type": "markdown",
   "id": "aab11f2a",
   "metadata": {},
   "source": [
    "### 데이터 합치기 (Merge, Join, Concat)"
   ]
  },
  {
   "cell_type": "markdown",
   "id": "16d353c3",
   "metadata": {},
   "source": [
    "현실 데이터에서는 여러 데이터 소스를 **병합(merge)** 하거나 **연결(concatenate)** 하는 경우가 많음\n",
    ". Pandas는 SQL의 JOIN처럼 두 DataFrame을 키를 기준으로 병합하는 `merge` 메서드와, 단순히 위아래 또는 좌우로 연결하는 `concat` 함수를 제공."
   ]
  },
  {
   "cell_type": "markdown",
   "id": "99b26eb5",
   "metadata": {},
   "source": [
    "- **`pd.concat([DF1, DF2, ...], axis=0)`**: 행 방향으로 DataFrame들을 연결 (세로로 붙이기). `axis=1`이면 열 방향으로 붙임. 인덱스를 무시하려면 `ignore_index=True`.  \n",
    "- **`DF1.merge(DF2, how='inner', on='키컬럼')`**: 키 컬럼 기준으로 두 DataFrame을 병합. `how`는 'inner'(교집합), 'outer'(합집합), 'left', 'right' 조인을 지정. (left/right는 첫 번째 혹은 두 번째 프레임 기준) 제약조건 자유롭게 사용가능, 조인이랑의 차이 알아두기"
   ]
  },
  {
   "cell_type": "code",
   "execution_count": 50,
   "id": "15ca1ffa",
   "metadata": {},
   "outputs": [
    {
     "data": {
      "text/plain": [
       "(   Val\n",
       " 0    1\n",
       " 1    2,\n",
       "    Val\n",
       " 0    3\n",
       " 1    4)"
      ]
     },
     "execution_count": 50,
     "metadata": {},
     "output_type": "execute_result"
    }
   ],
   "source": [
    "df1 = pd.DataFrame({'Val': [1, 2]})\n",
    "df2 = pd.DataFrame({'Val': [3, 4]})\n",
    "df1,df2"
   ]
  },
  {
   "cell_type": "code",
   "execution_count": 51,
   "id": "2e7677da",
   "metadata": {},
   "outputs": [
    {
     "data": {
      "text/html": [
       "<div>\n",
       "<style scoped>\n",
       "    .dataframe tbody tr th:only-of-type {\n",
       "        vertical-align: middle;\n",
       "    }\n",
       "\n",
       "    .dataframe tbody tr th {\n",
       "        vertical-align: top;\n",
       "    }\n",
       "\n",
       "    .dataframe thead th {\n",
       "        text-align: right;\n",
       "    }\n",
       "</style>\n",
       "<table border=\"1\" class=\"dataframe\">\n",
       "  <thead>\n",
       "    <tr style=\"text-align: right;\">\n",
       "      <th></th>\n",
       "      <th>Val</th>\n",
       "    </tr>\n",
       "  </thead>\n",
       "  <tbody>\n",
       "    <tr>\n",
       "      <th>0</th>\n",
       "      <td>1</td>\n",
       "    </tr>\n",
       "    <tr>\n",
       "      <th>1</th>\n",
       "      <td>2</td>\n",
       "    </tr>\n",
       "    <tr>\n",
       "      <th>2</th>\n",
       "      <td>3</td>\n",
       "    </tr>\n",
       "    <tr>\n",
       "      <th>3</th>\n",
       "      <td>4</td>\n",
       "    </tr>\n",
       "  </tbody>\n",
       "</table>\n",
       "</div>"
      ],
      "text/plain": [
       "   Val\n",
       "0    1\n",
       "1    2\n",
       "2    3\n",
       "3    4"
      ]
     },
     "execution_count": 51,
     "metadata": {},
     "output_type": "execute_result"
    }
   ],
   "source": [
    "# Vertical concat \n",
    "pd.concat([df1, df2])\n",
    "pd.concat([df1, df2], ignore_index=True)\n"
   ]
  },
  {
   "cell_type": "code",
   "execution_count": 52,
   "id": "4b16c41a",
   "metadata": {},
   "outputs": [
    {
     "data": {
      "text/html": [
       "<div>\n",
       "<style scoped>\n",
       "    .dataframe tbody tr th:only-of-type {\n",
       "        vertical-align: middle;\n",
       "    }\n",
       "\n",
       "    .dataframe tbody tr th {\n",
       "        vertical-align: top;\n",
       "    }\n",
       "\n",
       "    .dataframe thead th {\n",
       "        text-align: right;\n",
       "    }\n",
       "</style>\n",
       "<table border=\"1\" class=\"dataframe\">\n",
       "  <thead>\n",
       "    <tr style=\"text-align: right;\">\n",
       "      <th></th>\n",
       "      <th>Val</th>\n",
       "      <th>Val</th>\n",
       "    </tr>\n",
       "  </thead>\n",
       "  <tbody>\n",
       "    <tr>\n",
       "      <th>0</th>\n",
       "      <td>1</td>\n",
       "      <td>3</td>\n",
       "    </tr>\n",
       "    <tr>\n",
       "      <th>1</th>\n",
       "      <td>2</td>\n",
       "      <td>4</td>\n",
       "    </tr>\n",
       "  </tbody>\n",
       "</table>\n",
       "</div>"
      ],
      "text/plain": [
       "   Val  Val\n",
       "0    1    3\n",
       "1    2    4"
      ]
     },
     "execution_count": 52,
     "metadata": {},
     "output_type": "execute_result"
    }
   ],
   "source": [
    "# Horizontal concat\n",
    "pd.concat([df1, df2], axis=1)"
   ]
  },
  {
   "cell_type": "markdown",
   "id": "f2fd74de",
   "metadata": {},
   "source": [
    "- 세로 연결 결과 인덱스가 0~3으로 재배열, 값이 위아래로 \n",
    "- 가로 연결 결과는 인덱스를 기준으로 두 DataFrame이 좌우로 합쳐져 두 개의 'Val' 컬럼 반환"
   ]
  },
  {
   "cell_type": "markdown",
   "id": "d2b25783",
   "metadata": {},
   "source": [
    "`merge` 사용"
   ]
  },
  {
   "cell_type": "code",
   "execution_count": 135,
   "id": "4db6b6a4",
   "metadata": {},
   "outputs": [
    {
     "name": "stdout",
     "output_type": "stream",
     "text": [
      "df1:\n",
      "    ID Name\n",
      "0   1    A\n",
      "1   2    B\n",
      "2   3    C\n",
      "\n",
      "df2:\n",
      "    ID Dept\n",
      "0   2    X\n",
      "1   3    Y\n",
      "2   4    Z\n",
      "\n",
      "Inner merge on ID:\n",
      "    ID Name Dept\n",
      "0   2    B    X\n",
      "1   3    C    Y\n",
      "\n",
      "Outer merge on ID:\n",
      "    ID Name Dept\n",
      "0   1    A  NaN\n",
      "1   2    B    X\n",
      "2   3    C    Y\n",
      "3   4  NaN    Z\n"
     ]
    }
   ],
   "source": [
    "df1 = pd.DataFrame({'ID': [1, 2, 3], 'Name': ['A', 'B', 'C']})\n",
    "df2 = pd.DataFrame({'ID': [2, 3, 4], 'Dept': ['X', 'Y', 'Z']})\n",
    "print(\"df1:\\n\", df1)\n",
    "print(\"\\ndf2:\\n\", df2)\n",
    "print(\"\\nInner merge on ID:\\n\", df1.merge(df2, on='ID', how='inner'))\n",
    "print(\"\\nOuter merge on ID:\\n\", df1.merge(df2, on='ID', how='outer'))"
   ]
  },
  {
   "cell_type": "markdown",
   "id": "c08c277f",
   "metadata": {},
   "source": [
    "- **Inner Join** 결과: df1과 df2에 모두 존재하는 ID(2,3)에 대해서만 병합되어 Name과 Dept가 모두 채워진 행 반환\n",
    "- **Outer Join** 결과: 어느 한쪽에만 있어도 모두 포함 (ID 1은 df2에 Dept 정보가 없어 NaN, ID 4는 df1에 Name이 없어 NaN으로 표시)."
   ]
  },
  {
   "cell_type": "markdown",
   "id": "9cc3f0b0",
   "metadata": {},
   "source": [
    "위와 같이 `merge`를 통해 다양한 join 연산을 수행 가능. (`on`으로 키 컬럼 지정, 또는 `left_on`, `right_on`으로 서로 다른 컬럼명도 사용 가능, 동일 컬럼명이 겹칠 때는 `suffixes`로 접미어 지정 가능)"
   ]
  },
  {
   "cell_type": "markdown",
   "id": "f3faaca0",
   "metadata": {},
   "source": [
    "---"
   ]
  },
  {
   "cell_type": "markdown",
   "id": "156a1db9",
   "metadata": {},
   "source": [
    "## Matplotlib 한글 처리 및 환경설정"
   ]
  },
  {
   "cell_type": "markdown",
   "id": "6ee3b267",
   "metadata": {},
   "source": [
    "Matplotlib를 사용할 때 **한글 폰트 문제**로 그래프의 한글 텍스트가 깨지는 현상이 발생함. 기본 폰트에는 한글 글꼴이 포함되어 있지 않기 때문.  **폰트를 한글이 지원되는 폰트로 변경**."
   ]
  },
  {
   "cell_type": "markdown",
   "id": "91459b2b",
   "metadata": {},
   "source": [
    "한글 폰트 설정 방법은 두 가지가 있습니다:\n",
    "1. **Matplotlib 설정 파일**을 수정하여 전역 설정을 바꾸는 방법 (한번 설정하면 계속 유효).  \n",
    "2. **코드 상에서 폰트 설정**을 변경하는 방법 (각 세션마다 설정 필요)."
   ]
  },
  {
   "cell_type": "markdown",
   "id": "c976a2a3",
   "metadata": {},
   "source": [
    "여기서는 코드에서 설정을 변경하는 방법을 사용해보겠습니다. Matplotlib의 `rcParams`를 통해 폰트를 변경 가능. Windows 사용자라면 \"Malgun Gothic\", Mac 사용자는 \"AppleGothic\" 등의 한글 폰트 이름을 지정. 또한 한글 표시를 위해 **마이너스 기호 깨짐 방지 설정**도 함께 함."
   ]
  },
  {
   "cell_type": "code",
   "execution_count": 55,
   "id": "7ee74b00",
   "metadata": {},
   "outputs": [],
   "source": [
    "\n",
    "import matplotlib.pyplot as plt\n",
    "plt.rcParams['font.family'] = 'Malgun Gothic'    # or 'AppleGothic' on macOS, etc.\n",
    "plt.rcParams['axes.unicode_minus'] = False       # 한글 폰트 사용 시 마이너스 '-' 깨짐 방지\n"
   ]
  },
  {
   "cell_type": "markdown",
   "id": "a8f60562",
   "metadata": {},
   "source": [
    "위 코드를 실행한 이후에는 그래프 제목, 축 레이블 등에 한글을 넣어도 제대로 표시됨. (주의: 해당 폰트가 시스템에 설치되어 있어야 함 !)"
   ]
  },
  {
   "cell_type": "markdown",
   "id": "8a98a312",
   "metadata": {},
   "source": [
    "> **참고:** 설정이 제대로 되었는지 `plt.rcParams[\"font.family\"]`를 출력해 확인 가능. 또한 Matplotlib 3.4버전부터는 `matplotlib.font_manager`의 `findfont`가 자동으로 한글 폰트를 찾아주는 기능이 개선되어, `NanumGothic` 폰트 등이 설치된 경우 보다 쉽게 처리되는 경우도 있다하더이다."
   ]
  },
  {
   "cell_type": "markdown",
   "id": "8c8f4ad6",
   "metadata": {},
   "source": [
    "## Matplotlib 개요"
   ]
  },
  {
   "cell_type": "markdown",
   "id": "66e5c9d6",
   "metadata": {},
   "source": [
    "Matplotlib는 **데이터 시각화**를 위한 가장 표준적인 파이썬 라이브러리입니다. 2D 그래프를 그리는 기능을 제공하며, 확장 패키지를 통해 3D 그래프도 지원. Pandas나 Seaborn 등의 고수준 시각화 라이브러리도 내부적으로 Matplotlib를 사용하여 그래프를 생성."
   ]
  },
  {
   "cell_type": "markdown",
   "id": "20be98b0",
   "metadata": {},
   "source": [
    "Matplotlib의 가장 기본 객체는 **Figure**와 **Axes**. Figure는 그래프가 그려질 전체 도화지에 해당하고, Axes는 그 도화지(Figure) 안에 실제 그래프가 그려지는 영역. 하나의 Figure에 여러 Axes(서브 플롯)을 배치하여 여러 개의 그래프를 한꺼번에 그릴 수 있음."
   ]
  },
  {
   "cell_type": "markdown",
   "id": "7c00a47c",
   "metadata": {},
   "source": [
    "- **Figure**: 전체 그래프 캔버스 (예: 한 개의 창 또는 그림 파일 전체). `plt.figure()`로 생성.  \n",
    "- **Axes**: 개별 플롯(좌표축)의 영역. 하나의 Figure에 여러 Axes를 넣을 수 있음. `fig.add_subplot()` 또는 `plt.subplots()`로 생성.  \n",
    "- **Axis (x축, y축)**: 각 Axes의 가로축, 세로축으로 눈금(ticks)과 레이블(label)을 가짐.  \n",
    "- **Title**: Axes 또는 Figure의 제목.  \n",
    "- **Legend (범례)**: 하나의 Axes에 여러 개의 데이터 시리즈(그래프 선 등)가 있는 경우 각각을 설명하는 표식."
   ]
  },
  {
   "cell_type": "markdown",
   "id": "82054cdb",
   "metadata": {},
   "source": [
    "Matplotlib에서는 **상태 유지 인터페이스**(pyplot)와 **객체 지향 인터페이스**를 모두 사용 가능. 간단하게는 `plt.plot()` 등을 사용하여 바로 그릴 수 있지만, 복잡한 플롯은 Figure/Axes 객체를 직접 생성하고 다루는 방법이 유리."
   ]
  },
  {
   "cell_type": "markdown",
   "id": "50f85abd",
   "metadata": {},
   "source": [
    "# 그래프를 그리는 두가지 방식\n",
    "- pyplot 모듈의 함수들을 사용.\n",
    "- Figure와 Axes 객체의 메소드들을 사용."
   ]
  },
  {
   "cell_type": "code",
   "execution_count": 53,
   "id": "d0f83f08",
   "metadata": {},
   "outputs": [],
   "source": [
    "# 그래프에 사용할 데이터\n",
    "x = [1, 2, 3, 4, 5]\n",
    "y = [10, 5, 30, 30, 50]"
   ]
  },
  {
   "cell_type": "code",
   "execution_count": null,
   "id": "a9f37b62",
   "metadata": {},
   "outputs": [
    {
     "data": {
      "image/png": "[encoded data removed]",
      "text/plain": [
       "<Figure size 640x480 with 1 Axes>"
      ]
     },
     "metadata": {},
     "output_type": "display_data"
    }
   ],
   "source": [
    "# 그래프 그리기 (선그래프)\n",
    "plt.plot(x, y)\n",
    "### 그래프에 여러 설정\n",
    "plt.title(\"그래프 제목\", fontsize=\"25\")\n",
    "plt.xlabel(\"X축 Label\")\n",
    "plt.ylabel(\"Y축 Label\")\n",
    "plt.grid(True, linestyle=\":\")\n",
    "\n",
    "# 파일로 저장\n",
    "plt.savefig(\"line.png\")\n",
    "# 그래프를 화면에 출력\n",
    "plt.show()"
   ]
  },
  {
   "cell_type": "code",
   "execution_count": 57,
   "id": "62e3d8ab",
   "metadata": {},
   "outputs": [
    {
     "data": {
      "image/png": "[encoded data removed]",
      "text/plain": [
       "<Figure size 1000x700 with 3 Axes>"
      ]
     },
     "metadata": {},
     "output_type": "display_data"
    }
   ],
   "source": [
    "#2. 하나의 figure에 여러 그래프 그리기\n",
    "    #- plt.subplot(row,columns,num)\n",
    "\n",
    "# 전체 figure의 크기 변경\n",
    "plt.figure(figsize=(10, 7))  # (좌우너비, 상하높이) 단위: inch\n",
    "\n",
    "# 좌->우, 상->하  순번: 1부터 시작\n",
    "plt.subplot(2, 2, 1)   # (2행, 2열의 행렬에서 첫번째 위치)       |1|2|\n",
    "# 그래프 그리고 설정                                            |3|4|\n",
    "plt.plot(x, y)\n",
    "plt.scatter(x, x)   \n",
    "plt.title(\"1번 그래프\")\n",
    "\n",
    "plt.subplot(1, 2, 2) # (1행, 2열, 두번째 위치)\n",
    "plt.plot(y, x)\n",
    "plt.title(\"2번 그래프\")\n",
    "\n",
    "plt.subplot(2, 2, 3) # (2행, 2열, 세번째 위치)\n",
    "plt.scatter(x, y)\n",
    "plt.title(\"3번 그래프\")\n",
    "\n",
    "plt.tight_layout()  # 공간 겹칠 떄 사용.\n",
    "plt.show()"
   ]
  },
  {
   "cell_type": "code",
   "execution_count": 58,
   "id": "04002850",
   "metadata": {},
   "outputs": [
    {
     "data": {
      "image/png": "[encoded data removed]",
      "text/plain": [
       "<Figure size 640x480 with 1 Axes>"
      ]
     },
     "metadata": {},
     "output_type": "display_data"
    }
   ],
   "source": [
    "# 3. 하나의 axes에 여러 그래프를 그리기.\n",
    "# 최종 출력 전에 그래프 그리는 함수들을 호출 하면 하나의 axes에 모두 그린다.\n",
    "plt.plot(x, y, label=\"1번 선\") # label: 그래프의 이름\n",
    "plt.plot(y, x, label=\"2번 선\")\n",
    "plt.scatter(y, y, label=\"1번 점\", color=\"green\")\n",
    "plt.legend() # 각 그래프의 label을 이용해서 범례를 출력 label.\n",
    "\n",
    "plt.show()"
   ]
  },
  {
   "cell_type": "markdown",
   "id": "2b351702",
   "metadata": {},
   "source": [
    "## Figure 와 Axes 객체를 이용해 그리기 (객체지향 방식)\n",
    "\n",
    "- AxesSubplot 객체(Axes를 표현하는 객체)의 메소드들을 이용해 그래프를 그린다.\n",
    "- axes 생성 방법\n",
    "    - plt.gca(): AxesSubplot\n",
    "        - plt로 그래프를 그릴때 대상 axes 객체를 반환한다.\n",
    "        - 하나의 figure에 하나의 Axes 만 사용할 경우 사용.\n",
    "    - 하나의 figure에 여러개의 Axes들을 사용할 경우\n",
    "        - figure.add_subplot() 메소드 이용\n",
    "            - figure를 먼저 생성후 axes 들을 추가\n",
    "        - pyplot.subplots() 함수를 이용\n",
    "            - figure와 axes배열을 동시에 생성"
   ]
  },
  {
   "cell_type": "code",
   "execution_count": 59,
   "id": "f2a0ffa4",
   "metadata": {},
   "outputs": [
    {
     "data": {
      "image/png": "[encoded data removed]",
      "text/plain": [
       "<Figure size 640x480 with 1 Axes>"
      ]
     },
     "metadata": {},
     "output_type": "display_data"
    }
   ],
   "source": [
    "axes = plt.gca() # 그래프 그릴 Axes 객체를 생성.\n",
    "\n",
    "# 그래프 그리기, 설정 메소드 -> Axes\n",
    "axes.plot(x, y)\n",
    "axes.set_title(\"선그래프\")\n",
    "axes.set_xlabel(\"X축값\")\n",
    "axes.set_ylabel(\"Y축값\")\n",
    "axes.grid(linestyle=\":\")\n",
    "\n",
    "plt.show()"
   ]
  },
  {
   "cell_type": "markdown",
   "id": "64c27130",
   "metadata": {},
   "source": [
    "## Matplotlib 주요 그래프 그리기"
   ]
  },
  {
   "cell_type": "markdown",
   "id": "d9b0aeed",
   "metadata": {},
   "source": [
    "Matplotlib를 이용하여 그릴 수 있는 **대표적인 그래프 종류**로 선 그래프, 산점도, 막대그래프, 파이차트, 히스토그램, 박스플롯 등이 있음."
   ]
  },
  {
   "cell_type": "markdown",
   "id": "9fccfc93",
   "metadata": {},
   "source": [
    "### 선 그래프 (Line Plot)"
   ]
  },
  {
   "cell_type": "markdown",
   "id": "80ad91ed",
   "metadata": {},
   "source": [
    "선 그래프는 **시간 흐름에 따른 변화**나 함수의 추이를 나타낼 때 주로 사용. `plt.plot(x, y)` 함수를 사용. x 좌표와 y 좌표 배열을 인수로 전달하면 해당 점들을 선으로 연결한 그래프"
   ]
  },
  {
   "cell_type": "code",
   "execution_count": 151,
   "id": "34b37f86",
   "metadata": {},
   "outputs": [],
   "source": [
    "# 그래프에 사용할 데이터\n",
    "x = [1, 2, 3, 4, 5]\n",
    "y = [10, 5, 30, 30, 50]"
   ]
  },
  {
   "cell_type": "code",
   "execution_count": 154,
   "id": "cd45ca96",
   "metadata": {},
   "outputs": [
    {
     "data": {
      "image/png": "[encoded data removed]",
      "text/plain": [
       "<Figure size 640x480 with 1 Axes>"
      ]
     },
     "metadata": {},
     "output_type": "display_data"
    }
   ],
   "source": [
    "plt.plot(x, y, color='orange', marker='')  # x, y 값으로 선 그래프\n",
    "plt.xlabel(\"x\")         # x축 레이블\n",
    "plt.ylabel(\"y\")         # y축 레이블\n",
    "plt.title(\"Line plot\")  # 그래프 제목\n",
    "plt.show()"
   ]
  },
  {
   "cell_type": "markdown",
   "id": "ec929dd8",
   "metadata": {},
   "source": [
    "### 산점도 (Scatter Plot)"
   ]
  },
  {
   "cell_type": "markdown",
   "id": "c68f23da",
   "metadata": {},
   "source": [
    "산점도는 **두 변수 사이의 관계**나 데이터 분포의 군집을 볼 때 사용. `plt.scatter(x, y)` 함수로 x-y 좌표상의 점들을 표시. 옵션으로 점의 색깔(`c` 또는 `color`), 모양(`marker`), 투명도(`alpha`) 등을 지정할 수 있음."
   ]
  },
  {
   "cell_type": "code",
   "execution_count": 61,
   "id": "3dc9257c",
   "metadata": {},
   "outputs": [
    {
     "data": {
      "text/plain": [
       "(53940, 10)"
      ]
     },
     "execution_count": 61,
     "metadata": {},
     "output_type": "execute_result"
    }
   ],
   "source": [
    "df = pd.read_csv('data/diamonds.csv')\n",
    "df.shape"
   ]
  },
  {
   "cell_type": "code",
   "execution_count": 64,
   "id": "63703ef7",
   "metadata": {},
   "outputs": [
    {
     "data": {
      "image/png": "[encoded data removed]",
      "text/plain": [
       "<Figure size 640x480 with 1 Axes>"
      ]
     },
     "metadata": {},
     "output_type": "display_data"
    }
   ],
   "source": [
    "plt.scatter(df['carat'],  # x축에 들어갈 값\n",
    "             df['price'], # y축에 들어갈 값. x, y의 같은 index 위치에 점을 찍는다.\n",
    "             alpha=0.01    # 투명도. (투명)0 ~ 1(농도100%)\n",
    "           )\n",
    "plt.xlabel(\"캐럿\")\n",
    "plt.ylabel(\"가격\")\n",
    "plt.show()"
   ]
  },
  {
   "cell_type": "markdown",
   "id": "4d9c565e",
   "metadata": {},
   "source": [
    "> - ### 상관계수 \n",
    ">     - 두 변수간의 상관관계(비례/반비례)를 정량적(수치적)으로 계산한 값.\n",
    ">         - -1 ~ 1 사이의 값이 나온다. \n",
    ">         - 양의 상관관계: 0 ~ 1 (비례 관계) \n",
    ">         - 음의 상관관계: -1 ~ 0 (반비례 관계)\n",
    ">         - 절대값 기준 1로 갈수록 두 변수의 상관관계가 강하고 0으로 갈수록 약하다.\n",
    ">             - 1 ~ 0.7: 아주 강한 상관관계\n",
    ">             - 0.7 ~ 0.3 : 강한 상관관계\n",
    ">             - 0.3 ~ 0.1 : 약한 상관관계\n",
    ">             - 0.1 ~ 0 : 관계없다."
   ]
  },
  {
   "cell_type": "code",
   "execution_count": null,
   "id": "256e3713",
   "metadata": {},
   "outputs": [
    {
     "data": {
      "text/html": [
       "<div>\n",
       "<style scoped>\n",
       "    .dataframe tbody tr th:only-of-type {\n",
       "        vertical-align: middle;\n",
       "    }\n",
       "\n",
       "    .dataframe tbody tr th {\n",
       "        vertical-align: top;\n",
       "    }\n",
       "\n",
       "    .dataframe thead th {\n",
       "        text-align: right;\n",
       "    }\n",
       "</style>\n",
       "<table border=\"1\" class=\"dataframe\">\n",
       "  <thead>\n",
       "    <tr style=\"text-align: right;\">\n",
       "      <th></th>\n",
       "      <th>price</th>\n",
       "      <th>carat</th>\n",
       "    </tr>\n",
       "  </thead>\n",
       "  <tbody>\n",
       "    <tr>\n",
       "      <th>price</th>\n",
       "      <td>1.000000</td>\n",
       "      <td>0.921591</td>\n",
       "    </tr>\n",
       "    <tr>\n",
       "      <th>carat</th>\n",
       "      <td>0.921591</td>\n",
       "      <td>1.000000</td>\n",
       "    </tr>\n",
       "  </tbody>\n",
       "</table>\n",
       "</div>"
      ],
      "text/plain": [
       "          price     carat\n",
       "price  1.000000  0.921591\n",
       "carat  0.921591  1.000000"
      ]
     },
     "execution_count": 165,
     "metadata": {},
     "output_type": "execute_result"
    }
   ],
   "source": [
    "df[['price', 'carat']].corr() "
   ]
  },
  {
   "cell_type": "markdown",
   "id": "d24c7e1b",
   "metadata": {},
   "source": [
    "### 막대그래프 (Bar Plot)"
   ]
  },
  {
   "cell_type": "markdown",
   "id": "30119152",
   "metadata": {},
   "source": [
    "막대그래프는 **카테고리별 값의 크기 비교**에 많이 사용. `plt.bar(x, height)` 함수를 사용, `x`는 카테고리 (보통 문자열 목록)이고 `height`는 해당 값 리스트. `plt.barh`를 쓰면 가로 막대그래프도 그릴 수 있음."
   ]
  },
  {
   "cell_type": "code",
   "execution_count": null,
   "id": "e26e3354",
   "metadata": {},
   "outputs": [
    {
     "data": {
      "image/png": "[encoded data removed]",
      "text/plain": [
       "<Figure size 640x480 with 1 Axes>"
      ]
     },
     "metadata": {},
     "output_type": "display_data"
    }
   ],
   "source": [
    "categories = ['A', 'B', 'C']\n",
    "values = [5, 8, 3]\n",
    "plt.bar(categories, values, color='skyblue')\n",
    "plt.title(\"Category Values\")\n",
    "plt.xlabel(\"Category\")\n",
    "plt.ylabel(\"Value\")\n",
    "plt.show()"
   ]
  },
  {
   "cell_type": "markdown",
   "id": "2ef8455f",
   "metadata": {},
   "source": [
    "### 파이 차트 (Pie Chart)"
   ]
  },
  {
   "cell_type": "markdown",
   "id": "17ee8b40",
   "metadata": {},
   "source": [
    "파이 차트는 **전체 대비 부분의 비율**을 부채꼴 형태. `plt.pie(x, labels=..., autopct=...)` 함수로 그릴 수 있으며, `x`는 각 조각의 값 (비율로 자동 변환)입니다. `autopct` 인자로 비율 표시 형식을 지정할 수 있음 (예: '%1.1f%%'는 소수점1자리 퍼센트)."
   ]
  },
  {
   "cell_type": "code",
   "execution_count": 167,
   "id": "7727c4cc",
   "metadata": {},
   "outputs": [
    {
     "data": {
      "image/png": "[encoded data removed]",
      "text/plain": [
       "<Figure size 640x480 with 1 Axes>"
      ]
     },
     "metadata": {},
     "output_type": "display_data"
    }
   ],
   "source": [
    "values = [50, 30, 20]\n",
    "labels = ['B', 'A', 'C']\n",
    "plt.pie(values, labels=labels, autopct='%1.1f%%', colors=['green','red','blue'],explode=[0.1, 0.1, 0])\n",
    "plt.title(\"Category Proportion\")\n",
    "plt.show()"
   ]
  },
  {
   "cell_type": "markdown",
   "id": "9318a68e",
   "metadata": {},
   "source": [
    "예제에서는 전체의 50%, 30%, 20%를 차지하는 3개의 범주를 파이차트 포현. 각 조각에는 비율이 표시되어 있으며, `explode` 파라미터를 사용하여 특정 조각을 돌출시킬 수도 있음."
   ]
  },
  {
   "cell_type": "markdown",
   "id": "ec404e5a",
   "metadata": {},
   "source": [
    "### 히스토그램 (Histogram)"
   ]
  },
  {
   "cell_type": "markdown",
   "id": "f0c465fa",
   "metadata": {},
   "source": [
    "히스토그램은 **데이터 분포**를 구간별 빈도. 연속형 데이터의 분포 형태(치우침, 균등성 등)를 파악하는 데 유용. `plt.hist(data, bins)`로 사용, `bins`는 구간 개수 또는 경계값 리스트."
   ]
  },
  {
   "cell_type": "code",
   "execution_count": 168,
   "id": "bae5e3ff",
   "metadata": {},
   "outputs": [
    {
     "data": {
      "image/png": "[encoded data removed]",
      "text/plain": [
       "<Figure size 640x480 with 1 Axes>"
      ]
     },
     "metadata": {},
     "output_type": "display_data"
    }
   ],
   "source": [
    "\n",
    "data = np.random.randn(1000)  # 평균0, 표준편차1인 정규분포 난수 1000개\n",
    "plt.hist(data, bins=30, color='purple', edgecolor='black')\n",
    "plt.title(\"Histogram of Data\")\n",
    "plt.xlabel(\"Value\")\n",
    "plt.ylabel(\"Frequency\")\n",
    "plt.show()\n"
   ]
  },
  {
   "cell_type": "markdown",
   "id": "1945d3fc",
   "metadata": {},
   "source": [
    "위 히스토그램에서 데이터가 평균 0을 중심으로 좌우 대칭적으로 분포하고 대부분 -2~2 사이에 몰려 있음. `edgecolor='black'`으로 막대 경계선을 그려 구분함. bins 개수를 늘리면 더 세밀한 분포를, 줄이면 더 거친 분포를 보여주므로 적절한 값을 선택해야 함."
   ]
  },
  {
   "cell_type": "markdown",
   "id": "ed1ac58a",
   "metadata": {},
   "source": [
    "### 박스플롯 (Boxplot)"
   ]
  },
  {
   "cell_type": "markdown",
   "id": "8997396e",
   "metadata": {},
   "source": [
    "박스플롯은 **데이터 분포의 요약 통계**(중앙값, 사분위 범위, 이상치)를 그림으로 나타냄. `plt.boxplot(data_list)` 형태로 사용하며, 여러 데이터 리스트를 전달하면 각각의 분포를 나란히 비교할 수 있음."
   ]
  },
  {
   "cell_type": "code",
   "execution_count": 170,
   "id": "aa467b05",
   "metadata": {},
   "outputs": [
    {
     "name": "stderr",
     "output_type": "stream",
     "text": [
      "C:\\Users\\Playdata\\AppData\\Local\\Temp\\ipykernel_11748\\3233010505.py:3: MatplotlibDeprecationWarning: The 'labels' parameter of boxplot() has been renamed 'tick_labels' since Matplotlib 3.9; support for the old name will be dropped in 3.11.\n",
      "  plt.boxplot([data1, data2], labels=['Data1', 'Data2'])\n"
     ]
    },
    {
     "data": {
      "image/png": "[encoded data removed]",
      "text/plain": [
       "<Figure size 640x480 with 1 Axes>"
      ]
     },
     "metadata": {},
     "output_type": "display_data"
    }
   ],
   "source": [
    "data1 = np.random.normal(0, 1, size=100)   # 평균0, 표준편차1\n",
    "data2 = np.random.normal(2, 1.5, size=100) # 평균2, 표준편차1.5\n",
    "plt.boxplot([data1, data2], labels=['Data1', 'Data2'])\n",
    "plt.title(\"Boxplot Example\")\n",
    "plt.ylabel(\"Value\")\n",
    "plt.show()"
   ]
  },
  {
   "cell_type": "markdown",
   "id": "756b1182",
   "metadata": {},
   "source": [
    "박스플롯에서 **상자(box)**는 1사분위수(Q1)와 3사분위수(Q3)를 나타내고, 상자 안의 가로선은 중앙값(median). 상자 위아래의 수직선(whisker)은 Q1-1.5IQR과 Q3+1.5IQR 범위(즉 통상적인 데이터 범위)를 나타내고, 범위를 벗어난 점들은 **이상치(outlier)**로 표시됨. 위 예시에서 Data2 분포는 Data1보다 중앙값이 높고 분산이 더 큰 것을 알 수 있음."
   ]
  },
  {
   "cell_type": "markdown",
   "id": "b5adecc4",
   "metadata": {},
   "source": [
    "---"
   ]
  },
  {
   "cell_type": "markdown",
   "id": "0a123b77",
   "metadata": {},
   "source": [
    "## Pandas 시각화"
   ]
  },
  {
   "cell_type": "markdown",
   "id": "48431b06",
   "metadata": {},
   "source": [
    "Pandas는 Series와 DataFrame 객체에 `.plot()` 메서드를 제공하여 **Matplotlib 기반의 시각화**를 쉽게 할 수 있도록 함. 이는 데이터 분석 단계에서 빠르게 시각화를 확인하는 데 유용함. `Series.plot`이나 `DataFrame.plot`을 호출하면 내부적으로 Matplotlib을 사용하여 그래프를 그리고, 추가적인 꾸미기(제목, 축라벨 등)는 Matplotlib 함수를 함께 호출하여 적용."
   ]
  },
  {
   "cell_type": "markdown",
   "id": "eb270b6d",
   "metadata": {},
   "source": [
    "`DataFrame.plot(kind='...')` 또는 `Series.plot(kind='...')`에서 `kind` 옵션으로 그래프 종류를 지정할 수 있음:  \n",
    "- `'line'` (기본값) – 선그래프  \n",
    "- `'bar'` / `'barh'` – 세로 / 가로 막대그래프  \n",
    "- `'hist'` – 히스토그램  \n",
    "- `'box'` – 박스플롯  \n",
    "- `'kde'` – 커널밀도추정 그래프 (연속분포 밀도)  \n",
    "- `'pie'` – 파이차트  \n",
    "- `'scatter'` – 산점도 (`DataFrame.plot.scatter(x='col1', y='col2')` 같이 호출)"
   ]
  }
 ],
 "metadata": {
  "kernelspec": {
   "display_name": "ml",
   "language": "python",
   "name": "python3"
  },
  "language_info": {
   "codemirror_mode": {
    "name": "ipython",
    "version": 3
   },
   "file_extension": ".py",
   "mimetype": "text/x-python",
   "name": "python",
   "nbconvert_exporter": "python",
   "pygments_lexer": "ipython3",
   "version": "3.12.10"
  }
 },
 "nbformat": 4,
 "nbformat_minor": 5
}
