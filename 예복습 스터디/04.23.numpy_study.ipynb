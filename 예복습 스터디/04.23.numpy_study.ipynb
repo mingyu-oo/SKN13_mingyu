{
 "cells": [
  {
   "cell_type": "markdown",
   "id": "2fab870c",
   "metadata": {},
   "source": [
    "## ndarray 배열 파일에 저장 및 불러오기\n",
    "#### 바이너리 파일로 저장/불러오기\n",
    "\n",
    "##### 한개 파일에 한개 배열 저장\n",
    "\n",
    "-   **np.save(\"파일경로\", 배열)**\n",
    "    -   배열을 raw 바이너리 형식으로 저장한다.\n",
    "    -   파일명에 확장자로 npy를 붙인다.\n",
    "\n",
    "##### 한개 파일에 여러개 배열 저장\n",
    "\n",
    "-   **np.savez(\"파일경로\", 이름=배열, 이름=배열, ...)**\n",
    "    -   여러개의 배열을 한개 파일에 저장\n",
    "    -   파일명에 확장자로 npz가 붙는다.\n",
    "    -   내부적으로 압축해서 저장한다.\n",
    "\n",
    "##### 불러오기\n",
    "\n",
    "-   **np.load(\"파일경로\")**\n",
    "    -   파일에 저장된 배열을 불러온다.\n",
    "    -   npz의 경우 저장된 배열들이 묶어서 반환 된다. 저장 할 때 배열에 지정한 이름을 이용해 조회"
   ]
  },
  {
   "cell_type": "markdown",
   "id": "ce578a4b",
   "metadata": {},
   "source": [
    "#### 텍스트 파일로 저장하고 불러오기\n",
    "\n",
    "-   **np.savetxt(\"파일경로\", 배열 [, delimiter='공백'])**\n",
    "    -   텍스트로(csv) 저장.\n",
    "    -   **2차원 배열을 저장하면** 각 원소는 공백을 기준으로 나뉘며 delimiter 속성으로 구분자를 지정할 수 있다. 한줄에 한행씩 저장한다.\n",
    "    -   **1차원 배열을 저장하면** 한 줄에 한개의 원소씩 저장한다. delimiter는 설정은 2차원 배열에만 사용한다.\n",
    "    -   **1차원과 2차원 배열만 저장 가능하다.** (3차원 이상은 저장이 안된다.)\n",
    "-   **np.loadtxt(\"파일경로\" [,dtype=float, delimiter=공백)**\n",
    "    -   불러오기. (저장할 때 delimiter와 동일한 delimiter를 설정해야 제대로 읽을 온다.)\n"
   ]
  },
  {
   "cell_type": "code",
   "execution_count": 1,
   "id": "4e7a0608",
   "metadata": {},
   "outputs": [
    {
     "name": "stdout",
     "output_type": "stream",
     "text": [
      "[[[-5.89116922e-01  1.68543054e+00  1.34078312e+00 -3.66332089e-01\n",
      "    5.26507855e-02]\n",
      "  [ 4.10269218e-01 -1.24003917e-01  2.34555314e-01  1.03454370e-01\n",
      "   -2.64067502e-01]\n",
      "  [-8.30191869e-01  1.67491818e-03 -5.36096943e-01 -7.87602317e-01\n",
      "   -6.72396148e-01]\n",
      "  [ 1.46926849e+00 -2.56211341e-01 -1.15197098e+00 -4.25084411e-02\n",
      "    5.22753480e-01]]\n",
      "\n",
      " [[ 2.48759226e-02  9.21007433e-01 -2.24502737e-01  1.12726149e+00\n",
      "   -2.49352743e-01]\n",
      "  [-1.43784886e-01 -9.43838318e-01 -8.61191080e-02 -1.30771508e+00\n",
      "    9.02183116e-01]\n",
      "  [ 5.64089497e-01 -1.72270642e+00  1.03633929e+00 -2.23647923e+00\n",
      "   -4.49865617e-01]\n",
      "  [ 5.64621290e-01 -1.59622964e+00 -8.80016163e-02  1.31074039e-02\n",
      "   -2.05560546e-01]]\n",
      "\n",
      " [[-1.38850922e+00 -5.42762049e-01  1.06515404e+00  1.44599230e+00\n",
      "    4.15129329e-01]\n",
      "  [-3.61849838e-01 -5.10910382e-01 -5.03896611e-02  2.11385475e-02\n",
      "    5.73240687e-01]\n",
      "  [ 8.15950955e-01  1.68872966e+00 -1.33885216e-01  1.78434748e+00\n",
      "   -1.11685460e+00]\n",
      "  [-8.92978390e-01  3.29026367e+00 -4.64678746e-01 -1.16837339e+00\n",
      "    1.44811249e+00]]]\n"
     ]
    }
   ],
   "source": [
    "import numpy as np\n",
    "\n",
    "a = np.random.normal(size=(3,4,5))\n",
    "print(a)"
   ]
  },
  {
   "cell_type": "code",
   "execution_count": 2,
   "id": "9d4f7516",
   "metadata": {},
   "outputs": [],
   "source": [
    "# 한개 파일에 한개 배열 저장.\n",
    "np.save(\"arr\",a)"
   ]
  },
  {
   "cell_type": "code",
   "execution_count": 3,
   "id": "ef6c78a6",
   "metadata": {},
   "outputs": [
    {
     "name": "stdout",
     "output_type": "stream",
     "text": [
      "(3, 4, 5)\n"
     ]
    },
    {
     "data": {
      "text/plain": [
       "array([[[-5.89116922e-01,  1.68543054e+00,  1.34078312e+00,\n",
       "         -3.66332089e-01,  5.26507855e-02],\n",
       "        [ 4.10269218e-01, -1.24003917e-01,  2.34555314e-01,\n",
       "          1.03454370e-01, -2.64067502e-01],\n",
       "        [-8.30191869e-01,  1.67491818e-03, -5.36096943e-01,\n",
       "         -7.87602317e-01, -6.72396148e-01],\n",
       "        [ 1.46926849e+00, -2.56211341e-01, -1.15197098e+00,\n",
       "         -4.25084411e-02,  5.22753480e-01]],\n",
       "\n",
       "       [[ 2.48759226e-02,  9.21007433e-01, -2.24502737e-01,\n",
       "          1.12726149e+00, -2.49352743e-01],\n",
       "        [-1.43784886e-01, -9.43838318e-01, -8.61191080e-02,\n",
       "         -1.30771508e+00,  9.02183116e-01],\n",
       "        [ 5.64089497e-01, -1.72270642e+00,  1.03633929e+00,\n",
       "         -2.23647923e+00, -4.49865617e-01],\n",
       "        [ 5.64621290e-01, -1.59622964e+00, -8.80016163e-02,\n",
       "          1.31074039e-02, -2.05560546e-01]],\n",
       "\n",
       "       [[-1.38850922e+00, -5.42762049e-01,  1.06515404e+00,\n",
       "          1.44599230e+00,  4.15129329e-01],\n",
       "        [-3.61849838e-01, -5.10910382e-01, -5.03896611e-02,\n",
       "          2.11385475e-02,  5.73240687e-01],\n",
       "        [ 8.15950955e-01,  1.68872966e+00, -1.33885216e-01,\n",
       "          1.78434748e+00, -1.11685460e+00],\n",
       "        [-8.92978390e-01,  3.29026367e+00, -4.64678746e-01,\n",
       "         -1.16837339e+00,  1.44811249e+00]]])"
      ]
     },
     "execution_count": 3,
     "metadata": {},
     "output_type": "execute_result"
    }
   ],
   "source": [
    "# 불러오기\n",
    "load_a = np.load(\"arr.npy\")\n",
    "print(load_a.shape)\n",
    "load_a"
   ]
  },
  {
   "cell_type": "code",
   "execution_count": 4,
   "id": "95e4fb3f",
   "metadata": {},
   "outputs": [
    {
     "data": {
      "text/plain": [
       "((3, 4, 5), (99,), (3, 2))"
      ]
     },
     "execution_count": 4,
     "metadata": {},
     "output_type": "execute_result"
    }
   ],
   "source": [
    "b = np.arange(1,100)\n",
    "c = np.ones(shape=(3,2))\n",
    "a.shape, b.shape, c.shape"
   ]
  },
  {
   "cell_type": "code",
   "execution_count": 5,
   "id": "12a49791",
   "metadata": {},
   "outputs": [],
   "source": [
    "# 한개의 파일에 여러개 배열 저장.\n",
    "np.savez(\"arr_list\", one=a, two=b, three=c)"
   ]
  },
  {
   "cell_type": "code",
   "execution_count": null,
   "id": "2ec1c7d3",
   "metadata": {},
   "outputs": [
    {
     "data": {
      "text/plain": [
       "['one', 'two', 'three']"
      ]
     },
     "execution_count": 6,
     "metadata": {},
     "output_type": "execute_result"
    }
   ],
   "source": [
    "# 불러오기\n",
    "load_arr_list = np.load(\"arr_list.npz\")\n",
    "# 저장할 때 지정한 배열의 이름들 조회\n",
    "load_arr_list.files"
   ]
  },
  {
   "cell_type": "code",
   "execution_count": null,
   "id": "de9ec827",
   "metadata": {},
   "outputs": [],
   "source": [
    "#indexing\n",
    "load_a2 = load_arr_list['one']\n",
    "load_b = load_arr_list['two']\n",
    "load_c = load_arr_list['three']"
   ]
  },
  {
   "cell_type": "code",
   "execution_count": 8,
   "id": "5d8bf32f",
   "metadata": {},
   "outputs": [
    {
     "data": {
      "text/plain": [
       "((3, 4, 5), (99,), (3, 2))"
      ]
     },
     "execution_count": 8,
     "metadata": {},
     "output_type": "execute_result"
    }
   ],
   "source": [
    "load_a2.shape, load_b.shape, load_c.shape"
   ]
  },
  {
   "cell_type": "code",
   "execution_count": null,
   "id": "36eceae5",
   "metadata": {},
   "outputs": [
    {
     "data": {
      "text/plain": [
       "array([[1., 1.],\n",
       "       [1., 1.],\n",
       "       [1., 1.]])"
      ]
     },
     "execution_count": 11,
     "metadata": {},
     "output_type": "execute_result"
    }
   ],
   "source": [
    "load_b\n",
    "load_c"
   ]
  },
  {
   "cell_type": "code",
   "execution_count": 13,
   "id": "67d35efc",
   "metadata": {},
   "outputs": [],
   "source": [
    "# csv 저장. -> 2차원까지만 가능.\n",
    "np.savetxt(\"c.csv\", load_c, delimiter=\",\") \n",
    "# delimiter를 지정하지 않으면 공백으로 값을 구분"
   ]
  },
  {
   "cell_type": "code",
   "execution_count": 14,
   "id": "490e0fc5",
   "metadata": {},
   "outputs": [
    {
     "data": {
      "text/plain": [
       "array([[1., 1.],\n",
       "       [1., 1.],\n",
       "       [1., 1.]])"
      ]
     },
     "execution_count": 14,
     "metadata": {},
     "output_type": "execute_result"
    }
   ],
   "source": [
    "load_c2 = np.loadtxt(\"c.csv\", delimiter=\",\")\n",
    "load_c2"
   ]
  },
  {
   "cell_type": "markdown",
   "id": "f7097563",
   "metadata": {},
   "source": [
    "### 인덱싱과 슬라이싱을 이용한 배열의 원소 조회 및 변경\n",
    "\n",
    "#### 배열 인덱싱(Indexing)\n",
    "- ##### index\n",
    "    - 배열내의 원소의 식별번호\n",
    "    - 0부터 시작\n",
    "- ##### indexing \n",
    "    – index를 이용해 원소 조회\n",
    "    - [] 표기법 사용\n",
    "- ##### 구문 \n",
    "    - ndarray[index]\n",
    "    - 양수는 지정한 index의 값을 조회한다. \n",
    "    - 음수는 뒤부터 조회한다. \n",
    "        - 마지막 index가 -1\n",
    "    - 2차원배열의 경우 \n",
    "        - arr[행index, 열index]\n",
    "        - 파이썬 리스트와 차이점 (list[행][열])\n",
    "    - N차원 배열의 경우\n",
    "        - arr[0축 index, 1축 index, ..., n축 index]\n",
    "- ##### 팬시(fancy) 인덱싱\n",
    "    - **여러개의 원소를 한번에 조회**할 경우 리스트에 담아 전달한다.\n",
    "    - 다차원 배열의 경우 각 축별로 list로 지정\n",
    "    - `arr[[1,2,3,4,5]]`\n",
    "        - 1차원 배열(vector): 1,2,3,4,5 번 index의 원소들 한번에 조회\n",
    "    - `arr[[0,3],[ 1,4]]`\n",
    "        - [0,3] - 1번축 index list, [1,4] - 2번축 index list\n",
    "        - 2차원 배열(matrix): [0,1], [3,4] 의 원소들 조회\n"
   ]
  },
  {
   "cell_type": "code",
   "execution_count": 15,
   "id": "4262d71d",
   "metadata": {},
   "outputs": [
    {
     "data": {
      "text/plain": [
       "array([[ 0,  1,  2,  3,  4,  5],\n",
       "       [ 6,  7,  8,  9, 10, 11],\n",
       "       [12, 13, 14, 15, 16, 17],\n",
       "       [18, 19, 20, 21, 22, 23],\n",
       "       [24, 25, 26, 27, 28, 29]])"
      ]
     },
     "execution_count": 15,
     "metadata": {},
     "output_type": "execute_result"
    }
   ],
   "source": [
    "import numpy as np\n",
    "# 30개 (30, ) ->(5, 6)\n",
    "np.arange(30).reshape(5,6) \n",
    "#reshape 하기전 size와 reshape이후의 size만 같으면 됨. = 개수만 변하지 않으면 됨."
   ]
  },
  {
   "cell_type": "code",
   "execution_count": 16,
   "id": "3bdb8660",
   "metadata": {},
   "outputs": [
    {
     "data": {
      "text/plain": [
       "array([[ 0,  1,  2,  3,  4,  5],\n",
       "       [ 6,  7,  8,  9, 10, 11],\n",
       "       [12, 13, 14, 15, 16, 17],\n",
       "       [18, 19, 20, 21, 22, 23],\n",
       "       [24, 25, 26, 27, 28, 29]])"
      ]
     },
     "execution_count": 16,
     "metadata": {},
     "output_type": "execute_result"
    }
   ],
   "source": [
    "import numpy as np\n",
    "a = np.arange(30).reshape(5, 6) \n",
    " # 1차원배열 -> 5 X 6의 2차원 배열로 shape을 변경\n",
    "a"
   ]
  },
  {
   "cell_type": "code",
   "execution_count": 17,
   "id": "ac382098",
   "metadata": {},
   "outputs": [
    {
     "data": {
      "text/plain": [
       "(5, 6)"
      ]
     },
     "execution_count": 17,
     "metadata": {},
     "output_type": "execute_result"
    }
   ],
   "source": [
    "a.shape"
   ]
  },
  {
   "cell_type": "code",
   "execution_count": 19,
   "id": "3fda55a6",
   "metadata": {},
   "outputs": [
    {
     "data": {
      "text/plain": [
       "array([0, 1, 2, 3, 4, 5])"
      ]
     },
     "execution_count": 19,
     "metadata": {},
     "output_type": "execute_result"
    }
   ],
   "source": [
    "a[0]\n"
   ]
  },
  {
   "cell_type": "code",
   "execution_count": 20,
   "id": "587d1d50",
   "metadata": {},
   "outputs": [
    {
     "data": {
      "text/plain": [
       "np.int64(2)"
      ]
     },
     "execution_count": 20,
     "metadata": {},
     "output_type": "execute_result"
    }
   ],
   "source": [
    "a[0,2]"
   ]
  },
  {
   "cell_type": "code",
   "execution_count": null,
   "id": "78f99e4b",
   "metadata": {},
   "outputs": [
    {
     "data": {
      "text/plain": [
       "array([22, 17])"
      ]
     },
     "execution_count": 21,
     "metadata": {},
     "output_type": "execute_result"
    }
   ],
   "source": [
    "a[[3,2], [4,5]] -> # [3,4], [2,5]"
   ]
  },
  {
   "cell_type": "code",
   "execution_count": 22,
   "id": "3634d991",
   "metadata": {},
   "outputs": [
    {
     "data": {
      "text/plain": [
       "array([ 7, 21, 28])"
      ]
     },
     "execution_count": 22,
     "metadata": {},
     "output_type": "execute_result"
    }
   ],
   "source": [
    "a[[1,3,4], [1,3,4]] #a[ 0축 index , 1축 index, 2축 index ]\n",
    "# [1,1] [3,3], [4,4]"
   ]
  },
  {
   "cell_type": "code",
   "execution_count": null,
   "id": "2f0a945a",
   "metadata": {},
   "outputs": [
    {
     "ename": "IndexError",
     "evalue": "too many indices for array: array is 2-dimensional, but 3 were indexed",
     "output_type": "error",
     "traceback": [
      "\u001b[31m---------------------------------------------------------------------------\u001b[39m",
      "\u001b[31mIndexError\u001b[39m                                Traceback (most recent call last)",
      "\u001b[36mCell\u001b[39m\u001b[36m \u001b[39m\u001b[32mIn[24]\u001b[39m\u001b[32m, line 2\u001b[39m\n\u001b[32m      1\u001b[39m \u001b[38;5;66;03m# 3차원 fancy indexing\u001b[39;00m\n\u001b[32m----> \u001b[39m\u001b[32m2\u001b[39m \u001b[43ma\u001b[49m\u001b[43m[\u001b[49m\u001b[43m[\u001b[49m\u001b[32;43m1\u001b[39;49m\u001b[43m,\u001b[49m\u001b[43m \u001b[49m\u001b[32;43m2\u001b[39;49m\u001b[43m,\u001b[49m\u001b[43m \u001b[49m\u001b[32;43m3\u001b[39;49m\u001b[43m,\u001b[49m\u001b[43m \u001b[49m\u001b[32;43m4\u001b[39;49m\u001b[43m]\u001b[49m\u001b[43m,\u001b[49m\u001b[43m \u001b[49m\u001b[43m[\u001b[49m\u001b[32;43m5\u001b[39;49m\u001b[43m,\u001b[49m\u001b[32;43m6\u001b[39;49m\u001b[43m,\u001b[49m\u001b[32;43m7\u001b[39;49m\u001b[43m,\u001b[49m\u001b[32;43m8\u001b[39;49m\u001b[43m]\u001b[49m\u001b[43m,\u001b[49m\u001b[43m \u001b[49m\u001b[43m[\u001b[49m\u001b[32;43m1\u001b[39;49m\u001b[43m,\u001b[49m\u001b[32;43m2\u001b[39;49m\u001b[43m,\u001b[49m\u001b[32;43m3\u001b[39;49m\u001b[43m,\u001b[49m\u001b[32;43m4\u001b[39;49m\u001b[43m]\u001b[49m\u001b[43m]\u001b[49m\n",
      "\u001b[31mIndexError\u001b[39m: too many indices for array: array is 2-dimensional, but 3 were indexed"
     ]
    }
   ],
   "source": [
    "# 3차원 fancy indexing\n",
    "aa[[1, 2, 3, 4], [5,6,7,8], [1,2,3,4]]"
   ]
  },
  {
   "cell_type": "code",
   "execution_count": 25,
   "id": "cbafd915",
   "metadata": {},
   "outputs": [
    {
     "data": {
      "text/plain": [
       "array([ 8, 20])"
      ]
     },
     "execution_count": 25,
     "metadata": {},
     "output_type": "execute_result"
    }
   ],
   "source": [
    "a[[1,3], 2]\n",
    "#0축 : fancy indexing , 1:indexing\n",
    "#[1,2],[3,2]"
   ]
  },
  {
   "cell_type": "code",
   "execution_count": 26,
   "id": "219e5d77",
   "metadata": {},
   "outputs": [
    {
     "data": {
      "text/plain": [
       "np.int64(8)"
      ]
     },
     "execution_count": 26,
     "metadata": {},
     "output_type": "execute_result"
    }
   ],
   "source": [
    "a[1, 2]"
   ]
  },
  {
   "cell_type": "code",
   "execution_count": 27,
   "id": "8d6433ce",
   "metadata": {},
   "outputs": [
    {
     "data": {
      "text/plain": [
       "array([[ 6,  7,  8,  9, 10, 11],\n",
       "       [18, 19, 20, 21, 22, 23],\n",
       "       [24, 25, 26, 27, 28, 29]])"
      ]
     },
     "execution_count": 27,
     "metadata": {},
     "output_type": "execute_result"
    }
   ],
   "source": [
    "a[[1,3,-1]]#0축 :[1,3,-1], 1축 :다"
   ]
  },
  {
   "cell_type": "code",
   "execution_count": 29,
   "id": "742e2597",
   "metadata": {},
   "outputs": [
    {
     "data": {
      "text/plain": [
       "array([0, 1, 2, 3, 4, 5])"
      ]
     },
     "execution_count": 29,
     "metadata": {},
     "output_type": "execute_result"
    }
   ],
   "source": [
    "a[0]\n"
   ]
  },
  {
   "cell_type": "code",
   "execution_count": 30,
   "id": "98a25023",
   "metadata": {},
   "outputs": [
    {
     "data": {
      "text/plain": [
       "array([24, 25, 26, 27, 28, 29])"
      ]
     },
     "execution_count": 30,
     "metadata": {},
     "output_type": "execute_result"
    }
   ],
   "source": [
    "a[-1]"
   ]
  },
  {
   "cell_type": "markdown",
   "id": "988a6c61",
   "metadata": {},
   "source": [
    "#### 슬라이싱\n",
    "- 배열의 원소들을 범위로 조회한다.\n",
    "- ndarry[start : stop : step ]\n",
    "    - start : 시작 인덱스. 기본값 0\n",
    "    - stop : 끝 index. stop은 포함하지 않는다. 기본값 마지막 index\n",
    "    - step : 증감 간격. 기본값 1"
   ]
  },
  {
   "cell_type": "markdown",
   "id": "4da275b9",
   "metadata": {},
   "source": [
    "#### 다차원 배열 슬라이싱\n",
    "- 각 축에 slicing 문법 적용\n",
    "- 2차원의 경우\n",
    "    - arr [행 slicing, 열 slicing]\n",
    "        - `arr[:3, :]`\n",
    "    - `,` 로 행과 열을 구분한 다중 슬라이싱 사용\n",
    "- 다차원의 경우\n",
    "    - arr[0축 slicing, 1축 slicing, ..., n축 slicing]\n",
    "- slicing과 indexing 문법은 같이 쓸 수 있다.\n",
    "- 모든 축에 index를 지정할 필요는 없다."
   ]
  },
  {
   "cell_type": "code",
   "execution_count": 31,
   "id": "d35607a5",
   "metadata": {},
   "outputs": [
    {
     "data": {
      "text/plain": [
       "array([[ 0,  1,  2,  3,  4,  5],\n",
       "       [ 6,  7,  8,  9, 10, 11],\n",
       "       [12, 13, 14, 15, 16, 17],\n",
       "       [18, 19, 20, 21, 22, 23],\n",
       "       [24, 25, 26, 27, 28, 29]])"
      ]
     },
     "execution_count": 31,
     "metadata": {},
     "output_type": "execute_result"
    }
   ],
   "source": [
    "a"
   ]
  },
  {
   "cell_type": "code",
   "execution_count": 34,
   "id": "0db4047d",
   "metadata": {},
   "outputs": [
    {
     "data": {
      "text/plain": [
       "array([[ 0,  1,  2,  3,  4,  5],\n",
       "       [ 6,  7,  8,  9, 10, 11],\n",
       "       [12, 13, 14, 15, 16, 17]])"
      ]
     },
     "execution_count": 34,
     "metadata": {},
     "output_type": "execute_result"
    }
   ],
   "source": [
    "a[:3] #0축"
   ]
  },
  {
   "cell_type": "code",
   "execution_count": 35,
   "id": "d21ffeff",
   "metadata": {},
   "outputs": [
    {
     "data": {
      "text/plain": [
       "array([0, 1, 2])"
      ]
     },
     "execution_count": 35,
     "metadata": {},
     "output_type": "execute_result"
    }
   ],
   "source": [
    "a[0, :3]#0축: index , 1축 : slicing"
   ]
  },
  {
   "cell_type": "code",
   "execution_count": 36,
   "id": "250ed56c",
   "metadata": {},
   "outputs": [
    {
     "data": {
      "text/plain": [
       "array([[ 7,  8,  9, 10],\n",
       "       [13, 14, 15, 16],\n",
       "       [19, 20, 21, 22]])"
      ]
     },
     "execution_count": 36,
     "metadata": {},
     "output_type": "execute_result"
    }
   ],
   "source": [
    "a[1:4,  1:5] #0축, 1축: slicing"
   ]
  },
  {
   "cell_type": "code",
   "execution_count": 37,
   "id": "89108255",
   "metadata": {},
   "outputs": [
    {
     "data": {
      "text/plain": [
       "array([[  0,   1,   2, 300,   4,   5],\n",
       "       [  6,   7,   8,   9,  10,  11],\n",
       "       [ 12,  13,  14,  15,  16,  17],\n",
       "       [ 18,  19,  20,  21,  22,  23],\n",
       "       [ 24,  25,  26,  27,  28,  29]])"
      ]
     },
     "execution_count": 37,
     "metadata": {},
     "output_type": "execute_result"
    }
   ],
   "source": [
    "#값 변경\n",
    "a[0, 3] = 300\n",
    "a"
   ]
  },
  {
   "cell_type": "code",
   "execution_count": 38,
   "id": "ae81ee4b",
   "metadata": {},
   "outputs": [
    {
     "data": {
      "text/plain": [
       "array([[ 7,  8,  9, 10],\n",
       "       [13, 14, 15, 16],\n",
       "       [19, 20, 21, 22]])"
      ]
     },
     "execution_count": 38,
     "metadata": {},
     "output_type": "execute_result"
    }
   ],
   "source": [
    "b = a[1:4,  1:5].copy() # copy(): deep copy #copy를 해야 원본을 안바꿈.\n",
    "b"
   ]
  },
  {
   "cell_type": "code",
   "execution_count": 39,
   "id": "401ee3bc",
   "metadata": {},
   "outputs": [
    {
     "data": {
      "text/plain": [
       "array([[1000,    8,    9,   10],\n",
       "       [  13,   14,   15,   16],\n",
       "       [  19,   20,   21,   22]])"
      ]
     },
     "execution_count": 39,
     "metadata": {},
     "output_type": "execute_result"
    }
   ],
   "source": [
    "b[0,0] = 1000\n",
    "b #copy를 하지 않고 하면 원본이 바껴버림."
   ]
  },
  {
   "cell_type": "markdown",
   "id": "7bde31fd",
   "metadata": {},
   "source": [
    "#### 슬라이싱은 원본에 대한 View \n",
    "- slicing한 결과는 새로운 배열을 생성하는 것이 아니라 기존 배열을 참조한다.\n",
    "- slicing한 배열의 원소를 변경하면 원본 배열의 것도 바뀐다.\n",
    "- 배열.copy()\n",
    "    - 배열을 복사한 새로운 배열 생성\n",
    "    - 복사후 처리하면 원본이 바뀌지 않는다.\n",
    "\n",
    " #### boolean indexing\n",
    "- Index 연산자에 같은 형태(shape)의 Boolean 배열을 넣으면 True인 index의 값만 조회 (False가 있는 index는 조회하지 않는다.)\n",
    "- ndarray내의 원소 중에서 원하는 조건의 값들만 조회할 때 사용\n",
    "- boolean indexing을 masking이라고도 한다.   \n",
    "\n",
    "#### 넘파이 논리연산자\n",
    "- 파이썬의 and, or, not은 사용할 수 없다.\n",
    "- `&`: and연산\n",
    "- `|`: or 연산\n",
    "- `~`: not 연산\n",
    "- 피연산자는 `( )`로 묶어야 한다."
   ]
  },
  {
   "cell_type": "code",
   "execution_count": 40,
   "id": "f9c4acdb",
   "metadata": {},
   "outputs": [
    {
     "data": {
      "text/plain": [
       "array([1, 2, 4])"
      ]
     },
     "execution_count": 40,
     "metadata": {},
     "output_type": "execute_result"
    }
   ],
   "source": [
    "import numpy as np\n",
    "\n",
    "x = np.array([1, 2, 3, 4, 5])\n",
    "b_idx = [True, True, False, True, False]\n",
    "x[b_idx]"
   ]
  },
  {
   "cell_type": "code",
   "execution_count": 41,
   "id": "3c217625",
   "metadata": {},
   "outputs": [
    {
     "data": {
      "text/plain": [
       "array([False, False, False,  True,  True])"
      ]
     },
     "execution_count": 41,
     "metadata": {},
     "output_type": "execute_result"
    }
   ],
   "source": [
    "# element-wise(원소별) 연산 == 벡터화(Vectorization)\n",
    "x + 10\n",
    "x > 3"
   ]
  },
  {
   "cell_type": "code",
   "execution_count": 42,
   "id": "c0cedc3b",
   "metadata": {},
   "outputs": [
    {
     "data": {
      "text/plain": [
       "array([4, 5])"
      ]
     },
     "execution_count": 42,
     "metadata": {},
     "output_type": "execute_result"
    }
   ],
   "source": [
    "x[x > 3]"
   ]
  },
  {
   "cell_type": "code",
   "execution_count": 43,
   "id": "4331950c",
   "metadata": {},
   "outputs": [
    {
     "data": {
      "text/plain": [
       "array([[54, 20, 57, 97, 69, 76, 97, 50, 26, 65, 13, 80, 67, 70, 14],\n",
       "       [10, 27, 93, 42, 60, 13,  2,  1, 53, 94,  8, 90, 54, 93, 95],\n",
       "       [79, 96,  9, 69, 44, 66, 73, 93, 17, 59, 65, 20, 94, 52, 23]],\n",
       "      dtype=int32)"
      ]
     },
     "execution_count": 43,
     "metadata": {},
     "output_type": "execute_result"
    }
   ],
   "source": [
    " # 0 ~ 100-1 사이의 정수 15개로 구성된 2차원배열\n",
    "arr = np.random.randint(100, size=(3, 15)) \n",
    "arr"
   ]
  },
  {
   "cell_type": "code",
   "execution_count": 44,
   "id": "16b331fe",
   "metadata": {},
   "outputs": [
    {
     "data": {
      "text/plain": [
       "array([54, 57, 97, 69, 76, 97, 50, 65, 80, 67, 70, 93, 60, 53, 94, 90, 54,\n",
       "       93, 95, 79, 96, 69, 66, 73, 93, 59, 65, 94, 52], dtype=int32)"
      ]
     },
     "execution_count": 44,
     "metadata": {},
     "output_type": "execute_result"
    }
   ],
   "source": [
    "arr[arr >= 50] \n",
    "#data frame과 차이점: 데이터프레임은 형태를 유지해줬지만 이것은 true인 값만 return"
   ]
  },
  {
   "cell_type": "code",
   "execution_count": null,
   "id": "82801bb9",
   "metadata": {},
   "outputs": [
    {
     "data": {
      "text/plain": [
       "array([54, 20, 57, 69, 76, 50, 26, 65, 13, 80, 67, 70, 14, 10, 27, 42, 60,\n",
       "       13, 53, 90, 54, 79, 69, 44, 66, 73, 17, 59, 65, 20, 52, 23],\n",
       "      dtype=int32)"
      ]
     },
     "execution_count": 45,
     "metadata": {},
     "output_type": "execute_result"
    }
   ],
   "source": [
    "arr[(arr>=10) & (arr<=30)]"
   ]
  },
  {
   "cell_type": "code",
   "execution_count": 46,
   "id": "32e986de",
   "metadata": {},
   "outputs": [
    {
     "data": {
      "text/plain": [
       "array([97, 97, 93,  2,  1, 94,  8, 93, 95, 96,  9, 93, 94], dtype=int32)"
      ]
     },
     "execution_count": 46,
     "metadata": {},
     "output_type": "execute_result"
    }
   ],
   "source": [
    "arr[(arr < 10) | (arr > 90)]"
   ]
  },
  {
   "cell_type": "code",
   "execution_count": 48,
   "id": "6d893d2f",
   "metadata": {},
   "outputs": [
    {
     "data": {
      "text/plain": [
       "array([54, 20, 57, 69, 76, 50, 26, 65, 13, 80, 67, 70, 14, 10, 27, 42, 60,\n",
       "       13, 53, 90, 54, 79, 69, 44, 66, 73, 17, 59, 65, 20, 52, 23],\n",
       "      dtype=int32)"
      ]
     },
     "execution_count": 48,
     "metadata": {},
     "output_type": "execute_result"
    }
   ],
   "source": [
    "arr[~((arr < 10) | (arr > 90))]"
   ]
  },
  {
   "cell_type": "markdown",
   "id": "752ee441",
   "metadata": {},
   "source": [
    "#### np.where()\n",
    "- **True의 index 조회**\n",
    "    - np.where(boolean 배열) - True인 index를 반환\n",
    "        - 반환타입: Tuple . True인 index들을 담은 ndarray를 축별로 Tuple에 묶어서 반환한다.\n",
    "    - boolean연산과 같이사용하여 배열내에 **특정 조건을 만족하는 값들을 index(위치)를 조회할 때** 사용한다. \n",
    "- **True와 False를 다른 값으로 변환**\n",
    "    - np.where(boolean 배열, True를 대체할 값, False를 대체할 값)\n",
    "        - 배열내의 True를 True를 대체할 값으로 False를 False를 대체할 값 으로 변환한다."
   ]
  },
  {
   "cell_type": "code",
   "execution_count": 47,
   "id": "4dd6d853",
   "metadata": {},
   "outputs": [
    {
     "data": {
      "text/plain": [
       "(array([0, 1]),)"
      ]
     },
     "execution_count": 47,
     "metadata": {},
     "output_type": "execute_result"
    }
   ],
   "source": [
    "a = np.where([True, True, False])  # True의 위치(index) 를 반환 => 튜플\n",
    "a"
   ]
  },
  {
   "cell_type": "code",
   "execution_count": 49,
   "id": "cb6c45d9",
   "metadata": {},
   "outputs": [
    {
     "data": {
      "text/plain": [
       "array([[54, 20, 57, 97, 69, 76, 97, 50, 26, 65, 13, 80, 67, 70, 14],\n",
       "       [10, 27, 93, 42, 60, 13,  2,  1, 53, 94,  8, 90, 54, 93, 95],\n",
       "       [79, 96,  9, 69, 44, 66, 73, 93, 17, 59, 65, 20, 94, 52, 23]],\n",
       "      dtype=int32)"
      ]
     },
     "execution_count": 49,
     "metadata": {},
     "output_type": "execute_result"
    }
   ],
   "source": [
    "arr.shape\n",
    "arr"
   ]
  },
  {
   "cell_type": "code",
   "execution_count": 50,
   "id": "8fc5b830",
   "metadata": {},
   "outputs": [
    {
     "data": {
      "text/plain": [
       "(array([0, 0, 0, 0, 0, 1, 1, 1, 1, 1, 2, 2, 2, 2, 2]),\n",
       " array([ 3,  5,  6, 11, 13,  2,  9, 11, 13, 14,  0,  1,  6,  7, 12]))"
      ]
     },
     "execution_count": 50,
     "metadata": {},
     "output_type": "execute_result"
    }
   ],
   "source": [
    "# 3 X 15\n",
    "# arr배열에서 70이상인 값들의 index?\n",
    "r = np.where(arr >= 70)\n",
    "r"
   ]
  },
  {
   "cell_type": "code",
   "execution_count": 51,
   "id": "d7e90868",
   "metadata": {},
   "outputs": [
    {
     "name": "stdout",
     "output_type": "stream",
     "text": [
      "0, 3, 97\n",
      "0, 5, 76\n",
      "0, 6, 97\n",
      "0, 11, 80\n",
      "0, 13, 70\n",
      "1, 2, 93\n",
      "1, 9, 94\n",
      "1, 11, 90\n",
      "1, 13, 93\n",
      "1, 14, 95\n",
      "2, 0, 79\n",
      "2, 1, 96\n",
      "2, 6, 73\n",
      "2, 7, 93\n",
      "2, 12, 94\n"
     ]
    }
   ],
   "source": [
    "for idx0, idx1 in zip(r[0], r[1]):\n",
    "    print(idx0, idx1, arr[idx0, idx1], sep=\", \")"
   ]
  },
  {
   "cell_type": "code",
   "execution_count": 52,
   "id": "b02fa701",
   "metadata": {},
   "outputs": [
    {
     "data": {
      "text/plain": [
       "array([['70미만', '70미만', '70미만', '70이상', '70미만', '70이상', '70이상', '70미만',\n",
       "        '70미만', '70미만', '70미만', '70이상', '70미만', '70이상', '70미만'],\n",
       "       ['70미만', '70미만', '70이상', '70미만', '70미만', '70미만', '70미만', '70미만',\n",
       "        '70미만', '70이상', '70미만', '70이상', '70미만', '70이상', '70이상'],\n",
       "       ['70이상', '70이상', '70미만', '70미만', '70미만', '70미만', '70이상', '70이상',\n",
       "        '70미만', '70미만', '70미만', '70미만', '70이상', '70미만', '70미만']],\n",
       "      dtype='<U4')"
      ]
     },
     "execution_count": 52,
     "metadata": {},
     "output_type": "execute_result"
    }
   ],
   "source": [
    "np.where(arr>=70, \"70이상\", \"70미만\")  \n",
    "# 조건이 True인 값은 \"70이상\", False인 값은 \"70미만\" 으로 변경"
   ]
  },
  {
   "cell_type": "markdown",
   "id": "1979e6f5",
   "metadata": {},
   "source": [
    "#### 기타\n",
    "- np.any(boolean 배열)\n",
    "    - 배열에 True가 하나라도 있으면 True 반환\n",
    "    - 배열내에 특정조건을 만족하는 값이 하나 이상 있는지 확인할 때 사용\n",
    "- np.all(boolean 배열)\n",
    "    - 배열의 모든 원소가 True이면 True 반환\n",
    "    - 배열내의 모든 원소가 특정 조건을 만족하는지 확인 할 때 사용"
   ]
  },
  {
   "cell_type": "code",
   "execution_count": 61,
   "id": "ee7b6966",
   "metadata": {},
   "outputs": [
    {
     "data": {
      "text/plain": [
       "np.True_"
      ]
     },
     "execution_count": 61,
     "metadata": {},
     "output_type": "execute_result"
    }
   ],
   "source": [
    "# np.any([True, False, False])\n",
    "# np.any([False, False, False])\n",
    "np.any(arr > 90)  # arr배열에 원소중에 90보다 큰값이 하나라도 있나?"
   ]
  },
  {
   "cell_type": "code",
   "execution_count": 65,
   "id": "bee7c232",
   "metadata": {},
   "outputs": [
    {
     "data": {
      "text/plain": [
       "np.True_"
      ]
     },
     "execution_count": 65,
     "metadata": {},
     "output_type": "execute_result"
    }
   ],
   "source": [
    "# np.all([True, False, True])\n",
    "# np.all([True, True, True])\n",
    "# np.all(arr>90) # arr배열의 모든 원소들이 90 보다 큰값인가?\n",
    "np.all(arr>0)"
   ]
  },
  {
   "cell_type": "code",
   "execution_count": 66,
   "id": "facf3c5c",
   "metadata": {},
   "outputs": [
    {
     "data": {
      "text/plain": [
       "array([[54, 20, 57, 97, 69, 76, 97, 50, 26, 65, 13, 80, 67, 70, 14],\n",
       "       [10, 27, 93, 42, 60, 13,  2,  1, 53, 94,  8, 90, 54, 93, 95],\n",
       "       [79, 96,  9, 69, 44, 66, 73, 93, 17, 59, 65, 20, 94, 52, 23]],\n",
       "      dtype=int32)"
      ]
     },
     "execution_count": 66,
     "metadata": {},
     "output_type": "execute_result"
    }
   ],
   "source": [
    "arr"
   ]
  },
  {
   "cell_type": "markdown",
   "id": "13027ba1",
   "metadata": {},
   "source": [
    "#### 배열의 형태(shape) 변경\n",
    "\n",
    "- 배열의 형태(shape)을 변경 할 때 원소의 개수가 달라지는 형태로 변경은 할 수 없다.\n",
    "\n",
    "#### reshape()을 이용한 차원 변경\n",
    "- `numpy.reshape(a, newshape)` 또는 `ndarray.reshape(newshape)`\n",
    "    - a: 형태를 변경할 배열\n",
    "    - newshape : 변경할 형태 설정. \n",
    "        - 원소의 개수를 유지하는 shape으로만 변환 가능하다.\n",
    "        - 각 axis(축)의 size를 지정할 때 **하나의 축의 size를 -1**로 줄 수있다. 그러면 알아서 축 size를 설정해 준다. (전체 size / 지정한 axis들 size의 곱)\n",
    "\n",
    "    - 둘다 원본을 바꾸지 않고 reshape한 새로운 배열을 만들어 반환한다."
   ]
  },
  {
   "cell_type": "code",
   "execution_count": 3,
   "id": "f56b494d",
   "metadata": {},
   "outputs": [
    {
     "name": "stdout",
     "output_type": "stream",
     "text": [
      "(20,)\n"
     ]
    },
    {
     "data": {
      "text/plain": [
       "array([ 0,  1,  2,  3,  4,  5,  6,  7,  8,  9, 10, 11, 12, 13, 14, 15, 16,\n",
       "       17, 18, 19])"
      ]
     },
     "execution_count": 3,
     "metadata": {},
     "output_type": "execute_result"
    }
   ],
   "source": [
    "import numpy as np\n",
    "x = np.arange(20)\n",
    "print(x.shape)\n",
    "x"
   ]
  },
  {
   "cell_type": "code",
   "execution_count": 68,
   "id": "67fbd296",
   "metadata": {},
   "outputs": [
    {
     "name": "stdout",
     "output_type": "stream",
     "text": [
      "(4, 5)\n"
     ]
    },
    {
     "data": {
      "text/plain": [
       "array([[ 0,  1,  2,  3,  4],\n",
       "       [ 5,  6,  7,  8,  9],\n",
       "       [10, 11, 12, 13, 14],\n",
       "       [15, 16, 17, 18, 19]])"
      ]
     },
     "execution_count": 68,
     "metadata": {},
     "output_type": "execute_result"
    }
   ],
   "source": [
    "r1 = np.reshape(x, (4, 5)) #다양한 자료구조에 적용.\n",
    "print(r1.shape)\n",
    "r1"
   ]
  },
  {
   "cell_type": "code",
   "execution_count": 4,
   "id": "863ee318",
   "metadata": {},
   "outputs": [
    {
     "name": "stdout",
     "output_type": "stream",
     "text": [
      "(2, 2, 5)\n"
     ]
    },
    {
     "data": {
      "text/plain": [
       "array([[[ 0,  1,  2,  3,  4],\n",
       "        [ 5,  6,  7,  8,  9]],\n",
       "\n",
       "       [[10, 11, 12, 13, 14],\n",
       "        [15, 16, 17, 18, 19]]])"
      ]
     },
     "execution_count": 4,
     "metadata": {},
     "output_type": "execute_result"
    }
   ],
   "source": [
    "r2 = x.reshape(2, 2, 5)\n",
    "print(r2.shape)\n",
    "r2"
   ]
  },
  {
   "cell_type": "code",
   "execution_count": 5,
   "id": "87e5b5d7",
   "metadata": {},
   "outputs": [
    {
     "data": {
      "text/plain": [
       "((5, 2, 2),\n",
       " array([[[ 0,  1],\n",
       "         [ 2,  3]],\n",
       " \n",
       "        [[ 4,  5],\n",
       "         [ 6,  7]],\n",
       " \n",
       "        [[ 8,  9],\n",
       "         [10, 11]],\n",
       " \n",
       "        [[12, 13],\n",
       "         [14, 15]],\n",
       " \n",
       "        [[16, 17],\n",
       "         [18, 19]]]))"
      ]
     },
     "execution_count": 5,
     "metadata": {},
     "output_type": "execute_result"
    }
   ],
   "source": [
    "r100 = x.reshape(5, 2, 2)\n",
    "r100.shape, r100"
   ]
  },
  {
   "cell_type": "code",
   "execution_count": 70,
   "id": "1045ae3d",
   "metadata": {},
   "outputs": [
    {
     "data": {
      "text/plain": [
       "(20, 20, 20)"
      ]
     },
     "execution_count": 70,
     "metadata": {},
     "output_type": "execute_result"
    }
   ],
   "source": [
    "x.size, r1.size, r2.size"
   ]
  },
  {
   "cell_type": "code",
   "execution_count": 71,
   "id": "f0e7852c",
   "metadata": {},
   "outputs": [
    {
     "name": "stdout",
     "output_type": "stream",
     "text": [
      "(1, 1, 1, 1, 1, 20) 6\n"
     ]
    }
   ],
   "source": [
    "# size가 1인 axis ==> dummy axis\n",
    "r3 = x.reshape(1, 1, 1, 1, 1, 20) \n",
    "print(r3.shape, r3.ndim) # ndim : 배열의 차원수, 축수."
   ]
  },
  {
   "cell_type": "code",
   "execution_count": 72,
   "id": "24368bd2",
   "metadata": {},
   "outputs": [
    {
     "name": "stdout",
     "output_type": "stream",
     "text": [
      "(2, 2, 5)\n"
     ]
    },
    {
     "data": {
      "text/plain": [
       "array([[[ 0,  1,  2,  3,  4],\n",
       "        [ 5,  6,  7,  8,  9]],\n",
       "\n",
       "       [[10, 11, 12, 13, 14],\n",
       "        [15, 16, 17, 18, 19]]])"
      ]
     },
     "execution_count": 72,
     "metadata": {},
     "output_type": "execute_result"
    }
   ],
   "source": [
    "r4 = x.reshape(2, 2, -1)  # -1: size를 계산해서 넣어줘. -1은 한번밖에 못옴.\n",
    "print(r4.shape)\n",
    "r4"
   ]
  },
  {
   "cell_type": "code",
   "execution_count": 75,
   "id": "f9048d0a",
   "metadata": {},
   "outputs": [
    {
     "data": {
      "text/plain": [
       "array([ 0,  1,  2,  3,  4,  5,  6,  7,  8,  9, 10, 11, 12, 13, 14, 15, 16,\n",
       "       17, 18, 19])"
      ]
     },
     "execution_count": 75,
     "metadata": {},
     "output_type": "execute_result"
    }
   ],
   "source": [
    "r4.reshape(20)"
   ]
  },
  {
   "cell_type": "code",
   "execution_count": 77,
   "id": "1761b5bd",
   "metadata": {},
   "outputs": [
    {
     "data": {
      "text/plain": [
       "array([ 0,  1,  2,  3,  4,  5,  6,  7,  8,  9, 10, 11, 12, 13, 14, 15, 16,\n",
       "       17, 18, 19])"
      ]
     },
     "execution_count": 77,
     "metadata": {},
     "output_type": "execute_result"
    }
   ],
   "source": [
    "r4.reshape(-1)"
   ]
  },
  {
   "cell_type": "code",
   "execution_count": 78,
   "id": "d3f31e9e",
   "metadata": {},
   "outputs": [
    {
     "data": {
      "text/plain": [
       "array([[ 0,  1,  2,  3,  4],\n",
       "       [ 5,  6,  7,  8,  9],\n",
       "       [10, 11, 12, 13, 14],\n",
       "       [15, 16, 17, 18, 19]])"
      ]
     },
     "execution_count": 78,
     "metadata": {},
     "output_type": "execute_result"
    }
   ],
   "source": [
    "r4.reshape(4,5)"
   ]
  },
  {
   "cell_type": "code",
   "execution_count": 79,
   "id": "51fd975f",
   "metadata": {},
   "outputs": [
    {
     "data": {
      "text/plain": [
       "array([ 0,  1,  2,  3,  4,  5,  6,  7,  8,  9, 10, 11, 12, 13, 14, 15, 16,\n",
       "       17, 18, 19])"
      ]
     },
     "execution_count": 79,
     "metadata": {},
     "output_type": "execute_result"
    }
   ],
   "source": [
    "# 다차원을 1차원으로 변경\n",
    "r4.flatten()"
   ]
  },
  {
   "cell_type": "code",
   "execution_count": null,
   "id": "3ed68228",
   "metadata": {},
   "outputs": [
    {
     "ename": "ValueError",
     "evalue": "cannot reshape array of size 20 into shape (4,6)",
     "output_type": "error",
     "traceback": [
      "\u001b[31m---------------------------------------------------------------------------\u001b[39m",
      "\u001b[31mValueError\u001b[39m                                Traceback (most recent call last)",
      "\u001b[36mCell\u001b[39m\u001b[36m \u001b[39m\u001b[32mIn[80]\u001b[39m\u001b[32m, line 1\u001b[39m\n\u001b[32m----> \u001b[39m\u001b[32m1\u001b[39m \u001b[43mr4\u001b[49m\u001b[43m.\u001b[49m\u001b[43mreshape\u001b[49m\u001b[43m(\u001b[49m\u001b[32;43m4\u001b[39;49m\u001b[43m,\u001b[49m\u001b[43m \u001b[49m\u001b[32;43m6\u001b[39;49m\u001b[43m)\u001b[49m \n",
      "\u001b[31mValueError\u001b[39m: cannot reshape array of size 20 into shape (4,6)"
     ]
    }
   ],
   "source": [
    "r4.reshape(4, 6)    # 개수가 맞지 않아서 오류남."
   ]
  },
  {
   "cell_type": "markdown",
   "id": "18cb0b51",
   "metadata": {},
   "source": [
    "#### 차원 늘리기(확장)\n",
    "- dummy axis(축)을 늘린다.\n",
    "    - dummy axis: size가 1인 axis 를 말한다.\n",
    "\n",
    "- **reshape() 을 이용해 늘릴 수 있다.**\n",
    "- **indexer와 np.newaxis 변수를 이용해 늘린다.**\n",
    "    - ndarray\\[..., np.newaxis\\] 또는 ndarray\\[np.newaxis, ...\\]\n",
    "        - 맨앞 또는 맨 마지막에 dummy axis(축)을 늘릴때 사용한다.\n",
    "        - 축을 늘리려는 위치에 np.newaxis를 지정하고 `...` 으로 원본 배열의 shape을 유지함을 알려준다.\n",
    "        \n",
    "- **np.expand_dims(대상배열, axis=늘릴축)**\n",
    "    - dummy axis를 원하는 axis에 추가한다.  "
   ]
  },
  {
   "cell_type": "code",
   "execution_count": 81,
   "id": "ca22cdef",
   "metadata": {},
   "outputs": [
    {
     "data": {
      "text/plain": [
       "(20,)"
      ]
     },
     "execution_count": 81,
     "metadata": {},
     "output_type": "execute_result"
    }
   ],
   "source": [
    "import numpy as np\n",
    "x.shape"
   ]
  },
  {
   "cell_type": "code",
   "execution_count": 83,
   "id": "be97f69c",
   "metadata": {},
   "outputs": [
    {
     "data": {
      "text/plain": [
       "(1, 20)"
      ]
     },
     "execution_count": 83,
     "metadata": {},
     "output_type": "execute_result"
    }
   ],
   "source": [
    "r1 = x[np.newaxis, ...] \n",
    "r1.shape"
   ]
  },
  {
   "cell_type": "code",
   "execution_count": 85,
   "id": "ed0f3462",
   "metadata": {},
   "outputs": [
    {
     "data": {
      "text/plain": [
       "((1, 1, 1, 20),\n",
       " array([[[[ 0,  1,  2,  3,  4,  5,  6,  7,  8,  9, 10, 11, 12, 13, 14,\n",
       "           15, 16, 17, 18, 19]]]]))"
      ]
     },
     "execution_count": 85,
     "metadata": {},
     "output_type": "execute_result"
    }
   ],
   "source": [
    "r2 = x[np.newaxis, np.newaxis, np.newaxis, ...]\n",
    "r2.shape, r2"
   ]
  },
  {
   "cell_type": "code",
   "execution_count": 86,
   "id": "a1ad554b",
   "metadata": {},
   "outputs": [
    {
     "data": {
      "text/plain": [
       "(20, 1)"
      ]
     },
     "execution_count": 86,
     "metadata": {},
     "output_type": "execute_result"
    }
   ],
   "source": [
    "r3 = x[..., np.newaxis] \n",
    "r3.shape"
   ]
  },
  {
   "cell_type": "code",
   "execution_count": 87,
   "id": "ca0f89cc",
   "metadata": {},
   "outputs": [
    {
     "data": {
      "text/plain": [
       "(1, 20, 1)"
      ]
     },
     "execution_count": 87,
     "metadata": {},
     "output_type": "execute_result"
    }
   ],
   "source": [
    "r4 = x[np.newaxis, ..., np.newaxis]  \n",
    "r4.shape  #차원을 늘려야하는데 shape을 바꾸지 않고 차원을 늘리는것."
   ]
  },
  {
   "cell_type": "code",
   "execution_count": 88,
   "id": "c55ff0cb",
   "metadata": {},
   "outputs": [
    {
     "data": {
      "text/plain": [
       "(1, 4, 5)"
      ]
     },
     "execution_count": 88,
     "metadata": {},
     "output_type": "execute_result"
    }
   ],
   "source": [
    "x2 = x.reshape(4,5)\n",
    "r5 = x2[np.newaxis, ...]\n",
    "r5.shape"
   ]
  },
  {
   "cell_type": "code",
   "execution_count": 89,
   "id": "e2c87734",
   "metadata": {},
   "outputs": [
    {
     "data": {
      "text/plain": [
       "(4, 1, 5)"
      ]
     },
     "execution_count": 89,
     "metadata": {},
     "output_type": "execute_result"
    }
   ],
   "source": [
    "# dummy 축을 중간에 추가 -> ... 대신에 다른 형식\n",
    "r6 = x2[:, np.newaxis ,:]\n",
    "r6.shape"
   ]
  },
  {
   "cell_type": "code",
   "execution_count": 91,
   "id": "90b64ec9",
   "metadata": {},
   "outputs": [
    {
     "data": {
      "text/plain": [
       "(1, 20)"
      ]
     },
     "execution_count": 91,
     "metadata": {},
     "output_type": "execute_result"
    }
   ],
   "source": [
    "# dummy axis를 삽입하는 개념.\n",
    "np.expand_dims(x, axis=0).shape   "
   ]
  },
  {
   "cell_type": "code",
   "execution_count": 92,
   "id": "263ce27a",
   "metadata": {},
   "outputs": [
    {
     "data": {
      "text/plain": [
       "(20, 1)"
      ]
     },
     "execution_count": 92,
     "metadata": {},
     "output_type": "execute_result"
    }
   ],
   "source": [
    "np.expand_dims(x, axis=-1).shape"
   ]
  },
  {
   "cell_type": "code",
   "execution_count": 93,
   "id": "2d5f60c4",
   "metadata": {},
   "outputs": [
    {
     "data": {
      "text/plain": [
       "(4, 1, 5)"
      ]
     },
     "execution_count": 93,
     "metadata": {},
     "output_type": "execute_result"
    }
   ],
   "source": [
    "np.expand_dims(x2, axis=1).shape"
   ]
  },
  {
   "cell_type": "markdown",
   "id": "970fb481",
   "metadata": {},
   "source": [
    "#### 차원 줄이기(축소)\n",
    "\n",
    "##### numpy.squeeze(배열, axis=None), 배열객체.squeeze(axis=None)\n",
    "- 배열에서 지정한 축(axis)을 제거하여 차원(rank)를 줄인다.\n",
    "- 제거하려는 축의 size는 1이어야 한다.\n",
    "- 축을 지정하지 않으면 size가 1인 모든 축을 제거한다.\n",
    "    - (3,1,1,2) => (3,2)"
   ]
  },
  {
   "cell_type": "code",
   "execution_count": 103,
   "id": "b99f806f",
   "metadata": {},
   "outputs": [
    {
     "data": {
      "text/plain": [
       "(4, 5)"
      ]
     },
     "execution_count": 103,
     "metadata": {},
     "output_type": "execute_result"
    }
   ],
   "source": [
    "r2 = np.arange(20).reshape(1, 4, 5, 1, 1, 1)\n",
    "r10 = r2.squeeze()\n",
    " # axis=[0, -1] 은 안됨.\n",
    "r10.shape   # 1인 것들을 없애줌."
   ]
  },
  {
   "cell_type": "code",
   "execution_count": 104,
   "id": "83850209",
   "metadata": {},
   "outputs": [
    {
     "data": {
      "text/plain": [
       "(1, 4, 5, 1, 1)"
      ]
     },
     "execution_count": 104,
     "metadata": {},
     "output_type": "execute_result"
    }
   ],
   "source": [
    "r2.squeeze(axis = -1).shape"
   ]
  },
  {
   "cell_type": "code",
   "execution_count": 105,
   "id": "bbf435b0",
   "metadata": {},
   "outputs": [
    {
     "data": {
      "text/plain": [
       "((1, 4, 5, 1, 1, 1), (4, 5, 1, 1, 1))"
      ]
     },
     "execution_count": 105,
     "metadata": {},
     "output_type": "execute_result"
    }
   ],
   "source": [
    "r2.shape, r2.squeeze(axis=0).shape\n",
    "# r2. squeeze(axis=[0,-1]).shape  axis를 한번에 여러개 지정할 수 없다."
   ]
  },
  {
   "cell_type": "markdown",
   "id": "bc11ed77",
   "metadata": {},
   "source": [
    "#### 전치(Transpose) 연산\n",
    "- 축의 위치를 바꾸는 연산을 말한다. 주로 2차원 배열(행렬) 에서 행과 열의 위치를 바꿀때 사용한다.\n",
    "- $X^T$ 로 표시\n",
    "- 구문\n",
    "    - `배열.T`"
   ]
  },
  {
   "cell_type": "code",
   "execution_count": 127,
   "id": "aeebf6f3",
   "metadata": {},
   "outputs": [
    {
     "data": {
      "text/plain": [
       "(4, 5)"
      ]
     },
     "execution_count": 127,
     "metadata": {},
     "output_type": "execute_result"
    }
   ],
   "source": [
    "y = x.reshape(4, 5)\n",
    "y.shape"
   ]
  },
  {
   "cell_type": "code",
   "execution_count": 128,
   "id": "5dbbfe4e",
   "metadata": {},
   "outputs": [
    {
     "data": {
      "text/plain": [
       "array([[ 0,  1,  2,  3,  4],\n",
       "       [ 5,  6,  7,  8,  9],\n",
       "       [10, 11, 12, 13, 14],\n",
       "       [15, 16, 17, 18, 19]])"
      ]
     },
     "execution_count": 128,
     "metadata": {},
     "output_type": "execute_result"
    }
   ],
   "source": [
    "y"
   ]
  },
  {
   "cell_type": "code",
   "execution_count": 129,
   "id": "abecf284",
   "metadata": {},
   "outputs": [
    {
     "data": {
      "text/plain": [
       "(5, 4)"
      ]
     },
     "execution_count": 129,
     "metadata": {},
     "output_type": "execute_result"
    }
   ],
   "source": [
    "y2 = y.T\n",
    "y2.shape"
   ]
  },
  {
   "cell_type": "code",
   "execution_count": 130,
   "id": "72cbeef7",
   "metadata": {},
   "outputs": [
    {
     "data": {
      "text/plain": [
       "array([[ 0,  5, 10, 15],\n",
       "       [ 1,  6, 11, 16],\n",
       "       [ 2,  7, 12, 17],\n",
       "       [ 3,  8, 13, 18],\n",
       "       [ 4,  9, 14, 19]])"
      ]
     },
     "execution_count": 130,
     "metadata": {},
     "output_type": "execute_result"
    }
   ],
   "source": [
    "y2\n"
   ]
  },
  {
   "cell_type": "code",
   "execution_count": 131,
   "id": "b7714bb1",
   "metadata": {},
   "outputs": [
    {
     "data": {
      "text/plain": [
       "(2, 3, 4)"
      ]
     },
     "execution_count": 131,
     "metadata": {},
     "output_type": "execute_result"
    }
   ],
   "source": [
    "y3 = np.arange(2*3*4).reshape(2, 3, 4)\n",
    "y3.shape"
   ]
  },
  {
   "cell_type": "code",
   "execution_count": 132,
   "id": "2107ebbe",
   "metadata": {},
   "outputs": [
    {
     "data": {
      "text/plain": [
       "(4, 3, 2)"
      ]
     },
     "execution_count": 132,
     "metadata": {},
     "output_type": "execute_result"
    }
   ],
   "source": [
    "y3.T.shape"
   ]
  },
  {
   "cell_type": "code",
   "execution_count": 134,
   "id": "ea7ebd5b",
   "metadata": {},
   "outputs": [
    {
     "data": {
      "text/plain": [
       "(2, 4, 3)"
      ]
     },
     "execution_count": 134,
     "metadata": {},
     "output_type": "execute_result"
    }
   ],
   "source": [
    "r= np.transpose(y3, axes=(0, 2, 1)) \n",
    "# 값: 원래 axis(위치), tuple index: 이동할 axis\n",
    "r.shape\n",
    "# y3 >>> 0->0, 2->1, 1->2\n"
   ]
  },
  {
   "cell_type": "markdown",
   "id": "c246d768",
   "metadata": {},
   "source": [
    "### 배열 연산\n",
    "\n",
    "##### 벡터화 - 벡터 연산\n",
    "- 같은 형태(shape)의 배열(벡터, 행렬)간의 연산은 같은 index의 원소끼리 연산을 한다. \n",
    "    - **Element-wise(원소별) 연산** 이라고도 한다.\n",
    "    - 배열간의 연산시 배열의 형태가 같아야 한다.\n",
    "    - 배열의 형태가 다른 경우 Broadcast 조건을 만족하면 연산이 가능하다."
   ]
  },
  {
   "cell_type": "markdown",
   "id": "a878044c",
   "metadata": {},
   "source": [
    "### 벡터/행렬과 스칼라간 연산\n",
    "\n",
    "$$\n",
    "\\begin{align}\n",
    "x=\n",
    "\\begin{bmatrix}\n",
    "1 \\\\\n",
    "2 \\\\\n",
    "3 \\\\\n",
    "\\end{bmatrix}\n",
    "\\end{align}\n",
    "$$\n",
    "\n",
    "$$\n",
    "\\begin{align}\n",
    "10 - x = 10 -\n",
    "\\begin{bmatrix}\n",
    "1 \\\\\n",
    "2 \\\\\n",
    "3 \\\\\n",
    "\\end{bmatrix}\n",
    "=\n",
    "\\begin{bmatrix}\n",
    "10 - 1 \\\\\n",
    "10 - 2 \\\\\n",
    "10 - 3 \\\\\n",
    "\\end{bmatrix}\n",
    "=\n",
    "\\begin{bmatrix}\n",
    "9 \\\\\n",
    "8 \\\\\n",
    "7 \\\\\n",
    "\\end{bmatrix}\n",
    "\\end{align}\n",
    "$$"
   ]
  },
  {
   "cell_type": "markdown",
   "id": "aba60354",
   "metadata": {},
   "source": [
    "$$\n",
    "\\begin{align}\n",
    "10 \\times\n",
    "\\begin{bmatrix}\n",
    "1 & 2 \\\\\n",
    "3 & 4\n",
    "\\end{bmatrix}\n",
    "=\n",
    "\\begin{bmatrix}\n",
    "10\\times1 & 10\\times2 \\\\\n",
    "10\\times3 & 10\\times4 \\\\\n",
    "\\end{bmatrix}\n",
    "=\n",
    "\\begin{bmatrix}\n",
    "10 & 20 \\\\\n",
    "30 & 40\n",
    "\\end{bmatrix}\n",
    "\\end{align}\n",
    "$$"
   ]
  },
  {
   "cell_type": "markdown",
   "id": "671f0003",
   "metadata": {},
   "source": [
    "### 벡터/행렬 간의 연산\n",
    "$$\n",
    "\\begin{align}\n",
    "\\begin{bmatrix}\n",
    "1 \\\\\n",
    "2 \\\\\n",
    "3 \\\\\n",
    "\\end{bmatrix}\n",
    "+\n",
    "\\begin{bmatrix}\n",
    "10 \\\\\n",
    "20 \\\\\n",
    "30 \\\\\n",
    "\\end{bmatrix}\n",
    "=\n",
    "\\begin{bmatrix}\n",
    "1 + 10 \\\\\n",
    "2 + 20 \\\\\n",
    "3 + 30 \\\\\n",
    "\\end{bmatrix}\n",
    "=\n",
    "\\begin{bmatrix}\n",
    "11 \\\\\n",
    "22 \\\\\n",
    "33 \\\\\n",
    "\\end{bmatrix}\n",
    "\\end{align}\n",
    "$$\n",
    "\n",
    "$$\n",
    "\\begin{align}\n",
    "\\begin{bmatrix}\n",
    "1 \\\\\n",
    "2 \\\\\n",
    "3 \\\\\n",
    "\\end{bmatrix}\n",
    "-\n",
    "\\begin{bmatrix}\n",
    "10 \\\\\n",
    "20 \\\\\n",
    "30 \\\\\n",
    "\\end{bmatrix}\n",
    "=\n",
    "\\begin{bmatrix}\n",
    "1 - 10 \\\\\n",
    "2 - 20 \\\\\n",
    "3 - 30 \\\\\n",
    "\\end{bmatrix}\n",
    "=\n",
    "\\begin{bmatrix}\n",
    "-9 \\\\\n",
    "-18 \\\\\n",
    "-27 \\\\\n",
    "\\end{bmatrix}\n",
    "\\end{align}\n",
    "$$"
   ]
  },
  {
   "cell_type": "markdown",
   "id": "d54dac09",
   "metadata": {},
   "source": [
    "$$\n",
    "\\begin{align}\n",
    "\\begin{bmatrix}\n",
    "1 & 2 \\\\\n",
    "3 & 4\n",
    "\\end{bmatrix}\n",
    "+\n",
    "\\begin{bmatrix}\n",
    "10 & 20 \\\\\n",
    "30 & 40 \\\\\n",
    "\\end{bmatrix}\n",
    "=\n",
    "\\begin{bmatrix}\n",
    "1+10 & 2+20 \\\\\n",
    "3+30 & 4+40\n",
    "\\end{bmatrix}\n",
    "=\n",
    "\\begin{bmatrix}\n",
    "11 & 22 \\\\\n",
    "33 & 44\n",
    "\\end{bmatrix}\n",
    "\\end{align}\n",
    "$$"
   ]
  },
  {
   "cell_type": "code",
   "execution_count": 135,
   "id": "0749a0c6",
   "metadata": {},
   "outputs": [],
   "source": [
    "import numpy as np\n",
    "\n",
    "x = np.arange(10).reshape(2,5)\n",
    "y = np.arange(10,20).reshape(2,5)\n",
    "z = np.arange(8).reshape(2, 4)"
   ]
  },
  {
   "cell_type": "code",
   "execution_count": 136,
   "id": "bbfd283c",
   "metadata": {},
   "outputs": [
    {
     "name": "stdout",
     "output_type": "stream",
     "text": [
      "[[0 1 2 3 4]\n",
      " [5 6 7 8 9]]\n",
      "[[10 11 12 13 14]\n",
      " [15 16 17 18 19]]\n"
     ]
    }
   ],
   "source": [
    "print(x)\n",
    "print(y)"
   ]
  },
  {
   "cell_type": "code",
   "execution_count": 22,
   "id": "521902ea",
   "metadata": {},
   "outputs": [
    {
     "data": {
      "text/plain": [
       "array([[10, 12, 14, 16, 18],\n",
       "       [20, 22, 24, 26, 28]])"
      ]
     },
     "execution_count": 22,
     "metadata": {},
     "output_type": "execute_result"
    }
   ],
   "source": [
    "x + y"
   ]
  },
  {
   "cell_type": "code",
   "execution_count": 137,
   "id": "170f12c2",
   "metadata": {},
   "outputs": [
    {
     "ename": "ValueError",
     "evalue": "operands could not be broadcast together with shapes (2,5) (2,4) ",
     "output_type": "error",
     "traceback": [
      "\u001b[31m---------------------------------------------------------------------------\u001b[39m",
      "\u001b[31mValueError\u001b[39m                                Traceback (most recent call last)",
      "\u001b[36mCell\u001b[39m\u001b[36m \u001b[39m\u001b[32mIn[137]\u001b[39m\u001b[32m, line 1\u001b[39m\n\u001b[32m----> \u001b[39m\u001b[32m1\u001b[39m \u001b[43mx\u001b[49m\u001b[43m \u001b[49m\u001b[43m>\u001b[49m\u001b[43m \u001b[49m\u001b[43mz\u001b[49m \u001b[38;5;66;03m# shape이 다르면 계산이 기본적으로는 안됨. (Error 잘 확인하기.)\u001b[39;00m\n",
      "\u001b[31mValueError\u001b[39m: operands could not be broadcast together with shapes (2,5) (2,4) "
     ]
    }
   ],
   "source": [
    "x > z # shape이 다르면 계산이 기본적으로는 안됨. (Error 잘 확인하기.)"
   ]
  },
  {
   "cell_type": "markdown",
   "id": "ca4491ef",
   "metadata": {},
   "source": [
    "#### 내적 (Dot product) 연산\n",
    "\n",
    "- `@` 연산자 또는 `numpy.dot(벡터/행렬, 벡터/행렬)`  함수 사용\n",
    "- 같은 index의 원소끼리 곱한뒤 결과를 모두 더한다.\n",
    "- 벡터간의 내적의 결과는 스칼라가 된다.\n",
    "- $ x \\cdot y $ 또는 $x^T y$로 표현\n",
    "- 조건\n",
    "    - 두 벡터의 차원(원소의개수)가 같아야 한다.\n",
    "    - 앞의 벡터는 행벡터 뒤의 벡터는 열벡터 이어야 한다.\n",
    "        - numpy 에서는 vector 끼리 연산시 앞의 벡터는 행벡터로 뒤의 벡터는 열벡터로 인식해 처리한다.\n",
    "\n",
    "            \n",
    "$$\n",
    "\\begin{align}\n",
    "x =\n",
    "\\begin{bmatrix}\n",
    "1 \\\\ 2 \\\\ 3 \\\\\n",
    "\\end{bmatrix}\n",
    ",\\;\\;\\;\n",
    "y = \n",
    "\\begin{bmatrix}\n",
    "4 \\\\ 5 \\\\ 6 \\\\\n",
    "\\end{bmatrix} \n",
    "\\end{align}\n",
    "$$\n",
    "\n",
    "$$\n",
    "\\begin{align}\n",
    "x^T y = \n",
    "\\begin{bmatrix}\n",
    "1 & 2 & 3\n",
    "\\end{bmatrix}\n",
    "\\begin{bmatrix}\n",
    "4 \\\\ 5 \\\\ 6 \\\\\n",
    "\\end{bmatrix} \n",
    "= 1 \\times 4 + 2 \\times 5 + 3 \\times 6 = 32\n",
    "\\end{align}\n",
    "$$            "
   ]
  },
  {
   "cell_type": "markdown",
   "id": "b2029809",
   "metadata": {},
   "source": [
    "#### 행렬 곱\n",
    "- 같은 index의 앞 행렬의 행과 뒤 행렬의 열간에 내적을 한다.\n",
    "- 행렬과 행렬을 내적하면 그 결과는 행렬이 된다.\n",
    "- 앞 행렬의 열수와 뒤 행렬의 행수가 같아야 한다.\n",
    "- 내적의 결과의 형태(shape)는 앞행렬의 행수와 뒤 행렬의 열의 형태를 가진다.\n",
    "    - (3 x 2)와 (2 x 5) = (3 x 5)\n",
    "    - (1 x 5)와 (5 x 1) = (1 x 1)  \n",
    "\n",
    "$$\n",
    "\\begin{align}\n",
    "A = \\begin{bmatrix} 1 & 2 & 3 \\\\ 4 & 5 & 6 \\end{bmatrix}\n",
    "\\end{align}\n",
    "$$\n",
    "\n",
    "$$\n",
    "\\begin{align}\n",
    "B = \\begin{bmatrix} 1 & 2 \\\\ 3 & 4 \\\\ 5 & 6 \\end{bmatrix}\n",
    "\\end{align}\n",
    "$$\n",
    "\n",
    "$$\n",
    "\\begin{align}\n",
    "A\\cdot B = \\begin{bmatrix} 1\\times 1 + 2\\times 3 + 3 \\times 5 & 1\\times 2 + 2\\times 4 + 3 \\times 6  \\\\ 4\\times 1 + 5\\times 3 + 6 \\times 5  & 4\\times 2 + 5\\times 4 + 6 \\times 6  \\end{bmatrix} = \n",
    "\\begin{bmatrix} 22 & 28 \\\\ 49 & 64 \\end{bmatrix}\n",
    "\\end{align}\n",
    "$$    "
   ]
  },
  {
   "cell_type": "code",
   "execution_count": 138,
   "id": "8509596d",
   "metadata": {},
   "outputs": [
    {
     "name": "stdout",
     "output_type": "stream",
     "text": [
      "[0 1 2 3 4] [0 1 2 3 4]\n"
     ]
    },
    {
     "data": {
      "text/plain": [
       "np.int64(30)"
      ]
     },
     "execution_count": 138,
     "metadata": {},
     "output_type": "execute_result"
    }
   ],
   "source": [
    "a = np.arange(5)\n",
    "b = np.arange(5)\n",
    "print(a, b)\n",
    "a @ b"
   ]
  },
  {
   "cell_type": "code",
   "execution_count": 142,
   "id": "30dbfb77",
   "metadata": {},
   "outputs": [
    {
     "data": {
      "text/plain": [
       "(np.int64(30), np.int64(30))"
      ]
     },
     "execution_count": 142,
     "metadata": {},
     "output_type": "execute_result"
    }
   ],
   "source": [
    "np.dot(a, b), np.sum(a * b) # = a@b =np.dot(a,b)\n"
   ]
  },
  {
   "cell_type": "code",
   "execution_count": 143,
   "id": "c75f064f",
   "metadata": {},
   "outputs": [],
   "source": [
    "# a + b\n",
    "# np.add(a, b)"
   ]
  },
  {
   "cell_type": "code",
   "execution_count": 144,
   "id": "995eb603",
   "metadata": {},
   "outputs": [],
   "source": [
    "x = np.arange(20).reshape(4,5)\n",
    "y = np.arange(20).reshape(4,5)\n",
    "z = np.arange(20).reshape(5,4)"
   ]
  },
  {
   "cell_type": "code",
   "execution_count": 145,
   "id": "26ee0296",
   "metadata": {},
   "outputs": [
    {
     "ename": "ValueError",
     "evalue": "matmul: Input operand 1 has a mismatch in its core dimension 0, with gufunc signature (n?,k),(k,m?)->(n?,m?) (size 4 is different from 5)",
     "output_type": "error",
     "traceback": [
      "\u001b[31m---------------------------------------------------------------------------\u001b[39m",
      "\u001b[31mValueError\u001b[39m                                Traceback (most recent call last)",
      "\u001b[36mCell\u001b[39m\u001b[36m \u001b[39m\u001b[32mIn[145]\u001b[39m\u001b[32m, line 1\u001b[39m\n\u001b[32m----> \u001b[39m\u001b[32m1\u001b[39m \u001b[43mx\u001b[49m\u001b[43m \u001b[49m\u001b[43m@\u001b[49m\u001b[43m \u001b[49m\u001b[43my\u001b[49m \u001b[38;5;66;03m#(4,5)@(4,5)\u001b[39;00m\n",
      "\u001b[31mValueError\u001b[39m: matmul: Input operand 1 has a mismatch in its core dimension 0, with gufunc signature (n?,k),(k,m?)->(n?,m?) (size 4 is different from 5)"
     ]
    }
   ],
   "source": [
    "x @ y #(4,5)@(4,5)"
   ]
  },
  {
   "cell_type": "code",
   "execution_count": 151,
   "id": "187e63f9",
   "metadata": {},
   "outputs": [
    {
     "data": {
      "text/plain": [
       "((4, 4),\n",
       " array([[120, 130, 140, 150],\n",
       "        [320, 355, 390, 425],\n",
       "        [520, 580, 640, 700],\n",
       "        [720, 805, 890, 975]]))"
      ]
     },
     "execution_count": 151,
     "metadata": {},
     "output_type": "execute_result"
    }
   ],
   "source": [
    "r = x @ z #(4,5) @ (5,4)\n",
    "r.shape, r"
   ]
  },
  {
   "cell_type": "code",
   "execution_count": 150,
   "id": "55bfc4b8",
   "metadata": {},
   "outputs": [
    {
     "data": {
      "text/plain": [
       "array([[120, 130, 140, 150],\n",
       "       [320, 355, 390, 425],\n",
       "       [520, 580, 640, 700],\n",
       "       [720, 805, 890, 975]])"
      ]
     },
     "execution_count": 150,
     "metadata": {},
     "output_type": "execute_result"
    }
   ],
   "source": [
    "r2 = np.dot(x, z)\n",
    "r2"
   ]
  },
  {
   "cell_type": "markdown",
   "id": "f1040ad6",
   "metadata": {},
   "source": [
    "#### 내적의 예\n",
    "##### 가중합 \n",
    "가격: 사과 2000, 귤 1000, 수박 10000    \n",
    "개수: 사과 10, 귤 20, 수박 2    \n",
    "총가격?    \n",
    "2000*10 + 1000 * 20 + 10000 * 2"
   ]
  },
  {
   "cell_type": "code",
   "execution_count": 152,
   "id": "2184a9aa",
   "metadata": {},
   "outputs": [
    {
     "data": {
      "text/plain": [
       "np.int64(60000)"
      ]
     },
     "execution_count": 152,
     "metadata": {},
     "output_type": "execute_result"
    }
   ],
   "source": [
    "p = np.array([2000, 1000, 10000])\n",
    "c = np.array([10, 20, 2])\n",
    "p @ c"
   ]
  },
  {
   "cell_type": "code",
   "execution_count": 157,
   "id": "ae7fc13e",
   "metadata": {},
   "outputs": [
    {
     "data": {
      "text/plain": [
       "array([[ 2000],\n",
       "       [ 1000],\n",
       "       [10000]])"
      ]
     },
     "execution_count": 157,
     "metadata": {},
     "output_type": "execute_result"
    }
   ],
   "source": [
    "p[..., np.newaxis] \n",
    "# (3, )->(3, 1) / 더미축 추가해서\n",
    "# 원래 갖고 있는 값 -> 곱하는 값은 그만큼 중요하니깐 값을 뻥튀기를 하는것.(영향을 주는 값.)"
   ]
  },
  {
   "cell_type": "code",
   "execution_count": 156,
   "id": "1bfe56b2",
   "metadata": {},
   "outputs": [
    {
     "data": {
      "text/plain": [
       "array([[ 60000],\n",
       "       [112000],\n",
       "       [144000],\n",
       "       [340000]])"
      ]
     },
     "execution_count": 156,
     "metadata": {},
     "output_type": "execute_result"
    }
   ],
   "source": [
    "c = np.array([[10, 20, 2], \n",
    "             [5, 2, 10],\n",
    "             [7, 30, 10],\n",
    "             [10, 20, 30]])\n",
    "c @ p[..., np.newaxis]  # 4 X 3  @ 3 X 1 "
   ]
  },
  {
   "cell_type": "markdown",
   "id": "b71f947c",
   "metadata": {},
   "source": [
    "#### 기술통계함수\n",
    "\n",
    "- 통계 결과를 계산해 주는 함수들\n",
    "- 구문\n",
    "    1. `np.전용함수(배열)`\n",
    "        - np.sum(x)\n",
    "    2. 일부는 `배열.전용함수()` 구문 지원\n",
    "        - x.sum()\n",
    "    - 공통 매개변수\n",
    "        - axis=None: 다차원 배열일 때 통계값을 계산할 axis(축)을 지정한다. None(기본값)은 flatten후 계산한다.\n",
    "        \n",
    "- 배열의 원소 중 누락된 값(NaN - Not a Number) 있을 경우 연산의 결과는 NaN으로 나온다.        \n",
    "- 안전모드 함수\n",
    "    - 배열내 누락된 값(NaN)을 무시하고 계산\n",
    "        \n",
    "- https://docs.scipy.org/doc/numpy-1.15.1/reference/routines.statistics.html"
   ]
  },
  {
   "cell_type": "code",
   "execution_count": 158,
   "id": "84ea5081",
   "metadata": {},
   "outputs": [
    {
     "data": {
      "text/plain": [
       "np.int64(6)"
      ]
     },
     "execution_count": 158,
     "metadata": {},
     "output_type": "execute_result"
    }
   ],
   "source": [
    "np.sum([1,2,3])"
   ]
  },
  {
   "cell_type": "code",
   "execution_count": null,
   "id": "10b66abc",
   "metadata": {},
   "outputs": [
    {
     "data": {
      "text/plain": [
       "(10,)"
      ]
     },
     "execution_count": 159,
     "metadata": {},
     "output_type": "execute_result"
    }
   ],
   "source": [
    "np.random.seed(0)\n",
    "arr = np.random.choice(100, size=10)\n",
    "arr = arr.astype('float32')\n",
    "arr.shape"
   ]
  },
  {
   "cell_type": "code",
   "execution_count": 160,
   "id": "31cf3207",
   "metadata": {},
   "outputs": [
    {
     "data": {
      "text/plain": [
       "array([44., 47., 64., 67., 67.,  9., 83., 21., 36., 87.], dtype=float32)"
      ]
     },
     "execution_count": 160,
     "metadata": {},
     "output_type": "execute_result"
    }
   ],
   "source": [
    "arr"
   ]
  },
  {
   "cell_type": "code",
   "execution_count": 161,
   "id": "6fb0ae04",
   "metadata": {},
   "outputs": [
    {
     "data": {
      "text/plain": [
       "(np.float32(525.0), np.float32(525.0))"
      ]
     },
     "execution_count": 161,
     "metadata": {},
     "output_type": "execute_result"
    }
   ],
   "source": [
    "arr.sum(), np.sum(arr)"
   ]
  },
  {
   "cell_type": "code",
   "execution_count": 162,
   "id": "52b3e554",
   "metadata": {},
   "outputs": [
    {
     "data": {
      "text/plain": [
       "(np.float32(87.0), np.float32(9.0))"
      ]
     },
     "execution_count": 162,
     "metadata": {},
     "output_type": "execute_result"
    }
   ],
   "source": [
    "arr.max(), arr.min()"
   ]
  },
  {
   "cell_type": "code",
   "execution_count": 164,
   "id": "bb36936c",
   "metadata": {},
   "outputs": [
    {
     "data": {
      "text/plain": [
       "(np.int64(9), np.int64(5))"
      ]
     },
     "execution_count": 164,
     "metadata": {},
     "output_type": "execute_result"
    }
   ],
   "source": [
    "arr.argmax(), arr.argmin()"
   ]
  },
  {
   "cell_type": "code",
   "execution_count": 165,
   "id": "2c05b638",
   "metadata": {},
   "outputs": [
    {
     "data": {
      "text/plain": [
       "np.float32(52.5)"
      ]
     },
     "execution_count": 165,
     "metadata": {},
     "output_type": "execute_result"
    }
   ],
   "source": [
    "arr.mean()"
   ]
  },
  {
   "cell_type": "code",
   "execution_count": 163,
   "id": "e3c3398a",
   "metadata": {},
   "outputs": [
    {
     "data": {
      "text/plain": [
       "np.float64(87.14285714285714)"
      ]
     },
     "execution_count": 163,
     "metadata": {},
     "output_type": "execute_result"
    }
   ],
   "source": [
    "np.average(a=[80, 90, 100], weights=[3, 3, 1]) #가중 평균"
   ]
  },
  {
   "cell_type": "code",
   "execution_count": 166,
   "id": "6b259552",
   "metadata": {},
   "outputs": [
    {
     "data": {
      "text/plain": [
       "np.float64(87.14285714285714)"
      ]
     },
     "execution_count": 166,
     "metadata": {},
     "output_type": "execute_result"
    }
   ],
   "source": [
    "x = np.array([80, 90, 100])\n",
    "w = np.array([3, 3, 1])\n",
    "(x @ w) / np.sum(w) "
   ]
  },
  {
   "cell_type": "code",
   "execution_count": 167,
   "id": "5bea5bc8",
   "metadata": {},
   "outputs": [
    {
     "data": {
      "text/plain": [
       "array([44., 47., 64., 67., 67.,  9., 83., 21., 36., 87.], dtype=float32)"
      ]
     },
     "execution_count": 167,
     "metadata": {},
     "output_type": "execute_result"
    }
   ],
   "source": [
    "arr"
   ]
  },
  {
   "cell_type": "code",
   "execution_count": 168,
   "id": "68270d30",
   "metadata": {},
   "outputs": [
    {
     "data": {
      "text/plain": [
       "array([44., 47., nan, 67., 67.,  9., 83., 21., 36., 87.], dtype=float32)"
      ]
     },
     "execution_count": 168,
     "metadata": {},
     "output_type": "execute_result"
    }
   ],
   "source": [
    "arr[2] = np.nan  #결측치\n",
    "arr"
   ]
  },
  {
   "cell_type": "code",
   "execution_count": 169,
   "id": "59fbf087",
   "metadata": {},
   "outputs": [
    {
     "name": "stdout",
     "output_type": "stream",
     "text": [
      "nan 461.0\n",
      "nan 51.22222\n",
      "nan 25.354279\n",
      "2 9\n",
      "nan 87.0\n"
     ]
    }
   ],
   "source": [
    "print(np.sum(arr), np.nansum(arr))\n",
    "print(np.mean(arr), np.nanmean(arr))\n",
    "print(np.std(arr), np.nanstd(arr))\n",
    "print(np.argmax(arr), np.nanargmax(arr)) \n",
    "print(np.max(arr), np.nanmax(arr))"
   ]
  },
  {
   "cell_type": "code",
   "execution_count": 170,
   "id": "8a290c0e",
   "metadata": {},
   "outputs": [
    {
     "data": {
      "text/plain": [
       "array([[ 1,  2,  3],\n",
       "       [ 4,  5,  6],\n",
       "       [ 7,  8,  9],\n",
       "       [10, 11, 12]])"
      ]
     },
     "execution_count": 170,
     "metadata": {},
     "output_type": "execute_result"
    }
   ],
   "source": [
    "arr2 = np.arange(1, 13).reshape(4, 3)\n",
    "arr2"
   ]
  },
  {
   "cell_type": "code",
   "execution_count": 171,
   "id": "6cbaffab",
   "metadata": {},
   "outputs": [
    {
     "data": {
      "text/plain": [
       "np.int64(78)"
      ]
     },
     "execution_count": 171,
     "metadata": {},
     "output_type": "execute_result"
    }
   ],
   "source": [
    "np.max(arr2) \n",
    "arr2.sum()"
   ]
  },
  {
   "cell_type": "code",
   "execution_count": 172,
   "id": "3317a4ed",
   "metadata": {},
   "outputs": [
    {
     "data": {
      "text/plain": [
       "array([10, 11, 12])"
      ]
     },
     "execution_count": 172,
     "metadata": {},
     "output_type": "execute_result"
    }
   ],
   "source": [
    "np.max(arr2, axis=0) "
   ]
  },
  {
   "cell_type": "code",
   "execution_count": 173,
   "id": "c5c60eb4",
   "metadata": {},
   "outputs": [
    {
     "data": {
      "text/plain": [
       "array([ 3,  6,  9, 12])"
      ]
     },
     "execution_count": 173,
     "metadata": {},
     "output_type": "execute_result"
    }
   ],
   "source": [
    "np.max(arr2, axis=1)"
   ]
  },
  {
   "cell_type": "code",
   "execution_count": 175,
   "id": "e2f7a984",
   "metadata": {},
   "outputs": [
    {
     "data": {
      "text/plain": [
       "(np.int64(78), array([22, 26, 30]), array([ 6, 15, 24, 33]))"
      ]
     },
     "execution_count": 175,
     "metadata": {},
     "output_type": "execute_result"
    }
   ],
   "source": [
    "arr2.sum(), arr2.sum(axis=0), arr2.sum(axis=1)"
   ]
  },
  {
   "cell_type": "markdown",
   "id": "ae54344a",
   "metadata": {},
   "source": [
    "#### 브로드캐스팅\n",
    "- 사전적의미 : 퍼트린다. 전파한다. \n",
    "- 형태(shape)가 다른 배열 연산시 배열의 형태를 맞춰 연산이 가능하도록 한다.\n",
    "    - 모든 형태를 다 맞추는 것은 아니고 조건이 맞아야 한다.\n",
    "- 조건\n",
    "    1. 두 배열의 축의 개수가 다르면 작은 축의개수를 가진 배열의 형태(shape)의 앞쪽을 1로 채운다.\n",
    "        - (2, 3)  + (3, ) => (2, 3) + (1, 3)\n",
    "    2. 두 배열의 차원 수가 같지만 각 차원의 크기가 다른 경우 어느 한 쪽에 1이 있으면 그 1이 다른 배열의 크기와 일치하도록 늘어난다.\n",
    "         - 1 이외의 나머지 축의 크기는 같아야 한다.\n",
    "         - 늘리면서 원소는 복사한다.\n",
    "         - (2, 3) + (1, 3) => (2, 3)+(2, 3)"
   ]
  },
  {
   "cell_type": "code",
   "execution_count": 176,
   "id": "c5583600",
   "metadata": {},
   "outputs": [
    {
     "ename": "ValueError",
     "evalue": "operands could not be broadcast together with shapes (3,) (2,) ",
     "output_type": "error",
     "traceback": [
      "\u001b[31m---------------------------------------------------------------------------\u001b[39m",
      "\u001b[31mValueError\u001b[39m                                Traceback (most recent call last)",
      "\u001b[36mCell\u001b[39m\u001b[36m \u001b[39m\u001b[32mIn[176]\u001b[39m\u001b[32m, line 3\u001b[39m\n\u001b[32m      1\u001b[39m x = np.array([\u001b[32m1\u001b[39m, \u001b[32m2\u001b[39m, \u001b[32m3\u001b[39m])  \n\u001b[32m      2\u001b[39m y = np.array([\u001b[32m1\u001b[39m, \u001b[32m5\u001b[39m])    \n\u001b[32m----> \u001b[39m\u001b[32m3\u001b[39m \u001b[43mx\u001b[49m\u001b[43m \u001b[49m\u001b[43m+\u001b[49m\u001b[43m \u001b[49m\u001b[43my\u001b[49m   \u001b[38;5;66;03m# 크기가 같지 않으니 error\u001b[39;00m\n",
      "\u001b[31mValueError\u001b[39m: operands could not be broadcast together with shapes (3,) (2,) "
     ]
    }
   ],
   "source": [
    "x = np.array([1, 2, 3])  \n",
    "y = np.array([1, 5])    \n",
    "x + y   # 크기가 같지 않으니 error"
   ]
  },
  {
   "cell_type": "code",
   "execution_count": 178,
   "id": "e685b6a4",
   "metadata": {},
   "outputs": [
    {
     "data": {
      "text/plain": [
       "((3, 2),\n",
       " (2,),\n",
       " array([[2., 2.],\n",
       "        [2., 2.],\n",
       "        [2., 2.]]))"
      ]
     },
     "execution_count": 178,
     "metadata": {},
     "output_type": "execute_result"
    }
   ],
   "source": [
    "a = np.ones((3, 2))\n",
    "b = np.ones((2,)) \n",
    "a.shape, b.shape, a + b"
   ]
  }
 ],
 "metadata": {
  "kernelspec": {
   "display_name": "ml",
   "language": "python",
   "name": "python3"
  },
  "language_info": {
   "codemirror_mode": {
    "name": "ipython",
    "version": 3
   },
   "file_extension": ".py",
   "mimetype": "text/x-python",
   "name": "python",
   "nbconvert_exporter": "python",
   "pygments_lexer": "ipython3",
   "version": "3.12.10"
  }
 },
 "nbformat": 4,
 "nbformat_minor": 5
}
