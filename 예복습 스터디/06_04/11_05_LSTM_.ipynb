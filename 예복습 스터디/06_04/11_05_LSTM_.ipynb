{
 "cells": [
  {
   "cell_type": "markdown",
   "id": "f55193d8",
   "metadata": {},
   "source": [
    "# Pytorch의 nn.Embedding\n",
    "- Pytorch의 Embedding Layer는 word2vec과 마찬가지로 word embedding vector를 찾는 **Lookup Table**이다.\n",
    "\t- 단어의 **정수의 고유 index**가 입력으로 들어오면 Embedding Layer의 **그 index의 Vector**를 출력한다.\n",
    "\t- 모델이 학습되는 동안 모델이 풀려는 문제에 맞는 값으로 Embedding Layer의 vector들이 업데이트 된다.\n",
    "\t- Word2Vec의 embedding vector 학습을 nn.Embedding은 자신이 포함된 모델을 학습 하는 과정에서 한다고 생각하면 된다."
   ]
  },
  {
   "cell_type": "code",
   "execution_count": 1,
   "id": "dee5f452",
   "metadata": {},
   "outputs": [],
   "source": [
    "import torch\n",
    "import torch.nn as nn"
   ]
  },
  {
   "cell_type": "code",
   "execution_count": 2,
   "id": "b8677d25",
   "metadata": {},
   "outputs": [],
   "source": [
    "embed = nn.Embedding(\n",
    "\tnum_embeddings=20_000,\t# vocab size (단어 사전의 단어 수) -> 총 몇개의 단어에 대한 embedding vector를 만들지 정해줌.\n",
    "\tembedding_dim=200,\t\t# embedding vector의 차원수 -> 개별 단어를 몇개의 숫자(feature)로 표현할지.\n",
    ")"
   ]
  },
  {
   "cell_type": "code",
   "execution_count": 3,
   "id": "92dcfee1",
   "metadata": {},
   "outputs": [
    {
     "data": {
      "text/plain": [
       "(Parameter containing:\n",
       " tensor([[-0.7084,  1.4051,  0.1674,  ...,  0.3495,  0.2591,  1.2196],\n",
       "         [-0.1932,  1.1073,  0.2111,  ..., -0.1337,  0.4864,  0.0935],\n",
       "         [ 0.9947,  1.6800, -0.0166,  ..., -0.2361,  0.4050, -0.7512],\n",
       "         ...,\n",
       "         [ 1.1706,  0.4713, -0.2551,  ..., -1.6107,  0.6850, -1.0676],\n",
       "         [ 0.1379, -0.9440,  0.0217,  ..., -1.3843,  0.5901,  0.1192],\n",
       "         [-0.2601, -0.3110, -1.0887,  ..., -0.3733, -0.1645,  1.7795]],\n",
       "        requires_grad=True),\n",
       " torch.Size([20000, 200]))"
      ]
     },
     "execution_count": 3,
     "metadata": {},
     "output_type": "execute_result"
    }
   ],
   "source": [
    "embed.weight, embed.weight.shape"
   ]
  },
  {
   "cell_type": "code",
   "execution_count": 4,
   "id": "eafacf26",
   "metadata": {},
   "outputs": [
    {
     "data": {
      "text/plain": [
       "torch.Size([3, 4, 200])"
      ]
     },
     "execution_count": 4,
     "metadata": {},
     "output_type": "execute_result"
    }
   ],
   "source": [
    "# embedding layer의 입력 : 문서를 구성하는 토큰들의 ID(int)를 1차원으로 묶어서 전달.\n",
    "\n",
    "# doc = 나는:30|어제:159|밥을:9000|먹었다:326\n",
    "doc = torch.tensor([[30, 158, 9000, 326],[30, 158, 9000, 326],[30, 158, 9000, 326]], dtype=torch.int64)\n",
    "embedding_vector = embed(doc)\n",
    "embedding_vector.shape\n",
    "\n",
    "# [3 : batch_size, 4 : seq_len, 200 : embedding vector 차원 수]"
   ]
  },
  {
   "cell_type": "markdown",
   "id": "1cf5441a",
   "metadata": {},
   "source": [
    "## 전처리된 dataset load"
   ]
  },
  {
   "cell_type": "code",
   "execution_count": 5,
   "id": "f8c4a3b6",
   "metadata": {},
   "outputs": [],
   "source": [
    "import pickle\n",
    "# pickle로 저장한 전처리한 dataset 읽어오기\n",
    "with open(\"datasets/nsmc/preprocessing_trainset.pkl\", \"rb\") as fr:\n",
    "\ttrain_dict = pickle.load(fr)\n",
    "\n",
    "with open(\"datasets/nsmc/preprocessing_testset.pkl\", \"rb\") as fr:\n",
    "\ttest_dict = pickle.load(fr)"
   ]
  },
  {
   "cell_type": "code",
   "execution_count": 8,
   "id": "3d8d5e7f",
   "metadata": {},
   "outputs": [
    {
     "data": {
      "text/plain": [
       "(200000, 150000, 50000)"
      ]
     },
     "execution_count": 8,
     "metadata": {},
     "output_type": "execute_result"
    }
   ],
   "source": [
    "train_inputs = train_dict[\"input\"]\n",
    "train_labels = train_dict[\"output\"]\n",
    "test_inputs = test_dict[\"input\"]\n",
    "test_labels = test_dict[\"output\"]\n",
    "\n",
    "all_inputs = train_inputs + test_inputs\t\t# vocab 만들 때 사용\n",
    "\n",
    "len(all_inputs), len(train_inputs), len(test_inputs)"
   ]
  },
  {
   "cell_type": "markdown",
   "id": "3007cab1",
   "metadata": {},
   "source": [
    "### 토큰화\n",
    "- Subword 방식 토큰화 적용\n",
    "- Byte Pair Encoding 방식으로 huggingface tokenizer 사용\n",
    "\t- BPE: 토큰을 글자 단위로 나눈뒤 가장 자주 등장하는 글자 쌍(byte paire)를 찾아 합친뒤 어휘사전에 추가한다.\n",
    "\t- https://huggingface.co/docs/tokenizers/quicktour\n",
    "\t- `pip install tokenizers`"
   ]
  },
  {
   "cell_type": "code",
   "execution_count": 9,
   "id": "60c1e26f",
   "metadata": {},
   "outputs": [],
   "source": [
    "from tokenizers import Tokenizer\n",
    "from tokenizers.models import BPE, Unigram, WordPiece\n",
    "from tokenizers.pre_tokenizers import Whitespace\n",
    "from tokenizers.trainers import BpeTrainer"
   ]
  },
  {
   "cell_type": "code",
   "execution_count": 10,
   "id": "64a5e4a3",
   "metadata": {},
   "outputs": [],
   "source": [
    "vocab_size = 30_000\t\t# vocab의 최대 단어 수\n",
    "min_frequency = 5\t\t# 사전에 추가할 최소 빈도수\n",
    "tokenizer = Tokenizer(\n",
    "\tBPE(unk_token=\"[UNK]\")\n",
    ")\n",
    "tokenizer.pre_tokenizer = Whitespace()\n",
    "trainer = BpeTrainer(\n",
    "\tvocab_size=vocab_size,\n",
    "\tmin_frequency=min_frequency,\n",
    "\tspecial_tokens=[\"[UNK]\", \"[PAD]\"],\n",
    "\tcontinuing_subword_prefix=\"##\"\n",
    "\t# 단어의 중간에 나오는 subword일 경우 앞에 ## 붙여주기\n",
    "\t# \"시작하는\" -> \"시작\", \"하는\" => \"시작\",\"##하는\"\n",
    ")\n",
    "tokenizer.train_from_iterator(all_inputs, trainer=trainer)\t# vocab 생성 == tokenizer학습"
   ]
  },
  {
   "cell_type": "markdown",
   "id": "15a95d5e",
   "metadata": {},
   "source": [
    "## Dataset, DataLoader 생성"
   ]
  },
  {
   "cell_type": "code",
   "execution_count": 11,
   "id": "89ce5722",
   "metadata": {},
   "outputs": [],
   "source": [
    "from torch.utils.data import Dataset, DataLoader\n",
    "\n",
    "class NSMCDataset(Dataset):\n",
    "\tdef __init__(self, texts, labels, max_length, tokenizer):\n",
    "\t\t\"\"\"\n",
    "\t\ttexts: list - 댓글 목록. 리스트에 댓글들을 담아서 받는다. [\"댓글\", \"댓글\", ...]\n",
    "\t\tlabels: list - 댓글 감정 목록. \n",
    "\t\tmax_length: 개별 댓글의 최대 token 개수. 모든 댓글의 토큰수를 max_length에 맞춘다.(Sequence 개수를 맞춘다)\n",
    "\t\ttokenizer: Tokenizer\n",
    "\t\t\"\"\"\n",
    "\t\tself.max_length = max_length\n",
    "\t\tself.tokenizer = tokenizer\n",
    "\t\tself.labels = labels\n",
    "\t\t# self.texts : 입력 댓글 - token id로 변환된 댓글(문서), 글자 수는 max_length에 맞춤\n",
    "\t\t#\t\t\t   max_length 보다 적으면 [PAD] 추가, max_length보다 많으면 잘라냄\n",
    "\t\tself.texts = [self.__pad_token_sequences(tokenizer.encode(txt).ids) for txt in texts]\n",
    "\n",
    "\t###########################################################################################\n",
    "\t# id로 구성된 개별 문장 tokenizer list를 받아서 패딩 추가 [20, 2, 1] => [20, 2, 1, 0, 0, 0, ..]\n",
    "\t# max_length에 token list의 개수를 맞춰주는 func\n",
    "\t############################################################################################\n",
    "\tdef __pad_token_sequences(self, token_sequences):\n",
    "\t\t\"\"\"\n",
    "\t\tid로 구성된 개별 문서(댓글)의 token_id list를 받아서 max_length 길이에 맞추는 메소드\n",
    "\t\tmax_length 보다 토큰수가 적으면 [PAD] 추가, 많으면 max_length 크기로 줄인다.\n",
    "\t\t\tex) max_length = 5, [PAD] token id가 0\n",
    "\t\t\t- [20, 2, 1] => [20, 2, 1, 0, 0]\n",
    "\t\t\t- [20, 30, 40, 50, 60, 70, 80][:5] -> [20, 30, 40, 50, 60]\n",
    "\t\t\"\"\"\n",
    "\t\tpad_token_id = self.tokenizer.token_to_id(\"[PAD]\")\n",
    "\t\tseq_len = len(token_sequences)\t# 입력받은 토큰 개수.\n",
    "\t\tresult = None\n",
    "\t\tif seq_len > self.max_length:\t# 잘라내기\n",
    "\t\t\tresult = token_sequences[:self.max_length]\n",
    "\t\telse:\n",
    "\t\t\tresult = token_sequences + ([pad_token_id] * (self.max_length - seq_len))\n",
    "\t\treturn result\n",
    "\n",
    "\tdef __len__(self):\n",
    "\t\treturn len(self.labels)\t\t# 총 data개수 반환\n",
    "\n",
    "\tdef __getitem__(self, idx):\n",
    "\t\t\"\"\"\n",
    "\t\tidx 번째 text와 label을 학습 가능한 type으로 변환해서 반환\n",
    "\t\tParameter\n",
    "\t\t\tidx: int 조회할 index\n",
    "\t\tReturn\n",
    "\t\t\ttuple: (torch.LongTensor, torch.FloatTensor) - 댓글 토큰_id 리스트, 정답 Label\n",
    "\t\t\"\"\"\n",
    "\t\ttxt = self.texts[idx]\n",
    "\t\tlabel = self.labels[idx]\n",
    "\t\treturn (torch.tensor(txt, dtype=torch.int64), torch.tensor([label], dtype=torch.float32))"
   ]
  },
  {
   "cell_type": "code",
   "execution_count": 12,
   "id": "2ac39c88",
   "metadata": {},
   "outputs": [],
   "source": [
    "MAX_LENGTH = 30\n",
    "trainset = NSMCDataset(train_inputs, train_labels, MAX_LENGTH, tokenizer)\n",
    "testset = NSMCDataset(test_inputs, test_labels, MAX_LENGTH, tokenizer)"
   ]
  },
  {
   "cell_type": "code",
   "execution_count": 13,
   "id": "da85bb1b",
   "metadata": {},
   "outputs": [],
   "source": [
    "BATCH_SIZE = 64\n",
    "train_loader = DataLoader(trainset, batch_size=BATCH_SIZE, shuffle=True, drop_last=True)\n",
    "test_loader = DataLoader(testset, batch_size=BATCH_SIZE)"
   ]
  },
  {
   "cell_type": "markdown",
   "id": "c40ec20d",
   "metadata": {},
   "source": [
    "# 모델링\n",
    "- Embedding Layer를 이용해 Word Embedding Vector를 추출한다.\n",
    "- LSTM을 이용해 Feature 추출\n",
    "- Linear + Sigmoid로 댓글 긍정일 확률 출력\n",
    "\n",
    "## 모델 정의"
   ]
  },
  {
   "cell_type": "code",
   "execution_count": 14,
   "id": "bfac69d9",
   "metadata": {},
   "outputs": [
    {
     "name": "stdout",
     "output_type": "stream",
     "text": [
      "cpu\n"
     ]
    }
   ],
   "source": [
    "import torch\n",
    "import torch.nn as nn\n",
    "from torchinfo import summary\n",
    "import numpy as np\n",
    "\n",
    "device = \"cuda\" if torch.cuda.is_available() else \"cpu\"\n",
    "print(device)"
   ]
  },
  {
   "cell_type": "code",
   "execution_count": 15,
   "id": "38f47aa7",
   "metadata": {},
   "outputs": [],
   "source": [
    "# model def\n",
    "class NSMCClassifier(nn.Module):\n",
    "\n",
    "\tdef __init__(self, vocab_size, embedding_dim, hidden_size, num_layers, bidireational=True, dropout_rate=0.2):\n",
    "\t\t\"\"\"\n",
    "\t\tArgs:\n",
    "\t\t\tvocab_size(int) : 어휘사전의 총 어휘수\n",
    "\t\t\tembedding_dim(int) : (word) embedding vector의 차원수\n",
    "\t\t\thidden_size(int) : LSTM의 hidden state의 feature 수\n",
    "\t\t\tnum_layers(int) : LSTM의 layer의 개수\n",
    "\t\t\tbidireational(bool) : LSTM의 양방향 여부\n",
    "\t\t\tdropout_rate(float) : LSTM이 두 개 이상의 layer로 구성된 경우 적용할 dropout 비율\n",
    "\t\t\t\t\t\t\t\t  Dropout Layer의 dropout 비율\n",
    "\t\t\"\"\"\n",
    "\t\tsuper().__init__()\n",
    "\t\t# model을 구성할 Layer들을 정의 : Embedding, LSTM, Dropout, Linear(추론기기), Sigmoid\n",
    "\n",
    "\t\tself.embedding = nn.Embedding(\n",
    "\t\t\tnum_embeddings=vocab_size,\t\t# 총 단어(토큰)수 -> tokenizer에 등록된 총 단어 수\n",
    "\t\t\tembedding_dim=embedding_dim,\t\t# embedding vector의 차원 수\n",
    "\t\t\tpadding_idx=0\t\t\t\t\t# [PAD]의 token ID(tokenizer.token_to_index(\"[PAD]\") 가 0인 것을 아니 그냥 0으로 넣어준것)\n",
    "\t\t\t\t\t\t\t\t\t\t\t# padding token은 학습하지 않는다.\n",
    "\t\t)\n",
    "\t\t# embedding layer의 출력 shape : (batch_size : 64, seq_len : 문서 토큰 수, embedding_dim)\n",
    "\n",
    "\t\tself.lstm= nn.LSTM(\n",
    "\t\t\tinput_size=embedding_dim,\t# 개별 토큰(단어)의 feature수(embedding -> LSTM)\n",
    "\t\t\thidden_size=hidden_size,\n",
    "\t\t\tnum_layers=num_layers,\n",
    "\t\t\tbidirectional=bidireational,\n",
    "\t\t\tdropout=dropout_rate if num_layers > 1 else 0\t# stacked rnn일 경우 설정.\n",
    "\t\t)\n",
    "\n",
    "\t\tself.dropout = nn.Dropout(dropout_rate)\t\t# LSTM과 Linear 사이에 과적합 방지를 위해서 사용\n",
    "\n",
    "\t\t# LSTM의 출력 : out, (hidden, cell)\n",
    "\t\t# out : 모든 timestep의 hidden state 값 [seq_len, batch, hidden * bidirectional ]\n",
    "\t\t# hidden : 마지막 timestep의 hidden state(단기 기억)\n",
    "\t\t# cell : 마지막 timestep의 cell state(장기 기억)\n",
    "\n",
    "\t\tinput_features = hidden_size*2 if bidireational else hidden_size\n",
    "\t\tself.classifier = nn.Linear(input_features, 1)\t# 출력 1: 이진분류 -> positive의 확률\n",
    "\t\tself.sigmoid = nn.Sigmoid()\t\t\t# classifier의 출력값을 확률(0 ~ 1)값으로 변환하는 func\n",
    "\n",
    "\n",
    "\tdef forward(self, X):\n",
    "\t\t\"\"\"\n",
    "\t\tArgs:\n",
    "\t\t\tX(tensor) : 입력 문서 토큰 list. shape : [batch_size, max_length : anstjxhzmstn] - [64, 30]\n",
    "\t\t\"\"\"\n",
    "\t\tembedding_vectors = self.embedding(X)\n",
    "\t\t# [batch, seq_len] -> embedding -> [batch_size, seq_len, embedding_dim]\n",
    "\t\t# LSTM - batch_first = False : 입력 shape - [seq_len, batch_size, embedding_dim]\\\n",
    "\t\t# embedding_vectors의 batch 축과 seq_len 축(값의 위치)을 바꿔준다!\n",
    "\t\tembedding_vectors = embedding_vectors.transpose(1,0)\t# 0번 축을 1번 축으로, 1번 축을 0번 축으로\n",
    "\t\tout, _ = self.lstm(embedding_vectors)\n",
    "\t\t# out.shape : [seq_len, batch_size, hidden_size * (2 if bidireational else 1)]\n",
    "\t\t# classifier(linear)에는 out의 마지막 index(마지막 seq) 값을 입력\n",
    "\t\toutput = self.dropout(out[-1])\n",
    "\t\toutput = self.classifier(output)\n",
    "\t\tlast_output = self.sigmoid(output)\n",
    "\n",
    "\t\treturn last_output\n"
   ]
  },
  {
   "cell_type": "markdown",
   "id": "6a2ca46d",
   "metadata": {},
   "source": [
    "## 모델 생성"
   ]
  },
  {
   "cell_type": "code",
   "execution_count": 16,
   "id": "bd24b476",
   "metadata": {},
   "outputs": [],
   "source": [
    "# Model 생성 전 변수들 먼저 선언\n",
    "VOCAB_SIZE = tokenizer.get_vocab_size()\t\t# 총 어휘수\n",
    "EMBEDDING_DIM = 100\n",
    "HIDDEN_SIZE = 64\n",
    "NUM_LAYERS = 2\n",
    "BIDIRECTIONAL = True\n",
    "DROPOUT_RATE = 0.3\n",
    "\n",
    "# model의 복잡도 올린다 -> EMBEDDING_DIM, HIDDEN_SIZE, NUM_LAYERS를 크게!\n",
    "# Auto regressive model이 아니면 BIDIRECTIONAL=True (양방향)"
   ]
  },
  {
   "cell_type": "code",
   "execution_count": 17,
   "id": "d31c3287",
   "metadata": {},
   "outputs": [
    {
     "name": "stdout",
     "output_type": "stream",
     "text": [
      "NSMCClassifier(\n",
      "  (embedding): Embedding(26739, 100, padding_idx=0)\n",
      "  (lstm): LSTM(100, 64, num_layers=2, dropout=0.3, bidirectional=True)\n",
      "  (dropout): Dropout(p=0.3, inplace=False)\n",
      "  (classifier): Linear(in_features=128, out_features=1, bias=True)\n",
      "  (sigmoid): Sigmoid()\n",
      ")\n"
     ]
    }
   ],
   "source": [
    "model = NSMCClassifier(\n",
    "\tvocab_size=VOCAB_SIZE,\n",
    "\tembedding_dim=EMBEDDING_DIM,\n",
    "\thidden_size=HIDDEN_SIZE,\n",
    "\tnum_layers=NUM_LAYERS,\n",
    "\tbidireational=BIDIRECTIONAL,\n",
    "\tdropout_rate=DROPOUT_RATE\n",
    ")\n",
    "\n",
    "model = model.to(device)\n",
    "print(model)"
   ]
  },
  {
   "cell_type": "code",
   "execution_count": 18,
   "id": "58cef336",
   "metadata": {},
   "outputs": [
    {
     "data": {
      "text/plain": [
       "==========================================================================================\n",
       "Layer (type:depth-idx)                   Output Shape              Param #\n",
       "==========================================================================================\n",
       "NSMCClassifier                           [64, 1]                   --\n",
       "├─Embedding: 1-1                         [64, 30, 100]             2,673,900\n",
       "├─LSTM: 1-2                              [30, 64, 128]             184,320\n",
       "├─Dropout: 1-3                           [64, 128]                 --\n",
       "├─Linear: 1-4                            [64, 1]                   129\n",
       "├─Sigmoid: 1-5                           [64, 1]                   --\n",
       "==========================================================================================\n",
       "Total params: 2,858,349\n",
       "Trainable params: 2,858,349\n",
       "Non-trainable params: 0\n",
       "Total mult-adds (Units.MEGABYTES): 525.03\n",
       "==========================================================================================\n",
       "Input size (MB): 0.02\n",
       "Forward/backward pass size (MB): 3.50\n",
       "Params size (MB): 11.43\n",
       "Estimated Total Size (MB): 14.95\n",
       "=========================================================================================="
      ]
     },
     "execution_count": 18,
     "metadata": {},
     "output_type": "execute_result"
    }
   ],
   "source": [
    "# summary\n",
    "i = torch.randint(1, 10, (64, MAX_LENGTH))\t# int64 type의 dummy input data 생성\n",
    "# input shape : ...\n",
    "summary(model, input_data= i, device=device)\n",
    "# summary(model, input_shape) -> 내부적으로 inputdata(float32)를 생성해서 추론함."
   ]
  },
  {
   "cell_type": "markdown",
   "id": "d31e5add",
   "metadata": {},
   "source": [
    "## 학습"
   ]
  },
  {
   "cell_type": "markdown",
   "id": "e14cc665",
   "metadata": {},
   "source": [
    "### Train/Test 함수 정의"
   ]
  },
  {
   "cell_type": "code",
   "execution_count": 19,
   "id": "fc590bd7",
   "metadata": {},
   "outputs": [],
   "source": [
    "# 1 epoch train하는 func\n",
    "def train(model, dataloader, loss_fn, optimizer, device=\"cpu\"):\n",
    "\t# 1. model을 train mode로 변환\n",
    "\tmodel.train()\n",
    "\t# 2. model을 device로 이동\n",
    "\tmodel = model.to(device)\n",
    "\ttotal_loss= 0.0 \t# step별 loss를 누적\n",
    "\n",
    "\t# step 단위로 model train (batch)\n",
    "\tfor X, y in dataloader:\n",
    "\t\t# 1. X, y를 device로 이동\n",
    "\t\tX, y = X.to(device), y.to(device)\n",
    "\t\t# 2. predict\n",
    "\t\tpred = model(X)\n",
    "\t\t# 3. loss cal\n",
    "\t\tloss = loss_fn(pred, y)\n",
    "\t\t# 4. Gradient cal\n",
    "\t\tloss.backward()\n",
    "\t\t# 5. parametor update (w.data - w.grad * lr)\n",
    "\t\toptimizer.step()\n",
    "\t\t# 6. Gradient 초기화\n",
    "\t\toptimizer.zero_grad()\n",
    "\t\t# loss 누적\n",
    "\t\ttotal_loss += loss.item()\n",
    "\t# 1 epoch train 완료\n",
    "\treturn total_loss / len(dataloader)\t\t# 1 epoch의 train loss return. (total loss / step 수)"
   ]
  },
  {
   "cell_type": "code",
   "execution_count": 20,
   "id": "d5b79f92",
   "metadata": {},
   "outputs": [],
   "source": [
    "# 1 epoch eval하는 func\n",
    "def test(model, dataloader, loss_fn, device=\"cpu\"):\n",
    "\t# 1. model을 eval mode로 변환\n",
    "\tmodel.eval()\n",
    "\t# 2. model을 devie로 이동\n",
    "\tmodel = model.to(device)\n",
    "\n",
    "\t#loss, accracy\n",
    "\ttotal_loss = 0.0\n",
    "\ttotal_acc = 0.0\n",
    "\n",
    "\twith torch.no_grad():\n",
    "\t\t# step 단위로 model eval\n",
    "\t\tfor X, y in dataloader:\n",
    "\t\t\t# 1. X, y를 device로 이동\n",
    "\t\t\tX, y = X.to(device), y.to(device)\n",
    "\t\t\t# 2. predict\n",
    "\t\t\tpred_proba = model(X)\t# 양성일 확률\n",
    "\t\t\tpred_label = (pred_proba > 0.5).type(torch.int32)\n",
    "\t\t\ttotal_loss += loss_fn(pred_proba, y).item()\n",
    "\t\t\ttotal_acc += (pred_label == y).sum().item()\n",
    "\n",
    "\t\t# loss, acc 값을 return\n",
    "\t\treturn total_loss / len(dataloader) , total_acc / len(dataloader.dataset)"
   ]
  },
  {
   "cell_type": "markdown",
   "id": "36117f7d",
   "metadata": {},
   "source": [
    "### Train"
   ]
  },
  {
   "cell_type": "code",
   "execution_count": 21,
   "id": "0b7b2c5a",
   "metadata": {},
   "outputs": [],
   "source": [
    "LR = 0.0001\n",
    "EPOCHS = 3\n",
    "loss_fn = nn.BCELoss()\n",
    "optimizer = torch.optim.Adam(model.parameters(), lr=LR)"
   ]
  },
  {
   "cell_type": "code",
   "execution_count": 30,
   "id": "bb895ade",
   "metadata": {},
   "outputs": [
    {
     "ename": "KeyboardInterrupt",
     "evalue": "",
     "output_type": "error",
     "traceback": [
      "\u001b[31m---------------------------------------------------------------------------\u001b[39m",
      "\u001b[31mKeyboardInterrupt\u001b[39m                         Traceback (most recent call last)",
      "\u001b[36mCell\u001b[39m\u001b[36m \u001b[39m\u001b[32mIn[30]\u001b[39m\u001b[32m, line 7\u001b[39m\n\u001b[32m      5\u001b[39m val_acc_list = []\n\u001b[32m      6\u001b[39m \u001b[38;5;28;01mfor\u001b[39;00m epoch \u001b[38;5;129;01min\u001b[39;00m \u001b[38;5;28mrange\u001b[39m(EPOCHS):\n\u001b[32m----> \u001b[39m\u001b[32m7\u001b[39m \ttrain_loss = \u001b[43mtrain\u001b[49m\u001b[43m(\u001b[49m\u001b[43mmodel\u001b[49m\u001b[43m,\u001b[49m\u001b[43m \u001b[49m\u001b[43mtrain_loader\u001b[49m\u001b[43m,\u001b[49m\u001b[43m \u001b[49m\u001b[43mloss_fn\u001b[49m\u001b[43m,\u001b[49m\u001b[43m \u001b[49m\u001b[43moptimizer\u001b[49m\u001b[43m,\u001b[49m\u001b[43m \u001b[49m\u001b[43mdevice\u001b[49m\u001b[43m)\u001b[49m\n\u001b[32m      8\u001b[39m \tval_loss, val_acc = test(model, test_loader, loss_fn, device)\n\u001b[32m      9\u001b[39m \ttrain_loss_list.append(train_loss)\n",
      "\u001b[36mCell\u001b[39m\u001b[36m \u001b[39m\u001b[32mIn[27]\u001b[39m\u001b[32m, line 14\u001b[39m, in \u001b[36mtrain\u001b[39m\u001b[34m(model, dataloader, loss_fn, optimizer, device)\u001b[39m\n\u001b[32m     12\u001b[39m X, y = X.to(device), y.to(device)\n\u001b[32m     13\u001b[39m \u001b[38;5;66;03m# 2. predict\u001b[39;00m\n\u001b[32m---> \u001b[39m\u001b[32m14\u001b[39m pred = \u001b[43mmodel\u001b[49m\u001b[43m(\u001b[49m\u001b[43mX\u001b[49m\u001b[43m)\u001b[49m\n\u001b[32m     15\u001b[39m \u001b[38;5;66;03m# 3. loss cal\u001b[39;00m\n\u001b[32m     16\u001b[39m loss = loss_fn(pred, y)\n",
      "\u001b[36mFile \u001b[39m\u001b[32mc:\\Users\\Playdata\\miniconda3\\envs\\dl\\Lib\\site-packages\\torch\\nn\\modules\\module.py:1751\u001b[39m, in \u001b[36mModule._wrapped_call_impl\u001b[39m\u001b[34m(self, *args, **kwargs)\u001b[39m\n\u001b[32m   1749\u001b[39m     \u001b[38;5;28;01mreturn\u001b[39;00m \u001b[38;5;28mself\u001b[39m._compiled_call_impl(*args, **kwargs)  \u001b[38;5;66;03m# type: ignore[misc]\u001b[39;00m\n\u001b[32m   1750\u001b[39m \u001b[38;5;28;01melse\u001b[39;00m:\n\u001b[32m-> \u001b[39m\u001b[32m1751\u001b[39m     \u001b[38;5;28;01mreturn\u001b[39;00m \u001b[38;5;28;43mself\u001b[39;49m\u001b[43m.\u001b[49m\u001b[43m_call_impl\u001b[49m\u001b[43m(\u001b[49m\u001b[43m*\u001b[49m\u001b[43margs\u001b[49m\u001b[43m,\u001b[49m\u001b[43m \u001b[49m\u001b[43m*\u001b[49m\u001b[43m*\u001b[49m\u001b[43mkwargs\u001b[49m\u001b[43m)\u001b[49m\n",
      "\u001b[36mFile \u001b[39m\u001b[32mc:\\Users\\Playdata\\miniconda3\\envs\\dl\\Lib\\site-packages\\torch\\nn\\modules\\module.py:1762\u001b[39m, in \u001b[36mModule._call_impl\u001b[39m\u001b[34m(self, *args, **kwargs)\u001b[39m\n\u001b[32m   1757\u001b[39m \u001b[38;5;66;03m# If we don't have any hooks, we want to skip the rest of the logic in\u001b[39;00m\n\u001b[32m   1758\u001b[39m \u001b[38;5;66;03m# this function, and just call forward.\u001b[39;00m\n\u001b[32m   1759\u001b[39m \u001b[38;5;28;01mif\u001b[39;00m \u001b[38;5;129;01mnot\u001b[39;00m (\u001b[38;5;28mself\u001b[39m._backward_hooks \u001b[38;5;129;01mor\u001b[39;00m \u001b[38;5;28mself\u001b[39m._backward_pre_hooks \u001b[38;5;129;01mor\u001b[39;00m \u001b[38;5;28mself\u001b[39m._forward_hooks \u001b[38;5;129;01mor\u001b[39;00m \u001b[38;5;28mself\u001b[39m._forward_pre_hooks\n\u001b[32m   1760\u001b[39m         \u001b[38;5;129;01mor\u001b[39;00m _global_backward_pre_hooks \u001b[38;5;129;01mor\u001b[39;00m _global_backward_hooks\n\u001b[32m   1761\u001b[39m         \u001b[38;5;129;01mor\u001b[39;00m _global_forward_hooks \u001b[38;5;129;01mor\u001b[39;00m _global_forward_pre_hooks):\n\u001b[32m-> \u001b[39m\u001b[32m1762\u001b[39m     \u001b[38;5;28;01mreturn\u001b[39;00m \u001b[43mforward_call\u001b[49m\u001b[43m(\u001b[49m\u001b[43m*\u001b[49m\u001b[43margs\u001b[49m\u001b[43m,\u001b[49m\u001b[43m \u001b[49m\u001b[43m*\u001b[49m\u001b[43m*\u001b[49m\u001b[43mkwargs\u001b[49m\u001b[43m)\u001b[49m\n\u001b[32m   1764\u001b[39m result = \u001b[38;5;28;01mNone\u001b[39;00m\n\u001b[32m   1765\u001b[39m called_always_called_hooks = \u001b[38;5;28mset\u001b[39m()\n",
      "\u001b[36mCell\u001b[39m\u001b[36m \u001b[39m\u001b[32mIn[23]\u001b[39m\u001b[32m, line 56\u001b[39m, in \u001b[36mNSMCClassifier.forward\u001b[39m\u001b[34m(self, X)\u001b[39m\n\u001b[32m     52\u001b[39m \u001b[38;5;66;03m# [batch, seq_len] -> embedding -> [batch_size, seq_len, embedding_dim]\u001b[39;00m\n\u001b[32m     53\u001b[39m \u001b[38;5;66;03m# LSTM - batch_first = False : 입력 shape - [seq_len, batch_size, embedding_dim]\\\u001b[39;00m\n\u001b[32m     54\u001b[39m \u001b[38;5;66;03m# embedding_vectors의 batch 축과 seq_len 축(값의 위치)을 바꿔준다!\u001b[39;00m\n\u001b[32m     55\u001b[39m embedding_vectors = embedding_vectors.transpose(\u001b[32m1\u001b[39m,\u001b[32m0\u001b[39m)\t\u001b[38;5;66;03m# 0번 축을 1번 축으로, 1번 축을 0번 축으로\u001b[39;00m\n\u001b[32m---> \u001b[39m\u001b[32m56\u001b[39m out, _ = \u001b[38;5;28;43mself\u001b[39;49m\u001b[43m.\u001b[49m\u001b[43mlstm\u001b[49m\u001b[43m(\u001b[49m\u001b[43membedding_vectors\u001b[49m\u001b[43m)\u001b[49m\n\u001b[32m     57\u001b[39m \u001b[38;5;66;03m# out.shape : [seq_len, batch_size, hidden_size * (2 if bidireational else 1)]\u001b[39;00m\n\u001b[32m     58\u001b[39m \u001b[38;5;66;03m# classifier(linear)에는 out의 마지막 index(마지막 seq) 값을 입력\u001b[39;00m\n\u001b[32m     59\u001b[39m output = \u001b[38;5;28mself\u001b[39m.dropout(out[-\u001b[32m1\u001b[39m])\n",
      "\u001b[36mFile \u001b[39m\u001b[32mc:\\Users\\Playdata\\miniconda3\\envs\\dl\\Lib\\site-packages\\torch\\nn\\modules\\module.py:1751\u001b[39m, in \u001b[36mModule._wrapped_call_impl\u001b[39m\u001b[34m(self, *args, **kwargs)\u001b[39m\n\u001b[32m   1749\u001b[39m     \u001b[38;5;28;01mreturn\u001b[39;00m \u001b[38;5;28mself\u001b[39m._compiled_call_impl(*args, **kwargs)  \u001b[38;5;66;03m# type: ignore[misc]\u001b[39;00m\n\u001b[32m   1750\u001b[39m \u001b[38;5;28;01melse\u001b[39;00m:\n\u001b[32m-> \u001b[39m\u001b[32m1751\u001b[39m     \u001b[38;5;28;01mreturn\u001b[39;00m \u001b[38;5;28;43mself\u001b[39;49m\u001b[43m.\u001b[49m\u001b[43m_call_impl\u001b[49m\u001b[43m(\u001b[49m\u001b[43m*\u001b[49m\u001b[43margs\u001b[49m\u001b[43m,\u001b[49m\u001b[43m \u001b[49m\u001b[43m*\u001b[49m\u001b[43m*\u001b[49m\u001b[43mkwargs\u001b[49m\u001b[43m)\u001b[49m\n",
      "\u001b[36mFile \u001b[39m\u001b[32mc:\\Users\\Playdata\\miniconda3\\envs\\dl\\Lib\\site-packages\\torch\\nn\\modules\\module.py:1762\u001b[39m, in \u001b[36mModule._call_impl\u001b[39m\u001b[34m(self, *args, **kwargs)\u001b[39m\n\u001b[32m   1757\u001b[39m \u001b[38;5;66;03m# If we don't have any hooks, we want to skip the rest of the logic in\u001b[39;00m\n\u001b[32m   1758\u001b[39m \u001b[38;5;66;03m# this function, and just call forward.\u001b[39;00m\n\u001b[32m   1759\u001b[39m \u001b[38;5;28;01mif\u001b[39;00m \u001b[38;5;129;01mnot\u001b[39;00m (\u001b[38;5;28mself\u001b[39m._backward_hooks \u001b[38;5;129;01mor\u001b[39;00m \u001b[38;5;28mself\u001b[39m._backward_pre_hooks \u001b[38;5;129;01mor\u001b[39;00m \u001b[38;5;28mself\u001b[39m._forward_hooks \u001b[38;5;129;01mor\u001b[39;00m \u001b[38;5;28mself\u001b[39m._forward_pre_hooks\n\u001b[32m   1760\u001b[39m         \u001b[38;5;129;01mor\u001b[39;00m _global_backward_pre_hooks \u001b[38;5;129;01mor\u001b[39;00m _global_backward_hooks\n\u001b[32m   1761\u001b[39m         \u001b[38;5;129;01mor\u001b[39;00m _global_forward_hooks \u001b[38;5;129;01mor\u001b[39;00m _global_forward_pre_hooks):\n\u001b[32m-> \u001b[39m\u001b[32m1762\u001b[39m     \u001b[38;5;28;01mreturn\u001b[39;00m \u001b[43mforward_call\u001b[49m\u001b[43m(\u001b[49m\u001b[43m*\u001b[49m\u001b[43margs\u001b[49m\u001b[43m,\u001b[49m\u001b[43m \u001b[49m\u001b[43m*\u001b[49m\u001b[43m*\u001b[49m\u001b[43mkwargs\u001b[49m\u001b[43m)\u001b[49m\n\u001b[32m   1764\u001b[39m result = \u001b[38;5;28;01mNone\u001b[39;00m\n\u001b[32m   1765\u001b[39m called_always_called_hooks = \u001b[38;5;28mset\u001b[39m()\n",
      "\u001b[36mFile \u001b[39m\u001b[32mc:\\Users\\Playdata\\miniconda3\\envs\\dl\\Lib\\site-packages\\torch\\nn\\modules\\rnn.py:1124\u001b[39m, in \u001b[36mLSTM.forward\u001b[39m\u001b[34m(self, input, hx)\u001b[39m\n\u001b[32m   1121\u001b[39m         hx = \u001b[38;5;28mself\u001b[39m.permute_hidden(hx, sorted_indices)\n\u001b[32m   1123\u001b[39m \u001b[38;5;28;01mif\u001b[39;00m batch_sizes \u001b[38;5;129;01mis\u001b[39;00m \u001b[38;5;28;01mNone\u001b[39;00m:\n\u001b[32m-> \u001b[39m\u001b[32m1124\u001b[39m     result = \u001b[43m_VF\u001b[49m\u001b[43m.\u001b[49m\u001b[43mlstm\u001b[49m\u001b[43m(\u001b[49m\n\u001b[32m   1125\u001b[39m \u001b[43m        \u001b[49m\u001b[38;5;28;43minput\u001b[39;49m\u001b[43m,\u001b[49m\n\u001b[32m   1126\u001b[39m \u001b[43m        \u001b[49m\u001b[43mhx\u001b[49m\u001b[43m,\u001b[49m\n\u001b[32m   1127\u001b[39m \u001b[43m        \u001b[49m\u001b[38;5;28;43mself\u001b[39;49m\u001b[43m.\u001b[49m\u001b[43m_flat_weights\u001b[49m\u001b[43m,\u001b[49m\u001b[43m  \u001b[49m\u001b[38;5;66;43;03m# type: ignore[arg-type]\u001b[39;49;00m\n\u001b[32m   1128\u001b[39m \u001b[43m        \u001b[49m\u001b[38;5;28;43mself\u001b[39;49m\u001b[43m.\u001b[49m\u001b[43mbias\u001b[49m\u001b[43m,\u001b[49m\n\u001b[32m   1129\u001b[39m \u001b[43m        \u001b[49m\u001b[38;5;28;43mself\u001b[39;49m\u001b[43m.\u001b[49m\u001b[43mnum_layers\u001b[49m\u001b[43m,\u001b[49m\n\u001b[32m   1130\u001b[39m \u001b[43m        \u001b[49m\u001b[38;5;28;43mself\u001b[39;49m\u001b[43m.\u001b[49m\u001b[43mdropout\u001b[49m\u001b[43m,\u001b[49m\n\u001b[32m   1131\u001b[39m \u001b[43m        \u001b[49m\u001b[38;5;28;43mself\u001b[39;49m\u001b[43m.\u001b[49m\u001b[43mtraining\u001b[49m\u001b[43m,\u001b[49m\n\u001b[32m   1132\u001b[39m \u001b[43m        \u001b[49m\u001b[38;5;28;43mself\u001b[39;49m\u001b[43m.\u001b[49m\u001b[43mbidirectional\u001b[49m\u001b[43m,\u001b[49m\n\u001b[32m   1133\u001b[39m \u001b[43m        \u001b[49m\u001b[38;5;28;43mself\u001b[39;49m\u001b[43m.\u001b[49m\u001b[43mbatch_first\u001b[49m\u001b[43m,\u001b[49m\n\u001b[32m   1134\u001b[39m \u001b[43m    \u001b[49m\u001b[43m)\u001b[49m\n\u001b[32m   1135\u001b[39m \u001b[38;5;28;01melse\u001b[39;00m:\n\u001b[32m   1136\u001b[39m     result = _VF.lstm(\n\u001b[32m   1137\u001b[39m         \u001b[38;5;28minput\u001b[39m,\n\u001b[32m   1138\u001b[39m         batch_sizes,\n\u001b[32m   (...)\u001b[39m\u001b[32m   1145\u001b[39m         \u001b[38;5;28mself\u001b[39m.bidirectional,\n\u001b[32m   1146\u001b[39m     )\n",
      "\u001b[31mKeyboardInterrupt\u001b[39m: "
     ]
    }
   ],
   "source": [
    "import time\n",
    "s = time.time()\n",
    "train_loss_list = []\n",
    "val_loss_list = []\n",
    "val_acc_list = []\n",
    "for epoch in range(EPOCHS):\n",
    "\ttrain_loss = train(model, train_loader, loss_fn, optimizer, device)\n",
    "\tval_loss, val_acc = test(model, test_loader, loss_fn, device)\n",
    "\ttrain_loss_list.append(train_loss)\n",
    "\tval_loss_list.append(val_loss)\n",
    "\tval_acc_list.append(val_acc)\n",
    "\tprint(f\"[{epoch}/{EPOCHS}] train loss : {train_loss}, val loss : {val_loss}, val acc : {val_acc}\")\n",
    "e = time.time()\n",
    "print(e-s)"
   ]
  },
  {
   "cell_type": "markdown",
   "id": "6b1ba402",
   "metadata": {},
   "source": [
    "## 모델 save/load"
   ]
  },
  {
   "cell_type": "code",
   "execution_count": null,
   "id": "fb56e1bc",
   "metadata": {},
   "outputs": [],
   "source": [
    "# save\n",
    "torch.save(model, \"model.pt\")"
   ]
  },
  {
   "cell_type": "code",
   "execution_count": 38,
   "id": "e0af5da9",
   "metadata": {},
   "outputs": [
    {
     "data": {
      "text/plain": [
       "NSMCClassifier(\n",
       "  (embedding): Embedding(26737, 100, padding_idx=0)\n",
       "  (lstm): LSTM(100, 64, num_layers=2, dropout=0.3, bidirectional=True)\n",
       "  (dropout): Dropout(p=0.3, inplace=False)\n",
       "  (classifier): Linear(in_features=128, out_features=1, bias=True)\n",
       "  (sigmoid): Sigmoid()\n",
       ")"
      ]
     },
     "execution_count": 38,
     "metadata": {},
     "output_type": "execute_result"
    }
   ],
   "source": [
    "import torch\n",
    "# load\n",
    "load_model = torch.load(\"model.pt\", weights_only=False)\n",
    "load_model"
   ]
  },
  {
   "cell_type": "markdown",
   "id": "060d45d9",
   "metadata": {},
   "source": [
    "## 전처리 함수들"
   ]
  },
  {
   "cell_type": "code",
   "execution_count": 23,
   "id": "d4cb62cf",
   "metadata": {},
   "outputs": [],
   "source": [
    "from konlpy.tag import Okt\n",
    "\n",
    "morph_tokenizer = Okt()\n",
    "\n",
    "def text_preprocessing(text):\n",
    "\t\n",
    "\ttext = text.lower()\n",
    "\ttext = re.sub(f\"[{string.punctuation}]+\", ' ', text)\n",
    "\treturn ' '.join(morph_tokenizer.morphs(text, stem=True))"
   ]
  },
  {
   "cell_type": "code",
   "execution_count": 24,
   "id": "e0a9da50",
   "metadata": {},
   "outputs": [],
   "source": [
    "def pad_token_sequences(token_sequences, max_length):\n",
    "\t\"\"\"padding 처리 메소드.\"\"\"\n",
    "\tpad_token = tokenizer.token_to_id('[PAD]')  \n",
    "\tseq_length = len(token_sequences)           \n",
    "\tresult = None\n",
    "\tif seq_length > max_length:                 \n",
    "\t\tresult = token_sequences[:max_length]\n",
    "\telse:                                            \n",
    "\t\tresult = token_sequences + ([pad_token] * (max_length - seq_length))\n",
    "\treturn result"
   ]
  },
  {
   "cell_type": "code",
   "execution_count": 25,
   "id": "499afe29",
   "metadata": {},
   "outputs": [],
   "source": [
    "def predict_data_preprocessing(text_list):\n",
    "\t\"\"\"\n",
    "\t모델에 입력할 수있는 input data를 생성\n",
    "\tParameter:\n",
    "\t\ttext_list: list - 추론할 댓글리스트\n",
    "\tReturn\n",
    "\t\ttorch.LongTensor - 댓글 token_id tensor\n",
    "\t\"\"\"\n",
    "\n",
    "\t# cleansing + 정규화 \n",
    "\ttext_list = [text_preprocessing(txt) for txt in text_list]\n",
    "\t# text -> 토큰화\n",
    "\ttoken_list = [tokenizer.encode(txt).ids for txt in text_list]\n",
    "\t# token list의 size를 max_length에 맞추기\n",
    "\ttoken_list = [pad_token_sequences(token, MAX_LENGTH) for token in token_list]\n",
    "\n",
    "\treturn torch.tensor(token_list, dtype=torch.int64)"
   ]
  },
  {
   "cell_type": "markdown",
   "id": "2f42c1f3",
   "metadata": {},
   "source": [
    "## 추론"
   ]
  },
  {
   "cell_type": "code",
   "execution_count": 33,
   "id": "cefbfd6f",
   "metadata": {},
   "outputs": [
    {
     "data": {
      "text/plain": [
       "tensor([[ 1986,  5426,  5471,     1,     1,     1,     1,     1,     1,     1,\n",
       "             1,     1,     1,     1,     1,     1,     1,     1,     1,     1,\n",
       "             1,     1,     1,     1,     1,     1,     1,     1,     1,     1],\n",
       "        [ 5940, 11677,  5561,  2907,  2128,     1,     1,     1,     1,     1,\n",
       "             1,     1,     1,     1,     1,     1,     1,     1,     1,     1,\n",
       "             1,     1,     1,     1,     1,     1,     1,     1,     1,     1],\n",
       "        [ 2206,   548,  5408,  5545,  5439,     1,     1,     1,     1,     1,\n",
       "             1,     1,     1,     1,     1,     1,     1,     1,     1,     1,\n",
       "             1,     1,     1,     1,     1,     1,     1,     1,     1,     1],\n",
       "        [ 5517,  1988,  5470,  5410,  5482,  5549,     1,     1,     1,     1,\n",
       "             1,     1,     1,     1,     1,     1,     1,     1,     1,     1,\n",
       "             1,     1,     1,     1,     1,     1,     1,     1,     1,     1],\n",
       "        [ 2206,   548,  5408,  5545,  5439,     1,     1,     1,     1,     1,\n",
       "             1,     1,     1,     1,     1,     1,     1,     1,     1,     1,\n",
       "             1,     1,     1,     1,     1,     1,     1,     1,     1,     1],\n",
       "        [ 1986,  1440,  2014,  5426,     1,     1,     1,     1,     1,     1,\n",
       "             1,     1,     1,     1,     1,     1,     1,     1,     1,     1,\n",
       "             1,     1,     1,     1,     1,     1,     1,     1,     1,     1],\n",
       "        [ 5465,     1,     1,     1,     1,     1,     1,     1,     1,     1,\n",
       "             1,     1,     1,     1,     1,     1,     1,     1,     1,     1,\n",
       "             1,     1,     1,     1,     1,     1,     1,     1,     1,     1],\n",
       "        [ 5434,  2408,  5417,  5596,   988,  1549, 25393,  1022,  5415,     1,\n",
       "             1,     1,     1,     1,     1,     1,     1,     1,     1,     1,\n",
       "             1,     1,     1,     1,     1,     1,     1,     1,     1,     1],\n",
       "        [ 1440,  6740,     1,     1,     1,     1,     1,     1,     1,     1,\n",
       "             1,     1,     1,     1,     1,     1,     1,     1,     1,     1,\n",
       "             1,     1,     1,     1,     1,     1,     1,     1,     1,     1]])"
      ]
     },
     "execution_count": 33,
     "metadata": {},
     "output_type": "execute_result"
    }
   ],
   "source": [
    "import re, string\n",
    "comment_list = [\"아 진짜 재미없다.\", \"여기 식당 먹을만 해요\", \"이걸 영화라고 만들었냐?\", \"기대 안하고 봐서 그런지 괜찮은데.\", \"이걸 영화라고 만들었나?\", \"아! 뭐야 진짜.\", \"재미있는데.\", \"연기 짱 좋아. 한번 더 볼 의향도 있다.\", \"뭐 그럭저럭\"]\n",
    "input_tensor = predict_data_preprocessing(comment_list)\n",
    "input_tensor"
   ]
  },
  {
   "cell_type": "code",
   "execution_count": 34,
   "id": "906e60ea",
   "metadata": {},
   "outputs": [],
   "source": [
    "def predict(model, comment_list:list[str], input_tensor:torch.tensor, device=\"cpu\"):\n",
    "\t\"\"\"\n",
    "\tmodel로 input_tensor를 추론해서 긍정/부정적인 댓글인지 출력\n",
    "\t출력 형식\n",
    "\t\tcomment(댓글) label 확률\n",
    "\t\t\"아 노잼\"\t   부정\t 0.9\t(부정일 확률)\n",
    "\t\t\"꿀잼 ㅋ\"\t   긍정  0.87\t(긍정일 확률)\n",
    "\t\"\"\"\n",
    "\n",
    "\t# 1. model을 eval mode로 변환\n",
    "\tmodel.eval()\n",
    "\t# 2. model을 device로 이동\n",
    "\tmodel = model.to(device)\n",
    "\t# input_tensor = input_tensor.to(device)\n",
    "\n",
    "\t\n",
    "\twith torch.no_grad():\t# 추론 과정이니까\n",
    "\t\tpred = model(input_tensor)\t# shape : (batch, 1) -> Positive일 확률값\n",
    "\t\tprint(pred)\n",
    "\t\tfor txt, pos_proba in zip(comment_list, pred):\n",
    "\t\t\tlabel = \"긍정적\" if pos_proba.item() > 0.5 else \"부정적\"\n",
    "\t\t\tproba =\tpos_proba.item() if pos_proba.item() > 0.5 else 1-pos_proba.item()\t\t# 확률\n",
    "\t\t\tprint(txt, label, round(proba, 3), sep=\"\\t\")"
   ]
  },
  {
   "cell_type": "code",
   "execution_count": 39,
   "id": "f5a5b55c",
   "metadata": {},
   "outputs": [
    {
     "name": "stdout",
     "output_type": "stream",
     "text": [
      "tensor([[0.4584],\n",
      "        [0.5452],\n",
      "        [0.4386],\n",
      "        [0.5529],\n",
      "        [0.4386],\n",
      "        [0.4592],\n",
      "        [0.5762],\n",
      "        [0.8015],\n",
      "        [0.5042]])\n",
      "아 진짜 재미없다.\t부정적\t0.542\n",
      "여기 식당 먹을만 해요\t긍정적\t0.545\n",
      "이걸 영화라고 만들었냐?\t부정적\t0.561\n",
      "기대 안하고 봐서 그런지 괜찮은데.\t긍정적\t0.553\n",
      "이걸 영화라고 만들었나?\t부정적\t0.561\n",
      "아! 뭐야 진짜.\t부정적\t0.541\n",
      "재미있는데.\t긍정적\t0.576\n",
      "연기 짱 좋아. 한번 더 볼 의향도 있다.\t긍정적\t0.802\n",
      "뭐 그럭저럭\t긍정적\t0.504\n"
     ]
    }
   ],
   "source": [
    "predict(load_model, comment_list, input_tensor, device)"
   ]
  },
  {
   "cell_type": "code",
   "execution_count": 75,
   "id": "e265848b",
   "metadata": {},
   "outputs": [
    {
     "name": "stdout",
     "output_type": "stream",
     "text": [
      "분석하려는 댓글을 입력하세요. 종료하려면 '!quit'을 입력하세요.\n",
      "종료\n"
     ]
    }
   ],
   "source": [
    "print(\"분석하려는 댓글을 입력하세요. 종료하려면 '!quit'을 입력하세요.\")\n",
    "while True:\n",
    "\tcomment = input(\"댓글 : \")\n",
    "\tif comment == \"!quit\":\n",
    "\t\tprint(\"종료\")\n",
    "\t\t\n",
    "\t\tbreak\n",
    "\tcomment_list = [comment]\n",
    "\tinput_tensor = predict_data_preprocessing([comment])\n",
    "\tpredict(model, comment_list, input_tensor, device)"
   ]
  }
 ],
 "metadata": {
  "kernelspec": {
   "display_name": "dl",
   "language": "python",
   "name": "python3"
  },
  "language_info": {
   "codemirror_mode": {
    "name": "ipython",
    "version": 3
   },
   "file_extension": ".py",
   "mimetype": "text/x-python",
   "name": "python",
   "nbconvert_exporter": "python",
   "pygments_lexer": "ipython3",
   "version": "3.12.10"
  }
 },
 "nbformat": 4,
 "nbformat_minor": 5
}
