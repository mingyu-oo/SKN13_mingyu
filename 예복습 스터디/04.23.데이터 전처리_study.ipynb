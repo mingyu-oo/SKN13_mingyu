{
 "cells": [
  {
   "cell_type": "markdown",
   "id": "c2dcca1f",
   "metadata": {},
   "source": [
    "### Data 전처리(Data Preprocessing)란\n",
    "\n",
    "-   데이터 분석이나 머신러닝 모델에 적합한 형태로 데이터셋을 변환 또는 조정하는 과정을 말한다.\n",
    "-   데이터 분석, 머신러닝 모델링 전에 수행하는 작업이다.\n",
    "-   Garbage in, Garbage out.\n",
    "    -   좋은 dataset으로 학습 해야 좋은 예측 결과를 만드는 모델을 학습할 수 있다.\n",
    "    -   좋은 train dataset을 만드는 것은 모델의 성능에 가장 큰 영향을 준다.\n",
    "-   Data 전처리에는 다음과 같은 작업이 있다.\n",
    "    -   **Data Cleaning (데이터 정제)**\n",
    "        -   데이터셋에 있는 오류값, 불필요한 값, 결측치, 중복값 등을 제거하는 작업\n",
    "    -   **컬럼 선택 및 파생변수 생성**\n",
    "        -   컬럼들 중 분석에 필요한 컬럼들만 선택하거나 기존 컬럼들을 계산한 결과값을 가지는 파생변수를 생성한다.\n",
    "    -   **Feature의 데이터 타입 별 변환**\n",
    "        -   문자열을 날짜 타입으로 변환, 범주형을 수치형으로 변환등과 같이 원래 데이터의 형식에 맞게 변환하는 작업.\n",
    "        -   **수치형 데이터 Feature Scaling**\n",
    "            -   수치형 컬럼들의 scale(척도) 를 맞춰 주는 작업.\n",
    "        -   **범주형 데이터 인코딩**\n",
    "            -   문자열 형태로 되어있는 범주형 데이터를 숫자 형태로 변경하는 작업."
   ]
  },
  {
   "cell_type": "markdown",
   "id": "a8f1b2b1",
   "metadata": {},
   "source": [
    "### 결측치(Missing Value) 처리\n",
    "\n",
    "-   결측치(Missing Value)\n",
    "    -   수집하지 못한 값. 모르는 값. 없는 값\n",
    "    -   결측치 값은 `NA, NaN, None, null` 로 표현한다. (언어마다 차이가 있다.)\n",
    "-   결측치는 데이터 분석이나 머신러닝 모델링 전의 데이터 전처리 과정에서 처리해줘야 한다.\n"
   ]
  },
  {
   "cell_type": "markdown",
   "id": "91ca260e",
   "metadata": {},
   "source": [
    "#### 결측치 처리 방법\n",
    "\n",
    "결측치를 처리하기 전에 **\"이 값이 기록되지 않아서 누락된 것인가, 아니면 존재하지 않아서 누락된 것인가?\"** 를 확인해야 한다.  \n",
    "존재하지 않아서 누락된 값이라면 이것은 어떤 값일까 추측할 필요 없이 결측치로 유지하면 되지만  \n",
    "값이 기록되지 않아서(수집하지 못해서) 누락된 경우는 해당 열과 행의 다른 값을 기반으로 값이 무엇이었을지 추측해 볼 수 있다"
   ]
  },
  {
   "cell_type": "markdown",
   "id": "4490703d",
   "metadata": {},
   "source": [
    "- #### 결측치 삭제(Complete Case Analysis):\n",
    "\n",
    "    -   리스트와이즈 삭제(Listwise Deletion)\n",
    "        -   결측치가 있는 행들을 삭제한다.\n",
    "        -   수집한 데이터도 같이 삭제되는 단점이 있다.\n",
    "        -   데이터가 충분히 크고 결측치가 많지 않을 때 적합하다.\n",
    "    -   컬럼 삭제 (Drop column)\n",
    "        -   컬럼자체에 결측차가 너무 많을 경우 컬럼을 제거할 수도 있다."
   ]
  },
  {
   "cell_type": "code",
   "execution_count": null,
   "id": "d03ce54c",
   "metadata": {},
   "outputs": [],
   "source": [
    "import pandas as pd\n",
    "import numpy as np\n",
    "data = {\n",
    "    \"name\":['김영희', '이명수', '박진우', '이수영', '오영미'],\n",
    "    \"age\": [23, 18, 25, 32, np.nan], \n",
    "    \"weight\":[np.nan, 80, np.nan, 57, 48]\n",
    "}\n",
    "df = pd.DataFrame(data)\n",
    "df"
   ]
  },
  {
   "cell_type": "code",
   "execution_count": null,
   "id": "fbafcc99",
   "metadata": {},
   "outputs": [],
   "source": [
    "# 결측치 확인 - 전체\n",
    "df.isna().sum() # 컬럼별 결측치 개수"
   ]
  },
  {
   "cell_type": "code",
   "execution_count": null,
   "id": "5de8493c",
   "metadata": {},
   "outputs": [],
   "source": [
    "## 결측치 값 확인\n",
    "import numpy as np\n",
    "print(pd.isna(None))\n",
    "print(pd.isna(np.nan))\n",
    "print(np.nan == None)\n",
    "print(np.nan == np.nan)"
   ]
  },
  {
   "cell_type": "code",
   "execution_count": null,
   "id": "61422081",
   "metadata": {},
   "outputs": [],
   "source": [
    "# 제거 - 행단위(리스트와즈, 0축 기준 제거: default)\n",
    "df.dropna()"
   ]
  },
  {
   "cell_type": "code",
   "execution_count": null,
   "id": "6985d7d8",
   "metadata": {},
   "outputs": [],
   "source": [
    "# 컬럼단위 (1축 기준 삭제)\n",
    "df.dropna(axis=1)"
   ]
  },
  {
   "cell_type": "markdown",
   "id": "8a76896b",
   "metadata": {},
   "source": [
    "#### 2. 결측치 대체(imputation)\n",
    "\n",
    "결측치가 수집하지 못해 누락된 경우 그 값일 가능성이 가장 높은 값으로 대체할 수 있다.  \n",
    "대체할 값으로 일정한 값을 사용하는 경우와 분석을 통해 찾는 방법이 있다.\n",
    "\n",
    "-   **평균/중앙값/최빈값 대체**\n",
    "    -   수치형 변수의 경우 평균이나 중앙값으로, 범주형 변수의 경우 최빈값으로 결측치를 대체한다.\n",
    "    -   **평균으로 대체** - 수치형 컬럼으로 outlier(극단치)의 영향을 받지 않는 모델이거나 컬럼의 데이터들이 **정규 분포를 따르거나 outlier(극단치)가 없는 경우** 적합.\n",
    "    -   **중앙값으로 대체**\n",
    "        -   수치형 컬럼으로 outlier(극단치)가 존재하거나 데이터 분포가 비대칭인 컬럼의 결측치 대체에 적합.\n",
    "        -   보통 평균보다 중앙값을 사용한다.\n",
    "    -   **최빈값으로 대체**\n",
    "        -   범주형 컬럼의 경우 대푯값인 최빈값으로 대체한다.\n",
    "    \n",
    "-   **모델링 기반 대체**\n",
    "    -   결측치가 있는 컬럼을 output(종속변수)으로 결측치가 없는 행들(독립변수)을 input으로 하여 결측치를 예측하는 모델을 정의한다.\n",
    "    -   **K-최근접 이웃(K-NN) 대체**\n",
    "        -   결측치가 있는 데이터 포인트와 가장 가까운 K개의 데이터 포인트를 찾아, 그 값들의 평균(수치형 데이터)이나 최빈값(범주형 데이터)으로 결측치를 대체한다.\n",
    "-   **결측치를 표현하는 값으로 대체**\n",
    "    -   예를 들어 나이컬럼의 nan을 -1, 혈액형의 nan을 \"없음\" 등과 같이 그 컬럼이 가질 수없는 값을 nan 대신 사용한다.\n",
    "-   #### 다중 대체 (multiple imputation)\n",
    "    -   여러 방식으로 결측치를 대체한 데이터셋을 만든다. 각 데이터셋마다 분석하고 추론한 뒤 그 결과들을 합쳐서 최종 결론을 낸다.\n",
    "    "
   ]
  },
  {
   "cell_type": "code",
   "execution_count": null,
   "id": "0d52503d",
   "metadata": {},
   "outputs": [],
   "source": [
    "import pandas as pd\n",
    "import numpy as np\n",
    "\n",
    "df = pd.DataFrame([\n",
    "        [0.1, 2.2, np.nan],\n",
    "        [0.3, 4.1, 1], \n",
    "        [np.nan, 6, 1],\n",
    "        [0.08, np.nan, 2],\n",
    "        [0.12, 2.4, 1],\n",
    "        [np.nan, 1.1, 3]\n",
    "    ], columns=['A', 'B', 'C']\n",
    ")\n",
    "org = df.copy()"
   ]
  },
  {
   "cell_type": "code",
   "execution_count": null,
   "id": "6dfd322c",
   "metadata": {},
   "outputs": [],
   "source": [
    "df"
   ]
  },
  {
   "cell_type": "code",
   "execution_count": null,
   "id": "4527ba10",
   "metadata": {},
   "outputs": [],
   "source": [
    "# 컬럼별(속성) 처리.\n",
    "### 평균 대체\n",
    "df['A']  = df['A'].fillna(df['A'].mean())\n",
    "df"
   ]
  },
  {
   "cell_type": "code",
   "execution_count": null,
   "id": "4bd11cb2",
   "metadata": {},
   "outputs": [],
   "source": [
    "### 중앙값\n",
    "df['B'] = df['B'].fillna(df['B'].median())\n",
    "df"
   ]
  },
  {
   "cell_type": "code",
   "execution_count": null,
   "id": "a70e9404",
   "metadata": {},
   "outputs": [],
   "source": [
    "df['C'].mode()[0]"
   ]
  },
  {
   "cell_type": "code",
   "execution_count": null,
   "id": "eec5f24c",
   "metadata": {},
   "outputs": [],
   "source": [
    "### 최빈값(범주형)\n",
    "df['C'] = df['C'].fillna(df['C'].mode()[0])  # mode(): Series를 반환.\n",
    "df"
   ]
  },
  {
   "cell_type": "code",
   "execution_count": null,
   "id": "52cb85ed",
   "metadata": {},
   "outputs": [],
   "source": [
    "df = org.copy()\n",
    "df"
   ]
  },
  {
   "cell_type": "markdown",
   "id": "7673bb81",
   "metadata": {},
   "source": [
    "### scikit-learn 전처리기 이용한 대체\n",
    "\n",
    "#### SimpleImputer\n",
    "\n",
    "- **SimpleImputer**는 결측값을 대체하는 데 사용되는 전처리 클래스로  결측값을 평균, 중앙값, 최빈값 으로 대체한다.\n",
    "- **메소드**\n",
    "  - **initializer** 파라미터\n",
    "    - **strategy**: 어떤 값으로 대체할지 지정. \"median\": 중앙값, \"mean\": 평균, \"most_frequent\": 최빈값, \"constant\": 상수(fill_value=채울값) 중 하나 사용.\n",
    "  \n",
    "  \n",
    "#### KNNImputer\n",
    "- KNN(K-최근접 이웃(K-Nearest Neighbors) **머신러닝 알고리즘을 이용해 결측치를 추정해서 대체**한다.\n",
    "- 결측값이 있는 샘플의 최근접 이웃을 찾아 그 이웃들의 값을 평균내어 결측값을 대체한다.\n",
    "\n",
    "##### 공통 메소드(모든 전처리기의 공통)\n",
    "- fit()\n",
    "  - 변환할 때 필요한 값들을 찾아서 instance변수에 저장. (컬럼별 평균, 중앙값)\n",
    "- transform()\n",
    "  - fit에서 찾은 값을 이용해 결측치를 대체한다.\n",
    "- fit_transform() : fit(), transform()을 순서대로 한번에 처리."
   ]
  },
  {
   "cell_type": "code",
   "execution_count": null,
   "id": "b4fb7f9d",
   "metadata": {},
   "outputs": [],
   "source": [
    "df['C'].to_frame()"
   ]
  },
  {
   "cell_type": "code",
   "execution_count": null,
   "id": "8a874758",
   "metadata": {},
   "outputs": [],
   "source": [
    "########################################################\n",
    "# SimpleImputer 예제\n",
    "########################################################\n",
    "df = org.copy()\n",
    "\n",
    "from sklearn.impute import SimpleImputer\n",
    "# A, B (수치형) => 중앙값, C(범주형) => 최빈값\n",
    "imputer1 = SimpleImputer(strategy=\"median\")\n",
    "imputer2 = SimpleImputer(strategy=\"most_frequent\")\n",
    "\n",
    "imputer1.fit(df[['A', 'B']])  # 결측치를 어떤 값으로 바꿀지 학습. (2차원 -> 0축 기준으로 계산)\n",
    "result1 = imputer1.transform(df[['A', 'B']])  # 변환작업 (fit에서 찾은 중앙값으로 결측치를 대체)\n",
    "\n",
    "result2 = imputer2.fit_transform(df['C'].to_frame()) #series.to_frame() : Series->DataFrame\n",
    "# fit/transform 을 순서대로 실행. fit/transform을 같은 데이터셋으로 할 경우 사용.\n",
    "\n",
    "# result1, result2 하나로 합치기.\n",
    "## ndarray 합치는 함수: np.concatenate([대상 배열들], axis=합칠방향(default: 0))\n",
    "result = np.concatenate([result1, result2], axis=1)\n",
    "print(result.shape)\n",
    "result"
   ]
  }
 ],
 "metadata": {
  "kernelspec": {
   "display_name": "ml",
   "language": "python",
   "name": "python3"
  },
  "language_info": {
   "codemirror_mode": {
    "name": "ipython",
    "version": 3
   },
   "file_extension": ".py",
   "mimetype": "text/x-python",
   "name": "python",
   "nbconvert_exporter": "python",
   "pygments_lexer": "ipython3",
   "version": "3.12.9"
  }
 },
 "nbformat": 4,
 "nbformat_minor": 5
}
